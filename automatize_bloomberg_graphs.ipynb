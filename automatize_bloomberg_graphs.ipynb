{
  "nbformat": 4,
  "nbformat_minor": 0,
  "metadata": {
    "colab": {
      "provenance": [],
      "include_colab_link": true
    },
    "kernelspec": {
      "name": "python3",
      "display_name": "Python 3"
    },
    "language_info": {
      "name": "python"
    }
  },
  "cells": [
    {
      "cell_type": "markdown",
      "metadata": {
        "id": "view-in-github",
        "colab_type": "text"
      },
      "source": [
        "<a href=\"https://colab.research.google.com/github/paulajr/machine_learning/blob/main/automatize_bloomberg_graphs.ipynb\" target=\"_parent\"><img src=\"https://colab.research.google.com/assets/colab-badge.svg\" alt=\"Open In Colab\"/></a>"
      ]
    },
    {
      "cell_type": "markdown",
      "source": [
        "## **Trabajo de grado pasantias**\n",
        "Graficas codificadas con Bloomberg\n",
        "\n",
        "https://relopezbriega.github.io/blog/2016/09/26/series-de-tiempo-con-python/\n"
      ],
      "metadata": {
        "id": "TIMUHBiVhMeo"
      }
    },
    {
      "cell_type": "markdown",
      "source": [
        "**Contenido**"
      ],
      "metadata": {
        "id": "PRPZGA3MhtZB"
      }
    },
    {
      "cell_type": "code",
      "source": [
        "import pandas as pd #Sirve para importar bases de datos\n",
        "import matplotlib.pyplot as plt #Funciona para graficar\n",
        "import openpyxl\n",
        "from datetime import datetime"
      ],
      "metadata": {
        "id": "yVdA0sZthlva"
      },
      "execution_count": null,
      "outputs": []
    },
    {
      "cell_type": "markdown",
      "source": [
        "Importar bases de datos de Bloomfinex"
      ],
      "metadata": {
        "id": "OTA2xlPyh1ed"
      }
    },
    {
      "cell_type": "markdown",
      "source": [
        "## **Gráficas Comite de Tesoreria**"
      ],
      "metadata": {
        "id": "RCX_XZ6RGJqo"
      }
    },
    {
      "cell_type": "code",
      "source": [
        "df = openpyxl.load_workbook('/content/Tesoreria -Graphs-07092022.xlsx')\n",
        "#Se observan las hojas con sus respectivos nombres\n",
        "print(df.sheetnames)"
      ],
      "metadata": {
        "colab": {
          "base_uri": "https://localhost:8080/"
        },
        "id": "WJRX-24MCt1-",
        "outputId": "55168b0e-de7e-43af-afae-5362b2a71520"
      },
      "execution_count": null,
      "outputs": [
        {
          "output_type": "stream",
          "name": "stdout",
          "text": [
            "['Hoja2', 'Ref 10y LatAm Yield', 'Ref 10y LatAm Spread', 'EMBI Plus', 'CDS', 'Yield & Spread', 'VIXMOVE', 'GT2 GT10 & GT30', 'FED VS UST', 'Inflación y Desempleo US', 'pronostico tresuries 10 y 30 TG']\n"
          ]
        }
      ]
    },
    {
      "cell_type": "code",
      "source": [
        "df1 =pd.read_excel(\"/content/Tesoreria -Graphs-07092022.xlsx\",\n",
        "                   sheet_name='Ref 10y LatAm Yield',\n",
        "                   usecols='B:G')\n",
        "df2=df1.drop({0,1,2,3,4,5,6,7,8,9,10,11,12,13,14})\n",
        "Latam_Yield_10y = df2.rename({'   Unnamed:1 ':'Date','Unnamed: 2\t':'Colombia', 'Unnamed: 3\t':'Peru', 'Unnamed: 4\t':'Brasil', 'Unnamed: 5\t':'Mexico', 'Unnamed: 6\t':'Chile' })\n",
        "Latam_Yield_10y"
      ],
      "metadata": {
        "colab": {
          "base_uri": "https://localhost:8080/",
          "height": 423
        },
        "id": "Ak7-YGrhGobK",
        "outputId": "deaf66d1-5061-4be1-96fe-11bfb02ec107"
      },
      "execution_count": null,
      "outputs": [
        {
          "output_type": "execute_result",
          "data": {
            "text/plain": [
              "               Unnamed: 1 Unnamed: 2 Unnamed: 3 Unnamed: 4 Unnamed: 5  \\\n",
              "15    2019-01-01 00:00:00    4.59439      3.681      5.158      4.611   \n",
              "16    2019-01-02 00:00:00   4.614018      3.669      5.097      4.581   \n",
              "17    2019-01-03 00:00:00   4.539875      3.622      4.998       4.49   \n",
              "18    2019-01-04 00:00:00   4.440784      3.598      4.937      4.418   \n",
              "19    2019-01-05 00:00:00   4.440784      3.598      4.937      4.418   \n",
              "...                   ...        ...        ...        ...        ...   \n",
              "1434  2022-11-19 00:00:00      7.578      5.381      6.283       5.89   \n",
              "1435  2022-11-20 00:00:00      7.578      5.381      6.283       5.89   \n",
              "1436  2022-11-21 00:00:00      7.552      5.349      6.275      5.844   \n",
              "1437  2022-11-22 00:00:00      7.449      5.277      6.188      5.727   \n",
              "1438  2022-11-23 00:00:00      7.391      5.207      6.117       5.69   \n",
              "\n",
              "     Unnamed: 6  \n",
              "15        3.772  \n",
              "16        3.751  \n",
              "17        3.694  \n",
              "18        3.636  \n",
              "19        3.636  \n",
              "...         ...  \n",
              "1434      5.137  \n",
              "1435      5.137  \n",
              "1436      5.149  \n",
              "1437      5.109  \n",
              "1438      5.077  \n",
              "\n",
              "[1424 rows x 6 columns]"
            ],
            "text/html": [
              "\n",
              "  <div id=\"df-a03db9d3-5f9a-4b14-9b5a-3407c61d7a9f\">\n",
              "    <div class=\"colab-df-container\">\n",
              "      <div>\n",
              "<style scoped>\n",
              "    .dataframe tbody tr th:only-of-type {\n",
              "        vertical-align: middle;\n",
              "    }\n",
              "\n",
              "    .dataframe tbody tr th {\n",
              "        vertical-align: top;\n",
              "    }\n",
              "\n",
              "    .dataframe thead th {\n",
              "        text-align: right;\n",
              "    }\n",
              "</style>\n",
              "<table border=\"1\" class=\"dataframe\">\n",
              "  <thead>\n",
              "    <tr style=\"text-align: right;\">\n",
              "      <th></th>\n",
              "      <th>Unnamed: 1</th>\n",
              "      <th>Unnamed: 2</th>\n",
              "      <th>Unnamed: 3</th>\n",
              "      <th>Unnamed: 4</th>\n",
              "      <th>Unnamed: 5</th>\n",
              "      <th>Unnamed: 6</th>\n",
              "    </tr>\n",
              "  </thead>\n",
              "  <tbody>\n",
              "    <tr>\n",
              "      <th>15</th>\n",
              "      <td>2019-01-01 00:00:00</td>\n",
              "      <td>4.59439</td>\n",
              "      <td>3.681</td>\n",
              "      <td>5.158</td>\n",
              "      <td>4.611</td>\n",
              "      <td>3.772</td>\n",
              "    </tr>\n",
              "    <tr>\n",
              "      <th>16</th>\n",
              "      <td>2019-01-02 00:00:00</td>\n",
              "      <td>4.614018</td>\n",
              "      <td>3.669</td>\n",
              "      <td>5.097</td>\n",
              "      <td>4.581</td>\n",
              "      <td>3.751</td>\n",
              "    </tr>\n",
              "    <tr>\n",
              "      <th>17</th>\n",
              "      <td>2019-01-03 00:00:00</td>\n",
              "      <td>4.539875</td>\n",
              "      <td>3.622</td>\n",
              "      <td>4.998</td>\n",
              "      <td>4.49</td>\n",
              "      <td>3.694</td>\n",
              "    </tr>\n",
              "    <tr>\n",
              "      <th>18</th>\n",
              "      <td>2019-01-04 00:00:00</td>\n",
              "      <td>4.440784</td>\n",
              "      <td>3.598</td>\n",
              "      <td>4.937</td>\n",
              "      <td>4.418</td>\n",
              "      <td>3.636</td>\n",
              "    </tr>\n",
              "    <tr>\n",
              "      <th>19</th>\n",
              "      <td>2019-01-05 00:00:00</td>\n",
              "      <td>4.440784</td>\n",
              "      <td>3.598</td>\n",
              "      <td>4.937</td>\n",
              "      <td>4.418</td>\n",
              "      <td>3.636</td>\n",
              "    </tr>\n",
              "    <tr>\n",
              "      <th>...</th>\n",
              "      <td>...</td>\n",
              "      <td>...</td>\n",
              "      <td>...</td>\n",
              "      <td>...</td>\n",
              "      <td>...</td>\n",
              "      <td>...</td>\n",
              "    </tr>\n",
              "    <tr>\n",
              "      <th>1434</th>\n",
              "      <td>2022-11-19 00:00:00</td>\n",
              "      <td>7.578</td>\n",
              "      <td>5.381</td>\n",
              "      <td>6.283</td>\n",
              "      <td>5.89</td>\n",
              "      <td>5.137</td>\n",
              "    </tr>\n",
              "    <tr>\n",
              "      <th>1435</th>\n",
              "      <td>2022-11-20 00:00:00</td>\n",
              "      <td>7.578</td>\n",
              "      <td>5.381</td>\n",
              "      <td>6.283</td>\n",
              "      <td>5.89</td>\n",
              "      <td>5.137</td>\n",
              "    </tr>\n",
              "    <tr>\n",
              "      <th>1436</th>\n",
              "      <td>2022-11-21 00:00:00</td>\n",
              "      <td>7.552</td>\n",
              "      <td>5.349</td>\n",
              "      <td>6.275</td>\n",
              "      <td>5.844</td>\n",
              "      <td>5.149</td>\n",
              "    </tr>\n",
              "    <tr>\n",
              "      <th>1437</th>\n",
              "      <td>2022-11-22 00:00:00</td>\n",
              "      <td>7.449</td>\n",
              "      <td>5.277</td>\n",
              "      <td>6.188</td>\n",
              "      <td>5.727</td>\n",
              "      <td>5.109</td>\n",
              "    </tr>\n",
              "    <tr>\n",
              "      <th>1438</th>\n",
              "      <td>2022-11-23 00:00:00</td>\n",
              "      <td>7.391</td>\n",
              "      <td>5.207</td>\n",
              "      <td>6.117</td>\n",
              "      <td>5.69</td>\n",
              "      <td>5.077</td>\n",
              "    </tr>\n",
              "  </tbody>\n",
              "</table>\n",
              "<p>1424 rows × 6 columns</p>\n",
              "</div>\n",
              "      <button class=\"colab-df-convert\" onclick=\"convertToInteractive('df-a03db9d3-5f9a-4b14-9b5a-3407c61d7a9f')\"\n",
              "              title=\"Convert this dataframe to an interactive table.\"\n",
              "              style=\"display:none;\">\n",
              "        \n",
              "  <svg xmlns=\"http://www.w3.org/2000/svg\" height=\"24px\"viewBox=\"0 0 24 24\"\n",
              "       width=\"24px\">\n",
              "    <path d=\"M0 0h24v24H0V0z\" fill=\"none\"/>\n",
              "    <path d=\"M18.56 5.44l.94 2.06.94-2.06 2.06-.94-2.06-.94-.94-2.06-.94 2.06-2.06.94zm-11 1L8.5 8.5l.94-2.06 2.06-.94-2.06-.94L8.5 2.5l-.94 2.06-2.06.94zm10 10l.94 2.06.94-2.06 2.06-.94-2.06-.94-.94-2.06-.94 2.06-2.06.94z\"/><path d=\"M17.41 7.96l-1.37-1.37c-.4-.4-.92-.59-1.43-.59-.52 0-1.04.2-1.43.59L10.3 9.45l-7.72 7.72c-.78.78-.78 2.05 0 2.83L4 21.41c.39.39.9.59 1.41.59.51 0 1.02-.2 1.41-.59l7.78-7.78 2.81-2.81c.8-.78.8-2.07 0-2.86zM5.41 20L4 18.59l7.72-7.72 1.47 1.35L5.41 20z\"/>\n",
              "  </svg>\n",
              "      </button>\n",
              "      \n",
              "  <style>\n",
              "    .colab-df-container {\n",
              "      display:flex;\n",
              "      flex-wrap:wrap;\n",
              "      gap: 12px;\n",
              "    }\n",
              "\n",
              "    .colab-df-convert {\n",
              "      background-color: #E8F0FE;\n",
              "      border: none;\n",
              "      border-radius: 50%;\n",
              "      cursor: pointer;\n",
              "      display: none;\n",
              "      fill: #1967D2;\n",
              "      height: 32px;\n",
              "      padding: 0 0 0 0;\n",
              "      width: 32px;\n",
              "    }\n",
              "\n",
              "    .colab-df-convert:hover {\n",
              "      background-color: #E2EBFA;\n",
              "      box-shadow: 0px 1px 2px rgba(60, 64, 67, 0.3), 0px 1px 3px 1px rgba(60, 64, 67, 0.15);\n",
              "      fill: #174EA6;\n",
              "    }\n",
              "\n",
              "    [theme=dark] .colab-df-convert {\n",
              "      background-color: #3B4455;\n",
              "      fill: #D2E3FC;\n",
              "    }\n",
              "\n",
              "    [theme=dark] .colab-df-convert:hover {\n",
              "      background-color: #434B5C;\n",
              "      box-shadow: 0px 1px 3px 1px rgba(0, 0, 0, 0.15);\n",
              "      filter: drop-shadow(0px 1px 2px rgba(0, 0, 0, 0.3));\n",
              "      fill: #FFFFFF;\n",
              "    }\n",
              "  </style>\n",
              "\n",
              "      <script>\n",
              "        const buttonEl =\n",
              "          document.querySelector('#df-a03db9d3-5f9a-4b14-9b5a-3407c61d7a9f button.colab-df-convert');\n",
              "        buttonEl.style.display =\n",
              "          google.colab.kernel.accessAllowed ? 'block' : 'none';\n",
              "\n",
              "        async function convertToInteractive(key) {\n",
              "          const element = document.querySelector('#df-a03db9d3-5f9a-4b14-9b5a-3407c61d7a9f');\n",
              "          const dataTable =\n",
              "            await google.colab.kernel.invokeFunction('convertToInteractive',\n",
              "                                                     [key], {});\n",
              "          if (!dataTable) return;\n",
              "\n",
              "          const docLinkHtml = 'Like what you see? Visit the ' +\n",
              "            '<a target=\"_blank\" href=https://colab.research.google.com/notebooks/data_table.ipynb>data table notebook</a>'\n",
              "            + ' to learn more about interactive tables.';\n",
              "          element.innerHTML = '';\n",
              "          dataTable['output_type'] = 'display_data';\n",
              "          await google.colab.output.renderOutput(dataTable, element);\n",
              "          const docLink = document.createElement('div');\n",
              "          docLink.innerHTML = docLinkHtml;\n",
              "          element.appendChild(docLink);\n",
              "        }\n",
              "      </script>\n",
              "    </div>\n",
              "  </div>\n",
              "  "
            ]
          },
          "metadata": {},
          "execution_count": 65
        }
      ]
    },
    {
      "cell_type": "code",
      "source": [
        "Latam_Yield_10y.mean()"
      ],
      "metadata": {
        "colab": {
          "base_uri": "https://localhost:8080/"
        },
        "id": "p3_CdjMsQa7K",
        "outputId": "6f0f1ea5-7ede-402d-8949-c045b87c831b"
      },
      "execution_count": null,
      "outputs": [
        {
          "output_type": "stream",
          "name": "stderr",
          "text": [
            "<ipython-input-66-3daa9966db50>:1: FutureWarning: Dropping of nuisance columns in DataFrame reductions (with 'numeric_only=None') is deprecated; in a future version this will raise TypeError.  Select only valid columns before calling the reduction.\n",
            "  Latam_Yield_10y.mean()\n"
          ]
        },
        {
          "output_type": "execute_result",
          "data": {
            "text/plain": [
              "Unnamed: 2    4.131338\n",
              "Unnamed: 3    2.974600\n",
              "Unnamed: 4    4.439597\n",
              "Unnamed: 5    3.750088\n",
              "Unnamed: 6    2.911284\n",
              "dtype: float64"
            ]
          },
          "metadata": {},
          "execution_count": 66
        }
      ]
    },
    {
      "cell_type": "code",
      "source": [
        "Latam_Yield_10y.plot"
      ],
      "metadata": {
        "colab": {
          "base_uri": "https://localhost:8080/"
        },
        "id": "Mj5SoGp9Qr4B",
        "outputId": "b35f244d-481a-4a3c-e980-f901a0847d9f"
      },
      "execution_count": null,
      "outputs": [
        {
          "output_type": "execute_result",
          "data": {
            "text/plain": [
              "<pandas.plotting._core.PlotAccessor object at 0x7fa6c7a62820>"
            ]
          },
          "metadata": {},
          "execution_count": 71
        }
      ]
    },
    {
      "cell_type": "markdown",
      "source": [
        "### **Gráficas de Tesoros 2 y 10 años**"
      ],
      "metadata": {
        "id": "YdHBYYl69u7g"
      }
    },
    {
      "cell_type": "code",
      "source": [
        "#Se importa el archivo de excel que\n",
        "df = pd.read_excel(\"/content/Tesoros USA.xlsx\")"
      ],
      "metadata": {
        "id": "3y2Oxaie-MkW"
      },
      "execution_count": null,
      "outputs": []
    },
    {
      "cell_type": "code",
      "source": [
        "df1=df.drop(['Unnamed: 3','Unnamed: 7', 'Unnamed: 8', 'Security.1'], axis=1)\n",
        "df2=df1.drop({0,1,2,3})"
      ],
      "metadata": {
        "id": "bCE5WkbHJ0K2"
      },
      "execution_count": null,
      "outputs": []
    },
    {
      "cell_type": "code",
      "source": [
        "Tesoros=df2.rename({'Security':'Date','GT10 Govt                                                       ':'GT10_Yield','Unnamed: 2':'GT10_PX', 'GT02 Govt                                                       ':'GT02_Yield', 'Unnamed: 6':'GT02_PX'}, axis=1).drop(4)\n",
        "Tesoros"
      ],
      "metadata": {
        "colab": {
          "base_uri": "https://localhost:8080/",
          "height": 423
        },
        "id": "BExSUp3jLzOb",
        "outputId": "be0997f2-46e5-46ca-93a9-e58f74fbd391"
      },
      "execution_count": null,
      "outputs": [
        {
          "output_type": "execute_result",
          "data": {
            "text/plain": [
              "                     Date GT10_Yield GT10_PX GT02_Yield GT02_PX\n",
              "5     2022-11-23 00:00:00      3.698   3.698      4.486   4.486\n",
              "6     2022-11-22 00:00:00      3.758   3.758      4.519   4.519\n",
              "7     2022-11-21 00:00:00      3.833   3.833      4.561   4.561\n",
              "8     2022-11-18 00:00:00      3.831   3.831      4.539   4.539\n",
              "9     2022-11-17 00:00:00      3.771   3.771      4.456   4.456\n",
              "...                   ...        ...     ...        ...     ...\n",
              "3654  2008-11-27 00:00:00      2.981   2.981      1.099   1.099\n",
              "3655  2008-11-26 00:00:00      2.982   2.982      1.099   1.099\n",
              "3656  2008-11-25 00:00:00      3.111   3.111      1.186   1.186\n",
              "3657  2008-11-24 00:00:00      3.327   3.327      1.212   1.212\n",
              "3658  2008-11-21 00:00:00      3.201   3.201      1.107   1.107\n",
              "\n",
              "[3654 rows x 5 columns]"
            ],
            "text/html": [
              "\n",
              "  <div id=\"df-f8d545c7-0cd5-4a96-9185-3e5d58304918\">\n",
              "    <div class=\"colab-df-container\">\n",
              "      <div>\n",
              "<style scoped>\n",
              "    .dataframe tbody tr th:only-of-type {\n",
              "        vertical-align: middle;\n",
              "    }\n",
              "\n",
              "    .dataframe tbody tr th {\n",
              "        vertical-align: top;\n",
              "    }\n",
              "\n",
              "    .dataframe thead th {\n",
              "        text-align: right;\n",
              "    }\n",
              "</style>\n",
              "<table border=\"1\" class=\"dataframe\">\n",
              "  <thead>\n",
              "    <tr style=\"text-align: right;\">\n",
              "      <th></th>\n",
              "      <th>Date</th>\n",
              "      <th>GT10_Yield</th>\n",
              "      <th>GT10_PX</th>\n",
              "      <th>GT02_Yield</th>\n",
              "      <th>GT02_PX</th>\n",
              "    </tr>\n",
              "  </thead>\n",
              "  <tbody>\n",
              "    <tr>\n",
              "      <th>5</th>\n",
              "      <td>2022-11-23 00:00:00</td>\n",
              "      <td>3.698</td>\n",
              "      <td>3.698</td>\n",
              "      <td>4.486</td>\n",
              "      <td>4.486</td>\n",
              "    </tr>\n",
              "    <tr>\n",
              "      <th>6</th>\n",
              "      <td>2022-11-22 00:00:00</td>\n",
              "      <td>3.758</td>\n",
              "      <td>3.758</td>\n",
              "      <td>4.519</td>\n",
              "      <td>4.519</td>\n",
              "    </tr>\n",
              "    <tr>\n",
              "      <th>7</th>\n",
              "      <td>2022-11-21 00:00:00</td>\n",
              "      <td>3.833</td>\n",
              "      <td>3.833</td>\n",
              "      <td>4.561</td>\n",
              "      <td>4.561</td>\n",
              "    </tr>\n",
              "    <tr>\n",
              "      <th>8</th>\n",
              "      <td>2022-11-18 00:00:00</td>\n",
              "      <td>3.831</td>\n",
              "      <td>3.831</td>\n",
              "      <td>4.539</td>\n",
              "      <td>4.539</td>\n",
              "    </tr>\n",
              "    <tr>\n",
              "      <th>9</th>\n",
              "      <td>2022-11-17 00:00:00</td>\n",
              "      <td>3.771</td>\n",
              "      <td>3.771</td>\n",
              "      <td>4.456</td>\n",
              "      <td>4.456</td>\n",
              "    </tr>\n",
              "    <tr>\n",
              "      <th>...</th>\n",
              "      <td>...</td>\n",
              "      <td>...</td>\n",
              "      <td>...</td>\n",
              "      <td>...</td>\n",
              "      <td>...</td>\n",
              "    </tr>\n",
              "    <tr>\n",
              "      <th>3654</th>\n",
              "      <td>2008-11-27 00:00:00</td>\n",
              "      <td>2.981</td>\n",
              "      <td>2.981</td>\n",
              "      <td>1.099</td>\n",
              "      <td>1.099</td>\n",
              "    </tr>\n",
              "    <tr>\n",
              "      <th>3655</th>\n",
              "      <td>2008-11-26 00:00:00</td>\n",
              "      <td>2.982</td>\n",
              "      <td>2.982</td>\n",
              "      <td>1.099</td>\n",
              "      <td>1.099</td>\n",
              "    </tr>\n",
              "    <tr>\n",
              "      <th>3656</th>\n",
              "      <td>2008-11-25 00:00:00</td>\n",
              "      <td>3.111</td>\n",
              "      <td>3.111</td>\n",
              "      <td>1.186</td>\n",
              "      <td>1.186</td>\n",
              "    </tr>\n",
              "    <tr>\n",
              "      <th>3657</th>\n",
              "      <td>2008-11-24 00:00:00</td>\n",
              "      <td>3.327</td>\n",
              "      <td>3.327</td>\n",
              "      <td>1.212</td>\n",
              "      <td>1.212</td>\n",
              "    </tr>\n",
              "    <tr>\n",
              "      <th>3658</th>\n",
              "      <td>2008-11-21 00:00:00</td>\n",
              "      <td>3.201</td>\n",
              "      <td>3.201</td>\n",
              "      <td>1.107</td>\n",
              "      <td>1.107</td>\n",
              "    </tr>\n",
              "  </tbody>\n",
              "</table>\n",
              "<p>3654 rows × 5 columns</p>\n",
              "</div>\n",
              "      <button class=\"colab-df-convert\" onclick=\"convertToInteractive('df-f8d545c7-0cd5-4a96-9185-3e5d58304918')\"\n",
              "              title=\"Convert this dataframe to an interactive table.\"\n",
              "              style=\"display:none;\">\n",
              "        \n",
              "  <svg xmlns=\"http://www.w3.org/2000/svg\" height=\"24px\"viewBox=\"0 0 24 24\"\n",
              "       width=\"24px\">\n",
              "    <path d=\"M0 0h24v24H0V0z\" fill=\"none\"/>\n",
              "    <path d=\"M18.56 5.44l.94 2.06.94-2.06 2.06-.94-2.06-.94-.94-2.06-.94 2.06-2.06.94zm-11 1L8.5 8.5l.94-2.06 2.06-.94-2.06-.94L8.5 2.5l-.94 2.06-2.06.94zm10 10l.94 2.06.94-2.06 2.06-.94-2.06-.94-.94-2.06-.94 2.06-2.06.94z\"/><path d=\"M17.41 7.96l-1.37-1.37c-.4-.4-.92-.59-1.43-.59-.52 0-1.04.2-1.43.59L10.3 9.45l-7.72 7.72c-.78.78-.78 2.05 0 2.83L4 21.41c.39.39.9.59 1.41.59.51 0 1.02-.2 1.41-.59l7.78-7.78 2.81-2.81c.8-.78.8-2.07 0-2.86zM5.41 20L4 18.59l7.72-7.72 1.47 1.35L5.41 20z\"/>\n",
              "  </svg>\n",
              "      </button>\n",
              "      \n",
              "  <style>\n",
              "    .colab-df-container {\n",
              "      display:flex;\n",
              "      flex-wrap:wrap;\n",
              "      gap: 12px;\n",
              "    }\n",
              "\n",
              "    .colab-df-convert {\n",
              "      background-color: #E8F0FE;\n",
              "      border: none;\n",
              "      border-radius: 50%;\n",
              "      cursor: pointer;\n",
              "      display: none;\n",
              "      fill: #1967D2;\n",
              "      height: 32px;\n",
              "      padding: 0 0 0 0;\n",
              "      width: 32px;\n",
              "    }\n",
              "\n",
              "    .colab-df-convert:hover {\n",
              "      background-color: #E2EBFA;\n",
              "      box-shadow: 0px 1px 2px rgba(60, 64, 67, 0.3), 0px 1px 3px 1px rgba(60, 64, 67, 0.15);\n",
              "      fill: #174EA6;\n",
              "    }\n",
              "\n",
              "    [theme=dark] .colab-df-convert {\n",
              "      background-color: #3B4455;\n",
              "      fill: #D2E3FC;\n",
              "    }\n",
              "\n",
              "    [theme=dark] .colab-df-convert:hover {\n",
              "      background-color: #434B5C;\n",
              "      box-shadow: 0px 1px 3px 1px rgba(0, 0, 0, 0.15);\n",
              "      filter: drop-shadow(0px 1px 2px rgba(0, 0, 0, 0.3));\n",
              "      fill: #FFFFFF;\n",
              "    }\n",
              "  </style>\n",
              "\n",
              "      <script>\n",
              "        const buttonEl =\n",
              "          document.querySelector('#df-f8d545c7-0cd5-4a96-9185-3e5d58304918 button.colab-df-convert');\n",
              "        buttonEl.style.display =\n",
              "          google.colab.kernel.accessAllowed ? 'block' : 'none';\n",
              "\n",
              "        async function convertToInteractive(key) {\n",
              "          const element = document.querySelector('#df-f8d545c7-0cd5-4a96-9185-3e5d58304918');\n",
              "          const dataTable =\n",
              "            await google.colab.kernel.invokeFunction('convertToInteractive',\n",
              "                                                     [key], {});\n",
              "          if (!dataTable) return;\n",
              "\n",
              "          const docLinkHtml = 'Like what you see? Visit the ' +\n",
              "            '<a target=\"_blank\" href=https://colab.research.google.com/notebooks/data_table.ipynb>data table notebook</a>'\n",
              "            + ' to learn more about interactive tables.';\n",
              "          element.innerHTML = '';\n",
              "          dataTable['output_type'] = 'display_data';\n",
              "          await google.colab.output.renderOutput(dataTable, element);\n",
              "          const docLink = document.createElement('div');\n",
              "          docLink.innerHTML = docLinkHtml;\n",
              "          element.appendChild(docLink);\n",
              "        }\n",
              "      </script>\n",
              "    </div>\n",
              "  </div>\n",
              "  "
            ]
          },
          "metadata": {},
          "execution_count": 80
        }
      ]
    },
    {
      "cell_type": "code",
      "source": [
        "Tesoros.info()"
      ],
      "metadata": {
        "colab": {
          "base_uri": "https://localhost:8080/"
        },
        "id": "DRmxVptpUpfl",
        "outputId": "7696bd3d-67e0-4945-a64b-f78afe123ca4"
      },
      "execution_count": null,
      "outputs": [
        {
          "output_type": "stream",
          "name": "stdout",
          "text": [
            "<class 'pandas.core.frame.DataFrame'>\n",
            "Int64Index: 3654 entries, 5 to 3658\n",
            "Data columns (total 5 columns):\n",
            " #   Column      Non-Null Count  Dtype \n",
            "---  ------      --------------  ----- \n",
            " 0   Date        3654 non-null   object\n",
            " 1   GT10_Yield  3654 non-null   object\n",
            " 2   GT10_PX     3654 non-null   object\n",
            " 3   GT02_Yield  3654 non-null   object\n",
            " 4   GT02_PX     3654 non-null   object\n",
            "dtypes: object(5)\n",
            "memory usage: 171.3+ KB\n"
          ]
        }
      ]
    },
    {
      "cell_type": "code",
      "source": [
        "Tesoros.describe()"
      ],
      "metadata": {
        "colab": {
          "base_uri": "https://localhost:8080/",
          "height": 175
        },
        "id": "yrZd1P6tiG1l",
        "outputId": "8bd6758d-cd60-47f5-a7d1-42f6845502bd"
      },
      "execution_count": null,
      "outputs": [
        {
          "output_type": "execute_result",
          "data": {
            "text/plain": [
              "                       Date  GT10_Yield   GT10_PX  GT02_Yield   GT02_PX\n",
              "count                  3654    3654.000  3654.000    3654.000  3654.000\n",
              "unique                 3654    1953.000  1953.000    1540.000  1540.000\n",
              "top     2022-11-23 00:00:00       2.741     2.741       0.266     0.266\n",
              "freq                      1       9.000     9.000      27.000    27.000"
            ],
            "text/html": [
              "\n",
              "  <div id=\"df-3d1cb44d-89a6-4fac-9497-9e5e7aeeef60\">\n",
              "    <div class=\"colab-df-container\">\n",
              "      <div>\n",
              "<style scoped>\n",
              "    .dataframe tbody tr th:only-of-type {\n",
              "        vertical-align: middle;\n",
              "    }\n",
              "\n",
              "    .dataframe tbody tr th {\n",
              "        vertical-align: top;\n",
              "    }\n",
              "\n",
              "    .dataframe thead th {\n",
              "        text-align: right;\n",
              "    }\n",
              "</style>\n",
              "<table border=\"1\" class=\"dataframe\">\n",
              "  <thead>\n",
              "    <tr style=\"text-align: right;\">\n",
              "      <th></th>\n",
              "      <th>Date</th>\n",
              "      <th>GT10_Yield</th>\n",
              "      <th>GT10_PX</th>\n",
              "      <th>GT02_Yield</th>\n",
              "      <th>GT02_PX</th>\n",
              "    </tr>\n",
              "  </thead>\n",
              "  <tbody>\n",
              "    <tr>\n",
              "      <th>count</th>\n",
              "      <td>3654</td>\n",
              "      <td>3654.000</td>\n",
              "      <td>3654.000</td>\n",
              "      <td>3654.000</td>\n",
              "      <td>3654.000</td>\n",
              "    </tr>\n",
              "    <tr>\n",
              "      <th>unique</th>\n",
              "      <td>3654</td>\n",
              "      <td>1953.000</td>\n",
              "      <td>1953.000</td>\n",
              "      <td>1540.000</td>\n",
              "      <td>1540.000</td>\n",
              "    </tr>\n",
              "    <tr>\n",
              "      <th>top</th>\n",
              "      <td>2022-11-23 00:00:00</td>\n",
              "      <td>2.741</td>\n",
              "      <td>2.741</td>\n",
              "      <td>0.266</td>\n",
              "      <td>0.266</td>\n",
              "    </tr>\n",
              "    <tr>\n",
              "      <th>freq</th>\n",
              "      <td>1</td>\n",
              "      <td>9.000</td>\n",
              "      <td>9.000</td>\n",
              "      <td>27.000</td>\n",
              "      <td>27.000</td>\n",
              "    </tr>\n",
              "  </tbody>\n",
              "</table>\n",
              "</div>\n",
              "      <button class=\"colab-df-convert\" onclick=\"convertToInteractive('df-3d1cb44d-89a6-4fac-9497-9e5e7aeeef60')\"\n",
              "              title=\"Convert this dataframe to an interactive table.\"\n",
              "              style=\"display:none;\">\n",
              "        \n",
              "  <svg xmlns=\"http://www.w3.org/2000/svg\" height=\"24px\"viewBox=\"0 0 24 24\"\n",
              "       width=\"24px\">\n",
              "    <path d=\"M0 0h24v24H0V0z\" fill=\"none\"/>\n",
              "    <path d=\"M18.56 5.44l.94 2.06.94-2.06 2.06-.94-2.06-.94-.94-2.06-.94 2.06-2.06.94zm-11 1L8.5 8.5l.94-2.06 2.06-.94-2.06-.94L8.5 2.5l-.94 2.06-2.06.94zm10 10l.94 2.06.94-2.06 2.06-.94-2.06-.94-.94-2.06-.94 2.06-2.06.94z\"/><path d=\"M17.41 7.96l-1.37-1.37c-.4-.4-.92-.59-1.43-.59-.52 0-1.04.2-1.43.59L10.3 9.45l-7.72 7.72c-.78.78-.78 2.05 0 2.83L4 21.41c.39.39.9.59 1.41.59.51 0 1.02-.2 1.41-.59l7.78-7.78 2.81-2.81c.8-.78.8-2.07 0-2.86zM5.41 20L4 18.59l7.72-7.72 1.47 1.35L5.41 20z\"/>\n",
              "  </svg>\n",
              "      </button>\n",
              "      \n",
              "  <style>\n",
              "    .colab-df-container {\n",
              "      display:flex;\n",
              "      flex-wrap:wrap;\n",
              "      gap: 12px;\n",
              "    }\n",
              "\n",
              "    .colab-df-convert {\n",
              "      background-color: #E8F0FE;\n",
              "      border: none;\n",
              "      border-radius: 50%;\n",
              "      cursor: pointer;\n",
              "      display: none;\n",
              "      fill: #1967D2;\n",
              "      height: 32px;\n",
              "      padding: 0 0 0 0;\n",
              "      width: 32px;\n",
              "    }\n",
              "\n",
              "    .colab-df-convert:hover {\n",
              "      background-color: #E2EBFA;\n",
              "      box-shadow: 0px 1px 2px rgba(60, 64, 67, 0.3), 0px 1px 3px 1px rgba(60, 64, 67, 0.15);\n",
              "      fill: #174EA6;\n",
              "    }\n",
              "\n",
              "    [theme=dark] .colab-df-convert {\n",
              "      background-color: #3B4455;\n",
              "      fill: #D2E3FC;\n",
              "    }\n",
              "\n",
              "    [theme=dark] .colab-df-convert:hover {\n",
              "      background-color: #434B5C;\n",
              "      box-shadow: 0px 1px 3px 1px rgba(0, 0, 0, 0.15);\n",
              "      filter: drop-shadow(0px 1px 2px rgba(0, 0, 0, 0.3));\n",
              "      fill: #FFFFFF;\n",
              "    }\n",
              "  </style>\n",
              "\n",
              "      <script>\n",
              "        const buttonEl =\n",
              "          document.querySelector('#df-3d1cb44d-89a6-4fac-9497-9e5e7aeeef60 button.colab-df-convert');\n",
              "        buttonEl.style.display =\n",
              "          google.colab.kernel.accessAllowed ? 'block' : 'none';\n",
              "\n",
              "        async function convertToInteractive(key) {\n",
              "          const element = document.querySelector('#df-3d1cb44d-89a6-4fac-9497-9e5e7aeeef60');\n",
              "          const dataTable =\n",
              "            await google.colab.kernel.invokeFunction('convertToInteractive',\n",
              "                                                     [key], {});\n",
              "          if (!dataTable) return;\n",
              "\n",
              "          const docLinkHtml = 'Like what you see? Visit the ' +\n",
              "            '<a target=\"_blank\" href=https://colab.research.google.com/notebooks/data_table.ipynb>data table notebook</a>'\n",
              "            + ' to learn more about interactive tables.';\n",
              "          element.innerHTML = '';\n",
              "          dataTable['output_type'] = 'display_data';\n",
              "          await google.colab.output.renderOutput(dataTable, element);\n",
              "          const docLink = document.createElement('div');\n",
              "          docLink.innerHTML = docLinkHtml;\n",
              "          element.appendChild(docLink);\n",
              "        }\n",
              "      </script>\n",
              "    </div>\n",
              "  </div>\n",
              "  "
            ]
          },
          "metadata": {},
          "execution_count": 82
        }
      ]
    },
    {
      "cell_type": "code",
      "source": [
        "var_diaGT10= (Tesoros['GT10_Yield'] / Tesoros['GT10_Yield'].shift(1) - 1) *100\n",
        "Tesoros['var_GT10'] = var_diaGT10\n",
        "Tesoros['var_GT10']"
      ],
      "metadata": {
        "colab": {
          "base_uri": "https://localhost:8080/"
        },
        "id": "kAZxvfYMoU4k",
        "outputId": "b5318165-e75e-43fe-de7f-51b4a932ef46"
      },
      "execution_count": null,
      "outputs": [
        {
          "output_type": "execute_result",
          "data": {
            "text/plain": [
              "5            NaN\n",
              "6       1.622499\n",
              "7       1.995742\n",
              "8      -0.052178\n",
              "9      -1.566171\n",
              "          ...   \n",
              "3654    1.984263\n",
              "3655    0.033546\n",
              "3656    4.325956\n",
              "3657    6.943105\n",
              "3658   -3.787196\n",
              "Name: var_GT10, Length: 3654, dtype: object"
            ]
          },
          "metadata": {},
          "execution_count": 83
        }
      ]
    },
    {
      "cell_type": "code",
      "source": [
        "GT10_YieldVar= Tesoros['GT10_Yield'].pct_change() *100\n",
        "GT10_YieldVar"
      ],
      "metadata": {
        "colab": {
          "base_uri": "https://localhost:8080/"
        },
        "id": "jmy9mLA-ppCl",
        "outputId": "6e27d0fa-a981-47da-b997-ace13cf9f2b1"
      },
      "execution_count": null,
      "outputs": [
        {
          "output_type": "execute_result",
          "data": {
            "text/plain": [
              "5            NaN\n",
              "6       1.622499\n",
              "7       1.995742\n",
              "8      -0.052178\n",
              "9      -1.566171\n",
              "          ...   \n",
              "3654    1.984263\n",
              "3655    0.033546\n",
              "3656    4.325956\n",
              "3657    6.943105\n",
              "3658   -3.787196\n",
              "Name: GT10_Yield, Length: 3654, dtype: float64"
            ]
          },
          "metadata": {},
          "execution_count": 56
        }
      ]
    },
    {
      "cell_type": "code",
      "source": [
        "Tesoros.mean()"
      ],
      "metadata": {
        "colab": {
          "base_uri": "https://localhost:8080/"
        },
        "id": "WVSH_WZ5kdCw",
        "outputId": "2342cd4e-89b8-482c-8d10-92f61660f2e7"
      },
      "execution_count": null,
      "outputs": [
        {
          "output_type": "stream",
          "name": "stderr",
          "text": [
            "<ipython-input-57-f5d2aa92e25e>:1: FutureWarning: Dropping of nuisance columns in DataFrame reductions (with 'numeric_only=None') is deprecated; in a future version this will raise TypeError.  Select only valid columns before calling the reduction.\n",
            "  Tesoros.mean()\n"
          ]
        },
        {
          "output_type": "execute_result",
          "data": {
            "text/plain": [
              "GT10_Yield    2.312337\n",
              "PX            2.312337\n",
              "GT02_Yield    0.985865\n",
              "PX            0.985865\n",
              "var_GT10      0.040583\n",
              "dtype: float64"
            ]
          },
          "metadata": {},
          "execution_count": 57
        }
      ]
    },
    {
      "cell_type": "code",
      "source": [
        "plot = Tesoros['GT10_Yield'].plot(figsize=(10, 8))\n",
        "plt.savefig(\"Ejemplo1.jpg\")\n"
      ],
      "metadata": {
        "colab": {
          "base_uri": "https://localhost:8080/",
          "height": 483
        },
        "id": "13xuHCxUmfgQ",
        "outputId": "82201298-763d-49a1-8d85-ad5e8762c530"
      },
      "execution_count": null,
      "outputs": [
        {
          "output_type": "display_data",
          "data": {
            "text/plain": [
              "<Figure size 720x576 with 1 Axes>"
            ],
            "image/png": "[encoded data removed]"
          },
          "metadata": {
            "needs_background": "light"
          }
        }
      ]
    },
    {
      "cell_type": "code",
      "source": [
        "plot = Tesoros['GT02_Yield'].plot(figsize=(10, 8))"
      ],
      "metadata": {
        "colab": {
          "base_uri": "https://localhost:8080/",
          "height": 483
        },
        "id": "xL6H8fk5nmLe",
        "outputId": "41ae4865-342f-4968-f6d3-69479d1d9b48"
      },
      "execution_count": null,
      "outputs": [
        {
          "output_type": "display_data",
          "data": {
            "text/plain": [
              "<Figure size 720x576 with 1 Axes>"
            ],
            "image/png": "[encoded data removed]"
          },
          "metadata": {
            "needs_background": "light"
          }
        }
      ]
    },
    {
      "cell_type": "code",
      "source": [],
      "metadata": {
        "id": "YARyRgkmqRpj"
      },
      "execution_count": null,
      "outputs": []
    }
  ]
}