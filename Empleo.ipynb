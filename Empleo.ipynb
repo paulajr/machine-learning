{
  "nbformat": 4,
  "nbformat_minor": 0,
  "metadata": {
    "colab": {
      "name": "Empleo ",
      "provenance": [],
      "collapsed_sections": []
    },
    "kernelspec": {
      "name": "python3",
      "display_name": "Python 3"
    },
    "language_info": {
      "name": "python"
    }
  },
  "cells": [
    {
      "cell_type": "markdown",
      "metadata": {
        "id": "oqBngwe4RxsC"
      },
      "source": [
        "# **Analisis base de datos empleo DANE**\n",
        "### Paula Jaramillo \n",
        "### Samuel Balaguera\n",
        "### Brayan Sua\n"
      ]
    },
    {
      "cell_type": "markdown",
      "metadata": {
        "id": "kM5uXql_fAx-"
      },
      "source": [
        "En el presente trabajo pretendendemos analizar la base de datos de empleo que nos proporciona el DANE, con ella sacar conclusiones acerca de los datos, generando tablas y graficas para su mayor comprensión."
      ]
    },
    {
      "cell_type": "markdown",
      "metadata": {
        "id": "YruDcbs-fDyk"
      },
      "source": [
        "Lo primero que haremos es importar el modulo de pandas para poder tener la visualización de la tabla de datos."
      ]
    },
    {
      "cell_type": "code",
      "metadata": {
        "id": "OUPkaWNISA1x"
      },
      "source": [
        "import pandas as pd"
      ],
      "execution_count": null,
      "outputs": []
    },
    {
      "cell_type": "code",
      "metadata": {
        "colab": {
          "base_uri": "https://localhost:8080/",
          "height": 609
        },
        "id": "iMwRGV6rRz2j",
        "outputId": "92e08e2c-8b54-4207-c9bc-831bbc435c9b"
      },
      "source": [
        "Empleo_regiones = pd.read_excel (\"/content/Empleo Regiones.xlsx\",\n",
        "                                skiprows= 10,\n",
        "                                nrows= 95-11 )\n",
        "Empleo_regiones"
      ],
      "execution_count": null,
      "outputs": [
        {
          "output_type": "execute_result",
          "data": {
            "text/html": [
              "<div>\n",
              "<style scoped>\n",
              "    .dataframe tbody tr th:only-of-type {\n",
              "        vertical-align: middle;\n",
              "    }\n",
              "\n",
              "    .dataframe tbody tr th {\n",
              "        vertical-align: top;\n",
              "    }\n",
              "\n",
              "    .dataframe thead th {\n",
              "        text-align: right;\n",
              "    }\n",
              "</style>\n",
              "<table border=\"1\" class=\"dataframe\">\n",
              "  <thead>\n",
              "    <tr style=\"text-align: right;\">\n",
              "      <th></th>\n",
              "      <th>Concepto</th>\n",
              "      <th>Región</th>\n",
              "      <th>2017-I</th>\n",
              "      <th>2017-II</th>\n",
              "      <th>2018-I</th>\n",
              "      <th>2018-II</th>\n",
              "      <th>2019-I</th>\n",
              "      <th>2019-II</th>\n",
              "    </tr>\n",
              "  </thead>\n",
              "  <tbody>\n",
              "    <tr>\n",
              "      <th>0</th>\n",
              "      <td>% población en edad de trabajar</td>\n",
              "      <td>Total Nacional</td>\n",
              "      <td>80.083707</td>\n",
              "      <td>80.169563</td>\n",
              "      <td>80.276989</td>\n",
              "      <td>80.337312</td>\n",
              "      <td>80.421177</td>\n",
              "      <td>80.505482</td>\n",
              "    </tr>\n",
              "    <tr>\n",
              "      <th>1</th>\n",
              "      <td>TGP</td>\n",
              "      <td>Total Nacional</td>\n",
              "      <td>64.297709</td>\n",
              "      <td>64.480898</td>\n",
              "      <td>63.727078</td>\n",
              "      <td>64.230119</td>\n",
              "      <td>63.218591</td>\n",
              "      <td>63.331541</td>\n",
              "    </tr>\n",
              "    <tr>\n",
              "      <th>2</th>\n",
              "      <td>TO</td>\n",
              "      <td>Total Nacional</td>\n",
              "      <td>57.982500</td>\n",
              "      <td>58.727986</td>\n",
              "      <td>57.328496</td>\n",
              "      <td>58.245188</td>\n",
              "      <td>56.296386</td>\n",
              "      <td>56.963052</td>\n",
              "    </tr>\n",
              "    <tr>\n",
              "      <th>3</th>\n",
              "      <td>TD</td>\n",
              "      <td>Total Nacional</td>\n",
              "      <td>9.821826</td>\n",
              "      <td>8.921886</td>\n",
              "      <td>10.040606</td>\n",
              "      <td>9.317955</td>\n",
              "      <td>10.949634</td>\n",
              "      <td>10.055802</td>\n",
              "    </tr>\n",
              "    <tr>\n",
              "      <th>4</th>\n",
              "      <td>T.D. Abierto</td>\n",
              "      <td>Total Nacional</td>\n",
              "      <td>9.195806</td>\n",
              "      <td>8.316545</td>\n",
              "      <td>9.360534</td>\n",
              "      <td>8.686486</td>\n",
              "      <td>10.313000</td>\n",
              "      <td>9.409310</td>\n",
              "    </tr>\n",
              "    <tr>\n",
              "      <th>...</th>\n",
              "      <td>...</td>\n",
              "      <td>...</td>\n",
              "      <td>...</td>\n",
              "      <td>...</td>\n",
              "      <td>...</td>\n",
              "      <td>...</td>\n",
              "      <td>...</td>\n",
              "      <td>...</td>\n",
              "    </tr>\n",
              "    <tr>\n",
              "      <th>79</th>\n",
              "      <td>Ocupados</td>\n",
              "      <td>Bogotá</td>\n",
              "      <td>4083.373000</td>\n",
              "      <td>4165.877000</td>\n",
              "      <td>4093.746000</td>\n",
              "      <td>4214.035000</td>\n",
              "      <td>4136.974000</td>\n",
              "      <td>4235.628000</td>\n",
              "    </tr>\n",
              "    <tr>\n",
              "      <th>80</th>\n",
              "      <td>Desocupados</td>\n",
              "      <td>Bogotá</td>\n",
              "      <td>514.817000</td>\n",
              "      <td>454.028000</td>\n",
              "      <td>512.127000</td>\n",
              "      <td>461.682000</td>\n",
              "      <td>557.566000</td>\n",
              "      <td>466.585000</td>\n",
              "    </tr>\n",
              "    <tr>\n",
              "      <th>81</th>\n",
              "      <td>Abiertos</td>\n",
              "      <td>Bogotá</td>\n",
              "      <td>492.502000</td>\n",
              "      <td>440.181000</td>\n",
              "      <td>488.722000</td>\n",
              "      <td>446.161000</td>\n",
              "      <td>540.190000</td>\n",
              "      <td>453.733000</td>\n",
              "    </tr>\n",
              "    <tr>\n",
              "      <th>82</th>\n",
              "      <td>Ocultos</td>\n",
              "      <td>Bogotá</td>\n",
              "      <td>22.315000</td>\n",
              "      <td>13.847000</td>\n",
              "      <td>23.405000</td>\n",
              "      <td>15.520000</td>\n",
              "      <td>17.376000</td>\n",
              "      <td>12.852000</td>\n",
              "    </tr>\n",
              "    <tr>\n",
              "      <th>83</th>\n",
              "      <td>Inactivos</td>\n",
              "      <td>Bogotá</td>\n",
              "      <td>1996.586000</td>\n",
              "      <td>2023.012000</td>\n",
              "      <td>2085.032000</td>\n",
              "      <td>2063.084000</td>\n",
              "      <td>2092.102000</td>\n",
              "      <td>2132.229000</td>\n",
              "    </tr>\n",
              "  </tbody>\n",
              "</table>\n",
              "<p>84 rows × 8 columns</p>\n",
              "</div>"
            ],
            "text/plain": [
              "                            Concepto          Región  ...       2019-I      2019-II\n",
              "0   % población en edad de trabajar   Total Nacional  ...    80.421177    80.505482\n",
              "1                                TGP  Total Nacional  ...    63.218591    63.331541\n",
              "2                                 TO  Total Nacional  ...    56.296386    56.963052\n",
              "3                                 TD  Total Nacional  ...    10.949634    10.055802\n",
              "4                       T.D. Abierto  Total Nacional  ...    10.313000     9.409310\n",
              "..                               ...             ...  ...          ...          ...\n",
              "79                          Ocupados          Bogotá  ...  4136.974000  4235.628000\n",
              "80                       Desocupados          Bogotá  ...   557.566000   466.585000\n",
              "81                          Abiertos          Bogotá  ...   540.190000   453.733000\n",
              "82                           Ocultos          Bogotá  ...    17.376000    12.852000\n",
              "83                         Inactivos          Bogotá  ...  2092.102000  2132.229000\n",
              "\n",
              "[84 rows x 8 columns]"
            ]
          },
          "metadata": {
            "tags": []
          },
          "execution_count": 28
        }
      ]
    },
    {
      "cell_type": "markdown",
      "metadata": {
        "id": "dpCkLATafKT_"
      },
      "source": [
        "Para una mayor comprensión de los datos en la variables float utilizaremos solo 2 decimales."
      ]
    },
    {
      "cell_type": "code",
      "metadata": {
        "colab": {
          "base_uri": "https://localhost:8080/",
          "height": 626
        },
        "id": "G32yTkOxfLUJ",
        "outputId": "d00049c0-6889-4da4-e582-63185e37dd60"
      },
      "source": [
        "Empleo_regiones=Empleo_regiones.round(2)\n",
        "Empleo_regiones"
      ],
      "execution_count": null,
      "outputs": [
        {
          "output_type": "execute_result",
          "data": {
            "text/html": [
              "<div>\n",
              "<style scoped>\n",
              "    .dataframe tbody tr th:only-of-type {\n",
              "        vertical-align: middle;\n",
              "    }\n",
              "\n",
              "    .dataframe tbody tr th {\n",
              "        vertical-align: top;\n",
              "    }\n",
              "\n",
              "    .dataframe thead th {\n",
              "        text-align: right;\n",
              "    }\n",
              "</style>\n",
              "<table border=\"1\" class=\"dataframe\">\n",
              "  <thead>\n",
              "    <tr style=\"text-align: right;\">\n",
              "      <th></th>\n",
              "      <th>Concepto</th>\n",
              "      <th>Región</th>\n",
              "      <th>2017-I</th>\n",
              "      <th>2017-II</th>\n",
              "      <th>2018-I</th>\n",
              "      <th>2018-II</th>\n",
              "      <th>2019-I</th>\n",
              "      <th>2019-II</th>\n",
              "    </tr>\n",
              "  </thead>\n",
              "  <tbody>\n",
              "    <tr>\n",
              "      <th>0</th>\n",
              "      <td>% población en edad de trabajar</td>\n",
              "      <td>Total Nacional</td>\n",
              "      <td>80.08</td>\n",
              "      <td>80.17</td>\n",
              "      <td>80.28</td>\n",
              "      <td>80.34</td>\n",
              "      <td>80.42</td>\n",
              "      <td>80.51</td>\n",
              "    </tr>\n",
              "    <tr>\n",
              "      <th>1</th>\n",
              "      <td>TGP</td>\n",
              "      <td>Total Nacional</td>\n",
              "      <td>64.30</td>\n",
              "      <td>64.48</td>\n",
              "      <td>63.73</td>\n",
              "      <td>64.23</td>\n",
              "      <td>63.22</td>\n",
              "      <td>63.33</td>\n",
              "    </tr>\n",
              "    <tr>\n",
              "      <th>2</th>\n",
              "      <td>TO</td>\n",
              "      <td>Total Nacional</td>\n",
              "      <td>57.98</td>\n",
              "      <td>58.73</td>\n",
              "      <td>57.33</td>\n",
              "      <td>58.25</td>\n",
              "      <td>56.30</td>\n",
              "      <td>56.96</td>\n",
              "    </tr>\n",
              "    <tr>\n",
              "      <th>3</th>\n",
              "      <td>TD</td>\n",
              "      <td>Total Nacional</td>\n",
              "      <td>9.82</td>\n",
              "      <td>8.92</td>\n",
              "      <td>10.04</td>\n",
              "      <td>9.32</td>\n",
              "      <td>10.95</td>\n",
              "      <td>10.06</td>\n",
              "    </tr>\n",
              "    <tr>\n",
              "      <th>4</th>\n",
              "      <td>T.D. Abierto</td>\n",
              "      <td>Total Nacional</td>\n",
              "      <td>9.20</td>\n",
              "      <td>8.32</td>\n",
              "      <td>9.36</td>\n",
              "      <td>8.69</td>\n",
              "      <td>10.31</td>\n",
              "      <td>9.41</td>\n",
              "    </tr>\n",
              "    <tr>\n",
              "      <th>...</th>\n",
              "      <td>...</td>\n",
              "      <td>...</td>\n",
              "      <td>...</td>\n",
              "      <td>...</td>\n",
              "      <td>...</td>\n",
              "      <td>...</td>\n",
              "      <td>...</td>\n",
              "      <td>...</td>\n",
              "    </tr>\n",
              "    <tr>\n",
              "      <th>79</th>\n",
              "      <td>Ocupados</td>\n",
              "      <td>Bogotá</td>\n",
              "      <td>4083.37</td>\n",
              "      <td>4165.88</td>\n",
              "      <td>4093.75</td>\n",
              "      <td>4214.04</td>\n",
              "      <td>4136.97</td>\n",
              "      <td>4235.63</td>\n",
              "    </tr>\n",
              "    <tr>\n",
              "      <th>80</th>\n",
              "      <td>Desocupados</td>\n",
              "      <td>Bogotá</td>\n",
              "      <td>514.82</td>\n",
              "      <td>454.03</td>\n",
              "      <td>512.13</td>\n",
              "      <td>461.68</td>\n",
              "      <td>557.57</td>\n",
              "      <td>466.58</td>\n",
              "    </tr>\n",
              "    <tr>\n",
              "      <th>81</th>\n",
              "      <td>Abiertos</td>\n",
              "      <td>Bogotá</td>\n",
              "      <td>492.50</td>\n",
              "      <td>440.18</td>\n",
              "      <td>488.72</td>\n",
              "      <td>446.16</td>\n",
              "      <td>540.19</td>\n",
              "      <td>453.73</td>\n",
              "    </tr>\n",
              "    <tr>\n",
              "      <th>82</th>\n",
              "      <td>Ocultos</td>\n",
              "      <td>Bogotá</td>\n",
              "      <td>22.32</td>\n",
              "      <td>13.85</td>\n",
              "      <td>23.40</td>\n",
              "      <td>15.52</td>\n",
              "      <td>17.38</td>\n",
              "      <td>12.85</td>\n",
              "    </tr>\n",
              "    <tr>\n",
              "      <th>83</th>\n",
              "      <td>Inactivos</td>\n",
              "      <td>Bogotá</td>\n",
              "      <td>1996.59</td>\n",
              "      <td>2023.01</td>\n",
              "      <td>2085.03</td>\n",
              "      <td>2063.08</td>\n",
              "      <td>2092.10</td>\n",
              "      <td>2132.23</td>\n",
              "    </tr>\n",
              "  </tbody>\n",
              "</table>\n",
              "<p>84 rows × 8 columns</p>\n",
              "</div>"
            ],
            "text/plain": [
              "                            Concepto          Región  ...   2019-I  2019-II\n",
              "0   % población en edad de trabajar   Total Nacional  ...    80.42    80.51\n",
              "1                                TGP  Total Nacional  ...    63.22    63.33\n",
              "2                                 TO  Total Nacional  ...    56.30    56.96\n",
              "3                                 TD  Total Nacional  ...    10.95    10.06\n",
              "4                       T.D. Abierto  Total Nacional  ...    10.31     9.41\n",
              "..                               ...             ...  ...      ...      ...\n",
              "79                          Ocupados          Bogotá  ...  4136.97  4235.63\n",
              "80                       Desocupados          Bogotá  ...   557.57   466.58\n",
              "81                          Abiertos          Bogotá  ...   540.19   453.73\n",
              "82                           Ocultos          Bogotá  ...    17.38    12.85\n",
              "83                         Inactivos          Bogotá  ...  2092.10  2132.23\n",
              "\n",
              "[84 rows x 8 columns]"
            ]
          },
          "metadata": {
            "tags": []
          },
          "execution_count": 29
        }
      ]
    },
    {
      "cell_type": "code",
      "metadata": {
        "colab": {
          "base_uri": "https://localhost:8080/"
        },
        "id": "TGwddrinfUlF",
        "outputId": "c5df454c-17f8-4a88-a9df-b4c656beb094"
      },
      "source": [
        "Empleo_regiones.info()"
      ],
      "execution_count": null,
      "outputs": [
        {
          "output_type": "stream",
          "text": [
            "<class 'pandas.core.frame.DataFrame'>\n",
            "RangeIndex: 84 entries, 0 to 83\n",
            "Data columns (total 8 columns):\n",
            " #   Column    Non-Null Count  Dtype  \n",
            "---  ------    --------------  -----  \n",
            " 0   Concepto  84 non-null     object \n",
            " 1   Región    84 non-null     object \n",
            " 2   2017-I    84 non-null     float64\n",
            " 3   2017-II   84 non-null     float64\n",
            " 4   2018-I    84 non-null     float64\n",
            " 5   2018-II   84 non-null     float64\n",
            " 6   2019-I    84 non-null     float64\n",
            " 7   2019-II   84 non-null     float64\n",
            "dtypes: float64(6), object(2)\n",
            "memory usage: 5.4+ KB\n"
          ],
          "name": "stdout"
        }
      ]
    },
    {
      "cell_type": "markdown",
      "metadata": {
        "id": "a2C1TsnufY1Y"
      },
      "source": [
        "En la información obtenida por nuestra base de datos, encontramos que 6 de nuestras columnas son de tipo float es decir decimales y 2 object"
      ]
    },
    {
      "cell_type": "code",
      "metadata": {
        "colab": {
          "base_uri": "https://localhost:8080/"
        },
        "id": "jxXBk4g8fcBS",
        "outputId": "5535a4e4-5eda-4cdc-e3e9-f293c2e69c3f"
      },
      "source": [
        "Empleo_regiones.columns"
      ],
      "execution_count": null,
      "outputs": [
        {
          "output_type": "execute_result",
          "data": {
            "text/plain": [
              "Index(['Concepto', 'Región', '2017-I', '2017-II', '2018-I', '2018-II',\n",
              "       '2019-I', '2019-II'],\n",
              "      dtype='object')"
            ]
          },
          "metadata": {
            "tags": []
          },
          "execution_count": 31
        }
      ]
    },
    {
      "cell_type": "markdown",
      "metadata": {
        "id": "Q6IWXOPLfgvE"
      },
      "source": [
        "Los indices de nuestras columnas empiezan por el concepto la cual presenta los temas de estudio como la TO, TD población total de cada región entre otras, el siguiente indice nos presenta la región, en este caso nos muestra de que región es cada dato, tiniendo las regiones del pacifico, caribe, central, oriental, Bogotá y el total del país."
      ]
    },
    {
      "cell_type": "markdown",
      "metadata": {
        "id": "1d1fm7Nqfjbj"
      },
      "source": [
        "Como tenemos 4 regiones, Bogotá y el total generaremos un indice multinivel el cual nos genere una comidad para la comparación de los datos por regiones"
      ]
    },
    {
      "cell_type": "code",
      "metadata": {
        "colab": {
          "base_uri": "https://localhost:8080/",
          "height": 589
        },
        "id": "suyP1GMxSKqH",
        "outputId": "0e93f194-57c0-4758-8ce4-95ff56a68f1a"
      },
      "source": [
        "Regiones_ordenadas = Empleo_regiones.set_index([\"Región\",\"Concepto\"])\n",
        "\n",
        "Regiones_ordenadas"
      ],
      "execution_count": null,
      "outputs": [
        {
          "output_type": "execute_result",
          "data": {
            "text/html": [
              "<div>\n",
              "<style scoped>\n",
              "    .dataframe tbody tr th:only-of-type {\n",
              "        vertical-align: middle;\n",
              "    }\n",
              "\n",
              "    .dataframe tbody tr th {\n",
              "        vertical-align: top;\n",
              "    }\n",
              "\n",
              "    .dataframe thead th {\n",
              "        text-align: right;\n",
              "    }\n",
              "</style>\n",
              "<table border=\"1\" class=\"dataframe\">\n",
              "  <thead>\n",
              "    <tr style=\"text-align: right;\">\n",
              "      <th></th>\n",
              "      <th></th>\n",
              "      <th>2017-I</th>\n",
              "      <th>2017-II</th>\n",
              "      <th>2018-I</th>\n",
              "      <th>2018-II</th>\n",
              "      <th>2019-I</th>\n",
              "      <th>2019-II</th>\n",
              "    </tr>\n",
              "    <tr>\n",
              "      <th>Región</th>\n",
              "      <th>Concepto</th>\n",
              "      <th></th>\n",
              "      <th></th>\n",
              "      <th></th>\n",
              "      <th></th>\n",
              "      <th></th>\n",
              "      <th></th>\n",
              "    </tr>\n",
              "  </thead>\n",
              "  <tbody>\n",
              "    <tr>\n",
              "      <th rowspan=\"5\" valign=\"top\">Total Nacional</th>\n",
              "      <th>% población en edad de trabajar</th>\n",
              "      <td>80.08</td>\n",
              "      <td>80.17</td>\n",
              "      <td>80.28</td>\n",
              "      <td>80.34</td>\n",
              "      <td>80.42</td>\n",
              "      <td>80.51</td>\n",
              "    </tr>\n",
              "    <tr>\n",
              "      <th>TGP</th>\n",
              "      <td>64.30</td>\n",
              "      <td>64.48</td>\n",
              "      <td>63.73</td>\n",
              "      <td>64.23</td>\n",
              "      <td>63.22</td>\n",
              "      <td>63.33</td>\n",
              "    </tr>\n",
              "    <tr>\n",
              "      <th>TO</th>\n",
              "      <td>57.98</td>\n",
              "      <td>58.73</td>\n",
              "      <td>57.33</td>\n",
              "      <td>58.25</td>\n",
              "      <td>56.30</td>\n",
              "      <td>56.96</td>\n",
              "    </tr>\n",
              "    <tr>\n",
              "      <th>TD</th>\n",
              "      <td>9.82</td>\n",
              "      <td>8.92</td>\n",
              "      <td>10.04</td>\n",
              "      <td>9.32</td>\n",
              "      <td>10.95</td>\n",
              "      <td>10.06</td>\n",
              "    </tr>\n",
              "    <tr>\n",
              "      <th>T.D. Abierto</th>\n",
              "      <td>9.20</td>\n",
              "      <td>8.32</td>\n",
              "      <td>9.36</td>\n",
              "      <td>8.69</td>\n",
              "      <td>10.31</td>\n",
              "      <td>9.41</td>\n",
              "    </tr>\n",
              "    <tr>\n",
              "      <th>...</th>\n",
              "      <th>...</th>\n",
              "      <td>...</td>\n",
              "      <td>...</td>\n",
              "      <td>...</td>\n",
              "      <td>...</td>\n",
              "      <td>...</td>\n",
              "      <td>...</td>\n",
              "    </tr>\n",
              "    <tr>\n",
              "      <th rowspan=\"5\" valign=\"top\">Bogotá</th>\n",
              "      <th>Ocupados</th>\n",
              "      <td>4083.37</td>\n",
              "      <td>4165.88</td>\n",
              "      <td>4093.75</td>\n",
              "      <td>4214.04</td>\n",
              "      <td>4136.97</td>\n",
              "      <td>4235.63</td>\n",
              "    </tr>\n",
              "    <tr>\n",
              "      <th>Desocupados</th>\n",
              "      <td>514.82</td>\n",
              "      <td>454.03</td>\n",
              "      <td>512.13</td>\n",
              "      <td>461.68</td>\n",
              "      <td>557.57</td>\n",
              "      <td>466.58</td>\n",
              "    </tr>\n",
              "    <tr>\n",
              "      <th>Abiertos</th>\n",
              "      <td>492.50</td>\n",
              "      <td>440.18</td>\n",
              "      <td>488.72</td>\n",
              "      <td>446.16</td>\n",
              "      <td>540.19</td>\n",
              "      <td>453.73</td>\n",
              "    </tr>\n",
              "    <tr>\n",
              "      <th>Ocultos</th>\n",
              "      <td>22.32</td>\n",
              "      <td>13.85</td>\n",
              "      <td>23.40</td>\n",
              "      <td>15.52</td>\n",
              "      <td>17.38</td>\n",
              "      <td>12.85</td>\n",
              "    </tr>\n",
              "    <tr>\n",
              "      <th>Inactivos</th>\n",
              "      <td>1996.59</td>\n",
              "      <td>2023.01</td>\n",
              "      <td>2085.03</td>\n",
              "      <td>2063.08</td>\n",
              "      <td>2092.10</td>\n",
              "      <td>2132.23</td>\n",
              "    </tr>\n",
              "  </tbody>\n",
              "</table>\n",
              "<p>84 rows × 6 columns</p>\n",
              "</div>"
            ],
            "text/plain": [
              "                                                  2017-I  ...  2019-II\n",
              "Región         Concepto                                   ...         \n",
              "Total Nacional % población en edad de trabajar     80.08  ...    80.51\n",
              "               TGP                                 64.30  ...    63.33\n",
              "               TO                                  57.98  ...    56.96\n",
              "               TD                                   9.82  ...    10.06\n",
              "               T.D. Abierto                         9.20  ...     9.41\n",
              "...                                                  ...  ...      ...\n",
              "Bogotá         Ocupados                          4083.37  ...  4235.63\n",
              "               Desocupados                        514.82  ...   466.58\n",
              "               Abiertos                           492.50  ...   453.73\n",
              "               Ocultos                             22.32  ...    12.85\n",
              "               Inactivos                         1996.59  ...  2132.23\n",
              "\n",
              "[84 rows x 6 columns]"
            ]
          },
          "metadata": {
            "tags": []
          },
          "execution_count": 32
        }
      ]
    },
    {
      "cell_type": "markdown",
      "metadata": {
        "id": "fOV44Ausfs82"
      },
      "source": [
        "Luego de hacer nuestro indice multinivel nos enfocamos en Bogotá y en los datos que tenemos para Bogotá y cada región."
      ]
    },
    {
      "cell_type": "code",
      "metadata": {
        "colab": {
          "base_uri": "https://localhost:8080/",
          "height": 619
        },
        "id": "nqk33_t1fuIw",
        "outputId": "b283c098-70d0-4ff5-f5e9-b92e6b0a039c"
      },
      "source": [
        "Regiones_ordenadas.loc[\"Bogotá\"]"
      ],
      "execution_count": null,
      "outputs": [
        {
          "output_type": "execute_result",
          "data": {
            "text/html": [
              "<div>\n",
              "<style scoped>\n",
              "    .dataframe tbody tr th:only-of-type {\n",
              "        vertical-align: middle;\n",
              "    }\n",
              "\n",
              "    .dataframe tbody tr th {\n",
              "        vertical-align: top;\n",
              "    }\n",
              "\n",
              "    .dataframe thead th {\n",
              "        text-align: right;\n",
              "    }\n",
              "</style>\n",
              "<table border=\"1\" class=\"dataframe\">\n",
              "  <thead>\n",
              "    <tr style=\"text-align: right;\">\n",
              "      <th></th>\n",
              "      <th>2017-I</th>\n",
              "      <th>2017-II</th>\n",
              "      <th>2018-I</th>\n",
              "      <th>2018-II</th>\n",
              "      <th>2019-I</th>\n",
              "      <th>2019-II</th>\n",
              "    </tr>\n",
              "    <tr>\n",
              "      <th>Concepto</th>\n",
              "      <th></th>\n",
              "      <th></th>\n",
              "      <th></th>\n",
              "      <th></th>\n",
              "      <th></th>\n",
              "      <th></th>\n",
              "    </tr>\n",
              "  </thead>\n",
              "  <tbody>\n",
              "    <tr>\n",
              "      <th>% población en edad de trabajar</th>\n",
              "      <td>82.04</td>\n",
              "      <td>82.12</td>\n",
              "      <td>82.21</td>\n",
              "      <td>82.29</td>\n",
              "      <td>82.37</td>\n",
              "      <td>82.45</td>\n",
              "    </tr>\n",
              "    <tr>\n",
              "      <th>TGP</th>\n",
              "      <td>69.72</td>\n",
              "      <td>69.55</td>\n",
              "      <td>68.84</td>\n",
              "      <td>69.38</td>\n",
              "      <td>69.17</td>\n",
              "      <td>68.80</td>\n",
              "    </tr>\n",
              "    <tr>\n",
              "      <th>TO</th>\n",
              "      <td>61.92</td>\n",
              "      <td>62.71</td>\n",
              "      <td>61.18</td>\n",
              "      <td>62.53</td>\n",
              "      <td>60.96</td>\n",
              "      <td>61.97</td>\n",
              "    </tr>\n",
              "    <tr>\n",
              "      <th>TD</th>\n",
              "      <td>11.20</td>\n",
              "      <td>9.83</td>\n",
              "      <td>11.12</td>\n",
              "      <td>9.87</td>\n",
              "      <td>11.88</td>\n",
              "      <td>9.92</td>\n",
              "    </tr>\n",
              "    <tr>\n",
              "      <th>T.D. Abierto</th>\n",
              "      <td>10.71</td>\n",
              "      <td>9.53</td>\n",
              "      <td>10.61</td>\n",
              "      <td>9.54</td>\n",
              "      <td>11.51</td>\n",
              "      <td>9.65</td>\n",
              "    </tr>\n",
              "    <tr>\n",
              "      <th>T.D. Oculto</th>\n",
              "      <td>0.49</td>\n",
              "      <td>0.30</td>\n",
              "      <td>0.51</td>\n",
              "      <td>0.33</td>\n",
              "      <td>0.37</td>\n",
              "      <td>0.27</td>\n",
              "    </tr>\n",
              "    <tr>\n",
              "      <th>Población total</th>\n",
              "      <td>8038.87</td>\n",
              "      <td>8089.07</td>\n",
              "      <td>8139.16</td>\n",
              "      <td>8189.16</td>\n",
              "      <td>8239.09</td>\n",
              "      <td>8288.95</td>\n",
              "    </tr>\n",
              "    <tr>\n",
              "      <th>Población en edad de trabajar</th>\n",
              "      <td>6594.78</td>\n",
              "      <td>6642.92</td>\n",
              "      <td>6690.90</td>\n",
              "      <td>6738.80</td>\n",
              "      <td>6786.64</td>\n",
              "      <td>6834.44</td>\n",
              "    </tr>\n",
              "    <tr>\n",
              "      <th>Población económicamente activa</th>\n",
              "      <td>4598.19</td>\n",
              "      <td>4619.90</td>\n",
              "      <td>4605.87</td>\n",
              "      <td>4675.72</td>\n",
              "      <td>4694.54</td>\n",
              "      <td>4702.21</td>\n",
              "    </tr>\n",
              "    <tr>\n",
              "      <th>Ocupados</th>\n",
              "      <td>4083.37</td>\n",
              "      <td>4165.88</td>\n",
              "      <td>4093.75</td>\n",
              "      <td>4214.04</td>\n",
              "      <td>4136.97</td>\n",
              "      <td>4235.63</td>\n",
              "    </tr>\n",
              "    <tr>\n",
              "      <th>Desocupados</th>\n",
              "      <td>514.82</td>\n",
              "      <td>454.03</td>\n",
              "      <td>512.13</td>\n",
              "      <td>461.68</td>\n",
              "      <td>557.57</td>\n",
              "      <td>466.58</td>\n",
              "    </tr>\n",
              "    <tr>\n",
              "      <th>Abiertos</th>\n",
              "      <td>492.50</td>\n",
              "      <td>440.18</td>\n",
              "      <td>488.72</td>\n",
              "      <td>446.16</td>\n",
              "      <td>540.19</td>\n",
              "      <td>453.73</td>\n",
              "    </tr>\n",
              "    <tr>\n",
              "      <th>Ocultos</th>\n",
              "      <td>22.32</td>\n",
              "      <td>13.85</td>\n",
              "      <td>23.40</td>\n",
              "      <td>15.52</td>\n",
              "      <td>17.38</td>\n",
              "      <td>12.85</td>\n",
              "    </tr>\n",
              "    <tr>\n",
              "      <th>Inactivos</th>\n",
              "      <td>1996.59</td>\n",
              "      <td>2023.01</td>\n",
              "      <td>2085.03</td>\n",
              "      <td>2063.08</td>\n",
              "      <td>2092.10</td>\n",
              "      <td>2132.23</td>\n",
              "    </tr>\n",
              "  </tbody>\n",
              "</table>\n",
              "</div>"
            ],
            "text/plain": [
              "                                   2017-I  2017-II  ...   2019-I  2019-II\n",
              "Concepto                                            ...                  \n",
              "% población en edad de trabajar     82.04    82.12  ...    82.37    82.45\n",
              "TGP                                 69.72    69.55  ...    69.17    68.80\n",
              "TO                                  61.92    62.71  ...    60.96    61.97\n",
              "TD                                  11.20     9.83  ...    11.88     9.92\n",
              "T.D. Abierto                        10.71     9.53  ...    11.51     9.65\n",
              "T.D. Oculto                          0.49     0.30  ...     0.37     0.27\n",
              "Población total                   8038.87  8089.07  ...  8239.09  8288.95\n",
              "Población en edad de trabajar     6594.78  6642.92  ...  6786.64  6834.44\n",
              "Población económicamente activa   4598.19  4619.90  ...  4694.54  4702.21\n",
              "Ocupados                          4083.37  4165.88  ...  4136.97  4235.63\n",
              "Desocupados                        514.82   454.03  ...   557.57   466.58\n",
              "Abiertos                           492.50   440.18  ...   540.19   453.73\n",
              "Ocultos                             22.32    13.85  ...    17.38    12.85\n",
              "Inactivos                         1996.59  2023.01  ...  2092.10  2132.23\n",
              "\n",
              "[14 rows x 6 columns]"
            ]
          },
          "metadata": {
            "tags": []
          },
          "execution_count": 33
        }
      ]
    },
    {
      "cell_type": "markdown",
      "metadata": {
        "id": "8aV6JogPf121"
      },
      "source": [
        "Para hacer mas facil la comparación de los datos generamos una tabla para cada variable de estudio y para cada región, empezaremos con la TGP, omitiremos el total nacional para poder hacer una comparación de la regiones y Bogotá."
      ]
    },
    {
      "cell_type": "code",
      "metadata": {
        "colab": {
          "base_uri": "https://localhost:8080/",
          "height": 340
        },
        "id": "JOhQwhDKf_hq",
        "outputId": "1ab0a0e0-7291-431f-d830-c20b76144636"
      },
      "source": [
        "lista_regiones_tgp =[(\"Bogotá\" ,\"TGP\") , (\"Región Pacifica\" , \"TGP\"), (\"Región Caribe\" , \"TGP\"),\n",
        "                 (\"Región Central\", \"TGP\"), (\"Región Oriental\", \"TGP\")]\n",
        "\n",
        "regiones_tgp = Regiones_ordenadas.loc[lista_regiones_tgp]\n",
        "regiones_tgp"
      ],
      "execution_count": null,
      "outputs": [
        {
          "output_type": "execute_result",
          "data": {
            "text/html": [
              "<div>\n",
              "<style scoped>\n",
              "    .dataframe tbody tr th:only-of-type {\n",
              "        vertical-align: middle;\n",
              "    }\n",
              "\n",
              "    .dataframe tbody tr th {\n",
              "        vertical-align: top;\n",
              "    }\n",
              "\n",
              "    .dataframe thead th {\n",
              "        text-align: right;\n",
              "    }\n",
              "</style>\n",
              "<table border=\"1\" class=\"dataframe\">\n",
              "  <thead>\n",
              "    <tr style=\"text-align: right;\">\n",
              "      <th></th>\n",
              "      <th></th>\n",
              "      <th>2017-I</th>\n",
              "      <th>2017-II</th>\n",
              "      <th>2018-I</th>\n",
              "      <th>2018-II</th>\n",
              "      <th>2019-I</th>\n",
              "      <th>2019-II</th>\n",
              "    </tr>\n",
              "    <tr>\n",
              "      <th>Región</th>\n",
              "      <th>Concepto</th>\n",
              "      <th></th>\n",
              "      <th></th>\n",
              "      <th></th>\n",
              "      <th></th>\n",
              "      <th></th>\n",
              "      <th></th>\n",
              "    </tr>\n",
              "  </thead>\n",
              "  <tbody>\n",
              "    <tr>\n",
              "      <th>Bogotá</th>\n",
              "      <th>TGP</th>\n",
              "      <td>69.72</td>\n",
              "      <td>69.55</td>\n",
              "      <td>68.84</td>\n",
              "      <td>69.38</td>\n",
              "      <td>69.17</td>\n",
              "      <td>68.80</td>\n",
              "    </tr>\n",
              "    <tr>\n",
              "      <th>Región Pacifica</th>\n",
              "      <th>TGP</th>\n",
              "      <td>65.53</td>\n",
              "      <td>64.47</td>\n",
              "      <td>64.35</td>\n",
              "      <td>63.94</td>\n",
              "      <td>62.86</td>\n",
              "      <td>64.31</td>\n",
              "    </tr>\n",
              "    <tr>\n",
              "      <th>Región Caribe</th>\n",
              "      <th>TGP</th>\n",
              "      <td>60.30</td>\n",
              "      <td>61.40</td>\n",
              "      <td>59.64</td>\n",
              "      <td>61.34</td>\n",
              "      <td>60.45</td>\n",
              "      <td>60.26</td>\n",
              "    </tr>\n",
              "    <tr>\n",
              "      <th>Región Central</th>\n",
              "      <th>TGP</th>\n",
              "      <td>63.11</td>\n",
              "      <td>63.08</td>\n",
              "      <td>62.42</td>\n",
              "      <td>63.06</td>\n",
              "      <td>61.84</td>\n",
              "      <td>61.98</td>\n",
              "    </tr>\n",
              "    <tr>\n",
              "      <th>Región Oriental</th>\n",
              "      <th>TGP</th>\n",
              "      <td>64.36</td>\n",
              "      <td>65.31</td>\n",
              "      <td>64.99</td>\n",
              "      <td>64.68</td>\n",
              "      <td>63.13</td>\n",
              "      <td>62.73</td>\n",
              "    </tr>\n",
              "  </tbody>\n",
              "</table>\n",
              "</div>"
            ],
            "text/plain": [
              "                          2017-I  2017-II  2018-I  2018-II  2019-I  2019-II\n",
              "Región          Concepto                                                   \n",
              "Bogotá          TGP        69.72    69.55   68.84    69.38   69.17    68.80\n",
              "Región Pacifica TGP        65.53    64.47   64.35    63.94   62.86    64.31\n",
              "Región Caribe   TGP        60.30    61.40   59.64    61.34   60.45    60.26\n",
              "Región Central  TGP        63.11    63.08   62.42    63.06   61.84    61.98\n",
              "Región Oriental TGP        64.36    65.31   64.99    64.68   63.13    62.73"
            ]
          },
          "metadata": {
            "tags": []
          },
          "execution_count": 34
        }
      ]
    },
    {
      "cell_type": "code",
      "metadata": {
        "colab": {
          "base_uri": "https://localhost:8080/"
        },
        "id": "n1iDHj1ugHQa",
        "outputId": "87baa58f-20ce-4b2f-c650-87bba7972413"
      },
      "source": [
        "regiones_tgp.mean(1)"
      ],
      "execution_count": null,
      "outputs": [
        {
          "output_type": "execute_result",
          "data": {
            "text/plain": [
              "Región           Concepto\n",
              "Bogotá           TGP         69.243333\n",
              "Región Pacifica  TGP         64.243333\n",
              "Región Caribe    TGP         60.565000\n",
              "Región Central   TGP         62.581667\n",
              "Región Oriental  TGP         64.200000\n",
              "dtype: float64"
            ]
          },
          "metadata": {
            "tags": []
          },
          "execution_count": 35
        }
      ]
    },
    {
      "cell_type": "markdown",
      "metadata": {
        "id": "JkcutHo8gD2N"
      },
      "source": [
        "En primera instancia analizamos la variable TGP la cual representa la tasa global de participación la cual es la relación porcentual entre la poblacion economicamente activa y la población en edad de trabajar. En este caso vemos que para los 6 periodos de estudio Bogotá lidera, seguida por la región pacifica. La que presenta menor participación es la región Caribe que aporta el menor dato en el periodo de 2018-1 con 59.64% y en el promedio en general."
      ]
    },
    {
      "cell_type": "code",
      "metadata": {
        "colab": {
          "base_uri": "https://localhost:8080/",
          "height": 340
        },
        "id": "AWrvZu_XSYGO",
        "outputId": "5c2e5e5c-ed0d-4eaf-9bd6-61af0db42c90"
      },
      "source": [
        "lista_regiones_to =[(\"Bogotá\" ,\"TO\") , (\"Región Pacifica\" , \"TO\"), (\"Región Caribe\" , \"TO\"),\n",
        "                 (\"Región Central\", \"TO\"), (\"Región Oriental\", \"TO\")]\n",
        "\n",
        "regiones_to = Regiones_ordenadas.loc[lista_regiones_to]\n",
        "regiones_to"
      ],
      "execution_count": null,
      "outputs": [
        {
          "output_type": "execute_result",
          "data": {
            "text/html": [
              "<div>\n",
              "<style scoped>\n",
              "    .dataframe tbody tr th:only-of-type {\n",
              "        vertical-align: middle;\n",
              "    }\n",
              "\n",
              "    .dataframe tbody tr th {\n",
              "        vertical-align: top;\n",
              "    }\n",
              "\n",
              "    .dataframe thead th {\n",
              "        text-align: right;\n",
              "    }\n",
              "</style>\n",
              "<table border=\"1\" class=\"dataframe\">\n",
              "  <thead>\n",
              "    <tr style=\"text-align: right;\">\n",
              "      <th></th>\n",
              "      <th></th>\n",
              "      <th>2017-I</th>\n",
              "      <th>2017-II</th>\n",
              "      <th>2018-I</th>\n",
              "      <th>2018-II</th>\n",
              "      <th>2019-I</th>\n",
              "      <th>2019-II</th>\n",
              "    </tr>\n",
              "    <tr>\n",
              "      <th>Región</th>\n",
              "      <th>Concepto</th>\n",
              "      <th></th>\n",
              "      <th></th>\n",
              "      <th></th>\n",
              "      <th></th>\n",
              "      <th></th>\n",
              "      <th></th>\n",
              "    </tr>\n",
              "  </thead>\n",
              "  <tbody>\n",
              "    <tr>\n",
              "      <th>Bogotá</th>\n",
              "      <th>TO</th>\n",
              "      <td>61.92</td>\n",
              "      <td>62.71</td>\n",
              "      <td>61.18</td>\n",
              "      <td>62.53</td>\n",
              "      <td>60.96</td>\n",
              "      <td>61.97</td>\n",
              "    </tr>\n",
              "    <tr>\n",
              "      <th>Región Pacifica</th>\n",
              "      <th>TO</th>\n",
              "      <td>58.94</td>\n",
              "      <td>58.32</td>\n",
              "      <td>57.85</td>\n",
              "      <td>57.89</td>\n",
              "      <td>56.09</td>\n",
              "      <td>57.71</td>\n",
              "    </tr>\n",
              "    <tr>\n",
              "      <th>Región Caribe</th>\n",
              "      <th>TO</th>\n",
              "      <td>55.27</td>\n",
              "      <td>56.75</td>\n",
              "      <td>55.15</td>\n",
              "      <td>56.69</td>\n",
              "      <td>55.30</td>\n",
              "      <td>55.16</td>\n",
              "    </tr>\n",
              "    <tr>\n",
              "      <th>Región Central</th>\n",
              "      <th>TO</th>\n",
              "      <td>56.59</td>\n",
              "      <td>57.19</td>\n",
              "      <td>55.31</td>\n",
              "      <td>56.68</td>\n",
              "      <td>54.63</td>\n",
              "      <td>55.15</td>\n",
              "    </tr>\n",
              "    <tr>\n",
              "      <th>Región Oriental</th>\n",
              "      <th>TO</th>\n",
              "      <td>58.49</td>\n",
              "      <td>59.88</td>\n",
              "      <td>58.62</td>\n",
              "      <td>58.57</td>\n",
              "      <td>55.58</td>\n",
              "      <td>56.16</td>\n",
              "    </tr>\n",
              "  </tbody>\n",
              "</table>\n",
              "</div>"
            ],
            "text/plain": [
              "                          2017-I  2017-II  2018-I  2018-II  2019-I  2019-II\n",
              "Región          Concepto                                                   \n",
              "Bogotá          TO         61.92    62.71   61.18    62.53   60.96    61.97\n",
              "Región Pacifica TO         58.94    58.32   57.85    57.89   56.09    57.71\n",
              "Región Caribe   TO         55.27    56.75   55.15    56.69   55.30    55.16\n",
              "Región Central  TO         56.59    57.19   55.31    56.68   54.63    55.15\n",
              "Región Oriental TO         58.49    59.88   58.62    58.57   55.58    56.16"
            ]
          },
          "metadata": {
            "tags": []
          },
          "execution_count": 36
        }
      ]
    },
    {
      "cell_type": "code",
      "metadata": {
        "colab": {
          "base_uri": "https://localhost:8080/"
        },
        "id": "5cpwaG0PgRT4",
        "outputId": "cad2df6f-2c8d-48db-ff3c-78d2d9e7cecd"
      },
      "source": [
        "regiones_to.mean(1)"
      ],
      "execution_count": null,
      "outputs": [
        {
          "output_type": "execute_result",
          "data": {
            "text/plain": [
              "Región           Concepto\n",
              "Bogotá           TO          61.878333\n",
              "Región Pacifica  TO          57.800000\n",
              "Región Caribe    TO          55.720000\n",
              "Región Central   TO          55.925000\n",
              "Región Oriental  TO          57.883333\n",
              "dtype: float64"
            ]
          },
          "metadata": {
            "tags": []
          },
          "execution_count": 37
        }
      ]
    },
    {
      "cell_type": "markdown",
      "metadata": {
        "id": "BHXgw_G4gVy7"
      },
      "source": [
        "Analizamos en segunda instancia la TO la cual es la tasa de ocuapación el cual nos calcula el porcentaje de población que se encuentra ocupada. En este caso de igual manera lidera Bogotá seguida por la región Oriental y Pacifica, y en este caso de igual manera el peor registro lo mantiene la región Caribe."
      ]
    },
    {
      "cell_type": "code",
      "metadata": {
        "colab": {
          "base_uri": "https://localhost:8080/",
          "height": 340
        },
        "id": "JUj6Tr9JSbrQ",
        "outputId": "a604c41e-40e0-4d48-a46c-99e1ff7538d2"
      },
      "source": [
        "lista_regiones_td =[(\"Bogotá\" ,\"TD\") , (\"Región Pacifica\" , \"TD\"), (\"Región Caribe\" , \"TD\"),\n",
        "                 (\"Región Central\", \"TD\"), (\"Región Oriental\", \"TD\")]\n",
        "\n",
        "regiones_td = Regiones_ordenadas.loc[lista_regiones_td]\n",
        "regiones_td"
      ],
      "execution_count": null,
      "outputs": [
        {
          "output_type": "execute_result",
          "data": {
            "text/html": [
              "<div>\n",
              "<style scoped>\n",
              "    .dataframe tbody tr th:only-of-type {\n",
              "        vertical-align: middle;\n",
              "    }\n",
              "\n",
              "    .dataframe tbody tr th {\n",
              "        vertical-align: top;\n",
              "    }\n",
              "\n",
              "    .dataframe thead th {\n",
              "        text-align: right;\n",
              "    }\n",
              "</style>\n",
              "<table border=\"1\" class=\"dataframe\">\n",
              "  <thead>\n",
              "    <tr style=\"text-align: right;\">\n",
              "      <th></th>\n",
              "      <th></th>\n",
              "      <th>2017-I</th>\n",
              "      <th>2017-II</th>\n",
              "      <th>2018-I</th>\n",
              "      <th>2018-II</th>\n",
              "      <th>2019-I</th>\n",
              "      <th>2019-II</th>\n",
              "    </tr>\n",
              "    <tr>\n",
              "      <th>Región</th>\n",
              "      <th>Concepto</th>\n",
              "      <th></th>\n",
              "      <th></th>\n",
              "      <th></th>\n",
              "      <th></th>\n",
              "      <th></th>\n",
              "      <th></th>\n",
              "    </tr>\n",
              "  </thead>\n",
              "  <tbody>\n",
              "    <tr>\n",
              "      <th>Bogotá</th>\n",
              "      <th>TD</th>\n",
              "      <td>11.20</td>\n",
              "      <td>9.83</td>\n",
              "      <td>11.12</td>\n",
              "      <td>9.87</td>\n",
              "      <td>11.88</td>\n",
              "      <td>9.92</td>\n",
              "    </tr>\n",
              "    <tr>\n",
              "      <th>Región Pacifica</th>\n",
              "      <th>TD</th>\n",
              "      <td>10.05</td>\n",
              "      <td>9.55</td>\n",
              "      <td>10.09</td>\n",
              "      <td>9.47</td>\n",
              "      <td>10.77</td>\n",
              "      <td>10.26</td>\n",
              "    </tr>\n",
              "    <tr>\n",
              "      <th>Región Caribe</th>\n",
              "      <th>TD</th>\n",
              "      <td>8.33</td>\n",
              "      <td>7.57</td>\n",
              "      <td>7.54</td>\n",
              "      <td>7.58</td>\n",
              "      <td>8.52</td>\n",
              "      <td>8.47</td>\n",
              "    </tr>\n",
              "    <tr>\n",
              "      <th>Región Central</th>\n",
              "      <th>TD</th>\n",
              "      <td>10.33</td>\n",
              "      <td>9.34</td>\n",
              "      <td>11.38</td>\n",
              "      <td>10.12</td>\n",
              "      <td>11.66</td>\n",
              "      <td>11.02</td>\n",
              "    </tr>\n",
              "    <tr>\n",
              "      <th>Región Oriental</th>\n",
              "      <th>TD</th>\n",
              "      <td>9.12</td>\n",
              "      <td>8.31</td>\n",
              "      <td>9.80</td>\n",
              "      <td>9.46</td>\n",
              "      <td>11.96</td>\n",
              "      <td>10.46</td>\n",
              "    </tr>\n",
              "  </tbody>\n",
              "</table>\n",
              "</div>"
            ],
            "text/plain": [
              "                          2017-I  2017-II  2018-I  2018-II  2019-I  2019-II\n",
              "Región          Concepto                                                   \n",
              "Bogotá          TD         11.20     9.83   11.12     9.87   11.88     9.92\n",
              "Región Pacifica TD         10.05     9.55   10.09     9.47   10.77    10.26\n",
              "Región Caribe   TD          8.33     7.57    7.54     7.58    8.52     8.47\n",
              "Región Central  TD         10.33     9.34   11.38    10.12   11.66    11.02\n",
              "Región Oriental TD          9.12     8.31    9.80     9.46   11.96    10.46"
            ]
          },
          "metadata": {
            "tags": []
          },
          "execution_count": 38
        }
      ]
    },
    {
      "cell_type": "code",
      "metadata": {
        "colab": {
          "base_uri": "https://localhost:8080/"
        },
        "id": "9BN2zX8Hgg9Y",
        "outputId": "9d5383f7-13e3-4d00-f2cf-54a4277f95cc"
      },
      "source": [
        "regiones_td.mean(1)"
      ],
      "execution_count": null,
      "outputs": [
        {
          "output_type": "execute_result",
          "data": {
            "text/plain": [
              "Región           Concepto\n",
              "Bogotá           TD          10.636667\n",
              "Región Pacifica  TD          10.031667\n",
              "Región Caribe    TD           8.001667\n",
              "Región Central   TD          10.641667\n",
              "Región Oriental  TD           9.851667\n",
              "dtype: float64"
            ]
          },
          "metadata": {
            "tags": []
          },
          "execution_count": 39
        }
      ]
    },
    {
      "cell_type": "markdown",
      "metadata": {
        "id": "Le6w9vJrgiuR"
      },
      "source": [
        "Continuamos analizando la TD que es nuestra tasa de desempleo, la cual en menor medida lidera la Región caribe ya que supera por 2 punto porcentuales a las demas, y en este caso Bogota es quien lidera con una mayor tasa de desempleo."
      ]
    },
    {
      "cell_type": "code",
      "metadata": {
        "colab": {
          "base_uri": "https://localhost:8080/",
          "height": 340
        },
        "id": "TDQ8pXEaSeif",
        "outputId": "09136a02-0a58-453a-8135-ee4b4cebeb69"
      },
      "source": [
        "lista_regiones_PT = [(\"Bogotá\" ,\"Población total\") , (\"Región Pacifica\" , \"Población total\") , \n",
        "                  (\"Región Caribe\" , \"Población total\"),\n",
        "                 (\"Región Central\", \"Población total\"), (\"Región Oriental\", \"Población total\")]\n",
        "\n",
        "Regiones_PT= Regiones_ordenadas.loc[lista_regiones_PT]\n",
        "Regiones_PT"
      ],
      "execution_count": null,
      "outputs": [
        {
          "output_type": "execute_result",
          "data": {
            "text/html": [
              "<div>\n",
              "<style scoped>\n",
              "    .dataframe tbody tr th:only-of-type {\n",
              "        vertical-align: middle;\n",
              "    }\n",
              "\n",
              "    .dataframe tbody tr th {\n",
              "        vertical-align: top;\n",
              "    }\n",
              "\n",
              "    .dataframe thead th {\n",
              "        text-align: right;\n",
              "    }\n",
              "</style>\n",
              "<table border=\"1\" class=\"dataframe\">\n",
              "  <thead>\n",
              "    <tr style=\"text-align: right;\">\n",
              "      <th></th>\n",
              "      <th></th>\n",
              "      <th>2017-I</th>\n",
              "      <th>2017-II</th>\n",
              "      <th>2018-I</th>\n",
              "      <th>2018-II</th>\n",
              "      <th>2019-I</th>\n",
              "      <th>2019-II</th>\n",
              "    </tr>\n",
              "    <tr>\n",
              "      <th>Región</th>\n",
              "      <th>Concepto</th>\n",
              "      <th></th>\n",
              "      <th></th>\n",
              "      <th></th>\n",
              "      <th></th>\n",
              "      <th></th>\n",
              "      <th></th>\n",
              "    </tr>\n",
              "  </thead>\n",
              "  <tbody>\n",
              "    <tr>\n",
              "      <th>Bogotá</th>\n",
              "      <th>Población total</th>\n",
              "      <td>8038.87</td>\n",
              "      <td>8089.07</td>\n",
              "      <td>8139.16</td>\n",
              "      <td>8189.16</td>\n",
              "      <td>8239.09</td>\n",
              "      <td>8288.95</td>\n",
              "    </tr>\n",
              "    <tr>\n",
              "      <th>Región Pacifica</th>\n",
              "      <th>Población total</th>\n",
              "      <td>8388.44</td>\n",
              "      <td>8431.65</td>\n",
              "      <td>8474.77</td>\n",
              "      <td>8517.83</td>\n",
              "      <td>8560.79</td>\n",
              "      <td>8603.51</td>\n",
              "    </tr>\n",
              "    <tr>\n",
              "      <th>Región Caribe</th>\n",
              "      <th>Población total</th>\n",
              "      <td>10612.23</td>\n",
              "      <td>10682.40</td>\n",
              "      <td>10752.37</td>\n",
              "      <td>10822.10</td>\n",
              "      <td>10891.49</td>\n",
              "      <td>10960.42</td>\n",
              "    </tr>\n",
              "    <tr>\n",
              "      <th>Región Central</th>\n",
              "      <th>Población total</th>\n",
              "      <td>12200.17</td>\n",
              "      <td>12256.54</td>\n",
              "      <td>12312.85</td>\n",
              "      <td>12368.97</td>\n",
              "      <td>12425.64</td>\n",
              "      <td>12480.57</td>\n",
              "    </tr>\n",
              "    <tr>\n",
              "      <th>Región Oriental</th>\n",
              "      <th>Población total</th>\n",
              "      <td>8497.20</td>\n",
              "      <td>8539.06</td>\n",
              "      <td>8580.98</td>\n",
              "      <td>8622.89</td>\n",
              "      <td>8664.77</td>\n",
              "      <td>8706.63</td>\n",
              "    </tr>\n",
              "  </tbody>\n",
              "</table>\n",
              "</div>"
            ],
            "text/plain": [
              "                                   2017-I   2017-II  ...    2019-I   2019-II\n",
              "Región          Concepto                             ...                    \n",
              "Bogotá          Población total   8038.87   8089.07  ...   8239.09   8288.95\n",
              "Región Pacifica Población total   8388.44   8431.65  ...   8560.79   8603.51\n",
              "Región Caribe   Población total  10612.23  10682.40  ...  10891.49  10960.42\n",
              "Región Central  Población total  12200.17  12256.54  ...  12425.64  12480.57\n",
              "Región Oriental Población total   8497.20   8539.06  ...   8664.77   8706.63\n",
              "\n",
              "[5 rows x 6 columns]"
            ]
          },
          "metadata": {
            "tags": []
          },
          "execution_count": 40
        }
      ]
    },
    {
      "cell_type": "code",
      "metadata": {
        "colab": {
          "base_uri": "https://localhost:8080/"
        },
        "id": "5HVbEmkSgvVe",
        "outputId": "d33c8969-e7d3-45b3-8213-db406ae4aec2"
      },
      "source": [
        "Regiones_PT.mean(1)"
      ],
      "execution_count": null,
      "outputs": [
        {
          "output_type": "execute_result",
          "data": {
            "text/plain": [
              "Región           Concepto       \n",
              "Bogotá           Población total     8164.050000\n",
              "Región Pacifica  Población total     8496.165000\n",
              "Región Caribe    Población total    10786.835000\n",
              "Región Central   Población total    12340.790000\n",
              "Región Oriental  Población total     8601.921667\n",
              "dtype: float64"
            ]
          },
          "metadata": {
            "tags": []
          },
          "execution_count": 41
        }
      ]
    },
    {
      "cell_type": "markdown",
      "metadata": {
        "id": "f12zN5lhgxSN"
      },
      "source": [
        "En la población total nos encontramos que la región central lidera con un promedio de 12 millones de habitantes, recordando que en la región central se encuntra Bogota que aporta un promedio de 8 millones de personas para los periodos evaludos. La región caribe es la segunda región del país que mayor aporte tiene en población y la región con menor población para los periodos estudiados sin contar a Bogotá es la región pacifica. "
      ]
    },
    {
      "cell_type": "code",
      "metadata": {
        "colab": {
          "base_uri": "https://localhost:8080/",
          "height": 527
        },
        "id": "qY8pRfvPShFp",
        "outputId": "8947d740-1f53-417b-ba7b-45f930f8378f"
      },
      "source": [
        "lista_regiones_PET = [(\"Bogotá\" ,\"Población en edad de trabajar\") , (\"Región Pacifica\" , \"Población en edad de trabajar\") , \n",
        "                  (\"Región Caribe\" , \"Población en edad de trabajar\"),\n",
        "                 (\"Región Central\", \"Población en edad de trabajar\"), (\"Región Oriental\", \"Población en edad de trabajar\")]\n",
        "\n",
        "Regiones_PET= Regiones_ordenadas.loc[lista_regiones_PET]\n",
        "Regiones_PET"
      ],
      "execution_count": null,
      "outputs": [
        {
          "output_type": "execute_result",
          "data": {
            "text/html": [
              "<div>\n",
              "<style scoped>\n",
              "    .dataframe tbody tr th:only-of-type {\n",
              "        vertical-align: middle;\n",
              "    }\n",
              "\n",
              "    .dataframe tbody tr th {\n",
              "        vertical-align: top;\n",
              "    }\n",
              "\n",
              "    .dataframe thead th {\n",
              "        text-align: right;\n",
              "    }\n",
              "</style>\n",
              "<table border=\"1\" class=\"dataframe\">\n",
              "  <thead>\n",
              "    <tr style=\"text-align: right;\">\n",
              "      <th></th>\n",
              "      <th></th>\n",
              "      <th>2017-I</th>\n",
              "      <th>2017-II</th>\n",
              "      <th>2018-I</th>\n",
              "      <th>2018-II</th>\n",
              "      <th>2019-I</th>\n",
              "      <th>2019-II</th>\n",
              "    </tr>\n",
              "    <tr>\n",
              "      <th>Región</th>\n",
              "      <th>Concepto</th>\n",
              "      <th></th>\n",
              "      <th></th>\n",
              "      <th></th>\n",
              "      <th></th>\n",
              "      <th></th>\n",
              "      <th></th>\n",
              "    </tr>\n",
              "  </thead>\n",
              "  <tbody>\n",
              "    <tr>\n",
              "      <th>Bogotá</th>\n",
              "      <th>Población en edad de trabajar</th>\n",
              "      <td>6594.78</td>\n",
              "      <td>6642.92</td>\n",
              "      <td>6690.90</td>\n",
              "      <td>6738.80</td>\n",
              "      <td>6786.64</td>\n",
              "      <td>6834.44</td>\n",
              "    </tr>\n",
              "    <tr>\n",
              "      <th>Región Pacifica</th>\n",
              "      <th>Población en edad de trabajar</th>\n",
              "      <td>6758.34</td>\n",
              "      <td>6799.80</td>\n",
              "      <td>6841.00</td>\n",
              "      <td>6882.14</td>\n",
              "      <td>6923.30</td>\n",
              "      <td>6964.40</td>\n",
              "    </tr>\n",
              "    <tr>\n",
              "      <th>Región Caribe</th>\n",
              "      <th>Población en edad de trabajar</th>\n",
              "      <td>8201.95</td>\n",
              "      <td>8268.32</td>\n",
              "      <td>8334.54</td>\n",
              "      <td>8400.56</td>\n",
              "      <td>8466.42</td>\n",
              "      <td>8532.19</td>\n",
              "    </tr>\n",
              "    <tr>\n",
              "      <th>Región Central</th>\n",
              "      <th>Población en edad de trabajar</th>\n",
              "      <td>9858.19</td>\n",
              "      <td>9911.64</td>\n",
              "      <td>9965.16</td>\n",
              "      <td>10018.81</td>\n",
              "      <td>10073.50</td>\n",
              "      <td>10127.11</td>\n",
              "    </tr>\n",
              "    <tr>\n",
              "      <th>Región Oriental</th>\n",
              "      <th>Población en edad de trabajar</th>\n",
              "      <td>6816.23</td>\n",
              "      <td>6857.70</td>\n",
              "      <td>6910.19</td>\n",
              "      <td>6940.12</td>\n",
              "      <td>6981.02</td>\n",
              "      <td>7021.82</td>\n",
              "    </tr>\n",
              "  </tbody>\n",
              "</table>\n",
              "</div>"
            ],
            "text/plain": [
              "                                                2017-I  ...   2019-II\n",
              "Región          Concepto                                ...          \n",
              "Bogotá          Población en edad de trabajar  6594.78  ...   6834.44\n",
              "Región Pacifica Población en edad de trabajar  6758.34  ...   6964.40\n",
              "Región Caribe   Población en edad de trabajar  8201.95  ...   8532.19\n",
              "Región Central  Población en edad de trabajar  9858.19  ...  10127.11\n",
              "Región Oriental Población en edad de trabajar  6816.23  ...   7021.82\n",
              "\n",
              "[5 rows x 6 columns]"
            ]
          },
          "metadata": {
            "tags": []
          },
          "execution_count": 42
        }
      ]
    },
    {
      "cell_type": "code",
      "metadata": {
        "colab": {
          "base_uri": "https://localhost:8080/"
        },
        "id": "HMPCKJ3Og6iD",
        "outputId": "0d47b837-bf8d-44a3-e500-efbba7d6f16a"
      },
      "source": [
        "Regiones_PET.mean(1)"
      ],
      "execution_count": null,
      "outputs": [
        {
          "output_type": "execute_result",
          "data": {
            "text/plain": [
              "Región           Concepto                     \n",
              "Bogotá           Población en edad de trabajar    6714.746667\n",
              "Región Pacifica  Población en edad de trabajar    6861.496667\n",
              "Región Caribe    Población en edad de trabajar    8367.330000\n",
              "Región Central   Población en edad de trabajar    9992.401667\n",
              "Región Oriental  Población en edad de trabajar    6921.180000\n",
              "dtype: float64"
            ]
          },
          "metadata": {
            "tags": []
          },
          "execution_count": 43
        }
      ]
    },
    {
      "cell_type": "markdown",
      "metadata": {
        "id": "TyJkLlp-g8o4"
      },
      "source": [
        "De igual que con PT la región central lidera en población en edad de trabajar con casi 10 millones de habiantes y sin contar a Bogotá, la región pacifica aporta la menor de cantidad de personas en edad de trabajar en los periodos estudiados."
      ]
    },
    {
      "cell_type": "code",
      "metadata": {
        "colab": {
          "base_uri": "https://localhost:8080/",
          "height": 442
        },
        "id": "aPZVGsKhSoaL",
        "outputId": "f44bdc30-b865-4460-ee11-9cf67ccbc626"
      },
      "source": [
        "lista_regiones_pea =[(\"Bogotá\" ,\"Población económicamente activa\") , (\"Región Pacifica\" , \"Población económicamente activa\"), \n",
        "                    (\"Región Caribe\" , \"Población económicamente activa\"),\n",
        "                 (\"Región Central\", \"Población económicamente activa\"), (\"Región Oriental\", \"Población económicamente activa\")]\n",
        "\n",
        "regiones_pea = Regiones_ordenadas.loc[lista_regiones_pea]\n",
        "regiones_pea"
      ],
      "execution_count": null,
      "outputs": [
        {
          "output_type": "execute_result",
          "data": {
            "text/html": [
              "<div>\n",
              "<style scoped>\n",
              "    .dataframe tbody tr th:only-of-type {\n",
              "        vertical-align: middle;\n",
              "    }\n",
              "\n",
              "    .dataframe tbody tr th {\n",
              "        vertical-align: top;\n",
              "    }\n",
              "\n",
              "    .dataframe thead th {\n",
              "        text-align: right;\n",
              "    }\n",
              "</style>\n",
              "<table border=\"1\" class=\"dataframe\">\n",
              "  <thead>\n",
              "    <tr style=\"text-align: right;\">\n",
              "      <th></th>\n",
              "      <th></th>\n",
              "      <th>2017-I</th>\n",
              "      <th>2017-II</th>\n",
              "      <th>2018-I</th>\n",
              "      <th>2018-II</th>\n",
              "      <th>2019-I</th>\n",
              "      <th>2019-II</th>\n",
              "    </tr>\n",
              "    <tr>\n",
              "      <th>Región</th>\n",
              "      <th>Concepto</th>\n",
              "      <th></th>\n",
              "      <th></th>\n",
              "      <th></th>\n",
              "      <th></th>\n",
              "      <th></th>\n",
              "      <th></th>\n",
              "    </tr>\n",
              "  </thead>\n",
              "  <tbody>\n",
              "    <tr>\n",
              "      <th>Bogotá</th>\n",
              "      <th>Población económicamente activa</th>\n",
              "      <td>4598.19</td>\n",
              "      <td>4619.90</td>\n",
              "      <td>4605.87</td>\n",
              "      <td>4675.72</td>\n",
              "      <td>4694.54</td>\n",
              "      <td>4702.21</td>\n",
              "    </tr>\n",
              "    <tr>\n",
              "      <th>Región Pacifica</th>\n",
              "      <th>Población económicamente activa</th>\n",
              "      <td>4428.53</td>\n",
              "      <td>4384.08</td>\n",
              "      <td>4401.93</td>\n",
              "      <td>4400.62</td>\n",
              "      <td>4351.76</td>\n",
              "      <td>4478.56</td>\n",
              "    </tr>\n",
              "    <tr>\n",
              "      <th>Región Caribe</th>\n",
              "      <th>Población económicamente activa</th>\n",
              "      <td>4945.41</td>\n",
              "      <td>5077.00</td>\n",
              "      <td>4970.72</td>\n",
              "      <td>5153.30</td>\n",
              "      <td>5118.13</td>\n",
              "      <td>5141.75</td>\n",
              "    </tr>\n",
              "    <tr>\n",
              "      <th>Región Central</th>\n",
              "      <th>Población económicamente activa</th>\n",
              "      <td>6221.62</td>\n",
              "      <td>6252.57</td>\n",
              "      <td>6219.86</td>\n",
              "      <td>6318.34</td>\n",
              "      <td>6229.63</td>\n",
              "      <td>6276.30</td>\n",
              "    </tr>\n",
              "    <tr>\n",
              "      <th>Región Oriental</th>\n",
              "      <th>Población económicamente activa</th>\n",
              "      <td>4386.93</td>\n",
              "      <td>4478.94</td>\n",
              "      <td>4490.62</td>\n",
              "      <td>4489.20</td>\n",
              "      <td>4407.16</td>\n",
              "      <td>4404.44</td>\n",
              "    </tr>\n",
              "  </tbody>\n",
              "</table>\n",
              "</div>"
            ],
            "text/plain": [
              "                                                  2017-I  ...  2019-II\n",
              "Región          Concepto                                  ...         \n",
              "Bogotá          Población económicamente activa  4598.19  ...  4702.21\n",
              "Región Pacifica Población económicamente activa  4428.53  ...  4478.56\n",
              "Región Caribe   Población económicamente activa  4945.41  ...  5141.75\n",
              "Región Central  Población económicamente activa  6221.62  ...  6276.30\n",
              "Región Oriental Población económicamente activa  4386.93  ...  4404.44\n",
              "\n",
              "[5 rows x 6 columns]"
            ]
          },
          "metadata": {
            "tags": []
          },
          "execution_count": 44
        }
      ]
    },
    {
      "cell_type": "code",
      "metadata": {
        "colab": {
          "base_uri": "https://localhost:8080/"
        },
        "id": "qqLLo2rZhD2e",
        "outputId": "4705c1fa-9977-4eaa-cec3-f074a1115d11"
      },
      "source": [
        "regiones_pea.mean(1)"
      ],
      "execution_count": null,
      "outputs": [
        {
          "output_type": "execute_result",
          "data": {
            "text/plain": [
              "Región           Concepto                       \n",
              "Bogotá           Población económicamente activa    4649.405000\n",
              "Región Pacifica  Población económicamente activa    4407.580000\n",
              "Región Caribe    Población económicamente activa    5067.718333\n",
              "Región Central   Población económicamente activa    6253.053333\n",
              "Región Oriental  Población económicamente activa    4442.881667\n",
              "dtype: float64"
            ]
          },
          "metadata": {
            "tags": []
          },
          "execution_count": 45
        }
      ]
    },
    {
      "cell_type": "markdown",
      "metadata": {
        "id": "vBKYhmuahP2p"
      },
      "source": [
        "En el caso de poblacion economicamente activa vemos que lidera laa región centra con 6 millones de habitantes y en este caso el de menor aporte es la región pacifica"
      ]
    },
    {
      "cell_type": "code",
      "metadata": {
        "colab": {
          "base_uri": "https://localhost:8080/",
          "height": 340
        },
        "id": "eX3O0YhFSqvk",
        "outputId": "f78ba73e-3d14-4820-8b3a-0c3bc02132ea"
      },
      "source": [
        "lista_regiones_oc =[(\"Bogotá\" ,\"Ocupados\") , (\"Región Pacifica\" , \"Ocupados\"), \n",
        "                    (\"Región Caribe\" , \"Ocupados\"),\n",
        "                 (\"Región Central\", \"Ocupados\"), (\"Región Oriental\", \"Ocupados\")]\n",
        "\n",
        "regiones_oc = Regiones_ordenadas.loc[lista_regiones_oc]\n",
        "regiones_oc"
      ],
      "execution_count": null,
      "outputs": [
        {
          "output_type": "execute_result",
          "data": {
            "text/html": [
              "<div>\n",
              "<style scoped>\n",
              "    .dataframe tbody tr th:only-of-type {\n",
              "        vertical-align: middle;\n",
              "    }\n",
              "\n",
              "    .dataframe tbody tr th {\n",
              "        vertical-align: top;\n",
              "    }\n",
              "\n",
              "    .dataframe thead th {\n",
              "        text-align: right;\n",
              "    }\n",
              "</style>\n",
              "<table border=\"1\" class=\"dataframe\">\n",
              "  <thead>\n",
              "    <tr style=\"text-align: right;\">\n",
              "      <th></th>\n",
              "      <th></th>\n",
              "      <th>2017-I</th>\n",
              "      <th>2017-II</th>\n",
              "      <th>2018-I</th>\n",
              "      <th>2018-II</th>\n",
              "      <th>2019-I</th>\n",
              "      <th>2019-II</th>\n",
              "    </tr>\n",
              "    <tr>\n",
              "      <th>Región</th>\n",
              "      <th>Concepto</th>\n",
              "      <th></th>\n",
              "      <th></th>\n",
              "      <th></th>\n",
              "      <th></th>\n",
              "      <th></th>\n",
              "      <th></th>\n",
              "    </tr>\n",
              "  </thead>\n",
              "  <tbody>\n",
              "    <tr>\n",
              "      <th>Bogotá</th>\n",
              "      <th>Ocupados</th>\n",
              "      <td>4083.37</td>\n",
              "      <td>4165.88</td>\n",
              "      <td>4093.75</td>\n",
              "      <td>4214.04</td>\n",
              "      <td>4136.97</td>\n",
              "      <td>4235.63</td>\n",
              "    </tr>\n",
              "    <tr>\n",
              "      <th>Región Pacifica</th>\n",
              "      <th>Ocupados</th>\n",
              "      <td>3983.46</td>\n",
              "      <td>3965.36</td>\n",
              "      <td>3957.77</td>\n",
              "      <td>3984.03</td>\n",
              "      <td>3883.05</td>\n",
              "      <td>4018.94</td>\n",
              "    </tr>\n",
              "    <tr>\n",
              "      <th>Región Caribe</th>\n",
              "      <th>Ocupados</th>\n",
              "      <td>4533.60</td>\n",
              "      <td>4692.59</td>\n",
              "      <td>4596.15</td>\n",
              "      <td>4762.67</td>\n",
              "      <td>4682.01</td>\n",
              "      <td>4706.25</td>\n",
              "    </tr>\n",
              "    <tr>\n",
              "      <th>Región Central</th>\n",
              "      <th>Ocupados</th>\n",
              "      <td>5579.16</td>\n",
              "      <td>5668.39</td>\n",
              "      <td>5511.92</td>\n",
              "      <td>5678.89</td>\n",
              "      <td>5503.28</td>\n",
              "      <td>5584.64</td>\n",
              "    </tr>\n",
              "    <tr>\n",
              "      <th>Región Oriental</th>\n",
              "      <th>Ocupados</th>\n",
              "      <td>3986.82</td>\n",
              "      <td>4106.53</td>\n",
              "      <td>4050.49</td>\n",
              "      <td>4064.61</td>\n",
              "      <td>3880.25</td>\n",
              "      <td>3943.54</td>\n",
              "    </tr>\n",
              "  </tbody>\n",
              "</table>\n",
              "</div>"
            ],
            "text/plain": [
              "                           2017-I  2017-II   2018-I  2018-II   2019-I  2019-II\n",
              "Región          Concepto                                                      \n",
              "Bogotá          Ocupados  4083.37  4165.88  4093.75  4214.04  4136.97  4235.63\n",
              "Región Pacifica Ocupados  3983.46  3965.36  3957.77  3984.03  3883.05  4018.94\n",
              "Región Caribe   Ocupados  4533.60  4692.59  4596.15  4762.67  4682.01  4706.25\n",
              "Región Central  Ocupados  5579.16  5668.39  5511.92  5678.89  5503.28  5584.64\n",
              "Región Oriental Ocupados  3986.82  4106.53  4050.49  4064.61  3880.25  3943.54"
            ]
          },
          "metadata": {
            "tags": []
          },
          "execution_count": 46
        }
      ]
    },
    {
      "cell_type": "code",
      "metadata": {
        "colab": {
          "base_uri": "https://localhost:8080/"
        },
        "id": "yh1ZXsUNjsAW",
        "outputId": "eb97c27a-9396-4f09-919a-4670a579b5b9"
      },
      "source": [
        "regiones_oc.mean(1)"
      ],
      "execution_count": null,
      "outputs": [
        {
          "output_type": "execute_result",
          "data": {
            "text/plain": [
              "Región           Concepto\n",
              "Bogotá           Ocupados    4154.940000\n",
              "Región Pacifica  Ocupados    3965.435000\n",
              "Región Caribe    Ocupados    4662.211667\n",
              "Región Central   Ocupados    5587.713333\n",
              "Región Oriental  Ocupados    4005.373333\n",
              "dtype: float64"
            ]
          },
          "metadata": {
            "tags": []
          },
          "execution_count": 60
        }
      ]
    },
    {
      "cell_type": "markdown",
      "metadata": {
        "id": "mmARHYPHjx6P"
      },
      "source": [
        "En el caso de ocupados vemos que la región que cuenta con mayor población ocupada es la región central seguida por la región caribe, y nuevamente sin contar a Bogotá la región con menor población ocupada es la región pacifica."
      ]
    },
    {
      "cell_type": "code",
      "metadata": {
        "colab": {
          "base_uri": "https://localhost:8080/",
          "height": 340
        },
        "id": "0W2rpelSSuG7",
        "outputId": "57085b56-7f2b-47a7-b8c2-7b793ba7ac40"
      },
      "source": [
        "lista_regiones_dc =[(\"Bogotá\" ,\"Desocupados\") , (\"Región Pacifica\" , \"Desocupados\"), \n",
        "                    (\"Región Caribe\" , \"Desocupados\"),\n",
        "                 (\"Región Central\", \"Desocupados\"), (\"Región Oriental\", \"Desocupados\")]\n",
        "\n",
        "regiones_dc = Regiones_ordenadas.loc[lista_regiones_dc]\n",
        "regiones_dc"
      ],
      "execution_count": null,
      "outputs": [
        {
          "output_type": "execute_result",
          "data": {
            "text/html": [
              "<div>\n",
              "<style scoped>\n",
              "    .dataframe tbody tr th:only-of-type {\n",
              "        vertical-align: middle;\n",
              "    }\n",
              "\n",
              "    .dataframe tbody tr th {\n",
              "        vertical-align: top;\n",
              "    }\n",
              "\n",
              "    .dataframe thead th {\n",
              "        text-align: right;\n",
              "    }\n",
              "</style>\n",
              "<table border=\"1\" class=\"dataframe\">\n",
              "  <thead>\n",
              "    <tr style=\"text-align: right;\">\n",
              "      <th></th>\n",
              "      <th></th>\n",
              "      <th>2017-I</th>\n",
              "      <th>2017-II</th>\n",
              "      <th>2018-I</th>\n",
              "      <th>2018-II</th>\n",
              "      <th>2019-I</th>\n",
              "      <th>2019-II</th>\n",
              "    </tr>\n",
              "    <tr>\n",
              "      <th>Región</th>\n",
              "      <th>Concepto</th>\n",
              "      <th></th>\n",
              "      <th></th>\n",
              "      <th></th>\n",
              "      <th></th>\n",
              "      <th></th>\n",
              "      <th></th>\n",
              "    </tr>\n",
              "  </thead>\n",
              "  <tbody>\n",
              "    <tr>\n",
              "      <th>Bogotá</th>\n",
              "      <th>Desocupados</th>\n",
              "      <td>514.82</td>\n",
              "      <td>454.03</td>\n",
              "      <td>512.13</td>\n",
              "      <td>461.68</td>\n",
              "      <td>557.57</td>\n",
              "      <td>466.58</td>\n",
              "    </tr>\n",
              "    <tr>\n",
              "      <th>Región Pacifica</th>\n",
              "      <th>Desocupados</th>\n",
              "      <td>445.08</td>\n",
              "      <td>418.72</td>\n",
              "      <td>444.16</td>\n",
              "      <td>416.60</td>\n",
              "      <td>468.70</td>\n",
              "      <td>459.62</td>\n",
              "    </tr>\n",
              "    <tr>\n",
              "      <th>Región Caribe</th>\n",
              "      <th>Desocupados</th>\n",
              "      <td>411.81</td>\n",
              "      <td>384.41</td>\n",
              "      <td>374.57</td>\n",
              "      <td>390.63</td>\n",
              "      <td>436.12</td>\n",
              "      <td>435.50</td>\n",
              "    </tr>\n",
              "    <tr>\n",
              "      <th>Región Central</th>\n",
              "      <th>Desocupados</th>\n",
              "      <td>642.46</td>\n",
              "      <td>584.18</td>\n",
              "      <td>707.93</td>\n",
              "      <td>639.45</td>\n",
              "      <td>726.34</td>\n",
              "      <td>691.66</td>\n",
              "    </tr>\n",
              "    <tr>\n",
              "      <th>Región Oriental</th>\n",
              "      <th>Desocupados</th>\n",
              "      <td>400.11</td>\n",
              "      <td>372.41</td>\n",
              "      <td>440.13</td>\n",
              "      <td>424.60</td>\n",
              "      <td>526.91</td>\n",
              "      <td>460.90</td>\n",
              "    </tr>\n",
              "  </tbody>\n",
              "</table>\n",
              "</div>"
            ],
            "text/plain": [
              "                             2017-I  2017-II  2018-I  2018-II  2019-I  2019-II\n",
              "Región          Concepto                                                      \n",
              "Bogotá          Desocupados  514.82   454.03  512.13   461.68  557.57   466.58\n",
              "Región Pacifica Desocupados  445.08   418.72  444.16   416.60  468.70   459.62\n",
              "Región Caribe   Desocupados  411.81   384.41  374.57   390.63  436.12   435.50\n",
              "Región Central  Desocupados  642.46   584.18  707.93   639.45  726.34   691.66\n",
              "Región Oriental Desocupados  400.11   372.41  440.13   424.60  526.91   460.90"
            ]
          },
          "metadata": {
            "tags": []
          },
          "execution_count": 47
        }
      ]
    },
    {
      "cell_type": "code",
      "metadata": {
        "id": "qq_EKJN_0Hp_",
        "colab": {
          "base_uri": "https://localhost:8080/"
        },
        "outputId": "4d90575d-aea4-40b4-bb5a-539e61d47fb2"
      },
      "source": [
        "regiones_dc.mean(1)"
      ],
      "execution_count": null,
      "outputs": [
        {
          "output_type": "execute_result",
          "data": {
            "text/plain": [
              "Región           Concepto   \n",
              "Bogotá           Desocupados    494.468333\n",
              "Región Pacifica  Desocupados    442.146667\n",
              "Región Caribe    Desocupados    405.506667\n",
              "Región Central   Desocupados    665.336667\n",
              "Región Oriental  Desocupados    437.510000\n",
              "dtype: float64"
            ]
          },
          "metadata": {
            "tags": []
          },
          "execution_count": 62
        }
      ]
    },
    {
      "cell_type": "markdown",
      "metadata": {
        "id": "geSScnVXj445"
      },
      "source": [
        "En el tema de los desocupados vemos que lidera la región central con 600.000 habitantes aproximadamente y de menor cantidad es la región caribe"
      ]
    },
    {
      "cell_type": "code",
      "metadata": {
        "id": "m1PlYHx2S9oa"
      },
      "source": [
        "import matplotlib.pyplot as plt\n",
        "import numpy as np"
      ],
      "execution_count": null,
      "outputs": []
    },
    {
      "cell_type": "code",
      "metadata": {
        "colab": {
          "base_uri": "https://localhost:8080/",
          "height": 54
        },
        "id": "ONQlX__gpd-a",
        "outputId": "1fe05979-9e83-4c8c-a4dd-8588f604ede0"
      },
      "source": [
        "#Comparación dsitribución entre años 2017-2018, OCUPADOS\n",
        "fig, ax= plt.subplots()\n",
        "ax.scatter(regiones_oc[\"2017-I\"], regiones_oc[\"2018-I\"])\n",
        "plt.show()"
      ],
      "execution_count": null,
      "outputs": [
        {
          "output_type": "display_data",
          "data": {
            "image/png": "[encoded data removed]",
            "text/plain": [
              "<Figure size 432x288 with 1 Axes>"
            ]
          },
          "metadata": {
            "tags": [],
            "needs_background": "light"
          }
        }
      ]
    },
    {
      "cell_type": "code",
      "metadata": {
        "colab": {
          "base_uri": "https://localhost:8080/",
          "height": 54
        },
        "id": "BlFfFtphqqhY",
        "outputId": "f0b2abbe-1745-4eee-822c-afc7255b2a60"
      },
      "source": [
        "fig, ax= plt.subplots()\n",
        "ax.scatter(regiones_oc[\"2017-II\"], regiones_oc[\"2018-II\"])\n",
        "plt.show()"
      ],
      "execution_count": null,
      "outputs": [
        {
          "output_type": "display_data",
          "data": {
            "image/png": "[encoded data removed]",
            "text/plain": [
              "<Figure size 432x288 with 1 Axes>"
            ]
          },
          "metadata": {
            "tags": [],
            "needs_background": "light"
          }
        }
      ]
    },
    {
      "cell_type": "code",
      "metadata": {
        "colab": {
          "base_uri": "https://localhost:8080/",
          "height": 54
        },
        "id": "6abKdSCBTAw9",
        "outputId": "7e4c2ca6-4cac-423c-cf9f-6128f4cc183d"
      },
      "source": [
        "#Comparación distribución entre datos 2017-2018, despempleados  \n",
        "fig, ax= plt.subplots()\n",
        "ax.scatter(regiones_dc[\"2017-I\"], regiones_dc[\"2018-I\"])\n",
        "plt.show()"
      ],
      "execution_count": null,
      "outputs": [
        {
          "output_type": "display_data",
          "data": {
            "image/png": "[encoded data removed]",
            "text/plain": [
              "<Figure size 432x288 with 1 Axes>"
            ]
          },
          "metadata": {
            "tags": [],
            "needs_background": "light"
          }
        }
      ]
    },
    {
      "cell_type": "code",
      "metadata": {
        "colab": {
          "base_uri": "https://localhost:8080/",
          "height": 54
        },
        "id": "1I8WVRomrqH2",
        "outputId": "e4449bd1-f703-4a3e-ef62-98c04129fdd6"
      },
      "source": [
        "fig, ax= plt.subplots()\n",
        "ax.scatter(regiones_dc[\"2017-II\"], regiones_dc[\"2018-II\"])\n",
        "plt.show()"
      ],
      "execution_count": null,
      "outputs": [
        {
          "output_type": "display_data",
          "data": {
            "image/png": "[encoded data removed]",
            "text/plain": [
              "<Figure size 432x288 with 1 Axes>"
            ]
          },
          "metadata": {
            "tags": [],
            "needs_background": "light"
          }
        }
      ]
    },
    {
      "cell_type": "code",
      "metadata": {
        "colab": {
          "base_uri": "https://localhost:8080/",
          "height": 54
        },
        "id": "EZOd-FeIoQRh",
        "outputId": "1c501407-ef7e-4604-943b-3a3aaf00b84a"
      },
      "source": [
        "#Comparación distribución entre datos 2017-2019, despempleados  \n",
        "fig, ax= plt.subplots()\n",
        "ax.scatter(regiones_dc[\"2017-I\"], regiones_dc[\"2019-I\"])\n",
        "plt.show()"
      ],
      "execution_count": null,
      "outputs": [
        {
          "output_type": "display_data",
          "data": {
            "image/png": "[encoded data removed]",
            "text/plain": [
              "<Figure size 432x288 with 1 Axes>"
            ]
          },
          "metadata": {
            "tags": [],
            "needs_background": "light"
          }
        }
      ]
    },
    {
      "cell_type": "code",
      "metadata": {
        "colab": {
          "base_uri": "https://localhost:8080/",
          "height": 54
        },
        "id": "1M4_gzBN0ZW3",
        "outputId": "f885e4c0-6731-4ede-89b0-ede886f5da94"
      },
      "source": [
        "fig, ax= plt.subplots()\n",
        "ax.scatter(Regiones_PT[\"2017-I\"], Regiones_PT[\"2019-I\"])\n",
        "plt.show()"
      ],
      "execution_count": null,
      "outputs": [
        {
          "output_type": "display_data",
          "data": {
            "image/png": "[encoded data removed]",
            "text/plain": [
              "<Figure size 432x288 with 1 Axes>"
            ]
          },
          "metadata": {
            "tags": [],
            "needs_background": "light"
          }
        }
      ]
    },
    {
      "cell_type": "code",
      "metadata": {
        "colab": {
          "base_uri": "https://localhost:8080/",
          "height": 54
        },
        "id": "-0T3BRNlWcWn",
        "outputId": "baf400c7-99ca-4027-cd38-d479305249d7"
      },
      "source": [
        "fig, ax = plt.subplots()\n",
        "\n",
        "ax.hist(Empleo_regiones[\"Concepto\"])\n",
        "\n",
        "plt.xticks(rotation = 90)\n",
        "plt.show()"
      ],
      "execution_count": null,
      "outputs": [
        {
          "output_type": "display_data",
          "data": {
            "image/png": "[encoded data removed]",
            "text/plain": [
              "<Figure size 432x288 with 1 Axes>"
            ]
          },
          "metadata": {
            "tags": [],
            "needs_background": "light"
          }
        }
      ]
    },
    {
      "cell_type": "code",
      "metadata": {
        "colab": {
          "base_uri": "https://localhost:8080/",
          "height": 54
        },
        "id": "7MPDUEoSXrQn",
        "outputId": "d0d6cd5f-1a7d-4045-eb5e-cf7a6eee2921"
      },
      "source": [
        "fig, ax = plt.subplots()\n",
        "\n",
        "ax.hist(Empleo_regiones[ \"2017-I\"])\n",
        "ax.hist(Empleo_regiones[\"2017-II\"])\n",
        "\n",
        "plt.show()"
      ],
      "execution_count": null,
      "outputs": [
        {
          "output_type": "display_data",
          "data": {
            "image/png": "[encoded data removed]",
            "text/plain": [
              "<Figure size 432x288 with 1 Axes>"
            ]
          },
          "metadata": {
            "tags": [],
            "needs_background": "light"
          }
        }
      ]
    },
    {
      "cell_type": "code",
      "metadata": {
        "colab": {
          "base_uri": "https://localhost:8080/",
          "height": 54
        },
        "id": "cztjDTocXsD9",
        "outputId": "43058f3c-087d-4d8d-cda3-502746dd6fa3"
      },
      "source": [
        "fig, ax = plt.subplots()\n",
        "\n",
        "ax.hist(Regiones_PT[ \"2018-I\"])\n",
        "\n",
        "\n",
        "plt.show()"
      ],
      "execution_count": null,
      "outputs": [
        {
          "output_type": "display_data",
          "data": {
            "image/png": "[encoded data removed]",
            "text/plain": [
              "<Figure size 432x288 with 1 Axes>"
            ]
          },
          "metadata": {
            "tags": [],
            "needs_background": "light"
          }
        }
      ]
    },
    {
      "cell_type": "code",
      "metadata": {
        "colab": {
          "base_uri": "https://localhost:8080/",
          "height": 441
        },
        "id": "p0vpE8zOcJeg",
        "outputId": "62281f00-3f57-43b4-ffcf-047ae48b3c43"
      },
      "source": [
        "sns.catplot(\"2017-I\",\"2019-I\", data = Empleo_regiones, kind =\"box\")\n",
        "\n",
        "\n",
        "plt.show()"
      ],
      "execution_count": null,
      "outputs": [
        {
          "output_type": "stream",
          "text": [
            "/usr/local/lib/python3.7/dist-packages/seaborn/_decorators.py:43: FutureWarning: Pass the following variables as keyword args: x, y. From version 0.12, the only valid positional argument will be `data`, and passing other arguments without an explicit keyword will result in an error or misinterpretation.\n",
            "  FutureWarning\n"
          ],
          "name": "stderr"
        },
        {
          "output_type": "display_data",
          "data": {
            "image/png": "[encoded data removed]",
            "text/plain": [
              "<Figure size 360x360 with 1 Axes>"
            ]
          },
          "metadata": {
            "tags": []
          }
        }
      ]
    },
    {
      "cell_type": "code",
      "metadata": {
        "id": "_jhITLRYdgXI",
        "colab": {
          "base_uri": "https://localhost:8080/",
          "height": 441
        },
        "outputId": "60165e1b-fd0f-4db9-afc0-72b244423c1e"
      },
      "source": [
        "sns.catplot(\"2017-I\",\"2019-I\", data = regiones_to, kind =\"swarm\", color = \"orange\")\n",
        "\n",
        "plt.show()\n"
      ],
      "execution_count": null,
      "outputs": [
        {
          "output_type": "stream",
          "text": [
            "/usr/local/lib/python3.7/dist-packages/seaborn/_decorators.py:43: FutureWarning: Pass the following variables as keyword args: x, y. From version 0.12, the only valid positional argument will be `data`, and passing other arguments without an explicit keyword will result in an error or misinterpretation.\n",
            "  FutureWarning\n"
          ],
          "name": "stderr"
        },
        {
          "output_type": "display_data",
          "data": {
            "image/png": "[encoded data removed]",
            "text/plain": [
              "<Figure size 360x360 with 1 Axes>"
            ]
          },
          "metadata": {
            "tags": []
          }
        }
      ]
    },
    {
      "cell_type": "code",
      "metadata": {
        "id": "fm1ampQAhfw-",
        "colab": {
          "base_uri": "https://localhost:8080/",
          "height": 441
        },
        "outputId": "8dc5d641-963e-4d39-8f96-e4ccf00e9df5"
      },
      "source": [
        "sns.catplot(\"2017-I\",\"2019-I\", data = regiones_td, kind =\"swarm\", color = \"orange\")\n",
        "\n",
        "plt.show()"
      ],
      "execution_count": null,
      "outputs": [
        {
          "output_type": "stream",
          "text": [
            "/usr/local/lib/python3.7/dist-packages/seaborn/_decorators.py:43: FutureWarning: Pass the following variables as keyword args: x, y. From version 0.12, the only valid positional argument will be `data`, and passing other arguments without an explicit keyword will result in an error or misinterpretation.\n",
            "  FutureWarning\n"
          ],
          "name": "stderr"
        },
        {
          "output_type": "display_data",
          "data": {
            "image/png": "[encoded data removed]",
            "text/plain": [
              "<Figure size 360x360 with 1 Axes>"
            ]
          },
          "metadata": {
            "tags": []
          }
        }
      ]
    },
    {
      "cell_type": "code",
      "metadata": {
        "id": "amVS47GwjCVW"
      },
      "source": [
        ""
      ],
      "execution_count": null,
      "outputs": []
    }
  ]
}