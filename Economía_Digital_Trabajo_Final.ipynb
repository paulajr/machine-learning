{
  "nbformat": 4,
  "nbformat_minor": 0,
  "metadata": {
    "colab": {
      "provenance": []
    },
    "kernelspec": {
      "name": "python3",
      "display_name": "Python 3"
    },
    "language_info": {
      "name": "python"
    }
  },
  "cells": [
    {
      "cell_type": "markdown",
      "metadata": {
        "id": "jftoEnnabfbo"
      },
      "source": [
        "# **Proyecto Economia Digital y desempleo.**\n",
        "\n",
        "\"La era de la inteligencia en red junto con la economía da origen a la economía digital. Dejando atrás un flujo de información físico tal como: el dinero en efectivo, facturas, informes, anuncios y el manejo de otro tipo de datos. Toda esta información pasa a un lenguaje computacional. \"  \n",
        "Castells. M (2006)\n",
        "\n",
        "> *Pregunta problema ¿Qué relación representa la inversión tecnologica y digital en el sector productivo respecto a la tasa de desempleo?*\n",
        "\n",
        "Se quiere observar cómo se ha ido desarrollando la economia digital a lo largo del tiempo, si esta ha ido avanzando hacia la sustitución de mano de obra y/o hacia la digitalizacion del trabajo.\n",
        "\n",
        "![Screenshot (26).png](data:image/png;base64,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)\n",
        "\n",
        "Carpeta de bases:\n",
        "https://drive.google.com/drive/folders/16Os-eZq55ESwRaYXsRplI83PDSlprBHy?usp=sharing"
      ]
    },
    {
      "cell_type": "markdown",
      "metadata": {
        "id": "7pz_-pEdcZ8-"
      },
      "source": [
        "## **TICs y empleo** (Base principal)\n",
        "\n",
        "Fuente: OECD Statistics\n",
        "\n",
        "**Variables:**\n",
        "\n",
        "\n",
        "\n",
        "*   **Años** : Del 2016 al  2019.\n",
        "*   **Paises** : 27 paises. (Barzil, Bélgica,Colombia, Républica Checa, Dinamarca, Estonia, Finlandia, Francia, Alemania, Grecia, Hungria, Islandia, Irlanda, Italia, Corea del sur, Lituania, Paises bajos, Noruega, Portugal, Turquia, Estados Unidos, España, Suecia, Suiza y Reino Unido).\n",
        "\n",
        "*   **A1:** Personas empleadas que utilizan habitualmente una computadora en su trabajo (%).\n",
        "* **D1:** Empresas que reciben pedidos a través de redes informáticas (%).\n",
        "*  **G7B:** Empresas que han realizado análisis de Big Data solo con un proveedor de servicios externo (%).\n",
        "*   **H3:** \"Empresas que impartieron algún tipo de formación para el desarrollo de competencias relacionadas con las TIC de las personas empleadas, en los últimos 12 meses (%)\".\n",
        "*   **H4:** \"Empresas que ofrecieron puestos especializados en TIC, en los últimos 12 meses (%)\".\n",
        "*   **GERD** (Gasto interior bruto en I + D) como porcentaje del PIB.\n",
        "*   **Total de personal de I + D por mil empleos totales**\n",
        "*   **Tasa de desempleo mundial.**\n",
        "*   **Inversión en TICS y I+D en $US**\n",
        "\n",
        "\n",
        "\n",
        "\n",
        "\n",
        "\n",
        "\n",
        "\n"
      ]
    },
    {
      "cell_type": "code",
      "metadata": {
        "id": "WIQuuQpLGxF9"
      },
      "source": [
        "import pandas as pd\n",
        "import matplotlib.pyplot as plt\n",
        "\n",
        "df = pd.read_excel(\"/content/EconomiaDigital.xlsx\",sheet='Enero')\n",
        "df"
      ],
      "execution_count": null,
      "outputs": []
    },
    {
      "cell_type": "code",
      "metadata": {
        "colab": {
          "base_uri": "https://localhost:8080/"
        },
        "id": "laaCTl0lEseR",
        "outputId": "6aba938a-f241-4e8d-cf57-4cb33fec7fe6"
      },
      "source": [
        "df.info()"
      ],
      "execution_count": null,
      "outputs": [
        {
          "output_type": "stream",
          "text": [
            "<class 'pandas.core.frame.DataFrame'>\n",
            "RangeIndex: 104 entries, 0 to 103\n",
            "Data columns (total 11 columns):\n",
            " #   Column                                                                                                                                      Non-Null Count  Dtype  \n",
            "---  ------                                                                                                                                      --------------  -----  \n",
            " 0   Country                                                                                                                                     104 non-null    object \n",
            " 1   Time                                                                                                                                        104 non-null    int64  \n",
            " 2   A1: Persons employed regularly using a computer in their work (%)                                                                           104 non-null    float64\n",
            " 3   D1: Businesses receiving orders over computer networks (%)                                                                                  104 non-null    float64\n",
            " 4   G7B: Businesses having performed Big data analysis only with external service provider (%)                                                  104 non-null    float64\n",
            " 5   H3: \"Businesses which provided any type of training to develop ICT related skills of the persons employed, whithin the last 12 months (%)\"  104 non-null    float64\n",
            " 6   H4: \"Businesses that offered positions for ICT specialist, whithin the last 12 months (%)\"                                                  104 non-null    float64\n",
            " 7   GERD as a percentage of GDP                                                                                                                 104 non-null    float64\n",
            " 8   Total R&D personnel per thousand total employment                                                                                           104 non-null    float64\n",
            " 9   Unemployment rate                                                                                                                           104 non-null    float64\n",
            " 10  Invest in TICS and I+D $US                                                                                                                  104 non-null    int64  \n",
            "dtypes: float64(8), int64(2), object(1)\n",
            "memory usage: 9.1+ KB\n"
          ],
          "name": "stdout"
        }
      ]
    },
    {
      "cell_type": "markdown",
      "metadata": {
        "id": "eX6A1lXXv87C"
      },
      "source": [
        "Realizamos un cambio en el nombre de las variables para su mayor manejo"
      ]
    },
    {
      "cell_type": "code",
      "metadata": {
        "id": "rj00tC9xP7d8"
      },
      "source": [
        "df.rename(columns={'A1: Persons employed regularly using a computer in their work (%)' :'Employers using computer',\n",
        "                        'D1: Businesses receiving orders over computer networks (%)':'Bussiness through computer networks' ,\n",
        "                        'G7B: Businesses having performed Big data analysis only with external service provider (%)': 'Bussineses demand Big data analyst' ,\n",
        "                        'H3: \"Businesses which provided any type of training to develop ICT related skills of the persons employed, whithin the last 12 months (%)\"' : 'Businesses training employers in ICT' ,\n",
        "                        'H4: \"Businesses that offered positions for ICT specialist, whithin the last 12 months (%)\"': 'Bussines offered ICT specialist'} ,\n",
        "                         inplace=True)\n",
        "df.drop(['Invest in TICS and I+D $US'], axis=1)\n",
        "Economia_digital = df\n"
      ],
      "execution_count": null,
      "outputs": []
    },
    {
      "cell_type": "code",
      "metadata": {
        "colab": {
          "base_uri": "https://localhost:8080/"
        },
        "id": "blw_JQw8bqeC",
        "outputId": "9dcc15d2-def0-4b80-dcd7-d5a38f837c97"
      },
      "source": [
        "Economia_digital['Time'].unique()"
      ],
      "execution_count": null,
      "outputs": [
        {
          "output_type": "execute_result",
          "data": {
            "text/plain": [
              "array([2016, 2017, 2018, 2019])"
            ]
          },
          "metadata": {
            "tags": []
          },
          "execution_count": 4
        }
      ]
    },
    {
      "cell_type": "code",
      "metadata": {
        "colab": {
          "base_uri": "https://localhost:8080/"
        },
        "id": "JGxyY2MSdhua",
        "outputId": "e1a3dd02-bf59-48df-fda3-db974b97d16f"
      },
      "source": [
        "Economia_digital['Country'].unique()"
      ],
      "execution_count": null,
      "outputs": [
        {
          "output_type": "execute_result",
          "data": {
            "text/plain": [
              "array(['Belgium', 'Colombia', 'Czech Republic', 'Denmark', 'Estonia',\n",
              "       'Finland', 'France', 'Germany', 'Greece', 'Hungary', 'Iceland',\n",
              "       'Ireland', 'Italy', 'Korea', 'Lithuania', 'Netherlands', 'Norway',\n",
              "       'Poland', 'Portugal', 'Turkey', 'United States', 'Spain', 'Sweden',\n",
              "       'Switzerland', 'United Kingdom', 'Brazil'], dtype=object)"
            ]
          },
          "metadata": {
            "tags": []
          },
          "execution_count": 5
        }
      ]
    },
    {
      "cell_type": "code",
      "metadata": {
        "colab": {
          "base_uri": "https://localhost:8080/",
          "height": 495
        },
        "id": "IvO9FFQwE8Tf",
        "outputId": "81e48d2b-ff4e-4887-c7be-be6df294f141"
      },
      "source": [
        "Economia_digital_paises = Economia_digital.set_index([\"Country\",\"Time\"]).drop(['Invest in TICS and I+D $US'], axis=1)\n",
        "\n",
        "Economia_digital_paises"
      ],
      "execution_count": null,
      "outputs": [
        {
          "output_type": "execute_result",
          "data": {
            "text/html": [
              "<div>\n",
              "<style scoped>\n",
              "    .dataframe tbody tr th:only-of-type {\n",
              "        vertical-align: middle;\n",
              "    }\n",
              "\n",
              "    .dataframe tbody tr th {\n",
              "        vertical-align: top;\n",
              "    }\n",
              "\n",
              "    .dataframe thead th {\n",
              "        text-align: right;\n",
              "    }\n",
              "</style>\n",
              "<table border=\"1\" class=\"dataframe\">\n",
              "  <thead>\n",
              "    <tr style=\"text-align: right;\">\n",
              "      <th></th>\n",
              "      <th></th>\n",
              "      <th>Employers using computer</th>\n",
              "      <th>Bussiness through computer networks</th>\n",
              "      <th>Bussineses demand Big data analyst</th>\n",
              "      <th>Businesses training employers in ICT</th>\n",
              "      <th>Bussines offered ICT specialist</th>\n",
              "      <th>GERD as a percentage of GDP</th>\n",
              "      <th>Total R&amp;D personnel per thousand total employment</th>\n",
              "      <th>Unemployment rate</th>\n",
              "    </tr>\n",
              "    <tr>\n",
              "      <th>Country</th>\n",
              "      <th>Time</th>\n",
              "      <th></th>\n",
              "      <th></th>\n",
              "      <th></th>\n",
              "      <th></th>\n",
              "      <th></th>\n",
              "      <th></th>\n",
              "      <th></th>\n",
              "      <th></th>\n",
              "    </tr>\n",
              "  </thead>\n",
              "  <tbody>\n",
              "    <tr>\n",
              "      <th rowspan=\"4\" valign=\"top\">Belgium</th>\n",
              "      <th>2016</th>\n",
              "      <td>63.427500</td>\n",
              "      <td>25.609600</td>\n",
              "      <td>6.9567</td>\n",
              "      <td>33.586100</td>\n",
              "      <td>10.63930</td>\n",
              "      <td>2.523377</td>\n",
              "      <td>16.920264</td>\n",
              "      <td>7.887972</td>\n",
              "    </tr>\n",
              "    <tr>\n",
              "      <th>2017</th>\n",
              "      <td>64.324000</td>\n",
              "      <td>25.791600</td>\n",
              "      <td>7.6874</td>\n",
              "      <td>34.649900</td>\n",
              "      <td>13.01940</td>\n",
              "      <td>2.667015</td>\n",
              "      <td>17.402117</td>\n",
              "      <td>7.147249</td>\n",
              "    </tr>\n",
              "    <tr>\n",
              "      <th>2018</th>\n",
              "      <td>64.316800</td>\n",
              "      <td>29.921200</td>\n",
              "      <td>8.2354</td>\n",
              "      <td>35.579700</td>\n",
              "      <td>12.82850</td>\n",
              "      <td>2.673260</td>\n",
              "      <td>18.274706</td>\n",
              "      <td>6.003281</td>\n",
              "    </tr>\n",
              "    <tr>\n",
              "      <th>2019</th>\n",
              "      <td>64.992900</td>\n",
              "      <td>30.549500</td>\n",
              "      <td>21.9476</td>\n",
              "      <td>36.373000</td>\n",
              "      <td>14.46340</td>\n",
              "      <td>2.889670</td>\n",
              "      <td>19.653375</td>\n",
              "      <td>5.409494</td>\n",
              "    </tr>\n",
              "    <tr>\n",
              "      <th>Colombia</th>\n",
              "      <th>2016</th>\n",
              "      <td>59.141383</td>\n",
              "      <td>27.740196</td>\n",
              "      <td>2.7623</td>\n",
              "      <td>7.024567</td>\n",
              "      <td>1.92345</td>\n",
              "      <td>0.295756</td>\n",
              "      <td>2.048770</td>\n",
              "      <td>9.534614</td>\n",
              "    </tr>\n",
              "    <tr>\n",
              "      <th>...</th>\n",
              "      <th>...</th>\n",
              "      <td>...</td>\n",
              "      <td>...</td>\n",
              "      <td>...</td>\n",
              "      <td>...</td>\n",
              "      <td>...</td>\n",
              "      <td>...</td>\n",
              "      <td>...</td>\n",
              "      <td>...</td>\n",
              "    </tr>\n",
              "    <tr>\n",
              "      <th>United Kingdom</th>\n",
              "      <th>2019</th>\n",
              "      <td>64.396500</td>\n",
              "      <td>25.953300</td>\n",
              "      <td>14.3560</td>\n",
              "      <td>29.403400</td>\n",
              "      <td>10.13000</td>\n",
              "      <td>1.755940</td>\n",
              "      <td>14.822200</td>\n",
              "      <td>3.963302</td>\n",
              "    </tr>\n",
              "    <tr>\n",
              "      <th rowspan=\"4\" valign=\"top\">Brazil</th>\n",
              "      <th>2016</th>\n",
              "      <td>43.346600</td>\n",
              "      <td>16.356700</td>\n",
              "      <td>4.4208</td>\n",
              "      <td>11.746752</td>\n",
              "      <td>12.76840</td>\n",
              "      <td>2.788210</td>\n",
              "      <td>4.465639</td>\n",
              "      <td>4.933998</td>\n",
              "    </tr>\n",
              "    <tr>\n",
              "      <th>2017</th>\n",
              "      <td>50.000000</td>\n",
              "      <td>21.200000</td>\n",
              "      <td>5.2346</td>\n",
              "      <td>12.335000</td>\n",
              "      <td>13.14050</td>\n",
              "      <td>2.846766</td>\n",
              "      <td>4.353933</td>\n",
              "      <td>4.406087</td>\n",
              "    </tr>\n",
              "    <tr>\n",
              "      <th>2018</th>\n",
              "      <td>48.456700</td>\n",
              "      <td>18.465348</td>\n",
              "      <td>6.1344</td>\n",
              "      <td>12.768400</td>\n",
              "      <td>12.08600</td>\n",
              "      <td>2.947206</td>\n",
              "      <td>5.235000</td>\n",
              "      <td>3.937702</td>\n",
              "    </tr>\n",
              "    <tr>\n",
              "      <th>2019</th>\n",
              "      <td>49.000000</td>\n",
              "      <td>21.200000</td>\n",
              "      <td>11.8398</td>\n",
              "      <td>23.575700</td>\n",
              "      <td>13.53340</td>\n",
              "      <td>3.067476</td>\n",
              "      <td>7.345000</td>\n",
              "      <td>3.716811</td>\n",
              "    </tr>\n",
              "  </tbody>\n",
              "</table>\n",
              "<p>104 rows × 8 columns</p>\n",
              "</div>"
            ],
            "text/plain": [
              "                     Employers using computer  ...  Unemployment rate\n",
              "Country        Time                            ...                   \n",
              "Belgium        2016                 63.427500  ...           7.887972\n",
              "               2017                 64.324000  ...           7.147249\n",
              "               2018                 64.316800  ...           6.003281\n",
              "               2019                 64.992900  ...           5.409494\n",
              "Colombia       2016                 59.141383  ...           9.534614\n",
              "...                                       ...  ...                ...\n",
              "United Kingdom 2019                 64.396500  ...           3.963302\n",
              "Brazil         2016                 43.346600  ...           4.933998\n",
              "               2017                 50.000000  ...           4.406087\n",
              "               2018                 48.456700  ...           3.937702\n",
              "               2019                 49.000000  ...           3.716811\n",
              "\n",
              "[104 rows x 8 columns]"
            ]
          },
          "metadata": {
            "tags": []
          },
          "execution_count": 9
        }
      ]
    },
    {
      "cell_type": "code",
      "metadata": {
        "colab": {
          "base_uri": "https://localhost:8080/",
          "height": 311
        },
        "id": "zl2ssaltgD8x",
        "outputId": "c8ba5235-5cfd-4014-8a29-f215e6bf5fe4"
      },
      "source": [
        "Economia_digital_paises.describe().round(3)"
      ],
      "execution_count": null,
      "outputs": [
        {
          "output_type": "execute_result",
          "data": {
            "text/html": [
              "<div>\n",
              "<style scoped>\n",
              "    .dataframe tbody tr th:only-of-type {\n",
              "        vertical-align: middle;\n",
              "    }\n",
              "\n",
              "    .dataframe tbody tr th {\n",
              "        vertical-align: top;\n",
              "    }\n",
              "\n",
              "    .dataframe thead th {\n",
              "        text-align: right;\n",
              "    }\n",
              "</style>\n",
              "<table border=\"1\" class=\"dataframe\">\n",
              "  <thead>\n",
              "    <tr style=\"text-align: right;\">\n",
              "      <th></th>\n",
              "      <th>Employers using computer</th>\n",
              "      <th>Bussiness through computer networks</th>\n",
              "      <th>Bussineses demand Big data analyst</th>\n",
              "      <th>Businesses training employers in ICT</th>\n",
              "      <th>Bussines offered ICT specialist</th>\n",
              "      <th>GERD as a percentage of GDP</th>\n",
              "      <th>Total R&amp;D personnel per thousand total employment</th>\n",
              "      <th>Unemployment rate</th>\n",
              "    </tr>\n",
              "  </thead>\n",
              "  <tbody>\n",
              "    <tr>\n",
              "      <th>count</th>\n",
              "      <td>104.000</td>\n",
              "      <td>104.000</td>\n",
              "      <td>104.000</td>\n",
              "      <td>104.000</td>\n",
              "      <td>104.000</td>\n",
              "      <td>104.000</td>\n",
              "      <td>104.000</td>\n",
              "      <td>104.000</td>\n",
              "    </tr>\n",
              "    <tr>\n",
              "      <th>mean</th>\n",
              "      <td>61.043</td>\n",
              "      <td>23.599</td>\n",
              "      <td>9.445</td>\n",
              "      <td>21.962</td>\n",
              "      <td>8.624</td>\n",
              "      <td>1.995</td>\n",
              "      <td>13.527</td>\n",
              "      <td>7.080</td>\n",
              "    </tr>\n",
              "    <tr>\n",
              "      <th>std</th>\n",
              "      <td>14.548</td>\n",
              "      <td>9.450</td>\n",
              "      <td>4.694</td>\n",
              "      <td>8.819</td>\n",
              "      <td>2.812</td>\n",
              "      <td>0.963</td>\n",
              "      <td>4.576</td>\n",
              "      <td>4.236</td>\n",
              "    </tr>\n",
              "    <tr>\n",
              "      <th>min</th>\n",
              "      <td>41.935</td>\n",
              "      <td>11.019</td>\n",
              "      <td>2.285</td>\n",
              "      <td>7.025</td>\n",
              "      <td>1.923</td>\n",
              "      <td>0.262</td>\n",
              "      <td>1.859</td>\n",
              "      <td>2.061</td>\n",
              "    </tr>\n",
              "    <tr>\n",
              "      <th>25%</th>\n",
              "      <td>48.788</td>\n",
              "      <td>18.162</td>\n",
              "      <td>6.304</td>\n",
              "      <td>14.118</td>\n",
              "      <td>6.466</td>\n",
              "      <td>1.239</td>\n",
              "      <td>9.998</td>\n",
              "      <td>4.157</td>\n",
              "    </tr>\n",
              "    <tr>\n",
              "      <th>50%</th>\n",
              "      <td>59.442</td>\n",
              "      <td>21.884</td>\n",
              "      <td>8.138</td>\n",
              "      <td>21.270</td>\n",
              "      <td>8.699</td>\n",
              "      <td>1.921</td>\n",
              "      <td>14.438</td>\n",
              "      <td>5.864</td>\n",
              "    </tr>\n",
              "    <tr>\n",
              "      <th>75%</th>\n",
              "      <td>68.733</td>\n",
              "      <td>27.690</td>\n",
              "      <td>10.801</td>\n",
              "      <td>28.365</td>\n",
              "      <td>10.632</td>\n",
              "      <td>2.763</td>\n",
              "      <td>16.737</td>\n",
              "      <td>8.592</td>\n",
              "    </tr>\n",
              "    <tr>\n",
              "      <th>max</th>\n",
              "      <td>100.000</td>\n",
              "      <td>64.223</td>\n",
              "      <td>25.983</td>\n",
              "      <td>44.372</td>\n",
              "      <td>14.463</td>\n",
              "      <td>4.640</td>\n",
              "      <td>21.853</td>\n",
              "      <td>23.704</td>\n",
              "    </tr>\n",
              "  </tbody>\n",
              "</table>\n",
              "</div>"
            ],
            "text/plain": [
              "       Employers using computer  ...  Unemployment rate\n",
              "count                   104.000  ...            104.000\n",
              "mean                     61.043  ...              7.080\n",
              "std                      14.548  ...              4.236\n",
              "min                      41.935  ...              2.061\n",
              "25%                      48.788  ...              4.157\n",
              "50%                      59.442  ...              5.864\n",
              "75%                      68.733  ...              8.592\n",
              "max                     100.000  ...             23.704\n",
              "\n",
              "[8 rows x 8 columns]"
            ]
          },
          "metadata": {
            "tags": []
          },
          "execution_count": 10
        }
      ]
    },
    {
      "cell_type": "markdown",
      "metadata": {
        "id": "OpIHNoaRwI2t"
      },
      "source": [
        "Haremos una división de la base de datos en los diferentes continentes."
      ]
    },
    {
      "cell_type": "markdown",
      "metadata": {
        "id": "kv8ngmEWuTXx"
      },
      "source": [
        " ###  **América**\n",
        "\n",
        "\n",
        "---\n",
        "\n",
        "\n",
        "\n",
        "\n",
        "\n",
        "\n",
        "\n",
        "\n",
        "\n"
      ]
    },
    {
      "cell_type": "code",
      "metadata": {
        "colab": {
          "base_uri": "https://localhost:8080/",
          "height": 481
        },
        "id": "MRiEWlrxHBQU",
        "outputId": "c5bc4169-b2fb-4b37-cb11-04bea9f30a25"
      },
      "source": [
        "Economia_digital_amca = [\"Colombia\" , \"Brazil\" , \"United States\"]\n",
        "\n",
        "America_Edigital =Economia_digital_paises.loc[Economia_digital_amca]\n",
        "America_Edigital.round(3)"
      ],
      "execution_count": null,
      "outputs": [
        {
          "output_type": "execute_result",
          "data": {
            "text/html": [
              "<div>\n",
              "<style scoped>\n",
              "    .dataframe tbody tr th:only-of-type {\n",
              "        vertical-align: middle;\n",
              "    }\n",
              "\n",
              "    .dataframe tbody tr th {\n",
              "        vertical-align: top;\n",
              "    }\n",
              "\n",
              "    .dataframe thead th {\n",
              "        text-align: right;\n",
              "    }\n",
              "</style>\n",
              "<table border=\"1\" class=\"dataframe\">\n",
              "  <thead>\n",
              "    <tr style=\"text-align: right;\">\n",
              "      <th></th>\n",
              "      <th></th>\n",
              "      <th>Employers using computer</th>\n",
              "      <th>Bussiness through computer networks</th>\n",
              "      <th>Bussineses demand Big data analyst</th>\n",
              "      <th>Businesses training employers in ICT</th>\n",
              "      <th>Bussines offered ICT specialist</th>\n",
              "      <th>GERD as a percentage of GDP</th>\n",
              "      <th>Total R&amp;D personnel per thousand total employment</th>\n",
              "      <th>Unemployment rate</th>\n",
              "    </tr>\n",
              "    <tr>\n",
              "      <th>Country</th>\n",
              "      <th>Time</th>\n",
              "      <th></th>\n",
              "      <th></th>\n",
              "      <th></th>\n",
              "      <th></th>\n",
              "      <th></th>\n",
              "      <th></th>\n",
              "      <th></th>\n",
              "      <th></th>\n",
              "    </tr>\n",
              "  </thead>\n",
              "  <tbody>\n",
              "    <tr>\n",
              "      <th rowspan=\"4\" valign=\"top\">Colombia</th>\n",
              "      <th>2016</th>\n",
              "      <td>59.141</td>\n",
              "      <td>27.740</td>\n",
              "      <td>2.762</td>\n",
              "      <td>7.025</td>\n",
              "      <td>1.923</td>\n",
              "      <td>0.296</td>\n",
              "      <td>2.049</td>\n",
              "      <td>9.535</td>\n",
              "    </tr>\n",
              "    <tr>\n",
              "      <th>2017</th>\n",
              "      <td>58.257</td>\n",
              "      <td>25.457</td>\n",
              "      <td>3.214</td>\n",
              "      <td>7.974</td>\n",
              "      <td>2.032</td>\n",
              "      <td>0.262</td>\n",
              "      <td>2.007</td>\n",
              "      <td>9.721</td>\n",
              "    </tr>\n",
              "    <tr>\n",
              "      <th>2018</th>\n",
              "      <td>60.351</td>\n",
              "      <td>26.379</td>\n",
              "      <td>3.953</td>\n",
              "      <td>8.697</td>\n",
              "      <td>3.571</td>\n",
              "      <td>0.286</td>\n",
              "      <td>1.859</td>\n",
              "      <td>10.006</td>\n",
              "    </tr>\n",
              "    <tr>\n",
              "      <th>2019</th>\n",
              "      <td>63.570</td>\n",
              "      <td>27.780</td>\n",
              "      <td>7.017</td>\n",
              "      <td>11.700</td>\n",
              "      <td>3.976</td>\n",
              "      <td>0.281</td>\n",
              "      <td>2.017</td>\n",
              "      <td>10.832</td>\n",
              "    </tr>\n",
              "    <tr>\n",
              "      <th rowspan=\"4\" valign=\"top\">Brazil</th>\n",
              "      <th>2016</th>\n",
              "      <td>43.347</td>\n",
              "      <td>16.357</td>\n",
              "      <td>4.421</td>\n",
              "      <td>11.747</td>\n",
              "      <td>12.768</td>\n",
              "      <td>2.788</td>\n",
              "      <td>4.466</td>\n",
              "      <td>4.934</td>\n",
              "    </tr>\n",
              "    <tr>\n",
              "      <th>2017</th>\n",
              "      <td>50.000</td>\n",
              "      <td>21.200</td>\n",
              "      <td>5.235</td>\n",
              "      <td>12.335</td>\n",
              "      <td>13.140</td>\n",
              "      <td>2.847</td>\n",
              "      <td>4.354</td>\n",
              "      <td>4.406</td>\n",
              "    </tr>\n",
              "    <tr>\n",
              "      <th>2018</th>\n",
              "      <td>48.457</td>\n",
              "      <td>18.465</td>\n",
              "      <td>6.134</td>\n",
              "      <td>12.768</td>\n",
              "      <td>12.086</td>\n",
              "      <td>2.947</td>\n",
              "      <td>5.235</td>\n",
              "      <td>3.938</td>\n",
              "    </tr>\n",
              "    <tr>\n",
              "      <th>2019</th>\n",
              "      <td>49.000</td>\n",
              "      <td>21.200</td>\n",
              "      <td>11.840</td>\n",
              "      <td>23.576</td>\n",
              "      <td>13.533</td>\n",
              "      <td>3.067</td>\n",
              "      <td>7.345</td>\n",
              "      <td>3.717</td>\n",
              "    </tr>\n",
              "    <tr>\n",
              "      <th rowspan=\"4\" valign=\"top\">United States</th>\n",
              "      <th>2016</th>\n",
              "      <td>65.378</td>\n",
              "      <td>20.305</td>\n",
              "      <td>9.896</td>\n",
              "      <td>27.485</td>\n",
              "      <td>6.475</td>\n",
              "      <td>2.008</td>\n",
              "      <td>7.655</td>\n",
              "      <td>19.746</td>\n",
              "    </tr>\n",
              "    <tr>\n",
              "      <th>2017</th>\n",
              "      <td>76.630</td>\n",
              "      <td>24.667</td>\n",
              "      <td>7.239</td>\n",
              "      <td>26.734</td>\n",
              "      <td>6.508</td>\n",
              "      <td>1.865</td>\n",
              "      <td>8.014</td>\n",
              "      <td>17.331</td>\n",
              "    </tr>\n",
              "    <tr>\n",
              "      <th>2018</th>\n",
              "      <td>78.501</td>\n",
              "      <td>25.377</td>\n",
              "      <td>9.314</td>\n",
              "      <td>28.532</td>\n",
              "      <td>7.961</td>\n",
              "      <td>1.947</td>\n",
              "      <td>8.376</td>\n",
              "      <td>15.350</td>\n",
              "    </tr>\n",
              "    <tr>\n",
              "      <th>2019</th>\n",
              "      <td>86.550</td>\n",
              "      <td>24.934</td>\n",
              "      <td>5.148</td>\n",
              "      <td>28.439</td>\n",
              "      <td>7.733</td>\n",
              "      <td>2.044</td>\n",
              "      <td>8.668</td>\n",
              "      <td>14.189</td>\n",
              "    </tr>\n",
              "  </tbody>\n",
              "</table>\n",
              "</div>"
            ],
            "text/plain": [
              "                    Employers using computer  ...  Unemployment rate\n",
              "Country       Time                            ...                   \n",
              "Colombia      2016                    59.141  ...              9.535\n",
              "              2017                    58.257  ...              9.721\n",
              "              2018                    60.351  ...             10.006\n",
              "              2019                    63.570  ...             10.832\n",
              "Brazil        2016                    43.347  ...              4.934\n",
              "              2017                    50.000  ...              4.406\n",
              "              2018                    48.457  ...              3.938\n",
              "              2019                    49.000  ...              3.717\n",
              "United States 2016                    65.378  ...             19.746\n",
              "              2017                    76.630  ...             17.331\n",
              "              2018                    78.501  ...             15.350\n",
              "              2019                    86.550  ...             14.189\n",
              "\n",
              "[12 rows x 8 columns]"
            ]
          },
          "metadata": {
            "tags": []
          },
          "execution_count": 11
        }
      ]
    },
    {
      "cell_type": "code",
      "metadata": {
        "colab": {
          "base_uri": "https://localhost:8080/"
        },
        "id": "szAEOyI0MsTk",
        "outputId": "b76e519b-631c-418a-bdd3-0d805a9ea8f0"
      },
      "source": [
        "America_Edigital.mean(1)"
      ],
      "execution_count": null,
      "outputs": [
        {
          "output_type": "execute_result",
          "data": {
            "text/plain": [
              "Country        Time\n",
              "Colombia       2016      199.941226\n",
              "               2017      175.324799\n",
              "               2018      176.011350\n",
              "               2019      181.574697\n",
              "Brazil         2016      169.758566\n",
              "               2017      184.168543\n",
              "               2018      196.558973\n",
              "               2019      210.919798\n",
              "United States  2016     9757.549860\n",
              "               2017    10515.665415\n",
              "               2018    10574.706412\n",
              "               2019    10619.411790\n",
              "dtype: float64"
            ]
          },
          "metadata": {
            "tags": []
          },
          "execution_count": 182
        }
      ]
    },
    {
      "cell_type": "code",
      "metadata": {
        "colab": {
          "base_uri": "https://localhost:8080/",
          "height": 393
        },
        "id": "PLG2jJBvfyIa",
        "outputId": "afe41b6e-4f16-4750-8637-b4a441fd2023"
      },
      "source": [
        "America_Edigital.mean(1).plot(kind='bar', color = \"brown\", alpha=0.7)"
      ],
      "execution_count": null,
      "outputs": [
        {
          "output_type": "execute_result",
          "data": {
            "text/plain": [
              "<matplotlib.axes._subplots.AxesSubplot at 0x7fd7c88a3910>"
            ]
          },
          "metadata": {
            "tags": []
          },
          "execution_count": 12
        },
        {
          "output_type": "display_data",
          "data": {
            "image/png": "[encoded data removed]",
            "text/plain": [
              "<Figure size 432x288 with 1 Axes>"
            ]
          },
          "metadata": {
            "tags": [],
            "needs_background": "light"
          }
        }
      ]
    },
    {
      "cell_type": "code",
      "metadata": {
        "colab": {
          "base_uri": "https://localhost:8080/"
        },
        "id": "qUPeb0gPcLjF",
        "outputId": "feaab328-8678-4380-cf10-f1d43788f768"
      },
      "source": [
        "America_Edigital_años = America_Edigital.groupby(['Time', 'Employers using computer'])['Employers using computer'].count()\n",
        "America_Edigital_años"
      ],
      "execution_count": null,
      "outputs": [
        {
          "output_type": "execute_result",
          "data": {
            "text/plain": [
              "Time  Employers using computer\n",
              "2016  43.346600                   1\n",
              "      59.141383                   1\n",
              "      65.378500                   1\n",
              "2017  50.000000                   1\n",
              "      58.257144                   1\n",
              "      76.629800                   1\n",
              "2018  48.456700                   1\n",
              "      60.351333                   1\n",
              "      78.501000                   1\n",
              "2019  49.000000                   1\n",
              "      63.570000                   1\n",
              "      86.549800                   1\n",
              "Name: Employers using computer, dtype: int64"
            ]
          },
          "metadata": {
            "tags": []
          },
          "execution_count": 13
        }
      ]
    },
    {
      "cell_type": "code",
      "metadata": {
        "colab": {
          "base_uri": "https://localhost:8080/",
          "height": 400
        },
        "id": "TgYooGevR2W7",
        "outputId": "79e16bbb-5612-4475-e1d2-672812a54e9f"
      },
      "source": [
        "America_Edigital.plot(kind='bar',  stacked=True)\n",
        "plt.legend(title= '**Digital Economy Colombia, Brazil and UU.EE (2016-2019)**', loc='best', ncol=3, bbox_to_anchor=(0.5, 1.05))"
      ],
      "execution_count": null,
      "outputs": [
        {
          "output_type": "execute_result",
          "data": {
            "text/plain": [
              "<matplotlib.legend.Legend at 0x7fd7c88a3250>"
            ]
          },
          "metadata": {
            "tags": []
          },
          "execution_count": 14
        },
        {
          "output_type": "display_data",
          "data": {
            "image/png": "[encoded data removed]",
            "text/plain": [
              "<Figure size 432x288 with 1 Axes>"
            ]
          },
          "metadata": {
            "tags": [],
            "needs_background": "light"
          }
        }
      ]
    },
    {
      "cell_type": "markdown",
      "metadata": {
        "id": "EezXokjkuhO6"
      },
      "source": [
        "* **Colombia**"
      ]
    },
    {
      "cell_type": "code",
      "metadata": {
        "colab": {
          "base_uri": "https://localhost:8080/",
          "height": 218
        },
        "id": "kmHiTi7zFogx",
        "outputId": "459c14f3-c898-409d-976b-76c45660c4cc"
      },
      "source": [
        "America_Edigital.loc[\"Colombia\"]"
      ],
      "execution_count": null,
      "outputs": [
        {
          "output_type": "execute_result",
          "data": {
            "text/html": [
              "<div>\n",
              "<style scoped>\n",
              "    .dataframe tbody tr th:only-of-type {\n",
              "        vertical-align: middle;\n",
              "    }\n",
              "\n",
              "    .dataframe tbody tr th {\n",
              "        vertical-align: top;\n",
              "    }\n",
              "\n",
              "    .dataframe thead th {\n",
              "        text-align: right;\n",
              "    }\n",
              "</style>\n",
              "<table border=\"1\" class=\"dataframe\">\n",
              "  <thead>\n",
              "    <tr style=\"text-align: right;\">\n",
              "      <th></th>\n",
              "      <th>Employers using computer</th>\n",
              "      <th>Bussiness through computer networks</th>\n",
              "      <th>Bussineses demand Big data analyst</th>\n",
              "      <th>Businesses training employers in ICT</th>\n",
              "      <th>Bussines offered ICT specialist</th>\n",
              "      <th>GERD as a percentage of GDP</th>\n",
              "      <th>Total R&amp;D personnel per thousand total employment</th>\n",
              "      <th>Unemployment rate</th>\n",
              "    </tr>\n",
              "    <tr>\n",
              "      <th>Time</th>\n",
              "      <th></th>\n",
              "      <th></th>\n",
              "      <th></th>\n",
              "      <th></th>\n",
              "      <th></th>\n",
              "      <th></th>\n",
              "      <th></th>\n",
              "      <th></th>\n",
              "    </tr>\n",
              "  </thead>\n",
              "  <tbody>\n",
              "    <tr>\n",
              "      <th>2016</th>\n",
              "      <td>59.141383</td>\n",
              "      <td>27.740196</td>\n",
              "      <td>2.7623</td>\n",
              "      <td>7.024567</td>\n",
              "      <td>1.923450</td>\n",
              "      <td>0.295756</td>\n",
              "      <td>2.048770</td>\n",
              "      <td>9.534614</td>\n",
              "    </tr>\n",
              "    <tr>\n",
              "      <th>2017</th>\n",
              "      <td>58.257144</td>\n",
              "      <td>25.456616</td>\n",
              "      <td>3.2145</td>\n",
              "      <td>7.973550</td>\n",
              "      <td>2.032312</td>\n",
              "      <td>0.261546</td>\n",
              "      <td>2.006793</td>\n",
              "      <td>9.720731</td>\n",
              "    </tr>\n",
              "    <tr>\n",
              "      <th>2018</th>\n",
              "      <td>60.351333</td>\n",
              "      <td>26.379277</td>\n",
              "      <td>3.9528</td>\n",
              "      <td>8.696650</td>\n",
              "      <td>3.571340</td>\n",
              "      <td>0.285997</td>\n",
              "      <td>1.858605</td>\n",
              "      <td>10.006153</td>\n",
              "    </tr>\n",
              "    <tr>\n",
              "      <th>2019</th>\n",
              "      <td>63.570000</td>\n",
              "      <td>27.780000</td>\n",
              "      <td>7.0170</td>\n",
              "      <td>11.700000</td>\n",
              "      <td>3.976300</td>\n",
              "      <td>0.280656</td>\n",
              "      <td>2.016755</td>\n",
              "      <td>10.831563</td>\n",
              "    </tr>\n",
              "  </tbody>\n",
              "</table>\n",
              "</div>"
            ],
            "text/plain": [
              "      Employers using computer  ...  Unemployment rate\n",
              "Time                            ...                   \n",
              "2016                 59.141383  ...           9.534614\n",
              "2017                 58.257144  ...           9.720731\n",
              "2018                 60.351333  ...          10.006153\n",
              "2019                 63.570000  ...          10.831563\n",
              "\n",
              "[4 rows x 8 columns]"
            ]
          },
          "metadata": {
            "tags": []
          },
          "execution_count": 15
        }
      ]
    },
    {
      "cell_type": "code",
      "metadata": {
        "colab": {
          "base_uri": "https://localhost:8080/",
          "height": 354
        },
        "id": "2iY23UBAiIjU",
        "outputId": "7d035e11-84be-4d91-e2dc-0279391c8773"
      },
      "source": [
        "America_Edigital.loc[\"Colombia\"].plot(kind='bar',  stacked=True)\n",
        "plt.legend(title= '**Digital Economy Colombia (2016-2019)**', loc='center', ncol=3, bbox_to_anchor=(0.5, 1.05))"
      ],
      "execution_count": null,
      "outputs": [
        {
          "output_type": "execute_result",
          "data": {
            "text/plain": [
              "<matplotlib.legend.Legend at 0x7fd7c810a210>"
            ]
          },
          "metadata": {
            "tags": []
          },
          "execution_count": 16
        },
        {
          "output_type": "display_data",
          "data": {
            "image/png": "[encoded data removed]",
            "text/plain": [
              "<Figure size 432x288 with 1 Axes>"
            ]
          },
          "metadata": {
            "tags": [],
            "needs_background": "light"
          }
        }
      ]
    },
    {
      "cell_type": "markdown",
      "metadata": {
        "id": "E__jypWlumQQ"
      },
      "source": [
        "### **Europa**\n",
        "\n",
        "\n",
        "\n",
        "---\n",
        "\n",
        "\n",
        "\n"
      ]
    },
    {
      "cell_type": "code",
      "metadata": {
        "id": "8NpefQDMJRkg"
      },
      "source": [
        "Economia_digital_EU = [\"Finland\", \"Germany\", \"Iceland\", \"Norway\", \"Spain\", \"Sweden\" , \"United Kingdom\"]\n",
        "\n",
        "Europa_Edigital = Economia_digital_paises.loc[Economia_digital_EU]"
      ],
      "execution_count": null,
      "outputs": []
    },
    {
      "cell_type": "code",
      "metadata": {
        "colab": {
          "base_uri": "https://localhost:8080/",
          "height": 485
        },
        "id": "63IcG65sPbVQ",
        "outputId": "190bfc5a-3514-44f2-bda6-08d620a4baf2"
      },
      "source": [
        "Europa_Edigital.plot(kind='bar',  stacked=True)\n",
        "plt.legend(title= '**Digital Economy Finland, Germany,Iceland,Norway,Spain,Sweden and UK (2016-2019)**',loc='best', ncol=3, bbox_to_anchor=(0.5, 1.05))"
      ],
      "execution_count": null,
      "outputs": [
        {
          "output_type": "execute_result",
          "data": {
            "text/plain": [
              "<matplotlib.legend.Legend at 0x7fd7c7ff7c10>"
            ]
          },
          "metadata": {
            "tags": []
          },
          "execution_count": 19
        },
        {
          "output_type": "display_data",
          "data": {
            "image/png": "[encoded data removed]",
            "text/plain": [
              "<Figure size 432x288 with 1 Axes>"
            ]
          },
          "metadata": {
            "tags": [],
            "needs_background": "light"
          }
        }
      ]
    },
    {
      "cell_type": "markdown",
      "metadata": {
        "id": "yvKq_DJbusj_"
      },
      "source": [
        "### **Asia**\n",
        "\n",
        "\n",
        "---\n",
        "\n",
        "\n",
        "\n",
        "\n",
        "\n"
      ]
    },
    {
      "cell_type": "code",
      "metadata": {
        "colab": {
          "base_uri": "https://localhost:8080/",
          "height": 357
        },
        "id": "siMEFzWvLx4K",
        "outputId": "9ac6c3c8-ed7b-427c-8f8a-162405973893"
      },
      "source": [
        "Economia_digital_asia = [\"Korea\" , \"Turkey\"]\n",
        "\n",
        "Asia_Edigital = Economia_digital_paises.loc[Economia_digital_asia]\n",
        "Asia_Edigital.round(3)"
      ],
      "execution_count": null,
      "outputs": [
        {
          "output_type": "execute_result",
          "data": {
            "text/html": [
              "<div>\n",
              "<style scoped>\n",
              "    .dataframe tbody tr th:only-of-type {\n",
              "        vertical-align: middle;\n",
              "    }\n",
              "\n",
              "    .dataframe tbody tr th {\n",
              "        vertical-align: top;\n",
              "    }\n",
              "\n",
              "    .dataframe thead th {\n",
              "        text-align: right;\n",
              "    }\n",
              "</style>\n",
              "<table border=\"1\" class=\"dataframe\">\n",
              "  <thead>\n",
              "    <tr style=\"text-align: right;\">\n",
              "      <th></th>\n",
              "      <th></th>\n",
              "      <th>Employers using computer</th>\n",
              "      <th>Bussiness through computer networks</th>\n",
              "      <th>Bussineses demand Big data analyst</th>\n",
              "      <th>Businesses training employers in ICT</th>\n",
              "      <th>Bussines offered ICT specialist</th>\n",
              "      <th>GERD as a percentage of GDP</th>\n",
              "      <th>Total R&amp;D personnel per thousand total employment</th>\n",
              "      <th>Unemployment rate</th>\n",
              "    </tr>\n",
              "    <tr>\n",
              "      <th>Country</th>\n",
              "      <th>Time</th>\n",
              "      <th></th>\n",
              "      <th></th>\n",
              "      <th></th>\n",
              "      <th></th>\n",
              "      <th></th>\n",
              "      <th></th>\n",
              "      <th></th>\n",
              "      <th></th>\n",
              "    </tr>\n",
              "  </thead>\n",
              "  <tbody>\n",
              "    <tr>\n",
              "      <th rowspan=\"4\" valign=\"top\">Korea</th>\n",
              "      <th>2016</th>\n",
              "      <td>68.170</td>\n",
              "      <td>11.170</td>\n",
              "      <td>2.285</td>\n",
              "      <td>12.348</td>\n",
              "      <td>4.198</td>\n",
              "      <td>3.987</td>\n",
              "      <td>16.942</td>\n",
              "      <td>3.797</td>\n",
              "    </tr>\n",
              "    <tr>\n",
              "      <th>2017</th>\n",
              "      <td>66.780</td>\n",
              "      <td>11.430</td>\n",
              "      <td>4.510</td>\n",
              "      <td>14.124</td>\n",
              "      <td>3.962</td>\n",
              "      <td>4.292</td>\n",
              "      <td>17.631</td>\n",
              "      <td>3.765</td>\n",
              "    </tr>\n",
              "    <tr>\n",
              "      <th>2018</th>\n",
              "      <td>66.880</td>\n",
              "      <td>15.700</td>\n",
              "      <td>4.550</td>\n",
              "      <td>15.468</td>\n",
              "      <td>5.185</td>\n",
              "      <td>4.516</td>\n",
              "      <td>18.685</td>\n",
              "      <td>3.933</td>\n",
              "    </tr>\n",
              "    <tr>\n",
              "      <th>2019</th>\n",
              "      <td>65.790</td>\n",
              "      <td>19.457</td>\n",
              "      <td>5.236</td>\n",
              "      <td>14.142</td>\n",
              "      <td>5.702</td>\n",
              "      <td>4.640</td>\n",
              "      <td>19.381</td>\n",
              "      <td>3.829</td>\n",
              "    </tr>\n",
              "    <tr>\n",
              "      <th rowspan=\"4\" valign=\"top\">Turkey</th>\n",
              "      <th>2016</th>\n",
              "      <td>49.171</td>\n",
              "      <td>15.324</td>\n",
              "      <td>8.294</td>\n",
              "      <td>20.090</td>\n",
              "      <td>7.056</td>\n",
              "      <td>0.791</td>\n",
              "      <td>10.840</td>\n",
              "      <td>8.102</td>\n",
              "    </tr>\n",
              "    <tr>\n",
              "      <th>2017</th>\n",
              "      <td>50.420</td>\n",
              "      <td>17.900</td>\n",
              "      <td>7.123</td>\n",
              "      <td>16.794</td>\n",
              "      <td>6.085</td>\n",
              "      <td>0.886</td>\n",
              "      <td>11.451</td>\n",
              "      <td>6.666</td>\n",
              "    </tr>\n",
              "    <tr>\n",
              "      <th>2018</th>\n",
              "      <td>50.562</td>\n",
              "      <td>16.344</td>\n",
              "      <td>6.324</td>\n",
              "      <td>17.536</td>\n",
              "      <td>4.951</td>\n",
              "      <td>0.839</td>\n",
              "      <td>11.833</td>\n",
              "      <td>5.202</td>\n",
              "    </tr>\n",
              "    <tr>\n",
              "      <th>2019</th>\n",
              "      <td>51.798</td>\n",
              "      <td>15.183</td>\n",
              "      <td>4.565</td>\n",
              "      <td>18.069</td>\n",
              "      <td>5.820</td>\n",
              "      <td>0.827</td>\n",
              "      <td>12.409</td>\n",
              "      <td>4.502</td>\n",
              "    </tr>\n",
              "  </tbody>\n",
              "</table>\n",
              "</div>"
            ],
            "text/plain": [
              "              Employers using computer  ...  Unemployment rate\n",
              "Country Time                            ...                   \n",
              "Korea   2016                    68.170  ...              3.797\n",
              "        2017                    66.780  ...              3.765\n",
              "        2018                    66.880  ...              3.933\n",
              "        2019                    65.790  ...              3.829\n",
              "Turkey  2016                    49.171  ...              8.102\n",
              "        2017                    50.420  ...              6.666\n",
              "        2018                    50.562  ...              5.202\n",
              "        2019                    51.798  ...              4.502\n",
              "\n",
              "[8 rows x 8 columns]"
            ]
          },
          "metadata": {
            "tags": []
          },
          "execution_count": 20
        }
      ]
    },
    {
      "cell_type": "code",
      "metadata": {
        "colab": {
          "base_uri": "https://localhost:8080/"
        },
        "id": "nK-M8OX8NAmf",
        "outputId": "13372ec9-3ca7-41ba-f443-db35c2f45680"
      },
      "source": [
        "Asia_Edigital.mean(1)"
      ],
      "execution_count": null,
      "outputs": [
        {
          "output_type": "execute_result",
          "data": {
            "text/plain": [
              "Country  Time\n",
              "Korea    2016    564.099600\n",
              "         2017    560.054924\n",
              "         2018    584.990840\n",
              "         2019    718.019843\n",
              "Turkey   2016    286.518716\n",
              "         2017    261.258272\n",
              "         2018    228.954631\n",
              "         2019    253.130479\n",
              "dtype: float64"
            ]
          },
          "metadata": {
            "tags": []
          },
          "execution_count": 191
        }
      ]
    },
    {
      "cell_type": "code",
      "metadata": {
        "colab": {
          "base_uri": "https://localhost:8080/",
          "height": 282
        },
        "id": "XyEjqsNant7u",
        "outputId": "cf0b5381-403d-491a-88ad-4c0ed024077e"
      },
      "source": [
        "Asia_Edigital.mean(1).plot(kind='barh', color = \"darkgoldenrod\")"
      ],
      "execution_count": null,
      "outputs": [
        {
          "output_type": "execute_result",
          "data": {
            "text/plain": [
              "<matplotlib.axes._subplots.AxesSubplot at 0x7fd7c7c4ebd0>"
            ]
          },
          "metadata": {
            "tags": []
          },
          "execution_count": 21
        },
        {
          "output_type": "display_data",
          "data": {
            "image/png": "[encoded data removed]",
            "text/plain": [
              "<Figure size 432x288 with 1 Axes>"
            ]
          },
          "metadata": {
            "tags": [],
            "needs_background": "light"
          }
        }
      ]
    },
    {
      "cell_type": "code",
      "metadata": {
        "id": "O7WGTGl_RKo-",
        "colab": {
          "base_uri": "https://localhost:8080/",
          "height": 437
        },
        "outputId": "273d52cc-e97e-463d-b067-c748662c6428"
      },
      "source": [
        "Asia_Edigital.plot(kind='bar',  stacked=True)\n",
        "plt.legend(title= '**Digital Economy Korea and Turkey (2016-2019)**', loc='best', ncol=3, bbox_to_anchor=(0.5, 1.05))"
      ],
      "execution_count": null,
      "outputs": [
        {
          "output_type": "execute_result",
          "data": {
            "text/plain": [
              "<matplotlib.legend.Legend at 0x7fd7c7c3d1d0>"
            ]
          },
          "metadata": {
            "tags": []
          },
          "execution_count": 22
        },
        {
          "output_type": "display_data",
          "data": {
            "image/png": "[encoded data removed]",
            "text/plain": [
              "<Figure size 432x288 with 1 Axes>"
            ]
          },
          "metadata": {
            "tags": [],
            "needs_background": "light"
          }
        }
      ]
    },
    {
      "cell_type": "markdown",
      "metadata": {
        "id": "0ExcdnOmuxQy"
      },
      "source": [
        "### **Estadísticas descriptivas de las variables**"
      ]
    },
    {
      "cell_type": "code",
      "metadata": {
        "id": "SSyE2EBGPrY4"
      },
      "source": [
        "import numpy as np\n",
        "import pandas as pd"
      ],
      "execution_count": null,
      "outputs": []
    },
    {
      "cell_type": "code",
      "metadata": {
        "id": "Lrh16voBWS2T"
      },
      "source": [
        "X=Economia_digital[[\"Employers using computer\",\"Bussiness through computer networks\",\"Bussineses demand Big data analyst\",\"Businesses training employers in ICT\" , \"Bussines offered ICT specialist\" , \"GERD as a percentage of GDP\"]]\n",
        "y=Economia_digital[['Unemployment rate']]"
      ],
      "execution_count": null,
      "outputs": []
    },
    {
      "cell_type": "code",
      "metadata": {
        "colab": {
          "base_uri": "https://localhost:8080/"
        },
        "id": "b7m_ubD8iQ7Q",
        "outputId": "aae5401f-799d-4ca5-b2d7-b7d5dda937aa"
      },
      "source": [
        "y.describe().round(3)"
      ],
      "execution_count": null,
      "outputs": [
        {
          "output_type": "execute_result",
          "data": {
            "text/html": [
              "<div>\n",
              "<style scoped>\n",
              "    .dataframe tbody tr th:only-of-type {\n",
              "        vertical-align: middle;\n",
              "    }\n",
              "\n",
              "    .dataframe tbody tr th {\n",
              "        vertical-align: top;\n",
              "    }\n",
              "\n",
              "    .dataframe thead th {\n",
              "        text-align: right;\n",
              "    }\n",
              "</style>\n",
              "<table border=\"1\" class=\"dataframe\">\n",
              "  <thead>\n",
              "    <tr style=\"text-align: right;\">\n",
              "      <th></th>\n",
              "      <th>Unemployment rate</th>\n",
              "    </tr>\n",
              "  </thead>\n",
              "  <tbody>\n",
              "    <tr>\n",
              "      <th>count</th>\n",
              "      <td>104.000</td>\n",
              "    </tr>\n",
              "    <tr>\n",
              "      <th>mean</th>\n",
              "      <td>7.080</td>\n",
              "    </tr>\n",
              "    <tr>\n",
              "      <th>std</th>\n",
              "      <td>4.236</td>\n",
              "    </tr>\n",
              "    <tr>\n",
              "      <th>min</th>\n",
              "      <td>2.061</td>\n",
              "    </tr>\n",
              "    <tr>\n",
              "      <th>25%</th>\n",
              "      <td>4.157</td>\n",
              "    </tr>\n",
              "    <tr>\n",
              "      <th>50%</th>\n",
              "      <td>5.864</td>\n",
              "    </tr>\n",
              "    <tr>\n",
              "      <th>75%</th>\n",
              "      <td>8.592</td>\n",
              "    </tr>\n",
              "    <tr>\n",
              "      <th>max</th>\n",
              "      <td>23.704</td>\n",
              "    </tr>\n",
              "  </tbody>\n",
              "</table>\n",
              "</div>"
            ],
            "text/plain": [
              "       Unemployment rate\n",
              "count            104.000\n",
              "mean               7.080\n",
              "std                4.236\n",
              "min                2.061\n",
              "25%                4.157\n",
              "50%                5.864\n",
              "75%                8.592\n",
              "max               23.704"
            ]
          },
          "metadata": {
            "tags": []
          },
          "execution_count": 196
        }
      ]
    },
    {
      "cell_type": "code",
      "metadata": {
        "colab": {
          "base_uri": "https://localhost:8080/"
        },
        "id": "xn9SHViuiTVC",
        "outputId": "dc37323e-cb7b-4c90-a11e-e0f858082791"
      },
      "source": [
        "X.describe().round(3)"
      ],
      "execution_count": null,
      "outputs": [
        {
          "output_type": "execute_result",
          "data": {
            "text/html": [
              "<div>\n",
              "<style scoped>\n",
              "    .dataframe tbody tr th:only-of-type {\n",
              "        vertical-align: middle;\n",
              "    }\n",
              "\n",
              "    .dataframe tbody tr th {\n",
              "        vertical-align: top;\n",
              "    }\n",
              "\n",
              "    .dataframe thead th {\n",
              "        text-align: right;\n",
              "    }\n",
              "</style>\n",
              "<table border=\"1\" class=\"dataframe\">\n",
              "  <thead>\n",
              "    <tr style=\"text-align: right;\">\n",
              "      <th></th>\n",
              "      <th>Employers using computer</th>\n",
              "      <th>Bussiness through computer networks</th>\n",
              "      <th>Bussineses demand Big data analyst</th>\n",
              "      <th>Businesses training employers in ICT</th>\n",
              "      <th>Bussines offered ICT specialist</th>\n",
              "      <th>GERD as a percentage of GDP</th>\n",
              "    </tr>\n",
              "  </thead>\n",
              "  <tbody>\n",
              "    <tr>\n",
              "      <th>count</th>\n",
              "      <td>104.000</td>\n",
              "      <td>104.000</td>\n",
              "      <td>104.000</td>\n",
              "      <td>104.000</td>\n",
              "      <td>104.000</td>\n",
              "      <td>104.000</td>\n",
              "    </tr>\n",
              "    <tr>\n",
              "      <th>mean</th>\n",
              "      <td>61.043</td>\n",
              "      <td>23.599</td>\n",
              "      <td>9.445</td>\n",
              "      <td>21.962</td>\n",
              "      <td>8.624</td>\n",
              "      <td>1.995</td>\n",
              "    </tr>\n",
              "    <tr>\n",
              "      <th>std</th>\n",
              "      <td>14.548</td>\n",
              "      <td>9.450</td>\n",
              "      <td>4.694</td>\n",
              "      <td>8.819</td>\n",
              "      <td>2.812</td>\n",
              "      <td>0.963</td>\n",
              "    </tr>\n",
              "    <tr>\n",
              "      <th>min</th>\n",
              "      <td>41.935</td>\n",
              "      <td>11.019</td>\n",
              "      <td>2.285</td>\n",
              "      <td>7.025</td>\n",
              "      <td>1.923</td>\n",
              "      <td>0.262</td>\n",
              "    </tr>\n",
              "    <tr>\n",
              "      <th>25%</th>\n",
              "      <td>48.788</td>\n",
              "      <td>18.162</td>\n",
              "      <td>6.304</td>\n",
              "      <td>14.118</td>\n",
              "      <td>6.466</td>\n",
              "      <td>1.239</td>\n",
              "    </tr>\n",
              "    <tr>\n",
              "      <th>50%</th>\n",
              "      <td>59.442</td>\n",
              "      <td>21.884</td>\n",
              "      <td>8.138</td>\n",
              "      <td>21.270</td>\n",
              "      <td>8.699</td>\n",
              "      <td>1.921</td>\n",
              "    </tr>\n",
              "    <tr>\n",
              "      <th>75%</th>\n",
              "      <td>68.733</td>\n",
              "      <td>27.690</td>\n",
              "      <td>10.801</td>\n",
              "      <td>28.365</td>\n",
              "      <td>10.632</td>\n",
              "      <td>2.763</td>\n",
              "    </tr>\n",
              "    <tr>\n",
              "      <th>max</th>\n",
              "      <td>100.000</td>\n",
              "      <td>64.223</td>\n",
              "      <td>25.983</td>\n",
              "      <td>44.372</td>\n",
              "      <td>14.463</td>\n",
              "      <td>4.640</td>\n",
              "    </tr>\n",
              "  </tbody>\n",
              "</table>\n",
              "</div>"
            ],
            "text/plain": [
              "       Employers using computer  ...  GERD as a percentage of GDP\n",
              "count                   104.000  ...                      104.000\n",
              "mean                     61.043  ...                        1.995\n",
              "std                      14.548  ...                        0.963\n",
              "min                      41.935  ...                        0.262\n",
              "25%                      48.788  ...                        1.239\n",
              "50%                      59.442  ...                        1.921\n",
              "75%                      68.733  ...                        2.763\n",
              "max                     100.000  ...                        4.640\n",
              "\n",
              "[8 rows x 6 columns]"
            ]
          },
          "metadata": {
            "tags": []
          },
          "execution_count": 197
        }
      ]
    },
    {
      "cell_type": "code",
      "metadata": {
        "id": "7rtWAg_APxlC",
        "colab": {
          "base_uri": "https://localhost:8080/"
        },
        "outputId": "2b579b5b-e0b1-4051-b71a-1d6628443e0c"
      },
      "source": [
        "plt.hist(X[\"Employers using computer\"] , bins = 15 , color = 'steelblue')"
      ],
      "execution_count": null,
      "outputs": [
        {
          "output_type": "execute_result",
          "data": {
            "text/plain": [
              "(array([13., 17.,  9.,  6., 14.,  9., 11.,  3.,  9.,  4.,  2.,  2.,  0.,\n",
              "         0.,  5.]),\n",
              " array([ 41.935,  45.806,  49.677,  53.548,  57.419,  61.29 ,  65.161,\n",
              "         69.032,  72.903,  76.774,  80.645,  84.516,  88.387,  92.258,\n",
              "         96.129, 100.   ]),\n",
              " <a list of 15 Patch objects>)"
            ]
          },
          "metadata": {
            "tags": []
          },
          "execution_count": 199
        },
        {
          "output_type": "display_data",
          "data": {
            "image/png": "[encoded data removed]",
            "text/plain": [
              "<Figure size 432x288 with 1 Axes>"
            ]
          },
          "metadata": {
            "tags": [],
            "needs_background": "light"
          }
        }
      ]
    },
    {
      "cell_type": "code",
      "metadata": {
        "id": "TqJzE6SIa6Ey",
        "colab": {
          "base_uri": "https://localhost:8080/"
        },
        "outputId": "dff7ab50-9b6d-4e22-b3a0-82f657694453"
      },
      "source": [
        "plt.hist(X[\"Bussiness through computer networks\"] , bins = 15 , color = 'olivedrab')"
      ],
      "execution_count": null,
      "outputs": [
        {
          "output_type": "execute_result",
          "data": {
            "text/plain": [
              "(array([13., 13., 25., 11., 22., 10.,  5.,  1.,  0.,  0.,  0.,  1.,  0.,\n",
              "         2.,  1.]),\n",
              " array([11.0193 , 14.56624, 18.11318, 21.66012, 25.20706, 28.754  ,\n",
              "        32.30094, 35.84788, 39.39482, 42.94176, 46.4887 , 50.03564,\n",
              "        53.58258, 57.12952, 60.67646, 64.2234 ]),\n",
              " <a list of 15 Patch objects>)"
            ]
          },
          "metadata": {
            "tags": []
          },
          "execution_count": 200
        },
        {
          "output_type": "display_data",
          "data": {
            "image/png": "[encoded data removed]",
            "text/plain": [
              "<Figure size 432x288 with 1 Axes>"
            ]
          },
          "metadata": {
            "tags": [],
            "needs_background": "light"
          }
        }
      ]
    },
    {
      "cell_type": "code",
      "metadata": {
        "id": "v2ksizZgbUHJ",
        "colab": {
          "base_uri": "https://localhost:8080/"
        },
        "outputId": "947fc6db-669e-4d08-c882-a92d0d3f6173"
      },
      "source": [
        "plt.hist(X[\"Bussineses demand Big data analyst\"], bins = 15 , color = 'tomato')"
      ],
      "execution_count": null,
      "outputs": [
        {
          "output_type": "execute_result",
          "data": {
            "text/plain": [
              "(array([ 3., 14., 20., 18., 17.,  9.,  5.,  5.,  1.,  5.,  3.,  0.,  2.,\n",
              "         1.,  1.]),\n",
              " array([ 2.284579  ,  3.86447373,  5.44436847,  7.0242632 ,  8.60415793,\n",
              "        10.18405267, 11.7639474 , 13.34384213, 14.92373687, 16.5036316 ,\n",
              "        18.08352633, 19.66342107, 21.2433158 , 22.82321053, 24.40310527,\n",
              "        25.983     ]),\n",
              " <a list of 15 Patch objects>)"
            ]
          },
          "metadata": {
            "tags": []
          },
          "execution_count": 201
        },
        {
          "output_type": "display_data",
          "data": {
            "image/png": "[encoded data removed]",
            "text/plain": [
              "<Figure size 432x288 with 1 Axes>"
            ]
          },
          "metadata": {
            "tags": [],
            "needs_background": "light"
          }
        }
      ]
    },
    {
      "cell_type": "code",
      "metadata": {
        "id": "6WhaDmr7bw-I",
        "colab": {
          "base_uri": "https://localhost:8080/"
        },
        "outputId": "98d05df1-ee4a-4c18-d9c2-a43c84478059"
      },
      "source": [
        "plt.hist(X[\"Businesses training employers in ICT\" ], bins = 15 , color = 'chocolate')"
      ],
      "execution_count": null,
      "outputs": [
        {
          "output_type": "execute_result",
          "data": {
            "text/plain": [
              "(array([ 4., 11., 13.,  9.,  9.,  9.,  8.,  7., 13.,  7.,  4.,  5.,  1.,\n",
              "         2.,  2.]),\n",
              " array([ 7.024567  ,  9.51440253, 12.00423807, 14.4940736 , 16.98390913,\n",
              "        19.47374467, 21.9635802 , 24.45341573, 26.94325127, 29.4330868 ,\n",
              "        31.92292233, 34.41275787, 36.9025934 , 39.39242893, 41.88226447,\n",
              "        44.3721    ]),\n",
              " <a list of 15 Patch objects>)"
            ]
          },
          "metadata": {
            "tags": []
          },
          "execution_count": 202
        },
        {
          "output_type": "display_data",
          "data": {
            "image/png": "[encoded data removed]",
            "text/plain": [
              "<Figure size 432x288 with 1 Axes>"
            ]
          },
          "metadata": {
            "tags": [],
            "needs_background": "light"
          }
        }
      ]
    },
    {
      "cell_type": "code",
      "metadata": {
        "id": "WkEvtrZYcdMA",
        "colab": {
          "base_uri": "https://localhost:8080/"
        },
        "outputId": "840c4456-f474-46e2-d6bb-bf57f14b8ddf"
      },
      "source": [
        "plt.hist(X[\"Bussines offered ICT specialist\"], bins = 15 , color = 'darkseagreen')"
      ],
      "execution_count": null,
      "outputs": [
        {
          "output_type": "execute_result",
          "data": {
            "text/plain": [
              "(array([ 2.,  1.,  3.,  3., 14., 12.,  8.,  8., 10., 13.,  8.,  6.,  7.,\n",
              "         7.,  2.]),\n",
              " array([ 1.92345   ,  2.75944667,  3.59544333,  4.43144   ,  5.26743667,\n",
              "         6.10343333,  6.93943   ,  7.77542667,  8.61142333,  9.44742   ,\n",
              "        10.28341667, 11.11941333, 11.95541   , 12.79140667, 13.62740333,\n",
              "        14.4634    ]),\n",
              " <a list of 15 Patch objects>)"
            ]
          },
          "metadata": {
            "tags": []
          },
          "execution_count": 203
        },
        {
          "output_type": "display_data",
          "data": {
            "image/png": "[encoded data removed]",
            "text/plain": [
              "<Figure size 432x288 with 1 Axes>"
            ]
          },
          "metadata": {
            "tags": [],
            "needs_background": "light"
          }
        }
      ]
    },
    {
      "cell_type": "code",
      "metadata": {
        "id": "8xBCiUxQc5Ux",
        "colab": {
          "base_uri": "https://localhost:8080/"
        },
        "outputId": "7ea809ca-9c77-4779-d232-5652dda794ab"
      },
      "source": [
        "plt.hist(X[\"GERD as a percentage of GDP\"], bins = 15 , color = 'seagreen')"
      ],
      "execution_count": null,
      "outputs": [
        {
          "output_type": "execute_result",
          "data": {
            "text/plain": [
              "(array([ 4.,  4.,  7., 25.,  7.,  9., 15.,  2.,  9., 12.,  5.,  0.,  1.,\n",
              "         2.,  2.]),\n",
              " array([0.26154565, 0.5534552 , 0.84536475, 1.1372743 , 1.42918386,\n",
              "        1.72109341, 2.01300296, 2.30491251, 2.59682207, 2.88873162,\n",
              "        3.18064117, 3.47255073, 3.76446028, 4.05636983, 4.34827938,\n",
              "        4.64018894]),\n",
              " <a list of 15 Patch objects>)"
            ]
          },
          "metadata": {
            "tags": []
          },
          "execution_count": 204
        },
        {
          "output_type": "display_data",
          "data": {
            "image/png": "[encoded data removed]",
            "text/plain": [
              "<Figure size 432x288 with 1 Axes>"
            ]
          },
          "metadata": {
            "tags": [],
            "needs_background": "light"
          }
        }
      ]
    },
    {
      "cell_type": "code",
      "metadata": {
        "id": "OngCBw9Ue0dA",
        "colab": {
          "base_uri": "https://localhost:8080/"
        },
        "outputId": "c3336618-7b8b-4e57-ec5e-e1d17680d191"
      },
      "source": [
        "fig, ax =plt.subplots()\n",
        "ax.scatter(Economia_digital_paises[\"Employers using computer\"], Economia_digital_paises['Unemployment rate'], color = 'slateblue', marker='^')\n",
        "ax.scatter(Economia_digital[\"Businesses training employers in ICT\"], Economia_digital['Unemployment rate'], color = 'peru')\n",
        "plt.show()"
      ],
      "execution_count": null,
      "outputs": [
        {
          "output_type": "display_data",
          "data": {
            "image/png": "[encoded data removed]",
            "text/plain": [
              "<Figure size 432x288 with 1 Axes>"
            ]
          },
          "metadata": {
            "tags": [],
            "needs_background": "light"
          }
        }
      ]
    },
    {
      "cell_type": "code",
      "metadata": {
        "id": "tGP1EmGSfwJ8",
        "colab": {
          "base_uri": "https://localhost:8080/"
        },
        "outputId": "bf2b01db-5c5f-4be3-88e6-97e2dc80a6af"
      },
      "source": [
        "fig, ax =plt.subplots()\n",
        "ax.scatter(Economia_digital[\"Bussiness through computer networks\"], Economia_digital['Unemployment rate'], color = 'green', marker='D', alpha = 0.5)\n",
        "plt.show()"
      ],
      "execution_count": null,
      "outputs": [
        {
          "output_type": "display_data",
          "data": {
            "image/png": "[encoded data removed]",
            "text/plain": [
              "<Figure size 432x288 with 1 Axes>"
            ]
          },
          "metadata": {
            "tags": [],
            "needs_background": "light"
          }
        }
      ]
    },
    {
      "cell_type": "code",
      "metadata": {
        "id": "cp03XwYbhOS5",
        "colab": {
          "base_uri": "https://localhost:8080/"
        },
        "outputId": "37f07af8-8330-4da5-c357-c6df6845fa80"
      },
      "source": [
        "fig, ax =plt.subplots()\n",
        "ax.scatter(Economia_digital[\"Bussines offered ICT specialist\"], Economia_digital['Unemployment rate'], color = 'darkseagreen')\n",
        "ax.scatter(Economia_digital[\"Bussineses demand Big data analyst\"], Economia_digital['Unemployment rate'], color = 'coral')\n",
        "plt.show()"
      ],
      "execution_count": null,
      "outputs": [
        {
          "output_type": "display_data",
          "data": {
            "image/png": "[encoded data removed]",
            "text/plain": [
              "<Figure size 432x288 with 1 Axes>"
            ]
          },
          "metadata": {
            "tags": [],
            "needs_background": "light"
          }
        }
      ]
    },
    {
      "cell_type": "code",
      "metadata": {
        "id": "pf1UjY6Yh5Ut",
        "colab": {
          "base_uri": "https://localhost:8080/"
        },
        "outputId": "126c11e8-e7c7-4f50-8265-49ad7a896cdc"
      },
      "source": [
        "fig, ax =plt.subplots()\n",
        "ax.scatter(Economia_digital[\"GERD as a percentage of GDP\"], Economia_digital['Unemployment rate'], color = 'darkslategrey')\n",
        "plt.show()"
      ],
      "execution_count": null,
      "outputs": [
        {
          "output_type": "display_data",
          "data": {
            "image/png": "[encoded data removed]",
            "text/plain": [
              "<Figure size 432x288 with 1 Axes>"
            ]
          },
          "metadata": {
            "tags": [],
            "needs_background": "light"
          }
        }
      ]
    },
    {
      "cell_type": "markdown",
      "metadata": {
        "id": "M4peXMa1qEyC"
      },
      "source": [
        "### ***Generamos Index de la variable tiempo para medirlo por años***"
      ]
    },
    {
      "cell_type": "code",
      "metadata": {
        "colab": {
          "base_uri": "https://localhost:8080/"
        },
        "id": "0GRGUmRmqQSe",
        "outputId": "a232b85e-a824-4a44-c60d-e44e70ed1ee7"
      },
      "source": [
        "df_TIME = df.set_index('Time')\n",
        "df_TIME"
      ],
      "execution_count": null,
      "outputs": [
        {
          "output_type": "execute_result",
          "data": {
            "text/html": [
              "<div>\n",
              "<style scoped>\n",
              "    .dataframe tbody tr th:only-of-type {\n",
              "        vertical-align: middle;\n",
              "    }\n",
              "\n",
              "    .dataframe tbody tr th {\n",
              "        vertical-align: top;\n",
              "    }\n",
              "\n",
              "    .dataframe thead th {\n",
              "        text-align: right;\n",
              "    }\n",
              "</style>\n",
              "<table border=\"1\" class=\"dataframe\">\n",
              "  <thead>\n",
              "    <tr style=\"text-align: right;\">\n",
              "      <th></th>\n",
              "      <th>Country</th>\n",
              "      <th>Employers using computer</th>\n",
              "      <th>Bussiness through computer networks</th>\n",
              "      <th>Bussineses demand Big data analyst</th>\n",
              "      <th>Businesses training employers in ICT</th>\n",
              "      <th>Bussines offered ICT specialist</th>\n",
              "      <th>GERD as a percentage of GDP</th>\n",
              "      <th>Total R&amp;D personnel per thousand total employment</th>\n",
              "      <th>Unemployment rate</th>\n",
              "      <th>Invest in TICS and I+D $US</th>\n",
              "    </tr>\n",
              "    <tr>\n",
              "      <th>Time</th>\n",
              "      <th></th>\n",
              "      <th></th>\n",
              "      <th></th>\n",
              "      <th></th>\n",
              "      <th></th>\n",
              "      <th></th>\n",
              "      <th></th>\n",
              "      <th></th>\n",
              "      <th></th>\n",
              "      <th></th>\n",
              "    </tr>\n",
              "  </thead>\n",
              "  <tbody>\n",
              "    <tr>\n",
              "      <th>2016</th>\n",
              "      <td>Belgium</td>\n",
              "      <td>63.427500</td>\n",
              "      <td>25.609600</td>\n",
              "      <td>6.9567</td>\n",
              "      <td>33.586100</td>\n",
              "      <td>10.63930</td>\n",
              "      <td>2.523377</td>\n",
              "      <td>16.920264</td>\n",
              "      <td>7.887972</td>\n",
              "      <td>1752</td>\n",
              "    </tr>\n",
              "    <tr>\n",
              "      <th>2017</th>\n",
              "      <td>Belgium</td>\n",
              "      <td>64.324000</td>\n",
              "      <td>25.791600</td>\n",
              "      <td>7.6874</td>\n",
              "      <td>34.649900</td>\n",
              "      <td>13.01940</td>\n",
              "      <td>2.667015</td>\n",
              "      <td>17.402117</td>\n",
              "      <td>7.147249</td>\n",
              "      <td>1885</td>\n",
              "    </tr>\n",
              "    <tr>\n",
              "      <th>2018</th>\n",
              "      <td>Belgium</td>\n",
              "      <td>64.316800</td>\n",
              "      <td>29.921200</td>\n",
              "      <td>8.2354</td>\n",
              "      <td>35.579700</td>\n",
              "      <td>12.82850</td>\n",
              "      <td>2.673260</td>\n",
              "      <td>18.274706</td>\n",
              "      <td>6.003281</td>\n",
              "      <td>7768</td>\n",
              "    </tr>\n",
              "    <tr>\n",
              "      <th>2019</th>\n",
              "      <td>Belgium</td>\n",
              "      <td>64.992900</td>\n",
              "      <td>30.549500</td>\n",
              "      <td>21.9476</td>\n",
              "      <td>36.373000</td>\n",
              "      <td>14.46340</td>\n",
              "      <td>2.889670</td>\n",
              "      <td>19.653375</td>\n",
              "      <td>5.409494</td>\n",
              "      <td>9856</td>\n",
              "    </tr>\n",
              "    <tr>\n",
              "      <th>2016</th>\n",
              "      <td>Colombia</td>\n",
              "      <td>59.141383</td>\n",
              "      <td>27.740196</td>\n",
              "      <td>2.7623</td>\n",
              "      <td>7.024567</td>\n",
              "      <td>1.92345</td>\n",
              "      <td>0.295756</td>\n",
              "      <td>2.048770</td>\n",
              "      <td>9.534614</td>\n",
              "      <td>1689</td>\n",
              "    </tr>\n",
              "    <tr>\n",
              "      <th>...</th>\n",
              "      <td>...</td>\n",
              "      <td>...</td>\n",
              "      <td>...</td>\n",
              "      <td>...</td>\n",
              "      <td>...</td>\n",
              "      <td>...</td>\n",
              "      <td>...</td>\n",
              "      <td>...</td>\n",
              "      <td>...</td>\n",
              "      <td>...</td>\n",
              "    </tr>\n",
              "    <tr>\n",
              "      <th>2019</th>\n",
              "      <td>United Kingdom</td>\n",
              "      <td>64.396500</td>\n",
              "      <td>25.953300</td>\n",
              "      <td>14.3560</td>\n",
              "      <td>29.403400</td>\n",
              "      <td>10.13000</td>\n",
              "      <td>1.755940</td>\n",
              "      <td>14.822200</td>\n",
              "      <td>3.963302</td>\n",
              "      <td>12354</td>\n",
              "    </tr>\n",
              "    <tr>\n",
              "      <th>2016</th>\n",
              "      <td>Brazil</td>\n",
              "      <td>43.346600</td>\n",
              "      <td>16.356700</td>\n",
              "      <td>4.4208</td>\n",
              "      <td>11.746752</td>\n",
              "      <td>12.76840</td>\n",
              "      <td>2.788210</td>\n",
              "      <td>4.465639</td>\n",
              "      <td>4.933998</td>\n",
              "      <td>1427</td>\n",
              "    </tr>\n",
              "    <tr>\n",
              "      <th>2017</th>\n",
              "      <td>Brazil</td>\n",
              "      <td>50.000000</td>\n",
              "      <td>21.200000</td>\n",
              "      <td>5.2346</td>\n",
              "      <td>12.335000</td>\n",
              "      <td>13.14050</td>\n",
              "      <td>2.846766</td>\n",
              "      <td>4.353933</td>\n",
              "      <td>4.406087</td>\n",
              "      <td>1544</td>\n",
              "    </tr>\n",
              "    <tr>\n",
              "      <th>2018</th>\n",
              "      <td>Brazil</td>\n",
              "      <td>48.456700</td>\n",
              "      <td>18.465348</td>\n",
              "      <td>6.1344</td>\n",
              "      <td>12.768400</td>\n",
              "      <td>12.08600</td>\n",
              "      <td>2.947206</td>\n",
              "      <td>5.235000</td>\n",
              "      <td>3.937702</td>\n",
              "      <td>1659</td>\n",
              "    </tr>\n",
              "    <tr>\n",
              "      <th>2019</th>\n",
              "      <td>Brazil</td>\n",
              "      <td>49.000000</td>\n",
              "      <td>21.200000</td>\n",
              "      <td>11.8398</td>\n",
              "      <td>23.575700</td>\n",
              "      <td>13.53340</td>\n",
              "      <td>3.067476</td>\n",
              "      <td>7.345000</td>\n",
              "      <td>3.716811</td>\n",
              "      <td>1765</td>\n",
              "    </tr>\n",
              "  </tbody>\n",
              "</table>\n",
              "<p>104 rows × 10 columns</p>\n",
              "</div>"
            ],
            "text/plain": [
              "             Country  ...  Invest in TICS and I+D $US\n",
              "Time                  ...                            \n",
              "2016         Belgium  ...                        1752\n",
              "2017         Belgium  ...                        1885\n",
              "2018         Belgium  ...                        7768\n",
              "2019         Belgium  ...                        9856\n",
              "2016        Colombia  ...                        1689\n",
              "...              ...  ...                         ...\n",
              "2019  United Kingdom  ...                       12354\n",
              "2016          Brazil  ...                        1427\n",
              "2017          Brazil  ...                        1544\n",
              "2018          Brazil  ...                        1659\n",
              "2019          Brazil  ...                        1765\n",
              "\n",
              "[104 rows x 10 columns]"
            ]
          },
          "metadata": {
            "tags": []
          },
          "execution_count": 209
        }
      ]
    },
    {
      "cell_type": "markdown",
      "metadata": {
        "id": "qUzoR4xLppt6"
      },
      "source": [
        "### ***2016***"
      ]
    },
    {
      "cell_type": "code",
      "metadata": {
        "colab": {
          "base_uri": "https://localhost:8080/"
        },
        "id": "DERyVXDZp1nF",
        "outputId": "4a763db8-75df-415d-88b5-588691894362"
      },
      "source": [
        "DF_2016=df_TIME.loc[2016]\n",
        "DF_2016"
      ],
      "execution_count": null,
      "outputs": [
        {
          "output_type": "execute_result",
          "data": {
            "text/html": [
              "<div>\n",
              "<style scoped>\n",
              "    .dataframe tbody tr th:only-of-type {\n",
              "        vertical-align: middle;\n",
              "    }\n",
              "\n",
              "    .dataframe tbody tr th {\n",
              "        vertical-align: top;\n",
              "    }\n",
              "\n",
              "    .dataframe thead th {\n",
              "        text-align: right;\n",
              "    }\n",
              "</style>\n",
              "<table border=\"1\" class=\"dataframe\">\n",
              "  <thead>\n",
              "    <tr style=\"text-align: right;\">\n",
              "      <th></th>\n",
              "      <th>Country</th>\n",
              "      <th>Employers using computer</th>\n",
              "      <th>Bussiness through computer networks</th>\n",
              "      <th>Bussineses demand Big data analyst</th>\n",
              "      <th>Businesses training employers in ICT</th>\n",
              "      <th>Bussines offered ICT specialist</th>\n",
              "      <th>GERD as a percentage of GDP</th>\n",
              "      <th>Total R&amp;D personnel per thousand total employment</th>\n",
              "      <th>Unemployment rate</th>\n",
              "      <th>Invest in TICS and I+D $US</th>\n",
              "    </tr>\n",
              "    <tr>\n",
              "      <th>Time</th>\n",
              "      <th></th>\n",
              "      <th></th>\n",
              "      <th></th>\n",
              "      <th></th>\n",
              "      <th></th>\n",
              "      <th></th>\n",
              "      <th></th>\n",
              "      <th></th>\n",
              "      <th></th>\n",
              "      <th></th>\n",
              "    </tr>\n",
              "  </thead>\n",
              "  <tbody>\n",
              "    <tr>\n",
              "      <th>2016</th>\n",
              "      <td>Belgium</td>\n",
              "      <td>63.427500</td>\n",
              "      <td>25.609600</td>\n",
              "      <td>6.956700</td>\n",
              "      <td>33.586100</td>\n",
              "      <td>10.639300</td>\n",
              "      <td>2.523377</td>\n",
              "      <td>16.920264</td>\n",
              "      <td>7.887972</td>\n",
              "      <td>1752</td>\n",
              "    </tr>\n",
              "    <tr>\n",
              "      <th>2016</th>\n",
              "      <td>Colombia</td>\n",
              "      <td>59.141383</td>\n",
              "      <td>27.740196</td>\n",
              "      <td>2.762300</td>\n",
              "      <td>7.024567</td>\n",
              "      <td>1.923450</td>\n",
              "      <td>0.295756</td>\n",
              "      <td>2.048770</td>\n",
              "      <td>9.534614</td>\n",
              "      <td>1689</td>\n",
              "    </tr>\n",
              "    <tr>\n",
              "      <th>2016</th>\n",
              "      <td>Czech Republic</td>\n",
              "      <td>47.616300</td>\n",
              "      <td>26.586500</td>\n",
              "      <td>6.757100</td>\n",
              "      <td>21.701700</td>\n",
              "      <td>5.952500</td>\n",
              "      <td>1.670029</td>\n",
              "      <td>12.496055</td>\n",
              "      <td>4.026550</td>\n",
              "      <td>686</td>\n",
              "    </tr>\n",
              "    <tr>\n",
              "      <th>2016</th>\n",
              "      <td>Denmark</td>\n",
              "      <td>85.780000</td>\n",
              "      <td>29.026600</td>\n",
              "      <td>9.366300</td>\n",
              "      <td>28.410200</td>\n",
              "      <td>11.350300</td>\n",
              "      <td>3.092834</td>\n",
              "      <td>21.852963</td>\n",
              "      <td>5.945430</td>\n",
              "      <td>983</td>\n",
              "    </tr>\n",
              "    <tr>\n",
              "      <th>2016</th>\n",
              "      <td>Estonia</td>\n",
              "      <td>46.523600</td>\n",
              "      <td>18.322200</td>\n",
              "      <td>11.691000</td>\n",
              "      <td>13.415700</td>\n",
              "      <td>8.995300</td>\n",
              "      <td>1.232657</td>\n",
              "      <td>9.239635</td>\n",
              "      <td>6.939463</td>\n",
              "      <td>104</td>\n",
              "    </tr>\n",
              "    <tr>\n",
              "      <th>2016</th>\n",
              "      <td>Finland</td>\n",
              "      <td>75.537000</td>\n",
              "      <td>21.752000</td>\n",
              "      <td>10.258200</td>\n",
              "      <td>34.346200</td>\n",
              "      <td>8.599300</td>\n",
              "      <td>2.724418</td>\n",
              "      <td>18.708307</td>\n",
              "      <td>8.946171</td>\n",
              "      <td>656</td>\n",
              "    </tr>\n",
              "    <tr>\n",
              "      <th>2016</th>\n",
              "      <td>France</td>\n",
              "      <td>43.660000</td>\n",
              "      <td>21.036900</td>\n",
              "      <td>8.340000</td>\n",
              "      <td>20.396800</td>\n",
              "      <td>7.487300</td>\n",
              "      <td>2.222384</td>\n",
              "      <td>15.679798</td>\n",
              "      <td>10.141752</td>\n",
              "      <td>9881</td>\n",
              "    </tr>\n",
              "    <tr>\n",
              "      <th>2016</th>\n",
              "      <td>Germany</td>\n",
              "      <td>59.742000</td>\n",
              "      <td>28.457200</td>\n",
              "      <td>9.344500</td>\n",
              "      <td>29.069700</td>\n",
              "      <td>8.641000</td>\n",
              "      <td>2.940389</td>\n",
              "      <td>15.070301</td>\n",
              "      <td>4.212946</td>\n",
              "      <td>9222</td>\n",
              "    </tr>\n",
              "    <tr>\n",
              "      <th>2016</th>\n",
              "      <td>Greece</td>\n",
              "      <td>43.419200</td>\n",
              "      <td>12.166600</td>\n",
              "      <td>8.686700</td>\n",
              "      <td>14.900600</td>\n",
              "      <td>6.828300</td>\n",
              "      <td>1.006778</td>\n",
              "      <td>9.350010</td>\n",
              "      <td>23.704153</td>\n",
              "      <td>992</td>\n",
              "    </tr>\n",
              "    <tr>\n",
              "      <th>2016</th>\n",
              "      <td>Hungary</td>\n",
              "      <td>45.888000</td>\n",
              "      <td>15.098700</td>\n",
              "      <td>4.904600</td>\n",
              "      <td>15.793400</td>\n",
              "      <td>10.095500</td>\n",
              "      <td>1.181150</td>\n",
              "      <td>7.994076</td>\n",
              "      <td>5.148054</td>\n",
              "      <td>667</td>\n",
              "    </tr>\n",
              "    <tr>\n",
              "      <th>2016</th>\n",
              "      <td>Iceland</td>\n",
              "      <td>48.657600</td>\n",
              "      <td>14.567800</td>\n",
              "      <td>10.644470</td>\n",
              "      <td>11.509700</td>\n",
              "      <td>9.572374</td>\n",
              "      <td>2.109803</td>\n",
              "      <td>13.764500</td>\n",
              "      <td>3.506388</td>\n",
              "      <td>57</td>\n",
              "    </tr>\n",
              "    <tr>\n",
              "      <th>2016</th>\n",
              "      <td>Ireland</td>\n",
              "      <td>56.784400</td>\n",
              "      <td>30.253900</td>\n",
              "      <td>6.234000</td>\n",
              "      <td>30.432600</td>\n",
              "      <td>10.442300</td>\n",
              "      <td>1.172448</td>\n",
              "      <td>16.805006</td>\n",
              "      <td>8.520664</td>\n",
              "      <td>628</td>\n",
              "    </tr>\n",
              "    <tr>\n",
              "      <th>2016</th>\n",
              "      <td>Italy</td>\n",
              "      <td>48.411200</td>\n",
              "      <td>11.019300</td>\n",
              "      <td>7.877400</td>\n",
              "      <td>11.776300</td>\n",
              "      <td>5.451000</td>\n",
              "      <td>1.366422</td>\n",
              "      <td>11.672240</td>\n",
              "      <td>11.892414</td>\n",
              "      <td>7827</td>\n",
              "    </tr>\n",
              "    <tr>\n",
              "      <th>2016</th>\n",
              "      <td>Korea</td>\n",
              "      <td>68.170000</td>\n",
              "      <td>11.170000</td>\n",
              "      <td>2.284579</td>\n",
              "      <td>12.347680</td>\n",
              "      <td>4.198300</td>\n",
              "      <td>3.987037</td>\n",
              "      <td>16.941505</td>\n",
              "      <td>3.797298</td>\n",
              "      <td>4954</td>\n",
              "    </tr>\n",
              "    <tr>\n",
              "      <th>2016</th>\n",
              "      <td>Lithuania</td>\n",
              "      <td>43.531700</td>\n",
              "      <td>19.642400</td>\n",
              "      <td>10.297400</td>\n",
              "      <td>9.657300</td>\n",
              "      <td>6.479800</td>\n",
              "      <td>0.842410</td>\n",
              "      <td>7.963260</td>\n",
              "      <td>8.062168</td>\n",
              "      <td>109</td>\n",
              "    </tr>\n",
              "    <tr>\n",
              "      <th>2016</th>\n",
              "      <td>Netherlands</td>\n",
              "      <td>67.726600</td>\n",
              "      <td>25.299000</td>\n",
              "      <td>16.845000</td>\n",
              "      <td>22.158200</td>\n",
              "      <td>8.990800</td>\n",
              "      <td>2.150812</td>\n",
              "      <td>12.913958</td>\n",
              "      <td>6.058304</td>\n",
              "      <td>1106</td>\n",
              "    </tr>\n",
              "    <tr>\n",
              "      <th>2016</th>\n",
              "      <td>Norway</td>\n",
              "      <td>74.327400</td>\n",
              "      <td>27.673700</td>\n",
              "      <td>6.342300</td>\n",
              "      <td>41.995300</td>\n",
              "      <td>5.765500</td>\n",
              "      <td>2.044602</td>\n",
              "      <td>16.155876</td>\n",
              "      <td>4.812131</td>\n",
              "      <td>1343</td>\n",
              "    </tr>\n",
              "    <tr>\n",
              "      <th>2016</th>\n",
              "      <td>Poland</td>\n",
              "      <td>43.963800</td>\n",
              "      <td>12.380000</td>\n",
              "      <td>4.531700</td>\n",
              "      <td>11.616300</td>\n",
              "      <td>5.392400</td>\n",
              "      <td>0.962872</td>\n",
              "      <td>16.177251</td>\n",
              "      <td>6.244360</td>\n",
              "      <td>125</td>\n",
              "    </tr>\n",
              "    <tr>\n",
              "      <th>2016</th>\n",
              "      <td>Portugal</td>\n",
              "      <td>42.232900</td>\n",
              "      <td>18.800100</td>\n",
              "      <td>10.422700</td>\n",
              "      <td>22.869000</td>\n",
              "      <td>6.505600</td>\n",
              "      <td>1.280749</td>\n",
              "      <td>6.943546</td>\n",
              "      <td>9.698991</td>\n",
              "      <td>677</td>\n",
              "    </tr>\n",
              "    <tr>\n",
              "      <th>2016</th>\n",
              "      <td>Turkey</td>\n",
              "      <td>49.171400</td>\n",
              "      <td>15.323800</td>\n",
              "      <td>8.294300</td>\n",
              "      <td>20.090000</td>\n",
              "      <td>7.055900</td>\n",
              "      <td>0.790652</td>\n",
              "      <td>10.840391</td>\n",
              "      <td>8.102002</td>\n",
              "      <td>2459</td>\n",
              "    </tr>\n",
              "    <tr>\n",
              "      <th>2016</th>\n",
              "      <td>United States</td>\n",
              "      <td>65.378500</td>\n",
              "      <td>20.305400</td>\n",
              "      <td>9.895800</td>\n",
              "      <td>27.485000</td>\n",
              "      <td>6.474800</td>\n",
              "      <td>2.007637</td>\n",
              "      <td>7.655159</td>\n",
              "      <td>19.746448</td>\n",
              "      <td>87659</td>\n",
              "    </tr>\n",
              "    <tr>\n",
              "      <th>2016</th>\n",
              "      <td>Spain</td>\n",
              "      <td>58.274100</td>\n",
              "      <td>20.573100</td>\n",
              "      <td>6.916400</td>\n",
              "      <td>22.692900</td>\n",
              "      <td>12.997300</td>\n",
              "      <td>1.190476</td>\n",
              "      <td>14.984395</td>\n",
              "      <td>7.106420</td>\n",
              "      <td>5419</td>\n",
              "    </tr>\n",
              "    <tr>\n",
              "      <th>2016</th>\n",
              "      <td>Sweden</td>\n",
              "      <td>65.435240</td>\n",
              "      <td>28.233700</td>\n",
              "      <td>6.932100</td>\n",
              "      <td>24.828300</td>\n",
              "      <td>8.368300</td>\n",
              "      <td>3.247361</td>\n",
              "      <td>18.549806</td>\n",
              "      <td>5.086143</td>\n",
              "      <td>1835</td>\n",
              "    </tr>\n",
              "    <tr>\n",
              "      <th>2016</th>\n",
              "      <td>Switzerland</td>\n",
              "      <td>46.234234</td>\n",
              "      <td>50.384664</td>\n",
              "      <td>6.234000</td>\n",
              "      <td>18.283000</td>\n",
              "      <td>5.474800</td>\n",
              "      <td>2.866460</td>\n",
              "      <td>13.464570</td>\n",
              "      <td>11.114843</td>\n",
              "      <td>3243</td>\n",
              "    </tr>\n",
              "    <tr>\n",
              "      <th>2016</th>\n",
              "      <td>United Kingdom</td>\n",
              "      <td>60.661000</td>\n",
              "      <td>21.534100</td>\n",
              "      <td>13.738600</td>\n",
              "      <td>28.323600</td>\n",
              "      <td>12.641900</td>\n",
              "      <td>1.660871</td>\n",
              "      <td>13.148076</td>\n",
              "      <td>4.978137</td>\n",
              "      <td>11018</td>\n",
              "    </tr>\n",
              "    <tr>\n",
              "      <th>2016</th>\n",
              "      <td>Brazil</td>\n",
              "      <td>43.346600</td>\n",
              "      <td>16.356700</td>\n",
              "      <td>4.420800</td>\n",
              "      <td>11.746752</td>\n",
              "      <td>12.768400</td>\n",
              "      <td>2.788210</td>\n",
              "      <td>4.465639</td>\n",
              "      <td>4.933998</td>\n",
              "      <td>1427</td>\n",
              "    </tr>\n",
              "  </tbody>\n",
              "</table>\n",
              "</div>"
            ],
            "text/plain": [
              "             Country  ...  Invest in TICS and I+D $US\n",
              "Time                  ...                            \n",
              "2016         Belgium  ...                        1752\n",
              "2016        Colombia  ...                        1689\n",
              "2016  Czech Republic  ...                         686\n",
              "2016         Denmark  ...                         983\n",
              "2016         Estonia  ...                         104\n",
              "2016         Finland  ...                         656\n",
              "2016          France  ...                        9881\n",
              "2016         Germany  ...                        9222\n",
              "2016          Greece  ...                         992\n",
              "2016         Hungary  ...                         667\n",
              "2016         Iceland  ...                          57\n",
              "2016         Ireland  ...                         628\n",
              "2016           Italy  ...                        7827\n",
              "2016           Korea  ...                        4954\n",
              "2016       Lithuania  ...                         109\n",
              "2016     Netherlands  ...                        1106\n",
              "2016          Norway  ...                        1343\n",
              "2016          Poland  ...                         125\n",
              "2016        Portugal  ...                         677\n",
              "2016          Turkey  ...                        2459\n",
              "2016   United States  ...                       87659\n",
              "2016           Spain  ...                        5419\n",
              "2016          Sweden  ...                        1835\n",
              "2016     Switzerland  ...                        3243\n",
              "2016  United Kingdom  ...                       11018\n",
              "2016          Brazil  ...                        1427\n",
              "\n",
              "[26 rows x 10 columns]"
            ]
          },
          "metadata": {
            "tags": []
          },
          "execution_count": 210
        }
      ]
    },
    {
      "cell_type": "code",
      "metadata": {
        "id": "1Pa21dY-qgHT"
      },
      "source": [
        "X=DF_2016[[\"Employers using computer\",\"Bussiness through computer networks\",\"Bussineses demand Big data analyst\",\"Businesses training employers in ICT\" , \"Bussines offered ICT specialist\" , \"GERD as a percentage of GDP\"]]\n",
        "y=DF_2016[['Unemployment rate']]"
      ],
      "execution_count": null,
      "outputs": []
    },
    {
      "cell_type": "code",
      "metadata": {
        "id": "Vt4BNfR3qlpw"
      },
      "source": [
        "import time\n",
        "from sklearn import linear_model\n",
        "from sklearn.linear_model import LinearRegression\n",
        "from sklearn.metrics import mean_squared_error, r2_score\n",
        "import matplotlib.pyplot as plt\n",
        "import numpy as np"
      ],
      "execution_count": null,
      "outputs": []
    },
    {
      "cell_type": "code",
      "metadata": {
        "colab": {
          "base_uri": "https://localhost:8080/"
        },
        "id": "y1oKsic5qpLy",
        "outputId": "ba5c4459-3ea1-4466-f47a-95a2022bd47b"
      },
      "source": [
        "from sklearn.model_selection import train_test_split\n",
        "X_train, X_eval, y_train, y_eval = train_test_split(X, y, test_size = 0.1, shuffle=False)\n",
        "linear_model = LinearRegression()\n",
        "linear_model.fit(X_train,y_train)\n",
        "start_time = time.process_time()\n",
        "y_pred_in = linear_model.predict(X_train)\n",
        "y_pred_out = linear_model.predict(X_eval)\n",
        "print(\"Modelo Lineal 2016\")\n",
        "print(\"Coeficientes\", linear_model.coef_)\n",
        "print(\"Intercepto\",linear_model.intercept_)\n",
        "print(\"El tiempo de ejecución es\", time.process_time() - start_time, \"segundos\")\n",
        "print(\"El error cuadratico dentro de muestra\",mean_squared_error(y_train, y_pred_in))\n",
        "print(\"El error cuadratico fuera de muestra\",mean_squared_error(y_eval, y_pred_out))"
      ],
      "execution_count": null,
      "outputs": [
        {
          "output_type": "stream",
          "text": [
            "Modelo Lineal 2016\n",
            "Coeficientes [[ 0.05193827 -0.33222316  0.34049793  0.19295405 -0.48634029 -2.22509644]]\n",
            "Intercepto [13.20753177]\n",
            "El tiempo de ejecución es 0.0037787420000015004 segundos\n",
            "El error cuadratico dentro de muestra 16.164399733158604\n",
            "El error cuadratico fuera de muestra 92.51636086193514\n"
          ],
          "name": "stdout"
        }
      ]
    },
    {
      "cell_type": "code",
      "metadata": {
        "colab": {
          "base_uri": "https://localhost:8080/"
        },
        "id": "Qh--2o0YqurM",
        "outputId": "57e06118-c9dd-479a-e0c3-e760e207dba1"
      },
      "source": [
        "from sklearn.linear_model import Lasso\n",
        "lasso_model = Lasso(alpha=0.5)\n",
        "start_time =time.process_time()\n",
        "lasso_model.fit(X_train,y_train)\n",
        "\n",
        "y_pred_in= lasso_model.predict(X_train)\n",
        "y_pred_out=lasso_model.predict(X_eval)\n",
        "\n",
        "print(\"Modelo Lasso 2016 \")\n",
        "print(\"Los coeficientes son\", lasso_model.coef_)\n",
        "print(\"El intercepto es\", lasso_model.intercept_)\n",
        "print(\"El tiempo de ejecucción es \", time.process_time()-start_time, \"en segundos\")\n",
        "print(\"El error cuadratico dentro de muestra es\", mean_squared_error(y_train,y_pred_in))\n",
        "print(\"El error cuadratico fuera de muesta es \", mean_squared_error(y_eval, y_pred_out))"
      ],
      "execution_count": null,
      "outputs": [
        {
          "output_type": "stream",
          "text": [
            "Modelo Lasso 2016 \n",
            "Los coeficientes son [-0.         -0.26575456  0.25148704  0.14512725 -0.36361021 -1.13155826]\n",
            "El intercepto es [13.54652203]\n",
            "El tiempo de ejecucción es  0.005449306999999237 en segundos\n",
            "El error cuadratico dentro de muestra es 16.85681014793037\n",
            "El error cuadratico fuera de muesta es  53.10386011917901\n"
          ],
          "name": "stdout"
        }
      ]
    },
    {
      "cell_type": "code",
      "metadata": {
        "colab": {
          "base_uri": "https://localhost:8080/"
        },
        "id": "MO2k0mjvq4Ps",
        "outputId": "83534dc9-b29d-47a7-d262-483c1b2443d8"
      },
      "source": [
        "from sklearn.linear_model import Ridge\n",
        "\n",
        "ridge_model=Ridge(alpha=0.5)\n",
        "start_time= time.process_time()\n",
        "ridge_model.fit(X_train, y_train)\n",
        "\n",
        "y_pred_in =ridge_model.predict(X_train)\n",
        "y_pred_out =ridge_model.predict(X_eval)\n",
        "\n",
        "\n",
        "print(\"Modelo Ridge 2016 \")\n",
        "print(\"Los coeficientes son\", ridge_model.coef_)\n",
        "print(\"El intercepto es\", ridge_model.intercept_)\n",
        "print(\"El tiempo de ejecucción es \", time.process_time()-start_time, \"en segundos\")\n",
        "print(\"El error cuadratico dentro de muestra es\", mean_squared_error(y_train,y_pred_in))\n",
        "print(\"El error cuadratico fuera de muesta es \", mean_squared_error(y_eval, y_pred_out))"
      ],
      "execution_count": null,
      "outputs": [
        {
          "output_type": "stream",
          "text": [
            "Modelo Ridge 2016 \n",
            "Los coeficientes son [[ 0.04661322 -0.32825649  0.33885019  0.19126689 -0.48593707 -2.12294515]]\n",
            "El intercepto es [13.28551841]\n",
            "El tiempo de ejecucción es  0.011087348000003772 en segundos\n",
            "El error cuadratico dentro de muestra es 16.16917123058649\n",
            "El error cuadratico fuera de muesta es  88.9974734871955\n"
          ],
          "name": "stdout"
        }
      ]
    },
    {
      "cell_type": "code",
      "metadata": {
        "colab": {
          "base_uri": "https://localhost:8080/"
        },
        "id": "3nOOfb2YrHpT",
        "outputId": "d9627968-a1ff-4da0-f6e6-331f5a0644ad"
      },
      "source": [
        "from sklearn.linear_model import ElasticNet\n",
        "\n",
        "elasticnet_model=ElasticNet(alpha=0.5,l1_ratio=0.5)\n",
        "start_time= time.process_time()\n",
        "elasticnet_model.fit(X_train, y_train)\n",
        "\n",
        "y_pred_in =elasticnet_model.predict(X_train)\n",
        "y_pred_out =elasticnet_model.predict(X_eval)\n",
        "\n",
        "print(\"Modelo ElasticNet 2016\")\n",
        "print(\"Los coeficientes son\", elasticnet_model.coef_)\n",
        "print(\"El intercepto es\", elasticnet_model.intercept_)\n",
        "print(\"El tiempo de ejecucción es \", time.process_time()-start_time, \"en segundos\")\n",
        "print(\"El error cuadratico dentro de muestra es\", mean_squared_error(y_train,y_pred_in))\n",
        "print(\"El error cuadratico fuera de muesta es \", mean_squared_error(y_eval, y_pred_out))"
      ],
      "execution_count": null,
      "outputs": [
        {
          "output_type": "stream",
          "text": [
            "Modelo ElasticNet 2016\n",
            "Los coeficientes son [-0.00383335 -0.27506782  0.28102643  0.15684374 -0.41150164 -1.08672654]\n",
            "El intercepto es [13.75927622]\n",
            "El tiempo de ejecucción es  0.01216493399999763 en segundos\n",
            "El error cuadratico dentro de muestra es 16.81842318406491\n",
            "El error cuadratico fuera de muesta es  54.61643053271541\n"
          ],
          "name": "stdout"
        }
      ]
    },
    {
      "cell_type": "markdown",
      "metadata": {
        "id": "2tyuwEV6rwnS"
      },
      "source": [
        "### ***2017***"
      ]
    },
    {
      "cell_type": "code",
      "metadata": {
        "colab": {
          "base_uri": "https://localhost:8080/"
        },
        "id": "LlxaNIMOr0g3",
        "outputId": "6ecc52a8-204c-4703-c2fd-546de0e0d639"
      },
      "source": [
        "DF_2017=df_TIME.loc[2017]\n",
        "DF_2017"
      ],
      "execution_count": null,
      "outputs": [
        {
          "output_type": "execute_result",
          "data": {
            "text/html": [
              "<div>\n",
              "<style scoped>\n",
              "    .dataframe tbody tr th:only-of-type {\n",
              "        vertical-align: middle;\n",
              "    }\n",
              "\n",
              "    .dataframe tbody tr th {\n",
              "        vertical-align: top;\n",
              "    }\n",
              "\n",
              "    .dataframe thead th {\n",
              "        text-align: right;\n",
              "    }\n",
              "</style>\n",
              "<table border=\"1\" class=\"dataframe\">\n",
              "  <thead>\n",
              "    <tr style=\"text-align: right;\">\n",
              "      <th></th>\n",
              "      <th>Country</th>\n",
              "      <th>Employers using computer</th>\n",
              "      <th>Bussiness through computer networks</th>\n",
              "      <th>Bussineses demand Big data analyst</th>\n",
              "      <th>Businesses training employers in ICT</th>\n",
              "      <th>Bussines offered ICT specialist</th>\n",
              "      <th>GERD as a percentage of GDP</th>\n",
              "      <th>Total R&amp;D personnel per thousand total employment</th>\n",
              "      <th>Unemployment rate</th>\n",
              "      <th>Invest in TICS and I+D $US</th>\n",
              "    </tr>\n",
              "    <tr>\n",
              "      <th>Time</th>\n",
              "      <th></th>\n",
              "      <th></th>\n",
              "      <th></th>\n",
              "      <th></th>\n",
              "      <th></th>\n",
              "      <th></th>\n",
              "      <th></th>\n",
              "      <th></th>\n",
              "      <th></th>\n",
              "      <th></th>\n",
              "    </tr>\n",
              "  </thead>\n",
              "  <tbody>\n",
              "    <tr>\n",
              "      <th>2017</th>\n",
              "      <td>Belgium</td>\n",
              "      <td>64.324000</td>\n",
              "      <td>25.791600</td>\n",
              "      <td>7.687400</td>\n",
              "      <td>34.64990</td>\n",
              "      <td>13.019400</td>\n",
              "      <td>2.667015</td>\n",
              "      <td>17.402117</td>\n",
              "      <td>7.147249</td>\n",
              "      <td>1885</td>\n",
              "    </tr>\n",
              "    <tr>\n",
              "      <th>2017</th>\n",
              "      <td>Colombia</td>\n",
              "      <td>58.257144</td>\n",
              "      <td>25.456616</td>\n",
              "      <td>3.214500</td>\n",
              "      <td>7.97355</td>\n",
              "      <td>2.032312</td>\n",
              "      <td>0.261546</td>\n",
              "      <td>2.006793</td>\n",
              "      <td>9.720731</td>\n",
              "      <td>1469</td>\n",
              "    </tr>\n",
              "    <tr>\n",
              "      <th>2017</th>\n",
              "      <td>Czech Republic</td>\n",
              "      <td>48.831800</td>\n",
              "      <td>23.953400</td>\n",
              "      <td>5.673400</td>\n",
              "      <td>22.98450</td>\n",
              "      <td>6.752200</td>\n",
              "      <td>1.768550</td>\n",
              "      <td>13.044230</td>\n",
              "      <td>2.940991</td>\n",
              "      <td>649</td>\n",
              "    </tr>\n",
              "    <tr>\n",
              "      <th>2017</th>\n",
              "      <td>Denmark</td>\n",
              "      <td>96.740000</td>\n",
              "      <td>30.237200</td>\n",
              "      <td>9.870000</td>\n",
              "      <td>26.51360</td>\n",
              "      <td>12.101200</td>\n",
              "      <td>3.025317</td>\n",
              "      <td>21.644500</td>\n",
              "      <td>5.890500</td>\n",
              "      <td>1104</td>\n",
              "    </tr>\n",
              "    <tr>\n",
              "      <th>2017</th>\n",
              "      <td>Estonia</td>\n",
              "      <td>48.473000</td>\n",
              "      <td>19.063900</td>\n",
              "      <td>8.040000</td>\n",
              "      <td>13.21420</td>\n",
              "      <td>13.318500</td>\n",
              "      <td>1.275560</td>\n",
              "      <td>9.427903</td>\n",
              "      <td>5.921910</td>\n",
              "      <td>90</td>\n",
              "    </tr>\n",
              "    <tr>\n",
              "      <th>2017</th>\n",
              "      <td>Finland</td>\n",
              "      <td>76.369200</td>\n",
              "      <td>24.218000</td>\n",
              "      <td>11.380000</td>\n",
              "      <td>37.51390</td>\n",
              "      <td>9.738700</td>\n",
              "      <td>2.727871</td>\n",
              "      <td>19.126591</td>\n",
              "      <td>8.777300</td>\n",
              "      <td>683</td>\n",
              "    </tr>\n",
              "    <tr>\n",
              "      <th>2017</th>\n",
              "      <td>France</td>\n",
              "      <td>59.782500</td>\n",
              "      <td>20.757300</td>\n",
              "      <td>9.560000</td>\n",
              "      <td>18.85570</td>\n",
              "      <td>8.801000</td>\n",
              "      <td>2.203483</td>\n",
              "      <td>15.857661</td>\n",
              "      <td>9.482023</td>\n",
              "      <td>10737</td>\n",
              "    </tr>\n",
              "    <tr>\n",
              "      <th>2017</th>\n",
              "      <td>Germany</td>\n",
              "      <td>62.560000</td>\n",
              "      <td>25.710400</td>\n",
              "      <td>11.270000</td>\n",
              "      <td>27.78900</td>\n",
              "      <td>7.959100</td>\n",
              "      <td>3.053923</td>\n",
              "      <td>15.511413</td>\n",
              "      <td>3.829521</td>\n",
              "      <td>9551</td>\n",
              "    </tr>\n",
              "    <tr>\n",
              "      <th>2017</th>\n",
              "      <td>Greece</td>\n",
              "      <td>43.714100</td>\n",
              "      <td>12.241000</td>\n",
              "      <td>7.650000</td>\n",
              "      <td>11.58780</td>\n",
              "      <td>6.272000</td>\n",
              "      <td>1.150668</td>\n",
              "      <td>10.701338</td>\n",
              "      <td>21.653166</td>\n",
              "      <td>575</td>\n",
              "    </tr>\n",
              "    <tr>\n",
              "      <th>2017</th>\n",
              "      <td>Hungary</td>\n",
              "      <td>47.174700</td>\n",
              "      <td>15.532000</td>\n",
              "      <td>4.238648</td>\n",
              "      <td>16.89730</td>\n",
              "      <td>10.909600</td>\n",
              "      <td>1.318411</td>\n",
              "      <td>8.868559</td>\n",
              "      <td>4.194950</td>\n",
              "      <td>712</td>\n",
              "    </tr>\n",
              "    <tr>\n",
              "      <th>2017</th>\n",
              "      <td>Iceland</td>\n",
              "      <td>55.703200</td>\n",
              "      <td>18.436470</td>\n",
              "      <td>14.374600</td>\n",
              "      <td>9.57980</td>\n",
              "      <td>9.526600</td>\n",
              "      <td>2.083751</td>\n",
              "      <td>15.965327</td>\n",
              "      <td>3.450500</td>\n",
              "      <td>69</td>\n",
              "    </tr>\n",
              "    <tr>\n",
              "      <th>2017</th>\n",
              "      <td>Ireland</td>\n",
              "      <td>57.034545</td>\n",
              "      <td>32.841300</td>\n",
              "      <td>5.343560</td>\n",
              "      <td>30.21110</td>\n",
              "      <td>11.540600</td>\n",
              "      <td>1.223522</td>\n",
              "      <td>17.078413</td>\n",
              "      <td>6.765717</td>\n",
              "      <td>740</td>\n",
              "    </tr>\n",
              "    <tr>\n",
              "      <th>2017</th>\n",
              "      <td>Italy</td>\n",
              "      <td>50.036600</td>\n",
              "      <td>12.527100</td>\n",
              "      <td>6.234790</td>\n",
              "      <td>12.91510</td>\n",
              "      <td>5.572000</td>\n",
              "      <td>1.370134</td>\n",
              "      <td>12.635222</td>\n",
              "      <td>11.428731</td>\n",
              "      <td>8071</td>\n",
              "    </tr>\n",
              "    <tr>\n",
              "      <th>2017</th>\n",
              "      <td>Korea</td>\n",
              "      <td>66.780000</td>\n",
              "      <td>11.430000</td>\n",
              "      <td>4.510000</td>\n",
              "      <td>14.12370</td>\n",
              "      <td>3.961800</td>\n",
              "      <td>4.292056</td>\n",
              "      <td>17.631476</td>\n",
              "      <td>3.765282</td>\n",
              "      <td>4914</td>\n",
              "    </tr>\n",
              "    <tr>\n",
              "      <th>2017</th>\n",
              "      <td>Lithuania</td>\n",
              "      <td>45.950300</td>\n",
              "      <td>22.849000</td>\n",
              "      <td>9.123140</td>\n",
              "      <td>10.90990</td>\n",
              "      <td>9.377900</td>\n",
              "      <td>0.896261</td>\n",
              "      <td>8.500698</td>\n",
              "      <td>7.299644</td>\n",
              "      <td>86</td>\n",
              "    </tr>\n",
              "    <tr>\n",
              "      <th>2017</th>\n",
              "      <td>Netherlands</td>\n",
              "      <td>72.482100</td>\n",
              "      <td>25.507700</td>\n",
              "      <td>16.987530</td>\n",
              "      <td>23.62300</td>\n",
              "      <td>12.517900</td>\n",
              "      <td>2.178566</td>\n",
              "      <td>12.814883</td>\n",
              "      <td>4.863896</td>\n",
              "      <td>1119</td>\n",
              "    </tr>\n",
              "    <tr>\n",
              "      <th>2017</th>\n",
              "      <td>Norway</td>\n",
              "      <td>75.488600</td>\n",
              "      <td>30.209900</td>\n",
              "      <td>7.412340</td>\n",
              "      <td>39.57090</td>\n",
              "      <td>6.426500</td>\n",
              "      <td>2.099186</td>\n",
              "      <td>16.424484</td>\n",
              "      <td>4.271554</td>\n",
              "      <td>1320</td>\n",
              "    </tr>\n",
              "    <tr>\n",
              "      <th>2017</th>\n",
              "      <td>Poland</td>\n",
              "      <td>45.614300</td>\n",
              "      <td>11.767400</td>\n",
              "      <td>6.234250</td>\n",
              "      <td>12.07530</td>\n",
              "      <td>5.313200</td>\n",
              "      <td>1.034181</td>\n",
              "      <td>16.828274</td>\n",
              "      <td>4.966870</td>\n",
              "      <td>117</td>\n",
              "    </tr>\n",
              "    <tr>\n",
              "      <th>2017</th>\n",
              "      <td>Portugal</td>\n",
              "      <td>42.317200</td>\n",
              "      <td>18.248900</td>\n",
              "      <td>9.980213</td>\n",
              "      <td>20.61360</td>\n",
              "      <td>5.889100</td>\n",
              "      <td>1.319284</td>\n",
              "      <td>8.832547</td>\n",
              "      <td>8.198009</td>\n",
              "      <td>727</td>\n",
              "    </tr>\n",
              "    <tr>\n",
              "      <th>2017</th>\n",
              "      <td>Turkey</td>\n",
              "      <td>50.419700</td>\n",
              "      <td>17.899500</td>\n",
              "      <td>7.123000</td>\n",
              "      <td>16.79440</td>\n",
              "      <td>6.085000</td>\n",
              "      <td>0.886000</td>\n",
              "      <td>11.451047</td>\n",
              "      <td>6.665804</td>\n",
              "      <td>2234</td>\n",
              "    </tr>\n",
              "    <tr>\n",
              "      <th>2017</th>\n",
              "      <td>United States</td>\n",
              "      <td>76.629800</td>\n",
              "      <td>24.667400</td>\n",
              "      <td>7.238700</td>\n",
              "      <td>26.73440</td>\n",
              "      <td>6.508400</td>\n",
              "      <td>1.865397</td>\n",
              "      <td>8.013891</td>\n",
              "      <td>17.330746</td>\n",
              "      <td>94472</td>\n",
              "    </tr>\n",
              "    <tr>\n",
              "      <th>2017</th>\n",
              "      <td>Spain</td>\n",
              "      <td>58.894600</td>\n",
              "      <td>21.345700</td>\n",
              "      <td>7.124500</td>\n",
              "      <td>22.50840</td>\n",
              "      <td>10.753000</td>\n",
              "      <td>1.210418</td>\n",
              "      <td>14.867623</td>\n",
              "      <td>6.812220</td>\n",
              "      <td>5258</td>\n",
              "    </tr>\n",
              "    <tr>\n",
              "      <th>2017</th>\n",
              "      <td>Sweden</td>\n",
              "      <td>78.020500</td>\n",
              "      <td>30.980500</td>\n",
              "      <td>6.984320</td>\n",
              "      <td>27.94340</td>\n",
              "      <td>9.549400</td>\n",
              "      <td>3.362786</td>\n",
              "      <td>17.754338</td>\n",
              "      <td>4.963286</td>\n",
              "      <td>2047</td>\n",
              "    </tr>\n",
              "    <tr>\n",
              "      <th>2017</th>\n",
              "      <td>Switzerland</td>\n",
              "      <td>57.730748</td>\n",
              "      <td>57.234700</td>\n",
              "      <td>5.765000</td>\n",
              "      <td>17.94340</td>\n",
              "      <td>6.508400</td>\n",
              "      <td>3.178758</td>\n",
              "      <td>16.322722</td>\n",
              "      <td>11.150764</td>\n",
              "      <td>2998</td>\n",
              "    </tr>\n",
              "    <tr>\n",
              "      <th>2017</th>\n",
              "      <td>United Kingdom</td>\n",
              "      <td>61.719600</td>\n",
              "      <td>22.510700</td>\n",
              "      <td>14.654000</td>\n",
              "      <td>26.05860</td>\n",
              "      <td>9.703600</td>\n",
              "      <td>1.682585</td>\n",
              "      <td>13.836390</td>\n",
              "      <td>4.468894</td>\n",
              "      <td>9757</td>\n",
              "    </tr>\n",
              "    <tr>\n",
              "      <th>2017</th>\n",
              "      <td>Brazil</td>\n",
              "      <td>50.000000</td>\n",
              "      <td>21.200000</td>\n",
              "      <td>5.234600</td>\n",
              "      <td>12.33500</td>\n",
              "      <td>13.140500</td>\n",
              "      <td>2.846766</td>\n",
              "      <td>4.353933</td>\n",
              "      <td>4.406087</td>\n",
              "      <td>1544</td>\n",
              "    </tr>\n",
              "  </tbody>\n",
              "</table>\n",
              "</div>"
            ],
            "text/plain": [
              "             Country  ...  Invest in TICS and I+D $US\n",
              "Time                  ...                            \n",
              "2017         Belgium  ...                        1885\n",
              "2017        Colombia  ...                        1469\n",
              "2017  Czech Republic  ...                         649\n",
              "2017         Denmark  ...                        1104\n",
              "2017         Estonia  ...                          90\n",
              "2017         Finland  ...                         683\n",
              "2017          France  ...                       10737\n",
              "2017         Germany  ...                        9551\n",
              "2017          Greece  ...                         575\n",
              "2017         Hungary  ...                         712\n",
              "2017         Iceland  ...                          69\n",
              "2017         Ireland  ...                         740\n",
              "2017           Italy  ...                        8071\n",
              "2017           Korea  ...                        4914\n",
              "2017       Lithuania  ...                          86\n",
              "2017     Netherlands  ...                        1119\n",
              "2017          Norway  ...                        1320\n",
              "2017          Poland  ...                         117\n",
              "2017        Portugal  ...                         727\n",
              "2017          Turkey  ...                        2234\n",
              "2017   United States  ...                       94472\n",
              "2017           Spain  ...                        5258\n",
              "2017          Sweden  ...                        2047\n",
              "2017     Switzerland  ...                        2998\n",
              "2017  United Kingdom  ...                        9757\n",
              "2017          Brazil  ...                        1544\n",
              "\n",
              "[26 rows x 10 columns]"
            ]
          },
          "metadata": {
            "tags": []
          },
          "execution_count": 217
        }
      ]
    },
    {
      "cell_type": "code",
      "metadata": {
        "id": "Bsvmc6y2r7dI"
      },
      "source": [
        "X=DF_2017[[\"Employers using computer\",\"Bussiness through computer networks\",\"Bussineses demand Big data analyst\",\"Businesses training employers in ICT\" , \"Bussines offered ICT specialist\" , \"GERD as a percentage of GDP\"]]\n",
        "y=DF_2017[['Unemployment rate']]"
      ],
      "execution_count": null,
      "outputs": []
    },
    {
      "cell_type": "code",
      "metadata": {
        "colab": {
          "base_uri": "https://localhost:8080/"
        },
        "id": "nA7iHWKVr9oP",
        "outputId": "817a5d89-47a4-484d-cbe6-d463ca56b7b2"
      },
      "source": [
        "X_train, X_eval, y_train, y_eval = train_test_split(X, y, test_size = 0.1, shuffle=False)\n",
        "linear_model = LinearRegression()\n",
        "linear_model.fit(X_train,y_train)\n",
        "start_time = time.process_time()\n",
        "y_pred_in = linear_model.predict(X_train)\n",
        "y_pred_out = linear_model.predict(X_eval)\n",
        "print(\"Modelo Lineal 2017\")\n",
        "print(\"Coeficientes\", linear_model.coef_)\n",
        "print(\"Intercepto\",linear_model.intercept_)\n",
        "print(\"El tiempo de ejecución es\", time.process_time() - start_time, \"segundos\")\n",
        "print(\"El error cuadratico dentro de muestra\",mean_squared_error(y_train, y_pred_in))\n",
        "print(\"El error cuadratico fuera de muestra\",mean_squared_error(y_eval, y_pred_out))"
      ],
      "execution_count": null,
      "outputs": [
        {
          "output_type": "stream",
          "text": [
            "Modelo Lineal 2017\n",
            "Coeficientes [[ 0.17005851 -0.36481623  0.03157931  0.10891524 -0.239971   -2.92830876]]\n",
            "Intercepto [10.12440807]\n",
            "El tiempo de ejecución es 0.005643747999997117 segundos\n",
            "El error cuadratico dentro de muestra 14.056357405130791\n",
            "El error cuadratico fuera de muestra 153.88926201094208\n"
          ],
          "name": "stdout"
        }
      ]
    },
    {
      "cell_type": "code",
      "metadata": {
        "colab": {
          "base_uri": "https://localhost:8080/"
        },
        "id": "CGAARy0AsDoC",
        "outputId": "81604946-88ff-43bc-ae11-34646ec7cc0c"
      },
      "source": [
        "from sklearn.linear_model import Lasso\n",
        "lasso_model = Lasso(alpha=0.5)\n",
        "start_time =time.process_time()\n",
        "lasso_model.fit(X_train,y_train)\n",
        "\n",
        "y_pred_in= lasso_model.predict(X_train)\n",
        "y_pred_out=lasso_model.predict(X_eval)\n",
        "\n",
        "print(\"Modelo Lasso 2017\")\n",
        "print(\"Los coeficientes son\", lasso_model.coef_)\n",
        "print(\"El intercepto es\", lasso_model.intercept_)\n",
        "print(\"El tiempo de ejecucción es \", time.process_time()-start_time, \"en segundos\")\n",
        "print(\"El error cuadratico dentro de muestra es\", mean_squared_error(y_train,y_pred_in))\n",
        "print(\"El error cuadratico fuera de muesta es \", mean_squared_error(y_eval, y_pred_out))"
      ],
      "execution_count": null,
      "outputs": [
        {
          "output_type": "stream",
          "text": [
            "Modelo Lasso 2017\n",
            "Los coeficientes son [ 0.08610143 -0.21236496 -0.          0.03429351 -0.20032053 -1.43173141]\n",
            "El intercepto es [10.52487619]\n",
            "El tiempo de ejecucción es  0.009105229999995856 en segundos\n",
            "El error cuadratico dentro de muestra es 14.974520338790034\n",
            "El error cuadratico fuera de muesta es  60.072711461724886\n"
          ],
          "name": "stdout"
        }
      ]
    },
    {
      "cell_type": "code",
      "metadata": {
        "colab": {
          "base_uri": "https://localhost:8080/"
        },
        "id": "yuI6MyQzsJxX",
        "outputId": "3dd212a2-9678-48ad-fe0a-31e8781678b6"
      },
      "source": [
        "from sklearn.linear_model import Ridge\n",
        "\n",
        "ridge_model=Ridge(alpha=0.5)\n",
        "start_time= time.process_time()\n",
        "ridge_model.fit(X_train, y_train)\n",
        "\n",
        "y_pred_in =ridge_model.predict(X_train)\n",
        "y_pred_out =ridge_model.predict(X_eval)\n",
        "\n",
        "\n",
        "print(\"Modelo Ridge 2017\")\n",
        "print(\"Los coeficientes son\", ridge_model.coef_)\n",
        "print(\"El intercepto es\", ridge_model.intercept_)\n",
        "print(\"El tiempo de ejecucción es \", time.process_time()-start_time, \"en segundos\")\n",
        "print(\"El error cuadratico dentro de muestra es\", mean_squared_error(y_train,y_pred_in))\n",
        "print(\"El error cuadratico fuera de muesta es \", mean_squared_error(y_eval, y_pred_out))"
      ],
      "execution_count": null,
      "outputs": [
        {
          "output_type": "stream",
          "text": [
            "Modelo Ridge 2017\n",
            "Los coeficientes son [[ 0.16164346 -0.35168955  0.0279906   0.10332528 -0.24158183 -2.76871672]]\n",
            "El intercepto es [10.20412607]\n",
            "El tiempo de ejecucción es  0.009462843999997972 en segundos\n",
            "El error cuadratico dentro de muestra es 14.066099378932597\n",
            "El error cuadratico fuera de muesta es  143.1863313107065\n"
          ],
          "name": "stdout"
        }
      ]
    },
    {
      "cell_type": "code",
      "metadata": {
        "colab": {
          "base_uri": "https://localhost:8080/"
        },
        "id": "7JtEl_ogsS4l",
        "outputId": "8d968122-3163-45f5-dbad-395c4ed11be9"
      },
      "source": [
        "from sklearn.linear_model import ElasticNet\n",
        "\n",
        "elasticnet_model=ElasticNet(alpha=0.5,l1_ratio=0.5)\n",
        "start_time= time.process_time()\n",
        "elasticnet_model.fit(X_train, y_train)\n",
        "\n",
        "y_pred_in =elasticnet_model.predict(X_train)\n",
        "y_pred_out =elasticnet_model.predict(X_eval)\n",
        "\n",
        "print(\"Modelo ElasticNet 2017 \")\n",
        "print(\"Los coeficientes son\", elasticnet_model.coef_)\n",
        "print(\"El intercepto es\", elasticnet_model.intercept_)\n",
        "print(\"El tiempo de ejecucción es \", time.process_time()-start_time, \"en segundos\")\n",
        "print(\"El error cuadratico dentro de muestra es\", mean_squared_error(y_train,y_pred_in))\n",
        "print(\"El error cuadratico fuera de muesta es \", mean_squared_error(y_eval, y_pred_out))"
      ],
      "execution_count": null,
      "outputs": [
        {
          "output_type": "stream",
          "text": [
            "Modelo ElasticNet 2017 \n",
            "Los coeficientes son [ 0.08195314 -0.21671084 -0.          0.04087187 -0.22713799 -1.31134306]\n",
            "El intercepto es [10.7295741]\n",
            "El tiempo de ejecucción es  0.008394726999995328 en segundos\n",
            "El error cuadratico dentro de muestra es 15.077348765878094\n",
            "El error cuadratico fuera de muesta es  59.634544867982356\n"
          ],
          "name": "stdout"
        }
      ]
    },
    {
      "cell_type": "markdown",
      "metadata": {
        "id": "_KkKGrzJsfrE"
      },
      "source": [
        "### ***2018***"
      ]
    },
    {
      "cell_type": "code",
      "metadata": {
        "colab": {
          "base_uri": "https://localhost:8080/"
        },
        "id": "w9MrjANdsixn",
        "outputId": "895e709b-7a85-4871-a641-56363665c8de"
      },
      "source": [
        "DF_2018=df_TIME.loc[2018]\n",
        "DF_2018"
      ],
      "execution_count": null,
      "outputs": [
        {
          "output_type": "execute_result",
          "data": {
            "text/html": [
              "<div>\n",
              "<style scoped>\n",
              "    .dataframe tbody tr th:only-of-type {\n",
              "        vertical-align: middle;\n",
              "    }\n",
              "\n",
              "    .dataframe tbody tr th {\n",
              "        vertical-align: top;\n",
              "    }\n",
              "\n",
              "    .dataframe thead th {\n",
              "        text-align: right;\n",
              "    }\n",
              "</style>\n",
              "<table border=\"1\" class=\"dataframe\">\n",
              "  <thead>\n",
              "    <tr style=\"text-align: right;\">\n",
              "      <th></th>\n",
              "      <th>Country</th>\n",
              "      <th>Employers using computer</th>\n",
              "      <th>Bussiness through computer networks</th>\n",
              "      <th>Bussineses demand Big data analyst</th>\n",
              "      <th>Businesses training employers in ICT</th>\n",
              "      <th>Bussines offered ICT specialist</th>\n",
              "      <th>GERD as a percentage of GDP</th>\n",
              "      <th>Total R&amp;D personnel per thousand total employment</th>\n",
              "      <th>Unemployment rate</th>\n",
              "      <th>Invest in TICS and I+D $US</th>\n",
              "    </tr>\n",
              "    <tr>\n",
              "      <th>Time</th>\n",
              "      <th></th>\n",
              "      <th></th>\n",
              "      <th></th>\n",
              "      <th></th>\n",
              "      <th></th>\n",
              "      <th></th>\n",
              "      <th></th>\n",
              "      <th></th>\n",
              "      <th></th>\n",
              "      <th></th>\n",
              "    </tr>\n",
              "  </thead>\n",
              "  <tbody>\n",
              "    <tr>\n",
              "      <th>2018</th>\n",
              "      <td>Belgium</td>\n",
              "      <td>64.316800</td>\n",
              "      <td>29.921200</td>\n",
              "      <td>8.23540</td>\n",
              "      <td>35.57970</td>\n",
              "      <td>12.828500</td>\n",
              "      <td>2.673260</td>\n",
              "      <td>18.274706</td>\n",
              "      <td>6.003281</td>\n",
              "      <td>7768</td>\n",
              "    </tr>\n",
              "    <tr>\n",
              "      <th>2018</th>\n",
              "      <td>Colombia</td>\n",
              "      <td>60.351333</td>\n",
              "      <td>26.379277</td>\n",
              "      <td>3.95280</td>\n",
              "      <td>8.69665</td>\n",
              "      <td>3.571340</td>\n",
              "      <td>0.285997</td>\n",
              "      <td>1.858605</td>\n",
              "      <td>10.006153</td>\n",
              "      <td>1469</td>\n",
              "    </tr>\n",
              "    <tr>\n",
              "      <th>2018</th>\n",
              "      <td>Czech Republic</td>\n",
              "      <td>50.220100</td>\n",
              "      <td>24.900500</td>\n",
              "      <td>6.57090</td>\n",
              "      <td>24.78670</td>\n",
              "      <td>8.101500</td>\n",
              "      <td>1.899447</td>\n",
              "      <td>13.836816</td>\n",
              "      <td>2.284104</td>\n",
              "      <td>736</td>\n",
              "    </tr>\n",
              "    <tr>\n",
              "      <th>2018</th>\n",
              "      <td>Denmark</td>\n",
              "      <td>100.000000</td>\n",
              "      <td>31.576200</td>\n",
              "      <td>10.18980</td>\n",
              "      <td>28.13970</td>\n",
              "      <td>12.543600</td>\n",
              "      <td>3.022687</td>\n",
              "      <td>21.796755</td>\n",
              "      <td>4.985612</td>\n",
              "      <td>1112</td>\n",
              "    </tr>\n",
              "    <tr>\n",
              "      <th>2018</th>\n",
              "      <td>Estonia</td>\n",
              "      <td>50.388500</td>\n",
              "      <td>19.727500</td>\n",
              "      <td>9.62200</td>\n",
              "      <td>13.28270</td>\n",
              "      <td>6.531900</td>\n",
              "      <td>1.409690</td>\n",
              "      <td>9.519784</td>\n",
              "      <td>5.422043</td>\n",
              "      <td>95</td>\n",
              "    </tr>\n",
              "    <tr>\n",
              "      <th>2018</th>\n",
              "      <td>Finland</td>\n",
              "      <td>76.558400</td>\n",
              "      <td>23.846200</td>\n",
              "      <td>12.88170</td>\n",
              "      <td>35.91370</td>\n",
              "      <td>11.502600</td>\n",
              "      <td>2.754733</td>\n",
              "      <td>19.043943</td>\n",
              "      <td>7.471108</td>\n",
              "      <td>953</td>\n",
              "    </tr>\n",
              "    <tr>\n",
              "      <th>2018</th>\n",
              "      <td>France</td>\n",
              "      <td>60.030000</td>\n",
              "      <td>18.532700</td>\n",
              "      <td>11.76860</td>\n",
              "      <td>19.21580</td>\n",
              "      <td>8.757800</td>\n",
              "      <td>2.195863</td>\n",
              "      <td>16.111902</td>\n",
              "      <td>9.148040</td>\n",
              "      <td>11510</td>\n",
              "    </tr>\n",
              "    <tr>\n",
              "      <th>2018</th>\n",
              "      <td>Germany</td>\n",
              "      <td>74.450000</td>\n",
              "      <td>21.597200</td>\n",
              "      <td>14.46000</td>\n",
              "      <td>29.89320</td>\n",
              "      <td>8.941000</td>\n",
              "      <td>3.118482</td>\n",
              "      <td>15.777939</td>\n",
              "      <td>3.464468</td>\n",
              "      <td>10706</td>\n",
              "    </tr>\n",
              "    <tr>\n",
              "      <th>2018</th>\n",
              "      <td>Greece</td>\n",
              "      <td>42.412700</td>\n",
              "      <td>11.752800</td>\n",
              "      <td>9.38630</td>\n",
              "      <td>14.10290</td>\n",
              "      <td>6.099600</td>\n",
              "      <td>1.212565</td>\n",
              "      <td>11.372336</td>\n",
              "      <td>19.452728</td>\n",
              "      <td>604</td>\n",
              "    </tr>\n",
              "    <tr>\n",
              "      <th>2018</th>\n",
              "      <td>Hungary</td>\n",
              "      <td>49.335400</td>\n",
              "      <td>15.109500</td>\n",
              "      <td>4.29930</td>\n",
              "      <td>16.51770</td>\n",
              "      <td>11.092400</td>\n",
              "      <td>1.509130</td>\n",
              "      <td>11.711729</td>\n",
              "      <td>3.748222</td>\n",
              "      <td>796</td>\n",
              "    </tr>\n",
              "    <tr>\n",
              "      <th>2018</th>\n",
              "      <td>Iceland</td>\n",
              "      <td>100.000000</td>\n",
              "      <td>26.653900</td>\n",
              "      <td>16.76180</td>\n",
              "      <td>10.60820</td>\n",
              "      <td>9.583234</td>\n",
              "      <td>2.006432</td>\n",
              "      <td>16.013200</td>\n",
              "      <td>3.165696</td>\n",
              "      <td>70</td>\n",
              "    </tr>\n",
              "    <tr>\n",
              "      <th>2018</th>\n",
              "      <td>Ireland</td>\n",
              "      <td>58.555400</td>\n",
              "      <td>35.093500</td>\n",
              "      <td>6.24380</td>\n",
              "      <td>30.19420</td>\n",
              "      <td>10.484700</td>\n",
              "      <td>1.165932</td>\n",
              "      <td>16.476285</td>\n",
              "      <td>5.599492</td>\n",
              "      <td>745</td>\n",
              "    </tr>\n",
              "    <tr>\n",
              "      <th>2018</th>\n",
              "      <td>Italy</td>\n",
              "      <td>54.105300</td>\n",
              "      <td>14.186000</td>\n",
              "      <td>5.91200</td>\n",
              "      <td>16.94120</td>\n",
              "      <td>5.981200</td>\n",
              "      <td>1.422127</td>\n",
              "      <td>13.639993</td>\n",
              "      <td>10.824172</td>\n",
              "      <td>9893</td>\n",
              "    </tr>\n",
              "    <tr>\n",
              "      <th>2018</th>\n",
              "      <td>Korea</td>\n",
              "      <td>66.880000</td>\n",
              "      <td>15.700000</td>\n",
              "      <td>4.55000</td>\n",
              "      <td>15.46800</td>\n",
              "      <td>5.185000</td>\n",
              "      <td>4.516334</td>\n",
              "      <td>18.685203</td>\n",
              "      <td>3.933027</td>\n",
              "      <td>5130</td>\n",
              "    </tr>\n",
              "    <tr>\n",
              "      <th>2018</th>\n",
              "      <td>Lithuania</td>\n",
              "      <td>66.880000</td>\n",
              "      <td>22.379300</td>\n",
              "      <td>10.47510</td>\n",
              "      <td>8.76790</td>\n",
              "      <td>8.420200</td>\n",
              "      <td>0.937120</td>\n",
              "      <td>8.659858</td>\n",
              "      <td>6.334833</td>\n",
              "      <td>95</td>\n",
              "    </tr>\n",
              "    <tr>\n",
              "      <th>2018</th>\n",
              "      <td>Netherlands</td>\n",
              "      <td>72.826600</td>\n",
              "      <td>27.334900</td>\n",
              "      <td>18.80140</td>\n",
              "      <td>25.57870</td>\n",
              "      <td>13.133800</td>\n",
              "      <td>2.138796</td>\n",
              "      <td>12.182709</td>\n",
              "      <td>3.830758</td>\n",
              "      <td>1143</td>\n",
              "    </tr>\n",
              "    <tr>\n",
              "      <th>2018</th>\n",
              "      <td>Norway</td>\n",
              "      <td>73.847000</td>\n",
              "      <td>28.642400</td>\n",
              "      <td>9.02900</td>\n",
              "      <td>41.58520</td>\n",
              "      <td>6.942000</td>\n",
              "      <td>2.047809</td>\n",
              "      <td>16.695934</td>\n",
              "      <td>3.920439</td>\n",
              "      <td>1356</td>\n",
              "    </tr>\n",
              "    <tr>\n",
              "      <th>2018</th>\n",
              "      <td>Poland</td>\n",
              "      <td>46.106100</td>\n",
              "      <td>13.988100</td>\n",
              "      <td>5.40250</td>\n",
              "      <td>13.36410</td>\n",
              "      <td>5.995200</td>\n",
              "      <td>1.208915</td>\n",
              "      <td>16.687914</td>\n",
              "      <td>3.910156</td>\n",
              "      <td>95</td>\n",
              "    </tr>\n",
              "    <tr>\n",
              "      <th>2018</th>\n",
              "      <td>Portugal</td>\n",
              "      <td>43.562600</td>\n",
              "      <td>18.869600</td>\n",
              "      <td>10.02560</td>\n",
              "      <td>19.48680</td>\n",
              "      <td>7.092300</td>\n",
              "      <td>1.349555</td>\n",
              "      <td>9.875400</td>\n",
              "      <td>6.607804</td>\n",
              "      <td>712</td>\n",
              "    </tr>\n",
              "    <tr>\n",
              "      <th>2018</th>\n",
              "      <td>Turkey</td>\n",
              "      <td>50.561900</td>\n",
              "      <td>16.344000</td>\n",
              "      <td>6.32360</td>\n",
              "      <td>17.53630</td>\n",
              "      <td>4.951200</td>\n",
              "      <td>0.838995</td>\n",
              "      <td>11.833255</td>\n",
              "      <td>5.202433</td>\n",
              "      <td>1947</td>\n",
              "    </tr>\n",
              "    <tr>\n",
              "      <th>2018</th>\n",
              "      <td>United States</td>\n",
              "      <td>78.501000</td>\n",
              "      <td>25.377200</td>\n",
              "      <td>9.31450</td>\n",
              "      <td>28.53190</td>\n",
              "      <td>7.960700</td>\n",
              "      <td>1.946519</td>\n",
              "      <td>8.375546</td>\n",
              "      <td>15.350343</td>\n",
              "      <td>94997</td>\n",
              "    </tr>\n",
              "    <tr>\n",
              "      <th>2018</th>\n",
              "      <td>Spain</td>\n",
              "      <td>68.666100</td>\n",
              "      <td>20.065200</td>\n",
              "      <td>7.31860</td>\n",
              "      <td>21.19160</td>\n",
              "      <td>11.242800</td>\n",
              "      <td>1.241114</td>\n",
              "      <td>15.358856</td>\n",
              "      <td>6.467226</td>\n",
              "      <td>6283</td>\n",
              "    </tr>\n",
              "    <tr>\n",
              "      <th>2018</th>\n",
              "      <td>Sweden</td>\n",
              "      <td>81.343470</td>\n",
              "      <td>31.701300</td>\n",
              "      <td>7.48010</td>\n",
              "      <td>23.85520</td>\n",
              "      <td>9.028500</td>\n",
              "      <td>3.321061</td>\n",
              "      <td>18.077984</td>\n",
              "      <td>4.872938</td>\n",
              "      <td>1782</td>\n",
              "    </tr>\n",
              "    <tr>\n",
              "      <th>2018</th>\n",
              "      <td>Switzerland</td>\n",
              "      <td>60.123100</td>\n",
              "      <td>60.173306</td>\n",
              "      <td>7.87324</td>\n",
              "      <td>20.85520</td>\n",
              "      <td>8.960700</td>\n",
              "      <td>3.465700</td>\n",
              "      <td>17.346400</td>\n",
              "      <td>11.184357</td>\n",
              "      <td>2854</td>\n",
              "    </tr>\n",
              "    <tr>\n",
              "      <th>2018</th>\n",
              "      <td>United Kingdom</td>\n",
              "      <td>63.340100</td>\n",
              "      <td>22.016200</td>\n",
              "      <td>15.56700</td>\n",
              "      <td>28.20490</td>\n",
              "      <td>10.380200</td>\n",
              "      <td>1.730882</td>\n",
              "      <td>14.285878</td>\n",
              "      <td>4.254834</td>\n",
              "      <td>9911</td>\n",
              "    </tr>\n",
              "    <tr>\n",
              "      <th>2018</th>\n",
              "      <td>Brazil</td>\n",
              "      <td>48.456700</td>\n",
              "      <td>18.465348</td>\n",
              "      <td>6.13440</td>\n",
              "      <td>12.76840</td>\n",
              "      <td>12.086000</td>\n",
              "      <td>2.947206</td>\n",
              "      <td>5.235000</td>\n",
              "      <td>3.937702</td>\n",
              "      <td>1659</td>\n",
              "    </tr>\n",
              "  </tbody>\n",
              "</table>\n",
              "</div>"
            ],
            "text/plain": [
              "             Country  ...  Invest in TICS and I+D $US\n",
              "Time                  ...                            \n",
              "2018         Belgium  ...                        7768\n",
              "2018        Colombia  ...                        1469\n",
              "2018  Czech Republic  ...                         736\n",
              "2018         Denmark  ...                        1112\n",
              "2018         Estonia  ...                          95\n",
              "2018         Finland  ...                         953\n",
              "2018          France  ...                       11510\n",
              "2018         Germany  ...                       10706\n",
              "2018          Greece  ...                         604\n",
              "2018         Hungary  ...                         796\n",
              "2018         Iceland  ...                          70\n",
              "2018         Ireland  ...                         745\n",
              "2018           Italy  ...                        9893\n",
              "2018           Korea  ...                        5130\n",
              "2018       Lithuania  ...                          95\n",
              "2018     Netherlands  ...                        1143\n",
              "2018          Norway  ...                        1356\n",
              "2018          Poland  ...                          95\n",
              "2018        Portugal  ...                         712\n",
              "2018          Turkey  ...                        1947\n",
              "2018   United States  ...                       94997\n",
              "2018           Spain  ...                        6283\n",
              "2018          Sweden  ...                        1782\n",
              "2018     Switzerland  ...                        2854\n",
              "2018  United Kingdom  ...                        9911\n",
              "2018          Brazil  ...                        1659\n",
              "\n",
              "[26 rows x 10 columns]"
            ]
          },
          "metadata": {
            "tags": []
          },
          "execution_count": 223
        }
      ]
    },
    {
      "cell_type": "code",
      "metadata": {
        "id": "WBRrN8qGsm4K"
      },
      "source": [
        "X=DF_2018[[\"Employers using computer\",\"Bussiness through computer networks\",\"Bussineses demand Big data analyst\",\"Businesses training employers in ICT\" , \"Bussines offered ICT specialist\" , \"GERD as a percentage of GDP\"]]\n",
        "y=DF_2018[['Unemployment rate']]"
      ],
      "execution_count": null,
      "outputs": []
    },
    {
      "cell_type": "code",
      "metadata": {
        "colab": {
          "base_uri": "https://localhost:8080/"
        },
        "id": "2WagJqv0sstZ",
        "outputId": "986029bd-07d1-4310-dfdf-1ff3a46aac47"
      },
      "source": [
        "X_train, X_eval, y_train, y_eval = train_test_split(X, y, test_size = 0.1, shuffle=False)\n",
        "linear_model = LinearRegression()\n",
        "linear_model.fit(X_train,y_train)\n",
        "start_time = time.process_time()\n",
        "y_pred_in = linear_model.predict(X_train)\n",
        "y_pred_out = linear_model.predict(X_eval)\n",
        "print(\"Modelo Lineal 2018\")\n",
        "print(\"Coeficientes\", linear_model.coef_)\n",
        "print(\"Intercepto\",linear_model.intercept_)\n",
        "print(\"El tiempo de ejecución es\", time.process_time() - start_time, \"segundos\")\n",
        "print(\"El error cuadratico dentro de muestra\",mean_squared_error(y_train, y_pred_in))\n",
        "print(\"El error cuadratico fuera de muestra\",mean_squared_error(y_eval, y_pred_out))"
      ],
      "execution_count": null,
      "outputs": [
        {
          "output_type": "stream",
          "text": [
            "Modelo Lineal 2018\n",
            "Coeficientes [[ 0.05425212 -0.23941967  0.03398032  0.11648529 -0.34317418 -1.54922762]]\n",
            "Intercepto [11.56970643]\n",
            "El tiempo de ejecución es 0.003997001000001887 segundos\n",
            "El error cuadratico dentro de muestra 12.847720633592605\n",
            "El error cuadratico fuera de muestra 94.39071131518995\n"
          ],
          "name": "stdout"
        }
      ]
    },
    {
      "cell_type": "code",
      "metadata": {
        "colab": {
          "base_uri": "https://localhost:8080/"
        },
        "id": "gpWLQSBJswod",
        "outputId": "408c65e9-dc4d-49c1-cad7-7c2f10d451ea"
      },
      "source": [
        "from sklearn.linear_model import Lasso\n",
        "lasso_model = Lasso(alpha=0.5)\n",
        "start_time =time.process_time()\n",
        "lasso_model.fit(X_train,y_train)\n",
        "\n",
        "y_pred_in= lasso_model.predict(X_train)\n",
        "y_pred_out=lasso_model.predict(X_eval)\n",
        "\n",
        "print(\"Modelo Lasso 2018\")\n",
        "print(\"Los coeficientes son\", lasso_model.coef_)\n",
        "print(\"El intercepto es\", lasso_model.intercept_)\n",
        "print(\"El tiempo de ejecucción es \", time.process_time()-start_time, \"en segundos\")\n",
        "print(\"El error cuadratico dentro de muestra es\", mean_squared_error(y_train,y_pred_in))\n",
        "print(\"El error cuadratico fuera de muesta es \", mean_squared_error(y_eval, y_pred_out))"
      ],
      "execution_count": null,
      "outputs": [
        {
          "output_type": "stream",
          "text": [
            "Modelo Lasso 2018\n",
            "Los coeficientes son [ 4.30126485e-05 -1.39967479e-01  1.53563036e-03  3.19885672e-02\n",
            " -1.94946927e-01 -4.31525840e-01]\n",
            "El intercepto es [11.55110214]\n",
            "El tiempo de ejecucción es  0.0072024759999962384 en segundos\n",
            "El error cuadratico dentro de muestra es 13.615962551800939\n",
            "El error cuadratico fuera de muesta es  40.54994515228194\n"
          ],
          "name": "stdout"
        }
      ]
    },
    {
      "cell_type": "code",
      "metadata": {
        "colab": {
          "base_uri": "https://localhost:8080/"
        },
        "id": "BlpZuR8fs3Ws",
        "outputId": "137be185-a43c-4ff2-fd59-9cc4b1cc507f"
      },
      "source": [
        "from sklearn.linear_model import Ridge\n",
        "\n",
        "ridge_model=Ridge(alpha=0.5)\n",
        "start_time= time.process_time()\n",
        "ridge_model.fit(X_train, y_train)\n",
        "\n",
        "y_pred_in =ridge_model.predict(X_train)\n",
        "y_pred_out =ridge_model.predict(X_eval)\n",
        "\n",
        "\n",
        "print(\"Modelo Ridge 2018\")\n",
        "print(\"Los coeficientes son\", ridge_model.coef_)\n",
        "print(\"El intercepto es\", ridge_model.intercept_)\n",
        "print(\"El tiempo de ejecucción es \", time.process_time()-start_time, \"en segundos\")\n",
        "print(\"El error cuadratico dentro de muestra es\", mean_squared_error(y_train,y_pred_in))\n",
        "print(\"El error cuadratico fuera de muesta es \", mean_squared_error(y_eval, y_pred_out))"
      ],
      "execution_count": null,
      "outputs": [
        {
          "output_type": "stream",
          "text": [
            "Modelo Ridge 2018\n",
            "Los coeficientes son [[ 0.05136102 -0.23466595  0.03577108  0.11297942 -0.34215752 -1.48369393]]\n",
            "El intercepto es [11.57473805]\n",
            "El tiempo de ejecucción es  0.0061071740000002706 en segundos\n",
            "El error cuadratico dentro de muestra es 12.849876630325316\n",
            "El error cuadratico fuera de muesta es  91.04512917536177\n"
          ],
          "name": "stdout"
        }
      ]
    },
    {
      "cell_type": "code",
      "metadata": {
        "colab": {
          "base_uri": "https://localhost:8080/"
        },
        "id": "-9R66Vous8Aw",
        "outputId": "9343f23d-b9b3-4188-e4a5-a7151cd4d3c8"
      },
      "source": [
        "from sklearn.linear_model import ElasticNet\n",
        "\n",
        "elasticnet_model=ElasticNet(alpha=0.5,l1_ratio=0.5)\n",
        "start_time= time.process_time()\n",
        "elasticnet_model.fit(X_train, y_train)\n",
        "\n",
        "y_pred_in =elasticnet_model.predict(X_train)\n",
        "y_pred_out =elasticnet_model.predict(X_eval)\n",
        "\n",
        "print(\"Modelo ElasticNet 2018\")\n",
        "print(\"Los coeficientes son\", elasticnet_model.coef_)\n",
        "print(\"El intercepto es\", elasticnet_model.intercept_)\n",
        "print(\"El tiempo de ejecucción es \", time.process_time()-start_time, \"en segundos\")\n",
        "print(\"El error cuadratico dentro de muestra es\", mean_squared_error(y_train,y_pred_in))\n",
        "print(\"El error cuadratico fuera de muesta es \", mean_squared_error(y_eval, y_pred_out))"
      ],
      "execution_count": null,
      "outputs": [
        {
          "output_type": "stream",
          "text": [
            "Modelo ElasticNet 2018\n",
            "Los coeficientes son [ 0.01215066 -0.16519013  0.02531144  0.05548198 -0.25713375 -0.65593306]\n",
            "El intercepto es [11.57201985]\n",
            "El tiempo de ejecucción es  0.006327600000005873 en segundos\n",
            "El error cuadratico dentro de muestra es 13.295209089359025\n",
            "El error cuadratico fuera de muesta es  50.934638506242266\n"
          ],
          "name": "stdout"
        }
      ]
    },
    {
      "cell_type": "markdown",
      "metadata": {
        "id": "CeriTiL1tPeQ"
      },
      "source": [
        "### ***2019***"
      ]
    },
    {
      "cell_type": "code",
      "metadata": {
        "colab": {
          "base_uri": "https://localhost:8080/"
        },
        "id": "TrmJ9ImMtTQP",
        "outputId": "518ca127-8080-492a-c8ca-3f9c316d31df"
      },
      "source": [
        "DF_2019=df_TIME.loc[2019]\n",
        "DF_2019"
      ],
      "execution_count": null,
      "outputs": [
        {
          "output_type": "execute_result",
          "data": {
            "text/html": [
              "<div>\n",
              "<style scoped>\n",
              "    .dataframe tbody tr th:only-of-type {\n",
              "        vertical-align: middle;\n",
              "    }\n",
              "\n",
              "    .dataframe tbody tr th {\n",
              "        vertical-align: top;\n",
              "    }\n",
              "\n",
              "    .dataframe thead th {\n",
              "        text-align: right;\n",
              "    }\n",
              "</style>\n",
              "<table border=\"1\" class=\"dataframe\">\n",
              "  <thead>\n",
              "    <tr style=\"text-align: right;\">\n",
              "      <th></th>\n",
              "      <th>Country</th>\n",
              "      <th>Employers using computer</th>\n",
              "      <th>Bussiness through computer networks</th>\n",
              "      <th>Bussineses demand Big data analyst</th>\n",
              "      <th>Businesses training employers in ICT</th>\n",
              "      <th>Bussines offered ICT specialist</th>\n",
              "      <th>GERD as a percentage of GDP</th>\n",
              "      <th>Total R&amp;D personnel per thousand total employment</th>\n",
              "      <th>Unemployment rate</th>\n",
              "      <th>Invest in TICS and I+D $US</th>\n",
              "    </tr>\n",
              "    <tr>\n",
              "      <th>Time</th>\n",
              "      <th></th>\n",
              "      <th></th>\n",
              "      <th></th>\n",
              "      <th></th>\n",
              "      <th></th>\n",
              "      <th></th>\n",
              "      <th></th>\n",
              "      <th></th>\n",
              "      <th></th>\n",
              "      <th></th>\n",
              "    </tr>\n",
              "  </thead>\n",
              "  <tbody>\n",
              "    <tr>\n",
              "      <th>2019</th>\n",
              "      <td>Belgium</td>\n",
              "      <td>64.992900</td>\n",
              "      <td>30.549500</td>\n",
              "      <td>21.947600</td>\n",
              "      <td>36.37300</td>\n",
              "      <td>14.46340</td>\n",
              "      <td>2.889670</td>\n",
              "      <td>19.653375</td>\n",
              "      <td>5.409494</td>\n",
              "      <td>9856</td>\n",
              "    </tr>\n",
              "    <tr>\n",
              "      <th>2019</th>\n",
              "      <td>Colombia</td>\n",
              "      <td>63.570000</td>\n",
              "      <td>27.780000</td>\n",
              "      <td>7.017000</td>\n",
              "      <td>11.70000</td>\n",
              "      <td>3.97630</td>\n",
              "      <td>0.280656</td>\n",
              "      <td>2.016755</td>\n",
              "      <td>10.831563</td>\n",
              "      <td>1507</td>\n",
              "    </tr>\n",
              "    <tr>\n",
              "      <th>2019</th>\n",
              "      <td>Czech Republic</td>\n",
              "      <td>53.655800</td>\n",
              "      <td>29.822600</td>\n",
              "      <td>9.123500</td>\n",
              "      <td>24.53150</td>\n",
              "      <td>8.15050</td>\n",
              "      <td>1.941657</td>\n",
              "      <td>14.589510</td>\n",
              "      <td>2.060711</td>\n",
              "      <td>798</td>\n",
              "    </tr>\n",
              "    <tr>\n",
              "      <th>2019</th>\n",
              "      <td>Denmark</td>\n",
              "      <td>100.000000</td>\n",
              "      <td>33.553300</td>\n",
              "      <td>23.706000</td>\n",
              "      <td>30.64340</td>\n",
              "      <td>13.78250</td>\n",
              "      <td>2.956186</td>\n",
              "      <td>20.210661</td>\n",
              "      <td>4.885563</td>\n",
              "      <td>1238</td>\n",
              "    </tr>\n",
              "    <tr>\n",
              "      <th>2019</th>\n",
              "      <td>Estonia</td>\n",
              "      <td>50.264400</td>\n",
              "      <td>21.099600</td>\n",
              "      <td>7.969600</td>\n",
              "      <td>17.11170</td>\n",
              "      <td>7.55790</td>\n",
              "      <td>1.611247</td>\n",
              "      <td>9.922334</td>\n",
              "      <td>4.562025</td>\n",
              "      <td>102</td>\n",
              "    </tr>\n",
              "    <tr>\n",
              "      <th>2019</th>\n",
              "      <td>Finland</td>\n",
              "      <td>77.551000</td>\n",
              "      <td>28.525100</td>\n",
              "      <td>19.196600</td>\n",
              "      <td>36.56360</td>\n",
              "      <td>12.23250</td>\n",
              "      <td>2.794919</td>\n",
              "      <td>19.277291</td>\n",
              "      <td>6.786861</td>\n",
              "      <td>987</td>\n",
              "    </tr>\n",
              "    <tr>\n",
              "      <th>2019</th>\n",
              "      <td>France</td>\n",
              "      <td>60.450000</td>\n",
              "      <td>18.850800</td>\n",
              "      <td>19.503700</td>\n",
              "      <td>21.34900</td>\n",
              "      <td>9.67230</td>\n",
              "      <td>2.191456</td>\n",
              "      <td>16.311332</td>\n",
              "      <td>8.530485</td>\n",
              "      <td>12347</td>\n",
              "    </tr>\n",
              "    <tr>\n",
              "      <th>2019</th>\n",
              "      <td>Germany</td>\n",
              "      <td>78.570000</td>\n",
              "      <td>20.108400</td>\n",
              "      <td>16.572400</td>\n",
              "      <td>31.60940</td>\n",
              "      <td>10.05080</td>\n",
              "      <td>3.176075</td>\n",
              "      <td>16.223667</td>\n",
              "      <td>3.210756</td>\n",
              "      <td>12568</td>\n",
              "    </tr>\n",
              "    <tr>\n",
              "      <th>2019</th>\n",
              "      <td>Greece</td>\n",
              "      <td>41.935000</td>\n",
              "      <td>11.072500</td>\n",
              "      <td>12.229400</td>\n",
              "      <td>15.25850</td>\n",
              "      <td>8.50440</td>\n",
              "      <td>1.273941</td>\n",
              "      <td>12.010659</td>\n",
              "      <td>17.469046</td>\n",
              "      <td>834</td>\n",
              "    </tr>\n",
              "    <tr>\n",
              "      <th>2019</th>\n",
              "      <td>Hungary</td>\n",
              "      <td>48.480800</td>\n",
              "      <td>15.034100</td>\n",
              "      <td>6.377600</td>\n",
              "      <td>16.42640</td>\n",
              "      <td>10.23350</td>\n",
              "      <td>1.477881</td>\n",
              "      <td>12.050433</td>\n",
              "      <td>3.454182</td>\n",
              "      <td>802</td>\n",
              "    </tr>\n",
              "    <tr>\n",
              "      <th>2019</th>\n",
              "      <td>Iceland</td>\n",
              "      <td>100.000000</td>\n",
              "      <td>34.387230</td>\n",
              "      <td>22.441300</td>\n",
              "      <td>17.71110</td>\n",
              "      <td>9.87665</td>\n",
              "      <td>2.345119</td>\n",
              "      <td>16.479238</td>\n",
              "      <td>4.043546</td>\n",
              "      <td>73</td>\n",
              "    </tr>\n",
              "    <tr>\n",
              "      <th>2019</th>\n",
              "      <td>Ireland</td>\n",
              "      <td>58.344600</td>\n",
              "      <td>39.242900</td>\n",
              "      <td>7.355400</td>\n",
              "      <td>30.67760</td>\n",
              "      <td>10.62980</td>\n",
              "      <td>1.228237</td>\n",
              "      <td>16.504336</td>\n",
              "      <td>4.537798</td>\n",
              "      <td>765</td>\n",
              "    </tr>\n",
              "    <tr>\n",
              "      <th>2019</th>\n",
              "      <td>Italy</td>\n",
              "      <td>55.847200</td>\n",
              "      <td>14.033700</td>\n",
              "      <td>7.376100</td>\n",
              "      <td>19.43370</td>\n",
              "      <td>6.44040</td>\n",
              "      <td>1.447666</td>\n",
              "      <td>13.950128</td>\n",
              "      <td>10.163255</td>\n",
              "      <td>9954</td>\n",
              "    </tr>\n",
              "    <tr>\n",
              "      <th>2019</th>\n",
              "      <td>Korea</td>\n",
              "      <td>65.789765</td>\n",
              "      <td>19.457383</td>\n",
              "      <td>5.236432</td>\n",
              "      <td>14.14200</td>\n",
              "      <td>5.70250</td>\n",
              "      <td>4.640189</td>\n",
              "      <td>19.381436</td>\n",
              "      <td>3.828882</td>\n",
              "      <td>6324</td>\n",
              "    </tr>\n",
              "    <tr>\n",
              "      <th>2019</th>\n",
              "      <td>Lithuania</td>\n",
              "      <td>51.021900</td>\n",
              "      <td>25.687700</td>\n",
              "      <td>8.680000</td>\n",
              "      <td>10.87950</td>\n",
              "      <td>9.08180</td>\n",
              "      <td>0.991586</td>\n",
              "      <td>9.330482</td>\n",
              "      <td>6.474850</td>\n",
              "      <td>98</td>\n",
              "    </tr>\n",
              "    <tr>\n",
              "      <th>2019</th>\n",
              "      <td>Netherlands</td>\n",
              "      <td>72.542700</td>\n",
              "      <td>27.341700</td>\n",
              "      <td>25.983000</td>\n",
              "      <td>28.34932</td>\n",
              "      <td>11.78220</td>\n",
              "      <td>2.162797</td>\n",
              "      <td>12.668986</td>\n",
              "      <td>3.374726</td>\n",
              "      <td>1180</td>\n",
              "    </tr>\n",
              "    <tr>\n",
              "      <th>2019</th>\n",
              "      <td>Norway</td>\n",
              "      <td>76.170700</td>\n",
              "      <td>27.516900</td>\n",
              "      <td>16.787900</td>\n",
              "      <td>44.37210</td>\n",
              "      <td>7.18240</td>\n",
              "      <td>2.153041</td>\n",
              "      <td>16.713892</td>\n",
              "      <td>3.784827</td>\n",
              "      <td>1456</td>\n",
              "    </tr>\n",
              "    <tr>\n",
              "      <th>2019</th>\n",
              "      <td>Poland</td>\n",
              "      <td>47.700900</td>\n",
              "      <td>15.740700</td>\n",
              "      <td>7.895800</td>\n",
              "      <td>13.37430</td>\n",
              "      <td>4.50180</td>\n",
              "      <td>1.323788</td>\n",
              "      <td>17.164298</td>\n",
              "      <td>3.336179</td>\n",
              "      <td>230</td>\n",
              "    </tr>\n",
              "    <tr>\n",
              "      <th>2019</th>\n",
              "      <td>Portugal</td>\n",
              "      <td>44.626400</td>\n",
              "      <td>16.941000</td>\n",
              "      <td>10.179800</td>\n",
              "      <td>27.93080</td>\n",
              "      <td>6.64210</td>\n",
              "      <td>1.402649</td>\n",
              "      <td>10.022795</td>\n",
              "      <td>5.836779</td>\n",
              "      <td>756</td>\n",
              "    </tr>\n",
              "    <tr>\n",
              "      <th>2019</th>\n",
              "      <td>Turkey</td>\n",
              "      <td>51.798400</td>\n",
              "      <td>15.183100</td>\n",
              "      <td>4.564800</td>\n",
              "      <td>18.06940</td>\n",
              "      <td>5.82050</td>\n",
              "      <td>0.827346</td>\n",
              "      <td>12.408551</td>\n",
              "      <td>4.502213</td>\n",
              "      <td>2165</td>\n",
              "    </tr>\n",
              "    <tr>\n",
              "      <th>2019</th>\n",
              "      <td>United States</td>\n",
              "      <td>86.549800</td>\n",
              "      <td>24.934500</td>\n",
              "      <td>5.148100</td>\n",
              "      <td>28.43910</td>\n",
              "      <td>7.73320</td>\n",
              "      <td>2.044233</td>\n",
              "      <td>8.668416</td>\n",
              "      <td>14.188762</td>\n",
              "      <td>95397</td>\n",
              "    </tr>\n",
              "    <tr>\n",
              "      <th>2019</th>\n",
              "      <td>Spain</td>\n",
              "      <td>68.935300</td>\n",
              "      <td>20.818700</td>\n",
              "      <td>6.494000</td>\n",
              "      <td>21.73160</td>\n",
              "      <td>11.91470</td>\n",
              "      <td>1.250992</td>\n",
              "      <td>16.226676</td>\n",
              "      <td>6.934967</td>\n",
              "      <td>6875</td>\n",
              "    </tr>\n",
              "    <tr>\n",
              "      <th>2019</th>\n",
              "      <td>Sweden</td>\n",
              "      <td>83.897320</td>\n",
              "      <td>32.993200</td>\n",
              "      <td>13.026500</td>\n",
              "      <td>32.45530</td>\n",
              "      <td>9.78610</td>\n",
              "      <td>3.404136</td>\n",
              "      <td>17.811817</td>\n",
              "      <td>4.522355</td>\n",
              "      <td>2234</td>\n",
              "    </tr>\n",
              "    <tr>\n",
              "      <th>2019</th>\n",
              "      <td>Switzerland</td>\n",
              "      <td>66.453000</td>\n",
              "      <td>64.223400</td>\n",
              "      <td>8.757500</td>\n",
              "      <td>32.45530</td>\n",
              "      <td>7.73320</td>\n",
              "      <td>4.178950</td>\n",
              "      <td>17.653400</td>\n",
              "      <td>14.025006</td>\n",
              "      <td>3134</td>\n",
              "    </tr>\n",
              "    <tr>\n",
              "      <th>2019</th>\n",
              "      <td>United Kingdom</td>\n",
              "      <td>64.396500</td>\n",
              "      <td>25.953300</td>\n",
              "      <td>14.356000</td>\n",
              "      <td>29.40340</td>\n",
              "      <td>10.13000</td>\n",
              "      <td>1.755940</td>\n",
              "      <td>14.822200</td>\n",
              "      <td>3.963302</td>\n",
              "      <td>12354</td>\n",
              "    </tr>\n",
              "    <tr>\n",
              "      <th>2019</th>\n",
              "      <td>Brazil</td>\n",
              "      <td>49.000000</td>\n",
              "      <td>21.200000</td>\n",
              "      <td>11.839800</td>\n",
              "      <td>23.57570</td>\n",
              "      <td>13.53340</td>\n",
              "      <td>3.067476</td>\n",
              "      <td>7.345000</td>\n",
              "      <td>3.716811</td>\n",
              "      <td>1765</td>\n",
              "    </tr>\n",
              "  </tbody>\n",
              "</table>\n",
              "</div>"
            ],
            "text/plain": [
              "             Country  ...  Invest in TICS and I+D $US\n",
              "Time                  ...                            \n",
              "2019         Belgium  ...                        9856\n",
              "2019        Colombia  ...                        1507\n",
              "2019  Czech Republic  ...                         798\n",
              "2019         Denmark  ...                        1238\n",
              "2019         Estonia  ...                         102\n",
              "2019         Finland  ...                         987\n",
              "2019          France  ...                       12347\n",
              "2019         Germany  ...                       12568\n",
              "2019          Greece  ...                         834\n",
              "2019         Hungary  ...                         802\n",
              "2019         Iceland  ...                          73\n",
              "2019         Ireland  ...                         765\n",
              "2019           Italy  ...                        9954\n",
              "2019           Korea  ...                        6324\n",
              "2019       Lithuania  ...                          98\n",
              "2019     Netherlands  ...                        1180\n",
              "2019          Norway  ...                        1456\n",
              "2019          Poland  ...                         230\n",
              "2019        Portugal  ...                         756\n",
              "2019          Turkey  ...                        2165\n",
              "2019   United States  ...                       95397\n",
              "2019           Spain  ...                        6875\n",
              "2019          Sweden  ...                        2234\n",
              "2019     Switzerland  ...                        3134\n",
              "2019  United Kingdom  ...                       12354\n",
              "2019          Brazil  ...                        1765\n",
              "\n",
              "[26 rows x 10 columns]"
            ]
          },
          "metadata": {
            "tags": []
          },
          "execution_count": 229
        }
      ]
    },
    {
      "cell_type": "code",
      "metadata": {
        "id": "0ZqXgUOntYFv"
      },
      "source": [
        "X=DF_2019[[\"Employers using computer\",\"Bussiness through computer networks\",\"Bussineses demand Big data analyst\",\"Businesses training employers in ICT\" , \"Bussines offered ICT specialist\" , \"GERD as a percentage of GDP\"]]\n",
        "y=DF_2019[['Unemployment rate']]"
      ],
      "execution_count": null,
      "outputs": []
    },
    {
      "cell_type": "code",
      "metadata": {
        "colab": {
          "base_uri": "https://localhost:8080/"
        },
        "id": "nFeaz50xtbm0",
        "outputId": "2c14d6a3-b554-4efc-98a1-2172db589f9f"
      },
      "source": [
        "X_train, X_eval, y_train, y_eval = train_test_split(X, y, test_size = 0.1, shuffle=False)\n",
        "linear_model = LinearRegression()\n",
        "linear_model.fit(X_train,y_train)\n",
        "start_time = time.process_time()\n",
        "y_pred_in = linear_model.predict(X_train)\n",
        "y_pred_out = linear_model.predict(X_eval)\n",
        "print(\"Modelo Lineal 2019\")\n",
        "print(\"Coeficientes\", linear_model.coef_)\n",
        "print(\"Intercepto\",linear_model.intercept_)\n",
        "print(\"El tiempo de ejecución es\", time.process_time() - start_time, \"segundos\")\n",
        "print(\"El error cuadratico dentro de muestra\",mean_squared_error(y_train, y_pred_in))\n",
        "print(\"El error cuadratico fuera de muestra\",mean_squared_error(y_eval, y_pred_out))"
      ],
      "execution_count": null,
      "outputs": [
        {
          "output_type": "stream",
          "text": [
            "Modelo Lineal 2019\n",
            "Coeficientes [[ 0.09273353 -0.23139585 -0.05968769 -0.00613976  0.13032585 -1.54888224]]\n",
            "Intercepto [8.49248443]\n",
            "El tiempo de ejecución es 0.006647753000002865 segundos\n",
            "El error cuadratico dentro de muestra 10.469627000221257\n",
            "El error cuadratico fuera de muestra 140.48729642303593\n"
          ],
          "name": "stdout"
        }
      ]
    },
    {
      "cell_type": "code",
      "metadata": {
        "colab": {
          "base_uri": "https://localhost:8080/"
        },
        "id": "Mg3qOZ0atire",
        "outputId": "9222aa32-a4a3-4cb0-d854-79c8cadaa140"
      },
      "source": [
        "from sklearn.linear_model import Lasso\n",
        "lasso_model = Lasso(alpha=0.5)\n",
        "start_time =time.process_time()\n",
        "lasso_model.fit(X_train,y_train)\n",
        "\n",
        "y_pred_in= lasso_model.predict(X_train)\n",
        "y_pred_out=lasso_model.predict(X_eval)\n",
        "\n",
        "print(\"Modelo Lasso 2019\")\n",
        "print(\"Los coeficientes son\", lasso_model.coef_)\n",
        "print(\"El intercepto es\", lasso_model.intercept_)\n",
        "print(\"El tiempo de ejecucción es \", time.process_time()-start_time, \"en segundos\")\n",
        "print(\"El error cuadratico dentro de muestra es\", mean_squared_error(y_train,y_pred_in))\n",
        "print(\"El error cuadratico fuera de muesta es \", mean_squared_error(y_eval, y_pred_out))"
      ],
      "execution_count": null,
      "outputs": [
        {
          "output_type": "stream",
          "text": [
            "Modelo Lasso 2019\n",
            "Los coeficientes son [ 0.05367898 -0.17983862 -0.02982378 -0.01695403  0.         -0.66715239]\n",
            "El intercepto es [9.1073628]\n",
            "El tiempo de ejecucción es  0.004966228999997213 en segundos\n",
            "El error cuadratico dentro de muestra es 10.994695067475858\n",
            "El error cuadratico fuera de muesta es  92.5321153492768\n"
          ],
          "name": "stdout"
        }
      ]
    },
    {
      "cell_type": "code",
      "metadata": {
        "colab": {
          "base_uri": "https://localhost:8080/"
        },
        "id": "8Hip1N7ltrMq",
        "outputId": "e0f44bd6-d143-46af-ffba-241425f94bf8"
      },
      "source": [
        "from sklearn.linear_model import Ridge\n",
        "\n",
        "ridge_model=Ridge(alpha=0.5)\n",
        "start_time= time.process_time()\n",
        "ridge_model.fit(X_train, y_train)\n",
        "\n",
        "y_pred_in =ridge_model.predict(X_train)\n",
        "y_pred_out =ridge_model.predict(X_eval)\n",
        "\n",
        "\n",
        "print(\"Modelo Ridge 2019 \")\n",
        "print(\"Los coeficientes son\", ridge_model.coef_)\n",
        "print(\"El intercepto es\", ridge_model.intercept_)\n",
        "print(\"El tiempo de ejecucción es \", time.process_time()-start_time, \"en segundos\")\n",
        "print(\"El error cuadratico dentro de muestra es\", mean_squared_error(y_train,y_pred_in))\n",
        "print(\"El error cuadratico fuera de muesta es \", mean_squared_error(y_eval, y_pred_out))"
      ],
      "execution_count": null,
      "outputs": [
        {
          "output_type": "stream",
          "text": [
            "Modelo Ridge 2019 \n",
            "Los coeficientes son [[ 0.09096118 -0.22941419 -0.05999403 -0.00736246  0.12783765 -1.4935082 ]]\n",
            "El intercepto es [8.50577173]\n",
            "El tiempo de ejecucción es  0.011963606000001903 en segundos\n",
            "El error cuadratico dentro de muestra es 10.471444568285039\n",
            "El error cuadratico fuera de muesta es  137.88349957301628\n"
          ],
          "name": "stdout"
        }
      ]
    },
    {
      "cell_type": "code",
      "metadata": {
        "colab": {
          "base_uri": "https://localhost:8080/"
        },
        "id": "rVNOlJW0tv9t",
        "outputId": "d362af2b-42ad-41c1-baa6-eff388de8c81"
      },
      "source": [
        "from sklearn.linear_model import ElasticNet\n",
        "\n",
        "elasticnet_model=ElasticNet(alpha=0.5,l1_ratio=0.5)\n",
        "start_time= time.process_time()\n",
        "elasticnet_model.fit(X_train, y_train)\n",
        "\n",
        "y_pred_in =elasticnet_model.predict(X_train)\n",
        "y_pred_out =elasticnet_model.predict(X_eval)\n",
        "\n",
        "print(\"Modelo ElasticNet 2019 \")\n",
        "print(\"Los coeficientes son\", elasticnet_model.coef_)\n",
        "print(\"El intercepto es\", elasticnet_model.intercept_)\n",
        "print(\"El tiempo de ejecucción es \", time.process_time()-start_time, \"en segundos\")\n",
        "print(\"El error cuadratico dentro de muestra es\", mean_squared_error(y_train,y_pred_in))\n",
        "print(\"El error cuadratico fuera de muesta es \", mean_squared_error(y_eval, y_pred_out))"
      ],
      "execution_count": null,
      "outputs": [
        {
          "output_type": "stream",
          "text": [
            "Modelo ElasticNet 2019 \n",
            "Los coeficientes son [ 0.0619777  -0.19056785 -0.03960198 -0.0171555   0.01667238 -0.77186769]\n",
            "El intercepto es [9.00741645]\n",
            "El tiempo de ejecucción es  0.006632189000001176 en segundos\n",
            "El error cuadratico dentro de muestra es 10.865459417051655\n",
            "El error cuadratico fuera de muesta es  99.56128194691746\n"
          ],
          "name": "stdout"
        }
      ]
    },
    {
      "cell_type": "markdown",
      "metadata": {
        "id": "0HMx7UhkkhIX"
      },
      "source": [
        "### **TODA LA BASE**"
      ]
    },
    {
      "cell_type": "code",
      "metadata": {
        "id": "fqE6UIQqkgOv"
      },
      "source": [
        "import time\n",
        "from sklearn import linear_model\n",
        "from sklearn.linear_model import LinearRegression\n",
        "from sklearn.metrics import mean_squared_error, r2_score\n",
        "import matplotlib.pyplot as plt"
      ],
      "execution_count": null,
      "outputs": []
    },
    {
      "cell_type": "code",
      "metadata": {
        "id": "APOEnG-xuQYD"
      },
      "source": [
        "X=Economia_digital[[\"Employers using computer\",\"Bussiness through computer networks\",\"Bussineses demand Big data analyst\",\"Businesses training employers in ICT\" , \"Bussines offered ICT specialist\" , \"GERD as a percentage of GDP\"]]\n",
        "y=Economia_digital[['Unemployment rate']]"
      ],
      "execution_count": null,
      "outputs": []
    },
    {
      "cell_type": "code",
      "metadata": {
        "id": "_7pcijOhkpSq"
      },
      "source": [
        "from sklearn.model_selection import train_test_split\n",
        "X_train, X_eval, y_train, y_eval = train_test_split(X, y, test_size = 0.1, shuffle=False)"
      ],
      "execution_count": null,
      "outputs": []
    },
    {
      "cell_type": "code",
      "metadata": {
        "id": "hkuKL4YSkuFS"
      },
      "source": [
        "linear_model = LinearRegression()\n",
        "linear_model.fit(X_train,y_train)\n",
        "start_time = time.process_time()\n",
        "y_pred_in = linear_model.predict(X_train)\n",
        "y_pred_out = linear_model.predict(X_eval)"
      ],
      "execution_count": null,
      "outputs": []
    },
    {
      "cell_type": "code",
      "metadata": {
        "id": "uh0G-D_AkyLt",
        "colab": {
          "base_uri": "https://localhost:8080/"
        },
        "outputId": "a526c48c-cb3e-4bc0-b007-2174a3ba58b5"
      },
      "source": [
        "print(\"Modelo Lineal\")\n",
        "print(\"Coeficientes\", linear_model.coef_)\n",
        "print(\"Intercepto\",linear_model.intercept_)\n",
        "print(\"El tiempo de ejecución es\", time.process_time() - start_time, \"segundos\")\n",
        "print(\"El error cuadratico dentro de muestra\",mean_squared_error(y_train, y_pred_in))\n",
        "print(\"El error cuadratico fuera de muestra\",mean_squared_error(y_eval, y_pred_out))"
      ],
      "execution_count": null,
      "outputs": [
        {
          "output_type": "stream",
          "text": [
            "Modelo Lineal\n",
            "Coeficientes [[ 0.01974317 -0.11023609  0.02720743  0.05370038 -0.32024138 -1.34107951]]\n",
            "Intercepto [12.25184049]\n",
            "El tiempo de ejecución es 0.01570136499999819 segundos\n",
            "El error cuadratico dentro de muestra 15.63147002685978\n",
            "El error cuadratico fuera de muestra 37.81815180147529\n"
          ],
          "name": "stdout"
        }
      ]
    },
    {
      "cell_type": "code",
      "metadata": {
        "id": "wH_1r27syJMk",
        "colab": {
          "base_uri": "https://localhost:8080/"
        },
        "outputId": "7a8a5643-2044-4e3e-b2b2-a41e354626d0"
      },
      "source": [
        "X, y.corr()"
      ],
      "execution_count": null,
      "outputs": [
        {
          "output_type": "execute_result",
          "data": {
            "text/plain": [
              "(     Employers using computer  ...  GERD as a percentage of GDP\n",
              " 0                   63.427500  ...                     2.523377\n",
              " 1                   64.324000  ...                     2.667015\n",
              " 2                   64.316800  ...                     2.673260\n",
              " 3                   64.992900  ...                     2.889670\n",
              " 4                   59.141383  ...                     0.295756\n",
              " ..                        ...  ...                          ...\n",
              " 99                  64.396500  ...                     1.755940\n",
              " 100                 43.346600  ...                     2.788210\n",
              " 101                 50.000000  ...                     2.846766\n",
              " 102                 48.456700  ...                     2.947206\n",
              " 103                 49.000000  ...                     3.067476\n",
              " \n",
              " [104 rows x 6 columns],                    Unemployment rate\n",
              " Unemployment rate                1.0)"
            ]
          },
          "metadata": {
            "tags": []
          },
          "execution_count": 240
        }
      ]
    },
    {
      "cell_type": "code",
      "metadata": {
        "id": "w2eSibnMyWlF",
        "colab": {
          "base_uri": "https://localhost:8080/"
        },
        "outputId": "8d9b4612-90da-42b3-e379-abd650a8a46f"
      },
      "source": [
        "X,y.cov()"
      ],
      "execution_count": null,
      "outputs": [
        {
          "output_type": "execute_result",
          "data": {
            "text/plain": [
              "(     Employers using computer  ...  GERD as a percentage of GDP\n",
              " 0                   63.427500  ...                     2.523377\n",
              " 1                   64.324000  ...                     2.667015\n",
              " 2                   64.316800  ...                     2.673260\n",
              " 3                   64.992900  ...                     2.889670\n",
              " 4                   59.141383  ...                     0.295756\n",
              " ..                        ...  ...                          ...\n",
              " 99                  64.396500  ...                     1.755940\n",
              " 100                 43.346600  ...                     2.788210\n",
              " 101                 50.000000  ...                     2.846766\n",
              " 102                 48.456700  ...                     2.947206\n",
              " 103                 49.000000  ...                     3.067476\n",
              " \n",
              " [104 rows x 6 columns],                    Unemployment rate\n",
              " Unemployment rate          17.946951)"
            ]
          },
          "metadata": {
            "tags": []
          },
          "execution_count": 241
        }
      ]
    },
    {
      "cell_type": "code",
      "metadata": {
        "id": "EwTHkTRBk8H4"
      },
      "source": [
        "from sklearn.linear_model import Lasso"
      ],
      "execution_count": null,
      "outputs": []
    },
    {
      "cell_type": "code",
      "metadata": {
        "id": "o9l3y1W-lAoD",
        "colab": {
          "base_uri": "https://localhost:8080/"
        },
        "outputId": "10d4689b-b8f6-4bd0-de8d-f77c020ffa4a"
      },
      "source": [
        "lasso_model = Lasso(alpha=0.5)\n",
        "start_time =time.process_time()\n",
        "lasso_model.fit(X_train,y_train)\n",
        "\n",
        "y_pred_in= lasso_model.predict(X_train)\n",
        "y_pred_out=lasso_model.predict(X_eval)\n",
        "\n",
        "print(\"Modelo Lasso \")\n",
        "print(\"Los coeficientes son\", lasso_model.coef_)\n",
        "print(\"El intercepto es\", lasso_model.intercept_)\n",
        "print(\"El tiempo de ejecucción es \", time.process_time()-start_time, \"en segundos\")\n",
        "print(\"El error cuadratico dentro de muestra es\", mean_squared_error(y_train,y_pred_in))\n",
        "print(\"El error cuadratico fuera de muesta es \", mean_squared_error(y_eval, y_pred_out))"
      ],
      "execution_count": null,
      "outputs": [
        {
          "output_type": "stream",
          "text": [
            "Modelo Lasso \n",
            "Los coeficientes son [-0.00651663 -0.08087566  0.          0.00670052 -0.20915828 -0.45863736]\n",
            "El intercepto es [11.86869945]\n",
            "El tiempo de ejecucción es  0.008005715999999552 en segundos\n",
            "El error cuadratico dentro de muestra es 16.15505666204573\n",
            "El error cuadratico fuera de muesta es  24.64894465946405\n"
          ],
          "name": "stdout"
        }
      ]
    },
    {
      "cell_type": "code",
      "metadata": {
        "colab": {
          "base_uri": "https://localhost:8080/"
        },
        "id": "k5vzRIVh2uSY",
        "outputId": "328a4fc7-8f1a-4384-b3d9-377043b9d7e5"
      },
      "source": [
        "from sklearn.linear_model import Ridge\n",
        "\n",
        "\n",
        "ridge_model=Ridge(alpha=0.5)\n",
        "start_time= time.process_time()\n",
        "ridge_model.fit(X_train, y_train)\n",
        "\n",
        "y_pred_in =ridge_model.predict(X_train)\n",
        "y_pred_out =ridge_model.predict(X_eval)\n",
        "\n",
        "\n",
        "print(\"Modelo Ridge \")\n",
        "print(\"Los coeficientes son\", ridge_model.coef_)\n",
        "print(\"El intercepto es\", ridge_model.intercept_)\n",
        "print(\"El tiempo de ejecucción es \", time.process_time()-start_time, \"en segundos\")\n",
        "print(\"El error cuadratico dentro de muestra es\", mean_squared_error(y_train,y_pred_in))\n",
        "print(\"El error cuadratico fuera de muesta es \", mean_squared_error(y_eval, y_pred_out))"
      ],
      "execution_count": null,
      "outputs": [
        {
          "output_type": "stream",
          "text": [
            "Modelo Ridge \n",
            "Los coeficientes son [[ 0.0193338  -0.10999652  0.02714037  0.05333807 -0.31985412 -1.32860449]]\n",
            "El intercepto es [12.25304209]\n",
            "El tiempo de ejecucción es  0.007781457999996633 en segundos\n",
            "El error cuadratico dentro de muestra es 15.631560100169448\n",
            "El error cuadratico fuera de muesta es  37.624339787633936\n"
          ],
          "name": "stdout"
        }
      ]
    },
    {
      "cell_type": "code",
      "metadata": {
        "id": "QiAEn8xXlSov",
        "colab": {
          "base_uri": "https://localhost:8080/"
        },
        "outputId": "9cf280d5-c9a5-430c-a50e-9edff5ea8626"
      },
      "source": [
        "import time\n",
        "from sklearn.linear_model import ElasticNet\n",
        "\n",
        "elasticnet_model=ElasticNet(alpha=0.5,l1_ratio=0.5)\n",
        "start_time= time.process_time()\n",
        "elasticnet_model.fit(X_train, y_train)\n",
        "\n",
        "y_pred_in =elasticnet_model.predict(X_train)\n",
        "y_pred_out =elasticnet_model.predict(X_eval)\n",
        "\n",
        "print(\"Modelo ElasticNet \")\n",
        "print(\"Los coeficientes son\", elasticnet_model.coef_)\n",
        "print(\"El intercepto es\", elasticnet_model.intercept_)\n",
        "print(\"El tiempo de ejecucción es \", time.process_time()-start_time, \"en segundos\")\n",
        "print(\"El error cuadratico dentro de muestra es\", mean_squared_error(y_train,y_pred_in))\n",
        "print(\"El error cuadratico fuera de muesta es \", mean_squared_error(y_eval, y_pred_out))"
      ],
      "execution_count": null,
      "outputs": [
        {
          "output_type": "stream",
          "text": [
            "Modelo ElasticNet \n",
            "Los coeficientes son [-0.00138894 -0.09048584  0.          0.02186566 -0.24400748 -0.62649594]\n",
            "El intercepto es [12.05148845]\n",
            "El tiempo de ejecucción es  0.007380259999997918 en segundos\n",
            "El error cuadratico dentro de muestra es 15.959569466961046\n",
            "El error cuadratico fuera de muesta es  27.128698028494735\n"
          ],
          "name": "stdout"
        }
      ]
    },
    {
      "cell_type": "markdown",
      "metadata": {
        "id": "3U6mRFsxwDZE"
      },
      "source": [
        "### **Ajuste y predicción - Estimadores**"
      ]
    },
    {
      "cell_type": "code",
      "metadata": {
        "id": "w0XAsAvkxGnF",
        "colab": {
          "base_uri": "https://localhost:8080/"
        },
        "outputId": "d4017211-3d26-4b1a-8732-6f575ff1ad0d"
      },
      "source": [
        "from sklearn.preprocessing import StandardScaler\n",
        "X_1 = Economia_digital[[\"Employers using computer\",\"Bussiness through computer networks\",\"Bussineses demand Big data analyst\",\"Businesses training employers in ICT\" , \"Bussines offered ICT specialist\" , \"GERD as a percentage of GDP\"]]\n",
        "# sacale data acording to computed scaling values\n",
        "StandardScaler().fit(X_1).transform(X_1)"
      ],
      "execution_count": null,
      "outputs": [
        {
          "output_type": "execute_result",
          "data": {
            "text/plain": [
              "array([[ 0.16471642,  0.21376012, -0.53251731,  1.32453265,  0.72015953,\n",
              "         0.55111442],\n",
              "       [ 0.22664004,  0.23311163, -0.37611273,  1.44574575,  1.57062395,\n",
              "         0.70105594],\n",
              "       [ 0.22614272,  0.67219961, -0.25881465,  1.55169041,  1.502411  ,\n",
              "         0.70757468],\n",
              "       [ 0.27284274,  0.73900487,  2.6762488 ,  1.64208179,  2.08659834,\n",
              "         0.93348176],\n",
              "       [-0.13133701,  0.44029998, -1.43031854, -1.7019813 , -2.39421398,\n",
              "        -1.77426127],\n",
              "       [-0.19241375,  0.19749375, -1.33352622, -1.59385086, -2.35531509,\n",
              "        -1.80997273],\n",
              "       [-0.04776258,  0.29559759, -1.17549488, -1.51145832, -1.80538501,\n",
              "        -1.78444859],\n",
              "       [ 0.17455927,  0.44453224, -0.51961024, -1.16924612, -1.6606835 ,\n",
              "        -1.79002366],\n",
              "       [-0.92740498,  0.31763097, -0.57524121, -0.02961744, -0.95454182,\n",
              "        -0.33968134],\n",
              "       [-0.84344718,  0.03766134, -0.80720459,  0.11654928, -0.66879064,\n",
              "        -0.2368371 ],\n",
              "       [-0.74755362,  0.13836364, -0.61509687,  0.32189825, -0.18665474,\n",
              "        -0.10019535],\n",
              "       [-0.51024074,  0.66171577, -0.06871898,  0.29281987, -0.16914591,\n",
              "        -0.05613375],\n",
              "       [ 1.7086627 ,  0.57707948, -0.01674822,  0.73477251,  0.97421616,\n",
              "         1.14556027],\n",
              "       [ 2.46569888,  0.70579895,  0.09106755,  0.51866727,  1.24252999,\n",
              "         1.07508127],\n",
              "       [ 2.6908757 ,  0.8481708 ,  0.15951997,  0.70395079,  1.40060968,\n",
              "         1.07233526],\n",
              "       [ 2.6908757 ,  1.05838991,  3.05263009,  0.98923113,  1.84329712,\n",
              "         1.00291595],\n",
              "       [-1.00288065, -0.56108726,  0.48084823, -0.97375326,  0.13272054,\n",
              "        -0.7962463 ],\n",
              "       [-0.86823044, -0.48222453, -0.30063955, -0.99671287,  1.67749926,\n",
              "        -0.75146001],\n",
              "       [-0.73592179, -0.41166593,  0.03798375, -0.98890774, -0.74750889,\n",
              "        -0.6114443 ],\n",
              "       [-0.74449371, -0.26577465, -0.3157085 , -0.55261809, -0.38089551,\n",
              "        -0.40104254],\n",
              "       [ 1.0011516 , -0.19640692,  0.17416083,  1.41114111, -0.00877936,\n",
              "         0.76097778],\n",
              "       [ 1.05863386,  0.06579547,  0.41427942,  1.77207992,  0.39835445,\n",
              "         0.76458239],\n",
              "       [ 1.0717024 ,  0.02626309,  0.7357147 ,  1.58974754,  1.02863646,\n",
              "         0.7926225 ],\n",
              "       [ 1.14026391,  0.52375649,  2.08740386,  1.66379942,  1.2894465 ,\n",
              "         0.83457221],\n",
              "       [-1.20067708, -0.27244136, -0.23642527, -0.17830231, -0.40612251,\n",
              "         0.23691275],\n",
              "       [-0.08705337, -0.30217038,  0.0247128 , -0.35390063,  0.06329269,\n",
              "         0.21718221],\n",
              "       [-0.06995789, -0.53870543,  0.49745832, -0.31286958,  0.04785634,\n",
              "         0.2092281 ],\n",
              "       [-0.04094738, -0.50488281,  2.15313788, -0.06980531,  0.3746282 ,\n",
              "         0.20462724],\n",
              "       [-0.08985081,  0.51653689, -0.02141446,  0.80991824,  0.00612101,\n",
              "         0.98642619],\n",
              "       [ 0.1047959 ,  0.22447788,  0.39073419,  0.66399081, -0.23753753,\n",
              "         1.10494225],\n",
              "       [ 0.92606964, -0.21286634,  1.07354602,  0.90375071,  0.11331791,\n",
              "         1.17233433],\n",
              "       [ 1.21064893, -0.37116598,  1.52570016,  1.09930054,  0.50987495,\n",
              "         1.23245413],\n",
              "       [-1.21730977, -1.21559375, -0.16221497, -0.80455856, -0.64159836,\n",
              "        -1.03203692],\n",
              "       [-1.19694025, -1.20768302, -0.38411811, -1.18203058, -0.84037713,\n",
              "        -0.88183315],\n",
              "       [-1.28683139, -1.25959186, -0.01246727, -0.89545129, -0.90197961,\n",
              "        -0.8172201 ],\n",
              "       [-1.31982739, -1.33192612,  0.59609145, -0.76377818, -0.04268931,\n",
              "        -0.75315039],\n",
              "       [-1.04678323, -0.90383235, -0.97176438, -0.70282981,  0.52584729,\n",
              "        -0.85001369],\n",
              "       [-0.95790746, -0.85776086, -1.11430974, -0.57704758,  0.81674393,\n",
              "        -0.70672869],\n",
              "       [-0.80866219, -0.90268402, -1.10132739, -0.62030053,  0.88206257,\n",
              "        -0.50764101],\n",
              "       [-0.86769167, -0.91070107, -0.65647227, -0.63070357,  0.57515786,\n",
              "        -0.54026058],\n",
              "       [-0.85547963, -0.96028135,  0.256841  , -1.19092956,  0.33892235,\n",
              "         0.11939116],\n",
              "       [-0.36882141, -0.54893728,  1.05526635, -1.41082912,  0.32256624,\n",
              "         0.09219582],\n",
              "       [ 2.6908757 ,  0.32479741,  1.56624078, -1.29364963,  0.34280287,\n",
              "         0.01148453],\n",
              "       [ 2.6908757 ,  1.14705919,  2.7819241 , -0.48432036,  0.44764715,\n",
              "         0.36503434],\n",
              "       [-0.29414007,  0.70757461, -0.68720951,  0.96521184,  0.6497669 ,\n",
              "        -0.85909739],\n",
              "       [-0.27686189,  0.98268509, -0.87780605,  0.93997335,  1.04221473,\n",
              "        -0.8057818 ],\n",
              "       [-0.17181241,  1.22215476, -0.68511184,  0.93804771,  0.66491739,\n",
              "        -0.86589948],\n",
              "       [-0.18637293,  1.66334801, -0.44717653,  0.99312799,  0.71676496,\n",
              "        -0.80086002],\n",
              "       [-0.87249913, -1.33758271, -0.33544369, -1.16055223, -1.1337393 ,\n",
              "        -0.65661071],\n",
              "       [-0.76022845, -1.17726286, -0.68704041, -1.03079337, -1.09050322,\n",
              "        -0.65273622],\n",
              "       [-0.47919259, -1.000877  , -0.75613283, -0.57204546, -0.94428665,\n",
              "        -0.59846134],\n",
              "       [-0.35887495, -1.0170706 , -0.44274575, -0.28804129, -0.78020394,\n",
              "        -0.57180245],\n",
              "       [ 0.49229343, -1.32155923, -1.53257358, -1.09544719, -1.5813578 ,\n",
              "         2.07900412],\n",
              "       [ 0.39628246, -1.29391421, -1.05622756, -0.89308126, -1.66586468,\n",
              "         2.39740762],\n",
              "       [ 0.40318972, -0.83989792, -1.04766566, -0.73990702, -1.22878721,\n",
              "         2.63152784],\n",
              "       [ 0.32788429, -0.44038671, -0.90073654, -0.8909961 , -1.04387257,\n",
              "         2.76081805],\n",
              "       [-1.2095391 , -0.42071436,  0.1825515 , -1.4019985 , -0.76612542,\n",
              "        -1.20361861],\n",
              "       [-1.04248   , -0.0797662 , -0.06879603, -1.25927287,  0.26943232,\n",
              "        -1.14740414],\n",
              "       [ 0.40318972, -0.12970799,  0.22058775, -1.50333984, -0.0727759 ,\n",
              "        -1.10475201],\n",
              "       [-0.69217118,  0.22206426, -0.16364909, -1.26273676,  0.16362898,\n",
              "        -1.04789586],\n",
              "       [ 0.46166662,  0.18073495,  1.58404954,  0.02239776,  0.13111259,\n",
              "         0.16220049],\n",
              "       [ 0.79014158,  0.2029254 ,  1.61455774,  0.1893022 ,  1.39142648,\n",
              "         0.19117232],\n",
              "       [ 0.81393711,  0.39720609,  2.00281225,  0.4121415 ,  1.6115017 ,\n",
              "         0.14965638],\n",
              "       [ 0.79432738,  0.39792912,  3.54001647,  0.72783563,  1.12854396,\n",
              "         0.1747113 ],\n",
              "       [ 0.91760133,  0.43322968, -0.66402815,  2.28270631, -1.02136122,\n",
              "         0.05132942],\n",
              "       [ 0.99780849,  0.70289622, -0.43498866,  2.0064617 , -0.78517073,\n",
              "         0.10830866],\n",
              "       [ 0.88441883,  0.53622865, -0.08894647,  2.23597808, -0.60097073,\n",
              "         0.05467748],\n",
              "       [ 1.04492294,  0.41655761,  1.57182742,  2.55352721, -0.51507029,\n",
              "         0.16452661],\n",
              "       [-1.17969281, -1.19290356, -1.05158273, -1.17878319, -1.15467843,\n",
              "        -1.07786984],\n",
              "       [-1.06568841, -1.25803948, -0.68715599, -1.12648312, -1.18297841,\n",
              "        -1.00343167],\n",
              "       [-1.03171848, -1.02191911, -0.86519008, -0.97963274, -0.93928413,\n",
              "        -0.82103032],\n",
              "       [-0.92156143, -0.83557041, -0.33150521, -0.97847052, -1.47291027,\n",
              "        -0.70111617],\n",
              "       [-1.29925065, -0.51027359,  0.20937166,  0.1033888 , -0.75690648,\n",
              "        -0.74604345],\n",
              "       [-1.29342782, -0.56888103,  0.11465838, -0.15359936, -0.9771961 ,\n",
              "        -0.70581812],\n",
              "       [-1.20740475, -0.50288386,  0.12437336, -0.28199089, -0.54726509,\n",
              "        -0.67421854],\n",
              "       [-1.13392527, -0.70794612,  0.1573795 ,  0.680148  , -0.7081319 ,\n",
              "        -0.61879489],\n",
              "       [-0.81999011, -0.87989814, -0.24620724, -0.21326018, -0.56027165,\n",
              "        -1.25764804],\n",
              "       [-0.73376672, -0.60603169, -0.49692119, -0.58877236, -0.90719653,\n",
              "        -1.15811578],\n",
              "       [-0.72394459, -0.77142333, -0.66803084, -0.50423768, -1.31232933,\n",
              "        -1.2071829 ],\n",
              "       [-0.63853627, -0.89485835, -1.04449775, -0.44349441, -1.00170846,\n",
              "        -1.21934372],\n",
              "       [ 0.29947715, -0.35021956,  0.09658998,  0.62935198, -0.76791203,\n",
              "         0.01274219],\n",
              "       [ 1.07663419,  0.11357882, -0.47215589,  0.543826  , -0.75590598,\n",
              "        -0.13573976],\n",
              "       [ 1.20588292,  0.18904972, -0.02783589,  0.74863943, -0.23696581,\n",
              "        -0.05105835],\n",
              "       [ 1.76183482,  0.14197876, -0.91964379,  0.73806548, -0.31825679,\n",
              "         0.05094378],\n",
              "       [-0.19124255, -0.32175582, -0.54114343,  0.08332335,  1.56272712,\n",
              "        -0.84027803],\n",
              "       [-0.14838297, -0.23960758, -0.49660012,  0.06230078,  0.76078715,\n",
              "        -0.81946141],\n",
              "       [ 0.52656037, -0.3757593 , -0.45505348, -0.08774002,  0.93580394,\n",
              "        -0.7874184 ],\n",
              "       [ 0.54515473, -0.29564191, -0.63155713, -0.02621053,  1.17588926,\n",
              "        -0.77710646],\n",
              "       [ 0.30339633,  0.4927728 , -0.53778288,  0.3266383 , -0.09132097,\n",
              "         1.30686893],\n",
              "       [ 1.17269352,  0.7848318 , -0.52660531,  0.68158368,  0.33071321,\n",
              "         1.42735869],\n",
              "       [ 1.40221984,  0.86147231, -0.4204848 ,  0.21575988,  0.14458367,\n",
              "         1.38380325],\n",
              "       [ 1.57862101,  0.99883616,  0.76670879,  1.19568535,  0.41529156,\n",
              "         1.470524  ],\n",
              "       [-1.02286793,  2.84801834, -0.68720951, -0.41915608, -1.12523501,\n",
              "         0.90925278],\n",
              "       [-0.22877329,  3.57636214, -0.78759783, -0.45785129, -0.75590598,\n",
              "         1.23525485],\n",
              "       [-0.06352723,  3.88881533, -0.33633412, -0.12607061,  0.12035717,\n",
              "         1.53478916],\n",
              "       [ 0.3736957 ,  4.31944964, -0.1470604 ,  1.19568535, -0.31825679,\n",
              "         2.27933862],\n",
              "       [-0.02637305, -0.21957557,  0.91913208,  0.724905  ,  1.43573453,\n",
              "        -0.34924058],\n",
              "       [ 0.04674725, -0.11573662,  1.11507125,  0.46682298,  0.38581241,\n",
              "        -0.32657381],\n",
              "       [ 0.15867947, -0.16831532,  1.31049671,  0.71137991,  0.62757714,\n",
              "        -0.27615728],\n",
              "       [ 0.23164781,  0.25030471,  1.05128507,  0.84794119,  0.53817493,\n",
              "        -0.25000047],\n",
              "       [-1.22232444, -0.77007298, -1.07532061, -1.16391898,  1.48093588,\n",
              "         0.82756863],\n",
              "       [-0.76275651, -0.25509942, -0.90112867, -1.096892  ,  1.61389577,\n",
              "         0.88869503],\n",
              "       [-0.86935633, -0.54586677, -0.70852865, -1.04750891,  1.23709868,\n",
              "         0.99354213],\n",
              "       [-0.83182916, -0.25509942,  0.51269851,  0.18391267,  1.75428797,\n",
              "         1.11908963]])"
            ]
          },
          "metadata": {
            "tags": []
          },
          "execution_count": 246
        }
      ]
    },
    {
      "cell_type": "code",
      "metadata": {
        "id": "-7FwL7GzxYdt",
        "colab": {
          "base_uri": "https://localhost:8080/"
        },
        "outputId": "21c8ecc6-8cad-4aff-f681-1fc7c1b2e467"
      },
      "source": [
        "y_1 = Economia_digital[['Unemployment rate']]\n",
        "# sacale data acording to computed scaling values\n",
        "StandardScaler().fit(y_1).transform(y_1)"
      ],
      "execution_count": null,
      "outputs": [
        {
          "output_type": "execute_result",
          "data": {
            "text/plain": [
              "array([[ 0.19162036],\n",
              "       [ 0.01592576],\n",
              "       [-0.25541599],\n",
              "       [-0.39625841],\n",
              "       [ 0.58219309],\n",
              "       [ 0.62633881],\n",
              "       [ 0.69403908],\n",
              "       [ 0.88982086],\n",
              "       [-0.72428355],\n",
              "       [-0.981771  ],\n",
              "       [-1.13758053],\n",
              "       [-1.19056779],\n",
              "       [-0.26913789],\n",
              "       [-0.28216693],\n",
              "       [-0.49680041],\n",
              "       [-0.52053146],\n",
              "       [-0.03335959],\n",
              "       [-0.27471663],\n",
              "       [-0.39328182],\n",
              "       [-0.59727254],\n",
              "       [ 0.44261833],\n",
              "       [ 0.40256333],\n",
              "       [ 0.09274309],\n",
              "       [-0.069556  ],\n",
              "       [ 0.72620224],\n",
              "       [ 0.56971884],\n",
              "       [ 0.49050031],\n",
              "       [ 0.3440203 ],\n",
              "       [-0.6800717 ],\n",
              "       [-0.77101762],\n",
              "       [-0.85760572],\n",
              "       [-0.91778453],\n",
              "       [ 3.94311525],\n",
              "       [ 3.45663444],\n",
              "       [ 2.93470483],\n",
              "       [ 2.46418848],\n",
              "       [-0.45827015],\n",
              "       [-0.68434013],\n",
              "       [-0.79030128],\n",
              "       [-0.86004551],\n",
              "       [-0.84766273],\n",
              "       [-0.86091894],\n",
              "       [-0.92847255],\n",
              "       [-0.7202523 ],\n",
              "       [ 0.34169088],\n",
              "       [-0.07457107],\n",
              "       [-0.35119207],\n",
              "       [-0.60301882],\n",
              "       [ 1.141448  ],\n",
              "       [ 1.03146536],\n",
              "       [ 0.88806783],\n",
              "       [ 0.73130264],\n",
              "       [-0.77866064],\n",
              "       [-0.78625465],\n",
              "       [-0.7464667 ],\n",
              "       [-0.77116925],\n",
              "       [ 0.23293858],\n",
              "       [ 0.05207281],\n",
              "       [-0.17677397],\n",
              "       [-0.14356298],\n",
              "       [-0.24236484],\n",
              "       [-0.5256706 ],\n",
              "       [-0.77072416],\n",
              "       [-0.878892  ],\n",
              "       [-0.53794892],\n",
              "       [-0.66617036],\n",
              "       [-0.74945253],\n",
              "       [-0.78161877],\n",
              "       [-0.19823351],\n",
              "       [-0.50124594],\n",
              "       [-0.75189157],\n",
              "       [-0.88803504],\n",
              "       [ 0.62118226],\n",
              "       [ 0.26515907],\n",
              "       [-0.11202697],\n",
              "       [-0.29490915],\n",
              "       [ 0.24238703],\n",
              "       [-0.09826973],\n",
              "       [-0.44537183],\n",
              "       [-0.61145946],\n",
              "       [ 3.00437339],\n",
              "       [ 2.43138456],\n",
              "       [ 1.96164613],\n",
              "       [ 1.68612652],\n",
              "       [ 0.00624135],\n",
              "       [-0.06354082],\n",
              "       [-0.14537133],\n",
              "       [-0.03442612],\n",
              "       [-0.47295513],\n",
              "       [-0.50209603],\n",
              "       [-0.52352604],\n",
              "       [-0.60668202],\n",
              "       [ 0.9570132 ],\n",
              "       [ 0.96553337],\n",
              "       [ 0.97350144],\n",
              "       [ 1.64728484],\n",
              "       [-0.49857339],\n",
              "       [-0.61936243],\n",
              "       [-0.67013604],\n",
              "       [-0.73928559],\n",
              "       [-0.50904296],\n",
              "       [-0.63425991],\n",
              "       [-0.74535782],\n",
              "       [-0.79775176]])"
            ]
          },
          "metadata": {
            "tags": []
          },
          "execution_count": 247
        }
      ]
    },
    {
      "cell_type": "markdown",
      "metadata": {
        "id": "Balf50IU29ZO"
      },
      "source": [
        "### ***Breves Conclusiones***"
      ]
    },
    {
      "cell_type": "markdown",
      "metadata": {
        "id": "zFfmKrkS2_oo"
      },
      "source": [
        "Al tener una base de serie de tiempo decidimos realizar por cada año unas regresiones distintas, en los 4 años. Para las regresiones partimos nuestra base en 90/10 es decir que las regresiones solo entrenaron con un 10% de los datos debido a tamaño de la base de datos, el mejor estimador en este caso en los 4 años años fue con el de regresión lasso, el cual nos daba el menor error cuadratico fuera y dentro de muestra en la mayoria de pruebas que hicimos. Para la regresión  total con toda la base el modelo lasso tambien fue el mejor, sin embargo debemos tener cuidado con los resultados ya que pueden estar del todo certero debido a la cualidade de la base de datos. Variables como: \"Bussiness through computer networks\" , \"Bussines offered ICT specialist\" , \"GERD as a percentage of GDP\" afectaban negativamente nuestra variable 'Unemployment rate' en todas las regresiones."
      ]
    },
    {
      "cell_type": "markdown",
      "metadata": {
        "id": "lu5uwY2BR9O6"
      },
      "source": [
        "## **Bases secundarias**\n",
        "\n",
        "\n",
        "---\n",
        "\n",
        "\n",
        "\n",
        "---\n",
        "\n",
        "\n"
      ]
    },
    {
      "cell_type": "markdown",
      "metadata": {
        "id": "L7zIdWkIjHa4"
      },
      "source": [
        "### **Inteligencia artificial**\n",
        "\n",
        "Fuente: OECD Statistics.\n",
        "\n",
        "Variables:\n",
        "\n",
        "*   Años : desde el 2017 al 2020.\n",
        "*   Concepto: (machine learning\ty artificial intelligence)\n",
        "*   Probabilidad de obtener al menos un empleo en estas areas.\n",
        "* Paises: Todos, USA, Alemania(DEU), Reino unido(GBR)."
      ]
    },
    {
      "cell_type": "code",
      "metadata": {
        "id": "SdsoTqs3Htog",
        "colab": {
          "base_uri": "https://localhost:8080/",
          "height": 419
        },
        "outputId": "0be2cda9-f035-44a1-b41e-de54509e262e"
      },
      "source": [
        "import pandas as pd\n",
        "import matplotlib.pyplot as plt\n",
        "\n",
        "IA_subtemas_demandalab = pd.read_csv(\"/content/relative-domestic-demand.csv\")\n",
        "IA_subtemas_demandalab"
      ],
      "execution_count": null,
      "outputs": [
        {
          "output_type": "execute_result",
          "data": {
            "text/html": [
              "<div>\n",
              "<style scoped>\n",
              "    .dataframe tbody tr th:only-of-type {\n",
              "        vertical-align: middle;\n",
              "    }\n",
              "\n",
              "    .dataframe tbody tr th {\n",
              "        vertical-align: top;\n",
              "    }\n",
              "\n",
              "    .dataframe thead th {\n",
              "        text-align: right;\n",
              "    }\n",
              "</style>\n",
              "<table border=\"1\" class=\"dataframe\">\n",
              "  <thead>\n",
              "    <tr style=\"text-align: right;\">\n",
              "      <th></th>\n",
              "      <th>date</th>\n",
              "      <th>concept</th>\n",
              "      <th>Probability of appearance in a single job posting</th>\n",
              "    </tr>\n",
              "  </thead>\n",
              "  <tbody>\n",
              "    <tr>\n",
              "      <th>0</th>\n",
              "      <td>2017-11-26</td>\n",
              "      <td>machine learning</td>\n",
              "      <td>0.009822</td>\n",
              "    </tr>\n",
              "    <tr>\n",
              "      <th>1</th>\n",
              "      <td>2017-12-03</td>\n",
              "      <td>machine learning</td>\n",
              "      <td>0.009944</td>\n",
              "    </tr>\n",
              "    <tr>\n",
              "      <th>2</th>\n",
              "      <td>2017-12-10</td>\n",
              "      <td>machine learning</td>\n",
              "      <td>0.010113</td>\n",
              "    </tr>\n",
              "    <tr>\n",
              "      <th>3</th>\n",
              "      <td>2017-12-17</td>\n",
              "      <td>machine learning</td>\n",
              "      <td>0.010315</td>\n",
              "    </tr>\n",
              "    <tr>\n",
              "      <th>4</th>\n",
              "      <td>2017-12-24</td>\n",
              "      <td>machine learning</td>\n",
              "      <td>0.010460</td>\n",
              "    </tr>\n",
              "    <tr>\n",
              "      <th>...</th>\n",
              "      <td>...</td>\n",
              "      <td>...</td>\n",
              "      <td>...</td>\n",
              "    </tr>\n",
              "    <tr>\n",
              "      <th>319</th>\n",
              "      <td>2020-11-29</td>\n",
              "      <td>artificial intelligence</td>\n",
              "      <td>0.018913</td>\n",
              "    </tr>\n",
              "    <tr>\n",
              "      <th>320</th>\n",
              "      <td>2020-12-06</td>\n",
              "      <td>artificial intelligence</td>\n",
              "      <td>0.018653</td>\n",
              "    </tr>\n",
              "    <tr>\n",
              "      <th>321</th>\n",
              "      <td>2020-12-13</td>\n",
              "      <td>artificial intelligence</td>\n",
              "      <td>0.018498</td>\n",
              "    </tr>\n",
              "    <tr>\n",
              "      <th>322</th>\n",
              "      <td>2020-12-20</td>\n",
              "      <td>artificial intelligence</td>\n",
              "      <td>0.018442</td>\n",
              "    </tr>\n",
              "    <tr>\n",
              "      <th>323</th>\n",
              "      <td>2020-12-27</td>\n",
              "      <td>artificial intelligence</td>\n",
              "      <td>0.018548</td>\n",
              "    </tr>\n",
              "  </tbody>\n",
              "</table>\n",
              "<p>324 rows × 3 columns</p>\n",
              "</div>"
            ],
            "text/plain": [
              "           date  ... Probability of appearance in a single job posting\n",
              "0    2017-11-26  ...                                          0.009822\n",
              "1    2017-12-03  ...                                          0.009944\n",
              "2    2017-12-10  ...                                          0.010113\n",
              "3    2017-12-17  ...                                          0.010315\n",
              "4    2017-12-24  ...                                          0.010460\n",
              "..          ...  ...                                               ...\n",
              "319  2020-11-29  ...                                          0.018913\n",
              "320  2020-12-06  ...                                          0.018653\n",
              "321  2020-12-13  ...                                          0.018498\n",
              "322  2020-12-20  ...                                          0.018442\n",
              "323  2020-12-27  ...                                          0.018548\n",
              "\n",
              "[324 rows x 3 columns]"
            ]
          },
          "metadata": {
            "tags": []
          },
          "execution_count": 2
        }
      ]
    },
    {
      "cell_type": "code",
      "metadata": {
        "id": "D9WHRKzZQTXq",
        "colab": {
          "base_uri": "https://localhost:8080/"
        },
        "outputId": "2ca5b4a5-7f19-40c7-d885-73dac59bf368"
      },
      "source": [
        "IA_subtemas_demandalab.info()"
      ],
      "execution_count": null,
      "outputs": [
        {
          "output_type": "stream",
          "text": [
            "<class 'pandas.core.frame.DataFrame'>\n",
            "RangeIndex: 324 entries, 0 to 323\n",
            "Data columns (total 3 columns):\n",
            " #   Column                                             Non-Null Count  Dtype  \n",
            "---  ------                                             --------------  -----  \n",
            " 0   date                                               324 non-null    object \n",
            " 1   concept                                            324 non-null    object \n",
            " 2   Probability of appearance in a single job posting  324 non-null    float64\n",
            "dtypes: float64(1), object(2)\n",
            "memory usage: 7.7+ KB\n"
          ],
          "name": "stdout"
        }
      ]
    },
    {
      "cell_type": "code",
      "metadata": {
        "id": "GTwXzbSrQrDX"
      },
      "source": [
        "IA_demandlab = IA_subtemas_demandalab.set_index([\"date\",\"concept\"])\n"
      ],
      "execution_count": null,
      "outputs": []
    },
    {
      "cell_type": "code",
      "metadata": {
        "id": "mXlAJXGjRJ4L",
        "colab": {
          "base_uri": "https://localhost:8080/"
        },
        "outputId": "02c5b83a-9900-470f-ade1-0b531a1fb2cf"
      },
      "source": [
        "IA_demandlab.mean(1)"
      ],
      "execution_count": null,
      "outputs": [
        {
          "output_type": "execute_result",
          "data": {
            "text/plain": [
              "date        concept                \n",
              "2017-11-26  machine learning           0.009822\n",
              "2017-12-03  machine learning           0.009944\n",
              "2017-12-10  machine learning           0.010113\n",
              "2017-12-17  machine learning           0.010315\n",
              "2017-12-24  machine learning           0.010460\n",
              "                                         ...   \n",
              "2020-11-29  artificial intelligence    0.018913\n",
              "2020-12-06  artificial intelligence    0.018653\n",
              "2020-12-13  artificial intelligence    0.018498\n",
              "2020-12-20  artificial intelligence    0.018442\n",
              "2020-12-27  artificial intelligence    0.018548\n",
              "Length: 324, dtype: float64"
            ]
          },
          "metadata": {
            "tags": []
          },
          "execution_count": 4
        }
      ]
    },
    {
      "cell_type": "code",
      "metadata": {
        "colab": {
          "base_uri": "https://localhost:8080/",
          "height": 297
        },
        "id": "XshpTG6h61O2",
        "outputId": "c9f37583-5e21-4b47-b4b3-c07b707d057d"
      },
      "source": [
        "IA_demandlab.describe()"
      ],
      "execution_count": null,
      "outputs": [
        {
          "output_type": "execute_result",
          "data": {
            "text/html": [
              "<div>\n",
              "<style scoped>\n",
              "    .dataframe tbody tr th:only-of-type {\n",
              "        vertical-align: middle;\n",
              "    }\n",
              "\n",
              "    .dataframe tbody tr th {\n",
              "        vertical-align: top;\n",
              "    }\n",
              "\n",
              "    .dataframe thead th {\n",
              "        text-align: right;\n",
              "    }\n",
              "</style>\n",
              "<table border=\"1\" class=\"dataframe\">\n",
              "  <thead>\n",
              "    <tr style=\"text-align: right;\">\n",
              "      <th></th>\n",
              "      <th>Probability of appearance in a single job posting</th>\n",
              "    </tr>\n",
              "  </thead>\n",
              "  <tbody>\n",
              "    <tr>\n",
              "      <th>count</th>\n",
              "      <td>324.000000</td>\n",
              "    </tr>\n",
              "    <tr>\n",
              "      <th>mean</th>\n",
              "      <td>0.017413</td>\n",
              "    </tr>\n",
              "    <tr>\n",
              "      <th>std</th>\n",
              "      <td>0.003070</td>\n",
              "    </tr>\n",
              "    <tr>\n",
              "      <th>min</th>\n",
              "      <td>0.009822</td>\n",
              "    </tr>\n",
              "    <tr>\n",
              "      <th>25%</th>\n",
              "      <td>0.015296</td>\n",
              "    </tr>\n",
              "    <tr>\n",
              "      <th>50%</th>\n",
              "      <td>0.017839</td>\n",
              "    </tr>\n",
              "    <tr>\n",
              "      <th>75%</th>\n",
              "      <td>0.020072</td>\n",
              "    </tr>\n",
              "    <tr>\n",
              "      <th>max</th>\n",
              "      <td>0.022550</td>\n",
              "    </tr>\n",
              "  </tbody>\n",
              "</table>\n",
              "</div>"
            ],
            "text/plain": [
              "       Probability of appearance in a single job posting\n",
              "count                                         324.000000\n",
              "mean                                            0.017413\n",
              "std                                             0.003070\n",
              "min                                             0.009822\n",
              "25%                                             0.015296\n",
              "50%                                             0.017839\n",
              "75%                                             0.020072\n",
              "max                                             0.022550"
            ]
          },
          "metadata": {
            "tags": []
          },
          "execution_count": 5
        }
      ]
    },
    {
      "cell_type": "code",
      "metadata": {
        "id": "0eGCGUFSYbUf",
        "colab": {
          "base_uri": "https://localhost:8080/"
        },
        "outputId": "7b0c75ce-a7d3-4c01-bc9f-57cc79c529a8"
      },
      "source": [
        "IA_demandlabt = IA_demandlab.groupby(['concept'])['Probability of appearance in a single job posting'].sum()\n",
        "IA_demandlabt"
      ],
      "execution_count": null,
      "outputs": [
        {
          "output_type": "execute_result",
          "data": {
            "text/plain": [
              "concept\n",
              "artificial intelligence    3.048465\n",
              "machine learning           2.593223\n",
              "Name: Probability of appearance in a single job posting, dtype: float64"
            ]
          },
          "metadata": {
            "tags": []
          },
          "execution_count": 7
        }
      ]
    },
    {
      "cell_type": "code",
      "metadata": {
        "id": "YaxSCfkrZqc-",
        "colab": {
          "base_uri": "https://localhost:8080/",
          "height": 388
        },
        "outputId": "be53984c-73b9-4ede-eaeb-3f824808f81e"
      },
      "source": [
        "IA_demandlabt.plot(kind='bar', color = (\"cadetblue\", 'darkseagreen'), title = 'Posibilidad de obtener trabajo en IA y Machine Learning')\n",
        "plt.show()"
      ],
      "execution_count": null,
      "outputs": [
        {
          "output_type": "display_data",
          "data": {
            "image/png": "[encoded data removed]",
            "text/plain": [
              "<Figure size 432x288 with 1 Axes>"
            ]
          },
          "metadata": {
            "tags": [],
            "needs_background": "light"
          }
        }
      ]
    },
    {
      "cell_type": "markdown",
      "metadata": {
        "id": "8nFgWJNA85Do"
      },
      "source": [
        "A partir de las estadisticas descripitvas y la grafica se puede observar que hay una posibilidad más alta de obtener un trabajo en inteligencia artificial que en machine learning. No obstante, se ha notado un crecimiento en la demanda laboral a traves del tiempo en ambas areas."
      ]
    },
    {
      "cell_type": "markdown",
      "metadata": {
        "id": "J3IDuRW5g-na"
      },
      "source": [
        "- **IA por paises**"
      ]
    },
    {
      "cell_type": "code",
      "metadata": {
        "id": "8-JoMFnBDqZF",
        "colab": {
          "base_uri": "https://localhost:8080/",
          "height": 419
        },
        "outputId": "bd9b0094-54d1-4d97-e226-1197109d852f"
      },
      "source": [
        "IA_subtemas_demandlabint = pd.read_csv(\"/content/relative-international-demand.csv\")\n",
        "IA_subtemas_demandlabint"
      ],
      "execution_count": null,
      "outputs": [
        {
          "output_type": "execute_result",
          "data": {
            "text/html": [
              "<div>\n",
              "<style scoped>\n",
              "    .dataframe tbody tr th:only-of-type {\n",
              "        vertical-align: middle;\n",
              "    }\n",
              "\n",
              "    .dataframe tbody tr th {\n",
              "        vertical-align: top;\n",
              "    }\n",
              "\n",
              "    .dataframe thead th {\n",
              "        text-align: right;\n",
              "    }\n",
              "</style>\n",
              "<table border=\"1\" class=\"dataframe\">\n",
              "  <thead>\n",
              "    <tr style=\"text-align: right;\">\n",
              "      <th></th>\n",
              "      <th>date</th>\n",
              "      <th>country</th>\n",
              "      <th>Probability of appearance in a single job posting</th>\n",
              "    </tr>\n",
              "  </thead>\n",
              "  <tbody>\n",
              "    <tr>\n",
              "      <th>0</th>\n",
              "      <td>2017-11-26</td>\n",
              "      <td>All</td>\n",
              "      <td>0.009822</td>\n",
              "    </tr>\n",
              "    <tr>\n",
              "      <th>1</th>\n",
              "      <td>2017-12-03</td>\n",
              "      <td>All</td>\n",
              "      <td>0.009944</td>\n",
              "    </tr>\n",
              "    <tr>\n",
              "      <th>2</th>\n",
              "      <td>2017-12-10</td>\n",
              "      <td>All</td>\n",
              "      <td>0.010113</td>\n",
              "    </tr>\n",
              "    <tr>\n",
              "      <th>3</th>\n",
              "      <td>2017-12-17</td>\n",
              "      <td>All</td>\n",
              "      <td>0.010315</td>\n",
              "    </tr>\n",
              "    <tr>\n",
              "      <th>4</th>\n",
              "      <td>2017-12-24</td>\n",
              "      <td>All</td>\n",
              "      <td>0.010460</td>\n",
              "    </tr>\n",
              "    <tr>\n",
              "      <th>...</th>\n",
              "      <td>...</td>\n",
              "      <td>...</td>\n",
              "      <td>...</td>\n",
              "    </tr>\n",
              "    <tr>\n",
              "      <th>643</th>\n",
              "      <td>2020-11-29</td>\n",
              "      <td>GBR</td>\n",
              "      <td>0.031335</td>\n",
              "    </tr>\n",
              "    <tr>\n",
              "      <th>644</th>\n",
              "      <td>2020-12-06</td>\n",
              "      <td>GBR</td>\n",
              "      <td>0.031066</td>\n",
              "    </tr>\n",
              "    <tr>\n",
              "      <th>645</th>\n",
              "      <td>2020-12-13</td>\n",
              "      <td>GBR</td>\n",
              "      <td>0.030899</td>\n",
              "    </tr>\n",
              "    <tr>\n",
              "      <th>646</th>\n",
              "      <td>2020-12-20</td>\n",
              "      <td>GBR</td>\n",
              "      <td>0.030802</td>\n",
              "    </tr>\n",
              "    <tr>\n",
              "      <th>647</th>\n",
              "      <td>2020-12-27</td>\n",
              "      <td>GBR</td>\n",
              "      <td>0.030822</td>\n",
              "    </tr>\n",
              "  </tbody>\n",
              "</table>\n",
              "<p>648 rows × 3 columns</p>\n",
              "</div>"
            ],
            "text/plain": [
              "           date country  Probability of appearance in a single job posting\n",
              "0    2017-11-26     All                                           0.009822\n",
              "1    2017-12-03     All                                           0.009944\n",
              "2    2017-12-10     All                                           0.010113\n",
              "3    2017-12-17     All                                           0.010315\n",
              "4    2017-12-24     All                                           0.010460\n",
              "..          ...     ...                                                ...\n",
              "643  2020-11-29     GBR                                           0.031335\n",
              "644  2020-12-06     GBR                                           0.031066\n",
              "645  2020-12-13     GBR                                           0.030899\n",
              "646  2020-12-20     GBR                                           0.030802\n",
              "647  2020-12-27     GBR                                           0.030822\n",
              "\n",
              "[648 rows x 3 columns]"
            ]
          },
          "metadata": {
            "tags": []
          },
          "execution_count": 15
        }
      ]
    },
    {
      "cell_type": "code",
      "metadata": {
        "id": "jPQpyjx6hH-y",
        "colab": {
          "base_uri": "https://localhost:8080/"
        },
        "outputId": "dd146d37-f0d8-4b6c-c9d2-62d6d22bb32b"
      },
      "source": [
        "IA_subtemas_demandlabint.info()"
      ],
      "execution_count": null,
      "outputs": [
        {
          "output_type": "stream",
          "text": [
            "<class 'pandas.core.frame.DataFrame'>\n",
            "RangeIndex: 648 entries, 0 to 647\n",
            "Data columns (total 3 columns):\n",
            " #   Column                                             Non-Null Count  Dtype  \n",
            "---  ------                                             --------------  -----  \n",
            " 0   date                                               648 non-null    object \n",
            " 1   country                                            648 non-null    object \n",
            " 2   Probability of appearance in a single job posting  648 non-null    float64\n",
            "dtypes: float64(1), object(2)\n",
            "memory usage: 15.3+ KB\n"
          ],
          "name": "stdout"
        }
      ]
    },
    {
      "cell_type": "code",
      "metadata": {
        "id": "RlIFJw1ChV13",
        "colab": {
          "base_uri": "https://localhost:8080/",
          "height": 450
        },
        "outputId": "5e8f30bf-4836-4c4c-b5e0-da0cf1263554"
      },
      "source": [
        "IA_demandint = IA_subtemas_demandlabint.set_index([\"date\",\"country\"])\n",
        "\n",
        "IA_demandint"
      ],
      "execution_count": null,
      "outputs": [
        {
          "output_type": "execute_result",
          "data": {
            "text/html": [
              "<div>\n",
              "<style scoped>\n",
              "    .dataframe tbody tr th:only-of-type {\n",
              "        vertical-align: middle;\n",
              "    }\n",
              "\n",
              "    .dataframe tbody tr th {\n",
              "        vertical-align: top;\n",
              "    }\n",
              "\n",
              "    .dataframe thead th {\n",
              "        text-align: right;\n",
              "    }\n",
              "</style>\n",
              "<table border=\"1\" class=\"dataframe\">\n",
              "  <thead>\n",
              "    <tr style=\"text-align: right;\">\n",
              "      <th></th>\n",
              "      <th></th>\n",
              "      <th>Probability of appearance in a single job posting</th>\n",
              "    </tr>\n",
              "    <tr>\n",
              "      <th>date</th>\n",
              "      <th>country</th>\n",
              "      <th></th>\n",
              "    </tr>\n",
              "  </thead>\n",
              "  <tbody>\n",
              "    <tr>\n",
              "      <th>2017-11-26</th>\n",
              "      <th>All</th>\n",
              "      <td>0.009822</td>\n",
              "    </tr>\n",
              "    <tr>\n",
              "      <th>2017-12-03</th>\n",
              "      <th>All</th>\n",
              "      <td>0.009944</td>\n",
              "    </tr>\n",
              "    <tr>\n",
              "      <th>2017-12-10</th>\n",
              "      <th>All</th>\n",
              "      <td>0.010113</td>\n",
              "    </tr>\n",
              "    <tr>\n",
              "      <th>2017-12-17</th>\n",
              "      <th>All</th>\n",
              "      <td>0.010315</td>\n",
              "    </tr>\n",
              "    <tr>\n",
              "      <th>2017-12-24</th>\n",
              "      <th>All</th>\n",
              "      <td>0.010460</td>\n",
              "    </tr>\n",
              "    <tr>\n",
              "      <th>...</th>\n",
              "      <th>...</th>\n",
              "      <td>...</td>\n",
              "    </tr>\n",
              "    <tr>\n",
              "      <th>2020-11-29</th>\n",
              "      <th>GBR</th>\n",
              "      <td>0.031335</td>\n",
              "    </tr>\n",
              "    <tr>\n",
              "      <th>2020-12-06</th>\n",
              "      <th>GBR</th>\n",
              "      <td>0.031066</td>\n",
              "    </tr>\n",
              "    <tr>\n",
              "      <th>2020-12-13</th>\n",
              "      <th>GBR</th>\n",
              "      <td>0.030899</td>\n",
              "    </tr>\n",
              "    <tr>\n",
              "      <th>2020-12-20</th>\n",
              "      <th>GBR</th>\n",
              "      <td>0.030802</td>\n",
              "    </tr>\n",
              "    <tr>\n",
              "      <th>2020-12-27</th>\n",
              "      <th>GBR</th>\n",
              "      <td>0.030822</td>\n",
              "    </tr>\n",
              "  </tbody>\n",
              "</table>\n",
              "<p>648 rows × 1 columns</p>\n",
              "</div>"
            ],
            "text/plain": [
              "                    Probability of appearance in a single job posting\n",
              "date       country                                                   \n",
              "2017-11-26 All                                               0.009822\n",
              "2017-12-03 All                                               0.009944\n",
              "2017-12-10 All                                               0.010113\n",
              "2017-12-17 All                                               0.010315\n",
              "2017-12-24 All                                               0.010460\n",
              "...                                                               ...\n",
              "2020-11-29 GBR                                               0.031335\n",
              "2020-12-06 GBR                                               0.031066\n",
              "2020-12-13 GBR                                               0.030899\n",
              "2020-12-20 GBR                                               0.030802\n",
              "2020-12-27 GBR                                               0.030822\n",
              "\n",
              "[648 rows x 1 columns]"
            ]
          },
          "metadata": {
            "tags": []
          },
          "execution_count": 17
        }
      ]
    },
    {
      "cell_type": "markdown",
      "metadata": {
        "id": "ew4TP1l-ljWn"
      },
      "source": [
        "Porcentaje total de la probabilidad que tienen las personas en estos paises de conseguir un trabajo relacionada con IA."
      ]
    },
    {
      "cell_type": "code",
      "metadata": {
        "id": "KlCEJlb0hyVi",
        "colab": {
          "base_uri": "https://localhost:8080/"
        },
        "outputId": "afd33d5c-ca96-4f44-c403-e58a5bcfc211"
      },
      "source": [
        "IA_demandint2 = IA_demandint.groupby(['country'])['Probability of appearance in a single job posting'].sum()\n",
        "IA_demandint2"
      ],
      "execution_count": null,
      "outputs": [
        {
          "output_type": "execute_result",
          "data": {
            "text/plain": [
              "country\n",
              "All    2.593223\n",
              "DEU    1.123426\n",
              "GBR    4.214882\n",
              "USA    3.835558\n",
              "Name: Probability of appearance in a single job posting, dtype: float64"
            ]
          },
          "metadata": {
            "tags": []
          },
          "execution_count": 18
        }
      ]
    },
    {
      "cell_type": "code",
      "metadata": {
        "id": "N-3Thy8XiF_i",
        "colab": {
          "base_uri": "https://localhost:8080/",
          "height": 307
        },
        "outputId": "83f05c69-a0cc-4ddd-984d-df9a7d502616"
      },
      "source": [
        "IA_demandint2.plot(kind='bar', color = (\"cadetblue\", 'peru'),title = 'Probabilidad de obtener trabajo en IA y Machine Learning por paises')\n",
        "plt.show()"
      ],
      "execution_count": null,
      "outputs": [
        {
          "output_type": "display_data",
          "data": {
            "image/png": "[encoded data removed]",
            "text/plain": [
              "<Figure size 432x288 with 1 Axes>"
            ]
          },
          "metadata": {
            "tags": [],
            "needs_background": "light"
          }
        }
      ]
    },
    {
      "cell_type": "markdown",
      "metadata": {
        "id": "-eBPtPEq-Px2"
      },
      "source": [
        "De acuerdo con las estadísticas los resultados por países indican que el panorama mundial respecto a la demanda laboral de estas áreas de IA y Machine learning, tiene un comportamiento creciente, pero de una  forma desigual, donde dominan países como el Reino Unido con una probabilidad de 4.21% por cada oferta de trabajo relacionado a IA a lo largo de los cuatro años y Estados Unidos un 3.83% de probabilidad."
      ]
    },
    {
      "cell_type": "markdown",
      "metadata": {
        "id": "f81WGnwZTiMi"
      },
      "source": [
        "### **Tasa de ocupación a nivel mundial**\n",
        "Fuente: OECD Statstics\n",
        "\n",
        "Variables:\n",
        "\n",
        "*   **Paises:** 30 paises.\n",
        "*   **Sexo**\n",
        "*   **Edad:** Entre 15 a más de 80 años.\n",
        "*   **Categorias:**\n",
        "\n",
        "1. Employment/population ratio.(Relación empleo / población)\n",
        "\n",
        "2. Labour force participation rate. (Tasa de participación de la fuerza laboral)\n",
        "\n",
        "3. Unemployment rate. (Tasa de desempleo)\n",
        "\n",
        "*   **Año:** Desde 2016 hasta el 2019.\n",
        "*   **Porcentaje:** Basado en la población total activa.\n",
        "\n",
        "\n",
        "\n",
        "\n",
        "\n",
        "\n"
      ]
    },
    {
      "cell_type": "code",
      "metadata": {
        "id": "M-wjxYeYK-KB"
      },
      "source": [
        "Tasa_empleo1 = pd.read_csv(\"/content/LFS_SEXAGE_I_R_02072021054030464.csv\")"
      ],
      "execution_count": null,
      "outputs": []
    },
    {
      "cell_type": "code",
      "metadata": {
        "id": "oDg-FTPAP4w1"
      },
      "source": [
        "Tasa_empleo = Tasa_empleo1.drop(['Flags', 'PowerCode', 'PowerCode Code','Reference Period Code', 'Reference Period', 'Flag Codes', 'Time' ], axis = 1 )"
      ],
      "execution_count": null,
      "outputs": []
    },
    {
      "cell_type": "code",
      "metadata": {
        "id": "UfADNhU-tVWW",
        "colab": {
          "base_uri": "https://localhost:8080/"
        },
        "outputId": "2a5ca23b-8bb2-4e97-e49c-ee4ff9a046c8"
      },
      "source": [
        "Tasa_empleo.info()"
      ],
      "execution_count": null,
      "outputs": [
        {
          "output_type": "stream",
          "text": [
            "<class 'pandas.core.frame.DataFrame'>\n",
            "RangeIndex: 32683 entries, 0 to 32682\n",
            "Data columns (total 14 columns):\n",
            " #   Column     Non-Null Count  Dtype  \n",
            "---  ------     --------------  -----  \n",
            " 0   COUNTRY    32683 non-null  object \n",
            " 1   Country    32683 non-null  object \n",
            " 2   SEX        32683 non-null  object \n",
            " 3   Sex        32683 non-null  object \n",
            " 4   AGE        32683 non-null  int64  \n",
            " 5   Age        32683 non-null  object \n",
            " 6   SERIES     32683 non-null  object \n",
            " 7   Series     32683 non-null  object \n",
            " 8   FREQ       32683 non-null  object \n",
            " 9   Frequency  32683 non-null  object \n",
            " 10  TIME       32683 non-null  int64  \n",
            " 11  Unit Code  32683 non-null  object \n",
            " 12  Unit       32683 non-null  object \n",
            " 13  Value      32683 non-null  float64\n",
            "dtypes: float64(1), int64(2), object(11)\n",
            "memory usage: 3.5+ MB\n"
          ],
          "name": "stdout"
        }
      ]
    },
    {
      "cell_type": "code",
      "metadata": {
        "id": "pu_nLxFJskhT",
        "colab": {
          "base_uri": "https://localhost:8080/",
          "height": 337
        },
        "outputId": "189852c6-328e-4557-fbfa-6d6bcb4b79a8"
      },
      "source": [
        "Tasa_empleo_mundo = Tasa_empleo.set_index([\"Country\",\"TIME\"])\n",
        "\n",
        "Tasa_empleo_mundo.head()"
      ],
      "execution_count": null,
      "outputs": [
        {
          "output_type": "execute_result",
          "data": {
            "text/html": [
              "<div>\n",
              "<style scoped>\n",
              "    .dataframe tbody tr th:only-of-type {\n",
              "        vertical-align: middle;\n",
              "    }\n",
              "\n",
              "    .dataframe tbody tr th {\n",
              "        vertical-align: top;\n",
              "    }\n",
              "\n",
              "    .dataframe thead th {\n",
              "        text-align: right;\n",
              "    }\n",
              "</style>\n",
              "<table border=\"1\" class=\"dataframe\">\n",
              "  <thead>\n",
              "    <tr style=\"text-align: right;\">\n",
              "      <th></th>\n",
              "      <th></th>\n",
              "      <th>COUNTRY</th>\n",
              "      <th>SEX</th>\n",
              "      <th>Sex</th>\n",
              "      <th>AGE</th>\n",
              "      <th>Age</th>\n",
              "      <th>SERIES</th>\n",
              "      <th>Series</th>\n",
              "      <th>FREQ</th>\n",
              "      <th>Frequency</th>\n",
              "      <th>Unit Code</th>\n",
              "      <th>Unit</th>\n",
              "      <th>Value</th>\n",
              "    </tr>\n",
              "    <tr>\n",
              "      <th>Country</th>\n",
              "      <th>TIME</th>\n",
              "      <th></th>\n",
              "      <th></th>\n",
              "      <th></th>\n",
              "      <th></th>\n",
              "      <th></th>\n",
              "      <th></th>\n",
              "      <th></th>\n",
              "      <th></th>\n",
              "      <th></th>\n",
              "      <th></th>\n",
              "      <th></th>\n",
              "      <th></th>\n",
              "    </tr>\n",
              "  </thead>\n",
              "  <tbody>\n",
              "    <tr>\n",
              "      <th rowspan=\"5\" valign=\"top\">Australia</th>\n",
              "      <th>2016</th>\n",
              "      <td>AUS</td>\n",
              "      <td>MW</td>\n",
              "      <td>All persons</td>\n",
              "      <td>1519</td>\n",
              "      <td>15 to 19</td>\n",
              "      <td>EPR</td>\n",
              "      <td>Employment/population ratio</td>\n",
              "      <td>A</td>\n",
              "      <td>Annual</td>\n",
              "      <td>PC</td>\n",
              "      <td>Percentage</td>\n",
              "      <td>43.893990</td>\n",
              "    </tr>\n",
              "    <tr>\n",
              "      <th>2017</th>\n",
              "      <td>AUS</td>\n",
              "      <td>MW</td>\n",
              "      <td>All persons</td>\n",
              "      <td>1519</td>\n",
              "      <td>15 to 19</td>\n",
              "      <td>EPR</td>\n",
              "      <td>Employment/population ratio</td>\n",
              "      <td>A</td>\n",
              "      <td>Annual</td>\n",
              "      <td>PC</td>\n",
              "      <td>Percentage</td>\n",
              "      <td>43.725506</td>\n",
              "    </tr>\n",
              "    <tr>\n",
              "      <th>2018</th>\n",
              "      <td>AUS</td>\n",
              "      <td>MW</td>\n",
              "      <td>All persons</td>\n",
              "      <td>1519</td>\n",
              "      <td>15 to 19</td>\n",
              "      <td>EPR</td>\n",
              "      <td>Employment/population ratio</td>\n",
              "      <td>A</td>\n",
              "      <td>Annual</td>\n",
              "      <td>PC</td>\n",
              "      <td>Percentage</td>\n",
              "      <td>45.889107</td>\n",
              "    </tr>\n",
              "    <tr>\n",
              "      <th>2019</th>\n",
              "      <td>AUS</td>\n",
              "      <td>MW</td>\n",
              "      <td>All persons</td>\n",
              "      <td>1519</td>\n",
              "      <td>15 to 19</td>\n",
              "      <td>EPR</td>\n",
              "      <td>Employment/population ratio</td>\n",
              "      <td>A</td>\n",
              "      <td>Annual</td>\n",
              "      <td>PC</td>\n",
              "      <td>Percentage</td>\n",
              "      <td>45.398401</td>\n",
              "    </tr>\n",
              "    <tr>\n",
              "      <th>2016</th>\n",
              "      <td>AUS</td>\n",
              "      <td>MEN</td>\n",
              "      <td>Men</td>\n",
              "      <td>1519</td>\n",
              "      <td>15 to 19</td>\n",
              "      <td>EPR</td>\n",
              "      <td>Employment/population ratio</td>\n",
              "      <td>A</td>\n",
              "      <td>Annual</td>\n",
              "      <td>PC</td>\n",
              "      <td>Percentage</td>\n",
              "      <td>40.956707</td>\n",
              "    </tr>\n",
              "  </tbody>\n",
              "</table>\n",
              "</div>"
            ],
            "text/plain": [
              "               COUNTRY  SEX          Sex  ...  Unit Code        Unit      Value\n",
              "Country   TIME                            ...                                  \n",
              "Australia 2016     AUS   MW  All persons  ...         PC  Percentage  43.893990\n",
              "          2017     AUS   MW  All persons  ...         PC  Percentage  43.725506\n",
              "          2018     AUS   MW  All persons  ...         PC  Percentage  45.889107\n",
              "          2019     AUS   MW  All persons  ...         PC  Percentage  45.398401\n",
              "          2016     AUS  MEN          Men  ...         PC  Percentage  40.956707\n",
              "\n",
              "[5 rows x 12 columns]"
            ]
          },
          "metadata": {
            "tags": []
          },
          "execution_count": 36
        }
      ]
    },
    {
      "cell_type": "code",
      "metadata": {
        "id": "KeCO6rcbtl5c",
        "colab": {
          "base_uri": "https://localhost:8080/",
          "height": 297
        },
        "outputId": "60c0f6e2-9431-48eb-8166-9518b518b500"
      },
      "source": [
        "Tasa_empleo_mundo.describe()"
      ],
      "execution_count": null,
      "outputs": [
        {
          "output_type": "execute_result",
          "data": {
            "text/html": [
              "<div>\n",
              "<style scoped>\n",
              "    .dataframe tbody tr th:only-of-type {\n",
              "        vertical-align: middle;\n",
              "    }\n",
              "\n",
              "    .dataframe tbody tr th {\n",
              "        vertical-align: top;\n",
              "    }\n",
              "\n",
              "    .dataframe thead th {\n",
              "        text-align: right;\n",
              "    }\n",
              "</style>\n",
              "<table border=\"1\" class=\"dataframe\">\n",
              "  <thead>\n",
              "    <tr style=\"text-align: right;\">\n",
              "      <th></th>\n",
              "      <th>AGE</th>\n",
              "      <th>Value</th>\n",
              "    </tr>\n",
              "  </thead>\n",
              "  <tbody>\n",
              "    <tr>\n",
              "      <th>count</th>\n",
              "      <td>32683.000000</td>\n",
              "      <td>32683.000000</td>\n",
              "    </tr>\n",
              "    <tr>\n",
              "      <th>mean</th>\n",
              "      <td>42625.256280</td>\n",
              "      <td>42.503809</td>\n",
              "    </tr>\n",
              "    <tr>\n",
              "      <th>std</th>\n",
              "      <td>181659.374315</td>\n",
              "      <td>35.145397</td>\n",
              "    </tr>\n",
              "    <tr>\n",
              "      <th>min</th>\n",
              "      <td>1519.000000</td>\n",
              "      <td>0.000000</td>\n",
              "    </tr>\n",
              "    <tr>\n",
              "      <th>25%</th>\n",
              "      <td>2534.000000</td>\n",
              "      <td>5.582966</td>\n",
              "    </tr>\n",
              "    <tr>\n",
              "      <th>50%</th>\n",
              "      <td>4044.000000</td>\n",
              "      <td>41.046365</td>\n",
              "    </tr>\n",
              "    <tr>\n",
              "      <th>75%</th>\n",
              "      <td>6064.000000</td>\n",
              "      <td>78.940362</td>\n",
              "    </tr>\n",
              "    <tr>\n",
              "      <th>max</th>\n",
              "      <td>900000.000000</td>\n",
              "      <td>97.633569</td>\n",
              "    </tr>\n",
              "  </tbody>\n",
              "</table>\n",
              "</div>"
            ],
            "text/plain": [
              "                 AGE         Value\n",
              "count   32683.000000  32683.000000\n",
              "mean    42625.256280     42.503809\n",
              "std    181659.374315     35.145397\n",
              "min      1519.000000      0.000000\n",
              "25%      2534.000000      5.582966\n",
              "50%      4044.000000     41.046365\n",
              "75%      6064.000000     78.940362\n",
              "max    900000.000000     97.633569"
            ]
          },
          "metadata": {
            "tags": []
          },
          "execution_count": 27
        }
      ]
    },
    {
      "cell_type": "code",
      "metadata": {
        "colab": {
          "base_uri": "https://localhost:8080/",
          "height": 450
        },
        "id": "wOWrY3PPAYoB",
        "outputId": "3b1d9fd2-d3b6-4b23-a6c8-13819e2c54ff"
      },
      "source": [
        "Empleo = Tasa_empleo_mundo.groupby(['Country','Value' ])['Series'].describe()\n",
        "Empleo"
      ],
      "execution_count": null,
      "outputs": [
        {
          "output_type": "execute_result",
          "data": {
            "text/html": [
              "<div>\n",
              "<style scoped>\n",
              "    .dataframe tbody tr th:only-of-type {\n",
              "        vertical-align: middle;\n",
              "    }\n",
              "\n",
              "    .dataframe tbody tr th {\n",
              "        vertical-align: top;\n",
              "    }\n",
              "\n",
              "    .dataframe thead th {\n",
              "        text-align: right;\n",
              "    }\n",
              "</style>\n",
              "<table border=\"1\" class=\"dataframe\">\n",
              "  <thead>\n",
              "    <tr style=\"text-align: right;\">\n",
              "      <th></th>\n",
              "      <th></th>\n",
              "      <th>count</th>\n",
              "      <th>unique</th>\n",
              "      <th>top</th>\n",
              "      <th>freq</th>\n",
              "    </tr>\n",
              "    <tr>\n",
              "      <th>Country</th>\n",
              "      <th>Value</th>\n",
              "      <th></th>\n",
              "      <th></th>\n",
              "      <th></th>\n",
              "      <th></th>\n",
              "    </tr>\n",
              "  </thead>\n",
              "  <tbody>\n",
              "    <tr>\n",
              "      <th rowspan=\"5\" valign=\"top\">Australia</th>\n",
              "      <th>1.029526</th>\n",
              "      <td>1</td>\n",
              "      <td>1</td>\n",
              "      <td>Unemployment rate</td>\n",
              "      <td>1</td>\n",
              "    </tr>\n",
              "    <tr>\n",
              "      <th>1.037786</th>\n",
              "      <td>1</td>\n",
              "      <td>1</td>\n",
              "      <td>Unemployment rate</td>\n",
              "      <td>1</td>\n",
              "    </tr>\n",
              "    <tr>\n",
              "      <th>1.042088</th>\n",
              "      <td>1</td>\n",
              "      <td>1</td>\n",
              "      <td>Unemployment rate</td>\n",
              "      <td>1</td>\n",
              "    </tr>\n",
              "    <tr>\n",
              "      <th>1.070002</th>\n",
              "      <td>1</td>\n",
              "      <td>1</td>\n",
              "      <td>Unemployment rate</td>\n",
              "      <td>1</td>\n",
              "    </tr>\n",
              "    <tr>\n",
              "      <th>1.167092</th>\n",
              "      <td>1</td>\n",
              "      <td>1</td>\n",
              "      <td>Unemployment rate</td>\n",
              "      <td>1</td>\n",
              "    </tr>\n",
              "    <tr>\n",
              "      <th>...</th>\n",
              "      <th>...</th>\n",
              "      <td>...</td>\n",
              "      <td>...</td>\n",
              "      <td>...</td>\n",
              "      <td>...</td>\n",
              "    </tr>\n",
              "    <tr>\n",
              "      <th rowspan=\"5\" valign=\"top\">United States</th>\n",
              "      <th>90.826052</th>\n",
              "      <td>1</td>\n",
              "      <td>1</td>\n",
              "      <td>Labour force participation rate</td>\n",
              "      <td>1</td>\n",
              "    </tr>\n",
              "    <tr>\n",
              "      <th>90.897486</th>\n",
              "      <td>1</td>\n",
              "      <td>1</td>\n",
              "      <td>Labour force participation rate</td>\n",
              "      <td>1</td>\n",
              "    </tr>\n",
              "    <tr>\n",
              "      <th>90.919125</th>\n",
              "      <td>1</td>\n",
              "      <td>1</td>\n",
              "      <td>Labour force participation rate</td>\n",
              "      <td>1</td>\n",
              "    </tr>\n",
              "    <tr>\n",
              "      <th>91.049649</th>\n",
              "      <td>1</td>\n",
              "      <td>1</td>\n",
              "      <td>Labour force participation rate</td>\n",
              "      <td>1</td>\n",
              "    </tr>\n",
              "    <tr>\n",
              "      <th>91.114701</th>\n",
              "      <td>1</td>\n",
              "      <td>1</td>\n",
              "      <td>Labour force participation rate</td>\n",
              "      <td>1</td>\n",
              "    </tr>\n",
              "  </tbody>\n",
              "</table>\n",
              "<p>31478 rows × 4 columns</p>\n",
              "</div>"
            ],
            "text/plain": [
              "                        count unique                              top freq\n",
              "Country       Value                                                       \n",
              "Australia     1.029526      1      1                Unemployment rate    1\n",
              "              1.037786      1      1                Unemployment rate    1\n",
              "              1.042088      1      1                Unemployment rate    1\n",
              "              1.070002      1      1                Unemployment rate    1\n",
              "              1.167092      1      1                Unemployment rate    1\n",
              "...                       ...    ...                              ...  ...\n",
              "United States 90.826052     1      1  Labour force participation rate    1\n",
              "              90.897486     1      1  Labour force participation rate    1\n",
              "              90.919125     1      1  Labour force participation rate    1\n",
              "              91.049649     1      1  Labour force participation rate    1\n",
              "              91.114701     1      1  Labour force participation rate    1\n",
              "\n",
              "[31478 rows x 4 columns]"
            ]
          },
          "metadata": {
            "tags": []
          },
          "execution_count": 35
        }
      ]
    },
    {
      "cell_type": "markdown",
      "metadata": {
        "id": "SJMaF7VOGRTn"
      },
      "source": [
        "**AMERICA**"
      ]
    },
    {
      "cell_type": "code",
      "metadata": {
        "colab": {
          "base_uri": "https://localhost:8080/",
          "height": 450
        },
        "id": "pc5WgF8tCD9p",
        "outputId": "97538188-6576-4d0f-998f-39d289fc8a21"
      },
      "source": [
        "Empleo_amca = [\"Colombia\" , \"Mexico\" ,'Chile', \"United States\"]\n",
        "\n",
        "Empleo_America = Empleo.loc[Empleo_amca]\n",
        "Empleo_America.round(3)"
      ],
      "execution_count": null,
      "outputs": [
        {
          "output_type": "execute_result",
          "data": {
            "text/html": [
              "<div>\n",
              "<style scoped>\n",
              "    .dataframe tbody tr th:only-of-type {\n",
              "        vertical-align: middle;\n",
              "    }\n",
              "\n",
              "    .dataframe tbody tr th {\n",
              "        vertical-align: top;\n",
              "    }\n",
              "\n",
              "    .dataframe thead th {\n",
              "        text-align: right;\n",
              "    }\n",
              "</style>\n",
              "<table border=\"1\" class=\"dataframe\">\n",
              "  <thead>\n",
              "    <tr style=\"text-align: right;\">\n",
              "      <th></th>\n",
              "      <th></th>\n",
              "      <th>count</th>\n",
              "      <th>unique</th>\n",
              "      <th>top</th>\n",
              "      <th>freq</th>\n",
              "    </tr>\n",
              "    <tr>\n",
              "      <th>Country</th>\n",
              "      <th>Value</th>\n",
              "      <th></th>\n",
              "      <th></th>\n",
              "      <th></th>\n",
              "      <th></th>\n",
              "    </tr>\n",
              "  </thead>\n",
              "  <tbody>\n",
              "    <tr>\n",
              "      <th rowspan=\"5\" valign=\"top\">Colombia</th>\n",
              "      <th>0.000000</th>\n",
              "      <td>1</td>\n",
              "      <td>1</td>\n",
              "      <td>Unemployment rate</td>\n",
              "      <td>1</td>\n",
              "    </tr>\n",
              "    <tr>\n",
              "      <th>0.375783</th>\n",
              "      <td>1</td>\n",
              "      <td>1</td>\n",
              "      <td>Unemployment rate</td>\n",
              "      <td>1</td>\n",
              "    </tr>\n",
              "    <tr>\n",
              "      <th>0.461023</th>\n",
              "      <td>1</td>\n",
              "      <td>1</td>\n",
              "      <td>Unemployment rate</td>\n",
              "      <td>1</td>\n",
              "    </tr>\n",
              "    <tr>\n",
              "      <th>0.900611</th>\n",
              "      <td>1</td>\n",
              "      <td>1</td>\n",
              "      <td>Unemployment rate</td>\n",
              "      <td>1</td>\n",
              "    </tr>\n",
              "    <tr>\n",
              "      <th>1.068005</th>\n",
              "      <td>1</td>\n",
              "      <td>1</td>\n",
              "      <td>Unemployment rate</td>\n",
              "      <td>1</td>\n",
              "    </tr>\n",
              "    <tr>\n",
              "      <th>...</th>\n",
              "      <th>...</th>\n",
              "      <td>...</td>\n",
              "      <td>...</td>\n",
              "      <td>...</td>\n",
              "      <td>...</td>\n",
              "    </tr>\n",
              "    <tr>\n",
              "      <th rowspan=\"5\" valign=\"top\">United States</th>\n",
              "      <th>90.826052</th>\n",
              "      <td>1</td>\n",
              "      <td>1</td>\n",
              "      <td>Labour force participation rate</td>\n",
              "      <td>1</td>\n",
              "    </tr>\n",
              "    <tr>\n",
              "      <th>90.897486</th>\n",
              "      <td>1</td>\n",
              "      <td>1</td>\n",
              "      <td>Labour force participation rate</td>\n",
              "      <td>1</td>\n",
              "    </tr>\n",
              "    <tr>\n",
              "      <th>90.919125</th>\n",
              "      <td>1</td>\n",
              "      <td>1</td>\n",
              "      <td>Labour force participation rate</td>\n",
              "      <td>1</td>\n",
              "    </tr>\n",
              "    <tr>\n",
              "      <th>91.049649</th>\n",
              "      <td>1</td>\n",
              "      <td>1</td>\n",
              "      <td>Labour force participation rate</td>\n",
              "      <td>1</td>\n",
              "    </tr>\n",
              "    <tr>\n",
              "      <th>91.114701</th>\n",
              "      <td>1</td>\n",
              "      <td>1</td>\n",
              "      <td>Labour force participation rate</td>\n",
              "      <td>1</td>\n",
              "    </tr>\n",
              "  </tbody>\n",
              "</table>\n",
              "<p>3415 rows × 4 columns</p>\n",
              "</div>"
            ],
            "text/plain": [
              "                        count unique                              top freq\n",
              "Country       Value                                                       \n",
              "Colombia      0.000000      1      1                Unemployment rate    1\n",
              "              0.375783      1      1                Unemployment rate    1\n",
              "              0.461023      1      1                Unemployment rate    1\n",
              "              0.900611      1      1                Unemployment rate    1\n",
              "              1.068005      1      1                Unemployment rate    1\n",
              "...                       ...    ...                              ...  ...\n",
              "United States 90.826052     1      1  Labour force participation rate    1\n",
              "              90.897486     1      1  Labour force participation rate    1\n",
              "              90.919125     1      1  Labour force participation rate    1\n",
              "              91.049649     1      1  Labour force participation rate    1\n",
              "              91.114701     1      1  Labour force participation rate    1\n",
              "\n",
              "[3415 rows x 4 columns]"
            ]
          },
          "metadata": {
            "tags": []
          },
          "execution_count": 39
        }
      ]
    },
    {
      "cell_type": "code",
      "metadata": {
        "colab": {
          "base_uri": "https://localhost:8080/"
        },
        "id": "DGSRUUvvDYZn",
        "outputId": "6e8778c0-3f57-48cc-e868-bed0c6969804"
      },
      "source": [
        "Empleo_value = Empleo_America.mean(1)\n",
        "Empleo_value"
      ],
      "execution_count": null,
      "outputs": [
        {
          "output_type": "execute_result",
          "data": {
            "text/plain": [
              "Country        Value    \n",
              "Colombia       0.000000    NaN\n",
              "               0.375783    NaN\n",
              "               0.461023    NaN\n",
              "               0.900611    NaN\n",
              "               1.068005    NaN\n",
              "                            ..\n",
              "United States  90.826052   NaN\n",
              "               90.897486   NaN\n",
              "               90.919125   NaN\n",
              "               91.049649   NaN\n",
              "               91.114701   NaN\n",
              "Length: 3415, dtype: float64"
            ]
          },
          "metadata": {
            "tags": []
          },
          "execution_count": 57
        }
      ]
    },
    {
      "cell_type": "markdown",
      "metadata": {
        "id": "ueDXPJKUv-F-"
      },
      "source": [
        "### **Población con acceso a TICS**\n",
        "\n",
        "**Variables:**\n",
        "\n",
        "*   **Años:** Desde el 2016 hasta el 2019.\n",
        "*   **Paises:** 197 paises.\n",
        "*   **Regiones:** Africa,Arab States, Asia & Pacific,Europe, The Americas.\n",
        "*   **Indicadores:**\n",
        "\n",
        "1. Female Internet users as a % of total female population. (Mujeres usuarias de Internet como% del total de la población femenina.)\n",
        "\n",
        "2. Female mobile phone ownership as a % of total female population.(Propiedad femenina de teléfonos móviles como% del total de la población femenina.)\n",
        "\n",
        "3. Fixed broadband basket as a % of GNI p.c.(Canasta de banda ancha fija como% del INB p.c. )\n",
        "\n",
        "4. Households with a computer at home (%).( Hogares con ordenador en casa (%). )\n",
        "\n",
        "5. Households with Internet access at home, urban (%).(Hogares con acceso a Internet en el hogar, urbano (%).)\n",
        "\n",
        "6. Individuals using the Internet, total (%).(Personas que utilizan Internet, total (%). )\n",
        "\n",
        "7. Individuals with advanced ICT skills (%).(Individuos con habilidades TIC avanzadas (%).)\n",
        "\n",
        "8. Individuals with basic ICT skills (%).(Personas con competencias básicas en TIC (%). )\n",
        "\n",
        "9. Individuals with standard ICT skills (%).(Personas con competencias estándar en TIC (%). )\n",
        "\n",
        "10. International bandwidth per Internet user (kbit/s).(Ancho de banda internacional por usuario de Internet (kbit / s).  )\n",
        "\n",
        "11. Internet users: < 15 years as a % of all < 15 years.( Usuarios de Internet: <15 años como% de todos los <15 años.)\n",
        "\n",
        "12. Internet users: 15-24 years as a % of all 15-24 years.(Usuarios de Internet: 15-24 años como% de todos los 15-24 años.  )\n",
        "\n",
        "13. Internet users: 25-74 years as a % of all 25-74 years.(Usuarios de Internet: 25-74 años como% de todos los 25-74 años.  )\n",
        "\n",
        "14. Internet users: 75+ years as a % of all 75+ years.( Usuarios de Internet: 75+ años como% de los 75+ años. )\n",
        "\n",
        "15. Male Internet users as a % of total male population.(Usuarios masculinos de Internet como porcentaje del total de la población masculina.  )\n",
        "\n",
        "16. Male mobile phone ownership as a % of total male population(Propiedad masculina de teléfonos móviles como% del total de la población masculina  )\n",
        "\n",
        "17. Mobile broadband basket as a % of GNI p.c.(Canasta de banda ancha móvil como% del PIB p.c.  )\n",
        "\n",
        "18. Mobile-cellular subscriptions per 100 inhabitants.(Suscripciones a telefonía móvil por cada 100 habitantes.  )\n",
        "\n",
        "19. Monthly mobile broadband Internet traffic per mobile broadband subscription\n",
        "(MB).(Tráfico mensual de Internet de banda ancha móvil por suscripción de banda ancha móvil (MB). )\n",
        "\n",
        "20. Population covered by a mobile-cellular network (%).(Población cubierta por una red celular móvil (%). )\n",
        "\n",
        "21. Population covered by at least a 3G mobile network (%).(Población cubierta por al menos una red móvil 3G (%).  )\n",
        "\n",
        "23. Population covered by at least a 4G mobile network (%).(Población cubierta por al menos una red móvil 4G (%).  )\n",
        "\n",
        "24. Total fixed broadband subscriptions.( Suscripciones totales de banda ancha fija. )\n",
        "\n",
        "\n",
        "\n",
        "\n",
        "\n"
      ]
    },
    {
      "cell_type": "code",
      "metadata": {
        "id": "pWWjrSRSwFYN",
        "colab": {
          "base_uri": "https://localhost:8080/",
          "height": 419
        },
        "outputId": "8b46c41d-a247-435b-cd20-f0581d3f3497"
      },
      "source": [
        "import pandas as pd\n",
        "\n",
        "pobla_tics= pd.read_excel('/content/Acceso población a TICS.xlsx')\n",
        "pobla_tics"
      ],
      "execution_count": null,
      "outputs": [
        {
          "output_type": "execute_result",
          "data": {
            "text/html": [
              "<div>\n",
              "<style scoped>\n",
              "    .dataframe tbody tr th:only-of-type {\n",
              "        vertical-align: middle;\n",
              "    }\n",
              "\n",
              "    .dataframe tbody tr th {\n",
              "        vertical-align: top;\n",
              "    }\n",
              "\n",
              "    .dataframe thead th {\n",
              "        text-align: right;\n",
              "    }\n",
              "</style>\n",
              "<table border=\"1\" class=\"dataframe\">\n",
              "  <thead>\n",
              "    <tr style=\"text-align: right;\">\n",
              "      <th></th>\n",
              "      <th>Country</th>\n",
              "      <th>Region</th>\n",
              "      <th>ISO</th>\n",
              "      <th>Indicator name</th>\n",
              "      <th>Year</th>\n",
              "      <th>Value</th>\n",
              "    </tr>\n",
              "  </thead>\n",
              "  <tbody>\n",
              "    <tr>\n",
              "      <th>0</th>\n",
              "      <td>Armenia</td>\n",
              "      <td>CIS</td>\n",
              "      <td>ARM</td>\n",
              "      <td>Female Internet users as a % of total female p...</td>\n",
              "      <td>2016</td>\n",
              "      <td>6.336845e+01</td>\n",
              "    </tr>\n",
              "    <tr>\n",
              "      <th>1</th>\n",
              "      <td>Austria</td>\n",
              "      <td>Europe</td>\n",
              "      <td>AUT</td>\n",
              "      <td>Female Internet users as a % of total female p...</td>\n",
              "      <td>2016</td>\n",
              "      <td>8.073138e+01</td>\n",
              "    </tr>\n",
              "    <tr>\n",
              "      <th>2</th>\n",
              "      <td>Belgium</td>\n",
              "      <td>Europe</td>\n",
              "      <td>BEL</td>\n",
              "      <td>Female Internet users as a % of total female p...</td>\n",
              "      <td>2016</td>\n",
              "      <td>8.543921e+01</td>\n",
              "    </tr>\n",
              "    <tr>\n",
              "      <th>3</th>\n",
              "      <td>Bulgaria</td>\n",
              "      <td>Europe</td>\n",
              "      <td>BGR</td>\n",
              "      <td>Female Internet users as a % of total female p...</td>\n",
              "      <td>2016</td>\n",
              "      <td>5.912575e+01</td>\n",
              "    </tr>\n",
              "    <tr>\n",
              "      <th>4</th>\n",
              "      <td>Croatia</td>\n",
              "      <td>Europe</td>\n",
              "      <td>HRV</td>\n",
              "      <td>Female Internet users as a % of total female p...</td>\n",
              "      <td>2016</td>\n",
              "      <td>6.873948e+01</td>\n",
              "    </tr>\n",
              "    <tr>\n",
              "      <th>...</th>\n",
              "      <td>...</td>\n",
              "      <td>...</td>\n",
              "      <td>...</td>\n",
              "      <td>...</td>\n",
              "      <td>...</td>\n",
              "      <td>...</td>\n",
              "    </tr>\n",
              "    <tr>\n",
              "      <th>32261</th>\n",
              "      <td>Suriname</td>\n",
              "      <td>The Americas</td>\n",
              "      <td>SUR</td>\n",
              "      <td>Total fixed broadband subscriptions</td>\n",
              "      <td>2019</td>\n",
              "      <td>8.032000e+04</td>\n",
              "    </tr>\n",
              "    <tr>\n",
              "      <th>32262</th>\n",
              "      <td>Trinidad and Tobago</td>\n",
              "      <td>The Americas</td>\n",
              "      <td>TTO</td>\n",
              "      <td>Total fixed broadband subscriptions</td>\n",
              "      <td>2019</td>\n",
              "      <td>3.393400e+05</td>\n",
              "    </tr>\n",
              "    <tr>\n",
              "      <th>32263</th>\n",
              "      <td>United States</td>\n",
              "      <td>The Americas</td>\n",
              "      <td>USA</td>\n",
              "      <td>Total fixed broadband subscriptions</td>\n",
              "      <td>2019</td>\n",
              "      <td>1.142590e+08</td>\n",
              "    </tr>\n",
              "    <tr>\n",
              "      <th>32264</th>\n",
              "      <td>Uruguay</td>\n",
              "      <td>The Americas</td>\n",
              "      <td>URY</td>\n",
              "      <td>Total fixed broadband subscriptions</td>\n",
              "      <td>2019</td>\n",
              "      <td>1.012410e+06</td>\n",
              "    </tr>\n",
              "    <tr>\n",
              "      <th>32265</th>\n",
              "      <td>Venezuela</td>\n",
              "      <td>The Americas</td>\n",
              "      <td>VEN</td>\n",
              "      <td>Total fixed broadband subscriptions</td>\n",
              "      <td>2019</td>\n",
              "      <td>2.560994e+06</td>\n",
              "    </tr>\n",
              "  </tbody>\n",
              "</table>\n",
              "<p>32266 rows × 6 columns</p>\n",
              "</div>"
            ],
            "text/plain": [
              "                   Country        Region  ...  Year         Value\n",
              "0                  Armenia           CIS  ...  2016  6.336845e+01\n",
              "1                  Austria        Europe  ...  2016  8.073138e+01\n",
              "2                  Belgium        Europe  ...  2016  8.543921e+01\n",
              "3                 Bulgaria        Europe  ...  2016  5.912575e+01\n",
              "4                  Croatia        Europe  ...  2016  6.873948e+01\n",
              "...                    ...           ...  ...   ...           ...\n",
              "32261             Suriname  The Americas  ...  2019  8.032000e+04\n",
              "32262  Trinidad and Tobago  The Americas  ...  2019  3.393400e+05\n",
              "32263        United States  The Americas  ...  2019  1.142590e+08\n",
              "32264              Uruguay  The Americas  ...  2019  1.012410e+06\n",
              "32265            Venezuela  The Americas  ...  2019  2.560994e+06\n",
              "\n",
              "[32266 rows x 6 columns]"
            ]
          },
          "metadata": {
            "tags": []
          },
          "execution_count": 65
        }
      ]
    },
    {
      "cell_type": "code",
      "metadata": {
        "id": "HajbHbgXmjpw",
        "colab": {
          "base_uri": "https://localhost:8080/"
        },
        "outputId": "c2f0f56d-ed3a-48e4-c488-1b5d4a32eee0"
      },
      "source": [
        "pobla_tics.info()"
      ],
      "execution_count": null,
      "outputs": [
        {
          "output_type": "stream",
          "text": [
            "<class 'pandas.core.frame.DataFrame'>\n",
            "RangeIndex: 32266 entries, 0 to 32265\n",
            "Data columns (total 6 columns):\n",
            " #   Column          Non-Null Count  Dtype  \n",
            "---  ------          --------------  -----  \n",
            " 0   Country         32266 non-null  object \n",
            " 1   Region          32266 non-null  object \n",
            " 2   ISO             32266 non-null  object \n",
            " 3   Indicator name  32266 non-null  object \n",
            " 4   Year            32266 non-null  int64  \n",
            " 5   Value           20133 non-null  float64\n",
            "dtypes: float64(1), int64(1), object(4)\n",
            "memory usage: 1.5+ MB\n"
          ],
          "name": "stdout"
        }
      ]
    },
    {
      "cell_type": "code",
      "metadata": {
        "colab": {
          "base_uri": "https://localhost:8080/",
          "height": 450
        },
        "id": "HD62Z2keg33m",
        "outputId": "69990719-a69e-48c9-b36d-c5253840eb39"
      },
      "source": [
        "pobtics = pobla_tics.set_index([\"Country\",\"Year\"])\n",
        "pobtics"
      ],
      "execution_count": null,
      "outputs": [
        {
          "output_type": "execute_result",
          "data": {
            "text/html": [
              "<div>\n",
              "<style scoped>\n",
              "    .dataframe tbody tr th:only-of-type {\n",
              "        vertical-align: middle;\n",
              "    }\n",
              "\n",
              "    .dataframe tbody tr th {\n",
              "        vertical-align: top;\n",
              "    }\n",
              "\n",
              "    .dataframe thead th {\n",
              "        text-align: right;\n",
              "    }\n",
              "</style>\n",
              "<table border=\"1\" class=\"dataframe\">\n",
              "  <thead>\n",
              "    <tr style=\"text-align: right;\">\n",
              "      <th></th>\n",
              "      <th></th>\n",
              "      <th>Region</th>\n",
              "      <th>ISO</th>\n",
              "      <th>Indicator name</th>\n",
              "      <th>Value</th>\n",
              "    </tr>\n",
              "    <tr>\n",
              "      <th>Country</th>\n",
              "      <th>Year</th>\n",
              "      <th></th>\n",
              "      <th></th>\n",
              "      <th></th>\n",
              "      <th></th>\n",
              "    </tr>\n",
              "  </thead>\n",
              "  <tbody>\n",
              "    <tr>\n",
              "      <th>Armenia</th>\n",
              "      <th>2016</th>\n",
              "      <td>CIS</td>\n",
              "      <td>ARM</td>\n",
              "      <td>Female Internet users as a % of total female p...</td>\n",
              "      <td>6.336845e+01</td>\n",
              "    </tr>\n",
              "    <tr>\n",
              "      <th>Austria</th>\n",
              "      <th>2016</th>\n",
              "      <td>Europe</td>\n",
              "      <td>AUT</td>\n",
              "      <td>Female Internet users as a % of total female p...</td>\n",
              "      <td>8.073138e+01</td>\n",
              "    </tr>\n",
              "    <tr>\n",
              "      <th>Belgium</th>\n",
              "      <th>2016</th>\n",
              "      <td>Europe</td>\n",
              "      <td>BEL</td>\n",
              "      <td>Female Internet users as a % of total female p...</td>\n",
              "      <td>8.543921e+01</td>\n",
              "    </tr>\n",
              "    <tr>\n",
              "      <th>Bulgaria</th>\n",
              "      <th>2016</th>\n",
              "      <td>Europe</td>\n",
              "      <td>BGR</td>\n",
              "      <td>Female Internet users as a % of total female p...</td>\n",
              "      <td>5.912575e+01</td>\n",
              "    </tr>\n",
              "    <tr>\n",
              "      <th>Croatia</th>\n",
              "      <th>2016</th>\n",
              "      <td>Europe</td>\n",
              "      <td>HRV</td>\n",
              "      <td>Female Internet users as a % of total female p...</td>\n",
              "      <td>6.873948e+01</td>\n",
              "    </tr>\n",
              "    <tr>\n",
              "      <th>...</th>\n",
              "      <th>...</th>\n",
              "      <td>...</td>\n",
              "      <td>...</td>\n",
              "      <td>...</td>\n",
              "      <td>...</td>\n",
              "    </tr>\n",
              "    <tr>\n",
              "      <th>Suriname</th>\n",
              "      <th>2019</th>\n",
              "      <td>The Americas</td>\n",
              "      <td>SUR</td>\n",
              "      <td>Total fixed broadband subscriptions</td>\n",
              "      <td>8.032000e+04</td>\n",
              "    </tr>\n",
              "    <tr>\n",
              "      <th>Trinidad and Tobago</th>\n",
              "      <th>2019</th>\n",
              "      <td>The Americas</td>\n",
              "      <td>TTO</td>\n",
              "      <td>Total fixed broadband subscriptions</td>\n",
              "      <td>3.393400e+05</td>\n",
              "    </tr>\n",
              "    <tr>\n",
              "      <th>United States</th>\n",
              "      <th>2019</th>\n",
              "      <td>The Americas</td>\n",
              "      <td>USA</td>\n",
              "      <td>Total fixed broadband subscriptions</td>\n",
              "      <td>1.142590e+08</td>\n",
              "    </tr>\n",
              "    <tr>\n",
              "      <th>Uruguay</th>\n",
              "      <th>2019</th>\n",
              "      <td>The Americas</td>\n",
              "      <td>URY</td>\n",
              "      <td>Total fixed broadband subscriptions</td>\n",
              "      <td>1.012410e+06</td>\n",
              "    </tr>\n",
              "    <tr>\n",
              "      <th>Venezuela</th>\n",
              "      <th>2019</th>\n",
              "      <td>The Americas</td>\n",
              "      <td>VEN</td>\n",
              "      <td>Total fixed broadband subscriptions</td>\n",
              "      <td>2.560994e+06</td>\n",
              "    </tr>\n",
              "  </tbody>\n",
              "</table>\n",
              "<p>32266 rows × 4 columns</p>\n",
              "</div>"
            ],
            "text/plain": [
              "                                Region  ...         Value\n",
              "Country             Year                ...              \n",
              "Armenia             2016           CIS  ...  6.336845e+01\n",
              "Austria             2016        Europe  ...  8.073138e+01\n",
              "Belgium             2016        Europe  ...  8.543921e+01\n",
              "Bulgaria            2016        Europe  ...  5.912575e+01\n",
              "Croatia             2016        Europe  ...  6.873948e+01\n",
              "...                                ...  ...           ...\n",
              "Suriname            2019  The Americas  ...  8.032000e+04\n",
              "Trinidad and Tobago 2019  The Americas  ...  3.393400e+05\n",
              "United States       2019  The Americas  ...  1.142590e+08\n",
              "Uruguay             2019  The Americas  ...  1.012410e+06\n",
              "Venezuela           2019  The Americas  ...  2.560994e+06\n",
              "\n",
              "[32266 rows x 4 columns]"
            ]
          },
          "metadata": {
            "tags": []
          },
          "execution_count": 67
        }
      ]
    },
    {
      "cell_type": "code",
      "metadata": {
        "colab": {
          "base_uri": "https://localhost:8080/"
        },
        "id": "ljYg0u-emy5E",
        "outputId": "e4c5ce5a-2b71-4896-cac8-8736ec47673d"
      },
      "source": [
        "pobtics['Value'].describe()"
      ],
      "execution_count": null,
      "outputs": [
        {
          "output_type": "execute_result",
          "data": {
            "text/plain": [
              "count    2.013300e+04\n",
              "mean     3.949606e+05\n",
              "std      7.968256e+06\n",
              "min      0.000000e+00\n",
              "25%      1.618566e+01\n",
              "50%      7.690743e+01\n",
              "75%      1.000000e+02\n",
              "max      4.492790e+08\n",
              "Name: Value, dtype: float64"
            ]
          },
          "metadata": {
            "tags": []
          },
          "execution_count": 68
        }
      ]
    },
    {
      "cell_type": "code",
      "metadata": {
        "colab": {
          "base_uri": "https://localhost:8080/",
          "height": 450
        },
        "id": "Prao9-KasRmg",
        "outputId": "f32d9644-afdd-4eac-e0a3-e1da9d304353"
      },
      "source": [
        "pobtics_amca = [\"Colombia\" , \"Brazil\" , \"United States\"]\n",
        "\n",
        "pobtics_America = pobtics.loc[pobtics_amca]\n",
        "pobtics_America.round(3)"
      ],
      "execution_count": null,
      "outputs": [
        {
          "output_type": "execute_result",
          "data": {
            "text/html": [
              "<div>\n",
              "<style scoped>\n",
              "    .dataframe tbody tr th:only-of-type {\n",
              "        vertical-align: middle;\n",
              "    }\n",
              "\n",
              "    .dataframe tbody tr th {\n",
              "        vertical-align: top;\n",
              "    }\n",
              "\n",
              "    .dataframe thead th {\n",
              "        text-align: right;\n",
              "    }\n",
              "</style>\n",
              "<table border=\"1\" class=\"dataframe\">\n",
              "  <thead>\n",
              "    <tr style=\"text-align: right;\">\n",
              "      <th></th>\n",
              "      <th></th>\n",
              "      <th>Region</th>\n",
              "      <th>ISO</th>\n",
              "      <th>Indicator name</th>\n",
              "      <th>Value</th>\n",
              "    </tr>\n",
              "    <tr>\n",
              "      <th>Country</th>\n",
              "      <th>Year</th>\n",
              "      <th></th>\n",
              "      <th></th>\n",
              "      <th></th>\n",
              "      <th></th>\n",
              "    </tr>\n",
              "  </thead>\n",
              "  <tbody>\n",
              "    <tr>\n",
              "      <th rowspan=\"5\" valign=\"top\">Colombia</th>\n",
              "      <th>2016</th>\n",
              "      <td>The Americas</td>\n",
              "      <td>COL</td>\n",
              "      <td>Female Internet users as a % of total female p...</td>\n",
              "      <td>5.817400e+01</td>\n",
              "    </tr>\n",
              "    <tr>\n",
              "      <th>2017</th>\n",
              "      <td>The Americas</td>\n",
              "      <td>COL</td>\n",
              "      <td>Female Internet users as a % of total female p...</td>\n",
              "      <td>6.242000e+01</td>\n",
              "    </tr>\n",
              "    <tr>\n",
              "      <th>2018</th>\n",
              "      <td>The Americas</td>\n",
              "      <td>COL</td>\n",
              "      <td>Female Internet users as a % of total female p...</td>\n",
              "      <td>6.458900e+01</td>\n",
              "    </tr>\n",
              "    <tr>\n",
              "      <th>2019</th>\n",
              "      <td>The Americas</td>\n",
              "      <td>COL</td>\n",
              "      <td>Female Internet users as a % of total female p...</td>\n",
              "      <td>6.589700e+01</td>\n",
              "    </tr>\n",
              "    <tr>\n",
              "      <th>2016</th>\n",
              "      <td>The Americas</td>\n",
              "      <td>COL</td>\n",
              "      <td>Female mobile phone ownership as a % of total ...</td>\n",
              "      <td>7.310300e+01</td>\n",
              "    </tr>\n",
              "    <tr>\n",
              "      <th>...</th>\n",
              "      <th>...</th>\n",
              "      <td>...</td>\n",
              "      <td>...</td>\n",
              "      <td>...</td>\n",
              "      <td>...</td>\n",
              "    </tr>\n",
              "    <tr>\n",
              "      <th rowspan=\"5\" valign=\"top\">United States</th>\n",
              "      <th>2019</th>\n",
              "      <td>The Americas</td>\n",
              "      <td>USA</td>\n",
              "      <td>Population covered by at least a 4G mobile net...</td>\n",
              "      <td>9.990000e+01</td>\n",
              "    </tr>\n",
              "    <tr>\n",
              "      <th>2016</th>\n",
              "      <td>The Americas</td>\n",
              "      <td>USA</td>\n",
              "      <td>Total fixed broadband subscriptions</td>\n",
              "      <td>1.057140e+08</td>\n",
              "    </tr>\n",
              "    <tr>\n",
              "      <th>2017</th>\n",
              "      <td>The Americas</td>\n",
              "      <td>USA</td>\n",
              "      <td>Total fixed broadband subscriptions</td>\n",
              "      <td>1.082000e+08</td>\n",
              "    </tr>\n",
              "    <tr>\n",
              "      <th>2018</th>\n",
              "      <td>The Americas</td>\n",
              "      <td>USA</td>\n",
              "      <td>Total fixed broadband subscriptions</td>\n",
              "      <td>1.108650e+08</td>\n",
              "    </tr>\n",
              "    <tr>\n",
              "      <th>2019</th>\n",
              "      <td>The Americas</td>\n",
              "      <td>USA</td>\n",
              "      <td>Total fixed broadband subscriptions</td>\n",
              "      <td>1.142590e+08</td>\n",
              "    </tr>\n",
              "  </tbody>\n",
              "</table>\n",
              "<p>532 rows × 4 columns</p>\n",
              "</div>"
            ],
            "text/plain": [
              "                          Region  ...         Value\n",
              "Country       Year                ...              \n",
              "Colombia      2016  The Americas  ...  5.817400e+01\n",
              "              2017  The Americas  ...  6.242000e+01\n",
              "              2018  The Americas  ...  6.458900e+01\n",
              "              2019  The Americas  ...  6.589700e+01\n",
              "              2016  The Americas  ...  7.310300e+01\n",
              "...                          ...  ...           ...\n",
              "United States 2019  The Americas  ...  9.990000e+01\n",
              "              2016  The Americas  ...  1.057140e+08\n",
              "              2017  The Americas  ...  1.082000e+08\n",
              "              2018  The Americas  ...  1.108650e+08\n",
              "              2019  The Americas  ...  1.142590e+08\n",
              "\n",
              "[532 rows x 4 columns]"
            ]
          },
          "metadata": {
            "tags": []
          },
          "execution_count": 69
        }
      ]
    },
    {
      "cell_type": "code",
      "metadata": {
        "colab": {
          "base_uri": "https://localhost:8080/"
        },
        "id": "tnzBT88iGp9G",
        "outputId": "01f6c367-896b-472b-da15-aedb5156a05b"
      },
      "source": [
        "pobtics_America.mean(1)"
      ],
      "execution_count": null,
      "outputs": [
        {
          "output_type": "execute_result",
          "data": {
            "text/plain": [
              "Country        Year\n",
              "Colombia       2016    5.817418e+01\n",
              "               2017    6.241987e+01\n",
              "               2018    6.458878e+01\n",
              "               2019    6.589684e+01\n",
              "               2016    7.310334e+01\n",
              "                           ...     \n",
              "United States  2019    9.990000e+01\n",
              "               2016    1.057140e+08\n",
              "               2017    1.082000e+08\n",
              "               2018    1.108650e+08\n",
              "               2019    1.142590e+08\n",
              "Length: 532, dtype: float64"
            ]
          },
          "metadata": {
            "tags": []
          },
          "execution_count": 73
        }
      ]
    },
    {
      "cell_type": "markdown",
      "metadata": {
        "id": "lnReRAWDtMsV"
      },
      "source": [
        "**Colombia**"
      ]
    },
    {
      "cell_type": "code",
      "metadata": {
        "colab": {
          "base_uri": "https://localhost:8080/",
          "height": 450
        },
        "id": "j4rdOdZFtI3S",
        "outputId": "e30bbaae-180e-4e41-9b41-8cfad03de5ec"
      },
      "source": [
        "pobtics_America.loc[\"Colombia\"]"
      ],
      "execution_count": null,
      "outputs": [
        {
          "output_type": "execute_result",
          "data": {
            "text/html": [
              "<div>\n",
              "<style scoped>\n",
              "    .dataframe tbody tr th:only-of-type {\n",
              "        vertical-align: middle;\n",
              "    }\n",
              "\n",
              "    .dataframe tbody tr th {\n",
              "        vertical-align: top;\n",
              "    }\n",
              "\n",
              "    .dataframe thead th {\n",
              "        text-align: right;\n",
              "    }\n",
              "</style>\n",
              "<table border=\"1\" class=\"dataframe\">\n",
              "  <thead>\n",
              "    <tr style=\"text-align: right;\">\n",
              "      <th></th>\n",
              "      <th>Region</th>\n",
              "      <th>ISO</th>\n",
              "      <th>Indicator name</th>\n",
              "      <th>Value</th>\n",
              "    </tr>\n",
              "    <tr>\n",
              "      <th>Year</th>\n",
              "      <th></th>\n",
              "      <th></th>\n",
              "      <th></th>\n",
              "      <th></th>\n",
              "    </tr>\n",
              "  </thead>\n",
              "  <tbody>\n",
              "    <tr>\n",
              "      <th>2016</th>\n",
              "      <td>The Americas</td>\n",
              "      <td>COL</td>\n",
              "      <td>Female Internet users as a % of total female p...</td>\n",
              "      <td>5.817418e+01</td>\n",
              "    </tr>\n",
              "    <tr>\n",
              "      <th>2017</th>\n",
              "      <td>The Americas</td>\n",
              "      <td>COL</td>\n",
              "      <td>Female Internet users as a % of total female p...</td>\n",
              "      <td>6.241987e+01</td>\n",
              "    </tr>\n",
              "    <tr>\n",
              "      <th>2018</th>\n",
              "      <td>The Americas</td>\n",
              "      <td>COL</td>\n",
              "      <td>Female Internet users as a % of total female p...</td>\n",
              "      <td>6.458878e+01</td>\n",
              "    </tr>\n",
              "    <tr>\n",
              "      <th>2019</th>\n",
              "      <td>The Americas</td>\n",
              "      <td>COL</td>\n",
              "      <td>Female Internet users as a % of total female p...</td>\n",
              "      <td>6.589684e+01</td>\n",
              "    </tr>\n",
              "    <tr>\n",
              "      <th>2016</th>\n",
              "      <td>The Americas</td>\n",
              "      <td>COL</td>\n",
              "      <td>Female mobile phone ownership as a % of total ...</td>\n",
              "      <td>7.310334e+01</td>\n",
              "    </tr>\n",
              "    <tr>\n",
              "      <th>...</th>\n",
              "      <td>...</td>\n",
              "      <td>...</td>\n",
              "      <td>...</td>\n",
              "      <td>...</td>\n",
              "    </tr>\n",
              "    <tr>\n",
              "      <th>2019</th>\n",
              "      <td>The Americas</td>\n",
              "      <td>COL</td>\n",
              "      <td>Population covered by at least a 4G mobile net...</td>\n",
              "      <td>9.800000e+01</td>\n",
              "    </tr>\n",
              "    <tr>\n",
              "      <th>2016</th>\n",
              "      <td>The Americas</td>\n",
              "      <td>COL</td>\n",
              "      <td>Total fixed broadband subscriptions</td>\n",
              "      <td>5.912968e+06</td>\n",
              "    </tr>\n",
              "    <tr>\n",
              "      <th>2017</th>\n",
              "      <td>The Americas</td>\n",
              "      <td>COL</td>\n",
              "      <td>Total fixed broadband subscriptions</td>\n",
              "      <td>6.331032e+06</td>\n",
              "    </tr>\n",
              "    <tr>\n",
              "      <th>2018</th>\n",
              "      <td>The Americas</td>\n",
              "      <td>COL</td>\n",
              "      <td>Total fixed broadband subscriptions</td>\n",
              "      <td>6.678543e+06</td>\n",
              "    </tr>\n",
              "    <tr>\n",
              "      <th>2019</th>\n",
              "      <td>The Americas</td>\n",
              "      <td>COL</td>\n",
              "      <td>Total fixed broadband subscriptions</td>\n",
              "      <td>6.949852e+06</td>\n",
              "    </tr>\n",
              "  </tbody>\n",
              "</table>\n",
              "<p>179 rows × 4 columns</p>\n",
              "</div>"
            ],
            "text/plain": [
              "            Region  ...         Value\n",
              "Year                ...              \n",
              "2016  The Americas  ...  5.817418e+01\n",
              "2017  The Americas  ...  6.241987e+01\n",
              "2018  The Americas  ...  6.458878e+01\n",
              "2019  The Americas  ...  6.589684e+01\n",
              "2016  The Americas  ...  7.310334e+01\n",
              "...            ...  ...           ...\n",
              "2019  The Americas  ...  9.800000e+01\n",
              "2016  The Americas  ...  5.912968e+06\n",
              "2017  The Americas  ...  6.331032e+06\n",
              "2018  The Americas  ...  6.678543e+06\n",
              "2019  The Americas  ...  6.949852e+06\n",
              "\n",
              "[179 rows x 4 columns]"
            ]
          },
          "metadata": {
            "tags": []
          },
          "execution_count": 83
        }
      ]
    },
    {
      "cell_type": "code",
      "metadata": {
        "colab": {
          "base_uri": "https://localhost:8080/"
        },
        "id": "NOU_UiY0tc1V",
        "outputId": "3836bd83-21f8-499f-e72b-1002f6e515d7"
      },
      "source": [
        "pobtics_America.mean()"
      ],
      "execution_count": null,
      "outputs": [
        {
          "output_type": "execute_result",
          "data": {
            "text/plain": [
              "Value    2.624215e+06\n",
              "dtype: float64"
            ]
          },
          "metadata": {
            "tags": []
          },
          "execution_count": 270
        }
      ]
    },
    {
      "cell_type": "code",
      "metadata": {
        "colab": {
          "base_uri": "https://localhost:8080/"
        },
        "id": "qVqP7AfUtuV3",
        "outputId": "d74e64b8-b67d-4598-ee59-75772fbf2195"
      },
      "source": [
        "pobtics_America.loc[\"Colombia\"].mean().round(3)"
      ],
      "execution_count": null,
      "outputs": [
        {
          "output_type": "execute_result",
          "data": {
            "text/plain": [
              "Value    312074.416\n",
              "dtype: float64"
            ]
          },
          "metadata": {
            "tags": []
          },
          "execution_count": 87
        }
      ]
    },
    {
      "cell_type": "code",
      "metadata": {
        "colab": {
          "base_uri": "https://localhost:8080/"
        },
        "id": "ABUUsWMZ0UTE",
        "outputId": "110e0557-38a6-4b88-fe10-149bcd8071e0"
      },
      "source": [
        "pobtics_America.loc[\"Brazil\"].mean().round(3)"
      ],
      "execution_count": null,
      "outputs": [
        {
          "output_type": "execute_result",
          "data": {
            "text/plain": [
              "Value    1412766.409\n",
              "dtype: float64"
            ]
          },
          "metadata": {
            "tags": []
          },
          "execution_count": 88
        }
      ]
    },
    {
      "cell_type": "code",
      "metadata": {
        "colab": {
          "base_uri": "https://localhost:8080/"
        },
        "id": "HLJMt1qy0V2x",
        "outputId": "2be4e150-9482-4201-fed7-a4a41374a3ed"
      },
      "source": [
        "pobtics_America.loc[\"United States\"].mean()"
      ],
      "execution_count": null,
      "outputs": [
        {
          "output_type": "execute_result",
          "data": {
            "text/plain": [
              "Value    8.179221e+06\n",
              "dtype: float64"
            ]
          },
          "metadata": {
            "tags": []
          },
          "execution_count": 273
        }
      ]
    }
  ]
}