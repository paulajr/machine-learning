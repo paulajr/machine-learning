{
  "nbformat": 4,
  "nbformat_minor": 0,
  "metadata": {
    "colab": {
      "name": "Proyecto Lenguaje Natural",
      "provenance": [],
      "collapsed_sections": []
    },
    "kernelspec": {
      "name": "python3",
      "display_name": "Python 3"
    },
    "language_info": {
      "name": "python"
    },
    "widgets": {
      "application/vnd.jupyter.widget-state+json": {
        "62dbcdc841d24795873eeb091d30f951": {
          "model_module": "@jupyter-widgets/controls",
          "model_name": "HBoxModel",
          "state": {
            "_view_name": "HBoxView",
            "_dom_classes": [],
            "_model_name": "HBoxModel",
            "_view_module": "@jupyter-widgets/controls",
            "_model_module_version": "1.5.0",
            "_view_count": null,
            "_view_module_version": "1.5.0",
            "box_style": "",
            "layout": "IPY_MODEL_0a3cb7987b8a43d29e7f1143db09ba22",
            "_model_module": "@jupyter-widgets/controls",
            "children": [
              "IPY_MODEL_dcdf5cc348de4362b067c95e4f5e7ee7",
              "IPY_MODEL_924d22bd069d47e8a6afb8d89dfbafb0"
            ]
          }
        },
        "0a3cb7987b8a43d29e7f1143db09ba22": {
          "model_module": "@jupyter-widgets/base",
          "model_name": "LayoutModel",
          "state": {
            "_view_name": "LayoutView",
            "grid_template_rows": null,
            "right": null,
            "justify_content": null,
            "_view_module": "@jupyter-widgets/base",
            "overflow": null,
            "_model_module_version": "1.2.0",
            "_view_count": null,
            "flex_flow": null,
            "width": null,
            "min_width": null,
            "border": null,
            "align_items": null,
            "bottom": null,
            "_model_module": "@jupyter-widgets/base",
            "top": null,
            "grid_column": null,
            "overflow_y": null,
            "overflow_x": null,
            "grid_auto_flow": null,
            "grid_area": null,
            "grid_template_columns": null,
            "flex": null,
            "_model_name": "LayoutModel",
            "justify_items": null,
            "grid_row": null,
            "max_height": null,
            "align_content": null,
            "visibility": null,
            "align_self": null,
            "height": null,
            "min_height": null,
            "padding": null,
            "grid_auto_rows": null,
            "grid_gap": null,
            "max_width": null,
            "order": null,
            "_view_module_version": "1.2.0",
            "grid_template_areas": null,
            "object_position": null,
            "object_fit": null,
            "grid_auto_columns": null,
            "margin": null,
            "display": null,
            "left": null
          }
        },
        "dcdf5cc348de4362b067c95e4f5e7ee7": {
          "model_module": "@jupyter-widgets/controls",
          "model_name": "FloatProgressModel",
          "state": {
            "_view_name": "ProgressView",
            "style": "IPY_MODEL_bc3a937154a044f280b8b6bde44ff335",
            "_dom_classes": [],
            "description": "Downloading https://raw.githubusercontent.com/stanfordnlp/stanza-resources/main/resources_1.2.1.json: ",
            "_model_name": "FloatProgressModel",
            "bar_style": "success",
            "max": 23895,
            "_view_module": "@jupyter-widgets/controls",
            "_model_module_version": "1.5.0",
            "value": 23895,
            "_view_count": null,
            "_view_module_version": "1.5.0",
            "orientation": "horizontal",
            "min": 0,
            "description_tooltip": null,
            "_model_module": "@jupyter-widgets/controls",
            "layout": "IPY_MODEL_205f54b9f54b49158d7c53c7caa25b4d"
          }
        },
        "924d22bd069d47e8a6afb8d89dfbafb0": {
          "model_module": "@jupyter-widgets/controls",
          "model_name": "HTMLModel",
          "state": {
            "_view_name": "HTMLView",
            "style": "IPY_MODEL_9171eb3e40734b79a1bad680e03bd749",
            "_dom_classes": [],
            "description": "",
            "_model_name": "HTMLModel",
            "placeholder": "​",
            "_view_module": "@jupyter-widgets/controls",
            "_model_module_version": "1.5.0",
            "value": " 139k/? [02:50&lt;00:00, 812B/s]",
            "_view_count": null,
            "_view_module_version": "1.5.0",
            "description_tooltip": null,
            "_model_module": "@jupyter-widgets/controls",
            "layout": "IPY_MODEL_0dbfacab7c1e46c3b12851221d7cf291"
          }
        },
        "bc3a937154a044f280b8b6bde44ff335": {
          "model_module": "@jupyter-widgets/controls",
          "model_name": "ProgressStyleModel",
          "state": {
            "_view_name": "StyleView",
            "_model_name": "ProgressStyleModel",
            "description_width": "initial",
            "_view_module": "@jupyter-widgets/base",
            "_model_module_version": "1.5.0",
            "_view_count": null,
            "_view_module_version": "1.2.0",
            "bar_color": null,
            "_model_module": "@jupyter-widgets/controls"
          }
        },
        "205f54b9f54b49158d7c53c7caa25b4d": {
          "model_module": "@jupyter-widgets/base",
          "model_name": "LayoutModel",
          "state": {
            "_view_name": "LayoutView",
            "grid_template_rows": null,
            "right": null,
            "justify_content": null,
            "_view_module": "@jupyter-widgets/base",
            "overflow": null,
            "_model_module_version": "1.2.0",
            "_view_count": null,
            "flex_flow": null,
            "width": null,
            "min_width": null,
            "border": null,
            "align_items": null,
            "bottom": null,
            "_model_module": "@jupyter-widgets/base",
            "top": null,
            "grid_column": null,
            "overflow_y": null,
            "overflow_x": null,
            "grid_auto_flow": null,
            "grid_area": null,
            "grid_template_columns": null,
            "flex": null,
            "_model_name": "LayoutModel",
            "justify_items": null,
            "grid_row": null,
            "max_height": null,
            "align_content": null,
            "visibility": null,
            "align_self": null,
            "height": null,
            "min_height": null,
            "padding": null,
            "grid_auto_rows": null,
            "grid_gap": null,
            "max_width": null,
            "order": null,
            "_view_module_version": "1.2.0",
            "grid_template_areas": null,
            "object_position": null,
            "object_fit": null,
            "grid_auto_columns": null,
            "margin": null,
            "display": null,
            "left": null
          }
        },
        "9171eb3e40734b79a1bad680e03bd749": {
          "model_module": "@jupyter-widgets/controls",
          "model_name": "DescriptionStyleModel",
          "state": {
            "_view_name": "StyleView",
            "_model_name": "DescriptionStyleModel",
            "description_width": "",
            "_view_module": "@jupyter-widgets/base",
            "_model_module_version": "1.5.0",
            "_view_count": null,
            "_view_module_version": "1.2.0",
            "_model_module": "@jupyter-widgets/controls"
          }
        },
        "0dbfacab7c1e46c3b12851221d7cf291": {
          "model_module": "@jupyter-widgets/base",
          "model_name": "LayoutModel",
          "state": {
            "_view_name": "LayoutView",
            "grid_template_rows": null,
            "right": null,
            "justify_content": null,
            "_view_module": "@jupyter-widgets/base",
            "overflow": null,
            "_model_module_version": "1.2.0",
            "_view_count": null,
            "flex_flow": null,
            "width": null,
            "min_width": null,
            "border": null,
            "align_items": null,
            "bottom": null,
            "_model_module": "@jupyter-widgets/base",
            "top": null,
            "grid_column": null,
            "overflow_y": null,
            "overflow_x": null,
            "grid_auto_flow": null,
            "grid_area": null,
            "grid_template_columns": null,
            "flex": null,
            "_model_name": "LayoutModel",
            "justify_items": null,
            "grid_row": null,
            "max_height": null,
            "align_content": null,
            "visibility": null,
            "align_self": null,
            "height": null,
            "min_height": null,
            "padding": null,
            "grid_auto_rows": null,
            "grid_gap": null,
            "max_width": null,
            "order": null,
            "_view_module_version": "1.2.0",
            "grid_template_areas": null,
            "object_position": null,
            "object_fit": null,
            "grid_auto_columns": null,
            "margin": null,
            "display": null,
            "left": null
          }
        },
        "807cd8004a024899910f5d9585c4dd16": {
          "model_module": "@jupyter-widgets/controls",
          "model_name": "HBoxModel",
          "state": {
            "_view_name": "HBoxView",
            "_dom_classes": [],
            "_model_name": "HBoxModel",
            "_view_module": "@jupyter-widgets/controls",
            "_model_module_version": "1.5.0",
            "_view_count": null,
            "_view_module_version": "1.5.0",
            "box_style": "",
            "layout": "IPY_MODEL_3a31ac043a1742e9a7a7645e052a7b0a",
            "_model_module": "@jupyter-widgets/controls",
            "children": [
              "IPY_MODEL_fa0fd5da90b4486fb09d82409a46254b",
              "IPY_MODEL_4d228d009aa64f22a535164716e7483b"
            ]
          }
        },
        "3a31ac043a1742e9a7a7645e052a7b0a": {
          "model_module": "@jupyter-widgets/base",
          "model_name": "LayoutModel",
          "state": {
            "_view_name": "LayoutView",
            "grid_template_rows": null,
            "right": null,
            "justify_content": null,
            "_view_module": "@jupyter-widgets/base",
            "overflow": null,
            "_model_module_version": "1.2.0",
            "_view_count": null,
            "flex_flow": null,
            "width": null,
            "min_width": null,
            "border": null,
            "align_items": null,
            "bottom": null,
            "_model_module": "@jupyter-widgets/base",
            "top": null,
            "grid_column": null,
            "overflow_y": null,
            "overflow_x": null,
            "grid_auto_flow": null,
            "grid_area": null,
            "grid_template_columns": null,
            "flex": null,
            "_model_name": "LayoutModel",
            "justify_items": null,
            "grid_row": null,
            "max_height": null,
            "align_content": null,
            "visibility": null,
            "align_self": null,
            "height": null,
            "min_height": null,
            "padding": null,
            "grid_auto_rows": null,
            "grid_gap": null,
            "max_width": null,
            "order": null,
            "_view_module_version": "1.2.0",
            "grid_template_areas": null,
            "object_position": null,
            "object_fit": null,
            "grid_auto_columns": null,
            "margin": null,
            "display": null,
            "left": null
          }
        },
        "fa0fd5da90b4486fb09d82409a46254b": {
          "model_module": "@jupyter-widgets/controls",
          "model_name": "FloatProgressModel",
          "state": {
            "_view_name": "ProgressView",
            "style": "IPY_MODEL_b301e5db717c4f6f951d7dad1eebba5a",
            "_dom_classes": [],
            "description": "Downloading http://nlp.stanford.edu/software/stanza/1.2.1/es/default.zip: 100%",
            "_model_name": "FloatProgressModel",
            "bar_style": "success",
            "max": 565553347,
            "_view_module": "@jupyter-widgets/controls",
            "_model_module_version": "1.5.0",
            "value": 565553347,
            "_view_count": null,
            "_view_module_version": "1.5.0",
            "orientation": "horizontal",
            "min": 0,
            "description_tooltip": null,
            "_model_module": "@jupyter-widgets/controls",
            "layout": "IPY_MODEL_6b13c6d5a526409399d08bce344d323d"
          }
        },
        "4d228d009aa64f22a535164716e7483b": {
          "model_module": "@jupyter-widgets/controls",
          "model_name": "HTMLModel",
          "state": {
            "_view_name": "HTMLView",
            "style": "IPY_MODEL_eeec7c54ae1f439d96a40c883f297866",
            "_dom_classes": [],
            "description": "",
            "_model_name": "HTMLModel",
            "placeholder": "​",
            "_view_module": "@jupyter-widgets/controls",
            "_model_module_version": "1.5.0",
            "value": " 566M/566M [02:49&lt;00:00, 3.33MB/s]",
            "_view_count": null,
            "_view_module_version": "1.5.0",
            "description_tooltip": null,
            "_model_module": "@jupyter-widgets/controls",
            "layout": "IPY_MODEL_754e9b33643e4e8f8148546b5745436d"
          }
        },
        "b301e5db717c4f6f951d7dad1eebba5a": {
          "model_module": "@jupyter-widgets/controls",
          "model_name": "ProgressStyleModel",
          "state": {
            "_view_name": "StyleView",
            "_model_name": "ProgressStyleModel",
            "description_width": "initial",
            "_view_module": "@jupyter-widgets/base",
            "_model_module_version": "1.5.0",
            "_view_count": null,
            "_view_module_version": "1.2.0",
            "bar_color": null,
            "_model_module": "@jupyter-widgets/controls"
          }
        },
        "6b13c6d5a526409399d08bce344d323d": {
          "model_module": "@jupyter-widgets/base",
          "model_name": "LayoutModel",
          "state": {
            "_view_name": "LayoutView",
            "grid_template_rows": null,
            "right": null,
            "justify_content": null,
            "_view_module": "@jupyter-widgets/base",
            "overflow": null,
            "_model_module_version": "1.2.0",
            "_view_count": null,
            "flex_flow": null,
            "width": null,
            "min_width": null,
            "border": null,
            "align_items": null,
            "bottom": null,
            "_model_module": "@jupyter-widgets/base",
            "top": null,
            "grid_column": null,
            "overflow_y": null,
            "overflow_x": null,
            "grid_auto_flow": null,
            "grid_area": null,
            "grid_template_columns": null,
            "flex": null,
            "_model_name": "LayoutModel",
            "justify_items": null,
            "grid_row": null,
            "max_height": null,
            "align_content": null,
            "visibility": null,
            "align_self": null,
            "height": null,
            "min_height": null,
            "padding": null,
            "grid_auto_rows": null,
            "grid_gap": null,
            "max_width": null,
            "order": null,
            "_view_module_version": "1.2.0",
            "grid_template_areas": null,
            "object_position": null,
            "object_fit": null,
            "grid_auto_columns": null,
            "margin": null,
            "display": null,
            "left": null
          }
        },
        "eeec7c54ae1f439d96a40c883f297866": {
          "model_module": "@jupyter-widgets/controls",
          "model_name": "DescriptionStyleModel",
          "state": {
            "_view_name": "StyleView",
            "_model_name": "DescriptionStyleModel",
            "description_width": "",
            "_view_module": "@jupyter-widgets/base",
            "_model_module_version": "1.5.0",
            "_view_count": null,
            "_view_module_version": "1.2.0",
            "_model_module": "@jupyter-widgets/controls"
          }
        },
        "754e9b33643e4e8f8148546b5745436d": {
          "model_module": "@jupyter-widgets/base",
          "model_name": "LayoutModel",
          "state": {
            "_view_name": "LayoutView",
            "grid_template_rows": null,
            "right": null,
            "justify_content": null,
            "_view_module": "@jupyter-widgets/base",
            "overflow": null,
            "_model_module_version": "1.2.0",
            "_view_count": null,
            "flex_flow": null,
            "width": null,
            "min_width": null,
            "border": null,
            "align_items": null,
            "bottom": null,
            "_model_module": "@jupyter-widgets/base",
            "top": null,
            "grid_column": null,
            "overflow_y": null,
            "overflow_x": null,
            "grid_auto_flow": null,
            "grid_area": null,
            "grid_template_columns": null,
            "flex": null,
            "_model_name": "LayoutModel",
            "justify_items": null,
            "grid_row": null,
            "max_height": null,
            "align_content": null,
            "visibility": null,
            "align_self": null,
            "height": null,
            "min_height": null,
            "padding": null,
            "grid_auto_rows": null,
            "grid_gap": null,
            "max_width": null,
            "order": null,
            "_view_module_version": "1.2.0",
            "grid_template_areas": null,
            "object_position": null,
            "object_fit": null,
            "grid_auto_columns": null,
            "margin": null,
            "display": null,
            "left": null
          }
        }
      }
    }
  },
  "cells": [
    {
      "cell_type": "markdown",
      "metadata": {
        "id": "n4GfE7SqB120"
      },
      "source": [
        "#Proyecto Lenguaje Natural "
      ]
    },
    {
      "cell_type": "markdown",
      "metadata": {
        "id": "lQyQAmqQB-8A"
      },
      "source": [
        "En el siguiente proyecto nos adentraremos en una portal web donde podemos encontrar las principales noticias acerca del mundo de las criptomonedas, para esto haremos web scraping e identificaremos las ultimas noticias disponibles en el portal con su respectivo titulo y breve contexto de la misma, para asi finalizar con un filtro de palabras y un modelamiento de las mismas."
      ]
    },
    {
      "cell_type": "code",
      "metadata": {
        "id": "T8MgtdjQJBz8"
      },
      "source": [
        "import requests as rq\n",
        "from bs4 import BeautifulSoup"
      ],
      "execution_count": null,
      "outputs": []
    },
    {
      "cell_type": "markdown",
      "metadata": {
        "id": "NdDvW5mlCwuO"
      },
      "source": [
        "Lo primero que haremos sera seleccionar el sitio web, luego de eso crearemos la la sopa de la pagina el cual es el esqueleto de la pagina para podernos adentrar mas afondo. "
      ]
    },
    {
      "cell_type": "code",
      "metadata": {
        "id": "ttouLI79V4Q7",
        "colab": {
          "base_uri": "https://localhost:8080/"
        },
        "outputId": "0da329bb-d6a3-4615-ff15-3d6e7b4c47ab"
      },
      "source": [
        "blog_cripto= 'https://criptotendencia.com/'\n",
        "pag_blog = rq.get(blog_cripto)\n",
        "pag_blog"
      ],
      "execution_count": null,
      "outputs": [
        {
          "output_type": "execute_result",
          "data": {
            "text/plain": [
              "<Response [200]>"
            ]
          },
          "metadata": {
            "tags": []
          },
          "execution_count": 5
        }
      ]
    },
    {
      "cell_type": "code",
      "metadata": {
        "id": "ZE1NflDLWlMa"
      },
      "source": [
        "pagina_sopa = BeautifulSoup(pag_blog.text, 'lxml')"
      ],
      "execution_count": null,
      "outputs": []
    },
    {
      "cell_type": "code",
      "metadata": {
        "colab": {
          "base_uri": "https://localhost:8080/"
        },
        "id": "3YJm58s_W5_f",
        "outputId": "fff56076-128a-4ef3-a972-c2567b554de2"
      },
      "source": [
        "pagina_sopa"
      ],
      "execution_count": null,
      "outputs": [
        {
          "output_type": "execute_result",
          "data": {
            "text/plain": [
              "<!DOCTYPE html>\n",
              "<html lang=\"es\">\n",
              "<head>\n",
              "<meta charset=\"utf-8\"/>\n",
              "<meta content=\"width=device-width\" name=\"viewport\"/>\n",
              "<link href=\"http://gmpg.org/xfn/11\" rel=\"profile\"/>\n",
              "<link href=\"https://criptotendencia.com/xmlrpc.php\" rel=\"pingback\"/>\n",
              "<meta content=\"index, max-image-preview:large\" name=\"robots\"/>\n",
              "<!-- Jetpack Site Verification Tags -->\n",
              "<meta content=\"9RtIia_3v8p1ZVAum1oHS8pK4E6ahW-PCt4s7quAd3U\" name=\"google-site-verification\"/>\n",
              "<!-- This site is optimized with the Yoast SEO Premium plugin v16.5 (Yoast SEO v16.5) - https://yoast.com/wordpress/plugins/seo/ -->\n",
              "<title>CRIPTO TENDENCIA - Todas las criptomonedas en un solo lugar</title>\n",
              "<meta content=\"Todas las criptomonedas en un solo lugar\" name=\"description\"/>\n",
              "<link href=\"https://criptotendencia.com/\" rel=\"canonical\"/>\n",
              "<link href=\"https://criptotendencia.com/page/2/\" rel=\"next\"/>\n",
              "<meta content=\"es_ES\" property=\"og:locale\"/>\n",
              "<meta content=\"website\" property=\"og:type\"/>\n",
              "<meta content=\"CRIPTO TENDENCIA - Todas las criptomonedas en un solo lugar\" property=\"og:title\"/>\n",
              "<meta content=\"Todas las criptomonedas en un solo lugar\" property=\"og:description\"/>\n",
              "<meta content=\"https://criptotendencia.com/\" property=\"og:url\"/>\n",
              "<meta content=\"CRIPTO TENDENCIA\" property=\"og:site_name\"/>\n",
              "<meta content=\"summary_large_image\" name=\"twitter:card\"/>\n",
              "<meta content=\"@CriptoTendencia\" name=\"twitter:site\"/>\n",
              "<script class=\"yoast-schema-graph\" type=\"application/ld+json\">{\"@context\":\"https://schema.org\",\"@graph\":[{\"@type\":\"Organization\",\"@id\":\"https://criptotendencia.com/#organization\",\"name\":\"CriptoTendencia\",\"url\":\"https://criptotendencia.com/\",\"sameAs\":[\"https://www.facebook.com/CriptoTendencia/\",\"https://www.instagram.com/criptotendenciaok/\",\"https://twitter.com/CriptoTendencia\"],\"logo\":{\"@type\":\"ImageObject\",\"@id\":\"https://criptotendencia.com/#logo\",\"inLanguage\":\"es\",\"url\":\"https://i2.wp.com/criptotendencia.com/wp-content/uploads/2019/09/LOGO-CriptoTendencia-Twitter-2.png?fit=168%2C163&ssl=1\",\"contentUrl\":\"https://i2.wp.com/criptotendencia.com/wp-content/uploads/2019/09/LOGO-CriptoTendencia-Twitter-2.png?fit=168%2C163&ssl=1\",\"width\":168,\"height\":163,\"caption\":\"CriptoTendencia\"},\"image\":{\"@id\":\"https://criptotendencia.com/#logo\"}},{\"@type\":\"WebSite\",\"@id\":\"https://criptotendencia.com/#website\",\"url\":\"https://criptotendencia.com/\",\"name\":\"CRIPTO TENDENCIA\",\"description\":\"Todas las criptomonedas en un solo lugar\",\"publisher\":{\"@id\":\"https://criptotendencia.com/#organization\"},\"potentialAction\":[{\"@type\":\"SearchAction\",\"target\":\"https://criptotendencia.com/?s={search_term_string}\",\"query-input\":\"required name=search_term_string\"}],\"inLanguage\":\"es\"},{\"@type\":\"CollectionPage\",\"@id\":\"https://criptotendencia.com/#webpage\",\"url\":\"https://criptotendencia.com/\",\"name\":\"CRIPTO TENDENCIA - Todas las criptomonedas en un solo lugar\",\"isPartOf\":{\"@id\":\"https://criptotendencia.com/#website\"},\"about\":{\"@id\":\"https://criptotendencia.com/#organization\"},\"description\":\"Todas las criptomonedas en un solo lugar\",\"breadcrumb\":{\"@id\":\"https://criptotendencia.com/#breadcrumb\"},\"inLanguage\":\"es\",\"potentialAction\":[{\"@type\":\"ReadAction\",\"target\":[\"https://criptotendencia.com/\"]}]},{\"@type\":\"BreadcrumbList\",\"@id\":\"https://criptotendencia.com/#breadcrumb\",\"itemListElement\":[{\"@type\":\"ListItem\",\"position\":1,\"name\":\"Portada\"}]}]}</script>\n",
              "<!-- / Yoast SEO Premium plugin. -->\n",
              "<link href=\"https://criptotendencia.com/amp/\" rel=\"amphtml\"/><meta content=\"AMP for WP 1.0.77.8\" name=\"generator\"/><link href=\"//secure.gravatar.com\" rel=\"dns-prefetch\"/>\n",
              "<link href=\"//fonts.googleapis.com\" rel=\"dns-prefetch\"/>\n",
              "<link href=\"//s.w.org\" rel=\"dns-prefetch\"/>\n",
              "<link href=\"//v0.wordpress.com\" rel=\"dns-prefetch\"/>\n",
              "<link href=\"//widgets.wp.com\" rel=\"dns-prefetch\"/>\n",
              "<link href=\"//s0.wp.com\" rel=\"dns-prefetch\"/>\n",
              "<link href=\"//0.gravatar.com\" rel=\"dns-prefetch\"/>\n",
              "<link href=\"//1.gravatar.com\" rel=\"dns-prefetch\"/>\n",
              "<link href=\"//2.gravatar.com\" rel=\"dns-prefetch\"/>\n",
              "<link href=\"//jetpack.wordpress.com\" rel=\"dns-prefetch\"/>\n",
              "<link href=\"//s1.wp.com\" rel=\"dns-prefetch\"/>\n",
              "<link href=\"//s2.wp.com\" rel=\"dns-prefetch\"/>\n",
              "<link href=\"//public-api.wordpress.com\" rel=\"dns-prefetch\"/>\n",
              "<link href=\"//c0.wp.com\" rel=\"dns-prefetch\"/>\n",
              "<link href=\"//i0.wp.com\" rel=\"dns-prefetch\"/>\n",
              "<link href=\"//i1.wp.com\" rel=\"dns-prefetch\"/>\n",
              "<link href=\"//i2.wp.com\" rel=\"dns-prefetch\"/>\n",
              "<link href=\"https://criptotendencia.com/feed/\" rel=\"alternate\" title=\"CRIPTO TENDENCIA » Feed\" type=\"application/rss+xml\"/>\n",
              "<link href=\"https://criptotendencia.com/comments/feed/\" rel=\"alternate\" title=\"CRIPTO TENDENCIA » Feed de los comentarios\" type=\"application/rss+xml\"/>\n",
              "<link href=\"https://criptotendencia.com/eventos/?ical=1\" rel=\"alternate\" title=\"CRIPTO TENDENCIA » iCal Feed\" type=\"text/calendar\"/>\n",
              "<script type=\"text/javascript\">\n",
              "\t\t\twindow._wpemojiSettings = {\"baseUrl\":\"https:\\/\\/s.w.org\\/images\\/core\\/emoji\\/13.0.1\\/72x72\\/\",\"ext\":\".png\",\"svgUrl\":\"https:\\/\\/s.w.org\\/images\\/core\\/emoji\\/13.0.1\\/svg\\/\",\"svgExt\":\".svg\",\"source\":{\"concatemoji\":\"https:\\/\\/criptotendencia.com\\/wp-includes\\/js\\/wp-emoji-release.min.js?ver=5.7.2\"}};\n",
              "\t\t\t!function(e,a,t){var n,r,o,i=a.createElement(\"canvas\"),p=i.getContext&&i.getContext(\"2d\");function s(e,t){var a=String.fromCharCode;p.clearRect(0,0,i.width,i.height),p.fillText(a.apply(this,e),0,0);e=i.toDataURL();return p.clearRect(0,0,i.width,i.height),p.fillText(a.apply(this,t),0,0),e===i.toDataURL()}function c(e){var t=a.createElement(\"script\");t.src=e,t.defer=t.type=\"text/javascript\",a.getElementsByTagName(\"head\")[0].appendChild(t)}for(o=Array(\"flag\",\"emoji\"),t.supports={everything:!0,everythingExceptFlag:!0},r=0;r<o.length;r++)t.supports[o[r]]=function(e){if(!p||!p.fillText)return!1;switch(p.textBaseline=\"top\",p.font=\"600 32px Arial\",e){case\"flag\":return s([127987,65039,8205,9895,65039],[127987,65039,8203,9895,65039])?!1:!s([55356,56826,55356,56819],[55356,56826,8203,55356,56819])&&!s([55356,57332,56128,56423,56128,56418,56128,56421,56128,56430,56128,56423,56128,56447],[55356,57332,8203,56128,56423,8203,56128,56418,8203,56128,56421,8203,56128,56430,8203,56128,56423,8203,56128,56447]);case\"emoji\":return!s([55357,56424,8205,55356,57212],[55357,56424,8203,55356,57212])}return!1}(o[r]),t.supports.everything=t.supports.everything&&t.supports[o[r]],\"flag\"!==o[r]&&(t.supports.everythingExceptFlag=t.supports.everythingExceptFlag&&t.supports[o[r]]);t.supports.everythingExceptFlag=t.supports.everythingExceptFlag&&!t.supports.flag,t.DOMReady=!1,t.readyCallback=function(){t.DOMReady=!0},t.supports.everything||(n=function(){t.readyCallback()},a.addEventListener?(a.addEventListener(\"DOMContentLoaded\",n,!1),e.addEventListener(\"load\",n,!1)):(e.attachEvent(\"onload\",n),a.attachEvent(\"onreadystatechange\",function(){\"complete\"===a.readyState&&t.readyCallback()})),(n=t.source||{}).concatemoji?c(n.concatemoji):n.wpemoji&&n.twemoji&&(c(n.twemoji),c(n.wpemoji)))}(window,document,window._wpemojiSettings);\n",
              "\t\t</script>\n",
              "<style type=\"text/css\">\n",
              "img.wp-smiley,\n",
              "img.emoji {\n",
              "\tdisplay: inline !important;\n",
              "\tborder: none !important;\n",
              "\tbox-shadow: none !important;\n",
              "\theight: 1em !important;\n",
              "\twidth: 1em !important;\n",
              "\tmargin: 0 .07em !important;\n",
              "\tvertical-align: -0.1em !important;\n",
              "\tbackground: none !important;\n",
              "\tpadding: 0 !important;\n",
              "}\n",
              "</style>\n",
              "<link href=\"https://criptotendencia.com/_static/??-eJyVU9uW2yAM/KEqnE1P033p2W/BgL2KMbBINPXfVyGXOrsmTR5sEMwMIwkOCTAYX6wjZYiURWLV+WhG8NhlnWdFPHu3mTBsBPDtkMDEwC6wSr4MGEh5PcfCMGS0Z/AZeFXek5qcRe28m47MZZCE7jJ4N2gzL49psmVvGd+zZmLN5ZzXJYJ1l9f8TZxSDKJDX5NvVUsMccyP4EP58wisJfg5RcIpeSfdCiNYzM4Ia1ZDEVDn8qDIW6gWF25pc5LtCnrbEtZWXJHLLN1JOaqrRR3lQ5ChXfbA2jD0MU/wU90kV09uMnvNsiYEnZQmcnwi9bni7HK/JcHvci1kNbulQtB1CapSiypLKXpPqv5BUHeQRWoD+rdmndes3uvZOrv3mhOaMf+bPS9C8ioMby/jPYG946TlXkzRFmmJ8jg6un3BF0qtKakOWWY36XYxMnGWdqyc1Kb1ggB9cBSn1dvdZu4/isszFHyOdtzBfgYU6JeutmnpPXKkA6YnSmJdr4tnoBHDTfAfiScrX+Fw1n+kz7V6p/kR+jb9etltf+xeX7ffd38Bp8VN+A==\" id=\"all-css-3722d8b9e459ab5d0480cd1f4168655b\" media=\"all\" rel=\"stylesheet\" type=\"text/css\"/>\n",
              "<style id=\"wp-block-library-inline-css\">\n",
              ".has-text-align-justify{text-align:justify;}\n",
              "</style>\n",
              "<style id=\"wp-polls-inline-css\">\n",
              ".wp-polls .pollbar {\n",
              "\tmargin: 1px;\n",
              "\tfont-size: 6px;\n",
              "\tline-height: 8px;\n",
              "\theight: 8px;\n",
              "\tbackground-image: url('https://criptotendencia.com/wp-content/plugins/wp-polls/images/default/pollbg.gif');\n",
              "\tborder: 1px solid #c8c8c8;\n",
              "}\n",
              "\n",
              "</style>\n",
              "<style id=\"bitther-css-inline-css\">\n",
              "\n",
              "\t\t/* Custom  Font size */\n",
              "\t\tbody ,.entry-content {\n",
              "            font-size: 16px;\n",
              "\t\t}\n",
              "\t\n",
              "</style>\n",
              "<link href=\"https://fonts.googleapis.com/css?family=Poppins%3A400%2C600%2C500%2C700&amp;subset=latin%2Clatin-ext\" id=\"bitther_fonts-css\" media=\"all\" rel=\"stylesheet\"/>\n",
              "<style id=\"jetpack-global-styles-frontend-style-inline-css\">\n",
              ":root { --font-headings: unset; --font-base: unset; --font-headings-default: -apple-system,BlinkMacSystemFont,\"Segoe UI\",Roboto,Oxygen-Sans,Ubuntu,Cantarell,\"Helvetica Neue\",sans-serif; --font-base-default: -apple-system,BlinkMacSystemFont,\"Segoe UI\",Roboto,Oxygen-Sans,Ubuntu,Cantarell,\"Helvetica Neue\",sans-serif;}\n",
              "</style>\n",
              "<script id=\"jquery-core-js\" src=\"https://criptotendencia.com/wp-includes/js/jquery/jquery.min.js?ver=3.5.1\"></script>\n",
              "<script src=\"https://criptotendencia.com/_static/??-eJyVjNsKwkAMRH/IbbBaLw/it4RtLKm7cU2yLf59+1DxWRg4w4GZuQSWmGpPBuOadyX9bAiZB0WnJrM0o+3mEuJLnMShpDqwGKyqGmnACR0V0Izc4JHQC8en/trfH0aJordfbvt7vu1P7fHcddfDZQGvhEX2\" type=\"text/javascript\"></script>\n",
              "<link href=\"https://criptotendencia.com/wp-json/\" rel=\"https://api.w.org/\"/><link href=\"https://criptotendencia.com/xmlrpc.php?rsd\" rel=\"EditURI\" title=\"RSD\" type=\"application/rsd+xml\"/>\n",
              "<link href=\"https://criptotendencia.com/wp-includes/wlwmanifest.xml\" rel=\"wlwmanifest\" type=\"application/wlwmanifest+xml\"/>\n",
              "<link href=\"https://wp.me/8FKOR\" rel=\"shortlink\"/>\n",
              "<script async=\"\" src=\"https://pagead2.googlesyndication.com/pagead/js/adsbygoogle.js\"></script>\n",
              "<script>\n",
              "     (adsbygoogle = window.adsbygoogle || []).push({\n",
              "          google_ad_client: \"ca-pub-4725541372140824\",\n",
              "          enable_page_level_ads: true\n",
              "     });\n",
              "</script>\n",
              "<!-- Global site tag (gtag.js) - Google Analytics -->\n",
              "<script async=\"\" src=\"https://www.googletagmanager.com/gtag/js?id=UA-99584072-1\"></script>\n",
              "<script>\n",
              "  window.dataLayer = window.dataLayer || [];\n",
              "  function gtag(){dataLayer.push(arguments);}\n",
              "  gtag('js', new Date());\n",
              "\n",
              "  gtag('config', 'UA-99584072-1');\n",
              "</script><script data-cfasync=\"false\" type=\"text/javascript\">var _mmunch = {'front': false, 'page': false, 'post': false, 'category': false, 'author': false, 'search': false, 'attachment': false, 'tag': false};_mmunch['front'] = true;</script><script async=\"\" data-cfasync=\"false\" data-mailmunch-site-id=\"402923\" data-plugin=\"mc_mm\" id=\"mailmunch-script\" src=\"//a.mailmunch.co/app/v1/site.js\"></script><script type=\"text/javascript\">\n",
              "           var ajaxurl = \"https://criptotendencia.com/wp-admin/admin-ajax.php\";\n",
              "         </script> <meta content=\"\" property=\"fb:app_id\"/>\n",
              "<meta content=\"\" property=\"fb:app_id\"/>\n",
              "<style id=\"wplmi-inline-css\" type=\"text/css\"> span.wplmi-user-avatar { width: 16px;display: inline-block !important;flex-shrink: 0; } img.wplmi-elementor-avatar { border-radius: 100%;margin-right: 3px; } \n",
              "\n",
              "</style>\n",
              "<meta content=\"v1\" name=\"tec-api-version\"/><meta content=\"https://criptotendencia.com\" name=\"tec-api-origin\"/><link href=\"https://criptotendencia.com/wp-json/tribe/events/v1/\" rel=\"https://theeventscalendar.com/\"/> <script>\n",
              "\t\t\tdocument.documentElement.className = document.documentElement.className.replace( 'no-js', 'js' );\n",
              "\t\t</script>\n",
              "<style>\n",
              "\t\t\t.no-js img.lazyload { display: none; }\n",
              "\t\t\tfigure.wp-block-image img.lazyloading { min-width: 150px; }\n",
              "\t\t\t\t\t\t\t.lazyload, .lazyloading { opacity: 0; }\n",
              "\t\t\t\t.lazyloaded {\n",
              "\t\t\t\t\topacity: 1;\n",
              "\t\t\t\t\ttransition: opacity 400ms;\n",
              "\t\t\t\t\ttransition-delay: 0ms;\n",
              "\t\t\t\t}\n",
              "\t\t\t\t\t</style>\n",
              "<style type=\"text/css\">img#wpstats{display:none}</style>\n",
              "<style type=\"text/css\">\n",
              "\t\t\t.recentcomments a {\n",
              "\t\t\t\tdisplay: inline !important;\n",
              "\t\t\t\tpadding: 0 !important;\n",
              "\t\t\t\tmargin: 0 !important;\n",
              "\t\t\t}\n",
              "\n",
              "\t\t\ttable.recentcommentsavatartop img.avatar, table.recentcommentsavatarend img.avatar {\n",
              "\t\t\t\tborder: 0px;\n",
              "\t\t\t\tmargin: 0;\n",
              "\t\t\t}\n",
              "\n",
              "\t\t\ttable.recentcommentsavatartop a, table.recentcommentsavatarend a {\n",
              "\t\t\t\tborder: 0px !important;\n",
              "\t\t\t\tbackground-color: transparent !important;\n",
              "\t\t\t}\n",
              "\n",
              "\t\t\ttd.recentcommentsavatarend, td.recentcommentsavatartop {\n",
              "\t\t\t\tpadding: 0px 0px 1px 0px;\n",
              "\t\t\t\tmargin: 0px;\n",
              "\t\t\t}\n",
              "\n",
              "\t\t\ttd.recentcommentstextend {\n",
              "\t\t\t\tborder: none !important;\n",
              "\t\t\t\tpadding: 0px 0px 2px 10px;\n",
              "\t\t\t}\n",
              "\n",
              "\t\t\t.rtl td.recentcommentstextend {\n",
              "\t\t\t\tpadding: 0px 10px 2px 0px;\n",
              "\t\t\t}\n",
              "\n",
              "\t\t\ttd.recentcommentstexttop {\n",
              "\t\t\t\tborder: none;\n",
              "\t\t\t\tpadding: 0px 0px 0px 10px;\n",
              "\t\t\t}\n",
              "\n",
              "\t\t\t.rtl td.recentcommentstexttop {\n",
              "\t\t\t\tpadding: 0px 10px 0px 0px;\n",
              "\t\t\t}\n",
              "\t\t</style>\n",
              "<style type=\"text/css\">\n",
              "\t\t\t\t/* If html does not have either class, do not show lazy loaded images. */\n",
              "\t\t\t\thtml:not( .jetpack-lazy-images-js-enabled ):not( .js ) .jetpack-lazy-image {\n",
              "\t\t\t\t\tdisplay: none;\n",
              "\t\t\t\t}\n",
              "\t\t\t</style>\n",
              "<script>\n",
              "\t\t\t\tdocument.documentElement.classList.add(\n",
              "\t\t\t\t\t'jetpack-lazy-images-js-enabled'\n",
              "\t\t\t\t);\n",
              "\t\t\t</script>\n",
              "<link href=\"https://i1.wp.com/criptotendencia.com/wp-content/uploads/2017/11/cropped-LOGO-CriptoTendencia.png?fit=32%2C32&amp;ssl=1\" rel=\"icon\" sizes=\"32x32\"/>\n",
              "<link href=\"https://i1.wp.com/criptotendencia.com/wp-content/uploads/2017/11/cropped-LOGO-CriptoTendencia.png?fit=192%2C192&amp;ssl=1\" rel=\"icon\" sizes=\"192x192\"/>\n",
              "<link href=\"https://i1.wp.com/criptotendencia.com/wp-content/uploads/2017/11/cropped-LOGO-CriptoTendencia.png?fit=180%2C180&amp;ssl=1\" rel=\"apple-touch-icon\"/>\n",
              "<meta content=\"https://i1.wp.com/criptotendencia.com/wp-content/uploads/2017/11/cropped-LOGO-CriptoTendencia.png?fit=270%2C270&amp;ssl=1\" name=\"msapplication-TileImage\"/>\n",
              "<style id=\"wp-custom-css\" type=\"text/css\">\n",
              "\t\t\t\t/* Hide post author */\n",
              ".single-post .post-author {\n",
              "  display: none;\n",
              "}\n",
              "\n",
              "/*Hides the bio box from event pages —OJ—ZD1556094*/\n",
              ".single-tribe_events #ts-fab-below {\n",
              "\n",
              "    display: none;\n",
              "\n",
              "}\n",
              "\t\t\t</style>\n",
              "<style>\n",
              ".ai-viewports                 {--ai: 1;}\n",
              ".ai-viewport-3                { display: none !important;}\n",
              ".ai-viewport-2                { display: none !important;}\n",
              ".ai-viewport-1                { display: inherit !important;}\n",
              ".ai-viewport-0                { display: none !important;}\n",
              "@media (min-width: 768px) and (max-width: 979px) {\n",
              ".ai-viewport-1                { display: none !important;}\n",
              ".ai-viewport-2                { display: inherit !important;}\n",
              "}\n",
              "@media (max-width: 767px) {\n",
              ".ai-viewport-1                { display: none !important;}\n",
              ".ai-viewport-3                { display: inherit !important;}\n",
              "}\n",
              ".ai-close {position: relative;}\n",
              ".ai-close-button {position: absolute; top: -8px; right: -8px; width: 24px; height: 24px; background: url(https://criptotendencia.com/wp-content/plugins/ad-inserter-pro/css/images/close-button.png) no-repeat center center; cursor: pointer; z-index: 9; display: none;}\n",
              ".ai-close-show {display: block;}\n",
              ".ai-close-left {right: unset; left: -10px;}\n",
              ".ai-close-bottom {top: unset; bottom: -11px;}\n",
              ".ai-close-none {visibility: hidden;}\n",
              ".ai-close-fit {width: fit-content; width: -moz-fit-content;}\n",
              "</style>\n",
              "</head>\n",
              "<body class=\"home blog tribe-no-js tribe-bar-is-disabled\">\n",
              "<div class=\"wrapper site\" id=\"page\">\n",
              "<div class=\"canvas-overlay\"></div>\n",
              "<header class=\"site-header header-left style_black \" id=\"masthead\">\n",
              "<div id=\"bitther-header\">\n",
              "<div class=\"header-topbar\">\n",
              "<div class=\"top-navbar\" id=\"bitther-top-navbar\">\n",
              "<div class=\"container\">\n",
              "<div class=\"row\">\n",
              "<div class=\"topbar-left col-xs-12 col-sm-8 col-md-8\">\n",
              "<div class=\"na-topbar clearfix\">\n",
              "<nav class=\"collapse navbar-collapse\" id=\"na-top-navigation\">\n",
              "</nav>\n",
              "</div>\n",
              "</div>\n",
              "<div class=\"topbar-right hidden-xs col-sm-4 col-md-4 clearfix\">\n",
              "<div class=\"widget first bitther_social\" id=\"bitther_social-4\"><div class=\"bitther-social-icon clearfix\"><a class=\"ion-social-facebook\" href=\"https://www.facebook.com/CriptoTendencia/\" target=\"_blank\" title=\"ion-social-facebook\"><span class=\"ti-facebook\"></span></a><a class=\"ion-social-twitter\" href=\"https://twitter.com/CriptoTendencia\" target=\"_blank\" title=\"ion-social-twitter\"><span class=\"ti-twitter-alt\"></span></a><a class=\"ion-social-instagram\" href=\"https://www.instagram.com/criptotendenciaok/\" target=\"_blank\" title=\"ion-social-instagram\"><span class=\"ti-instagram\"></span></a><a class=\"ion-social-rss\" href=\"https://feedly.com/i/discover/sources/search/feed/CRIPTO%20TENDENCIA\" target=\"_blank\" title=\"ion-social-rss\"><span class=\"ti-rss\"></span></a></div></div> </div>\n",
              "</div>\n",
              "</div>\n",
              "</div> </div>\n",
              "<div class=\"header-content-logo container\">\n",
              "<div class=\"site-title\">\n",
              "<a href=\"https://criptotendencia.com/\" rel=\"home\">CRIPTO TENDENCIA</a>\n",
              "<p class=\"site-description\">Todas las criptomonedas en un solo lugar</p>\n",
              "</div>\n",
              "<div class=\"main-header\">\n",
              "<div class=\"widget first ai_widget ai-viewport-1\" id=\"ai_widget-63\"><div class=\"code-block code-block-2 ai-track\" data-ai=\"WzIsMiwiVE9QIEJ5Qml0LVRpbWVDb2luLUxpYmVydGV4IC0gRCIsIkIiLDFd\" style=\"margin: 8px 0; clear: both;\">\n",
              "<a href=\"https://criptotendencia.com/2021/06/06/timecoin-tmcn-nft-defi-vtuber-y-servicio-de-emparejamiento-de-jugadores/\" rel=\"noopener\" target=\"blank\"><img border=\"0\" class=\"aligncenter\" src=\"https://enqueinvertir.com/img/bannertokensale.gif\" width=\"728 height=\"/></a></div>\n",
              "</div> </div>\n",
              "<div class=\"header-content-right\">\n",
              "<div class=\"searchform-mini\">\n",
              "<button class=\"btn-mini-search\"><i class=\"ti-search\"></i></button>\n",
              "</div>\n",
              "<div class=\"searchform-wrap search-transition-wrap bitther-hidden\">\n",
              "<div class=\"search-transition-inner\">\n",
              "<form action=\"https://criptotendencia.com/\" class=\"searchform\" method=\"get\">\n",
              "<div class=\"input-group\">\n",
              "<input class=\"form-control\" name=\"s\" placeholder=\"Search ... \" type=\"text\" value=\"\"/>\n",
              "<span class=\"input-group-btn\">\n",
              "<button class=\"btn btn-primary\"><i class=\"ti-search\"></i></button>\n",
              "</span>\n",
              "</div>\n",
              "</form> <button class=\"btn-mini-close pull-right\"><i class=\"ti-close\"></i></button>\n",
              "</div>\n",
              "</div>\n",
              "</div>\n",
              "</div>\n",
              "<div class=\"header-content bar header-fixed\">\n",
              "<div class=\"bitther-header-content container\">\n",
              "<!-- Menu-->\n",
              "<div class=\"nav-menu clearfix\" id=\"na-menu-primary\">\n",
              "<nav class=\"text-center na-menu-primary clearfix\">\n",
              "<ul class=\"nav navbar-nav na-menu mega-menu\" id=\"menu-primary\"><li class=\"menu-item menu-item-type-custom menu-item-object-custom current-menu-item current_page_item menu-item-has-children menu-item-14\" id=\"menu-item-14\"><a aria-current=\"page\" href=\"/\">Inicio</a>\n",
              "<ul class=\"sub-menu\">\n",
              "<li class=\"menu-item menu-item-type-post_type menu-item-object-post menu-item-42431\" id=\"menu-item-42431\"><a href=\"https://criptotendencia.com/2017/05/01/acerca-de-criptotendencia-2/\">Acerca de CriptoTendencia</a></li>\n",
              "<li class=\"menu-item menu-item-type-post_type menu-item-object-post menu-item-42433\" id=\"menu-item-42433\"><a href=\"https://criptotendencia.com/2017/05/01/terminos-de-uso-2/\">Términos de Uso</a></li>\n",
              "<li class=\"menu-item menu-item-type-post_type menu-item-object-page menu-item-770\" id=\"menu-item-770\"><a href=\"https://criptotendencia.com/contacto/\">Contacto</a></li>\n",
              "</ul>\n",
              "</li>\n",
              "<li class=\"menu-item menu-item-type-taxonomy menu-item-object-category menu-item-has-children menu-item-2701\" id=\"menu-item-2701\"><a href=\"https://criptotendencia.com/category/criptomonedas/\">Criptomonedas</a>\n",
              "<ul class=\"sub-menu\">\n",
              "<li class=\"menu-item menu-item-type-taxonomy menu-item-object-category menu-item-has-children menu-item-252\" id=\"menu-item-252\"><a href=\"https://criptotendencia.com/category/bitcoin/\">Bitcoin</a>\n",
              "<ul class=\"sub-menu\">\n",
              "<li class=\"menu-item menu-item-type-post_type menu-item-object-post menu-item-95463\" id=\"menu-item-95463\"><a href=\"https://criptotendencia.com/2019/10/02/bitcoin-en-review/\">Bitcoin en review</a></li>\n",
              "<li class=\"menu-item menu-item-type-post_type menu-item-object-post menu-item-23498\" id=\"menu-item-23498\"><a href=\"https://criptotendencia.com/2020/06/17/el-abc-del-bitcoin/\">Bitcoin: ¿Qué es y como funciona?</a></li>\n",
              "<li class=\"menu-item menu-item-type-post_type menu-item-object-post menu-item-1851\" id=\"menu-item-1851\"><a href=\"https://criptotendencia.com/2019/09/26/billeteras-para-almacenar-bitcoins/\">Billeteras para almacenar Bitcoins</a></li>\n",
              "<li class=\"menu-item menu-item-type-post_type menu-item-object-post menu-item-94425\" id=\"menu-item-94425\"><a href=\"https://criptotendencia.com/2019/09/27/sabes-en-que-consiste-la-mineria-de-bitcoin-aqui-te-lo-explicamos/\">¿Qué es la minería de Bitcoin?</a></li>\n",
              "<li class=\"menu-item menu-item-type-post_type menu-item-object-post menu-item-42438\" id=\"menu-item-42438\"><a href=\"https://criptotendencia.com/2017/05/01/cotizacion-de-bitcoin-online/\">Cotización de Bitcoin Online</a></li>\n",
              "</ul>\n",
              "</li>\n",
              "<li class=\"menu-item menu-item-type-taxonomy menu-item-object-post_tag menu-item-has-children menu-item-8861\" id=\"menu-item-8861\"><a href=\"https://criptotendencia.com/tag/bitcoin-cash/\">Bitcoin Cash</a>\n",
              "<ul class=\"sub-menu\">\n",
              "<li class=\"menu-item menu-item-type-post_type menu-item-object-post menu-item-96107\" id=\"menu-item-96107\"><a href=\"https://criptotendencia.com/2019/10/07/bitcoin-cash-en-review/\">Bitcoin Cash en Review</a></li>\n",
              "<li class=\"menu-item menu-item-type-post_type menu-item-object-post menu-item-8913\" id=\"menu-item-8913\"><a href=\"https://criptotendencia.com/2017/08/03/que-es-el-bitcoin-cash/\">¿Qué es el Bitcoin Cash?</a></li>\n",
              "<li class=\"menu-item menu-item-type-post_type menu-item-object-post menu-item-85362\" id=\"menu-item-85362\"><a href=\"https://criptotendencia.com/2017/05/01/cotizacion-de-bitcoin-cash-online/\">Cotización de Bitcoin Cash Online</a></li>\n",
              "</ul>\n",
              "</li>\n",
              "<li class=\"menu-item menu-item-type-taxonomy menu-item-object-category menu-item-has-children menu-item-285\" id=\"menu-item-285\"><a href=\"https://criptotendencia.com/category/ethereum/\">Ethereum</a>\n",
              "<ul class=\"sub-menu\">\n",
              "<li class=\"menu-item menu-item-type-post_type menu-item-object-post menu-item-95666\" id=\"menu-item-95666\"><a href=\"https://criptotendencia.com/2019/10/04/ethereum-en-review/\">Ethereum en review</a></li>\n",
              "<li class=\"menu-item menu-item-type-post_type menu-item-object-post menu-item-23536\" id=\"menu-item-23536\"><a href=\"https://criptotendencia.com/2019/09/29/el-abc-de-ethereum/\">El ABC de Ethereum</a></li>\n",
              "<li class=\"menu-item menu-item-type-post_type menu-item-object-post menu-item-42504\" id=\"menu-item-42504\"><a href=\"https://criptotendencia.com/2017/05/01/cotizacion-de-ethereum-online/\">Cotización de Ethereum Online</a></li>\n",
              "</ul>\n",
              "</li>\n",
              "<li class=\"menu-item menu-item-type-taxonomy menu-item-object-post_tag menu-item-has-children menu-item-4381\" id=\"menu-item-4381\"><a href=\"https://criptotendencia.com/tag/litecoin/\">Litecoin</a>\n",
              "<ul class=\"sub-menu\">\n",
              "<li class=\"menu-item menu-item-type-post_type menu-item-object-post menu-item-96097\" id=\"menu-item-96097\"><a href=\"https://criptotendencia.com/2019/10/06/litecoin-en-review/\">Litecoin en review</a></li>\n",
              "<li class=\"menu-item menu-item-type-post_type menu-item-object-post menu-item-23853\" id=\"menu-item-23853\"><a href=\"https://criptotendencia.com/2019/09/30/el-abc-del-litecoin/\">El ABC del Litecoin</a></li>\n",
              "<li class=\"menu-item menu-item-type-post_type menu-item-object-post menu-item-42509\" id=\"menu-item-42509\"><a href=\"https://criptotendencia.com/2017/05/01/cotizacion-de-litecoin-online/\">Cotización de Litecoin Online</a></li>\n",
              "</ul>\n",
              "</li>\n",
              "<li class=\"menu-item menu-item-type-taxonomy menu-item-object-post_tag menu-item-has-children menu-item-1351\" id=\"menu-item-1351\"><a href=\"https://criptotendencia.com/tag/ripple/\">Ripple</a>\n",
              "<ul class=\"sub-menu\">\n",
              "<li class=\"menu-item menu-item-type-post_type menu-item-object-post menu-item-95908\" id=\"menu-item-95908\"><a href=\"https://criptotendencia.com/2019/10/05/xrp-en-review/\">XRP en review</a></li>\n",
              "<li class=\"menu-item menu-item-type-post_type menu-item-object-post menu-item-23500\" id=\"menu-item-23500\"><a href=\"https://criptotendencia.com/2019/10/05/criptomoneda-ripple-que-tan-grande-es-su-potencial/\">¿Qué tan grande es el potencial de Ripple?</a></li>\n",
              "</ul>\n",
              "</li>\n",
              "<li class=\"menu-item menu-item-type-custom menu-item-object-custom menu-item-99514\" id=\"menu-item-99514\"><a href=\"https://criptotendencia.com/tag/review-crypto/\">Review Crypto</a></li>\n",
              "</ul>\n",
              "</li>\n",
              "<li class=\"menu-item menu-item-type-taxonomy menu-item-object-category menu-item-has-children menu-item-402\" id=\"menu-item-402\"><a href=\"https://criptotendencia.com/category/inversiones/\">Inversiones</a>\n",
              "<ul class=\"sub-menu\">\n",
              "<li class=\"menu-item menu-item-type-post_type menu-item-object-post menu-item-42371\" id=\"menu-item-42371\"><a href=\"https://criptotendencia.com/2021/04/12/los-5-mejores-exchanges-para-trading-onine/\">Exchanges Online</a></li>\n",
              "<li class=\"menu-item menu-item-type-post_type menu-item-object-post menu-item-63004\" id=\"menu-item-63004\"><a href=\"https://criptotendencia.com/2021/06/16/los-mejores-brokers-para-invertir-en-criptomonedas/\">Brokers Online</a></li>\n",
              "<li class=\"menu-item menu-item-type-taxonomy menu-item-object-category menu-item-59645\" id=\"menu-item-59645\"><a href=\"https://criptotendencia.com/category/inversiones/bolsa-de-valores/\">Bolsa de Valores</a></li>\n",
              "</ul>\n",
              "</li>\n",
              "<li class=\"menu-item menu-item-type-taxonomy menu-item-object-category menu-item-has-children menu-item-10217\" id=\"menu-item-10217\"><a href=\"https://criptotendencia.com/category/noticias/\">Noticias</a>\n",
              "<ul class=\"sub-menu\">\n",
              "<li class=\"menu-item menu-item-type-taxonomy menu-item-object-category menu-item-83455\" id=\"menu-item-83455\"><a href=\"https://criptotendencia.com/category/noticias/noticias-rapidas/\">Noticias Rápidas</a></li>\n",
              "<li class=\"menu-item menu-item-type-custom menu-item-object-custom menu-item-157384\" id=\"menu-item-157384\"><a href=\"https://criptotendencia.com/tag/defi/\">Noticias DeFi</a></li>\n",
              "<li class=\"menu-item menu-item-type-taxonomy menu-item-object-category menu-item-84683\" id=\"menu-item-84683\"><a href=\"https://criptotendencia.com/category/noticias/ballenas-crypto/\">Ballenas Crypto</a></li>\n",
              "</ul>\n",
              "</li>\n",
              "<li class=\"menu-item menu-item-type-custom menu-item-object-custom menu-item-has-children menu-item-42653\" id=\"menu-item-42653\"><a href=\"#\">Herramientas</a>\n",
              "<ul class=\"sub-menu\">\n",
              "<li class=\"menu-item menu-item-type-custom menu-item-object-custom menu-item-53693\" id=\"menu-item-53693\"><a href=\"https://criptotendencia.com/2019/11/18/calendario-de-eventos-blockchain-y-bitcoin/\">Calendario de Eventos</a></li>\n",
              "<li class=\"menu-item menu-item-type-post_type menu-item-object-post menu-item-42651\" id=\"menu-item-42651\"><a href=\"https://criptotendencia.com/2017/05/01/crypto-online/\">Crypto Online</a></li>\n",
              "<li class=\"menu-item menu-item-type-custom menu-item-object-custom menu-item-84139\" id=\"menu-item-84139\"><a href=\"https://criptotendencia.com/2019/07/20/siga-a-las-ballenas-crypto-en-tiempo-real/\">Ballenas Crypto Online</a></li>\n",
              "<li class=\"menu-item menu-item-type-post_type menu-item-object-post menu-item-103754\" id=\"menu-item-103754\"><a href=\"https://criptotendencia.com/2019/11/18/tendencia-de-las-criptomonedas-en-tiempo-real/\">Tendencia de las criptomonedas en tiempo real</a></li>\n",
              "<li class=\"menu-item menu-item-type-post_type menu-item-object-post menu-item-89340\" id=\"menu-item-89340\"><a href=\"https://criptotendencia.com/2019/09/23/sentimiento-del-bitcoin-comprar-vender-esperar/\">Sentimiento del Bitcoin</a></li>\n",
              "</ul>\n",
              "</li>\n",
              "<li class=\"menu-item menu-item-type-custom menu-item-object-custom menu-item-95534\" id=\"menu-item-95534\"><a href=\"https://go.bybit.com/e/hu20SlEzhfb\">Invertir en Bitcoin</a></li>\n",
              "</ul> </nav>\n",
              "</div>\n",
              "<!--Seacrch & Cart-->\n",
              "</div>\n",
              "</div>\n",
              "</div>\n",
              "</header><!-- .site-header --> <div class=\"site-content\" id=\"content\">\n",
              "<div class=\"container\">\n",
              "<div class=\"row\">\n",
              "<div class=\"main-content col-sm-12 col-md-9 col-lg-9 content-right \" role=\"main\">\n",
              "<div class=\"archive-blog row\">\n",
              "<div class=\"item-post post-default-index col-item col-md-12\">\n",
              "<article class=\"post-item post-list clearfix post-200900 post type-post status-publish format-standard has-post-thumbnail hentry category-noticias-bitcoin tag-bitcoin tag-blockchain tag-satoshi-nakamoto\">\n",
              "<div class=\"article-image\">\n",
              "<div class=\"post-image\">\n",
              "<span class=\"bgr-item\"></span>\n",
              "<a href=\"https://criptotendencia.com/2021/07/12/ayudamos-a-crear-bitcoin-la-nueva-revelacion-de-los-gemelos-bogdanov-2/\">\n",
              "<img alt=\"post-image\" class=\"lazy\" data-src=\"https://i0.wp.com/criptotendencia.com/wp-content/uploads/2021/07/Ayudamos-a-crear-Bitcoin-la-nueva-revelacion-de-los-gemelos-Bogdanov.jpg?resize=390%2C260&amp;ssl=1\" src=\"https://criptotendencia.com/wp-content/themes/bitther/assets/images/layzyload_list_latest.jpg\"/>\n",
              "</a>\n",
              "</div>\n",
              "<span class=\"post-cat\"> <a href=\"https://criptotendencia.com/category/noticias/noticias-bitcoin/\" title=\"\">Noticias Bitcoin</a>\n",
              "</span>\n",
              "</div>\n",
              "<div class=\"article-content \">\n",
              "<div class=\"entry-header clearfix\">\n",
              "<div class=\"article-meta clearfix\">\n",
              "<span class=\"byline author-title\"><span class=\"ti-minus\"></span><span class=\"by\">By</span><span class=\"author vcard\"><span class=\"screen-reader-text\">Author </span><a class=\"url fn n\" href=\"https://criptotendencia.com/author/alegilrivero/\">Alejandro Gil</a></span></span><span class=\"posted-on\"><i aria-hidden=\"true\" class=\"icon ti-calendar\"></i><span class=\"screen-reader-text\">Posted on </span><a href=\"https://criptotendencia.com/2021/07/12/ayudamos-a-crear-bitcoin-la-nueva-revelacion-de-los-gemelos-bogdanov-2/\" rel=\"bookmark\"><time class=\"entry-date published\" datetime=\"2021-07-12T15:08:00-03:00\">julio 12, 2021</time><time class=\"updated\" datetime=\"2021-07-12T15:07:02-03:00\">julio 12, 2021</time></a></span> <div class=\"entry-meta-right\">\n",
              "<div class=\"total-view\">\n",
              "<i class=\"ti-eye\"></i> 1526\t\t\t</div>\n",
              "<span class=\"comments-link\">\n",
              "<a class=\"text-comment\" href=\"https://criptotendencia.com/2021/07/12/ayudamos-a-crear-bitcoin-la-nueva-revelacion-de-los-gemelos-bogdanov-2/#respond\"><i aria-hidden=\"true\" class=\"icon ti-comment-alt\"></i> 0</a>\n",
              "</span>\n",
              "</div>\n",
              "</div>\n",
              "<div class=\"entry-header-title\">\n",
              "<h3 class=\"entry-title\"><a href=\"https://criptotendencia.com/2021/07/12/ayudamos-a-crear-bitcoin-la-nueva-revelacion-de-los-gemelos-bogdanov-2/\" rel=\"bookmark\">Ayudamos a crear Bitcoin: la nueva «revelación» de los gemelos Bogdanov</a></h3> </div>\n",
              "</div>\n",
              "<div class=\"entry-content\">\n",
              "<div class=\"entry-excerpt\">\n",
              "<p>Los gemelos Bogdanov, populares por un meme de manipulación de precio, aseguran que ayudaron a Satoshi Nakamoto a crear Bitcoin. </p>\n",
              "</div><!-- .entry-excerpt -->\n",
              "</div>\n",
              "</div>\n",
              "</article><!-- #post-## -->\n",
              "</div>\n",
              "<div class=\"item-post post-default-index col-item col-md-12\">\n",
              "<article class=\"post-item post-list clearfix post-200841 post type-post status-publish format-standard has-post-thumbnail hentry category-noticias tag-blockchain tag-criptomonedas tag-finanzas tag-tecnologia-blockchain\">\n",
              "<div class=\"article-image\">\n",
              "<div class=\"post-image\">\n",
              "<span class=\"bgr-item\"></span>\n",
              "<a href=\"https://criptotendencia.com/2021/07/12/la-tecnologia-blockchain-puede-empoderar-financieramente-a-las-mujeres-incluso-en-un-escenario-pandemico-2/\">\n",
              "<img alt=\"post-image\" class=\"lazy\" data-src=\"https://i1.wp.com/criptotendencia.com/wp-content/uploads/2021/07/La-tecnologia-Blockchain-puede-empoderar-financieramente-a-las-mujeres-incluso-en-un-escenario-pandemico.jpg?resize=390%2C260&amp;ssl=1\" src=\"https://criptotendencia.com/wp-content/themes/bitther/assets/images/layzyload_list_latest.jpg\"/>\n",
              "</a>\n",
              "</div>\n",
              "<span class=\"post-cat\"> <a href=\"https://criptotendencia.com/category/noticias/\" title=\"\">Noticias</a>\n",
              "</span>\n",
              "</div>\n",
              "<div class=\"article-content \">\n",
              "<div class=\"entry-header clearfix\">\n",
              "<div class=\"article-meta clearfix\">\n",
              "<span class=\"byline author-title\"><span class=\"ti-minus\"></span><span class=\"by\">By</span><span class=\"author vcard\"><span class=\"screen-reader-text\">Author </span><a class=\"url fn n\" href=\"https://criptotendencia.com/author/samanthajct/\">Samantha Jimenez</a></span></span><span class=\"posted-on\"><i aria-hidden=\"true\" class=\"icon ti-calendar\"></i><span class=\"screen-reader-text\">Posted on </span><a href=\"https://criptotendencia.com/2021/07/12/la-tecnologia-blockchain-puede-empoderar-financieramente-a-las-mujeres-incluso-en-un-escenario-pandemico-2/\" rel=\"bookmark\"><time class=\"entry-date published\" datetime=\"2021-07-12T02:12:00-03:00\">julio 12, 2021</time><time class=\"updated\" datetime=\"2021-07-12T02:11:44-03:00\">julio 12, 2021</time></a></span> <div class=\"entry-meta-right\">\n",
              "<div class=\"total-view\">\n",
              "<i class=\"ti-eye\"></i> 2310\t\t\t</div>\n",
              "<span class=\"comments-link\">\n",
              "<a class=\"text-comment\" href=\"https://criptotendencia.com/2021/07/12/la-tecnologia-blockchain-puede-empoderar-financieramente-a-las-mujeres-incluso-en-un-escenario-pandemico-2/#respond\"><i aria-hidden=\"true\" class=\"icon ti-comment-alt\"></i> 0</a>\n",
              "</span>\n",
              "</div>\n",
              "</div>\n",
              "<div class=\"entry-header-title\">\n",
              "<h3 class=\"entry-title\"><a href=\"https://criptotendencia.com/2021/07/12/la-tecnologia-blockchain-puede-empoderar-financieramente-a-las-mujeres-incluso-en-un-escenario-pandemico-2/\" rel=\"bookmark\">La tecnología Blockchain puede empoderar financieramente a las mujeres incluso en un escenario pandémico</a></h3> </div>\n",
              "</div>\n",
              "<div class=\"entry-content\">\n",
              "<div class=\"entry-excerpt\">\n",
              "<p>En un mundo tan cambiante, ahora es posible que gracias a la tecnología Blockchain mujeres puedan lograr su libertad financiera.</p>\n",
              "</div><!-- .entry-excerpt -->\n",
              "</div>\n",
              "</div>\n",
              "</article><!-- #post-## -->\n",
              "</div>\n",
              "<div class=\"item-post post-default-index col-item col-md-12\">\n",
              "<article class=\"post-item post-list clearfix post-200824 post type-post status-publish format-standard has-post-thumbnail hentry category-el-tweet-del-dia tag-bitcoin tag-criptomonedas tag-paraguay\">\n",
              "<div class=\"article-image\">\n",
              "<div class=\"post-image\">\n",
              "<span class=\"bgr-item\"></span>\n",
              "<a href=\"https://criptotendencia.com/2021/07/12/paraguay-podria-adoptar-bitcoin-como-moneda-de-curso-legal-2/\">\n",
              "<img alt=\"post-image\" class=\"lazy\" data-src=\"https://i0.wp.com/criptotendencia.com/wp-content/uploads/2021/07/Paraguay-podria-adoptar-Bitcoin-como-moneda-de-curso-legal.jpg?resize=390%2C260&amp;ssl=1\" src=\"https://criptotendencia.com/wp-content/themes/bitther/assets/images/layzyload_list_latest.jpg\"/>\n",
              "</a>\n",
              "</div>\n",
              "<span class=\"post-cat\"> <a href=\"https://criptotendencia.com/category/noticias/el-tweet-del-dia/\" title=\"\">El Tweet del Día</a>\n",
              "</span>\n",
              "</div>\n",
              "<div class=\"article-content \">\n",
              "<div class=\"entry-header clearfix\">\n",
              "<div class=\"article-meta clearfix\">\n",
              "<span class=\"byline author-title\"><span class=\"ti-minus\"></span><span class=\"by\">By</span><span class=\"author vcard\"><span class=\"screen-reader-text\">Author </span><a class=\"url fn n\" href=\"https://criptotendencia.com/author/davidfuentesct/\">David Fuentes</a></span></span><span class=\"posted-on\"><i aria-hidden=\"true\" class=\"icon ti-calendar\"></i><span class=\"screen-reader-text\">Posted on </span><a href=\"https://criptotendencia.com/2021/07/12/paraguay-podria-adoptar-bitcoin-como-moneda-de-curso-legal-2/\" rel=\"bookmark\"><time class=\"entry-date published\" datetime=\"2021-07-12T01:41:00-03:00\">julio 12, 2021</time><time class=\"updated\" datetime=\"2021-07-12T01:45:11-03:00\">julio 12, 2021</time></a></span> <div class=\"entry-meta-right\">\n",
              "<div class=\"total-view\">\n",
              "<i class=\"ti-eye\"></i> 2702\t\t\t</div>\n",
              "<span class=\"comments-link\">\n",
              "<a class=\"text-comment\" href=\"https://criptotendencia.com/2021/07/12/paraguay-podria-adoptar-bitcoin-como-moneda-de-curso-legal-2/#respond\"><i aria-hidden=\"true\" class=\"icon ti-comment-alt\"></i> 0</a>\n",
              "</span>\n",
              "</div>\n",
              "</div>\n",
              "<div class=\"entry-header-title\">\n",
              "<h3 class=\"entry-title\"><a href=\"https://criptotendencia.com/2021/07/12/paraguay-podria-adoptar-bitcoin-como-moneda-de-curso-legal-2/\" rel=\"bookmark\">Paraguay podría adoptar Bitcoin como moneda de curso legal</a></h3> </div>\n",
              "</div>\n",
              "<div class=\"entry-content\">\n",
              "<div class=\"entry-excerpt\">\n",
              "<p>Paraguay podría estar iniciando su camino a la adopción definitiva de criptomonedas en los próximos días. Entérate en el tweet del día.</p>\n",
              "</div><!-- .entry-excerpt -->\n",
              "</div>\n",
              "</div>\n",
              "</article><!-- #post-## -->\n",
              "</div>\n",
              "<div class=\"item-post post-default-index col-item col-md-12\">\n",
              "<article class=\"post-item post-list clearfix post-200863 post type-post status-publish format-standard has-post-thumbnail hentry category-ballenas-crypto tag-ballenas-bitcoin tag-bitcoin tag-btc\">\n",
              "<div class=\"article-image\">\n",
              "<div class=\"post-image\">\n",
              "<span class=\"bgr-item\"></span>\n",
              "<a href=\"https://criptotendencia.com/2021/07/12/ballenas-bitcoin-movilizaron-22-174-btc-la-semana-pasada-hay-tendencia-bajista-este-mes/\">\n",
              "<img alt=\"post-image\" class=\"lazy\" data-src=\"https://i2.wp.com/criptotendencia.com/wp-content/uploads/2021/07/Ballenas-Bitcoin-movilizaron-22.174-BTC-la-semana-pasada.jpg?resize=390%2C260&amp;ssl=1\" src=\"https://criptotendencia.com/wp-content/themes/bitther/assets/images/layzyload_list_latest.jpg\"/>\n",
              "</a>\n",
              "</div>\n",
              "<span class=\"post-cat\"> <a href=\"https://criptotendencia.com/category/noticias/ballenas-crypto/\" title=\"\">Ballenas Crypto</a>\n",
              "</span>\n",
              "</div>\n",
              "<div class=\"article-content \">\n",
              "<div class=\"entry-header clearfix\">\n",
              "<div class=\"article-meta clearfix\">\n",
              "<span class=\"byline author-title\"><span class=\"ti-minus\"></span><span class=\"by\">By</span><span class=\"author vcard\"><span class=\"screen-reader-text\">Author </span><a class=\"url fn n\" href=\"https://criptotendencia.com/author/arianacairoct/\">Ariana Cairo</a></span></span><span class=\"posted-on\"><i aria-hidden=\"true\" class=\"icon ti-calendar\"></i><span class=\"screen-reader-text\">Posted on </span><a href=\"https://criptotendencia.com/2021/07/12/ballenas-bitcoin-movilizaron-22-174-btc-la-semana-pasada-hay-tendencia-bajista-este-mes/\" rel=\"bookmark\"><time class=\"entry-date published\" datetime=\"2021-07-12T01:32:00-03:00\">julio 12, 2021</time><time class=\"updated\" datetime=\"2021-07-12T01:30:58-03:00\">julio 12, 2021</time></a></span> <div class=\"entry-meta-right\">\n",
              "<div class=\"total-view\">\n",
              "<i class=\"ti-eye\"></i> 2999\t\t\t</div>\n",
              "<span class=\"comments-link\">\n",
              "<a class=\"text-comment\" href=\"https://criptotendencia.com/2021/07/12/ballenas-bitcoin-movilizaron-22-174-btc-la-semana-pasada-hay-tendencia-bajista-este-mes/#comments\"><i aria-hidden=\"true\" class=\"icon ti-comment-alt\"></i> 1</a>\n",
              "</span>\n",
              "</div>\n",
              "</div>\n",
              "<div class=\"entry-header-title\">\n",
              "<h3 class=\"entry-title\"><a href=\"https://criptotendencia.com/2021/07/12/ballenas-bitcoin-movilizaron-22-174-btc-la-semana-pasada-hay-tendencia-bajista-este-mes/\" rel=\"bookmark\">Ballenas Bitcoin movilizaron 22.174 BTC la semana pasada ¿Hay tendencia bajista este mes?</a></h3> </div>\n",
              "</div>\n",
              "<div class=\"entry-content\">\n",
              "<div class=\"entry-excerpt\">\n",
              "<p>Las Ballenas Bitcoin movilizaron 22.174 BTC la semana pasada, pero, ¿esto quiere decir de alguna forma que hay tendencia bajista este mes? Veamos.</p>\n",
              "</div><!-- .entry-excerpt -->\n",
              "</div>\n",
              "</div>\n",
              "</article><!-- #post-## -->\n",
              "</div>\n",
              "<div class=\"item-post post-default-index col-item col-md-12\">\n",
              "<article class=\"post-item post-list clearfix post-200807 post type-post status-publish format-standard has-post-thumbnail hentry category-noticias-bitcoin tag-bitcoin tag-btc tag-china tag-criptomineros tag-mineria-bitcoin\">\n",
              "<div class=\"article-image\">\n",
              "<div class=\"post-image\">\n",
              "<span class=\"bgr-item\"></span>\n",
              "<a href=\"https://criptotendencia.com/2021/07/11/mineria-bitcoin-semana-cargada-de-noticias-positivas-y-polemicas-2/\">\n",
              "<img alt=\"post-image\" class=\"lazy\" data-src=\"https://i2.wp.com/criptotendencia.com/wp-content/uploads/2021/07/Mineria-Bitcoin-semana-cargada-de-noticias-positivas-y-polemicas.jpg?resize=390%2C260&amp;ssl=1\" src=\"https://criptotendencia.com/wp-content/themes/bitther/assets/images/layzyload_list_latest.jpg\"/>\n",
              "</a>\n",
              "</div>\n",
              "<span class=\"post-cat\"> <a href=\"https://criptotendencia.com/category/noticias/noticias-bitcoin/\" title=\"\">Noticias Bitcoin</a>\n",
              "</span>\n",
              "</div>\n",
              "<div class=\"article-content \">\n",
              "<div class=\"entry-header clearfix\">\n",
              "<div class=\"article-meta clearfix\">\n",
              "<span class=\"byline author-title\"><span class=\"ti-minus\"></span><span class=\"by\">By</span><span class=\"author vcard\"><span class=\"screen-reader-text\">Author </span><a class=\"url fn n\" href=\"https://criptotendencia.com/author/alegilrivero/\">Alejandro Gil</a></span></span><span class=\"posted-on\"><i aria-hidden=\"true\" class=\"icon ti-calendar\"></i><span class=\"screen-reader-text\">Posted on </span><a href=\"https://criptotendencia.com/2021/07/11/mineria-bitcoin-semana-cargada-de-noticias-positivas-y-polemicas-2/\" rel=\"bookmark\"><time class=\"entry-date published\" datetime=\"2021-07-11T17:17:00-03:00\">julio 11, 2021</time><time class=\"updated\" datetime=\"2021-07-11T17:15:22-03:00\">julio 11, 2021</time></a></span> <div class=\"entry-meta-right\">\n",
              "<div class=\"total-view\">\n",
              "<i class=\"ti-eye\"></i> 2949\t\t\t</div>\n",
              "<span class=\"comments-link\">\n",
              "<a class=\"text-comment\" href=\"https://criptotendencia.com/2021/07/11/mineria-bitcoin-semana-cargada-de-noticias-positivas-y-polemicas-2/#respond\"><i aria-hidden=\"true\" class=\"icon ti-comment-alt\"></i> 0</a>\n",
              "</span>\n",
              "</div>\n",
              "</div>\n",
              "<div class=\"entry-header-title\">\n",
              "<h3 class=\"entry-title\"><a href=\"https://criptotendencia.com/2021/07/11/mineria-bitcoin-semana-cargada-de-noticias-positivas-y-polemicas-2/\" rel=\"bookmark\">Minería Bitcoin: semana cargada de noticias positivas y polémicas</a></h3> </div>\n",
              "</div>\n",
              "<div class=\"entry-content\">\n",
              "<div class=\"entry-excerpt\">\n",
              "<p>En esta edición del resumen semanal, se presentan las noticias relacionadas con la minería de Bitcoin más destacadas y cargadas de polémica.</p>\n",
              "</div><!-- .entry-excerpt -->\n",
              "</div>\n",
              "</div>\n",
              "</article><!-- #post-## -->\n",
              "</div>\n",
              "<div class=\"item-post post-default-index col-item col-md-12\">\n",
              "<article class=\"post-item post-list clearfix post-200830 post type-post status-publish format-standard has-post-thumbnail hentry category-inversiones tag-analisis-fundamental tag-analisis-tecnico tag-bitcoin tag-precio-del-bitcoin\">\n",
              "<div class=\"article-image\">\n",
              "<div class=\"post-image\">\n",
              "<span class=\"bgr-item\"></span>\n",
              "<a href=\"https://criptotendencia.com/2021/07/11/bitcoin-continua-lateralizado-descubre-aqui-hacia-donde-es-probable-que-se-mueva-esta-semana-2/\">\n",
              "<img alt=\"post-image\" class=\"lazy\" data-src=\"https://i2.wp.com/criptotendencia.com/wp-content/uploads/2021/07/Bitcoin-continua-lateralizado.-Descubre-aqui-hacia-donde-es-probable-que-se-mueva-esta-semana.png?resize=390%2C260&amp;ssl=1\" src=\"https://criptotendencia.com/wp-content/themes/bitther/assets/images/layzyload_list_latest.jpg\"/>\n",
              "</a>\n",
              "</div>\n",
              "<span class=\"post-cat\"> <a href=\"https://criptotendencia.com/category/inversiones/\" title=\"\">Inversiones</a>\n",
              "</span>\n",
              "</div>\n",
              "<div class=\"article-content \">\n",
              "<div class=\"entry-header clearfix\">\n",
              "<div class=\"article-meta clearfix\">\n",
              "<span class=\"byline author-title\"><span class=\"ti-minus\"></span><span class=\"by\">By</span><span class=\"author vcard\"><span class=\"screen-reader-text\">Author </span><a class=\"url fn n\" href=\"https://criptotendencia.com/author/vhquionez/\">Claudio Quiñonez</a></span></span><span class=\"posted-on\"><i aria-hidden=\"true\" class=\"icon ti-calendar\"></i><span class=\"screen-reader-text\">Posted on </span><a href=\"https://criptotendencia.com/2021/07/11/bitcoin-continua-lateralizado-descubre-aqui-hacia-donde-es-probable-que-se-mueva-esta-semana-2/\" rel=\"bookmark\"><time class=\"entry-date published\" datetime=\"2021-07-11T16:45:00-03:00\">julio 11, 2021</time><time class=\"updated\" datetime=\"2021-07-11T16:44:04-03:00\">julio 11, 2021</time></a></span> <div class=\"entry-meta-right\">\n",
              "<div class=\"total-view\">\n",
              "<i class=\"ti-eye\"></i> 3063\t\t\t</div>\n",
              "<span class=\"comments-link\">\n",
              "<a class=\"text-comment\" href=\"https://criptotendencia.com/2021/07/11/bitcoin-continua-lateralizado-descubre-aqui-hacia-donde-es-probable-que-se-mueva-esta-semana-2/#respond\"><i aria-hidden=\"true\" class=\"icon ti-comment-alt\"></i> 0</a>\n",
              "</span>\n",
              "</div>\n",
              "</div>\n",
              "<div class=\"entry-header-title\">\n",
              "<h3 class=\"entry-title\"><a href=\"https://criptotendencia.com/2021/07/11/bitcoin-continua-lateralizado-descubre-aqui-hacia-donde-es-probable-que-se-mueva-esta-semana-2/\" rel=\"bookmark\">Bitcoin continúa lateralizado. Descubre aquí hacia donde es probable que se mueva esta semana</a></h3> </div>\n",
              "</div>\n",
              "<div class=\"entry-content\">\n",
              "<div class=\"entry-excerpt\">\n",
              "<p>El precio del Bitcoin continúa lateralizado, envuelto en un comportamiento muy poco volátil. Acá un análisis de la situación actual. </p>\n",
              "</div><!-- .entry-excerpt -->\n",
              "</div>\n",
              "</div>\n",
              "</article><!-- #post-## -->\n",
              "</div>\n",
              "<div class=\"item-post post-default-index col-item col-md-12\">\n",
              "<article class=\"post-item post-list clearfix post-200787 post type-post status-publish format-standard has-post-thumbnail hentry category-noticias tag-criptomonedas tag-diamante tag-sothebys tag-subasta\">\n",
              "<div class=\"article-image\">\n",
              "<div class=\"post-image\">\n",
              "<span class=\"bgr-item\"></span>\n",
              "<a href=\"https://criptotendencia.com/2021/07/11/sothebys-vende-un-diamante-en-criptomonedas-2/\">\n",
              "<img alt=\"post-image\" class=\"lazy\" data-src=\"https://i2.wp.com/criptotendencia.com/wp-content/uploads/2021/07/Sothebys-vende-un-diamante-en-criptomonedas.jpg?resize=390%2C260&amp;ssl=1\" src=\"https://criptotendencia.com/wp-content/themes/bitther/assets/images/layzyload_list_latest.jpg\"/>\n",
              "</a>\n",
              "</div>\n",
              "<span class=\"post-cat\"> <a href=\"https://criptotendencia.com/category/noticias/\" title=\"\">Noticias</a>\n",
              "</span>\n",
              "</div>\n",
              "<div class=\"article-content \">\n",
              "<div class=\"entry-header clearfix\">\n",
              "<div class=\"article-meta clearfix\">\n",
              "<span class=\"byline author-title\"><span class=\"ti-minus\"></span><span class=\"by\">By</span><span class=\"author vcard\"><span class=\"screen-reader-text\">Author </span><a class=\"url fn n\" href=\"https://criptotendencia.com/author/jennysleonett10283989/\">Jennys Leonett Figuera</a></span></span><span class=\"posted-on\"><i aria-hidden=\"true\" class=\"icon ti-calendar\"></i><span class=\"screen-reader-text\">Posted on </span><a href=\"https://criptotendencia.com/2021/07/11/sothebys-vende-un-diamante-en-criptomonedas-2/\" rel=\"bookmark\"><time class=\"entry-date published\" datetime=\"2021-07-11T16:09:00-03:00\">julio 11, 2021</time><time class=\"updated\" datetime=\"2021-07-11T16:10:11-03:00\">julio 11, 2021</time></a></span> <div class=\"entry-meta-right\">\n",
              "<div class=\"total-view\">\n",
              "<i class=\"ti-eye\"></i> 2755\t\t\t</div>\n",
              "<span class=\"comments-link\">\n",
              "<a class=\"text-comment\" href=\"https://criptotendencia.com/2021/07/11/sothebys-vende-un-diamante-en-criptomonedas-2/#respond\"><i aria-hidden=\"true\" class=\"icon ti-comment-alt\"></i> 0</a>\n",
              "</span>\n",
              "</div>\n",
              "</div>\n",
              "<div class=\"entry-header-title\">\n",
              "<h3 class=\"entry-title\"><a href=\"https://criptotendencia.com/2021/07/11/sothebys-vende-un-diamante-en-criptomonedas-2/\" rel=\"bookmark\">Sotheby’s vende un diamante en criptomonedas</a></h3> </div>\n",
              "</div>\n",
              "<div class=\"entry-content\">\n",
              "<div class=\"entry-excerpt\">\n",
              "<p>La casa de subasta Sotheby’s vende un diamante de más de 100 quilates por $ 12,3 millones en criptomonedas ¡Te contamos los detalles!</p>\n",
              "</div><!-- .entry-excerpt -->\n",
              "</div>\n",
              "</div>\n",
              "</article><!-- #post-## -->\n",
              "</div>\n",
              "<div class=\"code-block code-block-13 ai-viewport-2 ai-viewport-3 ai-track\" data-ai=\"WzEzLDAsIkVudHJhZGFzIEhvbWUgTW9iaWxlIC0gTVQiLCIiLDFd\" style=\"margin: 8px 0; clear: both;\">\n",
              "<script async=\"\" src=\"https://pagead2.googlesyndication.com/pagead/js/adsbygoogle.js\"></script>\n",
              "<ins class=\"adsbygoogle\" data-ad-client=\"ca-pub-4725541372140824\" data-ad-format=\"fluid\" data-ad-layout=\"in-article\" data-ad-slot=\"5798938624\" style=\"display:block; text-align:center;\"></ins>\n",
              "<script>\n",
              "     (adsbygoogle = window.adsbygoogle || []).push({});\n",
              "</script></div>\n",
              "<div class=\"item-post post-default-index col-item col-md-12\">\n",
              "<article class=\"post-item post-list clearfix post-200767 post type-post status-publish format-standard has-post-thumbnail hentry category-noticias tag-bitcoin tag-criptomonedas tag-steve-wozniak\">\n",
              "<div class=\"article-image\">\n",
              "<div class=\"post-image\">\n",
              "<span class=\"bgr-item\"></span>\n",
              "<a href=\"https://criptotendencia.com/2021/07/11/cofundador-de-apple-ratifico-su-apoyo-a-bitcoin-y-expreso-que-es-mejor-que-el-oro-2/\">\n",
              "<img alt=\"post-image\" class=\"lazy\" data-src=\"https://i1.wp.com/criptotendencia.com/wp-content/uploads/2021/07/Cofundador-de-Apple-ratifico-su-apoyo-a-Bitcoin-y-expreso-que-es-mejor-que-el-oro.jpg?resize=390%2C260&amp;ssl=1\" src=\"https://criptotendencia.com/wp-content/themes/bitther/assets/images/layzyload_list_latest.jpg\"/>\n",
              "</a>\n",
              "</div>\n",
              "<span class=\"post-cat\"> <a href=\"https://criptotendencia.com/category/noticias/\" title=\"\">Noticias</a>\n",
              "</span>\n",
              "</div>\n",
              "<div class=\"article-content \">\n",
              "<div class=\"entry-header clearfix\">\n",
              "<div class=\"article-meta clearfix\">\n",
              "<span class=\"byline author-title\"><span class=\"ti-minus\"></span><span class=\"by\">By</span><span class=\"author vcard\"><span class=\"screen-reader-text\">Author </span><a class=\"url fn n\" href=\"https://criptotendencia.com/author/samanthajct/\">Samantha Jimenez</a></span></span><span class=\"posted-on\"><i aria-hidden=\"true\" class=\"icon ti-calendar\"></i><span class=\"screen-reader-text\">Posted on </span><a href=\"https://criptotendencia.com/2021/07/11/cofundador-de-apple-ratifico-su-apoyo-a-bitcoin-y-expreso-que-es-mejor-que-el-oro-2/\" rel=\"bookmark\"><time class=\"entry-date published\" datetime=\"2021-07-11T01:42:00-03:00\">julio 11, 2021</time><time class=\"updated\" datetime=\"2021-07-11T01:40:54-03:00\">julio 11, 2021</time></a></span> <div class=\"entry-meta-right\">\n",
              "<div class=\"total-view\">\n",
              "<i class=\"ti-eye\"></i> 3169\t\t\t</div>\n",
              "<span class=\"comments-link\">\n",
              "<a class=\"text-comment\" href=\"https://criptotendencia.com/2021/07/11/cofundador-de-apple-ratifico-su-apoyo-a-bitcoin-y-expreso-que-es-mejor-que-el-oro-2/#respond\"><i aria-hidden=\"true\" class=\"icon ti-comment-alt\"></i> 0</a>\n",
              "</span>\n",
              "</div>\n",
              "</div>\n",
              "<div class=\"entry-header-title\">\n",
              "<h3 class=\"entry-title\"><a href=\"https://criptotendencia.com/2021/07/11/cofundador-de-apple-ratifico-su-apoyo-a-bitcoin-y-expreso-que-es-mejor-que-el-oro-2/\" rel=\"bookmark\">Cofundador de Apple ratificó su apoyo a Bitcoin y expresó que es mejor que el oro</a></h3> </div>\n",
              "</div>\n",
              "<div class=\"entry-content\">\n",
              "<div class=\"entry-excerpt\">\n",
              "<p>Steve Wozniak cofundador de Apple ha ratificado su respaldo a Bitcoin y ha dicho que la criptomoneda es mejor que el oro. </p>\n",
              "</div><!-- .entry-excerpt -->\n",
              "</div>\n",
              "</div>\n",
              "</article><!-- #post-## -->\n",
              "</div>\n",
              "<div class=\"item-post post-default-index col-item col-md-12\">\n",
              "<article class=\"post-item post-list clearfix post-200721 post type-post status-publish format-standard has-post-thumbnail hentry category-blockchain tag-arte tag-educacion tag-energia tag-salud tag-tecnologia-blockchain\">\n",
              "<div class=\"article-image\">\n",
              "<div class=\"post-image\">\n",
              "<span class=\"bgr-item\"></span>\n",
              "<a href=\"https://criptotendencia.com/2021/07/11/la-oportunidad-es-hoy-con-la-tecnologia-blockchain/\">\n",
              "<img alt=\"post-image\" class=\"lazy\" data-src=\"https://i1.wp.com/criptotendencia.com/wp-content/uploads/2021/07/La-oportunidad-es-hoy-con-la-tecnologia-Blockchain.jpg?resize=390%2C260&amp;ssl=1\" src=\"https://criptotendencia.com/wp-content/themes/bitther/assets/images/layzyload_list_latest.jpg\"/>\n",
              "</a>\n",
              "</div>\n",
              "<span class=\"post-cat\"> <a href=\"https://criptotendencia.com/category/blockchain/\" title=\"\">Blockchain</a>\n",
              "</span>\n",
              "</div>\n",
              "<div class=\"article-content \">\n",
              "<div class=\"entry-header clearfix\">\n",
              "<div class=\"article-meta clearfix\">\n",
              "<span class=\"byline author-title\"><span class=\"ti-minus\"></span><span class=\"by\">By</span><span class=\"author vcard\"><span class=\"screen-reader-text\">Author </span><a class=\"url fn n\" href=\"https://criptotendencia.com/author/jennysleonett10283989/\">Jennys Leonett Figuera</a></span></span><span class=\"posted-on\"><i aria-hidden=\"true\" class=\"icon ti-calendar\"></i><span class=\"screen-reader-text\">Posted on </span><a href=\"https://criptotendencia.com/2021/07/11/la-oportunidad-es-hoy-con-la-tecnologia-blockchain/\" rel=\"bookmark\"><time class=\"entry-date published\" datetime=\"2021-07-11T00:00:00-03:00\">julio 11, 2021</time><time class=\"updated\" datetime=\"2021-07-10T20:47:36-03:00\">julio 10, 2021</time></a></span> <div class=\"entry-meta-right\">\n",
              "<div class=\"total-view\">\n",
              "<i class=\"ti-eye\"></i> 2900\t\t\t</div>\n",
              "<span class=\"comments-link\">\n",
              "<a class=\"text-comment\" href=\"https://criptotendencia.com/2021/07/11/la-oportunidad-es-hoy-con-la-tecnologia-blockchain/#respond\"><i aria-hidden=\"true\" class=\"icon ti-comment-alt\"></i> 0</a>\n",
              "</span>\n",
              "</div>\n",
              "</div>\n",
              "<div class=\"entry-header-title\">\n",
              "<h3 class=\"entry-title\"><a href=\"https://criptotendencia.com/2021/07/11/la-oportunidad-es-hoy-con-la-tecnologia-blockchain/\" rel=\"bookmark\">¡La oportunidad es hoy con la tecnología Blockchain!</a></h3> </div>\n",
              "</div>\n",
              "<div class=\"entry-content\">\n",
              "<div class=\"entry-excerpt\">\n",
              "<p>La tecnología Blockchain tiene que ser una de las mayores innovaciones del siglo XXI, dado el efecto que está teniendo en varios sectores.</p>\n",
              "</div><!-- .entry-excerpt -->\n",
              "</div>\n",
              "</div>\n",
              "</article><!-- #post-## -->\n",
              "</div>\n",
              "<div class=\"item-post post-default-index col-item col-md-12\">\n",
              "<article class=\"post-item post-list clearfix post-200744 post type-post status-publish format-standard has-post-thumbnail hentry category-noticias-bitcoin tag-bitcoin tag-bitcoin-private tag-microsoft\">\n",
              "<div class=\"article-image\">\n",
              "<div class=\"post-image\">\n",
              "<span class=\"bgr-item\"></span>\n",
              "<a href=\"https://criptotendencia.com/2021/07/10/microsoft-usara-bitcoin-para-proteccion-de-identidad-virtual-2/\">\n",
              "<img alt=\"post-image\" class=\"lazy\" data-src=\"https://i2.wp.com/criptotendencia.com/wp-content/uploads/2021/07/Microsoft-usara-Bitcoin-para-proteccion-de-identidad-virtual.jpg?resize=390%2C260&amp;ssl=1\" src=\"https://criptotendencia.com/wp-content/themes/bitther/assets/images/layzyload_list_latest.jpg\"/>\n",
              "</a>\n",
              "</div>\n",
              "<span class=\"post-cat\"> <a href=\"https://criptotendencia.com/category/noticias/noticias-bitcoin/\" title=\"\">Noticias Bitcoin</a>\n",
              "</span>\n",
              "</div>\n",
              "<div class=\"article-content \">\n",
              "<div class=\"entry-header clearfix\">\n",
              "<div class=\"article-meta clearfix\">\n",
              "<span class=\"byline author-title\"><span class=\"ti-minus\"></span><span class=\"by\">By</span><span class=\"author vcard\"><span class=\"screen-reader-text\">Author </span><a class=\"url fn n\" href=\"https://criptotendencia.com/author/alegilrivero/\">Alejandro Gil</a></span></span><span class=\"posted-on\"><i aria-hidden=\"true\" class=\"icon ti-calendar\"></i><span class=\"screen-reader-text\">Posted on </span><a href=\"https://criptotendencia.com/2021/07/10/microsoft-usara-bitcoin-para-proteccion-de-identidad-virtual-2/\" rel=\"bookmark\"><time class=\"entry-date published\" datetime=\"2021-07-10T19:30:31-03:00\">julio 10, 2021</time><time class=\"updated\" datetime=\"2021-07-10T19:30:33-03:00\">julio 10, 2021</time></a></span> <div class=\"entry-meta-right\">\n",
              "<div class=\"total-view\">\n",
              "<i class=\"ti-eye\"></i> 3424\t\t\t</div>\n",
              "<span class=\"comments-link\">\n",
              "<a class=\"text-comment\" href=\"https://criptotendencia.com/2021/07/10/microsoft-usara-bitcoin-para-proteccion-de-identidad-virtual-2/#respond\"><i aria-hidden=\"true\" class=\"icon ti-comment-alt\"></i> 0</a>\n",
              "</span>\n",
              "</div>\n",
              "</div>\n",
              "<div class=\"entry-header-title\">\n",
              "<h3 class=\"entry-title\"><a href=\"https://criptotendencia.com/2021/07/10/microsoft-usara-bitcoin-para-proteccion-de-identidad-virtual-2/\" rel=\"bookmark\">Microsoft usará Bitcoin para protección de identidad virtual</a></h3> </div>\n",
              "</div>\n",
              "<div class=\"entry-content\">\n",
              "<div class=\"entry-excerpt\">\n",
              "<p>Microsoft, usará la red Blockchain de Bitcoin para crear un sistema de protección de identidad y privacidad de datos personales.</p>\n",
              "</div><!-- .entry-excerpt -->\n",
              "</div>\n",
              "</div>\n",
              "</article><!-- #post-## -->\n",
              "</div>\n",
              "<div class=\"item-post post-default-index col-item col-md-12\">\n",
              "<article class=\"post-item post-list clearfix post-200739 post type-post status-publish format-standard has-post-thumbnail hentry category-inversiones tag-analisis-fundamental tag-analisis-tecnico tag-axie-infinity tag-pronostico\">\n",
              "<div class=\"article-image\">\n",
              "<div class=\"post-image\">\n",
              "<span class=\"bgr-item\"></span>\n",
              "<a href=\"https://criptotendencia.com/2021/07/10/axs-el-token-nativo-del-juego-blockchain-axie-infinity-no-para-de-subir-que-esta-pasando/\">\n",
              "<img alt=\"post-image\" class=\"lazy\" data-src=\"https://i1.wp.com/criptotendencia.com/wp-content/uploads/2021/07/AXS-el-token-nativo-del-juego-Blockchain-Axie-Infinity.jpg?resize=390%2C260&amp;ssl=1\" src=\"https://criptotendencia.com/wp-content/themes/bitther/assets/images/layzyload_list_latest.jpg\"/>\n",
              "</a>\n",
              "</div>\n",
              "<span class=\"post-cat\"> <a href=\"https://criptotendencia.com/category/inversiones/\" title=\"\">Inversiones</a>\n",
              "</span>\n",
              "</div>\n",
              "<div class=\"article-content \">\n",
              "<div class=\"entry-header clearfix\">\n",
              "<div class=\"article-meta clearfix\">\n",
              "<span class=\"byline author-title\"><span class=\"ti-minus\"></span><span class=\"by\">By</span><span class=\"author vcard\"><span class=\"screen-reader-text\">Author </span><a class=\"url fn n\" href=\"https://criptotendencia.com/author/vhquionez/\">Claudio Quiñonez</a></span></span><span class=\"posted-on\"><i aria-hidden=\"true\" class=\"icon ti-calendar\"></i><span class=\"screen-reader-text\">Posted on </span><a href=\"https://criptotendencia.com/2021/07/10/axs-el-token-nativo-del-juego-blockchain-axie-infinity-no-para-de-subir-que-esta-pasando/\" rel=\"bookmark\"><time class=\"entry-date published\" datetime=\"2021-07-10T16:02:08-03:00\">julio 10, 2021</time><time class=\"updated\" datetime=\"2021-07-10T16:02:10-03:00\">julio 10, 2021</time></a></span> <div class=\"entry-meta-right\">\n",
              "<div class=\"total-view\">\n",
              "<i class=\"ti-eye\"></i> 5110\t\t\t</div>\n",
              "<span class=\"comments-link\">\n",
              "<a class=\"text-comment\" href=\"https://criptotendencia.com/2021/07/10/axs-el-token-nativo-del-juego-blockchain-axie-infinity-no-para-de-subir-que-esta-pasando/#respond\"><i aria-hidden=\"true\" class=\"icon ti-comment-alt\"></i> 0</a>\n",
              "</span>\n",
              "</div>\n",
              "</div>\n",
              "<div class=\"entry-header-title\">\n",
              "<h3 class=\"entry-title\"><a href=\"https://criptotendencia.com/2021/07/10/axs-el-token-nativo-del-juego-blockchain-axie-infinity-no-para-de-subir-que-esta-pasando/\" rel=\"bookmark\">AXS, el token nativo del juego Blockchain Axie Infinity, no para de subir. ¿Qué está pasando?</a></h3> </div>\n",
              "</div>\n",
              "<div class=\"entry-content\">\n",
              "<div class=\"entry-excerpt\">\n",
              "<p>El token AXS, perteneciente al juego Axie Infinity, acaba de marcar nuevos máximos históricos. Descubre aquí hacia dónde se dirige. </p>\n",
              "</div><!-- .entry-excerpt -->\n",
              "</div>\n",
              "</div>\n",
              "</article><!-- #post-## -->\n",
              "</div>\n",
              "<div class=\"item-post post-default-index col-item col-md-12\">\n",
              "<article class=\"post-item post-list clearfix post-200756 post type-post status-publish format-standard has-post-thumbnail hentry category-noticias-bitcoin tag-bitcoin tag-grayscale tag-jpmorgan\">\n",
              "<div class=\"article-image\">\n",
              "<div class=\"post-image\">\n",
              "<span class=\"bgr-item\"></span>\n",
              "<a href=\"https://criptotendencia.com/2021/07/10/jpmorgan-predice-que-bitcoin-se-hundira-hasta-los-25k-2/\">\n",
              "<img alt=\"post-image\" class=\"lazy\" data-src=\"https://i1.wp.com/criptotendencia.com/wp-content/uploads/2021/07/JPMorgan-predice-que-Bitcoin-se-hundira-hasta-los-25K.jpg?resize=390%2C260&amp;ssl=1\" src=\"https://criptotendencia.com/wp-content/themes/bitther/assets/images/layzyload_list_latest.jpg\"/>\n",
              "</a>\n",
              "</div>\n",
              "<span class=\"post-cat\"> <a href=\"https://criptotendencia.com/category/noticias/noticias-bitcoin/\" title=\"\">Noticias Bitcoin</a>\n",
              "</span>\n",
              "</div>\n",
              "<div class=\"article-content \">\n",
              "<div class=\"entry-header clearfix\">\n",
              "<div class=\"article-meta clearfix\">\n",
              "<span class=\"byline author-title\"><span class=\"ti-minus\"></span><span class=\"by\">By</span><span class=\"author vcard\"><span class=\"screen-reader-text\">Author </span><a class=\"url fn n\" href=\"https://criptotendencia.com/author/alegilrivero/\">Alejandro Gil</a></span></span><span class=\"posted-on\"><i aria-hidden=\"true\" class=\"icon ti-calendar\"></i><span class=\"screen-reader-text\">Posted on </span><a href=\"https://criptotendencia.com/2021/07/10/jpmorgan-predice-que-bitcoin-se-hundira-hasta-los-25k-2/\" rel=\"bookmark\"><time class=\"entry-date published\" datetime=\"2021-07-10T14:48:00-03:00\">julio 10, 2021</time><time class=\"updated\" datetime=\"2021-07-10T14:46:41-03:00\">julio 10, 2021</time></a></span> <div class=\"entry-meta-right\">\n",
              "<div class=\"total-view\">\n",
              "<i class=\"ti-eye\"></i> 3247\t\t\t</div>\n",
              "<span class=\"comments-link\">\n",
              "<a class=\"text-comment\" href=\"https://criptotendencia.com/2021/07/10/jpmorgan-predice-que-bitcoin-se-hundira-hasta-los-25k-2/#respond\"><i aria-hidden=\"true\" class=\"icon ti-comment-alt\"></i> 0</a>\n",
              "</span>\n",
              "</div>\n",
              "</div>\n",
              "<div class=\"entry-header-title\">\n",
              "<h3 class=\"entry-title\"><a href=\"https://criptotendencia.com/2021/07/10/jpmorgan-predice-que-bitcoin-se-hundira-hasta-los-25k-2/\" rel=\"bookmark\">JPMorgan predice que Bitcoin se hundirá hasta los 25K</a></h3> </div>\n",
              "</div>\n",
              "<div class=\"entry-content\">\n",
              "<div class=\"entry-excerpt\">\n",
              "<p>El gigante financiero JPMorgan, predice que el precio de Bitcoin caerá hasta los $25.000 tras los desbloqueos de Grayscale. </p>\n",
              "</div><!-- .entry-excerpt -->\n",
              "</div>\n",
              "</div>\n",
              "</article><!-- #post-## -->\n",
              "</div>\n",
              "<div class=\"item-post post-default-index col-item col-md-12\">\n",
              "<article class=\"post-item post-list clearfix post-200687 post type-post status-publish format-standard has-post-thumbnail hentry category-noticias-rapidas tag-apple tag-bitcoin tag-btc tag-criptomonedas tag-mineria-2 tag-oro tag-steve-wozniak\">\n",
              "<div class=\"article-image\">\n",
              "<div class=\"post-image\">\n",
              "<span class=\"bgr-item\"></span>\n",
              "<a href=\"https://criptotendencia.com/2021/07/10/cofundador-de-apple-aseguro-que-bitcoin-es-mejor-que-el-oro-2/\">\n",
              "<img alt=\"post-image\" class=\"lazy\" data-src=\"https://i2.wp.com/criptotendencia.com/wp-content/uploads/2021/07/Cofundador-de-Apple-aseguro-que-Bitcoin-es-mejor-que-el-Oro.jpg?resize=390%2C260&amp;ssl=1\" src=\"https://criptotendencia.com/wp-content/themes/bitther/assets/images/layzyload_list_latest.jpg\"/>\n",
              "</a>\n",
              "</div>\n",
              "<span class=\"post-cat\"> <a href=\"https://criptotendencia.com/category/noticias/noticias-rapidas/\" title=\"\">Noticias Rápidas</a>\n",
              "</span>\n",
              "</div>\n",
              "<div class=\"article-content \">\n",
              "<div class=\"entry-header clearfix\">\n",
              "<div class=\"article-meta clearfix\">\n",
              "<span class=\"byline author-title\"><span class=\"ti-minus\"></span><span class=\"by\">By</span><span class=\"author vcard\"><span class=\"screen-reader-text\">Author </span><a class=\"url fn n\" href=\"https://criptotendencia.com/author/samanthajct/\">Samantha Jimenez</a></span></span><span class=\"posted-on\"><i aria-hidden=\"true\" class=\"icon ti-calendar\"></i><span class=\"screen-reader-text\">Posted on </span><a href=\"https://criptotendencia.com/2021/07/10/cofundador-de-apple-aseguro-que-bitcoin-es-mejor-que-el-oro-2/\" rel=\"bookmark\"><time class=\"entry-date published\" datetime=\"2021-07-10T07:47:00-03:00\">julio 10, 2021</time><time class=\"updated\" datetime=\"2021-07-10T00:41:34-03:00\">julio 10, 2021</time></a></span> <div class=\"entry-meta-right\">\n",
              "<div class=\"total-view\">\n",
              "<i class=\"ti-eye\"></i> 3238\t\t\t</div>\n",
              "<span class=\"comments-link\">\n",
              "<a class=\"text-comment\" href=\"https://criptotendencia.com/2021/07/10/cofundador-de-apple-aseguro-que-bitcoin-es-mejor-que-el-oro-2/#respond\"><i aria-hidden=\"true\" class=\"icon ti-comment-alt\"></i> 0</a>\n",
              "</span>\n",
              "</div>\n",
              "</div>\n",
              "<div class=\"entry-header-title\">\n",
              "<h3 class=\"entry-title\"><a href=\"https://criptotendencia.com/2021/07/10/cofundador-de-apple-aseguro-que-bitcoin-es-mejor-que-el-oro-2/\" rel=\"bookmark\">Cofundador de Apple aseguró que Bitcoin es mejor que el Oro</a></h3> </div>\n",
              "</div>\n",
              "<div class=\"entry-content\">\n",
              "<div class=\"entry-excerpt\">\n",
              "<p>Durante un importante evento tecnológico en México, Steve Wozniak, cofundador de Apple aseguró que Bitcoin es mejor que el oro. </p>\n",
              "</div><!-- .entry-excerpt -->\n",
              "</div>\n",
              "</div>\n",
              "</article><!-- #post-## -->\n",
              "</div>\n",
              "<div class=\"item-post post-default-index col-item col-md-12\">\n",
              "<article class=\"post-item post-list clearfix post-200642 post type-post status-publish format-standard has-post-thumbnail hentry category-noticias-bitcoin tag-bitcoin tag-china tag-hash tag-mineria-bitcoin\">\n",
              "<div class=\"article-image\">\n",
              "<div class=\"post-image\">\n",
              "<span class=\"bgr-item\"></span>\n",
              "<a href=\"https://criptotendencia.com/2021/07/10/mineria-de-bitcoin-consume-60-menos-energia-que-en-mayo-2/\">\n",
              "<img alt=\"post-image\" class=\"lazy\" data-src=\"https://i1.wp.com/criptotendencia.com/wp-content/uploads/2021/07/Mineria-de-Bitcoin-consume-60-menos-energia-que-en-mayo.jpeg?resize=390%2C260&amp;ssl=1\" src=\"https://criptotendencia.com/wp-content/themes/bitther/assets/images/layzyload_list_latest.jpg\"/>\n",
              "</a>\n",
              "</div>\n",
              "<span class=\"post-cat\"> <a href=\"https://criptotendencia.com/category/noticias/noticias-bitcoin/\" title=\"\">Noticias Bitcoin</a>\n",
              "</span>\n",
              "</div>\n",
              "<div class=\"article-content \">\n",
              "<div class=\"entry-header clearfix\">\n",
              "<div class=\"article-meta clearfix\">\n",
              "<span class=\"byline author-title\"><span class=\"ti-minus\"></span><span class=\"by\">By</span><span class=\"author vcard\"><span class=\"screen-reader-text\">Author </span><a class=\"url fn n\" href=\"https://criptotendencia.com/author/alegilrivero/\">Alejandro Gil</a></span></span><span class=\"posted-on\"><i aria-hidden=\"true\" class=\"icon ti-calendar\"></i><span class=\"screen-reader-text\">Posted on </span><a href=\"https://criptotendencia.com/2021/07/10/mineria-de-bitcoin-consume-60-menos-energia-que-en-mayo-2/\" rel=\"bookmark\"><time class=\"entry-date published\" datetime=\"2021-07-10T00:32:00-03:00\">julio 10, 2021</time><time class=\"updated\" datetime=\"2021-07-10T00:30:25-03:00\">julio 10, 2021</time></a></span> <div class=\"entry-meta-right\">\n",
              "<div class=\"total-view\">\n",
              "<i class=\"ti-eye\"></i> 3494\t\t\t</div>\n",
              "<span class=\"comments-link\">\n",
              "<a class=\"text-comment\" href=\"https://criptotendencia.com/2021/07/10/mineria-de-bitcoin-consume-60-menos-energia-que-en-mayo-2/#respond\"><i aria-hidden=\"true\" class=\"icon ti-comment-alt\"></i> 0</a>\n",
              "</span>\n",
              "</div>\n",
              "</div>\n",
              "<div class=\"entry-header-title\">\n",
              "<h3 class=\"entry-title\"><a href=\"https://criptotendencia.com/2021/07/10/mineria-de-bitcoin-consume-60-menos-energia-que-en-mayo-2/\" rel=\"bookmark\">Minería de Bitcoin consume 60% menos energía que en mayo</a></h3> </div>\n",
              "</div>\n",
              "<div class=\"entry-content\">\n",
              "<div class=\"entry-excerpt\">\n",
              "<p>En un 60% ha disminuido la cantidad de energía que consume la minería de Bitcoin. Esto en comparación con su pico histórico del mes de mayo. </p>\n",
              "</div><!-- .entry-excerpt -->\n",
              "</div>\n",
              "</div>\n",
              "</article><!-- #post-## -->\n",
              "</div>\n",
              "<div class=\"code-block code-block-13 ai-viewport-2 ai-viewport-3 ai-track\" data-ai=\"WzEzLDAsIkVudHJhZGFzIEhvbWUgTW9iaWxlIC0gTVQiLCIiLDJd\" style=\"margin: 8px 0; clear: both;\">\n",
              "<script async=\"\" src=\"https://pagead2.googlesyndication.com/pagead/js/adsbygoogle.js\"></script>\n",
              "<ins class=\"adsbygoogle\" data-ad-client=\"ca-pub-4725541372140824\" data-ad-format=\"fluid\" data-ad-layout=\"in-article\" data-ad-slot=\"5798938624\" style=\"display:block; text-align:center;\"></ins>\n",
              "<script>\n",
              "     (adsbygoogle = window.adsbygoogle || []).push({});\n",
              "</script></div>\n",
              "<div class=\"item-post post-default-index col-item col-md-12\">\n",
              "<article class=\"post-item post-list clearfix post-200626 post type-post status-publish format-standard has-post-thumbnail hentry category-noticias tag-binance tag-china tag-exchanges\">\n",
              "<div class=\"article-image\">\n",
              "<div class=\"post-image\">\n",
              "<span class=\"bgr-item\"></span>\n",
              "<a href=\"https://criptotendencia.com/2021/07/10/el-exchange-binance-quedo-bloqueado-en-china/\">\n",
              "<img alt=\"post-image\" class=\"lazy\" data-src=\"https://i0.wp.com/criptotendencia.com/wp-content/uploads/2021/07/El-exchange-Binance-quedo-bloqueado-en-China.jpg?resize=390%2C260&amp;ssl=1\" src=\"https://criptotendencia.com/wp-content/themes/bitther/assets/images/layzyload_list_latest.jpg\"/>\n",
              "</a>\n",
              "</div>\n",
              "<span class=\"post-cat\"> <a href=\"https://criptotendencia.com/category/noticias/\" title=\"\">Noticias</a>\n",
              "</span>\n",
              "</div>\n",
              "<div class=\"article-content \">\n",
              "<div class=\"entry-header clearfix\">\n",
              "<div class=\"article-meta clearfix\">\n",
              "<span class=\"byline author-title\"><span class=\"ti-minus\"></span><span class=\"by\">By</span><span class=\"author vcard\"><span class=\"screen-reader-text\">Author </span><a class=\"url fn n\" href=\"https://criptotendencia.com/author/jennysleonett10283989/\">Jennys Leonett Figuera</a></span></span><span class=\"posted-on\"><i aria-hidden=\"true\" class=\"icon ti-calendar\"></i><span class=\"screen-reader-text\">Posted on </span><a href=\"https://criptotendencia.com/2021/07/10/el-exchange-binance-quedo-bloqueado-en-china/\" rel=\"bookmark\"><time class=\"entry-date published\" datetime=\"2021-07-10T00:22:00-03:00\">julio 10, 2021</time><time class=\"updated\" datetime=\"2021-07-10T00:20:58-03:00\">julio 10, 2021</time></a></span> <div class=\"entry-meta-right\">\n",
              "<div class=\"total-view\">\n",
              "<i class=\"ti-eye\"></i> 4016\t\t\t</div>\n",
              "<span class=\"comments-link\">\n",
              "<a class=\"text-comment\" href=\"https://criptotendencia.com/2021/07/10/el-exchange-binance-quedo-bloqueado-en-china/#respond\"><i aria-hidden=\"true\" class=\"icon ti-comment-alt\"></i> 0</a>\n",
              "</span>\n",
              "</div>\n",
              "</div>\n",
              "<div class=\"entry-header-title\">\n",
              "<h3 class=\"entry-title\"><a href=\"https://criptotendencia.com/2021/07/10/el-exchange-binance-quedo-bloqueado-en-china/\" rel=\"bookmark\">El exchange Binance quedó bloqueado en China</a></h3> </div>\n",
              "</div>\n",
              "<div class=\"entry-content\">\n",
              "<div class=\"entry-excerpt\">\n",
              "<p>Según Colin Wu, China bloqueó el acceso del exchange Binance, ¿cuál será el próximo paso? ¡Te contamos todos los detalles!</p>\n",
              "</div><!-- .entry-excerpt -->\n",
              "</div>\n",
              "</div>\n",
              "</article><!-- #post-## -->\n",
              "</div>\n",
              "<div class=\"item-post post-default-index col-item col-md-12\">\n",
              "<article class=\"post-item post-list clearfix post-200676 post type-post status-publish format-standard has-post-thumbnail hentry category-comunicados-de-prensa tag-criptomonedas tag-crypton tag-mineria-2\">\n",
              "<div class=\"article-image\">\n",
              "<div class=\"post-image\">\n",
              "<span class=\"bgr-item\"></span>\n",
              "<a href=\"https://criptotendencia.com/2021/07/09/utopia-p2p-ha-desarrollado-una-solucion-de-mineria-ecologica-no-necesita-disco-duro-cpu-ni-gpu-2/\">\n",
              "<img alt=\"post-image\" class=\"lazy\" data-src=\"https://i2.wp.com/criptotendencia.com/wp-content/uploads/2021/07/Utopia-P2P-ha-desarrollado-una-solucion-de-mineria-ecologica-no-necesita-disco-duro-CPU-ni-GPU.png?resize=390%2C260&amp;ssl=1\" src=\"https://criptotendencia.com/wp-content/themes/bitther/assets/images/layzyload_list_latest.jpg\"/>\n",
              "</a>\n",
              "</div>\n",
              "<span class=\"post-cat\"> <a href=\"https://criptotendencia.com/category/comunicados-de-prensa/\" title=\"\">Comunicados de Prensa</a>\n",
              "</span>\n",
              "</div>\n",
              "<div class=\"article-content \">\n",
              "<div class=\"entry-header clearfix\">\n",
              "<div class=\"article-meta clearfix\">\n",
              "<span class=\"byline author-title\"><span class=\"ti-minus\"></span><span class=\"by\">By</span><span class=\"author vcard\"><span class=\"screen-reader-text\">Author </span><a class=\"url fn n\" href=\"https://criptotendencia.com/author/arianacairoct/\">Ariana Cairo</a></span></span><span class=\"posted-on\"><i aria-hidden=\"true\" class=\"icon ti-calendar\"></i><span class=\"screen-reader-text\">Posted on </span><a href=\"https://criptotendencia.com/2021/07/09/utopia-p2p-ha-desarrollado-una-solucion-de-mineria-ecologica-no-necesita-disco-duro-cpu-ni-gpu-2/\" rel=\"bookmark\"><time class=\"entry-date published\" datetime=\"2021-07-09T22:47:00-03:00\">julio 9, 2021</time><time class=\"updated\" datetime=\"2021-07-09T22:46:24-03:00\">julio 9, 2021</time></a></span> <div class=\"entry-meta-right\">\n",
              "<div class=\"total-view\">\n",
              "<i class=\"ti-eye\"></i> 2855\t\t\t</div>\n",
              "<span class=\"comments-link\">\n",
              "<a class=\"text-comment\" href=\"https://criptotendencia.com/2021/07/09/utopia-p2p-ha-desarrollado-una-solucion-de-mineria-ecologica-no-necesita-disco-duro-cpu-ni-gpu-2/#respond\"><i aria-hidden=\"true\" class=\"icon ti-comment-alt\"></i> 0</a>\n",
              "</span>\n",
              "</div>\n",
              "</div>\n",
              "<div class=\"entry-header-title\">\n",
              "<h3 class=\"entry-title\"><a href=\"https://criptotendencia.com/2021/07/09/utopia-p2p-ha-desarrollado-una-solucion-de-mineria-ecologica-no-necesita-disco-duro-cpu-ni-gpu-2/\" rel=\"bookmark\">Utopia P2P ha desarrollado una solución de minería ecológica: no necesita disco duro, CPU ni GPU</a></h3> </div>\n",
              "</div>\n",
              "<div class=\"entry-content\">\n",
              "<div class=\"entry-excerpt\">\n",
              "<p>Utopia P2P ha anunciado el desarrollo de una opción de minería más ecológica: la minería de CRP. ¿De qué se trata? Entérate aquí.</p>\n",
              "</div><!-- .entry-excerpt -->\n",
              "</div>\n",
              "</div>\n",
              "</article><!-- #post-## -->\n",
              "</div>\n",
              "<div class=\"item-post post-default-index col-item col-md-12\">\n",
              "<article class=\"post-item post-list clearfix post-200665 post type-post status-publish format-standard has-post-thumbnail hentry category-noticias-bitcoin tag-jack-dorsey tag-square tag-wallets\">\n",
              "<div class=\"article-image\">\n",
              "<div class=\"post-image\">\n",
              "<span class=\"bgr-item\"></span>\n",
              "<a href=\"https://criptotendencia.com/2021/07/09/square-creara-wallet-de-bitcoin/\">\n",
              "<img alt=\"post-image\" class=\"lazy\" data-src=\"https://i0.wp.com/criptotendencia.com/wp-content/uploads/2021/07/Square-creara-wallet-de-Bitcoin.jpg?resize=390%2C260&amp;ssl=1\" src=\"https://criptotendencia.com/wp-content/themes/bitther/assets/images/layzyload_list_latest.jpg\"/>\n",
              "</a>\n",
              "</div>\n",
              "<span class=\"post-cat\"> <a href=\"https://criptotendencia.com/category/noticias/noticias-bitcoin/\" title=\"\">Noticias Bitcoin</a>\n",
              "</span>\n",
              "</div>\n",
              "<div class=\"article-content \">\n",
              "<div class=\"entry-header clearfix\">\n",
              "<div class=\"article-meta clearfix\">\n",
              "<span class=\"byline author-title\"><span class=\"ti-minus\"></span><span class=\"by\">By</span><span class=\"author vcard\"><span class=\"screen-reader-text\">Author </span><a class=\"url fn n\" href=\"https://criptotendencia.com/author/alegilrivero/\">Alejandro Gil</a></span></span><span class=\"posted-on\"><i aria-hidden=\"true\" class=\"icon ti-calendar\"></i><span class=\"screen-reader-text\">Posted on </span><a href=\"https://criptotendencia.com/2021/07/09/square-creara-wallet-de-bitcoin/\" rel=\"bookmark\"><time class=\"entry-date published\" datetime=\"2021-07-09T22:22:00-03:00\">julio 9, 2021</time><time class=\"updated\" datetime=\"2021-07-09T22:20:47-03:00\">julio 9, 2021</time></a></span> <div class=\"entry-meta-right\">\n",
              "<div class=\"total-view\">\n",
              "<i class=\"ti-eye\"></i> 2818\t\t\t</div>\n",
              "<span class=\"comments-link\">\n",
              "<a class=\"text-comment\" href=\"https://criptotendencia.com/2021/07/09/square-creara-wallet-de-bitcoin/#respond\"><i aria-hidden=\"true\" class=\"icon ti-comment-alt\"></i> 0</a>\n",
              "</span>\n",
              "</div>\n",
              "</div>\n",
              "<div class=\"entry-header-title\">\n",
              "<h3 class=\"entry-title\"><a href=\"https://criptotendencia.com/2021/07/09/square-creara-wallet-de-bitcoin/\" rel=\"bookmark\">Square creará wallet de Bitcoin</a></h3> </div>\n",
              "</div>\n",
              "<div class=\"entry-content\">\n",
              "<div class=\"entry-excerpt\">\n",
              "<p>La firma Square, radicada en San Francisco, anunció recientemente que creará un servicio de wallet sin custodia para almacenar Bitcoin.</p>\n",
              "</div><!-- .entry-excerpt -->\n",
              "</div>\n",
              "</div>\n",
              "</article><!-- #post-## -->\n",
              "</div>\n",
              "<div class=\"item-post post-default-index col-item col-md-12\">\n",
              "<article class=\"post-item post-list clearfix post-200654 post type-post status-publish format-standard has-post-thumbnail hentry category-inversiones tag-analisis-fundamental tag-analisis-tecnico tag-matic tag-polygon\">\n",
              "<div class=\"article-image\">\n",
              "<div class=\"post-image\">\n",
              "<span class=\"bgr-item\"></span>\n",
              "<a href=\"https://criptotendencia.com/2021/07/09/polygon-matic-resiste-la-turbulencia-hacia-donde-se-dirige/\">\n",
              "<img alt=\"post-image\" class=\"lazy\" data-src=\"https://i2.wp.com/criptotendencia.com/wp-content/uploads/2021/07/Polygon-MATIC-resiste-la-turbulencia.jpg?resize=390%2C260&amp;ssl=1\" src=\"https://criptotendencia.com/wp-content/themes/bitther/assets/images/layzyload_list_latest.jpg\"/>\n",
              "</a>\n",
              "</div>\n",
              "<span class=\"post-cat\"> <a href=\"https://criptotendencia.com/category/inversiones/\" title=\"\">Inversiones</a>\n",
              "</span>\n",
              "</div>\n",
              "<div class=\"article-content \">\n",
              "<div class=\"entry-header clearfix\">\n",
              "<div class=\"article-meta clearfix\">\n",
              "<span class=\"byline author-title\"><span class=\"ti-minus\"></span><span class=\"by\">By</span><span class=\"author vcard\"><span class=\"screen-reader-text\">Author </span><a class=\"url fn n\" href=\"https://criptotendencia.com/author/vhquionez/\">Claudio Quiñonez</a></span></span><span class=\"posted-on\"><i aria-hidden=\"true\" class=\"icon ti-calendar\"></i><span class=\"screen-reader-text\">Posted on </span><a href=\"https://criptotendencia.com/2021/07/09/polygon-matic-resiste-la-turbulencia-hacia-donde-se-dirige/\" rel=\"bookmark\"><time class=\"entry-date published\" datetime=\"2021-07-09T13:55:00-03:00\">julio 9, 2021</time><time class=\"updated\" datetime=\"2021-07-09T13:53:38-03:00\">julio 9, 2021</time></a></span> <div class=\"entry-meta-right\">\n",
              "<div class=\"total-view\">\n",
              "<i class=\"ti-eye\"></i> 3339\t\t\t</div>\n",
              "<span class=\"comments-link\">\n",
              "<a class=\"text-comment\" href=\"https://criptotendencia.com/2021/07/09/polygon-matic-resiste-la-turbulencia-hacia-donde-se-dirige/#respond\"><i aria-hidden=\"true\" class=\"icon ti-comment-alt\"></i> 0</a>\n",
              "</span>\n",
              "</div>\n",
              "</div>\n",
              "<div class=\"entry-header-title\">\n",
              "<h3 class=\"entry-title\"><a href=\"https://criptotendencia.com/2021/07/09/polygon-matic-resiste-la-turbulencia-hacia-donde-se-dirige/\" rel=\"bookmark\">Polygon (MATIC) resiste la turbulencia. ¿Hacia dónde se dirige?</a></h3> </div>\n",
              "</div>\n",
              "<div class=\"entry-content\">\n",
              "<div class=\"entry-excerpt\">\n",
              "<p>La criptomoneda MATIC, nativa de la red Polygon, intenta no generar demasiada negatividad a pesar de la caída generalizada en el mercado.</p>\n",
              "</div><!-- .entry-excerpt -->\n",
              "</div>\n",
              "</div>\n",
              "</article><!-- #post-## -->\n",
              "</div>\n",
              "<div class=\"item-post post-default-index col-item col-md-12\">\n",
              "<article class=\"post-item post-list clearfix post-200636 post type-post status-publish format-standard has-post-thumbnail hentry category-criptomonedas tag-banco tag-bank-of-america tag-bloomberg tag-criptomonedas\">\n",
              "<div class=\"article-image\">\n",
              "<div class=\"post-image\">\n",
              "<span class=\"bgr-item\"></span>\n",
              "<a href=\"https://criptotendencia.com/2021/07/09/bank-of-america-boa-crea-un-cripto-equipo-2/\">\n",
              "<img alt=\"post-image\" class=\"lazy\" data-src=\"https://i0.wp.com/criptotendencia.com/wp-content/uploads/2021/07/Bank-of-America-BoA-crea-un-cripto-equipo.png?resize=390%2C260&amp;ssl=1\" src=\"https://criptotendencia.com/wp-content/themes/bitther/assets/images/layzyload_list_latest.jpg\"/>\n",
              "</a>\n",
              "</div>\n",
              "<span class=\"post-cat\"> <a href=\"https://criptotendencia.com/category/criptomonedas/\" title=\"\">Criptomonedas</a>\n",
              "</span>\n",
              "</div>\n",
              "<div class=\"article-content \">\n",
              "<div class=\"entry-header clearfix\">\n",
              "<div class=\"article-meta clearfix\">\n",
              "<span class=\"byline author-title\"><span class=\"ti-minus\"></span><span class=\"by\">By</span><span class=\"author vcard\"><span class=\"screen-reader-text\">Author </span><a class=\"url fn n\" href=\"https://criptotendencia.com/author/jennysleonett10283989/\">Jennys Leonett Figuera</a></span></span><span class=\"posted-on\"><i aria-hidden=\"true\" class=\"icon ti-calendar\"></i><span class=\"screen-reader-text\">Posted on </span><a href=\"https://criptotendencia.com/2021/07/09/bank-of-america-boa-crea-un-cripto-equipo-2/\" rel=\"bookmark\"><time class=\"entry-date published\" datetime=\"2021-07-09T11:55:00-03:00\">julio 9, 2021</time><time class=\"updated\" datetime=\"2021-07-09T11:53:17-03:00\">julio 9, 2021</time></a></span> <div class=\"entry-meta-right\">\n",
              "<div class=\"total-view\">\n",
              "<i class=\"ti-eye\"></i> 5392\t\t\t</div>\n",
              "<span class=\"comments-link\">\n",
              "<a class=\"text-comment\" href=\"https://criptotendencia.com/2021/07/09/bank-of-america-boa-crea-un-cripto-equipo-2/#respond\"><i aria-hidden=\"true\" class=\"icon ti-comment-alt\"></i> 0</a>\n",
              "</span>\n",
              "</div>\n",
              "</div>\n",
              "<div class=\"entry-header-title\">\n",
              "<h3 class=\"entry-title\"><a href=\"https://criptotendencia.com/2021/07/09/bank-of-america-boa-crea-un-cripto-equipo-2/\" rel=\"bookmark\">Bank of America (BoA) crea un cripto equipo</a></h3> </div>\n",
              "</div>\n",
              "<div class=\"entry-content\">\n",
              "<div class=\"entry-excerpt\">\n",
              "<p>Según Bloomberg, Bank of America (BoA) crea un equipo dedicado a investigar las criptomonedas ¡Te contamos algunos de los detalles!</p>\n",
              "</div><!-- .entry-excerpt -->\n",
              "</div>\n",
              "</div>\n",
              "</article><!-- #post-## -->\n",
              "</div>\n",
              "<div class=\"item-post post-default-index col-item col-md-12\">\n",
              "<article class=\"post-item post-list clearfix post-200456 post type-post status-publish format-standard has-post-thumbnail hentry category-noticias tag-ether tag-ethereum tag-staking\">\n",
              "<div class=\"article-image\">\n",
              "<div class=\"post-image\">\n",
              "<span class=\"bgr-item\"></span>\n",
              "<a href=\"https://criptotendencia.com/2021/07/09/banco-sygnum-se-convirtio-en-el-primer-banco-a-nivel-mundial-en-ofrecer-staking-de-eth2-2/\">\n",
              "<img alt=\"post-image\" class=\"lazy\" data-src=\"https://i0.wp.com/criptotendencia.com/wp-content/uploads/2021/07/Banco-Sygnum-se-convirtio-en-el-primer-banco-a-nivel-mundial-en-ofrecer-staking-de-ETH2.jpg?resize=390%2C260&amp;ssl=1\" src=\"https://criptotendencia.com/wp-content/themes/bitther/assets/images/layzyload_list_latest.jpg\"/>\n",
              "</a>\n",
              "</div>\n",
              "<span class=\"post-cat\"> <a href=\"https://criptotendencia.com/category/noticias/\" title=\"\">Noticias</a>\n",
              "</span>\n",
              "</div>\n",
              "<div class=\"article-content \">\n",
              "<div class=\"entry-header clearfix\">\n",
              "<div class=\"article-meta clearfix\">\n",
              "<span class=\"byline author-title\"><span class=\"ti-minus\"></span><span class=\"by\">By</span><span class=\"author vcard\"><span class=\"screen-reader-text\">Author </span><a class=\"url fn n\" href=\"https://criptotendencia.com/author/samanthajct/\">Samantha Jimenez</a></span></span><span class=\"posted-on\"><i aria-hidden=\"true\" class=\"icon ti-calendar\"></i><span class=\"screen-reader-text\">Posted on </span><a href=\"https://criptotendencia.com/2021/07/09/banco-sygnum-se-convirtio-en-el-primer-banco-a-nivel-mundial-en-ofrecer-staking-de-eth2-2/\" rel=\"bookmark\"><time class=\"entry-date published\" datetime=\"2021-07-09T01:18:59-03:00\">julio 9, 2021</time><time class=\"updated\" datetime=\"2021-07-09T01:19:00-03:00\">julio 9, 2021</time></a></span> <div class=\"entry-meta-right\">\n",
              "<div class=\"total-view\">\n",
              "<i class=\"ti-eye\"></i> 3241\t\t\t</div>\n",
              "<span class=\"comments-link\">\n",
              "<a class=\"text-comment\" href=\"https://criptotendencia.com/2021/07/09/banco-sygnum-se-convirtio-en-el-primer-banco-a-nivel-mundial-en-ofrecer-staking-de-eth2-2/#respond\"><i aria-hidden=\"true\" class=\"icon ti-comment-alt\"></i> 0</a>\n",
              "</span>\n",
              "</div>\n",
              "</div>\n",
              "<div class=\"entry-header-title\">\n",
              "<h3 class=\"entry-title\"><a href=\"https://criptotendencia.com/2021/07/09/banco-sygnum-se-convirtio-en-el-primer-banco-a-nivel-mundial-en-ofrecer-staking-de-eth2-2/\" rel=\"bookmark\">Banco Sygnum se convirtió en el primer banco a nivel mundial en ofrecer staking de ETH2</a></h3> </div>\n",
              "</div>\n",
              "<div class=\"entry-content\">\n",
              "<div class=\"entry-excerpt\">\n",
              "<p>A través de un comunicado, el banco suizo de activos digitales Sygnum anunció que ahora ofrece participación en ETH 2.0 en su plataforma.</p>\n",
              "</div><!-- .entry-excerpt -->\n",
              "</div>\n",
              "</div>\n",
              "</article><!-- #post-## -->\n",
              "</div>\n",
              "<div class=\"code-block code-block-6 ai-track\" data-ai=\"WzYsMCwiRmluIEVudHJhZGEgQWRTZW5zZSAtIERNVCIsIiIsMV0=\" style=\"margin: 8px 0; clear: both;\">\n",
              "<script async=\"\" src=\"https://pagead2.googlesyndication.com/pagead/js/adsbygoogle.js\"></script>\n",
              "<ins class=\"adsbygoogle\" data-ad-client=\"ca-pub-4725541372140824\" data-ad-format=\"fluid\" data-ad-layout=\"in-article\" data-ad-slot=\"5798938624\" style=\"display:block; text-align:center;\"></ins>\n",
              "<script>\n",
              "     (adsbygoogle = window.adsbygoogle || []).push({});\n",
              "</script></div>\n",
              "<nav aria-label=\"Entradas\" class=\"navigation pagination\" role=\"navigation\">\n",
              "<h2 class=\"screen-reader-text\">Navegación de entradas</h2>\n",
              "<div class=\"nav-links\"><span aria-current=\"page\" class=\"page-numbers current\"><span class=\"meta-nav screen-reader-text\"></span>1</span>\n",
              "<a class=\"page-numbers\" href=\"https://criptotendencia.com/page/2/\"><span class=\"meta-nav screen-reader-text\"></span>2</a>\n",
              "<span class=\"page-numbers dots\">…</span>\n",
              "<a class=\"page-numbers\" href=\"https://criptotendencia.com/page/709/\"><span class=\"meta-nav screen-reader-text\"></span>709</a>\n",
              "<a class=\"next page-numbers\" href=\"https://criptotendencia.com/page/2/\"><i class=\"fa fa-angle-right\"></i></a></div>\n",
              "</nav> </div>\n",
              "</div><!-- .site-main -->\n",
              "<div class=\"sidebar sidebar-right hidden-sx hidden-sm col-sx-12 col-sm-12 col-md-3 col-lg-3 archive-sidebar\" id=\"archive-sidebar\">\n",
              "<div class=\"content-inner\">\n",
              "<aside class=\"widget ai_widget\" id=\"ai_widget-42\"><div class=\"code-block code-block-23\" style=\"margin: 8px 0; clear: both;\">\n",
              "<!-- SimpleFX widget LIVE QUOTES - START -->\n",
              "<div class=\"sfx-widget\" id=\"sfx-live-quotes\"></div>\n",
              "<script src=\"https://simplefx.com/a/w2_18780\" type=\"text/javascript\"></script>\n",
              "<script type=\"text/javascript\">\n",
              "\tsfx('liveQuotes', {\n",
              "\t\tcontainerId: 'sfx-live-quotes',\n",
              "\t\tlanguage: 'auto',\n",
              "\t\twidth: \"300px\",\n",
              "\t\theight: \"250px\",\n",
              "\t\tsymbols: [\"BTCUSD\",\"ETHUSD\",\"XRPUSD\",\"BCHUSD\",\"LTCUSD\",\"ETCUSD\"],\n",
              "\t\ttheme: \"dark\",\n",
              "\t\tcustomElements: [\"header\",\"symbol\",\"sell\",\"buy\",\"sessionChange\"],\n",
              "\t\tuni_l: \"https://simplefx.com/n/w2_18780\",\n",
              "\t})\n",
              "</script>\n",
              "<!-- SimpleFX widget - END --></div>\n",
              "</aside><aside class=\"widget ai_widget\" id=\"ai_widget-43\"><div class=\"code-block code-block-9 ai-track\" data-ai=\"WzksMSwiQmFycmEgTGF0ZXJhbCAxIFhUQi1MaWJlcnRleC1Ob3JkRlggLSBETVQiLCJBIiwxXQ==\" style=\"margin: 8px auto; text-align: center; display: block; clear: both;\">\n",
              "<a href=\"https://go.xtbaffiliates.com/visit/?bta=35416&amp;nci=14285\" target=\"Blank\"><img border=\"0\" class=\" aligncenter\" height=\"250\" src=\"https://xtb.ck-cdn.com/tn/serve/?cid=600049\" width=\"300\"/></a></div>\n",
              "</aside><aside class=\"widget widget_listcategorypostswidget\" id=\"listcategorypostswidget-14\"><h2 class=\"widgettitle\">Brokers Destacados</h2><ul class=\"lcp_catlist\" id=\"lcp_instance_listcategorypostswidget-14\"><li><a href=\"https://criptotendencia.com/2021/04/12/review-del-broker-xtb/\" title=\"Review del Broker XTB\">Review del Broker XTB</a><a href=\"https://criptotendencia.com/2021/04/12/review-del-broker-xtb/\" title=\"Review del Broker XTB\"><img alt=\"Review del Broker XTB\" class=\"lcp_thumbnail wp-post-image jetpack-lazy-image\" data-attachment-id=\"102688\" data-comments-opened=\"1\" data-image-description=\"\" data-image-meta='{\"aperture\":\"0\",\"credit\":\"\",\"camera\":\"\",\"caption\":\"\",\"created_timestamp\":\"0\",\"copyright\":\"\",\"focal_length\":\"0\",\"iso\":\"0\",\"shutter_speed\":\"0\",\"title\":\"\",\"orientation\":\"0\"}' data-image-title=\"review xtb noviembre 2019\" data-large-file=\"https://i0.wp.com/criptotendencia.com/wp-content/uploads/2019/11/review-xtb-noviembre-2019.jpg?fit=660%2C440&amp;ssl=1\" data-lazy-sizes=\"(max-width: 250px) 100vw, 250px\" data-lazy-src=\"https://i0.wp.com/criptotendencia.com/wp-content/uploads/2019/11/review-xtb-noviembre-2019.jpg?resize=250%2C140&amp;ssl=1&amp;is-pending-load=1\" data-lazy-srcset=\"https://i0.wp.com/criptotendencia.com/wp-content/uploads/2019/11/review-xtb-noviembre-2019.jpg?resize=250%2C140&amp;ssl=1 250w, https://i0.wp.com/criptotendencia.com/wp-content/uploads/2019/11/review-xtb-noviembre-2019.jpg?resize=880%2C489&amp;ssl=1 880w, https://i0.wp.com/criptotendencia.com/wp-content/uploads/2019/11/review-xtb-noviembre-2019.jpg?resize=895%2C503&amp;ssl=1 895w, https://i0.wp.com/criptotendencia.com/wp-content/uploads/2019/11/review-xtb-noviembre-2019.jpg?zoom=2&amp;resize=250%2C140&amp;ssl=1 500w, https://i0.wp.com/criptotendencia.com/wp-content/uploads/2019/11/review-xtb-noviembre-2019.jpg?zoom=3&amp;resize=250%2C140&amp;ssl=1 750w\" data-medium-file=\"https://i0.wp.com/criptotendencia.com/wp-content/uploads/2019/11/review-xtb-noviembre-2019.jpg?fit=300%2C200&amp;ssl=1\" data-orig-file=\"https://i0.wp.com/criptotendencia.com/wp-content/uploads/2019/11/review-xtb-noviembre-2019.jpg?fit=1400%2C933&amp;ssl=1\" data-orig-size=\"1400,933\" data-permalink=\"https://criptotendencia.com/2021/04/12/review-del-broker-xtb/review-xtb-noviembre-2019/\" height=\"140\" src=\"https://i0.wp.com/criptotendencia.com/wp-content/uploads/2019/11/review-xtb-noviembre-2019.jpg?resize=250%2C140&amp;ssl=1\" srcset=\"data:image/gif;base64,R0lGODlhAQABAIAAAAAAAP///yH5BAEAAAAALAAAAAABAAEAAAIBRAA7\" width=\"250\"/></a></li><li><a href=\"https://criptotendencia.com/2021/04/12/review-del-exchange-bybit-2/\" title=\"Review del exchange Bybit\">Review del exchange Bybit</a><a href=\"https://criptotendencia.com/2021/04/12/review-del-exchange-bybit-2/\" title=\"Review del exchange Bybit\"><img alt=\"Review del exchange Bybit\" class=\"lcp_thumbnail wp-post-image jetpack-lazy-image\" data-attachment-id=\"190132\" data-comments-opened=\"1\" data-image-description=\"&lt;p&gt;Review del exchange ByBit&lt;/p&gt;\n",
              "\" data-image-meta='{\"aperture\":\"0\",\"credit\":\"\",\"camera\":\"\",\"caption\":\"\",\"created_timestamp\":\"0\",\"copyright\":\"\",\"focal_length\":\"0\",\"iso\":\"0\",\"shutter_speed\":\"0\",\"title\":\"\",\"orientation\":\"0\"}' data-image-title=\"Review del exchange ByBit\" data-large-file=\"https://i1.wp.com/criptotendencia.com/wp-content/uploads/2021/04/Review-del-exchange-ByBit-14.jpg?fit=660%2C396&amp;ssl=1\" data-lazy-sizes=\"(max-width: 250px) 100vw, 250px\" data-lazy-src=\"https://i1.wp.com/criptotendencia.com/wp-content/uploads/2021/04/Review-del-exchange-ByBit-14.jpg?resize=250%2C140&amp;ssl=1&amp;is-pending-load=1\" data-lazy-srcset=\"https://i1.wp.com/criptotendencia.com/wp-content/uploads/2021/04/Review-del-exchange-ByBit-14.jpg?resize=250%2C140&amp;ssl=1 250w, https://i1.wp.com/criptotendencia.com/wp-content/uploads/2021/04/Review-del-exchange-ByBit-14.jpg?resize=880%2C489&amp;ssl=1 880w, https://i1.wp.com/criptotendencia.com/wp-content/uploads/2021/04/Review-del-exchange-ByBit-14.jpg?resize=895%2C503&amp;ssl=1 895w, https://i1.wp.com/criptotendencia.com/wp-content/uploads/2021/04/Review-del-exchange-ByBit-14.jpg?zoom=2&amp;resize=250%2C140&amp;ssl=1 500w, https://i1.wp.com/criptotendencia.com/wp-content/uploads/2021/04/Review-del-exchange-ByBit-14.jpg?zoom=3&amp;resize=250%2C140&amp;ssl=1 750w\" data-medium-file=\"https://i1.wp.com/criptotendencia.com/wp-content/uploads/2021/04/Review-del-exchange-ByBit-14.jpg?fit=300%2C180&amp;ssl=1\" data-orig-file=\"https://i1.wp.com/criptotendencia.com/wp-content/uploads/2021/04/Review-del-exchange-ByBit-14.jpg?fit=1000%2C600&amp;ssl=1\" data-orig-size=\"1000,600\" data-permalink=\"https://criptotendencia.com/2021/04/12/review-del-exchange-bybit-2/review-del-exchange-bybit-14/\" height=\"140\" src=\"https://i1.wp.com/criptotendencia.com/wp-content/uploads/2021/04/Review-del-exchange-ByBit-14.jpg?resize=250%2C140&amp;ssl=1\" srcset=\"data:image/gif;base64,R0lGODlhAQABAIAAAAAAAP///yH5BAEAAAAALAAAAAABAAEAAAIBRAA7\" width=\"250\"/></a></li><li><a href=\"https://criptotendencia.com/2021/03/31/review-del-broker-simplefx/\" title=\"Review del Broker SimpleFX\">Review del Broker SimpleFX</a><a href=\"https://criptotendencia.com/2021/03/31/review-del-broker-simplefx/\" title=\"Review del Broker SimpleFX\"><img alt=\"Review del Broker SimpleFX\" class=\"lcp_thumbnail wp-post-image jetpack-lazy-image\" data-attachment-id=\"161949\" data-comments-opened=\"1\" data-image-description=\"&lt;p&gt;Review del Broker SimpleFX&lt;/p&gt;\n",
              "\" data-image-meta='{\"aperture\":\"0\",\"credit\":\"\",\"camera\":\"\",\"caption\":\"\",\"created_timestamp\":\"0\",\"copyright\":\"\",\"focal_length\":\"0\",\"iso\":\"0\",\"shutter_speed\":\"0\",\"title\":\"\",\"orientation\":\"0\"}' data-image-title=\"Review del Broker SimpleFX\" data-large-file=\"https://i1.wp.com/criptotendencia.com/wp-content/uploads/2020/09/Review-del-Broker-SimpleFX.jpg?fit=660%2C371&amp;ssl=1\" data-lazy-sizes=\"(max-width: 250px) 100vw, 250px\" data-lazy-src=\"https://i1.wp.com/criptotendencia.com/wp-content/uploads/2020/09/Review-del-Broker-SimpleFX.jpg?resize=250%2C140&amp;ssl=1&amp;is-pending-load=1\" data-lazy-srcset=\"https://i1.wp.com/criptotendencia.com/wp-content/uploads/2020/09/Review-del-Broker-SimpleFX.jpg?w=1920&amp;ssl=1 1920w, https://i1.wp.com/criptotendencia.com/wp-content/uploads/2020/09/Review-del-Broker-SimpleFX.jpg?resize=300%2C169&amp;ssl=1 300w, https://i1.wp.com/criptotendencia.com/wp-content/uploads/2020/09/Review-del-Broker-SimpleFX.jpg?resize=1024%2C576&amp;ssl=1 1024w, https://i1.wp.com/criptotendencia.com/wp-content/uploads/2020/09/Review-del-Broker-SimpleFX.jpg?resize=768%2C432&amp;ssl=1 768w, https://i1.wp.com/criptotendencia.com/wp-content/uploads/2020/09/Review-del-Broker-SimpleFX.jpg?resize=1536%2C864&amp;ssl=1 1536w, https://i1.wp.com/criptotendencia.com/wp-content/uploads/2020/09/Review-del-Broker-SimpleFX.jpg?resize=250%2C140&amp;ssl=1 250w, https://i1.wp.com/criptotendencia.com/wp-content/uploads/2020/09/Review-del-Broker-SimpleFX.jpg?resize=880%2C489&amp;ssl=1 880w, https://i1.wp.com/criptotendencia.com/wp-content/uploads/2020/09/Review-del-Broker-SimpleFX.jpg?resize=895%2C503&amp;ssl=1 895w, https://i1.wp.com/criptotendencia.com/wp-content/uploads/2020/09/Review-del-Broker-SimpleFX.jpg?resize=1200%2C675&amp;ssl=1 1200w, https://i1.wp.com/criptotendencia.com/wp-content/uploads/2020/09/Review-del-Broker-SimpleFX.jpg?w=1320&amp;ssl=1 1320w\" data-medium-file=\"https://i1.wp.com/criptotendencia.com/wp-content/uploads/2020/09/Review-del-Broker-SimpleFX.jpg?fit=300%2C169&amp;ssl=1\" data-orig-file=\"https://i1.wp.com/criptotendencia.com/wp-content/uploads/2020/09/Review-del-Broker-SimpleFX.jpg?fit=1920%2C1080&amp;ssl=1\" data-orig-size=\"1920,1080\" data-permalink=\"https://criptotendencia.com/2021/03/31/review-del-broker-simplefx/review-del-broker-simplefx-2/\" height=\"140\" src=\"https://i1.wp.com/criptotendencia.com/wp-content/uploads/2020/09/Review-del-Broker-SimpleFX.jpg?resize=250%2C140&amp;ssl=1\" srcset=\"data:image/gif;base64,R0lGODlhAQABAIAAAAAAAP///yH5BAEAAAAALAAAAAABAAEAAAIBRAA7\" width=\"250\"/></a></li></ul><a href=\"https://criptotendencia.com/category/brokers/\"> </a></aside><aside class=\"widget ai_widget ai-viewport-1 ai-viewport-2\" id=\"ai_widget-44\"><div class=\"code-block code-block-14 ai-track\" data-ai=\"WzE0LDEsIkJhcnJhIGxhdGVyYWwgMiAtIEJ5Yml0LSAgRFQiLCJBIiwxXQ==\" style=\"margin: 8px 0; clear: both;\">\n",
              "<a href=\"https://go.bybit.com/e/RFpgUfF4whb\" rel=\"noopener\" target=\"blank\"><img border=\"0\" class=\"aligncenter lazyload\" data-src=\"https://enqueinvertir.com/img/ES_CT_EQI 300x250.png\" src=\"data:image/gif;base64,R0lGODlhAQABAAAAACH5BAEKAAEALAAAAAABAAEAAAICTAEAOw==\" width=\"300 height=\"/><noscript><img border=\"0\" class=\"aligncenter\" src=\"https://enqueinvertir.com/img/ES_CT_EQI 300x250.png\" width=\"300 height=\"/></noscript></a></div>\n",
              "</aside><aside class=\"widget widget_bitther_most_views\" id=\"bitther_most_views-7\"><h2 class=\"widgettitle\">Tendencia del Momento</h2> <div class=\"most-views-content\">\n",
              "<div class=\"post-widget archive-blog posts-listing\">\n",
              "<article class=\"post-item post-grid disss clearfix post-200830 post type-post status-publish format-standard has-post-thumbnail hentry category-inversiones tag-analisis-fundamental tag-analisis-tecnico tag-bitcoin tag-precio-del-bitcoin\">\n",
              "<div class=\"article-tran hover-share-item\">\n",
              "<div class=\"post-image\">\n",
              "<a class=\"bgr-item\" href=\"https://criptotendencia.com/2021/07/11/bitcoin-continua-lateralizado-descubre-aqui-hacia-donde-es-probable-que-se-mueva-esta-semana-2/\"></a>\n",
              "<a href=\" https://criptotendencia.com/2021/07/11/bitcoin-continua-lateralizado-descubre-aqui-hacia-donde-es-probable-que-se-mueva-esta-semana-2/\">\n",
              "<img alt=\"post-image\" class=\"lazy\" data-lazy=\"https://i2.wp.com/criptotendencia.com/wp-content/uploads/2021/07/Bitcoin-continua-lateralizado.-Descubre-aqui-hacia-donde-es-probable-que-se-mueva-esta-semana.png?resize=510%2C328&amp;ssl=1\" data-src=\"https://i2.wp.com/criptotendencia.com/wp-content/uploads/2021/07/Bitcoin-continua-lateralizado.-Descubre-aqui-hacia-donde-es-probable-que-se-mueva-esta-semana.png?resize=510%2C328&amp;ssl=1\" src=\"https://criptotendencia.com/wp-content/themes/bitther/assets/images/layzyload-grid.jpg\"/>\n",
              "</a>\n",
              "<span class=\"post-cat \"> <a href=\"https://criptotendencia.com/category/inversiones/\" title=\"\">Inversiones</a>\n",
              "</span>\n",
              "</div>\n",
              "<div class=\"article-content \">\n",
              "<div class=\"article-meta clearfix\">\n",
              "<span class=\"byline author-title\"><span class=\"ti-minus\"></span><span class=\"by\">By</span><span class=\"author vcard\"><span class=\"screen-reader-text\">Author </span><a class=\"url fn n\" href=\"https://criptotendencia.com/author/vhquionez/\">Claudio Quiñonez</a></span></span><span class=\"posted-on\"><i aria-hidden=\"true\" class=\"icon ti-calendar\"></i><span class=\"screen-reader-text\">Posted on </span><a href=\"https://criptotendencia.com/2021/07/11/bitcoin-continua-lateralizado-descubre-aqui-hacia-donde-es-probable-que-se-mueva-esta-semana-2/\" rel=\"bookmark\"><time class=\"entry-date published\" datetime=\"2021-07-11T16:45:00-03:00\">julio 11, 2021</time><time class=\"updated\" datetime=\"2021-07-11T16:44:04-03:00\">julio 11, 2021</time></a></span> <div class=\"entry-meta-right\">\n",
              "<div class=\"total-view\">\n",
              "<i class=\"ti-eye\"></i> 3063\t\t\t</div>\n",
              "<span class=\"comments-link\">\n",
              "<a class=\"text-comment\" href=\"https://criptotendencia.com/2021/07/11/bitcoin-continua-lateralizado-descubre-aqui-hacia-donde-es-probable-que-se-mueva-esta-semana-2/#respond\"><i aria-hidden=\"true\" class=\"icon ti-comment-alt\"></i> 0</a>\n",
              "</span>\n",
              "</div>\n",
              "</div>\n",
              "<div class=\"entry-header clearfix\">\n",
              "<div class=\"entry-header-title\">\n",
              "<h3 class=\"entry-title\"><a href=\"https://criptotendencia.com/2021/07/11/bitcoin-continua-lateralizado-descubre-aqui-hacia-donde-es-probable-que-se-mueva-esta-semana-2/\">Bitcoin continúa lateralizado. Descubre aquí hacia donde es probable que se mueva esta semana</a></h3>\n",
              "</div>\n",
              "</div>\n",
              "<div class=\"entry-content\">\n",
              "</div>\n",
              "</div>\n",
              "</div>\n",
              "</article><!-- #post-## -->\n",
              "<article class=\"post-item post-sidebar clearfix post-200863 post type-post status-publish format-standard has-post-thumbnail hentry category-ballenas-crypto tag-ballenas-bitcoin tag-bitcoin tag-btc\">\n",
              "<div class=\"article-image\">\n",
              "<div class=\"post-image\">\n",
              "<a href=\" https://criptotendencia.com/2021/07/12/ballenas-bitcoin-movilizaron-22-174-btc-la-semana-pasada-hay-tendencia-bajista-este-mes/\">\n",
              "<img alt=\"post-image\" class=\"lazy\" data-original=\"https://i2.wp.com/criptotendencia.com/wp-content/uploads/2021/07/Ballenas-Bitcoin-movilizaron-22.174-BTC-la-semana-pasada.jpg?resize=100%2C90&amp;ssl=1\" data-src=\"https://i2.wp.com/criptotendencia.com/wp-content/uploads/2021/07/Ballenas-Bitcoin-movilizaron-22.174-BTC-la-semana-pasada.jpg?resize=100%2C90&amp;ssl=1\" src=\"https://criptotendencia.com/wp-content/themes/bitther/assets/images/layzyload-sidebar.jpg\"/>\n",
              "</a>\n",
              "</div>\n",
              "</div>\n",
              "<div class=\"article-content side-item-text \">\n",
              "<div class=\"entry-header sidebar_recent_post clearfix\">\n",
              "<div class=\"entry-header-title info_post\">\n",
              "<div class=\"category-view\">\n",
              "<span class=\"post-cat\"> <a href=\"https://criptotendencia.com/category/noticias/ballenas-crypto/\" title=\"\">Ballenas Crypto</a>\n",
              "</span>\n",
              "</div>\n",
              "<h3 class=\"entry-title\"><a href=\"https://criptotendencia.com/2021/07/12/ballenas-bitcoin-movilizaron-22-174-btc-la-semana-pasada-hay-tendencia-bajista-este-mes/\" rel=\"bookmark\">Ballenas Bitcoin movilizaron 22.174 BTC la semana pasada ¿Hay tendencia bajista este mes?</a></h3>\n",
              "</div>\n",
              "</div>\n",
              "</div>\n",
              "</article><!-- #post-## -->\n",
              "<article class=\"post-item post-sidebar clearfix post-200807 post type-post status-publish format-standard has-post-thumbnail hentry category-noticias-bitcoin tag-bitcoin tag-btc tag-china tag-criptomineros tag-mineria-bitcoin\">\n",
              "<div class=\"article-image\">\n",
              "<div class=\"post-image\">\n",
              "<a href=\" https://criptotendencia.com/2021/07/11/mineria-bitcoin-semana-cargada-de-noticias-positivas-y-polemicas-2/\">\n",
              "<img alt=\"post-image\" class=\"lazy\" data-original=\"https://i2.wp.com/criptotendencia.com/wp-content/uploads/2021/07/Mineria-Bitcoin-semana-cargada-de-noticias-positivas-y-polemicas.jpg?resize=100%2C90&amp;ssl=1\" data-src=\"https://i2.wp.com/criptotendencia.com/wp-content/uploads/2021/07/Mineria-Bitcoin-semana-cargada-de-noticias-positivas-y-polemicas.jpg?resize=100%2C90&amp;ssl=1\" src=\"https://criptotendencia.com/wp-content/themes/bitther/assets/images/layzyload-sidebar.jpg\"/>\n",
              "</a>\n",
              "</div>\n",
              "</div>\n",
              "<div class=\"article-content side-item-text \">\n",
              "<div class=\"entry-header sidebar_recent_post clearfix\">\n",
              "<div class=\"entry-header-title info_post\">\n",
              "<div class=\"category-view\">\n",
              "<span class=\"post-cat\"> <a href=\"https://criptotendencia.com/category/noticias/noticias-bitcoin/\" title=\"\">Noticias Bitcoin</a>\n",
              "</span>\n",
              "</div>\n",
              "<h3 class=\"entry-title\"><a href=\"https://criptotendencia.com/2021/07/11/mineria-bitcoin-semana-cargada-de-noticias-positivas-y-polemicas-2/\" rel=\"bookmark\">Minería Bitcoin: semana cargada de noticias positivas y polémicas</a></h3>\n",
              "</div>\n",
              "</div>\n",
              "</div>\n",
              "</article><!-- #post-## -->\n",
              "<article class=\"post-item post-sidebar clearfix post-200787 post type-post status-publish format-standard has-post-thumbnail hentry category-noticias tag-criptomonedas tag-diamante tag-sothebys tag-subasta\">\n",
              "<div class=\"article-image\">\n",
              "<div class=\"post-image\">\n",
              "<a href=\" https://criptotendencia.com/2021/07/11/sothebys-vende-un-diamante-en-criptomonedas-2/\">\n",
              "<img alt=\"post-image\" class=\"lazy\" data-original=\"https://i2.wp.com/criptotendencia.com/wp-content/uploads/2021/07/Sothebys-vende-un-diamante-en-criptomonedas.jpg?resize=100%2C90&amp;ssl=1\" data-src=\"https://i2.wp.com/criptotendencia.com/wp-content/uploads/2021/07/Sothebys-vende-un-diamante-en-criptomonedas.jpg?resize=100%2C90&amp;ssl=1\" src=\"https://criptotendencia.com/wp-content/themes/bitther/assets/images/layzyload-sidebar.jpg\"/>\n",
              "</a>\n",
              "</div>\n",
              "</div>\n",
              "<div class=\"article-content side-item-text \">\n",
              "<div class=\"entry-header sidebar_recent_post clearfix\">\n",
              "<div class=\"entry-header-title info_post\">\n",
              "<div class=\"category-view\">\n",
              "<span class=\"post-cat\"> <a href=\"https://criptotendencia.com/category/noticias/\" title=\"\">Noticias</a>\n",
              "</span>\n",
              "</div>\n",
              "<h3 class=\"entry-title\"><a href=\"https://criptotendencia.com/2021/07/11/sothebys-vende-un-diamante-en-criptomonedas-2/\" rel=\"bookmark\">Sotheby’s vende un diamante en criptomonedas</a></h3>\n",
              "</div>\n",
              "</div>\n",
              "</div>\n",
              "</article><!-- #post-## -->\n",
              "<article class=\"post-item post-sidebar clearfix post-200824 post type-post status-publish format-standard has-post-thumbnail hentry category-el-tweet-del-dia tag-bitcoin tag-criptomonedas tag-paraguay\">\n",
              "<div class=\"article-image\">\n",
              "<div class=\"post-image\">\n",
              "<a href=\" https://criptotendencia.com/2021/07/12/paraguay-podria-adoptar-bitcoin-como-moneda-de-curso-legal-2/\">\n",
              "<img alt=\"post-image\" class=\"lazy\" data-original=\"https://i0.wp.com/criptotendencia.com/wp-content/uploads/2021/07/Paraguay-podria-adoptar-Bitcoin-como-moneda-de-curso-legal.jpg?resize=100%2C90&amp;ssl=1\" data-src=\"https://i0.wp.com/criptotendencia.com/wp-content/uploads/2021/07/Paraguay-podria-adoptar-Bitcoin-como-moneda-de-curso-legal.jpg?resize=100%2C90&amp;ssl=1\" src=\"https://criptotendencia.com/wp-content/themes/bitther/assets/images/layzyload-sidebar.jpg\"/>\n",
              "</a>\n",
              "</div>\n",
              "</div>\n",
              "<div class=\"article-content side-item-text \">\n",
              "<div class=\"entry-header sidebar_recent_post clearfix\">\n",
              "<div class=\"entry-header-title info_post\">\n",
              "<div class=\"category-view\">\n",
              "<span class=\"post-cat\"> <a href=\"https://criptotendencia.com/category/noticias/el-tweet-del-dia/\" title=\"\">El Tweet del Día</a>\n",
              "</span>\n",
              "</div>\n",
              "<h3 class=\"entry-title\"><a href=\"https://criptotendencia.com/2021/07/12/paraguay-podria-adoptar-bitcoin-como-moneda-de-curso-legal-2/\" rel=\"bookmark\">Paraguay podría adoptar Bitcoin como moneda de curso legal</a></h3>\n",
              "</div>\n",
              "</div>\n",
              "</div>\n",
              "</article><!-- #post-## -->\n",
              "</div>\n",
              "</div>\n",
              "</aside><aside class=\"widget ai_widget\" id=\"ai_widget-46\"><div class=\"code-block code-block-18 ai-track\" data-ai=\"WzE4LDAsIkJhcnJhIExhdGVyYWwgMyBYVEIgLSBETVQiLCIiLDFd\" style=\"margin: 8px 0; clear: both;\">\n",
              "<iframe class=\"lazyload\" data-src=\"https://xtb.ck-cdn.com/tn/serve/geoGroup/?rgid=54&amp;bta=35416\" frameborder=\"0\" height=\"250\" scrolling=\"no\" src=\"data:image/gif;base64,R0lGODlhAQABAAAAACH5BAEKAAEALAAAAAABAAEAAAICTAEAOw==\" width=\"300\"></iframe></div>\n",
              "</aside><aside class=\"widget widget_listcategorypostswidget\" id=\"listcategorypostswidget-15\"><h2 class=\"widgettitle\">Comunicados de Prensa</h2><ul class=\"lcp_catlist\" id=\"lcp_instance_listcategorypostswidget-15\"><li><a href=\"https://criptotendencia.com/2021/07/09/utopia-p2p-ha-desarrollado-una-solucion-de-mineria-ecologica-no-necesita-disco-duro-cpu-ni-gpu-2/\" title=\"Utopia P2P ha desarrollado una solución de minería ecológica: no necesita disco duro, CPU ni GPU\">Utopia P2P ha desarrollado una solución de minería ecológica: no necesita disco duro, CPU ni GPU</a><a href=\"https://criptotendencia.com/2021/07/09/utopia-p2p-ha-desarrollado-una-solucion-de-mineria-ecologica-no-necesita-disco-duro-cpu-ni-gpu-2/\" title=\"Utopia P2P ha desarrollado una solución de minería ecológica: no necesita disco duro, CPU ni GPU\"><img alt=\"Utopia P2P ha desarrollado una solución de minería ecológica: no necesita disco duro, CPU ni GPU\" class=\"lcp_thumbnail wp-post-image jetpack-lazy-image\" data-attachment-id=\"200708\" data-comments-opened=\"1\" data-image-description=\"&lt;p&gt;Utopia P2P ha desarrollado una solución de minería ecológica no necesita disco duro, CPU ni GPU&lt;/p&gt;\n",
              "\" data-image-meta='{\"aperture\":\"0\",\"credit\":\"\",\"camera\":\"\",\"caption\":\"\",\"created_timestamp\":\"0\",\"copyright\":\"\",\"focal_length\":\"0\",\"iso\":\"0\",\"shutter_speed\":\"0\",\"title\":\"\",\"orientation\":\"0\"}' data-image-title=\"Utopia P2P ha desarrollado una solución de minería ecológica no necesita disco duro, CPU ni GPU\" data-large-file=\"https://i2.wp.com/criptotendencia.com/wp-content/uploads/2021/07/Utopia-P2P-ha-desarrollado-una-solucion-de-mineria-ecologica-no-necesita-disco-duro-CPU-ni-GPU.png?fit=660%2C413&amp;ssl=1\" data-lazy-sizes=\"(max-width: 220px) 100vw, 220px\" data-lazy-src=\"https://i2.wp.com/criptotendencia.com/wp-content/uploads/2021/07/Utopia-P2P-ha-desarrollado-una-solucion-de-mineria-ecologica-no-necesita-disco-duro-CPU-ni-GPU.png?resize=220%2C150&amp;ssl=1&amp;is-pending-load=1\" data-lazy-srcset=\"https://i2.wp.com/criptotendencia.com/wp-content/uploads/2021/07/Utopia-P2P-ha-desarrollado-una-solucion-de-mineria-ecologica-no-necesita-disco-duro-CPU-ni-GPU.png?resize=220%2C150&amp;ssl=1 220w, https://i2.wp.com/criptotendencia.com/wp-content/uploads/2021/07/Utopia-P2P-ha-desarrollado-una-solucion-de-mineria-ecologica-no-necesita-disco-duro-CPU-ni-GPU.png?zoom=2&amp;resize=220%2C150&amp;ssl=1 440w, https://i2.wp.com/criptotendencia.com/wp-content/uploads/2021/07/Utopia-P2P-ha-desarrollado-una-solucion-de-mineria-ecologica-no-necesita-disco-duro-CPU-ni-GPU.png?zoom=3&amp;resize=220%2C150&amp;ssl=1 660w\" data-medium-file=\"https://i2.wp.com/criptotendencia.com/wp-content/uploads/2021/07/Utopia-P2P-ha-desarrollado-una-solucion-de-mineria-ecologica-no-necesita-disco-duro-CPU-ni-GPU.png?fit=300%2C188&amp;ssl=1\" data-orig-file=\"https://i2.wp.com/criptotendencia.com/wp-content/uploads/2021/07/Utopia-P2P-ha-desarrollado-una-solucion-de-mineria-ecologica-no-necesita-disco-duro-CPU-ni-GPU.png?fit=800%2C500&amp;ssl=1\" data-orig-size=\"800,500\" data-permalink=\"https://criptotendencia.com/2021/07/09/utopia-p2p-ha-desarrollado-una-solucion-de-mineria-ecologica-no-necesita-disco-duro-cpu-ni-gpu-2/utopia-p2p-ha-desarrollado-una-solucion-de-mineria-ecologica-no-necesita-disco-duro-cpu-ni-gpu/\" height=\"150\" src=\"https://i2.wp.com/criptotendencia.com/wp-content/uploads/2021/07/Utopia-P2P-ha-desarrollado-una-solucion-de-mineria-ecologica-no-necesita-disco-duro-CPU-ni-GPU.png?resize=220%2C150&amp;ssl=1\" srcset=\"data:image/gif;base64,R0lGODlhAQABAIAAAAAAAP///yH5BAEAAAAALAAAAAABAAEAAAIBRAA7\" width=\"220\"/></a></li><li><a href=\"https://criptotendencia.com/2021/06/22/nebeus-lanza-una-oferta-de-depositos-gratuitos-con-tarjeta-bancaria-2/\" title=\"Nebeus lanza una oferta de depósitos gratuitos con tarjeta bancaria\">Nebeus lanza una oferta de depósitos gratuitos con tarjeta bancaria</a><a href=\"https://criptotendencia.com/2021/06/22/nebeus-lanza-una-oferta-de-depositos-gratuitos-con-tarjeta-bancaria-2/\" title=\"Nebeus lanza una oferta de depósitos gratuitos con tarjeta bancaria\"><img alt=\"Nebeus lanza una oferta de depósitos gratuitos con tarjeta bancaria\" class=\"lcp_thumbnail wp-post-image jetpack-lazy-image\" data-attachment-id=\"199012\" data-comments-opened=\"1\" data-image-description=\"&lt;p&gt;Nebeus lanza una oferta de depósitos gratuitos con tarjeta bancaria&lt;/p&gt;\n",
              "\" data-image-meta='{\"aperture\":\"0\",\"credit\":\"\",\"camera\":\"\",\"caption\":\"\",\"created_timestamp\":\"0\",\"copyright\":\"\",\"focal_length\":\"0\",\"iso\":\"0\",\"shutter_speed\":\"0\",\"title\":\"\",\"orientation\":\"0\"}' data-image-title=\"Nebeus lanza una oferta de depósitos gratuitos con tarjeta bancaria\" data-large-file=\"https://i2.wp.com/criptotendencia.com/wp-content/uploads/2021/06/Nebeus-lanza-una-oferta-de-depositos-gratuitos-con-tarjeta-bancaria-1.png?fit=660%2C347&amp;ssl=1\" data-lazy-sizes=\"(max-width: 220px) 100vw, 220px\" data-lazy-src=\"https://i2.wp.com/criptotendencia.com/wp-content/uploads/2021/06/Nebeus-lanza-una-oferta-de-depositos-gratuitos-con-tarjeta-bancaria-1.png?resize=220%2C150&amp;ssl=1&amp;is-pending-load=1\" data-lazy-srcset=\"https://i2.wp.com/criptotendencia.com/wp-content/uploads/2021/06/Nebeus-lanza-una-oferta-de-depositos-gratuitos-con-tarjeta-bancaria-1.png?resize=220%2C150&amp;ssl=1 220w, https://i2.wp.com/criptotendencia.com/wp-content/uploads/2021/06/Nebeus-lanza-una-oferta-de-depositos-gratuitos-con-tarjeta-bancaria-1.png?zoom=2&amp;resize=220%2C150&amp;ssl=1 440w, https://i2.wp.com/criptotendencia.com/wp-content/uploads/2021/06/Nebeus-lanza-una-oferta-de-depositos-gratuitos-con-tarjeta-bancaria-1.png?zoom=3&amp;resize=220%2C150&amp;ssl=1 660w\" data-medium-file=\"https://i2.wp.com/criptotendencia.com/wp-content/uploads/2021/06/Nebeus-lanza-una-oferta-de-depositos-gratuitos-con-tarjeta-bancaria-1.png?fit=300%2C158&amp;ssl=1\" data-orig-file=\"https://i2.wp.com/criptotendencia.com/wp-content/uploads/2021/06/Nebeus-lanza-una-oferta-de-depositos-gratuitos-con-tarjeta-bancaria-1.png?fit=1200%2C630&amp;ssl=1\" data-orig-size=\"1200,630\" data-permalink=\"https://criptotendencia.com/2021/06/22/nebeus-lanza-una-oferta-de-depositos-gratuitos-con-tarjeta-bancaria-2/nebeus-lanza-una-oferta-de-depositos-gratuitos-con-tarjeta-bancaria-1/\" height=\"150\" src=\"https://i2.wp.com/criptotendencia.com/wp-content/uploads/2021/06/Nebeus-lanza-una-oferta-de-depositos-gratuitos-con-tarjeta-bancaria-1.png?resize=220%2C150&amp;ssl=1\" srcset=\"data:image/gif;base64,R0lGODlhAQABAIAAAAAAAP///yH5BAEAAAAALAAAAAABAAEAAAIBRAA7\" width=\"220\"/></a></li><li><a href=\"https://criptotendencia.com/2021/06/19/unete-a-la-copa-de-trading-euro-2021-en-vivo-50-000-dolares-para-ganar/\" title=\"¡Únete a la Copa de Trading Euro 2021 en vivo! 50.000 dólares para ganar\">¡Únete a la Copa de Trading Euro 2021 en vivo! 50.000 dólares para ganar</a><a href=\"https://criptotendencia.com/2021/06/19/unete-a-la-copa-de-trading-euro-2021-en-vivo-50-000-dolares-para-ganar/\" title=\"¡Únete a la Copa de Trading Euro 2021 en vivo! 50.000 dólares para ganar\"><img alt=\"¡Únete a la Copa de Trading Euro 2021 en vivo! 50.000 dólares para ganar\" class=\"lcp_thumbnail wp-post-image jetpack-lazy-image\" data-attachment-id=\"198488\" data-comments-opened=\"1\" data-image-description=\"&lt;p&gt;copa de trading&lt;/p&gt;\n",
              "\" data-image-meta='{\"aperture\":\"0\",\"credit\":\"\",\"camera\":\"\",\"caption\":\"\",\"created_timestamp\":\"0\",\"copyright\":\"\",\"focal_length\":\"0\",\"iso\":\"0\",\"shutter_speed\":\"0\",\"title\":\"\",\"orientation\":\"0\"}' data-image-title=\"copa de trading\" data-large-file=\"https://i2.wp.com/criptotendencia.com/wp-content/uploads/2021/06/copa-de-trading-18062021.png?fit=660%2C371&amp;ssl=1\" data-lazy-sizes=\"(max-width: 220px) 100vw, 220px\" data-lazy-src=\"https://i2.wp.com/criptotendencia.com/wp-content/uploads/2021/06/copa-de-trading-18062021.png?resize=220%2C150&amp;ssl=1&amp;is-pending-load=1\" data-lazy-srcset=\"https://i2.wp.com/criptotendencia.com/wp-content/uploads/2021/06/copa-de-trading-18062021.png?resize=220%2C150&amp;ssl=1 220w, https://i2.wp.com/criptotendencia.com/wp-content/uploads/2021/06/copa-de-trading-18062021.png?zoom=2&amp;resize=220%2C150&amp;ssl=1 440w, https://i2.wp.com/criptotendencia.com/wp-content/uploads/2021/06/copa-de-trading-18062021.png?zoom=3&amp;resize=220%2C150&amp;ssl=1 660w\" data-medium-file=\"https://i2.wp.com/criptotendencia.com/wp-content/uploads/2021/06/copa-de-trading-18062021.png?fit=300%2C169&amp;ssl=1\" data-orig-file=\"https://i2.wp.com/criptotendencia.com/wp-content/uploads/2021/06/copa-de-trading-18062021.png?fit=1280%2C720&amp;ssl=1\" data-orig-size=\"1280,720\" data-permalink=\"https://criptotendencia.com/2021/06/19/unete-a-la-copa-de-trading-euro-2021-en-vivo-50-000-dolares-para-ganar/copa-de-trading-18062021/\" height=\"150\" src=\"https://i2.wp.com/criptotendencia.com/wp-content/uploads/2021/06/copa-de-trading-18062021.png?resize=220%2C150&amp;ssl=1\" srcset=\"data:image/gif;base64,R0lGODlhAQABAIAAAAAAAP///yH5BAEAAAAALAAAAAABAAEAAAIBRAA7\" width=\"220\"/></a></li></ul><a href=\"https://criptotendencia.com/category/comunicados-de-prensa/\"> </a></aside><aside class=\"widget ai_widget\" id=\"ai_widget-45\"><div class=\"code-block code-block-10 ai-track\" data-ai=\"WzEwLDAsIkJhcnJhIExhdGVyYWwgNCBMaWJlcnRleCAtIERNVCIsIiIsMV0=\" style=\"margin: 8px 0; clear: both;\">\n",
              "<a href=\"https://lb-tracking.com/click.php?key=b31vpuv9h2sfad4jd1by\" rel=\"noopener\" target=\"blank\"><img border=\"0\" class=\"aligncenter lazyload\" data-src=\"https://enqueinvertir.com/img/Libertex-300x250.png\" src=\"data:image/gif;base64,R0lGODlhAQABAAAAACH5BAEKAAEALAAAAAABAAEAAAICTAEAOw==\" width=\"300 height=\"/><noscript><img border=\"0\" class=\"aligncenter\" src=\"https://enqueinvertir.com/img/Libertex-300x250.png\" width=\"300 height=\"/></noscript></a></div>\n",
              "</aside> </div>\n",
              "</div>\n",
              "</div><!-- .content-area -->\n",
              "</div>\n",
              "</div><!-- .site-content -->\n",
              "<footer id=\"na-footer\">\n",
              "<div class=\"na-footer-main\">\n",
              "<div class=\"footer-top\">\n",
              "<div class=\"container\">\n",
              "<div class=\"container-inner\">\n",
              "<div class=\"row\">\n",
              "<div class=\"col-md-6 col-sm-6\">\n",
              "</div>\n",
              "<div class=\"col-md-3 col-sm-6\">\n",
              "</div>\n",
              "<div class=\"col-md-3 col-sm-6\">\n",
              "</div>\n",
              "</div>\n",
              "</div>\n",
              "</div>\n",
              "</div>\n",
              "</div>\n",
              "<div class=\"coppy-right\">\n",
              "<div class=\"container\">\n",
              "<div class=\"row\">\n",
              "<div class=\"col-md-7 col-sm-12\">\n",
              "<span>® CriptoTendencia.com, todos los derechos reservados - 2017 / 2021</span>\n",
              "</div>\n",
              "<div class=\"col-md-5 col-sm-12 footer-bottom-right\">\n",
              "</div>\n",
              "</div>\n",
              "</div>\n",
              "</div>\n",
              "</footer>\n",
              "</div><!-- .site -->\n",
              "<!-- -->\n",
              "<script data-provider=\"wordpress.com\" data-service=\"atomic\" defer=\"\" id=\"bilmur\" src=\"https://s0.wp.com/wp-content/js/bilmur.min.js?m=202128\"></script>\n",
              "<script id=\"tmpl-row-data-template\" type=\"text/html\">\n",
              "    <# _.each(data, function(item, i){ #>\n",
              "    <tr data-id=\"{{item.id}}\" data-symbol=\"{{item.symbol}}\">\n",
              "        <td class=\"row-number\">{{item.rank}}</td>\n",
              "\n",
              "        <td class=\"coin-name\" data-coin=\"\" data-sort=\"name\">\n",
              "            <div class=\"coin-name-inner\">\n",
              "                <a href=\"#\" class=\"coin-icon\">\n",
              "                    <img  onerror=\"this.onerror=null;this.\" data-src=\"https://static.coincap.io/assets/icons/{{item.symbol.toLowerCase()}}@2x.png\" class=\"lazyload\" src=\"data:image/gif;base64,R0lGODlhAQABAAAAACH5BAEKAAEALAAAAAABAAEAAAICTAEAOw==\"><noscript><img src=\"https://static.coincap.io/assets/icons/{{item.symbol.toLowerCase()}}@2x.png\" onerror=\"this.onerror=null;this.src='https://criptotendencia.com/wp-content/plugins/fat-coincap/assets/images/coin_default.png'\"></noscript>\n",
              "                </a>\n",
              "                <a href=\"{{item.link_to_detail}}\" class=\"view-detail\">{{item.name}}\n",
              "                    </br><span class=\"coin-symbol\">{{item.symbol}}</span>\n",
              "                </a>\n",
              "            </div>\n",
              "        </td>\n",
              "\n",
              "        <td class=\"price\" data-prev-price=\"{{item.priceUsd}}\" data-usd=\"{{item.priceUsd}}\">\n",
              "            <# if(item.priceFormat !='-' && item.priceFormat!=''){ #>\n",
              "                <span class=\"currency-icon\">{{item.currency}}</span>\n",
              "            <# } #>\n",
              "            <span class=\"value-field price-responsive\">{{item.priceFormat}}</span>\n",
              "        </td>\n",
              "\n",
              "        <# if(item.changePercent24HrOrigin > 0){ #>\n",
              "            <td class=\"percent-24 increase fat-allow-hide\" data-usd=\"{{item.changePercent24Hr}}\" data-sort=\"changePercent24Hr\">\n",
              "                <span class=\"percent-24-responsive\">{{item.changePercent24Hr}}</span>\n",
              "            </td>\n",
              "        <# }else{ #>\n",
              "            <td class=\"percent-24 decrease fat-allow-hide\" data-usd=\"{{item.changePercent24Hr}}\" data-sort=\"changePercent24Hr\">\n",
              "                <span class=\"percent-24-responsive\">{{item.changePercent24Hr}}</span>\n",
              "            </td>\n",
              "        <# } #>\n",
              "\n",
              "        <td class=\"price-high-24 fat-allow-hide\" data-usd=\"\">\n",
              "            <span class=\"price-high-24-responsive\"></span>\n",
              "        </td>\n",
              "\n",
              "        <td class=\"price-low-24 fat-allow-hide\" data-usd=\"\">\n",
              "            <span class=\"price-low-24-responsive\"></span>\n",
              "        </td>\n",
              "\n",
              "        <td class=\"hour-volume-24 fat-allow-hide\" data-usd=\"{{item.volumeUsd24Hr}}\" data-sort=\"volumeUsd24Hr\">\n",
              "            <# if(item.volumeUsd24HrFormat !='-' && item.volumeUsd24HrFormat!=''){ #>\n",
              "                <span class=\"currency-icon\">{{item.currency}}</span>\n",
              "            <# } #>\n",
              "            <span class=\"value-field hour-volume-24-responsive\">\n",
              "               {{item.volumeUsd24HrFormat}}\n",
              "            </span>\n",
              "        </td>\n",
              "\n",
              "        <td class=\"hour-vwrap-24 fat-allow-hide\" data-usd=\"{{item.vwap24Hr}}\" data-sort=\"vwap24Hr\" >\n",
              "            <# if(item.vwap24HrFormat !='-' && item.vwap24HrFormat !=''){ #>\n",
              "                <span class=\"currency-icon\">{{item.currency}}</span>\n",
              "            <# } #>\n",
              "            <span class=\"value-field hour-vwrap-24-responsive\">\n",
              "                 {{item.vwap24HrFormat}}\n",
              "            </span>\n",
              "        </td>\n",
              "\n",
              "        <td class=\"supply fat-allow-hide\" data-usd=\"{{item.supply}}\" data-sort=\"supply\">\n",
              "            <span class=\"value-field supply-responsive\">{{item.supplyFormat}}</span>\n",
              "        </td>\n",
              "\n",
              "        <td class=\"market-cap fat-allow-hide\" data-usd=\"{{item.marketCapUsd}}\" data-sort=\"marketCapUsd\">\n",
              "            <# if(item.marketCapUsdFormat !='-' && item.marketCapUsdFormat !=''){ #>\n",
              "                <span class=\"currency-icon\">{{item.currency}}</span>\n",
              "            <# } #>\n",
              "            <span class=\"value-field market-cap-responsive\">\n",
              "                 {{item.marketCapUsdFormat}}\n",
              "            </span>\n",
              "        </td>\n",
              "\n",
              "        <td class=\"price-chart text-center fat-allow-hide\">\n",
              "            <span class=\"sparkline-chart\" data-coin=\"{{item.id}}\"></span>\n",
              "        </td>\n",
              "        <td class=\"trade text-center fat-allow-hide\">\n",
              "            <a target=\"_blank\" href=\"{{item.link_buy_now}}\"\n",
              "               class=\"trade-buy coin-{{item.symbol}}\">\n",
              "                Buy            </a>/\n",
              "            <a target=\"_blank\" href=\"{{item.link_sell}}\" class=\"trade-sell coin-{{item.symbol}}\">\n",
              "                Sell            </a>\n",
              "        </td>\n",
              "        <td class=\"actions fat-allow-hide\">\n",
              "            <a href=\"javascript:\" onclick=\"FatCoinCap.processViewDetail(this);\"\n",
              "               data-coin=\"{{item.id}}\"\n",
              "               data-coin-name=\"{{item.name}}\" class=\"view-detail\"\n",
              "               title=\"View detail\"><i class=\"fa fa-line-chart\"></i></a>\n",
              "        </td>\n",
              "    </tr>\n",
              "    <# }) #>\n",
              "</script>\n",
              "<div class=\"fat-coincap-popup-container\" data-icon=\"https://criptotendencia.com/wp-content/plugins/fat-coincap/assets/icon32/\">\n",
              "<div class=\"fat-coincap-popup-inner\">\n",
              "</div>\n",
              "</div>\n",
              "<div class=\"fat-coincap-loading-wrap\">\n",
              "<div class=\"fat-coincap-loading\">\n",
              "<i class=\"fa fa-spinner fa-spin\"></i>\n",
              "<span>Loading data ...</span>\n",
              "</div>\n",
              "</div>\n",
              "<script id=\"tmpl-fat-coincap-detail-template\" type=\"text/html\">\n",
              "    <div class=\"fat-coin-info coin-{{data.short}}\" data-rate=\"{{data.rate}}\" data-symbol=\"{{data.symbol}}\">\n",
              "        <div class=\"coin-name-container\">\n",
              "            <a href=\"#\" class=\"coin-icon\">\n",
              "                <img  onerror=\"this.onerror=null;this.\" data-src=\"https://static.coincap.io/assets/icons/{{data.coin_symbol.toLowerCase()}}@2x.png\" class=\"lazyload\" src=\"data:image/gif;base64,R0lGODlhAQABAAAAACH5BAEKAAEALAAAAAABAAEAAAICTAEAOw==\"><noscript><img  onerror=\"this.onerror=null;this.\" data-src=\"https://static.coincap.io/assets/icons/{{data.coin_symbol.toLowerCase()}}@2x.png\" class=\"lazyload\" src=\"data:image/gif;base64,R0lGODlhAQABAAAAACH5BAEKAAEALAAAAAABAAEAAAICTAEAOw==\"><noscript><img src=\"https://static.coincap.io/assets/icons/{{data.coin_symbol.toLowerCase()}}@2x.png\" onerror=\"this.onerror=null;this.src='https://criptotendencia.com/wp-content/plugins/fat-coincap/assets/images/coin_default.png'\"></noscript></noscript>\n",
              "            </a>\n",
              "            <div class=\"coin-name\">{{data.long}} <span class=\"coin-code\">({{data.short}})</span></div>\n",
              "        </div>\n",
              "        <div class=\"coin-market-info-container\">\n",
              "            <div class=\"coin-market-info-price\">\n",
              "                <span class=\"coin-price\" data-prev-price=\"{{data.price}}\">{{data.symbol}}{{data.price}}</span>\n",
              "                <span class=\"percent-24\" data-prev-24-percent=\"{{data.cap24hrChange}}\"> ({{data.cap24hrChange}})</span>\n",
              "            </div>\n",
              "            <table style=\"border-collapse: collapse\">\n",
              "                <tbody>\n",
              "                    <tr>\n",
              "                        <th>\n",
              "                            <span>Market Cap</span>\n",
              "                        </th>\n",
              "                        <th>\n",
              "                            <span>24 Hour Volume</span>\n",
              "                        </th>\n",
              "                        <th>\n",
              "                            <span>Available Supply</span>\n",
              "                        </th>\n",
              "                    </tr>\n",
              "                    <tr>\n",
              "                        <td class=\"coin-market\">{{data.symbol}}{{data.market_cap}}</td>\n",
              "                        <td class=\"coin-volume\">{{data.symbol}}{{data.volume}}</td>\n",
              "                        <td class=\"coin-supply\">{{data.supply}}</td>\n",
              "                    </tr>\n",
              "                </tbody>\n",
              "            </table>\n",
              "        </div>\n",
              "    </div>\n",
              "    <div style=\"text-align: right\">\n",
              "        <div class=\"fat-coin-history-filter\" data-coin=\"{{data.short}}\" data-coin-name=\"{{data.long}}\">\n",
              "            <span><i class=\"fa fa-filter\"></i></span>\n",
              "            <a href=\"javascript:\"  data-interval=\"m1\" title=\"View history in 1 day\" >1 day</a>\n",
              "            <a href=\"javascript:\" class=\"active\" data-interval=\"m5\" title=\"View history in 1 week\" >1 week</a>\n",
              "            <a href=\"javascript:\" data-interval=\"h1\" title=\"View history in 1 month\" >1 month</a>\n",
              "            <a href=\"javascript:\" data-interval=\"h12\" title=\"View history in 1 year\" >1 year</a>\n",
              "        </div>\n",
              "    </div>\n",
              "    <div class=\"fat-coincap-chart\" id=\"coincap_chart\" style=\"width: 400px; height: 400px\">\n",
              "\n",
              "    </div>\n",
              "    <div class=\"fat-coincap-loading\">\n",
              "        <i class=\"fa fa-spinner fa-spin\"></i>\n",
              "        <span>Loading data ...</span>\n",
              "    </div>\n",
              "</script>\n",
              "<script id=\"tmpl-fat-coincap-history-template\" type=\"text/html\">\n",
              "    <div class=\"fat-coin-history coin-{{data.short}}\">\n",
              "        <div class=\"fat-coin-history-tool\">\n",
              "            <div class=\"coin-name-container\">\n",
              "                <span class=\"sprite small_coin_logo cash\" style=\"background-image: url(https://criptotendencia.com/wp-content/plugins/fat-coincap/assets/icon32/{{data.short}}.png)\"></span>\n",
              "                <div class=\"coin-name\">{{data.long}} <span class=\"coin-code\">({{data.short}})</span></div>\n",
              "            </div>\n",
              "            <div class=\"fat-coin-history-filter\" data-coin=\"{{data.short}}\" data-coin-name=\"{{data.long}}\">\n",
              "                <span><i class=\"fa fa-filter\"></i></span>\n",
              "                <a href=\"javascript:\" data-day=\"1\" title=\"View history in 1 day\" >1 day</a>\n",
              "                <a href=\"javascript:\" class=\"active\" data-day=\"7\" title=\"View history in 1 week\" >1 week</a>\n",
              "                <a href=\"javascript:\" data-day=\"30\" title=\"View history in 1 month\" >1 month</a>\n",
              "                <a href=\"javascript:\" data-day=\"365\" title=\"View history in 1 year\" >1 year</a>\n",
              "                <a href=\"javascript:\" data-day=\"\" title=\"View history all time\" >All time</a>\n",
              "            </div>\n",
              "        </div>\n",
              "        <div class=\"fat-coincap-chart\">\n",
              "\n",
              "        </div>\n",
              "\n",
              "        <div class=\"fat-coincap-loading\">\n",
              "            <i class=\"fa fa-spinner fa-spin\"></i>\n",
              "            <span>Loading data ...</span>\n",
              "        </div>\n",
              "    </div>\n",
              "</script>\n",
              "<div class=\"fat-coincap-compare-list-container\">\n",
              "<div class=\"fat-coincap-compare-header\">\n",
              "        Comparison        <a class=\"min-max-popup\" data-icon-down=\"fa fa-caret-down\" data-icon-up=\"fa fa-caret-up\" data-status=\"min\" href=\"javascript:\"><i class=\"fa fa-caret-up\"></i></a>\n",
              "</div>\n",
              "<ul class=\"fat-coincap-compare-list\">\n",
              "</ul>\n",
              "<div class=\"fat-coincap-compare-options\">\n",
              "<div>\n",
              "<a class=\"fat-coincap-compare-chart\" href=\"javacript:;\"><i class=\"fa fa-line-chart\"></i><span>View chart compare</span></a>\n",
              "</div>\n",
              "<div>\n",
              "<a class=\"fat-coincap-compare-table\" href=\"javacript:;\"><i class=\"fa fa-table\"></i><span style=\"padding-left: 3px;\">View table compare</span></a>\n",
              "</div>\n",
              "</div>\n",
              "</div>\n",
              "<script id=\"tmpl-fat-coincap-table-compare-popup-template\" type=\"text/html\">\n",
              "<div class=\"fat-coincap-table-compare-popup\">\n",
              "    <div class=\"popup-title\">Cryptocurrency Comparison</div>\n",
              "    <table>\n",
              "        <thead>\n",
              "        <tr>\n",
              "            <th>Name</th>\n",
              "            <th>Market Cap</th>\n",
              "            <th>Price</th>\n",
              "            <th>24hour VWAP</th>\n",
              "            <th>Available Supply</th>\n",
              "            <th>24 Hour Volume</th>\n",
              "            <th>%24</th>\n",
              "        </tr>\n",
              "        </thead>\n",
              "        <tbody>\n",
              "            <# _.each(data, function(item){ #>\n",
              "                <tr>\n",
              "                    <td class=\"coin-name-wrap\" data-coin=\"{{item.id}}\">\n",
              "                        <div class=\"coin-name-inner\">\n",
              "                            <span class=\"sprite small_coin_logo\" style=\"background-image: url(https://criptotendencia.com/wp-content/plugins/fat-coincap/assets/icon32/{{item.id}}.png)\"></span>\n",
              "                            <span class=\"coin-name\">{{item.display_name}} {{item.id}}</span>\n",
              "                        </div>\n",
              "                    </td>\n",
              "                    <td class=\"market-cap\"><span class=\"currency-icon\">{{item.symbol}}</span><span class=\"value-field\">{{item.market_cap}}</span></td>\n",
              "                    <td class=\"price\" data-prev-price=\"{{item.price_usd}}\"><span class=\"currency-icon\">{{item.symbol}}</span><span class=\"value-field\">{{item.price_usd}}</span></td>\n",
              "                    <td class=\"hour-vwrap-24\" data-prev-24hour-vwrap=\"{{item.vwap_h24}}\"><span class=\"currency-icon\">{{item.symbol}}</span> <span class=\"value-field\">{{item.vwap_h24}}</span></td>\n",
              "                    <td class=\"supply\">{{item.supply}}</td>\n",
              "                    <td class=\"hour-volume-24\">{{item.volume}}</td>\n",
              "                    <td class=\"percent-24\" data-prev-24-percent=\"{{item.cap24hrChange}}\">{{item.cap24hrChange}} %</td>\n",
              "\n",
              "                </tr>\n",
              "            <# }) #>\n",
              "        </tbody>\n",
              "    </table>\n",
              "</div>\n",
              "</script>\n",
              "<script id=\"tmpl-fat-coincap-chart-compare-popup-template\" type=\"text/html\">\n",
              "    <div class=\"fat-coincap-table-compare-popup\">\n",
              "        <div class=\"popup-title\">Cryptocurrency Comparison</div>\n",
              "        <div class=\"fat-coincap-chart\">\n",
              "\n",
              "        </div>\n",
              "    </div>\n",
              "</script>\n",
              "<script id=\"tmpl-fat-coincap-chart-info-template\" type=\"text/html\">\n",
              "    <div class=\"fat-coin-info coin-{{data.id}}\">\n",
              "        <div class=\"coin-name-container\">\n",
              "            <a href=\"#\" class=\"coin-icon\">\n",
              "                <img  onerror=\"this.onerror=null;this.\" data-src=\"https://static.coincap.io/assets/icons/{{data.coin_symbol.toLowerCase()}}@2x.png\" class=\"lazyload\" src=\"data:image/gif;base64,R0lGODlhAQABAAAAACH5BAEKAAEALAAAAAABAAEAAAICTAEAOw==\"><noscript><img  onerror=\"this.onerror=null;this.\" data-src=\"https://static.coincap.io/assets/icons/{{data.coin_symbol.toLowerCase()}}@2x.png\" class=\"lazyload\" src=\"data:image/gif;base64,R0lGODlhAQABAAAAACH5BAEKAAEALAAAAAABAAEAAAICTAEAOw==\"><noscript><img src=\"https://static.coincap.io/assets/icons/{{data.coin_symbol.toLowerCase()}}@2x.png\" onerror=\"this.onerror=null;this.src='https://criptotendencia.com/wp-content/plugins/fat-coincap/assets/images/coin_default.png'\"></noscript></noscript>\n",
              "            </a>\n",
              "            <div class=\"coin-name\">{{data.long}} </div>\n",
              "        </div>\n",
              "        <div class=\"coin-market-info-container\">\n",
              "            <div class=\"coin-market-info-price\">\n",
              "                <span class=\"coin-price\" data-prev-price=\"{{data.priceUsd}}\">{{data.symbol}} {{data.price}}</span>\n",
              "                <span class=\"percent-24\" data-prev-24-percent=\"{{data.cap24hrChange}}\"> ({{data.cap24hrChange}})</span>\n",
              "            </div>\n",
              "            <table style=\"border-collapse: collapse\">\n",
              "                <tbody>\n",
              "                <tr>\n",
              "                    <th>\n",
              "                        <span>Market Cap</span>\n",
              "                    </th>\n",
              "                    <th>\n",
              "                        <span>24 Hour Volume</span>\n",
              "                    </th>\n",
              "                    <th>\n",
              "                        <span>Available Supply</span>\n",
              "                    </th>\n",
              "                    <th>\n",
              "                        <span>24H Change</span>\n",
              "                    </th>\n",
              "                    <th>\n",
              "                        <span>24H High</span>\n",
              "                    </th>\n",
              "                    <th>\n",
              "                        <span>24H Low</span>\n",
              "                    </th>\n",
              "                </tr>\n",
              "                <tr>\n",
              "                    <td class=\"coin-market\" data-title=\"Market Cap\">{{data.symbol}}{{data.market_cap}}</td>\n",
              "                    <td class=\"coin-volume\" data-title=\"24 Hour Volume\">{{data.symbol}}{{data.volume}}</td>\n",
              "                    <td class=\"coin-supply\" data-title=\"Available Supply\">{{data.supply}}</td>\n",
              "                    <td class=\"coin-price-24\" data-title=\"24H Change\">{{data.symbol}}{{data.change24hr}}</td>\n",
              "                    <td class=\"coin-price-24-high\" data-title=\"24H High\">{{data.symbol}}<span class=\"value-field\">{{data.price_24_high}}</span></td>\n",
              "                    <td class=\"coin-price-24-low\"  data-title=\"24H Low\">{{data.symbol}}<span class=\"value-field\">{{data.price_24_low}}</span></td>\n",
              "                </tr>\n",
              "                </tbody>\n",
              "            </table>\n",
              "            <div class=\"fat-coin-history-filter\" data-coin=\"{{data.id}}\" data-chart-id=\"{{data.chart_id}}\" data-coin-name=\"{{data.display_name}}\">\n",
              "                <span><i class=\"fa fa-filter\"></i></span>\n",
              "                <a href=\"javascript:\" class=\"active\" data-interval=\"m1\" title=\"View history in 1 day\" >1 day</a>\n",
              "                <a href=\"javascript:\"  data-interval=\"m5\" title=\"View history in 1 week\" >1 week</a>\n",
              "                <a href=\"javascript:\" data-interval=\"h1\" title=\"View history in 1 month\" >1 month</a>\n",
              "                <a href=\"javascript:\" data-interval=\"h12\" title=\"View history in 1 year\" >1 year</a>\n",
              "            </div>\n",
              "\n",
              "        </div>\n",
              "    </div>\n",
              "    <div id=\"{{data.chart_id}}\">\n",
              "\n",
              "    </div>\n",
              "\n",
              "    <div id=\"{{data.chart_candle_id}}\">\n",
              "\n",
              "    </div>\n",
              "</script>\n",
              "<amp-ad data-ad-client=\"ca-pub-4725541372140824\" data-ad-slot=\"2030819702\" data-auto-format=\"rspv\" data-full-width=\"\" height=\"320\" type=\"adsense\" width=\"100vw\">\n",
              "<div overflow=\"\"></div>\n",
              "</amp-ad>\n",
              "<amp-auto-ads data-ad-client=\"ca-pub-4725541372140824\" type=\"adsense\">\n",
              "</amp-auto-ads>\n",
              "<script async=\"\" src=\"https://appsha1.cointraffic.io/js/?wkey=oAwIF5dl81\"></script>\n",
              "<amp-auto-ads data-ad-client=\"ca-pub-4725541372140824\" type=\"adsense\">\n",
              "</amp-auto-ads><script>function loadScript(a){var b=document.getElementsByTagName(\"head\")[0],c=document.createElement(\"script\");c.type=\"text/javascript\",c.src=\"https://tracker.metricool.com/app/resources/be.js\",c.onreadystatechange=a,c.onload=a,b.appendChild(c)}loadScript(function(){beTracker.t({hash:'960e8a4eb36b3a5ad3d09be8b3ec5764'})})</script> <style id=\"stassets_footer_css\">\n",
              "</style>\n",
              "<script>\n",
              "\t\t( function ( body ) {\n",
              "\t\t\t'use strict';\n",
              "\t\t\tbody.className = body.className.replace( /\\btribe-no-js\\b/, 'tribe-js' );\n",
              "\t\t} )( document.body );\n",
              "\t\t</script>\n",
              "<script> /* <![CDATA[ */var tribe_l10n_datatables = {\"aria\":{\"sort_ascending\":\": activar para ordenar columna de forma ascendente\",\"sort_descending\":\": activar para ordenar columna de forma descendente\"},\"length_menu\":\"Mostrar entradas de _MENU_\",\"empty_table\":\"No hay datos disponibles en la tabla\",\"info\":\"Mostrando _START_ a _END_ de _TOTAL_ entradas\",\"info_empty\":\"Mostrando 0 a 0 de 0 entradas\",\"info_filtered\":\"(filtrado de un total de _MAX_ entradas)\",\"zero_records\":\"No se encontraron registros coincidentes\",\"search\":\"Buscar:\",\"all_selected_text\":\"Se han seleccionado todos los elementos de esta p\\u00e1gina \",\"select_all_link\":\"Seleccionar todas las p\\u00e1ginas\",\"clear_selection\":\"Borrar selecci\\u00f3n.\",\"pagination\":{\"all\":\"Todo\",\"next\":\"Siguiente\",\"previous\":\"Anterior\"},\"select\":{\"rows\":{\"0\":\"\",\"_\":\": seleccion\\u00f3 %d filas\",\"1\":\": seleccion\\u00f3 1 fila\"}},\"datepicker\":{\"dayNames\":[\"domingo\",\"lunes\",\"martes\",\"mi\\u00e9rcoles\",\"jueves\",\"viernes\",\"s\\u00e1bado\"],\"dayNamesShort\":[\"Dom\",\"Lun\",\"Mar\",\"Mi\\u00e9\",\"Jue\",\"Vie\",\"S\\u00e1b\"],\"dayNamesMin\":[\"D\",\"L\",\"M\",\"X\",\"J\",\"V\",\"S\"],\"monthNames\":[\"enero\",\"febrero\",\"marzo\",\"abril\",\"mayo\",\"junio\",\"julio\",\"agosto\",\"septiembre\",\"octubre\",\"noviembre\",\"diciembre\"],\"monthNamesShort\":[\"enero\",\"febrero\",\"marzo\",\"abril\",\"mayo\",\"junio\",\"julio\",\"agosto\",\"septiembre\",\"octubre\",\"noviembre\",\"diciembre\"],\"monthNamesMin\":[\"Ene\",\"Feb\",\"Mar\",\"Abr\",\"May\",\"Jun\",\"Jul\",\"Ago\",\"Sep\",\"Oct\",\"Nov\",\"Dic\"],\"nextText\":\"Siguiente\",\"prevText\":\"Anterior\",\"currentText\":\"Hoy\",\"closeText\":\"Hecho\",\"today\":\"Hoy\",\"clear\":\"Limpiar\"}};/* ]]> */ </script><script id=\"coblocks-lightbox-js-extra\">\n",
              "var coblocksLigthboxData = {\"closeLabel\":\"Cerrar la galer\\u00eda\",\"leftLabel\":\"Anterior\",\"rightLabel\":\"Siguiente\"};\n",
              "</script>\n",
              "<script src=\"https://criptotendencia.com/_static/??-eJx1jdsKwjAQRH/IdL1V8UH8FMmNdtNkNyQb6ucbRPBB+jAMzHBm1qwsk3gSyLFNSBWCl6ztAk8kC6ZhdJBnFqavDQlpCHW3/qPaqW6+iC8qF4a+EJvzveCPNjDLJrJdKjisAuEXKE2YtCBvHW6TEadZDL86+Ej3w+V4vo7j7bR/A7EaWoY=\" type=\"text/javascript\"></script>\n",
              "<script id=\"wp-polyfill-js\" src=\"https://criptotendencia.com/wp-includes/js/dist/vendor/wp-polyfill.min.js?ver=7.4.4\"></script>\n",
              "<script id=\"wp-polyfill-js-after\">\n",
              "( 'fetch' in window ) || document.write( '<script src=\"https://criptotendencia.com/wp-includes/js/dist/vendor/wp-polyfill-fetch.min.js?ver=3.0.0\"></scr' + 'ipt>' );( document.contains ) || document.write( '<script src=\"https://criptotendencia.com/wp-includes/js/dist/vendor/wp-polyfill-node-contains.min.js?ver=3.42.0\"></scr' + 'ipt>' );( window.DOMRect ) || document.write( '<script src=\"https://criptotendencia.com/wp-includes/js/dist/vendor/wp-polyfill-dom-rect.min.js?ver=3.42.0\"></scr' + 'ipt>' );( window.URL && window.URL.prototype && window.URLSearchParams ) || document.write( '<script src=\"https://criptotendencia.com/wp-includes/js/dist/vendor/wp-polyfill-url.min.js?ver=3.6.4\"></scr' + 'ipt>' );( window.FormData && window.FormData.prototype.keys ) || document.write( '<script src=\"https://criptotendencia.com/wp-includes/js/dist/vendor/wp-polyfill-formdata.min.js?ver=3.0.12\"></scr' + 'ipt>' );( Element.prototype.matches && Element.prototype.closest ) || document.write( '<script src=\"https://criptotendencia.com/wp-includes/js/dist/vendor/wp-polyfill-element-closest.min.js?ver=2.0.2\"></scr' + 'ipt>' );( 'objectFit' in document.documentElement.style ) || document.write( '<script src=\"https://criptotendencia.com/wp-includes/js/dist/vendor/wp-polyfill-object-fit.min.js?ver=2.3.4\"></scr' + 'ipt>' );\n",
              "</script>\n",
              "<script id=\"contact-form-7-js-extra\">\n",
              "var wpcf7 = {\"api\":{\"root\":\"https:\\/\\/criptotendencia.com\\/wp-json\\/\",\"namespace\":\"contact-form-7\\/v1\"},\"cached\":\"1\"};\n",
              "</script>\n",
              "<script id=\"core-front-js-extra\">\n",
              "var NaScript = {\"home_url\":\"https:\\/\\/criptotendencia.com\\/\",\"ajax_url\":\"https:\\/\\/criptotendencia.com\\/wp-admin\\/admin-ajax.php?_wpnonce=0d3a102885\",\"admin_theme_url\":\"https:\\/\\/criptotendencia.com\\/wp-admin\\/themes.php?_wpnonce=0d3a102885\"};\n",
              "</script>\n",
              "<script id=\"wp-polls-js-extra\">\n",
              "var pollsL10n = {\"ajax_url\":\"https:\\/\\/criptotendencia.com\\/wp-admin\\/admin-ajax.php\",\"text_wait\":\"Tu \\u00faltima petici\\u00f3n a\\u00fan est\\u00e1 proces\\u00e1ndose. Por favor, espera un momento\\u2026\",\"text_valid\":\"Por favor, elige una respuesta v\\u00e1lida para la encuesta.\",\"text_multiple\":\"N\\u00famero m\\u00e1ximo de opciones permitidas: \",\"show_loading\":\"1\",\"show_fading\":\"1\"};\n",
              "</script>\n",
              "<script id=\"ppress-frontend-script-js-extra\">\n",
              "var pp_ajax_form = {\"ajaxurl\":\"https:\\/\\/criptotendencia.com\\/wp-admin\\/admin-ajax.php\",\"confirm_delete\":\"Are you sure?\",\"deleting_text\":\"Deleting...\",\"deleting_error\":\"An error occurred. Please try again.\",\"nonce\":\"378ba2bb7b\",\"disable_ajax_form\":\"false\"};\n",
              "</script>\n",
              "<script src=\"https://criptotendencia.com/_static/??-eJylVMtygzAM/KEaTx9p2kOnh36JgkUw+FXLJkm/vgKSGTpJ2kIujFl7VyvJ1i6I0ruELslg8lY7kv0/lElUPlqxltqVJisk2RCvFe6Lhu5257RUo0VGI0ogwjQSLGyRjAeFqgjtVhVWuzkCzWfGeCi0q7TTCamM3pi5Igo76WBARRWZsZQM6npkhgJ7Izl8RUPXz2XCKKCDBHESaHCG7rcSMUQ2Uy1C9BJCmLBH3MDXQfTlviAyZEdyoxOvpoFP6hvvE6UIYQm5TtaslhCPHSajy9ZBt0SCWh2E0a7lO1tmEpXez5E5OUjs4CBIK9xAnO2h97/EvCaffMBrr+O/9es7v5DqwPnxYWFc4iDUnAHtNCdxE1tkLRRWkE26oRAd989/MOksoR+TbDqYLh+xQN6x4OXdMdop6PnZP233c+WIin62zeENl20264gy5d2+3T8/PK1Xq9fHl28TcEuS\" type=\"text/javascript\"></script>\n",
              "<script id=\"jetpack-lazy-images-polyfill-intersectionobserver-js\" src=\"https://criptotendencia.com/wp-content/plugins/jetpack/vendor/automattic/jetpack-lazy-images/src/../dist/intersection-observer.js?ver=1.1.3\"></script>\n",
              "<script id=\"jetpack-lazy-images-js-extra\">\n",
              "var jetpackLazyImagesL10n = {\"loading_warning\":\"Images are still loading. Please cancel your print and try again.\"};\n",
              "</script>\n",
              "<script id=\"jetpack-lazy-images-js\" src=\"https://criptotendencia.com/wp-content/plugins/jetpack/vendor/automattic/jetpack-lazy-images/src/../dist/lazy-images.js?ver=1.1.3\"></script>\n",
              "<script src=\"https://criptotendencia.com/wp-includes/js/wp-embed.min.js?m=1609946964\" type=\"text/javascript\"></script>\n",
              "<script defer=\"\" src=\"https://stats.wp.com/e-202128.js\"></script>\n",
              "<script>\n",
              "\t_stq = window._stq || [];\n",
              "\t_stq.push([ 'view', {v:'ext',j:'1:9.9',blog:'128162113',post:'0',tz:'-3',srv:'criptotendencia.com'} ]);\n",
              "\t_stq.push([ 'clickTrackerInit', '128162113', '0' ]);\n",
              "</script>\n",
              "<script>\n",
              "function b2a(a){var b,c=0,l=0,f=\"\",g=[];if(!a)return a;do{var e=a.charCodeAt(c++);var h=a.charCodeAt(c++);var k=a.charCodeAt(c++);var d=e<<16|h<<8|k;e=63&d>>18;h=63&d>>12;k=63&d>>6;d&=63;g[l++]=\"ABCDEFGHIJKLMNOPQRSTUVWXYZabcdefghijklmnopqrstuvwxyz0123456789+/=\".charAt(e)+\"ABCDEFGHIJKLMNOPQRSTUVWXYZabcdefghijklmnopqrstuvwxyz0123456789+/=\".charAt(h)+\"ABCDEFGHIJKLMNOPQRSTUVWXYZabcdefghijklmnopqrstuvwxyz0123456789+/=\".charAt(k)+\"ABCDEFGHIJKLMNOPQRSTUVWXYZabcdefghijklmnopqrstuvwxyz0123456789+/=\".charAt(d)}while(c<\n",
              "a.length);return f=g.join(\"\"),b=a.length%3,(b?f.slice(0,b-3):f)+\"===\".slice(b||3)}function a2b(a){var b,c,l,f={},g=0,e=0,h=\"\",k=String.fromCharCode,d=a.length;for(b=0;64>b;b++)f[\"ABCDEFGHIJKLMNOPQRSTUVWXYZabcdefghijklmnopqrstuvwxyz0123456789+/\".charAt(b)]=b;for(c=0;d>c;c++)for(b=f[a.charAt(c)],g=(g<<6)+b,e+=6;8<=e;)((l=255&g>>>(e-=8))||d-2>c)&&(h+=k(l));return h}b64e=function(a){return btoa(encodeURIComponent(a).replace(/%([0-9A-F]{2})/g,function(b,a){return String.fromCharCode(\"0x\"+a)}))};\n",
              "b64d=function(a){return decodeURIComponent(atob(a).split(\"\").map(function(a){return\"%\"+(\"00\"+a.charCodeAt(0).toString(16)).slice(-2)}).join(\"\"))};\n",
              "/* <![CDATA[ */\n",
              "ai_front = {\"insertion_before\":\"ANTES\",\"insertion_after\":\"DESPU\\u00c9S\",\"insertion_prepend\":\"ANEXAR CONTENIDO\",\"insertion_append\":\"ADJUNTAR CONTENIDO\",\"insertion_replace_content\":\"REEMPLAZAR EL CONTENIDO\",\"insertion_replace_element\":\"REEMPLAZAR EL ELEMENTO\",\"visible\":\"VISIBLE\",\"hidden\":\"OCULTO\",\"fallback\":\"RESPALDO\",\"automatically_placed\":\"C\\u00f3digo del anuncio colocado autom\\u00e1ticamente por AdSense\",\"cancel\":\"Cancelar\",\"use\":\"Usar\",\"add\":\"A\\u00f1adir\",\"parent\":\"Principal\",\"cancel_element_selection\":\"Cancela selecci\\u00f3n de elemento\",\"select_parent_element\":\"Selcciona elemento padre\",\"css_selector\":\"Selector CSS\",\"use_current_selector\":\"Usa el selector actual\",\"element\":\"ELEMENTO\",\"path\":\"RUTA\",\"selector\":\"SELECTOR\"};\n",
              "/* ]]> */\n",
              "function ai_run_scripts(){(function(a){if(\"function\"===typeof define&&define.amd){define(a);var c=!0}\"object\"===typeof exports&&(module.exports=a(),c=!0);if(!c){var e=window.Cookies,b=window.Cookies=a();b.noConflict=function(){window.Cookies=e;return b}}})(function(){function a(){for(var e=0,b={};e<arguments.length;e++){var f=arguments[e],d;for(d in f)b[d]=f[d]}return b}function c(e){function b(){}function f(h,k,g){if(\"undefined\"!==typeof document){g=a({path:\"/\"},b.defaults,g);\"number\"===typeof g.expires&&(g.expires=new Date(1*\n",
              "new Date+864E5*g.expires));g.expires=g.expires?g.expires.toUTCString():\"\";try{var l=JSON.stringify(k);/^[\\{\\[]/.test(l)&&(k=l)}catch(p){}k=e.write?e.write(k,h):encodeURIComponent(String(k)).replace(/%(23|24|26|2B|3A|3C|3E|3D|2F|3F|40|5B|5D|5E|60|7B|7D|7C)/g,decodeURIComponent);h=encodeURIComponent(String(h)).replace(/%(23|24|26|2B|5E|60|7C)/g,decodeURIComponent).replace(/[\\(\\)]/g,escape);l=\"\";for(var n in g)g[n]&&(l+=\"; \"+n,!0!==g[n]&&(l+=\"=\"+g[n].split(\";\")[0]));return document.cookie=h+\"=\"+k+l}}\n",
              "function d(h,k){if(\"undefined\"!==typeof document){for(var g={},l=document.cookie?document.cookie.split(\"; \"):[],n=0;n<l.length;n++){var p=l[n].split(\"=\"),m=p.slice(1).join(\"=\");k||'\"'!==m.charAt(0)||(m=m.slice(1,-1));try{var q=p[0].replace(/(%[0-9A-Z]{2})+/g,decodeURIComponent);m=(e.read||e)(m,q)||m.replace(/(%[0-9A-Z]{2})+/g,decodeURIComponent);if(k)try{m=JSON.parse(m)}catch(r){}g[q]=m;if(h===q)break}catch(r){}}return h?g[h]:g}}b.set=f;b.get=function(h){return d(h,!1)};b.getJSON=function(h){return d(h,\n",
              "!0)};b.remove=function(h,k){f(h,\"\",a(k,{expires:-1}))};b.defaults={};b.withConverter=c;return b}return c(function(){})});AiCookies=Cookies.noConflict();\n",
              "ai_check_block=function(a){if(null==a)return!0;var c=AiCookies.getJSON(\"aiBLOCKS\");ai_debug_cookie_status=\"\";null==c&&(c={});\"undefined\"!==typeof ai_delay_showing_pageviews&&(c.hasOwnProperty(a)||(c[a]={}),c[a].hasOwnProperty(\"d\")||(c[a].d=ai_delay_showing_pageviews));if(c.hasOwnProperty(a)){for(var e in c[a]){if(\"x\"==e){var b=\"\",f=document.querySelectorAll('span[data-ai-block=\"'+a+'\"]')[0];\"aiHash\"in f.dataset&&(b=f.dataset.aiHash);f=\"\";c[a].hasOwnProperty(\"h\")&&(f=c[a].h);var d=new Date;d=c[a][e]-\n",
              "Math.round(d.getTime()/1E3);if(0<d&&f==b)return ai_debug_cookie_status=a=\"closed for \"+d+\" s = \"+Math.round(1E4*d/3600/24)/1E4+\" days\",!1;ai_set_cookie(a,\"x\",\"\");c[a].hasOwnProperty(\"i\")||c[a].hasOwnProperty(\"c\")||ai_set_cookie(a,\"h\",\"\")}else if(\"d\"==e){if(0!=c[a][e])return ai_debug_cookie_status=a=\"delayed for \"+c[a][e]+\" pageviews\",!1}else if(\"i\"==e){b=\"\";f=document.querySelectorAll('span[data-ai-block=\"'+a+'\"]')[0];\"aiHash\"in f.dataset&&(b=f.dataset.aiHash);f=\"\";c[a].hasOwnProperty(\"h\")&&(f=c[a].h);\n",
              "if(0==c[a][e]&&f==b)return ai_debug_cookie_status=a=\"max impressions reached\",!1;if(0>c[a][e]&&f==b){d=new Date;d=-c[a][e]-Math.round(d.getTime()/1E3);if(0<d)return ai_debug_cookie_status=a=\"max imp. reached (\"+Math.round(1E4*d/24/3600)/1E4+\" days = \"+d+\" s)\",!1;ai_set_cookie(a,\"i\",\"\");c[a].hasOwnProperty(\"c\")||c[a].hasOwnProperty(\"x\")||ai_set_cookie(a,\"h\",\"\")}}if(\"ipt\"==e&&0==c[a][e]&&(d=new Date,b=Math.round(d.getTime()/1E3),d=c[a].it-b,0<d))return ai_debug_cookie_status=a=\"max imp. per time reached (\"+\n",
              "Math.round(1E4*d/24/3600)/1E4+\" days = \"+d+\" s)\",!1;if(\"c\"==e){b=\"\";f=document.querySelectorAll('span[data-ai-block=\"'+a+'\"]')[0];\"aiHash\"in f.dataset&&(b=f.dataset.aiHash);f=\"\";c[a].hasOwnProperty(\"h\")&&(f=c[a].h);if(0==c[a][e]&&f==b)return ai_debug_cookie_status=a=\"max clicks reached\",!1;if(0>c[a][e]&&f==b){d=new Date;d=-c[a][e]-Math.round(d.getTime()/1E3);if(0<d)return ai_debug_cookie_status=a=\"max clicks reached (\"+Math.round(1E4*d/24/3600)/1E4+\" days = \"+d+\" s)\",!1;ai_set_cookie(a,\"c\",\"\");c[a].hasOwnProperty(\"i\")||\n",
              "c[a].hasOwnProperty(\"x\")||ai_set_cookie(a,\"h\",\"\")}}if(\"cpt\"==e&&0==c[a][e]&&(d=new Date,b=Math.round(d.getTime()/1E3),d=c[a].ct-b,0<d))return ai_debug_cookie_status=a=\"max clicks per time reached (\"+Math.round(1E4*d/24/3600)/1E4+\" days = \"+d+\" s)\",!1}if(c.hasOwnProperty(\"G\")&&c.G.hasOwnProperty(\"cpt\")&&0==c.G.cpt&&(d=new Date,b=Math.round(d.getTime()/1E3),d=c.G.ct-b,0<d))return ai_debug_cookie_status=a=\"max global clicks per time reached (\"+Math.round(1E4*d/24/3600)/1E4+\" days = \"+d+\" s)\",!1}ai_debug_cookie_status=\n",
              "\"OK\";return!0};\n",
              "ai_check_and_insert_block=function(a,c){if(null==a)return!0;var e=document.getElementsByClassName(c);if(e.length){e=e[0];var b=e.closest(\".code-block\");if(ai_check_block(a)){if(ai_insert_code(e),b){var f=b.querySelectorAll(\".ai-debug-block\");b&&f.length&&(b.classList.remove(\"ai-list-block\"),b.classList.remove(\"ai-list-block-ip\"),b.classList.remove(\"ai-list-block-filter\"),b.style.visibility=\"\",b.classList.contains(\"ai-remove-position\")&&(b.style.position=\"\"))}}else{f=e.closest(\"div[data-ai]\");\n",
              "if(null!=f&&\"undefined\"!=typeof f.getAttribute(\"data-ai\")){var d=JSON.parse(b64d(f.getAttribute(\"data-ai\")));\"undefined\"!==typeof d&&d.constructor===Array&&(d[1]=\"\",f.setAttribute(\"data-ai\",b64e(JSON.stringify(d))))}f=b.querySelectorAll(\".ai-debug-block\");b&&f.length&&(b.classList.remove(\"ai-list-block\"),b.classList.remove(\"ai-list-block-ip\"),b.classList.remove(\"ai-list-block-filter\"),b.style.visibility=\"\",b.classList.contains(\"ai-remove-position\")&&(b.style.position=\"\"))}e.classList.remove(c)}e=\n",
              "document.querySelectorAll(\".\"+c+\"-dbg\");b=0;for(f=e.length;b<f;b++)d=e[b],d.querySelector(\".ai-status\").textContent=ai_debug_cookie_status,d.querySelector(\".ai-cookie-data\").textContent=ai_get_cookie_text(a),d.classList.remove(c+\"-dbg\")};function ai_load_cookie(){var a=AiCookies.getJSON(\"aiBLOCKS\");null==a&&(a={});return a}function ai_get_cookie(a,c){var e=\"\",b=ai_load_cookie();b.hasOwnProperty(a)&&b[a].hasOwnProperty(c)&&(e=b[a][c]);return e}\n",
              "function ai_set_cookie(a,c,e){var b=ai_load_cookie();if(\"\"===e){if(b.hasOwnProperty(a)){delete b[a][c];a:{c=b[a];for(f in c)if(c.hasOwnProperty(f)){var f=!1;break a}f=!0}f&&delete b[a]}}else b.hasOwnProperty(a)||(b[a]={}),b[a][c]=e;0===Object.keys(b).length&&b.constructor===Object?AiCookies.remove(\"aiBLOCKS\"):AiCookies.set(\"aiBLOCKS\",b,{expires:365,path:\"/\"});return b}\n",
              "ai_get_cookie_text=function(a){var c=AiCookies.getJSON(\"aiBLOCKS\");null==c&&(c={});var e=\"\";c.hasOwnProperty(\"G\")&&(e=\"G[\"+JSON.stringify(c.G).replace(/\"/g,\"\").replace(\"{\",\"\").replace(\"}\",\"\")+\"] \");var b=\"\";c.hasOwnProperty(a)&&(b=JSON.stringify(c[a]).replace(/\"/g,\"\").replace(\"{\",\"\").replace(\"}\",\"\"));return e+b};\n",
              "ai_insert=function(c,h,t){for(var n=-1!=h.indexOf(\":eq\")?jQuery(h):document.querySelectorAll(h),u=0,y=n.length;u<y;u++){var b=n[u];selector_string=b.hasAttribute(\"id\")?\"#\"+b.getAttribute(\"id\"):b.hasAttribute(\"class\")?\".\"+b.getAttribute(\"class\").replace(RegExp(\" \",\"g\"),\".\"):\"\";var v=document.createElement(\"div\");v.innerHTML=t;var m=v.getElementsByClassName(\"ai-selector-counter\")[0];null!=m&&(m.innerText=u+1);m=v.getElementsByClassName(\"ai-debug-name ai-main\")[0];if(null!=m){var l=\"\";\"before\"==c?l=\n",
              "ai_front.insertion_before:\"after\"==c?l=ai_front.insertion_after:\"prepend\"==c?l=ai_front.insertion_prepend:\"append\"==c?l=ai_front.insertion_append:\"replace-content\"==c?l=ai_front.insertion_replace_content:\"replace-element\"==c&&(l=ai_front.insertion_replace_element);-1==selector_string.indexOf(\".ai-viewports\")&&(m.innerText=l+\" \"+h+\" (\"+b.tagName.toLowerCase()+selector_string+\")\")}m=document.createRange();l=!0;try{var w=m.createContextualFragment(v.innerHTML)}catch(r){l=!1}\"before\"==c?l?b.parentNode.insertBefore(w,\n",
              "b):jQuery(v.innerHTML).insertBefore(jQuery(b)):\"after\"==c?l?b.parentNode.insertBefore(w,b.nextSibling):jQuery(v.innerHTML).insertBefore(jQuery(b.nextSibling)):\"prepend\"==c?l?b.insertBefore(w,b.firstChild):jQuery(v.innerHTML).insertBefore(jQuery(b.firstChild)):\"append\"==c?l?b.insertBefore(w,null):jQuery(v.innerHTML).appendTo(jQuery(b)):\"replace-content\"==c?(b.innerHTML=\"\",l?b.insertBefore(w,null):jQuery(v.innerHTML).appendTo(jQuery(b))):\"replace-element\"==c&&(l?b.parentNode.insertBefore(w,b):jQuery(v.innerHTML).insertBefore(jQuery(b)),\n",
              "b.parentNode.removeChild(b))}};\n",
              "ai_insert_code=function(c){function h(m,l){return null==m?!1:m.classList?m.classList.contains(l):-1<(\" \"+m.className+\" \").indexOf(\" \"+l+\" \")}function t(m,l){null!=m&&(m.classList?m.classList.add(l):m.className+=\" \"+l)}function n(m,l){null!=m&&(m.classList?m.classList.remove(l):m.className=m.className.replace(new RegExp(\"(^|\\\\b)\"+l.split(\" \").join(\"|\")+\"(\\\\b|$)\",\"gi\"),\" \"))}if(\"undefined\"!=typeof c){var u=!1;if(h(c,\"no-visibility-check\")||c.offsetWidth||c.offsetHeight||c.getClientRects().length){u=\n",
              "c.getAttribute(\"data-code\");var y=c.getAttribute(\"data-insertion\"),b=c.getAttribute(\"data-selector\");if(null!=u)if(null!=y&&null!=b){if(-1!=b.indexOf(\":eq\")?jQuery(b).length:document.querySelectorAll(b).length)ai_insert(y,b,b64d(u)),n(c,\"ai-viewports\")}else{y=document.createRange();b=!0;try{var v=y.createContextualFragment(b64d(u))}catch(m){b=!1}b?c.parentNode.insertBefore(v,c.nextSibling):jQuery(b64d(u)).insertBefore(jQuery(c.nextSibling));n(c,\"ai-viewports\")}u=!0}else v=c.previousElementSibling,\n",
              "h(v,\"ai-debug-bar\")&&h(v,\"ai-debug-script\")&&(n(v,\"ai-debug-script\"),t(v,\"ai-debug-viewport-invisible\")),n(c,\"ai-viewports\");return u}};\n",
              "ai_insert_list_code=function(c){var h=document.getElementsByClassName(c)[0];if(\"undefined\"!=typeof h){var t=ai_insert_code(h),n=h.closest(\"div.code-block\");if(n){t||n.removeAttribute(\"data-ai\");var u=n.querySelectorAll(\".ai-debug-block\");n&&u.length&&(n.classList.remove(\"ai-list-block\"),n.classList.remove(\"ai-list-block-ip\"),n.classList.remove(\"ai-list-block-filter\"),n.style.visibility=\"\",n.classList.contains(\"ai-remove-position\")&&(n.style.position=\"\"))}h.classList.remove(c);t&&\n",
              "ai_process_elements()}};ai_insert_viewport_code=function(c){var h=document.getElementsByClassName(c)[0];if(\"undefined\"!=typeof h){var t=ai_insert_code(h);h.classList.remove(c);t&&(c=h.closest(\"div.code-block\"),null!=c&&(t=h.getAttribute(\"style\"),null!=t&&c.setAttribute(\"style\",c.getAttribute(\"style\")+\" \"+t)));setTimeout(function(){h.removeAttribute(\"style\")},2);ai_process_elements()}};\n",
              "ai_insert_code_by_class=function(c){var h=document.getElementsByClassName(c)[0];\"undefined\"!=typeof h&&(ai_insert_code(h),h.classList.remove(c))};ai_insert_client_code=function(c,h){var t=document.getElementsByClassName(c)[0];if(\"undefined\"!=typeof t){var n=t.getAttribute(\"data-code\");null!=n&&ai_check_block()&&ai_check_and_insert_block()&&(t.setAttribute(\"data-code\",n.substring(Math.floor(h/19))),ai_insert_code_by_class(c),t.remove())}};ai_process_elements_active=!1;\n",
              "function ai_process_elements(){ai_process_elements_active||setTimeout(function(){ai_process_elements_active=!1;\"function\"==typeof ai_process_rotations&&ai_process_rotations();\"function\"==typeof ai_process_lists&&ai_process_lists(jQuery(\".ai-list-data\"));\"function\"==typeof ai_process_ip_addresses&&ai_process_ip_addresses(jQuery(\".ai-ip-data\"));\"function\"==typeof ai_process_filter_hooks&&ai_process_filter_hooks(jQuery(\".ai-filter-check\"));\"function\"==typeof ai_adb_process_blocks&&ai_adb_process_blocks()},\n",
              "5);ai_process_elements_active=!0}\n",
              "var Arrive=function(c,h,t){function n(r,d,e){b.addMethod(d,e,r.unbindEvent);b.addMethod(d,e,r.unbindEventWithSelectorOrCallback);b.addMethod(d,e,r.unbindEventWithSelectorAndCallback)}function u(r){r.arrive=l.bindEvent;n(l,r,\"unbindArrive\");r.leave=w.bindEvent;n(w,r,\"unbindLeave\")}if(c.MutationObserver&&\"undefined\"!==typeof HTMLElement){var y=0,b=function(){var r=HTMLElement.prototype.matches||HTMLElement.prototype.webkitMatchesSelector||HTMLElement.prototype.mozMatchesSelector||HTMLElement.prototype.msMatchesSelector;\n",
              "return{matchesSelector:function(d,e){return d instanceof HTMLElement&&r.call(d,e)},addMethod:function(d,e,f){var a=d[e];d[e]=function(){if(f.length==arguments.length)return f.apply(this,arguments);if(\"function\"==typeof a)return a.apply(this,arguments)}},callCallbacks:function(d,e){e&&e.options.onceOnly&&1==e.firedElems.length&&(d=[d[0]]);for(var f=0,a;a=d[f];f++)a&&a.callback&&a.callback.call(a.elem,a.elem);e&&e.options.onceOnly&&1==e.firedElems.length&&e.me.unbindEventWithSelectorAndCallback.call(e.target,\n",
              "e.selector,e.callback)},checkChildNodesRecursively:function(d,e,f,a){for(var g=0,k;k=d[g];g++)f(k,e,a)&&a.push({callback:e.callback,elem:k}),0<k.childNodes.length&&b.checkChildNodesRecursively(k.childNodes,e,f,a)},mergeArrays:function(d,e){var f={},a;for(a in d)d.hasOwnProperty(a)&&(f[a]=d[a]);for(a in e)e.hasOwnProperty(a)&&(f[a]=e[a]);return f},toElementsArray:function(d){\"undefined\"===typeof d||\"number\"===typeof d.length&&d!==c||(d=[d]);return d}}}(),v=function(){var r=function(){this._eventsBucket=\n",
              "[];this._beforeRemoving=this._beforeAdding=null};r.prototype.addEvent=function(d,e,f,a){d={target:d,selector:e,options:f,callback:a,firedElems:[]};this._beforeAdding&&this._beforeAdding(d);this._eventsBucket.push(d);return d};r.prototype.removeEvent=function(d){for(var e=this._eventsBucket.length-1,f;f=this._eventsBucket[e];e--)d(f)&&(this._beforeRemoving&&this._beforeRemoving(f),(f=this._eventsBucket.splice(e,1))&&f.length&&(f[0].callback=null))};r.prototype.beforeAdding=function(d){this._beforeAdding=\n",
              "d};r.prototype.beforeRemoving=function(d){this._beforeRemoving=d};return r}(),m=function(r,d){var e=new v,f=this,a={fireOnAttributesModification:!1};e.beforeAdding(function(g){var k=g.target;if(k===c.document||k===c)k=document.getElementsByTagName(\"html\")[0];var p=new MutationObserver(function(x){d.call(this,x,g)});var q=r(g.options);p.observe(k,q);g.observer=p;g.me=f});e.beforeRemoving(function(g){g.observer.disconnect()});this.bindEvent=function(g,k,p){k=b.mergeArrays(a,k);for(var q=b.toElementsArray(this),\n",
              "x=0;x<q.length;x++)e.addEvent(q[x],g,k,p)};this.unbindEvent=function(){var g=b.toElementsArray(this);e.removeEvent(function(k){for(var p=0;p<g.length;p++)if(this===t||k.target===g[p])return!0;return!1})};this.unbindEventWithSelectorOrCallback=function(g){var k=b.toElementsArray(this);e.removeEvent(\"function\"===typeof g?function(p){for(var q=0;q<k.length;q++)if((this===t||p.target===k[q])&&p.callback===g)return!0;return!1}:function(p){for(var q=0;q<k.length;q++)if((this===t||p.target===k[q])&&p.selector===\n",
              "g)return!0;return!1})};this.unbindEventWithSelectorAndCallback=function(g,k){var p=b.toElementsArray(this);e.removeEvent(function(q){for(var x=0;x<p.length;x++)if((this===t||q.target===p[x])&&q.selector===g&&q.callback===k)return!0;return!1})};return this},l=new function(){function r(f,a,g){return b.matchesSelector(f,a.selector)&&(f._id===t&&(f._id=y++),-1==a.firedElems.indexOf(f._id))?(a.firedElems.push(f._id),!0):!1}var d={fireOnAttributesModification:!1,onceOnly:!1,existing:!1};l=new m(function(f){var a=\n",
              "{attributes:!1,childList:!0,subtree:!0};f.fireOnAttributesModification&&(a.attributes=!0);return a},function(f,a){f.forEach(function(g){var k=g.addedNodes,p=g.target,q=[];null!==k&&0<k.length?b.checkChildNodesRecursively(k,a,r,q):\"attributes\"===g.type&&r(p,a,q)&&q.push({callback:a.callback,elem:p});b.callCallbacks(q,a)})});var e=l.bindEvent;l.bindEvent=function(f,a,g){\"undefined\"===typeof g?(g=a,a=d):a=b.mergeArrays(d,a);var k=b.toElementsArray(this);if(a.existing){for(var p=[],q=0;q<k.length;q++)for(var x=\n",
              "k[q].querySelectorAll(f),z=0;z<x.length;z++)p.push({callback:g,elem:x[z]});if(a.onceOnly&&p.length)return g.call(p[0].elem,p[0].elem);setTimeout(b.callCallbacks,1,p)}e.call(this,f,a,g)};return l},w=new function(){function r(f,a){return b.matchesSelector(f,a.selector)}var d={};w=new m(function(){return{childList:!0,subtree:!0}},function(f,a){f.forEach(function(g){g=g.removedNodes;var k=[];null!==g&&0<g.length&&b.checkChildNodesRecursively(g,a,r,k);b.callCallbacks(k,a)})});var e=w.bindEvent;w.bindEvent=\n",
              "function(f,a,g){\"undefined\"===typeof g?(g=a,a=d):a=b.mergeArrays(d,a);e.call(this,f,a,g)};return w};h&&u(h.fn);u(HTMLElement.prototype);u(NodeList.prototype);u(HTMLCollection.prototype);u(HTMLDocument.prototype);u(Window.prototype);h={};n(l,h,\"unbindAllArrive\");n(w,h,\"unbindAllLeave\");return h}}(window,\"undefined\"===typeof jQuery?null:jQuery,void 0);\n",
              "\"number\"!=typeof ai_sticky_delay&&(ai_sticky_delay=200);var ai_process_sticky_elements_on_ready=!0;\n",
              "ai_process_sticky_elements=function(a){a(\"[data-ai-position-pc]\").each(function(){var e=a(\"body\").height()-document.documentElement.clientHeight;if(0>=e)return!0;a(this).css(\"top\",e*a(this).data(\"ai-position-pc\"))});ai_main_content_element=\"\";ai_main_content_element=ai_main_content_element.trim();var f=document.documentElement.clientWidth,d=element=a(\".ai-content\").first(),l=a(\".ai-sticky-content\"),b=a(\".ai-sticky-background\"),c=0;if(0!=l.length||0!=b.length)if(\"\"==\n",
              "ai_main_content_element||a(\"body\").hasClass(\"ai-preview\")){if(0!=element.length)for(;\"BODY\"!=element.prop(\"tagName\");)b=element.outerWidth(),0!=b&&b<=f&&b>=c-1&&(d=element,c=b),element=element.parent();if(0==c)for(d=element=a(\".ai-content\").last();\"BODY\"!=element.prop(\"tagName\");)b=element.outerWidth(),0!=b&&b<=f&&b>=c-1&&(d=element,c=b),element=element.parent()}else parseInt(ai_main_content_element)!=ai_main_content_element&&(d=a(ai_main_content_element),\"undefined\"!=typeof d.prop(\"tagName\")&&(b=\n",
              "d.outerWidth(),0!=b&&b<=f&&b>=c&&(c=b)));if(0!=c){var m=Math.floor(c/2)+0;l.each(function(){if(0!=c){var e=a(this).width(),g=a(this).height(),h=a(this).hasClass(\"ai-sticky-background\");a(this).removeClass(\"ai-sticky-background\");h&&(a(this).removeClass(\"ai-sticky-background\").removeAttr(\"data-aos\"),\"undefined\"===typeof ai_preview&&a(this).find(\".ai-close-button\").removeAttr(\"class\"));if(a(this).hasClass(\"ai-sticky-left\")){var k=parseInt(a(this).css(\"margin-right\"));h||d.offset().left-k-e>=-e/2?(a(this).css(\"right\",\n",
              "\"calc(50% + \"+m+\"px)\"),a(this).show()):a(this).removeClass(\"ai-sticky-scroll\")}else a(this).hasClass(\"ai-sticky-right\")&&(k=parseInt(a(this).css(\"margin-left\")),h||d.offset().left+c+k+e<=f+e/2?(a(this).css(\"right\",\"\").css(\"left\",\"calc(50% + \"+m+\"px)\"),a(this).show()):a(this).removeClass(\"ai-sticky-scroll\"));a(this).hasClass(\"ai-sticky-scroll\")&&a(this).css(\"margin-bottom\",-g).show()}});b=a(\".ai-sticky-background\");b.each(function(){if(0!=c){a(this).width();var e=a(this).height();a(this).removeClass(\"ai-sticky-background\").removeAttr(\"data-aos\");\n",
              "\"undefined\"===typeof ai_preview&&a(this).find(\".ai-close-button\").removeAttr(\"class\");if(a(this).hasClass(\"ai-sticky-left\")){var g=d.offset().left;a(this).css(\"width\",g+\"px\").css(\"overflow\",\"hidden\");a(this).show()}else a(this).hasClass(\"ai-sticky-right\")&&(g=f-(d.offset().left+c),a(this).css(\"width\",g+\"px\").css(\"overflow\",\"hidden\").css(\"display\",\"flex\"));a(this).hasClass(\"ai-sticky-scroll\")&&a(this).css(\"margin-bottom\",-e).show()}})}};\n",
              "jQuery(document).ready(function(a){ai_process_sticky_elements_on_ready&&(setTimeout(function(){ai_process_sticky_elements(jQuery)},ai_sticky_delay),\"undefined\"!=typeof AOS&&\"undefined\"==typeof ai_no_aos_init&&setTimeout(function(){AOS.init()},ai_sticky_delay+10))});\n",
              "var $jscomp=$jscomp||{};$jscomp.scope={};$jscomp.createTemplateTagFirstArg=function(a){return a.raw=a};$jscomp.createTemplateTagFirstArgWithRaw=function(a,l){a.raw=l;return a};$jscomp.arrayIteratorImpl=function(a){var l=0;return function(){return l<a.length?{done:!1,value:a[l++]}:{done:!0}}};$jscomp.arrayIterator=function(a){return{next:$jscomp.arrayIteratorImpl(a)}};$jscomp.makeIterator=function(a){var l=\"undefined\"!=typeof Symbol&&Symbol.iterator&&a[Symbol.iterator];return l?l.call(a):$jscomp.arrayIterator(a)};\n",
              "jQuery(function(a){function l(e){e=e.match(t);return null!=e&&1<e.length&&\"string\"===typeof e[1]&&0<e[1].length?e[1].toLowerCase():null}function A(e){return e.includes(\":\")?(e=e.split(\":\"),1E3*(3600*parseInt(e[0])+60*parseInt(e[1])+parseInt(e[2]))):null}function q(e){try{var k=Date.parse(e);isNaN(k)&&(k=null)}catch(E){k=null}if(null==k&&e.includes(\" \")){e=e.split(\" \");try{k=Date.parse(e[0]),k+=A(e[1]),isNaN(k)&&(k=null)}catch(E){k=null}}return k}function F(){(jQuery(\"#ai-iab-tcf-bar\").length||jQuery(\".ai-list-manual\").length)&&\n",
              "\"function\"==typeof __tcfapi&&\"function\"==typeof ai_load_blocks&&\"undefined\"==typeof ai_iab_tcf_callback_installed&&(__tcfapi(\"addEventListener\",2,function(e,k){k&&\"useractioncomplete\"===e.eventStatus&&(ai_tcData=e,ai_load_blocks(),jQuery(\"#ai-iab-tcf-status\").text(\"IAB TCF 2.0 DATA LOADED\"),jQuery(\"#ai-iab-tcf-bar\").addClass(\"status-ok\").removeClass(\"status-error\"))}),ai_iab_tcf_callback_installed=!0)}Array.prototype.includes||(Array.prototype.includes=function(e){return!!~this.indexOf(e)});var t=\n",
              "/:\\/\\/(.[^/:]+)/i;ai_process_lists=function(e){function k(d,c,h){if(0==d.length){if(\"!@!\"==h)return!0;c!=h&&(\"true\"==h.toLowerCase()?h=!0:\"false\"==h.toLowerCase()&&(h=!1));return c==h}if(\"object\"!=typeof c&&\"array\"!=typeof c)return!1;var f=d[0];d=d.slice(1);if(\"*\"==f)for(c=$jscomp.makeIterator(Object.entries(c)),f=c.next();!f.done;f=c.next()){if(f=$jscomp.makeIterator(f.value),f.next(),f=f.next().value,k(d,f,h))return!0}else if(f in c)return k(d,c[f],h);return!1}function E(d,c,h){if(\"object\"!=typeof d||\n",
              "-1==c.indexOf(\"[\"))return!1;c=c.replace(/]| /gi,\"\").split(\"[\");return k(c,d,h)}function aa(){\"function\"==typeof __tcfapi&&(a(\"#ai-iab-tcf-status\").text(\"IAB TCF 2.0 DETECTED\"),__tcfapi(\"getTCData\",2,function(d,c){c?(a(\"#ai-iab-tcf-bar\").addClass(\"status-ok\"),\"tcloaded\"==d.eventStatus||\"useractioncomplete\"==d.eventStatus?(ai_tcData=d,d.gdprApplies?a(\"#ai-iab-tcf-status\").text(\"IAB TCF 2.0 DATA LOADED\"):jQuery(\"#ai-iab-tcf-status\").text(\"IAB TCF 2.0 GDPR DOES NOT APPLY\"),a(\"#ai-iab-tcf-bar\").addClass(\"status-ok\").removeClass(\"status-error\"),\n",
              "setTimeout(function(){ai_process_lists()},10)):\"cmpuishown\"==d.eventStatus&&(ai_cmpuishown=!0,a(\"#ai-iab-tcf-status\").text(\"IAB TCF 2.0 CMP UI SHOWN\"),a(\"#ai-iab-tcf-bar\").addClass(\"status-ok\").removeClass(\"status-error\"))):(a(\"#ai-iab-tcf-status\").text(\"IAB TCF 2.0 __tcfapi getTCData failed\"),a(\"#ai-iab-tcf-bar\").removeClass(\"status-ok\").addClass(\"status-error\"))}))}function J(d){\"function\"==typeof __tcfapi?(\"undefined\"==typeof ai_iab_tcf_callback_installed&&F(),\"undefined\"==typeof ai_tcData_requested&&\n",
              "(ai_tcData_requested=!0,aa(),url_parameters_need_tcData=!0)):d&&(a(\"#ai-iab-tcf-bar\").addClass(\"status-error\").removeClass(\"status-ok\"),a(\"#ai-iab-tcf-status\").text(\"IAB TCF 2.0 MISSING: __tcfapi function not found\"))}e=null==e?a(\"div.ai-list-data, meta.ai-list-data\"):e.filter(\".ai-list-data\");if(e.length){e.removeClass(\"ai-list-data\");var I=document.cookie.split(\";\");I.forEach(function(d,c){I[c]=d.trim()});var U=getAllUrlParams(window.location.search);if(null!=U.referrer)var u=U.referrer;else u=\n",
              "document.referrer,\"\"!=u&&(u=l(u));var Q=window.navigator.userAgent,R=Q.toLowerCase(),V=navigator.language,K=V.toLowerCase();if(\"undefined\"!==typeof MobileDetect)var W=new MobileDetect(Q);e.each(function(){var d=a(this).closest(\"div.code-block\"),c=!0,h=a(this).attr(\"referer-list\");if(\"undefined\"!=typeof h){h=b64d(h).split(\",\");var f=a(this).attr(\"referer-list-type\"),B=!1;a.each(h,function(z,g){if(\"\"==g)return!0;if(\"*\"==g.charAt(0))if(\"*\"==g.charAt(g.length-1)){if(g=g.substr(1,g.length-\n",
              "2),-1!=u.indexOf(g))return B=!0,!1}else{if(g=g.substr(1),u.substr(-g.length)==g)return B=!0,!1}else if(\"*\"==g.charAt(g.length-1)){if(g=g.substr(0,g.length-1),0==u.indexOf(g))return B=!0,!1}else if(\"#\"==g){if(\"\"==u)return B=!0,!1}else if(g==u)return B=!0,!1});switch(f){case \"B\":B&&(c=!1);break;case \"W\":B||(c=!1)}}if(c&&(h=a(this).attr(\"client-list\"),\"undefined\"!=typeof h&&\"undefined\"!==typeof W))switch(h=b64d(h).split(\",\"),f=a(this).attr(\"client-list-type\"),p=!1,a.each(h,function(z,g){if(\"\"==g.trim())return!0;\n",
              "var L=g.split(\"&&\");a.each(L,function(ba,b){var v=!0,n=!1;b=b.trim();\"!!\"==b.substring(0,2)&&(v=!1,b=b.substring(2));\"language:\"==b.substring(0,9)&&(n=!0,b=b.substring(9).toLowerCase());var m=!1;n?\"*\"==b.charAt(0)?\"*\"==b.charAt(b.length-1)?(b=b.substr(1,b.length-2).toLowerCase(),-1!=K.indexOf(b)&&(m=!0)):(b=b.substr(1).toLowerCase(),K.substr(-b.length)==b&&(m=!0)):\"*\"==b.charAt(b.length-1)?(b=b.substr(0,b.length-1).toLowerCase(),0==K.indexOf(b)&&(m=!0)):b==K&&(m=!0):\"*\"==b.charAt(0)?\"*\"==b.charAt(b.length-\n",
              "1)?(b=b.substr(1,b.length-2).toLowerCase(),-1!=R.indexOf(b)&&(m=!0)):(b=b.substr(1).toLowerCase(),R.substr(-b.length)==b&&(m=!0)):\"*\"==b.charAt(b.length-1)?(b=b.substr(0,b.length-1).toLowerCase(),0==R.indexOf(b)&&(m=!0)):W.is(b)&&(m=!0);p=m?v:!v;if(!p)return!1});if(p)return!1}),f){case \"B\":p&&(c=!1);break;case \"W\":p||(c=!1)}var M=h=!1;if(c&&(f=a(this).attr(\"parameter-list\"),\"undefined\"!=typeof f)){f=b64d(f).split(\",\");var x=a(this).attr(\"parameter-list-type\"),X=[];I.forEach(function(z){z=z.split(\"=\");\n",
              "try{var g=JSON.parse(decodeURIComponent(z[1]))}catch(L){g=decodeURIComponent(z[1])}X[z[0]]=g});var p=!1,N=a(this);a.each(f,function(z,g){var L=g.split(\"&&\");a.each(L,function(ba,b){var v=!0;b=b.trim();\"!!\"==b.substring(0,2)&&(v=!1,b=b.substring(2));var n=b,m=\"!@!\",Y=-1!=b.indexOf(\"[\"),Z=(0==b.indexOf(\"tcf-v2\")||0==b.indexOf(\"euconsent-v2\"))&&-1!=b.indexOf(\"[\");-1!=b.indexOf(\"=\")&&(m=b.split(\"=\"),n=m[0],m=m[1],Y=-1!=n.indexOf(\"[\"),Z=(0==n.indexOf(\"tcf-v2\")||0==n.indexOf(\"euconsent-v2\"))&&-1!=n.indexOf(\"[\"));\n",
              "if(Z)a(\"#ai-iab-tcf-bar\").show(),\"object\"==typeof ai_tcData?(a(\"#ai-iab-tcf-bar\").addClass(\"status-ok\"),n=n.replace(/]| /gi,\"\").split(\"[\"),n.shift(),(p=(n=k(n,ai_tcData,m))?v:!v)&&(M=!1)):(N.addClass(\"ai-list-data\"),M=!0,\"function\"==typeof __tcfapi?J(!1):\"undefined\"==typeof ai_tcData_retrying&&(ai_tcData_retrying=!0,setTimeout(function(){\"function\"==typeof __tcfapi?J(!1):setTimeout(function(){\"function\"==typeof __tcfapi?J(!1):setTimeout(function(){J(!0)},3E3)},1E3)},600)));else if(Y)p=(n=E(X,n,m))?\n",
              "v:!v;else{var S=!1;\"!@!\"==m?I.every(function(ca){return ca.split(\"=\")[0]==b?(S=!0,!1):!0}):S=-1!=I.indexOf(b);p=S?v:!v}if(!p)return!1});if(p)return!1});switch(x){case \"B\":p&&(c=!1);break;case \"W\":p||(c=!1)}a(this).hasClass(\"ai-list-manual\")&&(c?(N.removeClass(\"ai-list-data\"),N.removeClass(\"ai-list-manual\")):(h=!0,N.addClass(\"ai-list-data\")));if(!h&&!M&&(f=a(this).data(\"debug-info\"),\"undefined\"!=typeof f&&(f=a(\".\"+f),0!=f.length))){var r=f.parent();r.hasClass(\"ai-debug-info\")&&r.remove()}}r=a(this).prevAll(\".ai-debug-bar.ai-debug-lists\");\n",
              "f=\"\"==u?\"#\":u;r.find(\".ai-debug-name.ai-list-info\").text(f).attr(\"title\",Q+\"\\n\"+V);r.find(\".ai-debug-name.ai-list-status\").text(c?ai_front.visible:ai_front.hidden);f=!1;if(c){var C=a(this).attr(\"scheduling-start\");x=a(this).attr(\"scheduling-end\");var G=a(this).attr(\"scheduling-days\");if(\"undefined\"!=typeof C&&\"undefined\"!=typeof x&&\"undefined\"!=typeof G){f=!0;var w=b64d(C),O=b64d(x),T=parseInt(a(this).attr(\"scheduling-fallback\")),P=parseInt(a(this).attr(\"gmt\"));w.includes(\"-\")||O.includes(\"-\")?(x=\n",
              "q(w)+P,C=q(O)+P):(x=A(w),C=A(O));G=b64d(G).split(\",\");r=a(this).attr(\"scheduling-type\");var y=(new Date).getTime()+P,D=new Date(y),H=D.getDay();w.includes(\"-\")||O.includes(\"-\")||(w=(new Date(D.getFullYear(),D.getMonth(),D.getDate())).getTime()+P,y-=w,0>y&&(y+=864E5));0==H?H=6:H--;w=y>=x&&y<C&&G.includes(H.toString());switch(r){case \"B\":w=!w}w||(c=!1);D=D.toISOString().split(\".\")[0].replace(\"T\",\" \");r=a(this).prevAll(\".ai-debug-bar.ai-debug-scheduling\");r.find(\".ai-debug-name.ai-scheduling-info\").text(D+\n",
              "\" \"+H+\" current_time:\"+Math.floor(y.toString()/1E3)+\"  start_date:\"+Math.floor(x/1E3).toString()+\" =\"+(y>=x).toString()+\" end_date:\"+Math.floor(C/1E3).toString()+\" =:\"+(y<C).toString()+\" days:\"+G.toString()+\" =:\"+G.includes(H.toString()).toString());r.find(\".ai-debug-name.ai-scheduling-status\").text(c?ai_front.visible:ai_front.hidden);c||0==T||(r.removeClass(\"ai-debug-scheduling\").addClass(\"ai-debug-fallback\"),r.find(\".ai-debug-name.ai-scheduling-status\").text(ai_front.fallback+\"=\"+T))}}if(h||M)return!0;\n",
              "a(this).css({visibility:\"\",position:\"\",width:\"\",height:\"\",\"z-index\":\"\"});c?(d.css({visibility:\"\"}),d.hasClass(\"ai-remove-position\")&&d.css({position:\"\"}),\"undefined\"!=typeof a(this).data(\"code\")&&(c=b64d(a(this).data(\"code\")),0!=a(this).closest(\"head\").length?(a(this).after(c),a(this).remove()):a(this).append(c),ai_process_element(this))):f&&!w&&0!=T?(d.css({visibility:\"\"}),d.hasClass(\"ai-remove-position\")&&d.css({position:\"\"}),a(this).next(\".ai-fallback\").removeClass(\"ai-fallback\"),\"undefined\"!=\n",
              "typeof a(this).data(\"fallback-code\")?(c=b64d(a(this).data(\"fallback-code\")),a(this).append(c),ai_process_element(this)):(a(this).hide(),d.find(\".ai-debug-block\").length||d.hide()),c=d.attr(\"data-ai\"),\"undefined\"!==typeof c&&!1!==c&&(c=a(this).attr(\"fallback-tracking\"),\"undefined\"!==typeof c&&!1!==c&&d.attr(\"data-ai\",c))):(a(this).hide(),d.find(\".ai-debug-block\").length||d.hide(),d.removeAttr(\"data-ai\").removeClass(\"ai-track\"),d.find(\".ai-debug-block\").length?(d.css({visibility:\"\"}).removeClass(\"ai-close\"),\n",
              "d.hasClass(\"ai-remove-position\")&&d.css({position:\"\"})):d.hide());a(this).attr(\"data-code\",\"\");a(this).attr(\"data-fallback-code\",\"\");d.removeClass(\"ai-list-block\")})}};a(document).ready(function(e){setTimeout(function(){ai_process_lists();setTimeout(function(){F();if(\"function\"==typeof ai_load_blocks){var k=function(E){\"cmplzEnableScripts\"!=E.type&&\"all\"!==E.consentLevel||ai_load_blocks()};jQuery(document).on(\"cmplzEnableScripts\",k);jQuery(document).on(\"cmplz_event_marketing\",k)}},50);jQuery(\".ai-debug-page-type\").dblclick(function(){jQuery(\"#ai-iab-tcf-status\").text(\"CONSENT COOKIES\");\n",
              "jQuery(\"#ai-iab-tcf-bar\").show()});jQuery(\"#ai-iab-tcf-bar\").click(function(){document.cookie=\"euconsent-v2=; Path=/; Expires=Thu, 01 Jan 1970 00:00:01 GMT;\";document.cookie=\"__lxG__consent__v2=; Path=/; Expires=Thu, 01 Jan 1970 00:00:01 GMT;\";document.cookie=\"__lxG__consent__v2_daisybit=; Path=/; Expires=Thu, 01 Jan 1970 00:00:01 GMT;\";document.cookie=\"__lxG__consent__v2_gdaisybit=; Path=/; Expires=Thu, 01 Jan 1970 00:00:01 GMT;\";document.cookie=\"complianz_consent_status=; Path=/; Expires=Thu, 01 Jan 1970 00:00:01 GMT;\";\n",
              "document.cookie=\"cmplz_marketing=; Path=/; Expires=Thu, 01 Jan 1970 00:00:01 GMT;\";document.cookie=\"cmplz_stats=; Path=/; Expires=Thu, 01 Jan 1970 00:00:01 GMT;\";document.cookie=\"moove_gdpr_popup=; Path=/; Expires=Thu, 01 Jan 1970 00:00:01 GMT;\";document.cookie=\"real_cookie_banner-blog:1-tcf; Path=/; Expires=Thu, 01 Jan 1970 00:00:01 GMT;\";document.cookie=\"real_cookie_banner-blog:1; Path=/; Expires=Thu, 01 Jan 1970 00:00:01 GMT;\";jQuery(\"#ai-iab-tcf-status\").text(\"CONSENT COOKIES DELETED\")})},5)})});\n",
              "function ai_process_element(a){setTimeout(function(){\"function\"==typeof ai_process_rotations_in_element&&ai_process_rotations_in_element(a);\"function\"==typeof ai_process_lists&&ai_process_lists(jQuery(\".ai-list-data\",a));\"function\"==typeof ai_process_ip_addresses&&ai_process_ip_addresses(jQuery(\".ai-ip-data\",a));\"function\"==typeof ai_process_filter_hooks&&ai_process_filter_hooks(jQuery(\".ai-filter-check\",a));\"function\"==typeof ai_adb_process_blocks&&ai_adb_process_blocks(a)},5)}\n",
              "function getAllUrlParams(a){var l=a?a.split(\"?\")[1]:window.location.search.slice(1);a={};if(l){l=l.split(\"#\")[0];l=l.split(\"&\");for(var A=0;A<l.length;A++){var q=l[A].split(\"=\"),F=void 0,t=q[0].replace(/\\[\\d*\\]/,function(e){F=e.slice(1,-1);return\"\"});q=\"undefined\"===typeof q[1]?\"\":q[1];t=t.toLowerCase();q=q.toLowerCase();a[t]?(\"string\"===typeof a[t]&&(a[t]=[a[t]]),\"undefined\"===typeof F?a[t].push(q):a[t][F]=q):a[t]=q}}return a};\n",
              "jQuery(document).ready(function(c){function f(a){var d=c(a).find(\".ai-close-button.ai-close-unprocessed\");d.length&&(0!==c(a).outerHeight()?c(a).css(\"width\",\"\").addClass(\"ai-close-fit\").find(\".ai-close-button\").fadeIn(50):(d=c(a),setTimeout(function(){0!==d.outerHeight()&&d.css(\"width\",\"\").addClass(\"ai-close-fit\").find(\".ai-close-button\").fadeIn(50)},4E3)),c(d).removeClass(\"ai-close-unprocessed\"))}ai_close_block=function(a){var d=c(a).closest(\".ai-close\"),b=c(a).data(\"ai-block\");if(\"undefined\"!=typeof d){var e=\n",
              "d.find(\".ai-attributes [data-ai-hash]\").data(\"ai-hash\");a=c(a).data(\"ai-closed-time\");if(\"undefined\"!=typeof a){var g=Math.round((new Date).getTime()/1E3);ai_set_cookie(b,\"x\",Math.round(g+86400*a));ai_set_cookie(b,\"h\",e)}else e=ai_set_cookie(b,\"x\",\"\"),!e.hasOwnProperty(b)||e[b].hasOwnProperty(\"i\")||e[b].hasOwnProperty(\"c\")||ai_set_cookie(b,\"h\",\"\");d.remove()}else ai_set_cookie(b,\"x\",\"\"),!e.hasOwnProperty(b)||e[b].hasOwnProperty(\"i\")||e[b].hasOwnProperty(\"c\")||ai_set_cookie(b,\"h\",\"\")};ai_install_close_buttons=\n",
              "function(a){setTimeout(function(){c(\".ai-close-button.ai-close-unprocessed\",a).click(function(){ai_close_block(this)})},1800);\"undefined\"===typeof ai_preview&&setTimeout(function(){c(\".ai-close-button.ai-close-unprocessed\",a).each(function(){var d=c(this),b=d.data(\"ai-close-timeout\");0<b&&setTimeout(function(){ai_close_block(d)},1E3*(2<b?b-2:0)+1)})},2E3);setTimeout(function(){c(a).hasClass(\"ai-close\")?f(a):c(\".ai-close\",a).each(function(){f(this)})},2200)};ai_install_close_buttons(document)});\n",
              "jQuery(function(a){function u(e,c){c||(c=window.location.href);e=e.replace(/[\\[\\]]/g,\"\\\\$&\");var f=(new RegExp(\"[?&]\"+e+\"(=([^&#]*)|&|#|$)\")).exec(c);return f?f[2]?decodeURIComponent(f[2].replace(/\\+/g,\" \")):\"\":null}function v(e){e.removeClass(\"ai-ip-data\");var c=!1;if(\"\"!=ai_ip_data){try{var f=JSON.parse(ai_ip_data),g=f[0],l=f[1],n=f[2],p=f[3]}catch(d){return}var r=!1;-1!=g.indexOf(\"#\")&&(r=!0,g=g.replace(\"#\",\"\"));var q=\"\";r&&(q=\"CFP BLOCKED, \");q=q+g+\", \"+l;null!=n&&null!=p&&(q=q+\":\"+n+\":\"+p);null==\n",
              "n&&(n=\"\");null==p&&(p=\"\");null!=f&&e.each(function(){var d=a(this).closest(\"div.code-block\");c=!0;var h=a(this).attr(\"ip-addresses\");if(\"undefined\"!=typeof h){h=h.split(\",\");var t=a(this).attr(\"ip-address-list\"),k=!1;a.each(h,function(w,b){if(\"*\"==b.charAt(0))if(\"*\"==b.charAt(b.length-1)){if(b=b.substr(1,b.length-2),-1!=g.indexOf(b))return k=!0,!1}else{if(b=b.substr(1),g.substr(-b.length)==b)return k=!0,!1}else if(\"*\"==b.charAt(b.length-1)){if(b=b.substr(0,b.length-1),0==g.indexOf(b))return k=\n",
              "!0,!1}else if(\"#\"==b){if(\"\"==g)return k=!0,!1}else if(\"CFP\"==b.toUpperCase()){if(r)return k=!0,!1}else if(b==g)return k=!0,!1});switch(t){case \"B\":k&&(c=!1);break;case \"W\":k||(c=!1)}}if(c&&(h=a(this).attr(\"countries\"),\"undefined\"!=typeof h))switch(h=h.split(\",\"),t=a(this).attr(\"country-list\"),k=!1,a.each(h,function(w,b){var m=b.trim().split(\":\");if(null==m[1]||\"\"==n)m[1]=\"\";if(null==m[2]||\"\"==p)m[2]=\"\";var x=m.join(\":\").toUpperCase();m=(l+\":\"+(\"\"==m[1]?\"\":n)+\":\"+(\"\"==m[2]?\"\":p)).toUpperCase();if(x==\n",
              "m)return k=!0,!1}),t){case \"B\":k&&(c=!1);break;case \"W\":k||(c=!1)}a(this).css({visibility:\"\",position:\"\",width:\"\",height:\"\",\"z-index\":\"\"});h=a(this).prev(\".ai-debug-bar\");h.find(\".ai-debug-name.ai-ip-country\").text(q);h.find(\".ai-debug-name.ai-ip-status\").text(c?ai_front.visible:ai_front.hidden);c?(d.css({visibility:\"\"}),d.hasClass(\"ai-remove-position\")&&d.css({position:\"\"}),\"undefined\"!=typeof a(this).data(\"code\")&&(h=b64d(a(this).data(\"code\")),0!=a(this).closest(\"head\").length?(a(this).after(h),\n",
              "a(this).remove()):a(this).append(h),a(this).attr(\"data-code\",\"\"),ai_process_element(this))):(a(this).hide(),d.find(\".ai-debug-block\").length||d.hide(),d.removeAttr(\"data-ai\"),d.find(\".ai-debug-block\")?(d.css({visibility:\"\"}).removeClass(\"ai-close\"),d.hasClass(\"ai-remove-position\")&&d.css({position:\"\"}),\"undefined\"!=typeof a(this).data(\"code\")&&(d.removeClass(\"ai-list-block\"),d.removeClass(\"ai-list-block-filter\"),d.prev().hasClass(\"ai-debug-info\")&&d.prev().remove())):d.hide());d.removeClass(\"ai-list-block-ip\")})}}\n",
              "ai_process_ip_addresses=function(e){e=null==e?a(\"div.ai-ip-data, meta.ai-ip-data\"):e.filter(\".ai-ip-data\");if(e.length)if(\"undefined\"!=typeof ai_ip_data)v(e);else if(\"undefined\"==typeof ai_ip_data_requested){ai_ip_data_requested=!0;var c=\"/wp-admin/admin-ajax.php?action=ai_ajax&ip-data=ip-address-country-city&ai_check=d08716aa3e&ver=\"+((new Date).getTime()+\"-\"+Math.round(1E5*Math.random())),f=u(\"ai-debug-ip-address\");null!=f&&(c+=\"&ai-debug-ip-address=\"+f);f=u(\"ai-debug-country\");null!=f&&\n",
              "(c+=\"&ai-debug-country=\"+f);a.get(c,function(g){ai_ip_data=g;if(\"\"==g){var l=\"Ajax request returned empty data, geo-targeting disabled\";console.error(l);\"undefined\"!=typeof ai_js_errors&&ai_js_errors.push([l,c,0])}else try{JSON.parse(g)}catch(n){l=\"Ajax call returned invalid data, geo-targeting disabled\",console.error(l,g),\"undefined\"!=typeof ai_js_errors&&ai_js_errors.push([l,c,0])}e=a(\"div.ai-ip-data, meta.ai-ip-data\");e.length&&v(e)}).fail(function(g,l,n){a(\"div.ai-ip-data\").each(function(){a(this).css({display:\"none\",\n",
              "visibility:\"\",position:\"\",width:\"\",height:\"\",\"z-index\":\"\"}).removeClass(\"ai-ip-data\").hide()})})}};a(document).ready(function(e){setTimeout(function(){ai_process_ip_addresses()},5)})});\n",
              "function ai_process_element(a){setTimeout(function(){\"function\"==typeof ai_process_rotations_in_element&&ai_process_rotations_in_element(a);\"function\"==typeof ai_process_lists&&ai_process_lists(jQuery(\".ai-list-data\",a));\"function\"==typeof ai_process_ip_addresses&&ai_process_ip_addresses(jQuery(\".ai-ip-data\",a));\"function\"==typeof ai_process_filter_hooks&&ai_process_filter_hooks(jQuery(\".ai-filter-check\",a));\"function\"==typeof ai_adb_process_blocks&&ai_adb_process_blocks(a)},5)};\n",
              "(function(d,l){\"function\"===typeof define&&define.amd?define([\"jquery\"],function(p){return l(p)}):\"object\"===typeof module&&module.exports?module.exports=l(require(\"jquery\")):l(d.jQuery)})(this,function(d){(function(l){l.fn.iframeTracker=function(p){\"function\"==typeof p&&(p={blurCallback:p});var m=this.get();if(null===p||!1===p)l.iframeTracker.untrack(m);else if(\"object\"==typeof p)l.iframeTracker.track(m,p);else throw Error(\"Wrong handler type (must be an object, or null|false to untrack)\");return this};\n",
              "l.iframeTracker={focusRetriever:null,focusRetrieved:!1,handlersList:[],isIE8AndOlder:!1,init:function(){try{!0===l.browser.msie&&9>l.browser.version&&(this.isIE8AndOlder=!0)}catch(m){try{9>navigator.userAgent.match(/(msie) ([\\w.]+)/i)[2]&&(this.isIE8AndOlder=!0)}catch(w){}}l(window).focus();l(window).blur(function(m){l.iframeTracker.windowLoseFocus(m)});l(\"body\").append('<div style=\"position:fixed; top:0; left:0; overflow:hidden;\"><input style=\"position:absolute; left:-300px;\" type=\"text\" value=\"\" id=\"focus_retriever\" readonly=\"true\" /></div>');\n",
              "this.focusRetriever=l(\"#focus_retriever\");this.focusRetrieved=!1;var p=this;l(document).mousemove(function(m){!document.activeElement||\"IFRAME\"!==document.activeElement.tagName||document.activeElement.hasAttribute(\"id\")&&0===l(document.activeElement).attr(\"id\").indexOf(\"dsq-\")||(l.iframeTracker.focusRetriever.focus(),l.iframeTracker.focusRetrieved=!0);if(document.activeElement&&\"A\"==document.activeElement.tagName)for(var w in p.handlersList)try{p.handlersList[w].focusCallback(document.activeElement)}catch(A){}});\n",
              "if(this.isIE8AndOlder){this.focusRetriever.blur(function(m){m.stopPropagation();m.preventDefault();l.iframeTracker.windowLoseFocus(m)});l(\"body\").click(function(m){l(window).focus()});l(\"form\").click(function(m){m.stopPropagation()});try{l(\"body\").on(\"click\",\"form\",function(m){m.stopPropagation()})}catch(m){console.log(\"[iframeTracker] Please update jQuery to 1.7 or newer. (exception: \"+m.message+\")\")}}},track:function(p,m){m.target=p;l.iframeTracker.handlersList.push(m);l(p).bind(\"mouseover\",{handler:m},\n",
              "l.iframeTracker.mouseoverListener).bind(\"mouseout\",{handler:m},l.iframeTracker.mouseoutListener)},untrack:function(p){if(\"function\"!=typeof Array.prototype.filter)console.log(\"Your browser doesn't support Array filter, untrack disabled\");else{l(p).each(function(z){l(this).unbind(\"mouseover\",l.iframeTracker.mouseoverListener).unbind(\"mouseout\",l.iframeTracker.mouseoutListener)});var m=function(z){return null===z?!1:!0},w;for(w in this.handlersList){for(var A in this.handlersList[w].target)-1!==l.inArray(this.handlersList[w].target[A],\n",
              "p)&&(this.handlersList[w].target[A]=null);this.handlersList[w].target=this.handlersList[w].target.filter(m);0===this.handlersList[w].target.length&&(this.handlersList[w]=null)}this.handlersList=this.handlersList.filter(m)}},mouseoverListener:function(p){p.data.handler.over=!0;try{p.data.handler.overCallback(this,p)}catch(m){}},mouseoutListener:function(p){p.data.handler.over=!1;l.iframeTracker.focusRetriever.focus();try{p.data.handler.outCallback(this,p)}catch(m){}},windowLoseFocus:function(p){for(var m in this.handlersList)if(!0===\n",
              "this.handlersList[m].over)try{this.handlersList[m].blurCallback(p)}catch(w){}}};l(document).ready(function(){l.iframeTracker.init()})})(d)});ai_tracking_finished=!1;\n",
              "jQuery(document).ready(function(d){function l(b,k,f,a,c,r,g){b=b.replace(\"[EVENT]\",k);b=b.replace(\"[BLOCK_NUMBER]\",f);b=b.replace(\"[BLOCK_NAME]\",a);b=b.replace(\"[BLOCK_COUNTER]\",c);b=b.replace(\"[VERSION_NUMBER]\",r);b=b.replace(\"[VERSION_NAME]\",g);b=b.replace(\"[BLOCK_VERSION_NUMBER]\",f+(0==r?\"\":\" - \"+r));return b=b.replace(\"[BLOCK_VERSION_NAME]\",a+(\"\"==g?\"\":\" - \"+g))}function p(b,k,f,a,c,r,g){var e=l(\"Ad Inserter Pro\",b,k,f,a,c,r),q=l(\"[EVENT]\",b,k,f,a,c,r),h=l(\"[BLOCK_NUMBER] - [BLOCK_VERSION_NAME]\",b,k,f,a,c,r);if(\"function\"!=\n",
              "typeof ai_external_tracking_event||0!=ai_external_tracking_event({event:b,block:k,block_name:f,block_counter:a,version:c,version_name:r},e,q,h,g))\"function\"==typeof window.ga?(b=\"send\",\"string\"==typeof ai_ga_tracker_name?b=ai_ga_tracker_name+\".\"+b:(k=ga.getAll(),0!=k.length&&(k=k[0].get(\"name\"),\"t0\"!=k&&(b=k+\".\"+b))),ga(b,\"event\",{eventCategory:e,eventAction:q,eventLabel:h,nonInteraction:g})):\"function\"==typeof window.gtag?gtag(\"event\",\"impression\",{event_category:e,event_action:q,event_label:h,non_interaction:g}):\n",
              "\"function\"==typeof window.__gaTracker?__gaTracker(\"send\",\"event\",{eventCategory:e,eventAction:q,eventLabel:h,nonInteraction:g}):\"object\"==typeof _gaq&&_gaq.push([\"_trackEvent\",e,q,h,void 0,g]),\"object\"==typeof _paq&&_paq.push([\"trackEvent\",e,q,h])}function m(b,k){var f=b[0],a=b[1];if(Number.isInteger(a))if(\"undefined\"==typeof ai_check_data&&\"undefined\"==typeof ai_check_data_timeout)ai_check_data_timeout=!0,setTimeout(function(){m(b,k)},2500);else{ai_cookie=ai_load_cookie();for(var c in ai_cookie)if(parseInt(f)==\n",
              "parseInt(c))for(var r in ai_cookie[c])if(\"c\"==r){var g=ai_cookie[c][r];if(0<g)if(ai_set_cookie(c,\"c\",g-1),1==g){g=d(\"span[data-ai-block=\"+f+\"]\").data(\"ai-cfp-time\");var e=new Date;e=Math.round(e.getTime()/1E3);var q=e+604800;ai_set_cookie(c,\"c\",-q);setTimeout(function(){d(\"span[data-ai-block=\"+f+\"]\").closest(\"div[data-ai]\").remove()},50)}else ai_set_cookie(c,\"c\",g-1)}else if(\"cpt\"==r)if(g=ai_cookie[c][r],0<g){if(ai_set_cookie(c,\"cpt\",g-1),1==g){g=d(\"span[data-ai-block=\"+f+\"]\").data(\"ai-cfp-time\");\n",
              "e=new Date;e=Math.round(e.getTime()/1E3);q=ai_cookie[c].ct;ai_set_cookie(c,\"x\",q);var h=d(\"span[data-ai-block=\"+f+\"]\").closest(\"div[data-ai]\");setTimeout(function(){h.closest(\"div[data-ai]\").remove()},75);\"undefined\"!=typeof g&&(q=e+86400*g,ai_set_cookie(f,\"x\",q),d(\"span.ai-cfp\").each(function(n){n=d(this).data(\"ai-block\");var u=d(this);setTimeout(function(){u.closest(\"div[data-ai]\").remove()},50);ai_set_cookie(n,\"x\",q)}))}}else ai_check_data.hasOwnProperty(c)&&ai_check_data[c].hasOwnProperty(\"cpt\")&&\n",
              "ai_check_data[c].hasOwnProperty(\"ct\")?ai_cookie.hasOwnProperty(c)&&ai_cookie[c].hasOwnProperty(\"ct\")&&(e=new Date,g=ai_cookie[c].ct-Math.round(e.getTime()/1E3),0>=g&&(e=Math.round(e.getTime()/1E3),ai_set_cookie(c,\"cpt\",ai_check_data[c].cpt-1),ai_set_cookie(c,\"ct\",Math.round(e+86400*ai_check_data[c].ct)))):(ai_cookie.hasOwnProperty(c)&&ai_cookie[c].hasOwnProperty(\"cpt\")&&ai_set_cookie(c,\"cpt\",\"\"),ai_cookie.hasOwnProperty(c)&&ai_cookie[c].hasOwnProperty(\"ct\")&&ai_set_cookie(c,\"ct\",\"\"));ai_cookie.hasOwnProperty(\"G\")&&\n",
              "ai_cookie.G.hasOwnProperty(\"cpt\")&&(g=ai_cookie.G.cpt,0<g?(ai_set_cookie(\"G\",\"cpt\",g-1),1==g&&(g=d(\"span[data-ai-block=\"+f+\"]\").data(\"ai-cfp-time\"),e=new Date,e=Math.round(e.getTime()/1E3),q=ai_cookie.G.ct,ai_set_cookie(f,\"x\",q),h=d(\"span[data-ai-block=\"+f+\"]\").closest(\"div[data-ai]\"),setTimeout(function(){h.closest(\"div[data-ai]\").remove()},75),\"undefined\"!=typeof g&&(q=e+86400*g,ai_set_cookie(f,\"x\",q),d(\"span.ai-cfp\").each(function(n){n=d(this).data(\"ai-block\");var u=d(this);setTimeout(function(){u.closest(\"div[data-ai]\").remove()},\n",
              "50);ai_set_cookie(n,\"x\",q)})))):ai_check_data.hasOwnProperty(\"G\")&&ai_check_data.G.hasOwnProperty(\"cpt\")&&ai_check_data.G.hasOwnProperty(\"ct\")?ai_cookie.hasOwnProperty(\"G\")&&ai_cookie.G.hasOwnProperty(\"ct\")&&(e=new Date,g=ai_cookie.G.ct-Math.round(e.getTime()/1E3),0>=g&&(e=Math.round(e.getTime()/1E3),ai_set_cookie(\"G\",\"cpt\",ai_check_data.G.cpt-1),ai_set_cookie(\"G\",\"ct\",Math.round(e+86400*ai_check_data.G.ct)))):(ai_cookie.hasOwnProperty(\"G\")&&ai_cookie.G.hasOwnProperty(\"cpt\")&&ai_set_cookie(\"G\",\"cpt\",\n",
              "\"\"),ai_cookie.hasOwnProperty(\"G\")&&ai_cookie.G.hasOwnProperty(\"ct\")&&ai_set_cookie(\"G\",\"ct\",\"\")));z&&\"undefined\"===typeof ai_internal_tracking_no_clicks&&d.ajax({url:\"/wp-admin/admin-ajax.php\",type:\"post\",data:{action:\"ai_ajax\",ai_check:\"d08716aa3e\",click:f,version:a,type:k},async:!0}).done(function(n){n=n.trim();\"\"!=n&&(n=JSON.parse(n),\"undefined\"!=typeof n[\"#\"]&&n[\"#\"]==f&&(ai_cookie=ai_load_cookie(),setTimeout(function(){d(\"span[data-ai-block=\"+f+\"]\").closest(\"div[data-ai]\").remove()},\n",
              "50),n=Math.round((new Date).getTime()/1E3)+43200,ai_cookie.hasOwnProperty(f)&&ai_cookie[f].hasOwnProperty(\"x\")||ai_set_cookie(f,\"x\",n)))});if(B&&\"undefined\"===typeof ai_external_tracking_no_clicks){var v=b[2],t=b[3];p(\"click\",f,v,b[4],a,t,!1)}\"function\"==typeof ai_click_action&&ai_click_action(f,v,a,t)}}function w(){ai_check_data={};if(\"undefined\"==typeof ai_iframe){ai_cookie=ai_load_cookie();d(\".ai-check-block\").each(function(){var a=d(this).data(\"ai-block\"),c=d(this).data(\"ai-delay-pv\"),r=d(this).data(\"ai-every-pv\"),\n",
              "g=d(this).data(\"ai-hash\"),e=d(this).data(\"ai-max-imp\"),q=d(this).data(\"ai-limit-imp-per-time\"),h=d(this).data(\"ai-limit-imp-time\"),v=d(this).data(\"ai-max-clicks\"),t=d(this).data(\"ai-limit-clicks-per-time\"),n=d(this).data(\"ai-limit-clicks-time\"),u=d(this).data(\"ai-global-limit-clicks-per-time\"),x=d(this).data(\"ai-global-limit-clicks-time\");if(\"undefined\"!=typeof c&&0<c){ai_check_data.hasOwnProperty(a)||(ai_check_data[a]={});ai_check_data[a].d=c;var y=\"\";ai_cookie.hasOwnProperty(a)&&ai_cookie[a].hasOwnProperty(\"d\")&&\n",
              "(y=ai_cookie[a].d);\"\"===y&&ai_set_cookie(a,\"d\",c-1)}\"undefined\"!=typeof r&&2<=r&&(ai_check_data.hasOwnProperty(a)||(ai_check_data[a]={}),\"undefined\"!==typeof ai_delay_showing_pageviews||ai_cookie.hasOwnProperty(a)&&ai_cookie[a].hasOwnProperty(\"d\")||(ai_cookie.hasOwnProperty(a)||(ai_cookie[a]={}),ai_cookie[a].d=0),ai_check_data[a].e=r);if(\"undefined\"!=typeof e&&0<e){if(ai_check_data.hasOwnProperty(a)||(ai_check_data[a]={}),ai_check_data[a].i=e,ai_check_data[a].h=g,r=c=\"\",ai_cookie.hasOwnProperty(a)&&\n",
              "(ai_cookie[a].hasOwnProperty(\"i\")&&(r=ai_cookie[a].i),ai_cookie[a].hasOwnProperty(\"h\")&&(c=ai_cookie[a].h)),\"\"===r||c!=g)ai_set_cookie(a,\"i\",e),ai_set_cookie(a,\"h\",g)}else ai_cookie.hasOwnProperty(a)&&ai_cookie[a].hasOwnProperty(\"i\")&&(ai_set_cookie(a,\"i\",\"\"),ai_cookie[a].hasOwnProperty(\"c\")||ai_cookie[a].hasOwnProperty(\"x\")||ai_set_cookie(a,\"h\",\"\"));if(\"undefined\"!=typeof q&&0<q&&\"undefined\"!=typeof h&&0<h){ai_check_data.hasOwnProperty(a)||(ai_check_data[a]={});ai_check_data[a].ipt=q;ai_check_data[a].it=\n",
              "h;e=c=\"\";ai_cookie.hasOwnProperty(a)&&(ai_cookie[a].hasOwnProperty(\"ipt\")&&(c=ai_cookie[a].ipt),ai_cookie[a].hasOwnProperty(\"it\")&&(e=ai_cookie[a].it));if(\"\"===c||\"\"===e)ai_set_cookie(a,\"ipt\",q),c=new Date,c=Math.round(c.getTime()/1E3),ai_set_cookie(a,\"it\",Math.round(c+86400*h));0<e&&(c=new Date,c=Math.round(c.getTime()/1E3),e<=c&&(ai_set_cookie(a,\"ipt\",q),ai_set_cookie(a,\"it\",Math.round(c+86400*h))))}else ai_cookie.hasOwnProperty(a)&&(ai_cookie[a].hasOwnProperty(\"ipt\")&&ai_set_cookie(a,\"ipt\",\"\"),\n",
              "ai_cookie[a].hasOwnProperty(\"it\")&&ai_set_cookie(a,\"it\",\"\"));if(\"undefined\"!=typeof v&&0<v){if(ai_check_data.hasOwnProperty(a)||(ai_check_data[a]={}),ai_check_data[a].c=v,ai_check_data[a].h=g,q=c=\"\",ai_cookie.hasOwnProperty(a)&&(ai_cookie[a].hasOwnProperty(\"c\")&&(q=ai_cookie[a].c),ai_cookie[a].hasOwnProperty(\"h\")&&(c=ai_cookie[a].h)),\"\"===q||c!=g)ai_set_cookie(a,\"c\",v),ai_set_cookie(a,\"h\",g)}else ai_cookie.hasOwnProperty(a)&&ai_cookie[a].hasOwnProperty(\"c\")&&(ai_set_cookie(a,\"c\",\"\"),ai_cookie[a].hasOwnProperty(\"i\")||\n",
              "ai_cookie[a].hasOwnProperty(\"x\")||ai_set_cookie(a,\"h\",\"\"));if(\"undefined\"!=typeof t&&0<t&&\"undefined\"!=typeof n&&0<n){ai_check_data.hasOwnProperty(a)||(ai_check_data[a]={});ai_check_data[a].cpt=t;ai_check_data[a].ct=n;g=v=\"\";ai_cookie.hasOwnProperty(a)&&(ai_cookie[a].hasOwnProperty(\"cpt\")&&(v=ai_cookie[a].cpt),ai_cookie[a].hasOwnProperty(\"ct\")&&(g=ai_cookie[a].ct));if(\"\"===v||\"\"===g)ai_set_cookie(a,\"cpt\",t),c=new Date,c=Math.round(c.getTime()/1E3),ai_set_cookie(a,\"ct\",Math.round(c+86400*n));0<g&&\n",
              "(c=new Date,c=Math.round(c.getTime()/1E3),g<=c&&(ai_set_cookie(a,\"cpt\",t),ai_set_cookie(a,\"ct\",Math.round(c+86400*n))))}else ai_cookie.hasOwnProperty(a)&&(ai_cookie[a].hasOwnProperty(\"cpt\")&&ai_set_cookie(a,\"cpt\",\"\"),ai_cookie[a].hasOwnProperty(\"ct\")&&ai_set_cookie(a,\"ct\",\"\"));if(\"undefined\"!=typeof u&&0<u&&\"undefined\"!=typeof x&&0<x){ai_check_data.hasOwnProperty(\"G\")||(ai_check_data.G={});ai_check_data.G.cpt=u;ai_check_data.G.ct=x;a=t=\"\";ai_cookie.hasOwnProperty(\"G\")&&(ai_cookie.G.hasOwnProperty(\"cpt\")&&\n",
              "(t=ai_cookie.G.cpt),ai_cookie.G.hasOwnProperty(\"ct\")&&(a=ai_cookie.G.ct));if(\"\"===t||\"\"===a)ai_set_cookie(\"G\",\"cpt\",u),c=new Date,c=Math.round(c.getTime()/1E3),ai_set_cookie(\"G\",\"ct\",Math.round(c+86400*x));0<a&&(c=new Date,c=Math.round(c.getTime()/1E3),a<=c&&(ai_set_cookie(\"G\",\"cpt\",u),ai_set_cookie(\"G\",\"ct\",Math.round(c+86400*x))))}else ai_cookie.hasOwnProperty(\"G\")&&(ai_cookie.G.hasOwnProperty(\"cpt\")&&ai_set_cookie(\"G\",\"cpt\",\"\"),ai_cookie.G.hasOwnProperty(\"ct\")&&ai_set_cookie(\"G\",\"ct\",\"\"))});d(\".ai-check-block\").removeClass(\"ai-check-block\");\n",
              "for(var b in ai_cookie)for(var k in ai_cookie[b])if(\"d\"==k){var f=ai_cookie[b][k];0<f?ai_set_cookie(b,\"d\",f-1):ai_check_data.hasOwnProperty(b)&&ai_check_data[b].hasOwnProperty(\"e\")?ai_set_cookie(b,\"d\",ai_check_data[b].e-1):ai_check_data.hasOwnProperty(b)&&ai_check_data[b].hasOwnProperty(\"d\")||ai_set_cookie(b,\"d\",\"\")}}}function A(){if(D){var b=document.documentElement.clientWidth,k=window.innerWidth,f=b<k?k:b,a=0;d.each(E,function(r,g){if(f>=g)return a=F[r],!1});b=jQuery(b64d(\"Ym9keQ==\")).attr(b64d ('ZGF0YS1kYXRhLW1hc2s='));\n",
              "if(\"string\"===typeof b)var c=b==b64d(\"bWFzaw==\");\"string\"===typeof b&&\"boolean\"===typeof c&&c&&(B&&p(\"ad blocking\",0,G[a-1],0,0,\"\",!0),a|=128);z&&d.ajax({url:\"/wp-admin/admin-ajax.php\",type:\"post\",data:{action:\"ai_ajax\",ai_check:\"d08716aa3e\",views:[0],versions:[a]},async:!0}).done(function(r){})}w();ai_tracking_finished=!0;ai_process_impressions()}var z=1,B=1,D=1,C=1,E=[980,768,0],F=[1,2,3],\n",
              "G=JSON.parse(b64d(\"WyJEZXNrdG9wIiwiVGFibGV0IiwiUGhvbmUiXQ==\"));Number.isInteger=Number.isInteger||function(b){return\"number\"===typeof b&&isFinite(b)&&Math.floor(b)===b};ai_install_standard_click_trackers=function(b){\"undefined\"==typeof b&&(b=d(\"body\"));b=d(\"div.ai-track[data-ai]:visible\",b);var k=d();b.each(function(){var f=d(this).find(\"div.ai-lazy\"),a=d(this).find(\"div.ai-manual\");0==f.length&&0==a.length&&(k=k.add(d(this)))});b=k;b.removeClass(\"ai-track\");b=b.find(\"a\");0!=b.length&&(C?b.click(function(){for(var f=d(this).closest(\"div[data-ai]\");\"undefined\"!=\n",
              "typeof f.attr(\"data-ai\");){var a=JSON.parse(b64d(f.attr(\"data-ai\")));\"undefined\"!==typeof a&&a.constructor===Array&&Number.isInteger(a[1])&&!f.hasClass(\"clicked\")&&(f.addClass(\"clicked\"),m(a,\"a.click\"));f=f.parent().closest(\"div[data-ai]\")}}):b.click(function(){for(var f=d(this).closest(\"div[data-ai]\");\"undefined\"!=typeof f.attr(\"data-ai\");){var a=JSON.parse(b64d(f.attr(\"data-ai\")));\"undefined\"!==typeof a&&a.constructor===Array&&Number.isInteger(a[1])&&(m(a,\"a.click\"),clicked=!0);f=f.parent().closest(\"div[data-ai]\")}}))};\n",
              "ai_install_click_trackers=function(b){\"undefined\"==typeof b&&(b=d(\"body\"));if(C){var k=d(\"div.ai-track[data-ai]:visible, div.ai-rotate[data-info]:visible div.ai-track[data-ai]\",b);\"undefined\"!=typeof d(b).attr(\"data-ai\")&&d(b).hasClass(\"ai-track\")&&d(b).is(\":visible\")&&(k=k.add(b));var f=d();k.each(function(){var a=d(this).find(\"div.ai-lazy\"),c=d(this).find(\"div.ai-manual\");0==a.length&&0==c.length&&(f=f.add(d(this)))});k=f;k.removeClass(\"ai-track\");0!=k.length&&k.iframeTracker({blurCallback:function(){if(null!=\n",
              "this.ai_data&&null!=wrapper&&!wrapper.hasClass(\"clicked\")){wrapper.addClass(\"clicked\");m(this.ai_data,\"blurCallback\");for(var a=wrapper.find(\"div[data-ai]:visible\");\"undefined\"!=typeof a.attr(\"data-ai\");){var c=JSON.parse(b64d(a.attr(\"data-ai\")));\"undefined\"!==typeof c&&c.constructor===Array&&Number.isInteger(c[1])&&m(c,\"blurCallback INNER\");a=a.find(\"div[data-ai]:visible\")}}},overCallback:function(a){a=d(a).closest(\"div[data-ai]\");if(\"undefined\"!=typeof a.attr(\"data-ai\")){var c=JSON.parse(b64d(a.attr(\"data-ai\")));\n",
              "\"undefined\"!==typeof c&&c.constructor===Array&&Number.isInteger(c[1])?(wrapper=a,this.ai_data=c):(null!=wrapper&&wrapper.removeClass(\"clicked\"),this.ai_data=wrapper=null)}},outCallback:function(a){null!=wrapper&&wrapper.removeClass(\"clicked\");this.ai_data=wrapper=null},focusCallback:function(a){if(null!=this.ai_data&&null!=wrapper&&!wrapper.hasClass(\"clicked\"))for(wrapper.addClass(\"clicked\"),m(this.ai_data,\"focusCallback\"),a=wrapper.find(\"div[data-ai]:visible\");\"undefined\"!=typeof a.attr(\"data-ai\");){var c=\n",
              "JSON.parse(b64d(a.attr(\"data-ai\")));\"undefined\"!==typeof c&&c.constructor===Array&&Number.isInteger(c[1])&&m(c,\"focusCallback INNER\");a=a.find(\"div[data-ai]:visible\")}},wrapper:null,ai_data:null,block:null,version:null})}ai_install_standard_click_trackers(b)};ai_process_impressions=function(b){\"undefined\"==typeof b&&(b=d(\"body\"));var k=[],f=[],a=[],c=[],r=[],g=d(\"div.ai-track[data-ai]:visible, div.ai-rotate[data-info]:visible div.ai-track[data-ai]\",b);\"undefined\"!=typeof d(b).attr(\"data-ai\")&&d(b).hasClass(\"ai-track\")&&\n",
              "d(b).is(\":visible\")&&(g=g.add(b));0!=g.length&&d(g).each(function(){if(\"undefined\"!=typeof d(this).attr(\"data-ai\")){var h=JSON.parse(b64d(d(this).attr(\"data-ai\")));if(\"undefined\"!==typeof h&&h.constructor===Array){var v=0,t=d(this).find(\"div.ai-rotate[data-info]\");1==t.length&&(v=JSON.parse(b64d(t.data(\"info\")))[1]);if(Number.isInteger(h[0])&&0!=h[0]&&Number.isInteger(h[1])){t=0;var n=d(this).hasClass(\"ai-no-tracking\"),u=jQuery(b64d(\"Ym9keQ==\")).attr(b64d ('ZGF0YS1kYXRhLW1hc2s='));if(\"string\"===typeof u)var x=\n",
              "u==b64d(\"bWFzaw==\");if(\"string\"===typeof u&&\"boolean\"===typeof x){var y=d(this).outerHeight();u=d(this).find(\".ai-attributes\");u.length&&u.each(function(){y>=d(this).outerHeight()&&(y-=d(this).outerHeight())});u=d(this).find(\".ai-code\");u.length&&(y=0,u.each(function(){y+=d(this).outerHeight()}));x&&0===y&&(t=128)}x=d(this).find(\"div.ai-lazy\");u=d(this).find(\"div.ai-manual\");if(0!=x.length||0!=u.length)n=!0;if(!n)if(0==v)k.push(h[0]),f.push(h[1]|t),a.push(h[2]),c.push(h[3]),r.push(h[4]);else for(n=\n",
              "1;n<=v;n++)k.push(h[0]),f.push(n|t),a.push(h[2]),c.push(h[3]),r.push(h[4])}}}});ai_cookie=ai_load_cookie();for(var e in ai_cookie)if(k.includes(parseInt(e)))for(var q in ai_cookie[e])\"i\"==q?(b=ai_cookie[e][q],0<b&&(1==b?(b=new Date,b=Math.round(b.getTime()/1E3)+604800,ai_set_cookie(e,\"i\",-b)):ai_set_cookie(e,\"i\",b-1))):\"ipt\"==q&&(b=ai_cookie[e][q],0<b?ai_set_cookie(e,\"ipt\",b-1):ai_check_data.hasOwnProperty(e)&&ai_check_data[e].hasOwnProperty(\"ipt\")&&ai_check_data[e].hasOwnProperty(\"it\")?ai_cookie.hasOwnProperty(e)&&\n",
              "ai_cookie[e].hasOwnProperty(\"it\")&&(b=new Date,0>=ai_cookie[e].it-Math.round(b.getTime()/1E3)&&(b=Math.round(b.getTime()/1E3),ai_set_cookie(e,\"ipt\",ai_check_data[e].ipt),ai_set_cookie(e,\"it\",Math.round(b+86400*ai_check_data[e].it)))):(ai_cookie.hasOwnProperty(e)&&ai_cookie[e].hasOwnProperty(\"ipt\")&&ai_set_cookie(e,\"ipt\",\"\"),ai_cookie.hasOwnProperty(e)&&ai_cookie[e].hasOwnProperty(\"it\")&&ai_set_cookie(e,\"it\",\"\")));if(k.length&&(z&&\"undefined\"===typeof ai_internal_tracking_no_impressions&&d.ajax({url:\"/wp-admin/admin-ajax.php\",\n",
              "type:\"post\",data:{action:\"ai_ajax\",ai_check:\"d08716aa3e\",views:k,versions:f},async:!0}).done(function(h){h=h.trim();if(\"\"!=h&&(h=JSON.parse(h),\"undefined\"!=typeof h[\"#\"])){ai_cookie=ai_load_cookie();var v=Math.round((new Date).getTime()/1E3)+43200,t=[],n;for(n in h[\"#\"])t.push(h[\"#\"][n]),ai_cookie.hasOwnProperty(h[\"#\"][n])&&ai_cookie[h[\"#\"][n]].hasOwnProperty(\"x\")||ai_set_cookie(h[\"#\"][n],\"x\",v);setTimeout(function(){for(index=0;index<t.length;++index)d(\"span[data-ai-block=\"+t[index]+\"]\").closest(\"div[data-ai]\").remove()},\n",
              "50)}}),B&&\"undefined\"===typeof ai_external_tracking_no_impressions))for(e=0;e<k.length;e++)p(\"impression\",k[e],a[e],r[e],f[e],c[e],!0)};jQuery(window).on(\"load\",function(){setTimeout(A,1400);setTimeout(ai_install_click_trackers,1500)})});\n",
              "\n",
              "ai_js_code = true;\n",
              "}\n",
              "function ai_wait_for_jquery(){function b(f,c){var a=document.createElement(\"script\");a.src=f;var d=document.getElementsByTagName(\"head\")[0],e=!1;a.onload=a.onreadystatechange=function(){e||this.readyState&&\"loaded\"!=this.readyState&&\"complete\"!=this.readyState||(e=!0,c&&c(),a.onload=a.onreadystatechange=null,d.removeChild(a))};d.appendChild(a)}window.jQuery&&window.jQuery.fn?ai_run_scripts():(ai_jquery_waiting_counter++,4==ai_jquery_waiting_counter&&b(\"https://criptotendencia.com/wp-includes/js/jquery/jquery.js?ver=3.5.1\",function(){b(\"https://criptotendencia.com/wp-includes/js/jquery/jquery-migrate.min.js?ver=5.7.2\",\n",
              "null)}),30>ai_jquery_waiting_counter&&setTimeout(function(){ai_wait_for_jquery()},50))}ai_jquery_waiting_counter=0;ai_wait_for_jquery();\n",
              "\n",
              "</script>\n",
              "</body>\n",
              "</html>"
            ]
          },
          "metadata": {
            "tags": []
          },
          "execution_count": 7
        }
      ]
    },
    {
      "cell_type": "markdown",
      "metadata": {
        "id": "6PtXl8PvDK9R"
      },
      "source": [
        "Luego de crear la sopa identificamos en que parte de la pagina web se encuentran las ultimas noticias de portal para asi poder extraer la información que deseamos. "
      ]
    },
    {
      "cell_type": "code",
      "metadata": {
        "colab": {
          "base_uri": "https://localhost:8080/"
        },
        "id": "Np0BwYz7W7uf",
        "outputId": "792cd7a4-74e8-44c6-c62c-c2c4b8288b03"
      },
      "source": [
        "pagina_sopa.find('h3')"
      ],
      "execution_count": null,
      "outputs": [
        {
          "output_type": "execute_result",
          "data": {
            "text/plain": [
              "<h3 class=\"entry-title\"><a href=\"https://criptotendencia.com/2021/07/12/ayudamos-a-crear-bitcoin-la-nueva-revelacion-de-los-gemelos-bogdanov-2/\" rel=\"bookmark\">Ayudamos a crear Bitcoin: la nueva «revelación» de los gemelos Bogdanov</a></h3>"
            ]
          },
          "metadata": {
            "tags": []
          },
          "execution_count": 8
        }
      ]
    },
    {
      "cell_type": "markdown",
      "metadata": {
        "id": "3m6KThtmDSol"
      },
      "source": [
        "En este caso encontramos que la clase h3 contiene los hipervinculos de todas las ultimas noticias del portal, es por eso que deseamos obtener todos estos ultimos hipervinculos ya que ahi podremos encontrar la información que deseamos obtener de las noticias. "
      ]
    },
    {
      "cell_type": "code",
      "metadata": {
        "id": "Sy2MDQhoXgwG"
      },
      "source": [
        "h3=pagina_sopa.find_all('h3')"
      ],
      "execution_count": null,
      "outputs": []
    },
    {
      "cell_type": "code",
      "metadata": {
        "colab": {
          "base_uri": "https://localhost:8080/"
        },
        "id": "OCqWbQsdXnCq",
        "outputId": "40e16452-064d-4639-848b-821044e0cc36"
      },
      "source": [
        "h3"
      ],
      "execution_count": null,
      "outputs": [
        {
          "output_type": "execute_result",
          "data": {
            "text/plain": [
              "[<h3 class=\"entry-title\"><a href=\"https://criptotendencia.com/2021/07/12/ayudamos-a-crear-bitcoin-la-nueva-revelacion-de-los-gemelos-bogdanov-2/\" rel=\"bookmark\">Ayudamos a crear Bitcoin: la nueva «revelación» de los gemelos Bogdanov</a></h3>,\n",
              " <h3 class=\"entry-title\"><a href=\"https://criptotendencia.com/2021/07/12/la-tecnologia-blockchain-puede-empoderar-financieramente-a-las-mujeres-incluso-en-un-escenario-pandemico-2/\" rel=\"bookmark\">La tecnología Blockchain puede empoderar financieramente a las mujeres incluso en un escenario pandémico</a></h3>,\n",
              " <h3 class=\"entry-title\"><a href=\"https://criptotendencia.com/2021/07/12/paraguay-podria-adoptar-bitcoin-como-moneda-de-curso-legal-2/\" rel=\"bookmark\">Paraguay podría adoptar Bitcoin como moneda de curso legal</a></h3>,\n",
              " <h3 class=\"entry-title\"><a href=\"https://criptotendencia.com/2021/07/12/ballenas-bitcoin-movilizaron-22-174-btc-la-semana-pasada-hay-tendencia-bajista-este-mes/\" rel=\"bookmark\">Ballenas Bitcoin movilizaron 22.174 BTC la semana pasada ¿Hay tendencia bajista este mes?</a></h3>,\n",
              " <h3 class=\"entry-title\"><a href=\"https://criptotendencia.com/2021/07/11/mineria-bitcoin-semana-cargada-de-noticias-positivas-y-polemicas-2/\" rel=\"bookmark\">Minería Bitcoin: semana cargada de noticias positivas y polémicas</a></h3>,\n",
              " <h3 class=\"entry-title\"><a href=\"https://criptotendencia.com/2021/07/11/bitcoin-continua-lateralizado-descubre-aqui-hacia-donde-es-probable-que-se-mueva-esta-semana-2/\" rel=\"bookmark\">Bitcoin continúa lateralizado. Descubre aquí hacia donde es probable que se mueva esta semana</a></h3>,\n",
              " <h3 class=\"entry-title\"><a href=\"https://criptotendencia.com/2021/07/11/sothebys-vende-un-diamante-en-criptomonedas-2/\" rel=\"bookmark\">Sotheby’s vende un diamante en criptomonedas</a></h3>,\n",
              " <h3 class=\"entry-title\"><a href=\"https://criptotendencia.com/2021/07/11/cofundador-de-apple-ratifico-su-apoyo-a-bitcoin-y-expreso-que-es-mejor-que-el-oro-2/\" rel=\"bookmark\">Cofundador de Apple ratificó su apoyo a Bitcoin y expresó que es mejor que el oro</a></h3>,\n",
              " <h3 class=\"entry-title\"><a href=\"https://criptotendencia.com/2021/07/11/la-oportunidad-es-hoy-con-la-tecnologia-blockchain/\" rel=\"bookmark\">¡La oportunidad es hoy con la tecnología Blockchain!</a></h3>,\n",
              " <h3 class=\"entry-title\"><a href=\"https://criptotendencia.com/2021/07/10/microsoft-usara-bitcoin-para-proteccion-de-identidad-virtual-2/\" rel=\"bookmark\">Microsoft usará Bitcoin para protección de identidad virtual</a></h3>,\n",
              " <h3 class=\"entry-title\"><a href=\"https://criptotendencia.com/2021/07/10/axs-el-token-nativo-del-juego-blockchain-axie-infinity-no-para-de-subir-que-esta-pasando/\" rel=\"bookmark\">AXS, el token nativo del juego Blockchain Axie Infinity, no para de subir. ¿Qué está pasando?</a></h3>,\n",
              " <h3 class=\"entry-title\"><a href=\"https://criptotendencia.com/2021/07/10/jpmorgan-predice-que-bitcoin-se-hundira-hasta-los-25k-2/\" rel=\"bookmark\">JPMorgan predice que Bitcoin se hundirá hasta los 25K</a></h3>,\n",
              " <h3 class=\"entry-title\"><a href=\"https://criptotendencia.com/2021/07/10/cofundador-de-apple-aseguro-que-bitcoin-es-mejor-que-el-oro-2/\" rel=\"bookmark\">Cofundador de Apple aseguró que Bitcoin es mejor que el Oro</a></h3>,\n",
              " <h3 class=\"entry-title\"><a href=\"https://criptotendencia.com/2021/07/10/mineria-de-bitcoin-consume-60-menos-energia-que-en-mayo-2/\" rel=\"bookmark\">Minería de Bitcoin consume 60% menos energía que en mayo</a></h3>,\n",
              " <h3 class=\"entry-title\"><a href=\"https://criptotendencia.com/2021/07/10/el-exchange-binance-quedo-bloqueado-en-china/\" rel=\"bookmark\">El exchange Binance quedó bloqueado en China</a></h3>,\n",
              " <h3 class=\"entry-title\"><a href=\"https://criptotendencia.com/2021/07/09/utopia-p2p-ha-desarrollado-una-solucion-de-mineria-ecologica-no-necesita-disco-duro-cpu-ni-gpu-2/\" rel=\"bookmark\">Utopia P2P ha desarrollado una solución de minería ecológica: no necesita disco duro, CPU ni GPU</a></h3>,\n",
              " <h3 class=\"entry-title\"><a href=\"https://criptotendencia.com/2021/07/09/square-creara-wallet-de-bitcoin/\" rel=\"bookmark\">Square creará wallet de Bitcoin</a></h3>,\n",
              " <h3 class=\"entry-title\"><a href=\"https://criptotendencia.com/2021/07/09/polygon-matic-resiste-la-turbulencia-hacia-donde-se-dirige/\" rel=\"bookmark\">Polygon (MATIC) resiste la turbulencia. ¿Hacia dónde se dirige?</a></h3>,\n",
              " <h3 class=\"entry-title\"><a href=\"https://criptotendencia.com/2021/07/09/bank-of-america-boa-crea-un-cripto-equipo-2/\" rel=\"bookmark\">Bank of America (BoA) crea un cripto equipo</a></h3>,\n",
              " <h3 class=\"entry-title\"><a href=\"https://criptotendencia.com/2021/07/09/banco-sygnum-se-convirtio-en-el-primer-banco-a-nivel-mundial-en-ofrecer-staking-de-eth2-2/\" rel=\"bookmark\">Banco Sygnum se convirtió en el primer banco a nivel mundial en ofrecer staking de ETH2</a></h3>,\n",
              " <h3 class=\"entry-title\"><a href=\"https://criptotendencia.com/2021/07/11/bitcoin-continua-lateralizado-descubre-aqui-hacia-donde-es-probable-que-se-mueva-esta-semana-2/\">Bitcoin continúa lateralizado. Descubre aquí hacia donde es probable que se mueva esta semana</a></h3>,\n",
              " <h3 class=\"entry-title\"><a href=\"https://criptotendencia.com/2021/07/12/ballenas-bitcoin-movilizaron-22-174-btc-la-semana-pasada-hay-tendencia-bajista-este-mes/\" rel=\"bookmark\">Ballenas Bitcoin movilizaron 22.174 BTC la semana pasada ¿Hay tendencia bajista este mes?</a></h3>,\n",
              " <h3 class=\"entry-title\"><a href=\"https://criptotendencia.com/2021/07/11/mineria-bitcoin-semana-cargada-de-noticias-positivas-y-polemicas-2/\" rel=\"bookmark\">Minería Bitcoin: semana cargada de noticias positivas y polémicas</a></h3>,\n",
              " <h3 class=\"entry-title\"><a href=\"https://criptotendencia.com/2021/07/11/sothebys-vende-un-diamante-en-criptomonedas-2/\" rel=\"bookmark\">Sotheby’s vende un diamante en criptomonedas</a></h3>,\n",
              " <h3 class=\"entry-title\"><a href=\"https://criptotendencia.com/2021/07/12/paraguay-podria-adoptar-bitcoin-como-moneda-de-curso-legal-2/\" rel=\"bookmark\">Paraguay podría adoptar Bitcoin como moneda de curso legal</a></h3>]"
            ]
          },
          "metadata": {
            "tags": []
          },
          "execution_count": 10
        }
      ]
    },
    {
      "cell_type": "markdown",
      "metadata": {
        "id": "LwpsRz4eDjTG"
      },
      "source": [
        "Luego deseamos tener acceso unicamente al hipervinculo que en este caso es \"href\"."
      ]
    },
    {
      "cell_type": "code",
      "metadata": {
        "colab": {
          "base_uri": "https://localhost:8080/",
          "height": 35
        },
        "id": "Y1jjWZOs_Akb",
        "outputId": "a3aa4f31-e24c-4549-ff04-a6210366748b"
      },
      "source": [
        "pagina_sopa.find('h3', attrs={'class':'entry-title'}).a.get('href')"
      ],
      "execution_count": null,
      "outputs": [
        {
          "output_type": "execute_result",
          "data": {
            "application/vnd.google.colaboratory.intrinsic+json": {
              "type": "string"
            },
            "text/plain": [
              "'https://criptotendencia.com/2021/07/12/ayudamos-a-crear-bitcoin-la-nueva-revelacion-de-los-gemelos-bogdanov-2/'"
            ]
          },
          "metadata": {
            "tags": []
          },
          "execution_count": 11
        }
      ]
    },
    {
      "cell_type": "code",
      "metadata": {
        "id": "r51_3TpA3HBP",
        "colab": {
          "base_uri": "https://localhost:8080/"
        },
        "outputId": "a017b747-da19-4770-b1ad-9508ab4c5238"
      },
      "source": [
        "pagina_sopa.find_all('h3', attrs={'class':'entry-title'})"
      ],
      "execution_count": null,
      "outputs": [
        {
          "output_type": "execute_result",
          "data": {
            "text/plain": [
              "[<h3 class=\"entry-title\"><a href=\"https://criptotendencia.com/2021/07/12/ayudamos-a-crear-bitcoin-la-nueva-revelacion-de-los-gemelos-bogdanov-2/\" rel=\"bookmark\">Ayudamos a crear Bitcoin: la nueva «revelación» de los gemelos Bogdanov</a></h3>,\n",
              " <h3 class=\"entry-title\"><a href=\"https://criptotendencia.com/2021/07/12/la-tecnologia-blockchain-puede-empoderar-financieramente-a-las-mujeres-incluso-en-un-escenario-pandemico-2/\" rel=\"bookmark\">La tecnología Blockchain puede empoderar financieramente a las mujeres incluso en un escenario pandémico</a></h3>,\n",
              " <h3 class=\"entry-title\"><a href=\"https://criptotendencia.com/2021/07/12/paraguay-podria-adoptar-bitcoin-como-moneda-de-curso-legal-2/\" rel=\"bookmark\">Paraguay podría adoptar Bitcoin como moneda de curso legal</a></h3>,\n",
              " <h3 class=\"entry-title\"><a href=\"https://criptotendencia.com/2021/07/12/ballenas-bitcoin-movilizaron-22-174-btc-la-semana-pasada-hay-tendencia-bajista-este-mes/\" rel=\"bookmark\">Ballenas Bitcoin movilizaron 22.174 BTC la semana pasada ¿Hay tendencia bajista este mes?</a></h3>,\n",
              " <h3 class=\"entry-title\"><a href=\"https://criptotendencia.com/2021/07/11/mineria-bitcoin-semana-cargada-de-noticias-positivas-y-polemicas-2/\" rel=\"bookmark\">Minería Bitcoin: semana cargada de noticias positivas y polémicas</a></h3>,\n",
              " <h3 class=\"entry-title\"><a href=\"https://criptotendencia.com/2021/07/11/bitcoin-continua-lateralizado-descubre-aqui-hacia-donde-es-probable-que-se-mueva-esta-semana-2/\" rel=\"bookmark\">Bitcoin continúa lateralizado. Descubre aquí hacia donde es probable que se mueva esta semana</a></h3>,\n",
              " <h3 class=\"entry-title\"><a href=\"https://criptotendencia.com/2021/07/11/sothebys-vende-un-diamante-en-criptomonedas-2/\" rel=\"bookmark\">Sotheby’s vende un diamante en criptomonedas</a></h3>,\n",
              " <h3 class=\"entry-title\"><a href=\"https://criptotendencia.com/2021/07/11/cofundador-de-apple-ratifico-su-apoyo-a-bitcoin-y-expreso-que-es-mejor-que-el-oro-2/\" rel=\"bookmark\">Cofundador de Apple ratificó su apoyo a Bitcoin y expresó que es mejor que el oro</a></h3>,\n",
              " <h3 class=\"entry-title\"><a href=\"https://criptotendencia.com/2021/07/11/la-oportunidad-es-hoy-con-la-tecnologia-blockchain/\" rel=\"bookmark\">¡La oportunidad es hoy con la tecnología Blockchain!</a></h3>,\n",
              " <h3 class=\"entry-title\"><a href=\"https://criptotendencia.com/2021/07/10/microsoft-usara-bitcoin-para-proteccion-de-identidad-virtual-2/\" rel=\"bookmark\">Microsoft usará Bitcoin para protección de identidad virtual</a></h3>,\n",
              " <h3 class=\"entry-title\"><a href=\"https://criptotendencia.com/2021/07/10/axs-el-token-nativo-del-juego-blockchain-axie-infinity-no-para-de-subir-que-esta-pasando/\" rel=\"bookmark\">AXS, el token nativo del juego Blockchain Axie Infinity, no para de subir. ¿Qué está pasando?</a></h3>,\n",
              " <h3 class=\"entry-title\"><a href=\"https://criptotendencia.com/2021/07/10/jpmorgan-predice-que-bitcoin-se-hundira-hasta-los-25k-2/\" rel=\"bookmark\">JPMorgan predice que Bitcoin se hundirá hasta los 25K</a></h3>,\n",
              " <h3 class=\"entry-title\"><a href=\"https://criptotendencia.com/2021/07/10/cofundador-de-apple-aseguro-que-bitcoin-es-mejor-que-el-oro-2/\" rel=\"bookmark\">Cofundador de Apple aseguró que Bitcoin es mejor que el Oro</a></h3>,\n",
              " <h3 class=\"entry-title\"><a href=\"https://criptotendencia.com/2021/07/10/mineria-de-bitcoin-consume-60-menos-energia-que-en-mayo-2/\" rel=\"bookmark\">Minería de Bitcoin consume 60% menos energía que en mayo</a></h3>,\n",
              " <h3 class=\"entry-title\"><a href=\"https://criptotendencia.com/2021/07/10/el-exchange-binance-quedo-bloqueado-en-china/\" rel=\"bookmark\">El exchange Binance quedó bloqueado en China</a></h3>,\n",
              " <h3 class=\"entry-title\"><a href=\"https://criptotendencia.com/2021/07/09/utopia-p2p-ha-desarrollado-una-solucion-de-mineria-ecologica-no-necesita-disco-duro-cpu-ni-gpu-2/\" rel=\"bookmark\">Utopia P2P ha desarrollado una solución de minería ecológica: no necesita disco duro, CPU ni GPU</a></h3>,\n",
              " <h3 class=\"entry-title\"><a href=\"https://criptotendencia.com/2021/07/09/square-creara-wallet-de-bitcoin/\" rel=\"bookmark\">Square creará wallet de Bitcoin</a></h3>,\n",
              " <h3 class=\"entry-title\"><a href=\"https://criptotendencia.com/2021/07/09/polygon-matic-resiste-la-turbulencia-hacia-donde-se-dirige/\" rel=\"bookmark\">Polygon (MATIC) resiste la turbulencia. ¿Hacia dónde se dirige?</a></h3>,\n",
              " <h3 class=\"entry-title\"><a href=\"https://criptotendencia.com/2021/07/09/bank-of-america-boa-crea-un-cripto-equipo-2/\" rel=\"bookmark\">Bank of America (BoA) crea un cripto equipo</a></h3>,\n",
              " <h3 class=\"entry-title\"><a href=\"https://criptotendencia.com/2021/07/09/banco-sygnum-se-convirtio-en-el-primer-banco-a-nivel-mundial-en-ofrecer-staking-de-eth2-2/\" rel=\"bookmark\">Banco Sygnum se convirtió en el primer banco a nivel mundial en ofrecer staking de ETH2</a></h3>,\n",
              " <h3 class=\"entry-title\"><a href=\"https://criptotendencia.com/2021/07/11/bitcoin-continua-lateralizado-descubre-aqui-hacia-donde-es-probable-que-se-mueva-esta-semana-2/\">Bitcoin continúa lateralizado. Descubre aquí hacia donde es probable que se mueva esta semana</a></h3>,\n",
              " <h3 class=\"entry-title\"><a href=\"https://criptotendencia.com/2021/07/12/ballenas-bitcoin-movilizaron-22-174-btc-la-semana-pasada-hay-tendencia-bajista-este-mes/\" rel=\"bookmark\">Ballenas Bitcoin movilizaron 22.174 BTC la semana pasada ¿Hay tendencia bajista este mes?</a></h3>,\n",
              " <h3 class=\"entry-title\"><a href=\"https://criptotendencia.com/2021/07/11/mineria-bitcoin-semana-cargada-de-noticias-positivas-y-polemicas-2/\" rel=\"bookmark\">Minería Bitcoin: semana cargada de noticias positivas y polémicas</a></h3>,\n",
              " <h3 class=\"entry-title\"><a href=\"https://criptotendencia.com/2021/07/11/sothebys-vende-un-diamante-en-criptomonedas-2/\" rel=\"bookmark\">Sotheby’s vende un diamante en criptomonedas</a></h3>,\n",
              " <h3 class=\"entry-title\"><a href=\"https://criptotendencia.com/2021/07/12/paraguay-podria-adoptar-bitcoin-como-moneda-de-curso-legal-2/\" rel=\"bookmark\">Paraguay podría adoptar Bitcoin como moneda de curso legal</a></h3>]"
            ]
          },
          "metadata": {
            "tags": []
          },
          "execution_count": 12
        }
      ]
    },
    {
      "cell_type": "code",
      "metadata": {
        "id": "AWzjTBgCDOHH"
      },
      "source": [
        "noti_cripto = pagina_sopa.find_all('h3', attrs={'class':'entry-title'})"
      ],
      "execution_count": null,
      "outputs": []
    },
    {
      "cell_type": "markdown",
      "metadata": {
        "id": "J9sleCEMEWxR"
      },
      "source": [
        "Ya accedimos a la pagina principal, ahi encontramos las ultimas noticias luego ingresamos al hipervinculo de cada noticia, es decir nos adentramos a la pagina de la ultima noticia y ahi obtendremos la información que deseamos que este caso es el titulo y un breve resumen de la noticia. "
      ]
    },
    {
      "cell_type": "code",
      "metadata": {
        "id": "CjoAuV3s3kLs"
      },
      "source": [
        "import datetime\n",
        "datos = {'Titulo':[],'texto':[]}\n",
        "for articulo in noti_cripto:\n",
        "  pag_art = rq.get(articulo.a.get('href'))\n",
        "  pag_art_sopa = BeautifulSoup(pag_art.text, 'lxml') #sopa de la nueva página\n",
        "  datos['Titulo'].append(pag_art_sopa.find('h1', attrs={'class':'entry-title'}).text) \n",
        "  datos['texto'].append(pag_art_sopa.find('div', attrs={'class':'entry-excerpt'}).find_all('p')[0 ].text)\n",
        " "
      ],
      "execution_count": null,
      "outputs": []
    },
    {
      "cell_type": "code",
      "metadata": {
        "colab": {
          "base_uri": "https://localhost:8080/"
        },
        "id": "NBT6WY9MLChH",
        "outputId": "fbea37b1-3cb7-46b3-c096-74d75d967ad6"
      },
      "source": [
        "datos"
      ],
      "execution_count": null,
      "outputs": [
        {
          "output_type": "execute_result",
          "data": {
            "text/plain": [
              "{'Titulo': ['Ayudamos a crear Bitcoin: la nueva «revelación» de los gemelos Bogdanov',\n",
              "  'La tecnología Blockchain puede empoderar financieramente a las mujeres incluso en un escenario pandémico',\n",
              "  'Paraguay podría adoptar Bitcoin como moneda de curso legal',\n",
              "  'Ballenas Bitcoin movilizaron 22.174 BTC la semana pasada ¿Hay tendencia bajista este mes?',\n",
              "  'Minería Bitcoin: semana cargada de noticias positivas y polémicas',\n",
              "  'Bitcoin continúa lateralizado. Descubre aquí hacia donde es probable que se mueva esta semana',\n",
              "  'Sotheby’s vende un diamante en criptomonedas',\n",
              "  'Cofundador de Apple ratificó su apoyo a Bitcoin y expresó que es mejor que el oro',\n",
              "  '¡La oportunidad es hoy con la tecnología Blockchain!',\n",
              "  'Microsoft usará Bitcoin para protección de identidad virtual',\n",
              "  'AXS, el token nativo del juego Blockchain Axie Infinity, no para de subir. ¿Qué está pasando?',\n",
              "  'JPMorgan predice que Bitcoin se hundirá hasta los 25K',\n",
              "  'Cofundador de Apple aseguró que Bitcoin es mejor que el Oro',\n",
              "  'Minería de Bitcoin consume 60% menos energía que en mayo',\n",
              "  'El exchange Binance quedó bloqueado en China',\n",
              "  'Utopia P2P ha desarrollado una solución de minería ecológica: no necesita disco duro, CPU ni GPU',\n",
              "  'Square creará wallet de Bitcoin',\n",
              "  'Polygon (MATIC) resiste la turbulencia. ¿Hacia dónde se dirige?',\n",
              "  'Bank of America (BoA) crea un cripto equipo',\n",
              "  'Banco Sygnum se convirtió en el primer banco a nivel mundial en ofrecer staking de ETH2',\n",
              "  'Bitcoin continúa lateralizado. Descubre aquí hacia donde es probable que se mueva esta semana',\n",
              "  'Ballenas Bitcoin movilizaron 22.174 BTC la semana pasada ¿Hay tendencia bajista este mes?',\n",
              "  'Minería Bitcoin: semana cargada de noticias positivas y polémicas',\n",
              "  'Sotheby’s vende un diamante en criptomonedas',\n",
              "  'Paraguay podría adoptar Bitcoin como moneda de curso legal'],\n",
              " 'texto': ['Los gemelos Bogdanov, populares por un meme de manipulación de precio, aseguran que ayudaron a Satoshi Nakamoto a crear Bitcoin. ',\n",
              "  'En un mundo tan cambiante, ahora es posible que gracias a la tecnología Blockchain mujeres puedan lograr su libertad financiera.',\n",
              "  'Paraguay podría estar iniciando su camino a la adopción definitiva de criptomonedas en los próximos días. Entérate en el tweet del día.',\n",
              "  'Las Ballenas Bitcoin movilizaron 22.174 BTC la semana pasada, pero, ¿esto quiere decir de alguna forma que hay tendencia bajista este mes? Veamos.',\n",
              "  'En esta edición del resumen semanal, se presentan las noticias relacionadas con la minería de Bitcoin más destacadas y cargadas de polémica.',\n",
              "  'El precio del Bitcoin continúa lateralizado, envuelto en un comportamiento muy poco volátil. Acá un análisis de la situación actual. ',\n",
              "  'La casa de subasta Sotheby’s vende un diamante de más de 100 quilates por $ 12,3 millones en criptomonedas ¡Te contamos los detalles!',\n",
              "  'Steve Wozniak cofundador de Apple ha ratificado su respaldo a Bitcoin y ha dicho que la criptomoneda es mejor que el oro. ',\n",
              "  'La tecnología Blockchain tiene que ser una de las mayores innovaciones del siglo XXI, dado el efecto que está teniendo en varios sectores.',\n",
              "  'Microsoft, usará la red Blockchain de Bitcoin para crear un sistema de protección de identidad y privacidad de datos personales.',\n",
              "  'El token AXS, perteneciente al juego Axie Infinity, acaba de marcar nuevos máximos históricos. Descubre aquí hacia dónde se dirige. ',\n",
              "  'El gigante financiero JPMorgan, predice que el precio de Bitcoin caerá hasta los $25.000 tras los desbloqueos de Grayscale. ',\n",
              "  'Durante un importante evento tecnológico en México, Steve Wozniak, cofundador de Apple aseguró que Bitcoin es mejor que el oro. ',\n",
              "  'En un 60% ha disminuido la cantidad de energía que consume la minería de Bitcoin. Esto en comparación con su pico histórico del mes de mayo. ',\n",
              "  'Según Colin Wu, China bloqueó el acceso del exchange Binance, ¿cuál será el próximo paso? ¡Te contamos todos los detalles!',\n",
              "  'Utopia P2P ha anunciado el desarrollo de una opción de minería más ecológica: la minería de CRP. ¿De qué se trata? Entérate aquí.',\n",
              "  'La firma Square, radicada en San Francisco, anunció recientemente que creará un servicio de wallet sin custodia para almacenar Bitcoin.',\n",
              "  'La criptomoneda MATIC, nativa de la red Polygon, intenta no generar demasiada negatividad a pesar de la caída generalizada en el mercado.',\n",
              "  'Según Bloomberg, Bank of America (BoA) crea un equipo dedicado a investigar las criptomonedas ¡Te contamos algunos de los detalles!',\n",
              "  'A través de un comunicado, el banco suizo de activos digitales Sygnum anunció que ahora ofrece participación en ETH 2.0 en su plataforma.',\n",
              "  'El precio del Bitcoin continúa lateralizado, envuelto en un comportamiento muy poco volátil. Acá un análisis de la situación actual. ',\n",
              "  'Las Ballenas Bitcoin movilizaron 22.174 BTC la semana pasada, pero, ¿esto quiere decir de alguna forma que hay tendencia bajista este mes? Veamos.',\n",
              "  'En esta edición del resumen semanal, se presentan las noticias relacionadas con la minería de Bitcoin más destacadas y cargadas de polémica.',\n",
              "  'La casa de subasta Sotheby’s vende un diamante de más de 100 quilates por $ 12,3 millones en criptomonedas ¡Te contamos los detalles!',\n",
              "  'Paraguay podría estar iniciando su camino a la adopción definitiva de criptomonedas en los próximos días. Entérate en el tweet del día.']}"
            ]
          },
          "metadata": {
            "tags": []
          },
          "execution_count": 33
        }
      ]
    },
    {
      "cell_type": "markdown",
      "metadata": {
        "id": "z5dnrAXEE5Y9"
      },
      "source": [
        "Ya podemos ver que tenemos la información deseada de cada noticia, es decir su titulo y un breve resumen de la noticia, sin embargo importaremos la libreria de pandas para poder crear un dataframe con el cual podamos tener una mejor visualización de los datos. "
      ]
    },
    {
      "cell_type": "code",
      "metadata": {
        "id": "AgE89pft8PPT"
      },
      "source": [
        "import pandas as pd\n"
      ],
      "execution_count": null,
      "outputs": []
    },
    {
      "cell_type": "code",
      "metadata": {
        "colab": {
          "base_uri": "https://localhost:8080/",
          "height": 824
        },
        "id": "zFrFD3rJNMMu",
        "outputId": "11244703-b55c-4529-ce5f-8f1692fb9fed"
      },
      "source": [
        "data_texto=pd.DataFrame(datos)\n",
        "data_texto"
      ],
      "execution_count": null,
      "outputs": [
        {
          "output_type": "execute_result",
          "data": {
            "text/html": [
              "<div>\n",
              "<style scoped>\n",
              "    .dataframe tbody tr th:only-of-type {\n",
              "        vertical-align: middle;\n",
              "    }\n",
              "\n",
              "    .dataframe tbody tr th {\n",
              "        vertical-align: top;\n",
              "    }\n",
              "\n",
              "    .dataframe thead th {\n",
              "        text-align: right;\n",
              "    }\n",
              "</style>\n",
              "<table border=\"1\" class=\"dataframe\">\n",
              "  <thead>\n",
              "    <tr style=\"text-align: right;\">\n",
              "      <th></th>\n",
              "      <th>Titulo</th>\n",
              "      <th>texto</th>\n",
              "    </tr>\n",
              "  </thead>\n",
              "  <tbody>\n",
              "    <tr>\n",
              "      <th>0</th>\n",
              "      <td>Ayudamos a crear Bitcoin: la nueva «revelación...</td>\n",
              "      <td>Los gemelos Bogdanov, populares por un meme de...</td>\n",
              "    </tr>\n",
              "    <tr>\n",
              "      <th>1</th>\n",
              "      <td>La tecnología Blockchain puede empoderar finan...</td>\n",
              "      <td>En un mundo tan cambiante, ahora es posible qu...</td>\n",
              "    </tr>\n",
              "    <tr>\n",
              "      <th>2</th>\n",
              "      <td>Paraguay podría adoptar Bitcoin como moneda de...</td>\n",
              "      <td>Paraguay podría estar iniciando su camino a la...</td>\n",
              "    </tr>\n",
              "    <tr>\n",
              "      <th>3</th>\n",
              "      <td>Ballenas Bitcoin movilizaron 22.174 BTC la sem...</td>\n",
              "      <td>Las Ballenas Bitcoin movilizaron 22.174 BTC la...</td>\n",
              "    </tr>\n",
              "    <tr>\n",
              "      <th>4</th>\n",
              "      <td>Minería Bitcoin: semana cargada de noticias po...</td>\n",
              "      <td>En esta edición del resumen semanal, se presen...</td>\n",
              "    </tr>\n",
              "    <tr>\n",
              "      <th>5</th>\n",
              "      <td>Bitcoin continúa lateralizado. Descubre aquí h...</td>\n",
              "      <td>El precio del Bitcoin continúa lateralizado, e...</td>\n",
              "    </tr>\n",
              "    <tr>\n",
              "      <th>6</th>\n",
              "      <td>Sotheby’s vende un diamante en criptomonedas</td>\n",
              "      <td>La casa de subasta Sotheby’s vende un diamante...</td>\n",
              "    </tr>\n",
              "    <tr>\n",
              "      <th>7</th>\n",
              "      <td>Cofundador de Apple ratificó su apoyo a Bitcoi...</td>\n",
              "      <td>Steve Wozniak cofundador de Apple ha ratificad...</td>\n",
              "    </tr>\n",
              "    <tr>\n",
              "      <th>8</th>\n",
              "      <td>¡La oportunidad es hoy con la tecnología Block...</td>\n",
              "      <td>La tecnología Blockchain tiene que ser una de ...</td>\n",
              "    </tr>\n",
              "    <tr>\n",
              "      <th>9</th>\n",
              "      <td>Microsoft usará Bitcoin para protección de ide...</td>\n",
              "      <td>Microsoft, usará la red Blockchain de Bitcoin ...</td>\n",
              "    </tr>\n",
              "    <tr>\n",
              "      <th>10</th>\n",
              "      <td>AXS, el token nativo del juego Blockchain Axie...</td>\n",
              "      <td>El token AXS, perteneciente al juego Axie Infi...</td>\n",
              "    </tr>\n",
              "    <tr>\n",
              "      <th>11</th>\n",
              "      <td>JPMorgan predice que Bitcoin se hundirá hasta ...</td>\n",
              "      <td>El gigante financiero JPMorgan, predice que el...</td>\n",
              "    </tr>\n",
              "    <tr>\n",
              "      <th>12</th>\n",
              "      <td>Cofundador de Apple aseguró que Bitcoin es mej...</td>\n",
              "      <td>Durante un importante evento tecnológico en Mé...</td>\n",
              "    </tr>\n",
              "    <tr>\n",
              "      <th>13</th>\n",
              "      <td>Minería de Bitcoin consume 60% menos energía q...</td>\n",
              "      <td>En un 60% ha disminuido la cantidad de energía...</td>\n",
              "    </tr>\n",
              "    <tr>\n",
              "      <th>14</th>\n",
              "      <td>El exchange Binance quedó bloqueado en China</td>\n",
              "      <td>Según Colin Wu, China bloqueó el acceso del ex...</td>\n",
              "    </tr>\n",
              "    <tr>\n",
              "      <th>15</th>\n",
              "      <td>Utopia P2P ha desarrollado una solución de min...</td>\n",
              "      <td>Utopia P2P ha anunciado el desarrollo de una o...</td>\n",
              "    </tr>\n",
              "    <tr>\n",
              "      <th>16</th>\n",
              "      <td>Square creará wallet de Bitcoin</td>\n",
              "      <td>La firma Square, radicada en San Francisco, an...</td>\n",
              "    </tr>\n",
              "    <tr>\n",
              "      <th>17</th>\n",
              "      <td>Polygon (MATIC) resiste la turbulencia. ¿Hacia...</td>\n",
              "      <td>La criptomoneda MATIC, nativa de la red Polygo...</td>\n",
              "    </tr>\n",
              "    <tr>\n",
              "      <th>18</th>\n",
              "      <td>Bank of America (BoA) crea un cripto equipo</td>\n",
              "      <td>Según Bloomberg, Bank of America (BoA) crea un...</td>\n",
              "    </tr>\n",
              "    <tr>\n",
              "      <th>19</th>\n",
              "      <td>Banco Sygnum se convirtió en el primer banco a...</td>\n",
              "      <td>A través de un comunicado, el banco suizo de a...</td>\n",
              "    </tr>\n",
              "    <tr>\n",
              "      <th>20</th>\n",
              "      <td>Bitcoin continúa lateralizado. Descubre aquí h...</td>\n",
              "      <td>El precio del Bitcoin continúa lateralizado, e...</td>\n",
              "    </tr>\n",
              "    <tr>\n",
              "      <th>21</th>\n",
              "      <td>Ballenas Bitcoin movilizaron 22.174 BTC la sem...</td>\n",
              "      <td>Las Ballenas Bitcoin movilizaron 22.174 BTC la...</td>\n",
              "    </tr>\n",
              "    <tr>\n",
              "      <th>22</th>\n",
              "      <td>Minería Bitcoin: semana cargada de noticias po...</td>\n",
              "      <td>En esta edición del resumen semanal, se presen...</td>\n",
              "    </tr>\n",
              "    <tr>\n",
              "      <th>23</th>\n",
              "      <td>Sotheby’s vende un diamante en criptomonedas</td>\n",
              "      <td>La casa de subasta Sotheby’s vende un diamante...</td>\n",
              "    </tr>\n",
              "    <tr>\n",
              "      <th>24</th>\n",
              "      <td>Paraguay podría adoptar Bitcoin como moneda de...</td>\n",
              "      <td>Paraguay podría estar iniciando su camino a la...</td>\n",
              "    </tr>\n",
              "  </tbody>\n",
              "</table>\n",
              "</div>"
            ],
            "text/plain": [
              "                                               Titulo                                              texto\n",
              "0   Ayudamos a crear Bitcoin: la nueva «revelación...  Los gemelos Bogdanov, populares por un meme de...\n",
              "1   La tecnología Blockchain puede empoderar finan...  En un mundo tan cambiante, ahora es posible qu...\n",
              "2   Paraguay podría adoptar Bitcoin como moneda de...  Paraguay podría estar iniciando su camino a la...\n",
              "3   Ballenas Bitcoin movilizaron 22.174 BTC la sem...  Las Ballenas Bitcoin movilizaron 22.174 BTC la...\n",
              "4   Minería Bitcoin: semana cargada de noticias po...  En esta edición del resumen semanal, se presen...\n",
              "5   Bitcoin continúa lateralizado. Descubre aquí h...  El precio del Bitcoin continúa lateralizado, e...\n",
              "6        Sotheby’s vende un diamante en criptomonedas  La casa de subasta Sotheby’s vende un diamante...\n",
              "7   Cofundador de Apple ratificó su apoyo a Bitcoi...  Steve Wozniak cofundador de Apple ha ratificad...\n",
              "8   ¡La oportunidad es hoy con la tecnología Block...  La tecnología Blockchain tiene que ser una de ...\n",
              "9   Microsoft usará Bitcoin para protección de ide...  Microsoft, usará la red Blockchain de Bitcoin ...\n",
              "10  AXS, el token nativo del juego Blockchain Axie...  El token AXS, perteneciente al juego Axie Infi...\n",
              "11  JPMorgan predice que Bitcoin se hundirá hasta ...  El gigante financiero JPMorgan, predice que el...\n",
              "12  Cofundador de Apple aseguró que Bitcoin es mej...  Durante un importante evento tecnológico en Mé...\n",
              "13  Minería de Bitcoin consume 60% menos energía q...  En un 60% ha disminuido la cantidad de energía...\n",
              "14       El exchange Binance quedó bloqueado en China  Según Colin Wu, China bloqueó el acceso del ex...\n",
              "15  Utopia P2P ha desarrollado una solución de min...  Utopia P2P ha anunciado el desarrollo de una o...\n",
              "16                    Square creará wallet de Bitcoin  La firma Square, radicada en San Francisco, an...\n",
              "17  Polygon (MATIC) resiste la turbulencia. ¿Hacia...  La criptomoneda MATIC, nativa de la red Polygo...\n",
              "18        Bank of America (BoA) crea un cripto equipo  Según Bloomberg, Bank of America (BoA) crea un...\n",
              "19  Banco Sygnum se convirtió en el primer banco a...  A través de un comunicado, el banco suizo de a...\n",
              "20  Bitcoin continúa lateralizado. Descubre aquí h...  El precio del Bitcoin continúa lateralizado, e...\n",
              "21  Ballenas Bitcoin movilizaron 22.174 BTC la sem...  Las Ballenas Bitcoin movilizaron 22.174 BTC la...\n",
              "22  Minería Bitcoin: semana cargada de noticias po...  En esta edición del resumen semanal, se presen...\n",
              "23       Sotheby’s vende un diamante en criptomonedas  La casa de subasta Sotheby’s vende un diamante...\n",
              "24  Paraguay podría adoptar Bitcoin como moneda de...  Paraguay podría estar iniciando su camino a la..."
            ]
          },
          "metadata": {
            "tags": []
          },
          "execution_count": 34
        }
      ]
    },
    {
      "cell_type": "markdown",
      "metadata": {
        "id": "zmqD2hykGzrG"
      },
      "source": [
        "Luego de eso procederemos a guardar nuestro dataframe en un archivo csv para poder utilizarlos mas adelante y realizar el procesamiento de lenguaje natural con nuestros datos y el procesamiento de texto. "
      ]
    },
    {
      "cell_type": "markdown",
      "metadata": {
        "id": "s4EHw671qAPh"
      },
      "source": [
        "## Analisis texto."
      ]
    },
    {
      "cell_type": "code",
      "metadata": {
        "id": "SSe7wtxiNRsz"
      },
      "source": [
        "data_texto.to_csv('data_texto.csv')"
      ],
      "execution_count": null,
      "outputs": []
    },
    {
      "cell_type": "code",
      "metadata": {
        "id": "KuZY_Or7GkuH"
      },
      "source": [
        "df = pd.read_csv('/content/data_texto.csv')"
      ],
      "execution_count": null,
      "outputs": []
    },
    {
      "cell_type": "code",
      "metadata": {
        "colab": {
          "base_uri": "https://localhost:8080/"
        },
        "id": "yoBiURmIINWn",
        "outputId": "c55f8cdb-1724-4374-cd16-aef6a8e5fc9d"
      },
      "source": [
        "df.info()"
      ],
      "execution_count": null,
      "outputs": [
        {
          "output_type": "stream",
          "text": [
            "<class 'pandas.core.frame.DataFrame'>\n",
            "RangeIndex: 25 entries, 0 to 24\n",
            "Data columns (total 3 columns):\n",
            " #   Column      Non-Null Count  Dtype \n",
            "---  ------      --------------  ----- \n",
            " 0   Unnamed: 0  25 non-null     int64 \n",
            " 1   Titulo      25 non-null     object\n",
            " 2   texto       25 non-null     object\n",
            "dtypes: int64(1), object(2)\n",
            "memory usage: 728.0+ bytes\n"
          ],
          "name": "stdout"
        }
      ]
    },
    {
      "cell_type": "code",
      "metadata": {
        "colab": {
          "base_uri": "https://localhost:8080/",
          "height": 204
        },
        "id": "H2kVCLpnIPMP",
        "outputId": "c294e2db-e517-461e-9c41-6fdbbebedf1b"
      },
      "source": [
        "df.head()"
      ],
      "execution_count": null,
      "outputs": [
        {
          "output_type": "execute_result",
          "data": {
            "text/html": [
              "<div>\n",
              "<style scoped>\n",
              "    .dataframe tbody tr th:only-of-type {\n",
              "        vertical-align: middle;\n",
              "    }\n",
              "\n",
              "    .dataframe tbody tr th {\n",
              "        vertical-align: top;\n",
              "    }\n",
              "\n",
              "    .dataframe thead th {\n",
              "        text-align: right;\n",
              "    }\n",
              "</style>\n",
              "<table border=\"1\" class=\"dataframe\">\n",
              "  <thead>\n",
              "    <tr style=\"text-align: right;\">\n",
              "      <th></th>\n",
              "      <th>Unnamed: 0</th>\n",
              "      <th>Titulo</th>\n",
              "      <th>texto</th>\n",
              "    </tr>\n",
              "  </thead>\n",
              "  <tbody>\n",
              "    <tr>\n",
              "      <th>0</th>\n",
              "      <td>0</td>\n",
              "      <td>Ayudamos a crear Bitcoin: la nueva «revelación...</td>\n",
              "      <td>Los gemelos Bogdanov, populares por un meme de...</td>\n",
              "    </tr>\n",
              "    <tr>\n",
              "      <th>1</th>\n",
              "      <td>1</td>\n",
              "      <td>La tecnología Blockchain puede empoderar finan...</td>\n",
              "      <td>En un mundo tan cambiante, ahora es posible qu...</td>\n",
              "    </tr>\n",
              "    <tr>\n",
              "      <th>2</th>\n",
              "      <td>2</td>\n",
              "      <td>Paraguay podría adoptar Bitcoin como moneda de...</td>\n",
              "      <td>Paraguay podría estar iniciando su camino a la...</td>\n",
              "    </tr>\n",
              "    <tr>\n",
              "      <th>3</th>\n",
              "      <td>3</td>\n",
              "      <td>Ballenas Bitcoin movilizaron 22.174 BTC la sem...</td>\n",
              "      <td>Las Ballenas Bitcoin movilizaron 22.174 BTC la...</td>\n",
              "    </tr>\n",
              "    <tr>\n",
              "      <th>4</th>\n",
              "      <td>4</td>\n",
              "      <td>Minería Bitcoin: semana cargada de noticias po...</td>\n",
              "      <td>En esta edición del resumen semanal, se presen...</td>\n",
              "    </tr>\n",
              "  </tbody>\n",
              "</table>\n",
              "</div>"
            ],
            "text/plain": [
              "   Unnamed: 0  ...                                              texto\n",
              "0           0  ...  Los gemelos Bogdanov, populares por un meme de...\n",
              "1           1  ...  En un mundo tan cambiante, ahora es posible qu...\n",
              "2           2  ...  Paraguay podría estar iniciando su camino a la...\n",
              "3           3  ...  Las Ballenas Bitcoin movilizaron 22.174 BTC la...\n",
              "4           4  ...  En esta edición del resumen semanal, se presen...\n",
              "\n",
              "[5 rows x 3 columns]"
            ]
          },
          "metadata": {
            "tags": []
          },
          "execution_count": 39
        }
      ]
    },
    {
      "cell_type": "markdown",
      "metadata": {
        "id": "UJS4CIOrIqmg"
      },
      "source": [
        "Para el ejercicio que realizaremos nos enfocaremos unicamente en la variable texto el cual es un breve resumen de la noticia del momento. "
      ]
    },
    {
      "cell_type": "code",
      "metadata": {
        "colab": {
          "base_uri": "https://localhost:8080/"
        },
        "id": "BI7MvN2IIaej",
        "outputId": "f5872ae0-8549-43dc-9b43-a70709388e24"
      },
      "source": [
        "df['texto'].head()"
      ],
      "execution_count": null,
      "outputs": [
        {
          "output_type": "execute_result",
          "data": {
            "text/plain": [
              "0    Los gemelos Bogdanov, populares por un meme de...\n",
              "1    En un mundo tan cambiante, ahora es posible qu...\n",
              "2    Paraguay podría estar iniciando su camino a la...\n",
              "3    Las Ballenas Bitcoin movilizaron 22.174 BTC la...\n",
              "4    En esta edición del resumen semanal, se presen...\n",
              "Name: texto, dtype: object"
            ]
          },
          "metadata": {
            "tags": []
          },
          "execution_count": 40
        }
      ]
    },
    {
      "cell_type": "markdown",
      "metadata": {
        "id": "kZUmT9tQpLBQ"
      },
      "source": [
        "Escojeremos el breve resumen de una noticia aleatoria para poder realizar una breve explicación de los metodos utilizados "
      ]
    },
    {
      "cell_type": "code",
      "metadata": {
        "id": "Skv29yjpI1qE"
      },
      "source": [
        "noti_aleaotoria = df['texto'][7]"
      ],
      "execution_count": null,
      "outputs": []
    },
    {
      "cell_type": "code",
      "metadata": {
        "colab": {
          "base_uri": "https://localhost:8080/",
          "height": 52
        },
        "id": "TIIu9AQaJDAn",
        "outputId": "4694e302-4baf-4fe5-d033-70931f0e7f44"
      },
      "source": [
        "noti_aleaotoria"
      ],
      "execution_count": null,
      "outputs": [
        {
          "output_type": "execute_result",
          "data": {
            "application/vnd.google.colaboratory.intrinsic+json": {
              "type": "string"
            },
            "text/plain": [
              "'Steve Wozniak cofundador de Apple ha ratificado su respaldo a Bitcoin y ha dicho que la criptomoneda es mejor que el oro. '"
            ]
          },
          "metadata": {
            "tags": []
          },
          "execution_count": 46
        }
      ]
    },
    {
      "cell_type": "markdown",
      "metadata": {
        "id": "FO4_3zQ2Onl0"
      },
      "source": [
        "Empezaremos haciendo un lower de nuestra noticia aleatoria el cual es una breve introducción a la noticia en desarrollo, aqui eliminaremos las mayusculas y dejaremos mas limpio nuestro breve texto."
      ]
    },
    {
      "cell_type": "code",
      "metadata": {
        "colab": {
          "base_uri": "https://localhost:8080/",
          "height": 52
        },
        "id": "NJWSL2L9JEvX",
        "outputId": "ebb79ee7-ef09-4cab-ff7c-a512ed3b9e18"
      },
      "source": [
        "noti_lower = noti_aleaotoria.lower()\n",
        "noti_lower"
      ],
      "execution_count": null,
      "outputs": [
        {
          "output_type": "execute_result",
          "data": {
            "application/vnd.google.colaboratory.intrinsic+json": {
              "type": "string"
            },
            "text/plain": [
              "'steve wozniak cofundador de apple ha ratificado su respaldo a bitcoin y ha dicho que la criptomoneda es mejor que el oro. '"
            ]
          },
          "metadata": {
            "tags": []
          },
          "execution_count": 47
        }
      ]
    },
    {
      "cell_type": "markdown",
      "metadata": {
        "id": "Gkaz-EVxQCla"
      },
      "source": [
        "Luego del lower generaremos la tokenización del texto importanto la libreria de nltk la cual nos da recursos para generar dicha tokenización. "
      ]
    },
    {
      "cell_type": "code",
      "metadata": {
        "colab": {
          "base_uri": "https://localhost:8080/"
        },
        "id": "2tHNj_NxOg4u",
        "outputId": "93375011-7a38-4377-ddf7-c571894be4d0"
      },
      "source": [
        "import nltk\n",
        "from nltk.tokenize import word_tokenize\n",
        "nltk.download('punkt')\n",
        "noti_token = word_tokenize(noti_lower)\n",
        "noti_token"
      ],
      "execution_count": null,
      "outputs": [
        {
          "output_type": "stream",
          "text": [
            "[nltk_data] Downloading package punkt to /root/nltk_data...\n",
            "[nltk_data]   Package punkt is already up-to-date!\n"
          ],
          "name": "stdout"
        },
        {
          "output_type": "execute_result",
          "data": {
            "text/plain": [
              "['steve',\n",
              " 'wozniak',\n",
              " 'cofundador',\n",
              " 'de',\n",
              " 'apple',\n",
              " 'ha',\n",
              " 'ratificado',\n",
              " 'su',\n",
              " 'respaldo',\n",
              " 'a',\n",
              " 'bitcoin',\n",
              " 'y',\n",
              " 'ha',\n",
              " 'dicho',\n",
              " 'que',\n",
              " 'la',\n",
              " 'criptomoneda',\n",
              " 'es',\n",
              " 'mejor',\n",
              " 'que',\n",
              " 'el',\n",
              " 'oro',\n",
              " '.']"
            ]
          },
          "metadata": {
            "tags": []
          },
          "execution_count": 54
        }
      ]
    },
    {
      "cell_type": "markdown",
      "metadata": {
        "id": "MnrFiFGsQmi4"
      },
      "source": [
        "Luego de eso continuaremos el Stopwords, esto nos sirve para desasernos de las palabras que no nos ofrecen una información valiosa continuamos usando la libreria de nltk."
      ]
    },
    {
      "cell_type": "code",
      "metadata": {
        "colab": {
          "base_uri": "https://localhost:8080/"
        },
        "id": "OXb-j3aYPgoh",
        "outputId": "a559babd-315d-440d-9390-4abf639c1efa"
      },
      "source": [
        "from nltk.corpus import stopwords\n",
        "nltk.download ('stopwords')\n",
        "stoplist = stopwords.words ('spanish')"
      ],
      "execution_count": null,
      "outputs": [
        {
          "output_type": "stream",
          "text": [
            "[nltk_data] Downloading package stopwords to /root/nltk_data...\n",
            "[nltk_data]   Unzipping corpora/stopwords.zip.\n"
          ],
          "name": "stdout"
        }
      ]
    },
    {
      "cell_type": "code",
      "metadata": {
        "id": "t61HP2xbRKMZ"
      },
      "source": [
        "noti_stop = [palabra for palabra in noti_token if palabra not in stoplist]"
      ],
      "execution_count": null,
      "outputs": []
    },
    {
      "cell_type": "code",
      "metadata": {
        "colab": {
          "base_uri": "https://localhost:8080/"
        },
        "id": "CZZwKgfyR2-s",
        "outputId": "896b2bde-7085-484d-f751-36455938ce2a"
      },
      "source": [
        "noti_stop"
      ],
      "execution_count": null,
      "outputs": [
        {
          "output_type": "execute_result",
          "data": {
            "text/plain": [
              "['steve',\n",
              " 'wozniak',\n",
              " 'cofundador',\n",
              " 'apple',\n",
              " 'ratificado',\n",
              " 'respaldo',\n",
              " 'bitcoin',\n",
              " 'dicho',\n",
              " 'criptomoneda',\n",
              " 'mejor',\n",
              " 'oro',\n",
              " '.']"
            ]
          },
          "metadata": {
            "tags": []
          },
          "execution_count": 56
        }
      ]
    },
    {
      "cell_type": "markdown",
      "metadata": {
        "id": "qO0t6TCfpqaR"
      },
      "source": [
        "## Stanza"
      ]
    },
    {
      "cell_type": "markdown",
      "metadata": {
        "id": "gbF5BDaIpt4J"
      },
      "source": [
        "Ahora para la continuación de nuestro trabajo utilizaremos la libreria de Stanza y utilizaremos el lemmatizador que nos ofrece esta libreria."
      ]
    },
    {
      "cell_type": "code",
      "metadata": {
        "colab": {
          "base_uri": "https://localhost:8080/"
        },
        "id": "ekuBbeTTR5Aq",
        "outputId": "da2df559-b6fa-4547-e73e-d1dc25a7fa57"
      },
      "source": [
        "pip install stanza"
      ],
      "execution_count": null,
      "outputs": [
        {
          "output_type": "stream",
          "text": [
            "Collecting stanza\n",
            "\u001b[?25l  Downloading https://files.pythonhosted.org/packages/2d/f3/cd7eaacabcec195a1c6c07b08cf1587b9f3f8754feba5c87d28867d75671/stanza-1.2.1-py3-none-any.whl (334kB)\n",
            "\u001b[K     |████████████████████████████████| 337kB 3.9MB/s \n",
            "\u001b[?25hRequirement already satisfied: torch>=1.3.0 in /usr/local/lib/python3.7/dist-packages (from stanza) (1.9.0+cu102)\n",
            "Requirement already satisfied: tqdm in /usr/local/lib/python3.7/dist-packages (from stanza) (4.41.1)\n",
            "Requirement already satisfied: protobuf in /usr/local/lib/python3.7/dist-packages (from stanza) (3.17.3)\n",
            "Requirement already satisfied: numpy in /usr/local/lib/python3.7/dist-packages (from stanza) (1.19.5)\n",
            "Requirement already satisfied: requests in /usr/local/lib/python3.7/dist-packages (from stanza) (2.23.0)\n",
            "Requirement already satisfied: typing-extensions in /usr/local/lib/python3.7/dist-packages (from torch>=1.3.0->stanza) (3.7.4.3)\n",
            "Requirement already satisfied: six>=1.9 in /usr/local/lib/python3.7/dist-packages (from protobuf->stanza) (1.15.0)\n",
            "Requirement already satisfied: urllib3!=1.25.0,!=1.25.1,<1.26,>=1.21.1 in /usr/local/lib/python3.7/dist-packages (from requests->stanza) (1.24.3)\n",
            "Requirement already satisfied: certifi>=2017.4.17 in /usr/local/lib/python3.7/dist-packages (from requests->stanza) (2021.5.30)\n",
            "Requirement already satisfied: chardet<4,>=3.0.2 in /usr/local/lib/python3.7/dist-packages (from requests->stanza) (3.0.4)\n",
            "Requirement already satisfied: idna<3,>=2.5 in /usr/local/lib/python3.7/dist-packages (from requests->stanza) (2.10)\n",
            "Installing collected packages: stanza\n",
            "Successfully installed stanza-1.2.1\n"
          ],
          "name": "stdout"
        }
      ]
    },
    {
      "cell_type": "code",
      "metadata": {
        "colab": {
          "base_uri": "https://localhost:8080/",
          "height": 149,
          "referenced_widgets": [
            "62dbcdc841d24795873eeb091d30f951",
            "0a3cb7987b8a43d29e7f1143db09ba22",
            "dcdf5cc348de4362b067c95e4f5e7ee7",
            "924d22bd069d47e8a6afb8d89dfbafb0",
            "bc3a937154a044f280b8b6bde44ff335",
            "205f54b9f54b49158d7c53c7caa25b4d",
            "9171eb3e40734b79a1bad680e03bd749",
            "0dbfacab7c1e46c3b12851221d7cf291",
            "807cd8004a024899910f5d9585c4dd16",
            "3a31ac043a1742e9a7a7645e052a7b0a",
            "fa0fd5da90b4486fb09d82409a46254b",
            "4d228d009aa64f22a535164716e7483b",
            "b301e5db717c4f6f951d7dad1eebba5a",
            "6b13c6d5a526409399d08bce344d323d",
            "eeec7c54ae1f439d96a40c883f297866",
            "754e9b33643e4e8f8148546b5745436d"
          ]
        },
        "id": "ZaqExuiDTH3X",
        "outputId": "44aee272-6338-45dc-ecef-9ed00d7b65cd"
      },
      "source": [
        "import stanza\n",
        "stanza.download('es')"
      ],
      "execution_count": null,
      "outputs": [
        {
          "output_type": "display_data",
          "data": {
            "application/vnd.jupyter.widget-view+json": {
              "model_id": "62dbcdc841d24795873eeb091d30f951",
              "version_minor": 0,
              "version_major": 2
            },
            "text/plain": [
              "HBox(children=(FloatProgress(value=0.0, description='Downloading https://raw.githubusercontent.com/stanfordnlp…"
            ]
          },
          "metadata": {
            "tags": []
          }
        },
        {
          "output_type": "stream",
          "text": [
            "2021-07-12 19:59:01 INFO: Downloading default packages for language: es (Spanish)...\n"
          ],
          "name": "stderr"
        },
        {
          "output_type": "stream",
          "text": [
            "\n"
          ],
          "name": "stdout"
        },
        {
          "output_type": "display_data",
          "data": {
            "application/vnd.jupyter.widget-view+json": {
              "model_id": "807cd8004a024899910f5d9585c4dd16",
              "version_minor": 0,
              "version_major": 2
            },
            "text/plain": [
              "HBox(children=(FloatProgress(value=0.0, description='Downloading http://nlp.stanford.edu/software/stanza/1.2.1…"
            ]
          },
          "metadata": {
            "tags": []
          }
        },
        {
          "output_type": "stream",
          "text": [
            "\n"
          ],
          "name": "stdout"
        },
        {
          "output_type": "stream",
          "text": [
            "2021-07-12 20:01:01 INFO: Finished downloading models and saved to /root/stanza_resources.\n"
          ],
          "name": "stderr"
        }
      ]
    },
    {
      "cell_type": "code",
      "metadata": {
        "colab": {
          "base_uri": "https://localhost:8080/"
        },
        "id": "6HtCS-ycTRrC",
        "outputId": "12cb7f2f-449d-4696-b0d8-f72672bee6fd"
      },
      "source": [
        "esp = stanza.Pipeline('es', processors='tokenize,mwt,pos,lemma')"
      ],
      "execution_count": null,
      "outputs": [
        {
          "output_type": "stream",
          "text": [
            "2021-07-12 20:02:30 INFO: Loading these models for language: es (Spanish):\n",
            "=======================\n",
            "| Processor | Package |\n",
            "-----------------------\n",
            "| tokenize  | ancora  |\n",
            "| mwt       | ancora  |\n",
            "| pos       | ancora  |\n",
            "| lemma     | ancora  |\n",
            "=======================\n",
            "\n",
            "2021-07-12 20:02:30 INFO: Use device: cpu\n",
            "2021-07-12 20:02:30 INFO: Loading: tokenize\n",
            "2021-07-12 20:02:30 INFO: Loading: mwt\n",
            "2021-07-12 20:02:30 INFO: Loading: pos\n",
            "2021-07-12 20:02:30 INFO: Loading: lemma\n",
            "2021-07-12 20:02:30 INFO: Done loading processors!\n"
          ],
          "name": "stderr"
        }
      ]
    },
    {
      "cell_type": "code",
      "metadata": {
        "id": "pCUlL6SHUFmX"
      },
      "source": [
        "doc = esp(noti_aleaotoria)"
      ],
      "execution_count": null,
      "outputs": []
    },
    {
      "cell_type": "code",
      "metadata": {
        "colab": {
          "base_uri": "https://localhost:8080/"
        },
        "id": "ReH8sBWfUgRs",
        "outputId": "078b8fa1-1541-4bb3-87ce-ab94dbce572c"
      },
      "source": [
        "for sent in doc.sentences:\n",
        "  for word in sent.words:\n",
        "    print(word.lemma)"
      ],
      "execution_count": null,
      "outputs": [
        {
          "output_type": "stream",
          "text": [
            "Steve\n",
            "Wozniak\n",
            "cofundador\n",
            "de\n",
            "Apple\n",
            "haber\n",
            "ratificar\n",
            "su\n",
            "respaldo\n",
            "a\n",
            "Bitcoin\n",
            "y\n",
            "haber\n",
            "decir\n",
            "que\n",
            "el\n",
            "criptomoneda\n",
            "ser\n",
            "mejor\n",
            "que\n",
            "el\n",
            "oro\n",
            ".\n"
          ],
          "name": "stdout"
        }
      ]
    },
    {
      "cell_type": "markdown",
      "metadata": {
        "id": "O4-uw8jMqbeE"
      },
      "source": [
        "## Libreria Contexto."
      ]
    },
    {
      "cell_type": "markdown",
      "metadata": {
        "id": "JlzE7VP8oIgN"
      },
      "source": [
        "Ahora utilizaremos la libreria contexto para poder utilizar las herramientas de limpieza de texto, coherencia entre otras. "
      ]
    },
    {
      "cell_type": "code",
      "metadata": {
        "id": "jiNjMRSoUyFp"
      },
      "source": [
        " pip install contexto"
      ],
      "execution_count": null,
      "outputs": []
    },
    {
      "cell_type": "code",
      "metadata": {
        "id": "kCwOqq2ZWMa0"
      },
      "source": [
        "import contexto \n"
      ],
      "execution_count": null,
      "outputs": []
    },
    {
      "cell_type": "code",
      "metadata": {
        "id": "j4L-3mqWWpP1"
      },
      "source": [
        "from contexto.limpieza import limpieza_basica, limpieza_texto, lista_stopwords\n",
        "from contexto.lematizacion import lematizar_texto\n",
        "from contexto.stemming import stem_texto"
      ],
      "execution_count": null,
      "outputs": []
    },
    {
      "cell_type": "code",
      "metadata": {
        "colab": {
          "base_uri": "https://localhost:8080/",
          "height": 52
        },
        "id": "n59QusPBYjJ8",
        "outputId": "22f49183-a4b8-4bc0-819b-be45e19c2659"
      },
      "source": [
        "noti_aleaotoria"
      ],
      "execution_count": null,
      "outputs": [
        {
          "output_type": "execute_result",
          "data": {
            "application/vnd.google.colaboratory.intrinsic+json": {
              "type": "string"
            },
            "text/plain": [
              "'Steve Wozniak cofundador de Apple ha ratificado su respaldo a Bitcoin y ha dicho que la criptomoneda es mejor que el oro. '"
            ]
          },
          "metadata": {
            "tags": []
          },
          "execution_count": 67
        }
      ]
    },
    {
      "cell_type": "markdown",
      "metadata": {
        "id": "sqXIheomoWEw"
      },
      "source": [
        "Con la libreria contexto podremos utilizar la herramienta de limpieza de texto que nos ofrece similitudes a lower que utilizamos anteriormente."
      ]
    },
    {
      "cell_type": "code",
      "metadata": {
        "colab": {
          "base_uri": "https://localhost:8080/",
          "height": 52
        },
        "id": "B9kCDUMbYlLj",
        "outputId": "e35090a2-812c-45a4-8895-88ac192ef77d"
      },
      "source": [
        "limpieza_texto(noti_aleaotoria)"
      ],
      "execution_count": null,
      "outputs": [
        {
          "output_type": "execute_result",
          "data": {
            "application/vnd.google.colaboratory.intrinsic+json": {
              "type": "string"
            },
            "text/plain": [
              "'steve wozniak cofundador de apple ha ratificado su respaldo a bitcoin y ha dicho que la criptomoneda es mejor que el oro'"
            ]
          },
          "metadata": {
            "tags": []
          },
          "execution_count": 68
        }
      ]
    },
    {
      "cell_type": "code",
      "metadata": {
        "colab": {
          "base_uri": "https://localhost:8080/",
          "height": 35
        },
        "id": "8mpchjCJYoWQ",
        "outputId": "1be884db-c8f7-46be-c0fd-c302fff2e457"
      },
      "source": [
        "texto_limpio = limpieza_texto(noti_aleaotoria,lista_palabras=lista_stopwords())\n",
        "texto_limpio"
      ],
      "execution_count": null,
      "outputs": [
        {
          "output_type": "execute_result",
          "data": {
            "application/vnd.google.colaboratory.intrinsic+json": {
              "type": "string"
            },
            "text/plain": [
              "'steve wozniak cofundador apple ratificado respaldo bitcoin dicho criptomoneda mejor oro'"
            ]
          },
          "metadata": {
            "tags": []
          },
          "execution_count": 71
        }
      ]
    },
    {
      "cell_type": "code",
      "metadata": {
        "colab": {
          "base_uri": "https://localhost:8080/",
          "height": 35
        },
        "id": "smeRrzMja8kF",
        "outputId": "390b5c68-813c-4fdd-8543-c62e84264d84"
      },
      "source": [
        "text_stem = stem_texto(noti_aleaotoria)\n",
        "text_stem"
      ],
      "execution_count": null,
      "outputs": [
        {
          "output_type": "execute_result",
          "data": {
            "application/vnd.google.colaboratory.intrinsic+json": {
              "type": "string"
            },
            "text/plain": [
              "'stev wozniak cofund de apple ha ratific su respald a bitcoin y ha dich que la criptomoned es mejor que el oro.'"
            ]
          },
          "metadata": {
            "tags": []
          },
          "execution_count": 80
        }
      ]
    },
    {
      "cell_type": "markdown",
      "metadata": {
        "id": "kEMe-nSNaP-P"
      },
      "source": [
        "### Exploración y nube de palabras de una noticia."
      ]
    },
    {
      "cell_type": "markdown",
      "metadata": {
        "id": "nLtmSwv2sYvp"
      },
      "source": [
        "Con ayuda de la libreria de contexto generaremos una nube de palabras de mayor relevancia de nuestra breve noticia luego de haberla limpiado. "
      ]
    },
    {
      "cell_type": "code",
      "metadata": {
        "id": "D0MEVQCKaS1Y"
      },
      "source": [
        "from contexto.exploracion import frecuencia_ngramas, grafica_barchart_frecuencias, grafica_nube, par_nubes"
      ],
      "execution_count": null,
      "outputs": []
    },
    {
      "cell_type": "code",
      "metadata": {
        "id": "zRhZcvSSq7Iq"
      },
      "source": [
        "pip install matplotlib==3.1.3"
      ],
      "execution_count": null,
      "outputs": []
    },
    {
      "cell_type": "code",
      "metadata": {
        "colab": {
          "base_uri": "https://localhost:8080/",
          "height": 319
        },
        "id": "K1KmrMIxajo9",
        "outputId": "9ab1a542-c412-40c3-baa9-06762092de7c"
      },
      "source": [
        "nube_palabras(texto_limpio, dim_figura=(5,5), n_grama=1)"
      ],
      "execution_count": null,
      "outputs": [
        {
          "output_type": "display_data",
          "data": {
            "image/png": "[encoded data removed]",
            "text/plain": [
              "<Figure size 360x360 with 1 Axes>"
            ]
          },
          "metadata": {
            "tags": [],
            "needs_background": "light"
          }
        }
      ]
    },
    {
      "cell_type": "markdown",
      "metadata": {
        "id": "lGU0DRyscR1X"
      },
      "source": [
        "## Modelamiento con mas noticias. "
      ]
    },
    {
      "cell_type": "markdown",
      "metadata": {
        "id": "UMBPKXLKwKMw"
      },
      "source": [
        "Ahora nos concentraremos en 8 noticias para hacer la vectorización y el modelamiento de las mismas. "
      ]
    },
    {
      "cell_type": "markdown",
      "metadata": {
        "id": "r_TDPP4ockGL"
      },
      "source": [
        "Vectorización "
      ]
    },
    {
      "cell_type": "code",
      "metadata": {
        "colab": {
          "base_uri": "https://localhost:8080/"
        },
        "id": "Tp8LBGT-cTcC",
        "outputId": "a40a8e26-6158-4af7-f4ed-512f55a39b9e"
      },
      "source": [
        "primeras_noticias = df[:7]['texto']\n",
        "primeras_noticias"
      ],
      "execution_count": null,
      "outputs": [
        {
          "output_type": "execute_result",
          "data": {
            "text/plain": [
              "0    Los gemelos Bogdanov, populares por un meme de...\n",
              "1    En un mundo tan cambiante, ahora es posible qu...\n",
              "2    Paraguay podría estar iniciando su camino a la...\n",
              "3    Las Ballenas Bitcoin movilizaron 22.174 BTC la...\n",
              "4    En esta edición del resumen semanal, se presen...\n",
              "5    El precio del Bitcoin continúa lateralizado, e...\n",
              "6    La casa de subasta Sotheby’s vende un diamante...\n",
              "Name: texto, dtype: object"
            ]
          },
          "metadata": {
            "tags": []
          },
          "execution_count": 167
        }
      ]
    },
    {
      "cell_type": "markdown",
      "metadata": {
        "id": "Emf-dFvRwXL6"
      },
      "source": [
        "Primero limpiaremos las noticias para evitar asi ruido y asi poder tener la mayor cantidad de información. "
      ]
    },
    {
      "cell_type": "code",
      "metadata": {
        "colab": {
          "base_uri": "https://localhost:8080/"
        },
        "id": "cXwW5WRyeVh5",
        "outputId": "bbbbc6cf-220a-493a-d76f-e93de9339335"
      },
      "source": [
        "noticias_1 =list(primeras_noticias)\n",
        "noticias_1"
      ],
      "execution_count": null,
      "outputs": [
        {
          "output_type": "execute_result",
          "data": {
            "text/plain": [
              "['Los gemelos Bogdanov, populares por un meme de manipulación de precio, aseguran que ayudaron a Satoshi Nakamoto a crear Bitcoin. ',\n",
              " 'En un mundo tan cambiante, ahora es posible que gracias a la tecnología Blockchain mujeres puedan lograr su libertad financiera.',\n",
              " 'Paraguay podría estar iniciando su camino a la adopción definitiva de criptomonedas en los próximos días. Entérate en el tweet del día.',\n",
              " 'Las Ballenas Bitcoin movilizaron 22.174 BTC la semana pasada, pero, ¿esto quiere decir de alguna forma que hay tendencia bajista este mes? Veamos.',\n",
              " 'En esta edición del resumen semanal, se presentan las noticias relacionadas con la minería de Bitcoin más destacadas y cargadas de polémica.',\n",
              " 'El precio del Bitcoin continúa lateralizado, envuelto en un comportamiento muy poco volátil. Acá un análisis de la situación actual. ',\n",
              " 'La casa de subasta Sotheby’s vende un diamante de más de 100 quilates por $ 12,3 millones en criptomonedas ¡Te contamos los detalles!']"
            ]
          },
          "metadata": {
            "tags": []
          },
          "execution_count": 147
        }
      ]
    },
    {
      "cell_type": "code",
      "metadata": {
        "id": "psa6ynvkei-y"
      },
      "source": [
        "noticias_1_limpios= [limpieza_texto(texto, lista_palabras=lista_stopwords()) for texto in noticias_1]"
      ],
      "execution_count": null,
      "outputs": []
    },
    {
      "cell_type": "code",
      "metadata": {
        "colab": {
          "base_uri": "https://localhost:8080/"
        },
        "id": "9TcTqJuCfHoP",
        "outputId": "47bb298c-2cd6-43dd-f46a-984096f35ec7"
      },
      "source": [
        "noticias_1_limpios"
      ],
      "execution_count": null,
      "outputs": [
        {
          "output_type": "execute_result",
          "data": {
            "text/plain": [
              "['gemelos bogdanov populares meme manipulación precio aseguran ayudaron satoshi nakamoto crear bitcoin',\n",
              " 'mundo cambiante ahora posible gracias tecnología blockchain mujeres puedan lograr libertad financiera',\n",
              " 'paraguay podría iniciando camino adopción definitiva criptomonedas próximos días entérate tweet día',\n",
              " 'ballenas bitcoin movilizaron btc semana pasada quiere decir forma tendencia bajista mes veamos',\n",
              " 'edición resumen semanal presentan noticias relacionadas minería bitcoin destacadas cargadas polémica',\n",
              " 'precio bitcoin continúa lateralizado envuelto comportamiento volátil acá análisis situación actual',\n",
              " 'casa subasta sotheby s vende diamante quilates millones criptomonedas contamos detalles']"
            ]
          },
          "metadata": {
            "tags": []
          },
          "execution_count": 149
        }
      ]
    },
    {
      "cell_type": "markdown",
      "metadata": {
        "id": "OhfRNtaDfXVe"
      },
      "source": [
        "Ahora vectorizaremos con contexto.\n",
        "\n"
      ]
    },
    {
      "cell_type": "code",
      "metadata": {
        "id": "YtWCDGbbfJaL"
      },
      "source": [
        "from contexto.vectorizacion import VectorizadorFrecuencias"
      ],
      "execution_count": null,
      "outputs": []
    },
    {
      "cell_type": "code",
      "metadata": {
        "id": "sXsUDLZpfgnw"
      },
      "source": [
        "vec_bow= VectorizadorFrecuencias()\n",
        "vec_tfidf = VectorizadorFrecuencias(tipo='tfidf', idf=True)\n",
        "vec_bow.ajustar(noticias_1_limpios)\n",
        "vec_tfidf.ajustar(noticias_1_limpios)"
      ],
      "execution_count": null,
      "outputs": []
    },
    {
      "cell_type": "code",
      "metadata": {
        "id": "PBh_s7NYf-Mh"
      },
      "source": [
        "vb = vec_bow.vectorizar(noticias_1_limpios)\n",
        "vtfidf = vec_tfidf.vectorizar(noticias_1_limpios)"
      ],
      "execution_count": null,
      "outputs": []
    },
    {
      "cell_type": "markdown",
      "metadata": {
        "id": "Xy4bJgaagkln"
      },
      "source": [
        "En este caso lo que observaremos sera la cantidad de veces que una palabra se repite en el breve resumen de las noticias. "
      ]
    },
    {
      "cell_type": "code",
      "metadata": {
        "colab": {
          "base_uri": "https://localhost:8080/"
        },
        "id": "0YN2EufjgN8b",
        "outputId": "94e79631-1a2b-4e47-8ca1-6e5e2204a00c"
      },
      "source": [
        "vb"
      ],
      "execution_count": null,
      "outputs": [
        {
          "output_type": "execute_result",
          "data": {
            "text/plain": [
              "array([[0, 0, 0, 0, 0, 1, 1, 0, 0, 1, 0, 1, 0, 0, 0, 0, 0, 0, 0, 0, 1, 0,\n",
              "        0, 0, 0, 0, 0, 0, 0, 0, 0, 0, 0, 0, 1, 0, 0, 0, 0, 0, 1, 1, 0, 0,\n",
              "        0, 0, 0, 0, 1, 0, 0, 0, 0, 0, 1, 0, 1, 0, 0, 0, 0, 0, 0, 0, 1, 0,\n",
              "        0, 0, 0, 0, 0, 0, 0, 0, 0, 0],\n",
              "       [0, 0, 0, 1, 0, 0, 0, 0, 0, 0, 1, 0, 0, 1, 0, 0, 0, 0, 0, 0, 0, 0,\n",
              "        0, 0, 0, 0, 0, 0, 0, 0, 0, 0, 1, 0, 0, 1, 0, 0, 1, 1, 0, 0, 0, 0,\n",
              "        0, 0, 1, 1, 0, 0, 0, 0, 0, 0, 0, 1, 0, 0, 0, 1, 0, 0, 0, 0, 0, 0,\n",
              "        0, 0, 0, 0, 1, 0, 0, 0, 0, 0],\n",
              "       [0, 0, 1, 0, 0, 0, 0, 0, 0, 0, 0, 0, 0, 0, 1, 0, 0, 0, 0, 0, 0, 1,\n",
              "        0, 1, 0, 0, 0, 1, 1, 0, 1, 0, 0, 0, 0, 0, 1, 0, 0, 0, 0, 0, 0, 0,\n",
              "        0, 0, 0, 0, 0, 0, 1, 0, 1, 0, 0, 0, 0, 0, 1, 0, 0, 0, 0, 0, 0, 0,\n",
              "        0, 0, 0, 0, 0, 0, 1, 0, 0, 0],\n",
              "       [0, 0, 0, 0, 0, 0, 0, 1, 1, 1, 0, 0, 1, 0, 0, 0, 0, 0, 0, 0, 0, 0,\n",
              "        1, 0, 0, 0, 0, 0, 0, 0, 0, 0, 0, 1, 0, 0, 0, 0, 0, 0, 0, 0, 1, 0,\n",
              "        0, 1, 0, 0, 0, 0, 0, 1, 0, 0, 0, 0, 0, 0, 0, 0, 1, 0, 0, 0, 0, 1,\n",
              "        0, 0, 0, 0, 0, 1, 0, 1, 0, 0],\n",
              "       [0, 0, 0, 0, 0, 0, 0, 0, 0, 1, 0, 0, 0, 0, 0, 1, 0, 0, 0, 0, 0, 0,\n",
              "        0, 0, 1, 0, 0, 0, 0, 1, 0, 0, 0, 0, 0, 0, 0, 0, 0, 0, 0, 0, 0, 0,\n",
              "        1, 0, 0, 0, 0, 1, 0, 0, 0, 1, 0, 0, 0, 1, 0, 0, 0, 0, 1, 1, 0, 0,\n",
              "        1, 0, 0, 0, 0, 0, 0, 0, 0, 0],\n",
              "       [1, 1, 0, 0, 1, 0, 0, 0, 0, 1, 0, 0, 0, 0, 0, 0, 0, 1, 0, 1, 0, 0,\n",
              "        0, 0, 0, 0, 0, 0, 0, 0, 0, 1, 0, 0, 0, 0, 0, 1, 0, 0, 0, 0, 0, 0,\n",
              "        0, 0, 0, 0, 0, 0, 0, 0, 0, 0, 0, 0, 1, 0, 0, 0, 0, 0, 0, 0, 0, 0,\n",
              "        0, 1, 0, 0, 0, 0, 0, 0, 0, 1],\n",
              "       [0, 0, 0, 0, 0, 0, 0, 0, 0, 0, 0, 0, 0, 0, 0, 0, 1, 0, 1, 0, 0, 1,\n",
              "        0, 0, 0, 1, 1, 0, 0, 0, 0, 0, 0, 0, 0, 0, 0, 0, 0, 0, 0, 0, 0, 1,\n",
              "        0, 0, 0, 0, 0, 0, 0, 0, 0, 0, 0, 0, 0, 0, 0, 0, 0, 1, 0, 0, 0, 0,\n",
              "        0, 0, 1, 1, 0, 0, 0, 0, 1, 0]])"
            ]
          },
          "metadata": {
            "tags": []
          },
          "execution_count": 152
        }
      ]
    },
    {
      "cell_type": "markdown",
      "metadata": {
        "id": "3TVhby7qhUvi"
      },
      "source": [
        ""
      ]
    },
    {
      "cell_type": "code",
      "metadata": {
        "colab": {
          "base_uri": "https://localhost:8080/"
        },
        "id": "mJ2-4s2igObS",
        "outputId": "054b9a05-5529-4793-8d36-9c84b2db805b"
      },
      "source": [
        "vtfidf"
      ],
      "execution_count": null,
      "outputs": [
        {
          "output_type": "execute_result",
          "data": {
            "text/plain": [
              "array([[0.        , 0.        , 0.        , 0.        , 0.        ,\n",
              "        0.3005766 , 0.3005766 , 0.        , 0.        , 0.18516102,\n",
              "        0.        , 0.3005766 , 0.        , 0.        , 0.        ,\n",
              "        0.        , 0.        , 0.        , 0.        , 0.        ,\n",
              "        0.3005766 , 0.        , 0.        , 0.        , 0.        ,\n",
              "        0.        , 0.        , 0.        , 0.        , 0.        ,\n",
              "        0.        , 0.        , 0.        , 0.        , 0.3005766 ,\n",
              "        0.        , 0.        , 0.        , 0.        , 0.        ,\n",
              "        0.3005766 , 0.3005766 , 0.        , 0.        , 0.        ,\n",
              "        0.        , 0.        , 0.        , 0.3005766 , 0.        ,\n",
              "        0.        , 0.        , 0.        , 0.        , 0.3005766 ,\n",
              "        0.        , 0.2495044 , 0.        , 0.        , 0.        ,\n",
              "        0.        , 0.        , 0.        , 0.        , 0.3005766 ,\n",
              "        0.        , 0.        , 0.        , 0.        , 0.        ,\n",
              "        0.        , 0.        , 0.        , 0.        , 0.        ,\n",
              "        0.        ],\n",
              "       [0.        , 0.        , 0.        , 0.28867513, 0.        ,\n",
              "        0.        , 0.        , 0.        , 0.        , 0.        ,\n",
              "        0.28867513, 0.        , 0.        , 0.28867513, 0.        ,\n",
              "        0.        , 0.        , 0.        , 0.        , 0.        ,\n",
              "        0.        , 0.        , 0.        , 0.        , 0.        ,\n",
              "        0.        , 0.        , 0.        , 0.        , 0.        ,\n",
              "        0.        , 0.        , 0.28867513, 0.        , 0.        ,\n",
              "        0.28867513, 0.        , 0.        , 0.28867513, 0.28867513,\n",
              "        0.        , 0.        , 0.        , 0.        , 0.        ,\n",
              "        0.        , 0.28867513, 0.28867513, 0.        , 0.        ,\n",
              "        0.        , 0.        , 0.        , 0.        , 0.        ,\n",
              "        0.28867513, 0.        , 0.        , 0.        , 0.28867513,\n",
              "        0.        , 0.        , 0.        , 0.        , 0.        ,\n",
              "        0.        , 0.        , 0.        , 0.        , 0.        ,\n",
              "        0.28867513, 0.        , 0.        , 0.        , 0.        ,\n",
              "        0.        ],\n",
              "       [0.        , 0.        , 0.29248967, 0.        , 0.        ,\n",
              "        0.        , 0.        , 0.        , 0.        , 0.        ,\n",
              "        0.        , 0.        , 0.        , 0.        , 0.29248967,\n",
              "        0.        , 0.        , 0.        , 0.        , 0.        ,\n",
              "        0.        , 0.24279154, 0.        , 0.29248967, 0.        ,\n",
              "        0.        , 0.        , 0.29248967, 0.29248967, 0.        ,\n",
              "        0.29248967, 0.        , 0.        , 0.        , 0.        ,\n",
              "        0.        , 0.29248967, 0.        , 0.        , 0.        ,\n",
              "        0.        , 0.        , 0.        , 0.        , 0.        ,\n",
              "        0.        , 0.        , 0.        , 0.        , 0.        ,\n",
              "        0.29248967, 0.        , 0.29248967, 0.        , 0.        ,\n",
              "        0.        , 0.        , 0.        , 0.29248967, 0.        ,\n",
              "        0.        , 0.        , 0.        , 0.        , 0.        ,\n",
              "        0.        , 0.        , 0.        , 0.        , 0.        ,\n",
              "        0.        , 0.        , 0.29248967, 0.        , 0.        ,\n",
              "        0.        ],\n",
              "       [0.        , 0.        , 0.        , 0.        , 0.        ,\n",
              "        0.        , 0.        , 0.28421618, 0.28421618, 0.17508268,\n",
              "        0.        , 0.        , 0.28421618, 0.        , 0.        ,\n",
              "        0.        , 0.        , 0.        , 0.        , 0.        ,\n",
              "        0.        , 0.        , 0.28421618, 0.        , 0.        ,\n",
              "        0.        , 0.        , 0.        , 0.        , 0.        ,\n",
              "        0.        , 0.        , 0.        , 0.28421618, 0.        ,\n",
              "        0.        , 0.        , 0.        , 0.        , 0.        ,\n",
              "        0.        , 0.        , 0.28421618, 0.        , 0.        ,\n",
              "        0.28421618, 0.        , 0.        , 0.        , 0.        ,\n",
              "        0.        , 0.28421618, 0.        , 0.        , 0.        ,\n",
              "        0.        , 0.        , 0.        , 0.        , 0.        ,\n",
              "        0.28421618, 0.        , 0.        , 0.        , 0.        ,\n",
              "        0.28421618, 0.        , 0.        , 0.        , 0.        ,\n",
              "        0.        , 0.28421618, 0.        , 0.28421618, 0.        ,\n",
              "        0.        ],\n",
              "       [0.        , 0.        , 0.        , 0.        , 0.        ,\n",
              "        0.        , 0.        , 0.        , 0.        , 0.19120824,\n",
              "        0.        , 0.        , 0.        , 0.        , 0.        ,\n",
              "        0.3103932 , 0.        , 0.        , 0.        , 0.        ,\n",
              "        0.        , 0.        , 0.        , 0.        , 0.3103932 ,\n",
              "        0.        , 0.        , 0.        , 0.        , 0.3103932 ,\n",
              "        0.        , 0.        , 0.        , 0.        , 0.        ,\n",
              "        0.        , 0.        , 0.        , 0.        , 0.        ,\n",
              "        0.        , 0.        , 0.        , 0.        , 0.3103932 ,\n",
              "        0.        , 0.        , 0.        , 0.        , 0.3103932 ,\n",
              "        0.        , 0.        , 0.        , 0.3103932 , 0.        ,\n",
              "        0.        , 0.        , 0.3103932 , 0.        , 0.        ,\n",
              "        0.        , 0.        , 0.3103932 , 0.3103932 , 0.        ,\n",
              "        0.        , 0.3103932 , 0.        , 0.        , 0.        ,\n",
              "        0.        , 0.        , 0.        , 0.        , 0.        ,\n",
              "        0.        ],\n",
              "       [0.31514987, 0.31514987, 0.        , 0.        , 0.31514987,\n",
              "        0.        , 0.        , 0.        , 0.        , 0.19413843,\n",
              "        0.        , 0.        , 0.        , 0.        , 0.        ,\n",
              "        0.        , 0.        , 0.31514987, 0.        , 0.31514987,\n",
              "        0.        , 0.        , 0.        , 0.        , 0.        ,\n",
              "        0.        , 0.        , 0.        , 0.        , 0.        ,\n",
              "        0.        , 0.31514987, 0.        , 0.        , 0.        ,\n",
              "        0.        , 0.        , 0.31514987, 0.        , 0.        ,\n",
              "        0.        , 0.        , 0.        , 0.        , 0.        ,\n",
              "        0.        , 0.        , 0.        , 0.        , 0.        ,\n",
              "        0.        , 0.        , 0.        , 0.        , 0.        ,\n",
              "        0.        , 0.26160145, 0.        , 0.        , 0.        ,\n",
              "        0.        , 0.        , 0.        , 0.        , 0.        ,\n",
              "        0.        , 0.        , 0.31514987, 0.        , 0.        ,\n",
              "        0.        , 0.        , 0.        , 0.        , 0.        ,\n",
              "        0.31514987],\n",
              "       [0.        , 0.        , 0.        , 0.        , 0.        ,\n",
              "        0.        , 0.        , 0.        , 0.        , 0.        ,\n",
              "        0.        , 0.        , 0.        , 0.        , 0.        ,\n",
              "        0.        , 0.32126215, 0.        , 0.32126215, 0.        ,\n",
              "        0.        , 0.26667518, 0.        , 0.        , 0.        ,\n",
              "        0.32126215, 0.32126215, 0.        , 0.        , 0.        ,\n",
              "        0.        , 0.        , 0.        , 0.        , 0.        ,\n",
              "        0.        , 0.        , 0.        , 0.        , 0.        ,\n",
              "        0.        , 0.        , 0.        , 0.32126215, 0.        ,\n",
              "        0.        , 0.        , 0.        , 0.        , 0.        ,\n",
              "        0.        , 0.        , 0.        , 0.        , 0.        ,\n",
              "        0.        , 0.        , 0.        , 0.        , 0.        ,\n",
              "        0.        , 0.32126215, 0.        , 0.        , 0.        ,\n",
              "        0.        , 0.        , 0.        , 0.32126215, 0.32126215,\n",
              "        0.        , 0.        , 0.        , 0.        , 0.32126215,\n",
              "        0.        ]])"
            ]
          },
          "metadata": {
            "tags": []
          },
          "execution_count": 153
        }
      ]
    },
    {
      "cell_type": "markdown",
      "metadata": {
        "id": "yMWqu2UciHZE"
      },
      "source": [
        "## Modelar"
      ]
    },
    {
      "cell_type": "markdown",
      "metadata": {
        "id": "ezJbAZY1w3Q7"
      },
      "source": [
        "Para modelar nos apoyaremos de la libreria de gensim la cual nos permite de igual forma tokenizar los datos y a su vez limpiarlos y esto nos sirve para encontar temas en los textos que tenemos."
      ]
    },
    {
      "cell_type": "code",
      "metadata": {
        "id": "kbY5akHziSSY"
      },
      "source": [
        "import gensim"
      ],
      "execution_count": null,
      "outputs": []
    },
    {
      "cell_type": "code",
      "metadata": {
        "id": "fkcdOphQiUNB"
      },
      "source": [
        "noticias_1_limpios_token = [word_tokenize(texto) for texto in noticias_1_limpios]\n",
        "corpus = gensim.corpora.Dictionary(noticias_1_limpios_token)"
      ],
      "execution_count": null,
      "outputs": []
    },
    {
      "cell_type": "code",
      "metadata": {
        "colab": {
          "base_uri": "https://localhost:8080/"
        },
        "id": "vOzBMj6NxEaR",
        "outputId": "d07de393-844a-48d0-82ed-6ba701171b45"
      },
      "source": [
        "noticias_1_limpios_token"
      ],
      "execution_count": null,
      "outputs": [
        {
          "output_type": "execute_result",
          "data": {
            "text/plain": [
              "[['gemelos',\n",
              "  'bogdanov',\n",
              "  'populares',\n",
              "  'meme',\n",
              "  'manipulación',\n",
              "  'precio',\n",
              "  'aseguran',\n",
              "  'ayudaron',\n",
              "  'satoshi',\n",
              "  'nakamoto',\n",
              "  'crear',\n",
              "  'bitcoin'],\n",
              " ['mundo',\n",
              "  'cambiante',\n",
              "  'ahora',\n",
              "  'posible',\n",
              "  'gracias',\n",
              "  'tecnología',\n",
              "  'blockchain',\n",
              "  'mujeres',\n",
              "  'puedan',\n",
              "  'lograr',\n",
              "  'libertad',\n",
              "  'financiera'],\n",
              " ['paraguay',\n",
              "  'podría',\n",
              "  'iniciando',\n",
              "  'camino',\n",
              "  'adopción',\n",
              "  'definitiva',\n",
              "  'criptomonedas',\n",
              "  'próximos',\n",
              "  'días',\n",
              "  'entérate',\n",
              "  'tweet',\n",
              "  'día'],\n",
              " ['ballenas',\n",
              "  'bitcoin',\n",
              "  'movilizaron',\n",
              "  'btc',\n",
              "  'semana',\n",
              "  'pasada',\n",
              "  'quiere',\n",
              "  'decir',\n",
              "  'forma',\n",
              "  'tendencia',\n",
              "  'bajista',\n",
              "  'mes',\n",
              "  'veamos'],\n",
              " ['edición',\n",
              "  'resumen',\n",
              "  'semanal',\n",
              "  'presentan',\n",
              "  'noticias',\n",
              "  'relacionadas',\n",
              "  'minería',\n",
              "  'bitcoin',\n",
              "  'destacadas',\n",
              "  'cargadas',\n",
              "  'polémica'],\n",
              " ['precio',\n",
              "  'bitcoin',\n",
              "  'continúa',\n",
              "  'lateralizado',\n",
              "  'envuelto',\n",
              "  'comportamiento',\n",
              "  'volátil',\n",
              "  'acá',\n",
              "  'análisis',\n",
              "  'situación',\n",
              "  'actual'],\n",
              " ['casa',\n",
              "  'subasta',\n",
              "  'sotheby',\n",
              "  's',\n",
              "  'vende',\n",
              "  'diamante',\n",
              "  'quilates',\n",
              "  'millones',\n",
              "  'criptomonedas',\n",
              "  'contamos',\n",
              "  'detalles']]"
            ]
          },
          "metadata": {
            "tags": []
          },
          "execution_count": 168
        }
      ]
    },
    {
      "cell_type": "code",
      "metadata": {
        "id": "3SiddWaTik_W"
      },
      "source": [
        "bow_corpus = [corpus.doc2bow(texto) for texto in noticias_1_limpios_token]"
      ],
      "execution_count": null,
      "outputs": []
    },
    {
      "cell_type": "markdown",
      "metadata": {
        "id": "4n0SbYAplEIr"
      },
      "source": [
        "Hallaremos cuantos topicos o temas debemos utilizar en nuestro modelo para nustro hiperparametro \"num_topics\" todo esto utilizando la coherencia del texto, para eso utilizaremos CoherenceModel."
      ]
    },
    {
      "cell_type": "code",
      "metadata": {
        "id": "f5aEDkpsjtGs"
      },
      "source": [
        "from gensim.models import CoherenceModel\n",
        "\n",
        "coherencia = {}\n",
        "\n",
        "for i in range(2,20):\n",
        "  lda_model = gensim.models.LdaMulticore(bow_corpus, num_topics=i, id2word=corpus)\n",
        "  coherence_model_lda = CoherenceModel(model=lda_model, texts=noticias_1_limpios_token, dictionary=corpus, coherence='c_v')\n",
        "  coherencia[i] = coherence_model_lda.get_coherence()"
      ],
      "execution_count": null,
      "outputs": []
    },
    {
      "cell_type": "code",
      "metadata": {
        "colab": {
          "base_uri": "https://localhost:8080/"
        },
        "id": "OwnYUrwyka9I",
        "outputId": "6a42a937-0267-4cc1-f881-534880587bb5"
      },
      "source": [
        "coherencia"
      ],
      "execution_count": null,
      "outputs": [
        {
          "output_type": "execute_result",
          "data": {
            "text/plain": [
              "{2: 0.20834380324064852,\n",
              " 3: 0.26040761944637975,\n",
              " 4: 0.2762763533722795,\n",
              " 5: 0.299918934471627,\n",
              " 6: 0.20270392055687872,\n",
              " 7: 0.4431474006852459,\n",
              " 8: 0.439312548499026,\n",
              " 9: 0.41449156026434253,\n",
              " 10: 0.46643990859642176,\n",
              " 11: 0.45517359278666353,\n",
              " 12: 0.4741192711492765,\n",
              " 13: 0.48698457012155444,\n",
              " 14: 0.48530366730163677,\n",
              " 15: 0.48600983358963457,\n",
              " 16: 0.32497322247861155,\n",
              " 17: 0.279209352336224,\n",
              " 18: 0.2826057904627746,\n",
              " 19: 0.280126185388148}"
            ]
          },
          "metadata": {
            "tags": []
          },
          "execution_count": 159
        }
      ]
    },
    {
      "cell_type": "code",
      "metadata": {
        "colab": {
          "base_uri": "https://localhost:8080/",
          "height": 286
        },
        "id": "UFJzrGixu9Wh",
        "outputId": "3e9ddfb1-cb6a-42c7-afda-026b10c6746f"
      },
      "source": [
        "import matplotlib.pyplot as plt\n",
        "X = [i for i in coherencia.keys()]\n",
        "y= [i for i in coherencia.values()]\n",
        "plt.axvline(X[y.index(max(y))])\n",
        "plt.plot(X,y)"
      ],
      "execution_count": null,
      "outputs": [
        {
          "output_type": "execute_result",
          "data": {
            "text/plain": [
              "[<matplotlib.lines.Line2D at 0x7f02789b31d0>]"
            ]
          },
          "metadata": {
            "tags": []
          },
          "execution_count": 164
        },
        {
          "output_type": "display_data",
          "data": {
            "image/png": "[encoded data removed]",
            "text/plain": [
              "<Figure size 432x288 with 1 Axes>"
            ]
          },
          "metadata": {
            "tags": [],
            "needs_background": "light"
          }
        }
      ]
    },
    {
      "cell_type": "markdown",
      "metadata": {
        "id": "nrUQ2TZBlgNQ"
      },
      "source": [
        "En este caso nuestro modelo nos indica que en el nivel maximo de coherencia es cuando utilizamos 13 topicos. "
      ]
    },
    {
      "cell_type": "code",
      "metadata": {
        "id": "xbCrat1_lSp4"
      },
      "source": [
        "lda_model = gensim.models.LdaMulticore(bow_corpus, num_topics=13, id2word=corpus)"
      ],
      "execution_count": null,
      "outputs": []
    },
    {
      "cell_type": "code",
      "metadata": {
        "colab": {
          "base_uri": "https://localhost:8080/"
        },
        "id": "dF4y4_xPlx5y",
        "outputId": "5380b471-68a2-4841-9c19-f99560f16625"
      },
      "source": [
        "lda_model"
      ],
      "execution_count": null,
      "outputs": [
        {
          "output_type": "execute_result",
          "data": {
            "text/plain": [
              "<gensim.models.ldamulticore.LdaMulticore at 0x7f0280a813d0>"
            ]
          },
          "metadata": {
            "tags": []
          },
          "execution_count": 161
        }
      ]
    },
    {
      "cell_type": "code",
      "metadata": {
        "colab": {
          "base_uri": "https://localhost:8080/"
        },
        "id": "bhPKY6Uoly0f",
        "outputId": "5aa12df1-88e3-4b42-d1b5-669dee8f1342"
      },
      "source": [
        "for idx, topic in lda_model.print_topics(): \n",
        "  print('Topic:{}\\nWords:{}'.format(idx, topic))"
      ],
      "execution_count": null,
      "outputs": [
        {
          "output_type": "stream",
          "text": [
            "Topic:0\n",
            "Words:0.013*\"bitcoin\" + 0.013*\"diamante\" + 0.013*\"situación\" + 0.013*\"cargadas\" + 0.013*\"criptomonedas\" + 0.013*\"subasta\" + 0.013*\"actual\" + 0.013*\"precio\" + 0.013*\"ahora\" + 0.013*\"minería\"\n",
            "Topic:1\n",
            "Words:0.057*\"bitcoin\" + 0.057*\"bajista\" + 0.057*\"pasada\" + 0.057*\"tendencia\" + 0.057*\"mes\" + 0.057*\"forma\" + 0.057*\"quiere\" + 0.057*\"btc\" + 0.057*\"movilizaron\" + 0.057*\"decir\"\n",
            "Topic:2\n",
            "Words:0.013*\"bitcoin\" + 0.013*\"criptomonedas\" + 0.013*\"precio\" + 0.013*\"semana\" + 0.013*\"meme\" + 0.013*\"resumen\" + 0.013*\"millones\" + 0.013*\"ballenas\" + 0.013*\"diamante\" + 0.013*\"blockchain\"\n",
            "Topic:3\n",
            "Words:0.013*\"bitcoin\" + 0.013*\"precio\" + 0.013*\"vende\" + 0.013*\"actual\" + 0.013*\"criptomonedas\" + 0.013*\"iniciando\" + 0.013*\"próximos\" + 0.013*\"presentan\" + 0.013*\"gemelos\" + 0.013*\"polémica\"\n",
            "Topic:4\n",
            "Words:0.060*\"precio\" + 0.060*\"manipulación\" + 0.060*\"crear\" + 0.060*\"satoshi\" + 0.060*\"bogdanov\" + 0.060*\"ayudaron\" + 0.060*\"aseguran\" + 0.060*\"gemelos\" + 0.060*\"nakamoto\" + 0.060*\"bitcoin\"\n",
            "Topic:5\n",
            "Words:0.060*\"lograr\" + 0.060*\"mujeres\" + 0.060*\"libertad\" + 0.060*\"tecnología\" + 0.060*\"mundo\" + 0.060*\"posible\" + 0.060*\"financiera\" + 0.060*\"blockchain\" + 0.060*\"puedan\" + 0.060*\"cambiante\"\n",
            "Topic:6\n",
            "Words:0.060*\"paraguay\" + 0.060*\"podría\" + 0.060*\"días\" + 0.060*\"camino\" + 0.060*\"definitiva\" + 0.060*\"criptomonedas\" + 0.060*\"próximos\" + 0.060*\"entérate\" + 0.060*\"tweet\" + 0.060*\"día\"\n",
            "Topic:7\n",
            "Words:0.013*\"bitcoin\" + 0.013*\"precio\" + 0.013*\"criptomonedas\" + 0.013*\"diamante\" + 0.013*\"situación\" + 0.013*\"cargadas\" + 0.013*\"financiera\" + 0.013*\"cambiante\" + 0.013*\"adopción\" + 0.013*\"actual\"\n",
            "Topic:8\n",
            "Words:0.064*\"continúa\" + 0.064*\"lateralizado\" + 0.064*\"envuelto\" + 0.064*\"análisis\" + 0.064*\"acá\" + 0.064*\"volátil\" + 0.064*\"precio\" + 0.064*\"comportamiento\" + 0.064*\"situación\" + 0.064*\"actual\"\n",
            "Topic:9\n",
            "Words:0.013*\"bitcoin\" + 0.013*\"criptomonedas\" + 0.013*\"precio\" + 0.013*\"diamante\" + 0.013*\"vende\" + 0.013*\"movilizaron\" + 0.013*\"próximos\" + 0.013*\"cargadas\" + 0.013*\"tweet\" + 0.013*\"resumen\"\n",
            "Topic:10\n",
            "Words:0.064*\"relacionadas\" + 0.064*\"bitcoin\" + 0.064*\"semanal\" + 0.064*\"destacadas\" + 0.064*\"noticias\" + 0.064*\"minería\" + 0.064*\"edición\" + 0.064*\"presentan\" + 0.064*\"polémica\" + 0.064*\"cargadas\"\n",
            "Topic:11\n",
            "Words:0.064*\"sotheby\" + 0.064*\"contamos\" + 0.064*\"criptomonedas\" + 0.064*\"casa\" + 0.064*\"detalles\" + 0.064*\"s\" + 0.064*\"quilates\" + 0.064*\"subasta\" + 0.064*\"millones\" + 0.064*\"vende\"\n",
            "Topic:12\n",
            "Words:0.013*\"bitcoin\" + 0.013*\"precio\" + 0.013*\"adopción\" + 0.013*\"cargadas\" + 0.013*\"puedan\" + 0.013*\"polémica\" + 0.013*\"meme\" + 0.013*\"diamante\" + 0.013*\"minería\" + 0.013*\"veamos\"\n"
          ],
          "name": "stdout"
        }
      ]
    },
    {
      "cell_type": "markdown",
      "metadata": {
        "id": "U2aD6oEtrxVB"
      },
      "source": [
        "Para finalizar podemos ver que el mayor tema nace con Bitcoin y esto en gran parte se debe a que el portal de noticias abarca el tema de las criptomonedas y el Bitcoin es la principal, tenemos otros tenemos como precio, criptomonedas manipulacion entre otras palabras que estan relacionados en los textos. "
      ]
    }
  ]
}