{
  "nbformat": 4,
  "nbformat_minor": 0,
  "metadata": {
    "colab": {
      "name": "Proyecto Lenguaje Natural",
      "provenance": [],
      "collapsed_sections": []
    },
    "kernelspec": {
      "name": "python3",
      "display_name": "Python 3"
    },
    "language_info": {
      "name": "python"
    },
    "widgets": {
      "application/vnd.jupyter.widget-state+json": {
        "62dbcdc841d24795873eeb091d30f951": {
          "model_module": "@jupyter-widgets/controls",
          "model_name": "HBoxModel",
          "state": {
            "_view_name": "HBoxView",
            "_dom_classes": [],
            "_model_name": "HBoxModel",
            "_view_module": "@jupyter-widgets/controls",
            "_model_module_version": "1.5.0",
            "_view_count": null,
            "_view_module_version": "1.5.0",
            "box_style": "",
            "layout": "IPY_MODEL_0a3cb7987b8a43d29e7f1143db09ba22",
            "_model_module": "@jupyter-widgets/controls",
            "children": [
              "IPY_MODEL_dcdf5cc348de4362b067c95e4f5e7ee7",
              "IPY_MODEL_924d22bd069d47e8a6afb8d89dfbafb0"
            ]
          }
        },
        "0a3cb7987b8a43d29e7f1143db09ba22": {
          "model_module": "@jupyter-widgets/base",
          "model_name": "LayoutModel",
          "state": {
            "_view_name": "LayoutView",
            "grid_template_rows": null,
            "right": null,
            "justify_content": null,
            "_view_module": "@jupyter-widgets/base",
            "overflow": null,
            "_model_module_version": "1.2.0",
            "_view_count": null,
            "flex_flow": null,
            "width": null,
            "min_width": null,
            "border": null,
            "align_items": null,
            "bottom": null,
            "_model_module": "@jupyter-widgets/base",
            "top": null,
            "grid_column": null,
            "overflow_y": null,
            "overflow_x": null,
            "grid_auto_flow": null,
            "grid_area": null,
            "grid_template_columns": null,
            "flex": null,
            "_model_name": "LayoutModel",
            "justify_items": null,
            "grid_row": null,
            "max_height": null,
            "align_content": null,
            "visibility": null,
            "align_self": null,
            "height": null,
            "min_height": null,
            "padding": null,
            "grid_auto_rows": null,
            "grid_gap": null,
            "max_width": null,
            "order": null,
            "_view_module_version": "1.2.0",
            "grid_template_areas": null,
            "object_position": null,
            "object_fit": null,
            "grid_auto_columns": null,
            "margin": null,
            "display": null,
            "left": null
          }
        },
        "dcdf5cc348de4362b067c95e4f5e7ee7": {
          "model_module": "@jupyter-widgets/controls",
          "model_name": "FloatProgressModel",
          "state": {
            "_view_name": "ProgressView",
            "style": "IPY_MODEL_bc3a937154a044f280b8b6bde44ff335",
            "_dom_classes": [],
            "description": "Downloading https://raw.githubusercontent.com/stanfordnlp/stanza-resources/main/resources_1.2.1.json: ",
            "_model_name": "FloatProgressModel",
            "bar_style": "success",
            "max": 23895,
            "_view_module": "@jupyter-widgets/controls",
            "_model_module_version": "1.5.0",
            "value": 23895,
            "_view_count": null,
            "_view_module_version": "1.5.0",
            "orientation": "horizontal",
            "min": 0,
            "description_tooltip": null,
            "_model_module": "@jupyter-widgets/controls",
            "layout": "IPY_MODEL_205f54b9f54b49158d7c53c7caa25b4d"
          }
        },
        "924d22bd069d47e8a6afb8d89dfbafb0": {
          "model_module": "@jupyter-widgets/controls",
          "model_name": "HTMLModel",
          "state": {
            "_view_name": "HTMLView",
            "style": "IPY_MODEL_9171eb3e40734b79a1bad680e03bd749",
            "_dom_classes": [],
            "description": "",
            "_model_name": "HTMLModel",
            "placeholder": "​",
            "_view_module": "@jupyter-widgets/controls",
            "_model_module_version": "1.5.0",
            "value": " 139k/? [02:50&lt;00:00, 812B/s]",
            "_view_count": null,
            "_view_module_version": "1.5.0",
            "description_tooltip": null,
            "_model_module": "@jupyter-widgets/controls",
            "layout": "IPY_MODEL_0dbfacab7c1e46c3b12851221d7cf291"
          }
        },
        "bc3a937154a044f280b8b6bde44ff335": {
          "model_module": "@jupyter-widgets/controls",
          "model_name": "ProgressStyleModel",
          "state": {
            "_view_name": "StyleView",
            "_model_name": "ProgressStyleModel",
            "description_width": "initial",
            "_view_module": "@jupyter-widgets/base",
            "_model_module_version": "1.5.0",
            "_view_count": null,
            "_view_module_version": "1.2.0",
            "bar_color": null,
            "_model_module": "@jupyter-widgets/controls"
          }
        },
        "205f54b9f54b49158d7c53c7caa25b4d": {
          "model_module": "@jupyter-widgets/base",
          "model_name": "LayoutModel",
          "state": {
            "_view_name": "LayoutView",
            "grid_template_rows": null,
            "right": null,
            "justify_content": null,
            "_view_module": "@jupyter-widgets/base",
            "overflow": null,
            "_model_module_version": "1.2.0",
            "_view_count": null,
            "flex_flow": null,
            "width": null,
            "min_width": null,
            "border": null,
            "align_items": null,
            "bottom": null,
            "_model_module": "@jupyter-widgets/base",
            "top": null,
            "grid_column": null,
            "overflow_y": null,
            "overflow_x": null,
            "grid_auto_flow": null,
            "grid_area": null,
            "grid_template_columns": null,
            "flex": null,
            "_model_name": "LayoutModel",
            "justify_items": null,
            "grid_row": null,
            "max_height": null,
            "align_content": null,
            "visibility": null,
            "align_self": null,
            "height": null,
            "min_height": null,
            "padding": null,
            "grid_auto_rows": null,
            "grid_gap": null,
            "max_width": null,
            "order": null,
            "_view_module_version": "1.2.0",
            "grid_template_areas": null,
            "object_position": null,
            "object_fit": null,
            "grid_auto_columns": null,
            "margin": null,
            "display": null,
            "left": null
          }
        },
        "9171eb3e40734b79a1bad680e03bd749": {
          "model_module": "@jupyter-widgets/controls",
          "model_name": "DescriptionStyleModel",
          "state": {
            "_view_name": "StyleView",
            "_model_name": "DescriptionStyleModel",
            "description_width": "",
            "_view_module": "@jupyter-widgets/base",
            "_model_module_version": "1.5.0",
            "_view_count": null,
            "_view_module_version": "1.2.0",
            "_model_module": "@jupyter-widgets/controls"
          }
        },
        "0dbfacab7c1e46c3b12851221d7cf291": {
          "model_module": "@jupyter-widgets/base",
          "model_name": "LayoutModel",
          "state": {
            "_view_name": "LayoutView",
            "grid_template_rows": null,
            "right": null,
            "justify_content": null,
            "_view_module": "@jupyter-widgets/base",
            "overflow": null,
            "_model_module_version": "1.2.0",
            "_view_count": null,
            "flex_flow": null,
            "width": null,
            "min_width": null,
            "border": null,
            "align_items": null,
            "bottom": null,
            "_model_module": "@jupyter-widgets/base",
            "top": null,
            "grid_column": null,
            "overflow_y": null,
            "overflow_x": null,
            "grid_auto_flow": null,
            "grid_area": null,
            "grid_template_columns": null,
            "flex": null,
            "_model_name": "LayoutModel",
            "justify_items": null,
            "grid_row": null,
            "max_height": null,
            "align_content": null,
            "visibility": null,
            "align_self": null,
            "height": null,
            "min_height": null,
            "padding": null,
            "grid_auto_rows": null,
            "grid_gap": null,
            "max_width": null,
            "order": null,
            "_view_module_version": "1.2.0",
            "grid_template_areas": null,
            "object_position": null,
            "object_fit": null,
            "grid_auto_columns": null,
            "margin": null,
            "display": null,
            "left": null
          }
        },
        "807cd8004a024899910f5d9585c4dd16": {
          "model_module": "@jupyter-widgets/controls",
          "model_name": "HBoxModel",
          "state": {
            "_view_name": "HBoxView",
            "_dom_classes": [],
            "_model_name": "HBoxModel",
            "_view_module": "@jupyter-widgets/controls",
            "_model_module_version": "1.5.0",
            "_view_count": null,
            "_view_module_version": "1.5.0",
            "box_style": "",
            "layout": "IPY_MODEL_3a31ac043a1742e9a7a7645e052a7b0a",
            "_model_module": "@jupyter-widgets/controls",
            "children": [
              "IPY_MODEL_fa0fd5da90b4486fb09d82409a46254b",
              "IPY_MODEL_4d228d009aa64f22a535164716e7483b"
            ]
          }
        },
        "3a31ac043a1742e9a7a7645e052a7b0a": {
          "model_module": "@jupyter-widgets/base",
          "model_name": "LayoutModel",
          "state": {
            "_view_name": "LayoutView",
            "grid_template_rows": null,
            "right": null,
            "justify_content": null,
            "_view_module": "@jupyter-widgets/base",
            "overflow": null,
            "_model_module_version": "1.2.0",
            "_view_count": null,
            "flex_flow": null,
            "width": null,
            "min_width": null,
            "border": null,
            "align_items": null,
            "bottom": null,
            "_model_module": "@jupyter-widgets/base",
            "top": null,
            "grid_column": null,
            "overflow_y": null,
            "overflow_x": null,
            "grid_auto_flow": null,
            "grid_area": null,
            "grid_template_columns": null,
            "flex": null,
            "_model_name": "LayoutModel",
            "justify_items": null,
            "grid_row": null,
            "max_height": null,
            "align_content": null,
            "visibility": null,
            "align_self": null,
            "height": null,
            "min_height": null,
            "padding": null,
            "grid_auto_rows": null,
            "grid_gap": null,
            "max_width": null,
            "order": null,
            "_view_module_version": "1.2.0",
            "grid_template_areas": null,
            "object_position": null,
            "object_fit": null,
            "grid_auto_columns": null,
            "margin": null,
            "display": null,
            "left": null
          }
        },
        "fa0fd5da90b4486fb09d82409a46254b": {
          "model_module": "@jupyter-widgets/controls",
          "model_name": "FloatProgressModel",
          "state": {
            "_view_name": "ProgressView",
            "style": "IPY_MODEL_b301e5db717c4f6f951d7dad1eebba5a",
            "_dom_classes": [],
            "description": "Downloading http://nlp.stanford.edu/software/stanza/1.2.1/es/default.zip: 100%",
            "_model_name": "FloatProgressModel",
            "bar_style": "success",
            "max": 565553347,
            "_view_module": "@jupyter-widgets/controls",
            "_model_module_version": "1.5.0",
            "value": 565553347,
            "_view_count": null,
            "_view_module_version": "1.5.0",
            "orientation": "horizontal",
            "min": 0,
            "description_tooltip": null,
            "_model_module": "@jupyter-widgets/controls",
            "layout": "IPY_MODEL_6b13c6d5a526409399d08bce344d323d"
          }
        },
        "4d228d009aa64f22a535164716e7483b": {
          "model_module": "@jupyter-widgets/controls",
          "model_name": "HTMLModel",
          "state": {
            "_view_name": "HTMLView",
            "style": "IPY_MODEL_eeec7c54ae1f439d96a40c883f297866",
            "_dom_classes": [],
            "description": "",
            "_model_name": "HTMLModel",
            "placeholder": "​",
            "_view_module": "@jupyter-widgets/controls",
            "_model_module_version": "1.5.0",
            "value": " 566M/566M [02:49&lt;00:00, 3.33MB/s]",
            "_view_count": null,
            "_view_module_version": "1.5.0",
            "description_tooltip": null,
            "_model_module": "@jupyter-widgets/controls",
            "layout": "IPY_MODEL_754e9b33643e4e8f8148546b5745436d"
          }
        },
        "b301e5db717c4f6f951d7dad1eebba5a": {
          "model_module": "@jupyter-widgets/controls",
          "model_name": "ProgressStyleModel",
          "state": {
            "_view_name": "StyleView",
            "_model_name": "ProgressStyleModel",
            "description_width": "initial",
            "_view_module": "@jupyter-widgets/base",
            "_model_module_version": "1.5.0",
            "_view_count": null,
            "_view_module_version": "1.2.0",
            "bar_color": null,
            "_model_module": "@jupyter-widgets/controls"
          }
        },
        "6b13c6d5a526409399d08bce344d323d": {
          "model_module": "@jupyter-widgets/base",
          "model_name": "LayoutModel",
          "state": {
            "_view_name": "LayoutView",
            "grid_template_rows": null,
            "right": null,
            "justify_content": null,
            "_view_module": "@jupyter-widgets/base",
            "overflow": null,
            "_model_module_version": "1.2.0",
            "_view_count": null,
            "flex_flow": null,
            "width": null,
            "min_width": null,
            "border": null,
            "align_items": null,
            "bottom": null,
            "_model_module": "@jupyter-widgets/base",
            "top": null,
            "grid_column": null,
            "overflow_y": null,
            "overflow_x": null,
            "grid_auto_flow": null,
            "grid_area": null,
            "grid_template_columns": null,
            "flex": null,
            "_model_name": "LayoutModel",
            "justify_items": null,
            "grid_row": null,
            "max_height": null,
            "align_content": null,
            "visibility": null,
            "align_self": null,
            "height": null,
            "min_height": null,
            "padding": null,
            "grid_auto_rows": null,
            "grid_gap": null,
            "max_width": null,
            "order": null,
            "_view_module_version": "1.2.0",
            "grid_template_areas": null,
            "object_position": null,
            "object_fit": null,
            "grid_auto_columns": null,
            "margin": null,
            "display": null,
            "left": null
          }
        },
        "eeec7c54ae1f439d96a40c883f297866": {
          "model_module": "@jupyter-widgets/controls",
          "model_name": "DescriptionStyleModel",
          "state": {
            "_view_name": "StyleView",
            "_model_name": "DescriptionStyleModel",
            "description_width": "",
            "_view_module": "@jupyter-widgets/base",
            "_model_module_version": "1.5.0",
            "_view_count": null,
            "_view_module_version": "1.2.0",
            "_model_module": "@jupyter-widgets/controls"
          }
        },
        "754e9b33643e4e8f8148546b5745436d": {
          "model_module": "@jupyter-widgets/base",
          "model_name": "LayoutModel",
          "state": {
            "_view_name": "LayoutView",
            "grid_template_rows": null,
            "right": null,
            "justify_content": null,
            "_view_module": "@jupyter-widgets/base",
            "overflow": null,
            "_model_module_version": "1.2.0",
            "_view_count": null,
            "flex_flow": null,
            "width": null,
            "min_width": null,
            "border": null,
            "align_items": null,
            "bottom": null,
            "_model_module": "@jupyter-widgets/base",
            "top": null,
            "grid_column": null,
            "overflow_y": null,
            "overflow_x": null,
            "grid_auto_flow": null,
            "grid_area": null,
            "grid_template_columns": null,
            "flex": null,
            "_model_name": "LayoutModel",
            "justify_items": null,
            "grid_row": null,
            "max_height": null,
            "align_content": null,
            "visibility": null,
            "align_self": null,
            "height": null,
            "min_height": null,
            "padding": null,
            "grid_auto_rows": null,
            "grid_gap": null,
            "max_width": null,
            "order": null,
            "_view_module_version": "1.2.0",
            "grid_template_areas": null,
            "object_position": null,
            "object_fit": null,
            "grid_auto_columns": null,
            "margin": null,
            "display": null,
            "left": null
          }
        }
      }
    }
  },
  "cells": [
    {
      "cell_type": "markdown",
      "metadata": {
        "id": "n4GfE7SqB120"
      },
      "source": [
        "#Proyecto Lenguaje Natural "
      ]
    },
    {
      "cell_type": "markdown",
      "metadata": {
        "id": "lQyQAmqQB-8A"
      },
      "source": [
        "En el siguiente proyecto nos adentraremos en una portal web donde podemos encontrar las principales noticias acerca del mundo de las criptomonedas, para esto haremos web scraping e identificaremos las ultimas noticias disponibles en el portal con su respectivo titulo y breve contexto de la misma, para asi finalizar con un filtro de palabras y un modelamiento de las mismas."
      ]
    },
    {
      "cell_type": "code",
      "metadata": {
        "id": "T8MgtdjQJBz8"
      },
      "source": [
        "import requests as rq\n",
        "from bs4 import BeautifulSoup"
      ],
      "execution_count": null,
      "outputs": []
    },
    {
      "cell_type": "markdown",
      "metadata": {
        "id": "NdDvW5mlCwuO"
      },
      "source": [
        "Lo primero que haremos sera seleccionar el sitio web, luego de eso crearemos la la sopa de la pagina el cual es el esqueleto de la pagina para podernos adentrar mas afondo. "
      ]
    },
    {
      "cell_type": "code",
      "metadata": {
        "id": "ttouLI79V4Q7",
        "colab": {
          "base_uri": "https://localhost:8080/"
        },
        "outputId": "0da329bb-d6a3-4615-ff15-3d6e7b4c47ab"
      },
      "source": [
        "blog_cripto= 'https://criptotendencia.com/'\n",
        "pag_blog = rq.get(blog_cripto)\n",
        "pag_blog"
      ],
      "execution_count": null,
      "outputs": [
        {
          "output_type": "execute_result",
          "data": {
            "text/plain": [
              "<Response [200]>"
            ]
          },
          "metadata": {
            "tags": []
          },
          "execution_count": 5
        }
      ]
    },
    {
      "cell_type": "code",
      "metadata": {
        "id": "ZE1NflDLWlMa"
      },
      "source": [
        "pagina_sopa = BeautifulSoup(pag_blog.text, 'lxml')"
      ],
      "execution_count": null,
      "outputs": []
    },
    {
      "cell_type": "code",
      "metadata": {
        "id": "3YJm58s_W5_f"
      },
      "source": [
        "pagina_sopa"
      ],
      "execution_count": null,
      "outputs": []
    },
    {
      "cell_type": "markdown",
      "metadata": {
        "id": "6PtXl8PvDK9R"
      },
      "source": [
        "Luego de crear la sopa identificamos en que parte de la pagina web se encuentran las ultimas noticias de portal para asi poder extraer la información que deseamos. "
      ]
    },
    {
      "cell_type": "code",
      "metadata": {
        "colab": {
          "base_uri": "https://localhost:8080/"
        },
        "id": "Np0BwYz7W7uf",
        "outputId": "792cd7a4-74e8-44c6-c62c-c2c4b8288b03"
      },
      "source": [
        "pagina_sopa.find('h3')"
      ],
      "execution_count": null,
      "outputs": [
        {
          "output_type": "execute_result",
          "data": {
            "text/plain": [
              "<h3 class=\"entry-title\"><a href=\"https://criptotendencia.com/2021/07/12/ayudamos-a-crear-bitcoin-la-nueva-revelacion-de-los-gemelos-bogdanov-2/\" rel=\"bookmark\">Ayudamos a crear Bitcoin: la nueva «revelación» de los gemelos Bogdanov</a></h3>"
            ]
          },
          "metadata": {
            "tags": []
          },
          "execution_count": 8
        }
      ]
    },
    {
      "cell_type": "markdown",
      "metadata": {
        "id": "3m6KThtmDSol"
      },
      "source": [
        "En este caso encontramos que la clase h3 contiene los hipervinculos de todas las ultimas noticias del portal, es por eso que deseamos obtener todos estos ultimos hipervinculos ya que ahi podremos encontrar la información que deseamos obtener de las noticias. "
      ]
    },
    {
      "cell_type": "code",
      "metadata": {
        "id": "Sy2MDQhoXgwG"
      },
      "source": [
        "h3=pagina_sopa.find_all('h3')"
      ],
      "execution_count": null,
      "outputs": []
    },
    {
      "cell_type": "code",
      "metadata": {
        "colab": {
          "base_uri": "https://localhost:8080/"
        },
        "id": "OCqWbQsdXnCq",
        "outputId": "40e16452-064d-4639-848b-821044e0cc36"
      },
      "source": [
        "h3"
      ],
      "execution_count": null,
      "outputs": [
        {
          "output_type": "execute_result",
          "data": {
            "text/plain": [
              "[<h3 class=\"entry-title\"><a href=\"https://criptotendencia.com/2021/07/12/ayudamos-a-crear-bitcoin-la-nueva-revelacion-de-los-gemelos-bogdanov-2/\" rel=\"bookmark\">Ayudamos a crear Bitcoin: la nueva «revelación» de los gemelos Bogdanov</a></h3>,\n",
              " <h3 class=\"entry-title\"><a href=\"https://criptotendencia.com/2021/07/12/la-tecnologia-blockchain-puede-empoderar-financieramente-a-las-mujeres-incluso-en-un-escenario-pandemico-2/\" rel=\"bookmark\">La tecnología Blockchain puede empoderar financieramente a las mujeres incluso en un escenario pandémico</a></h3>,\n",
              " <h3 class=\"entry-title\"><a href=\"https://criptotendencia.com/2021/07/12/paraguay-podria-adoptar-bitcoin-como-moneda-de-curso-legal-2/\" rel=\"bookmark\">Paraguay podría adoptar Bitcoin como moneda de curso legal</a></h3>,\n",
              " <h3 class=\"entry-title\"><a href=\"https://criptotendencia.com/2021/07/12/ballenas-bitcoin-movilizaron-22-174-btc-la-semana-pasada-hay-tendencia-bajista-este-mes/\" rel=\"bookmark\">Ballenas Bitcoin movilizaron 22.174 BTC la semana pasada ¿Hay tendencia bajista este mes?</a></h3>,\n",
              " <h3 class=\"entry-title\"><a href=\"https://criptotendencia.com/2021/07/11/mineria-bitcoin-semana-cargada-de-noticias-positivas-y-polemicas-2/\" rel=\"bookmark\">Minería Bitcoin: semana cargada de noticias positivas y polémicas</a></h3>,\n",
              " <h3 class=\"entry-title\"><a href=\"https://criptotendencia.com/2021/07/11/bitcoin-continua-lateralizado-descubre-aqui-hacia-donde-es-probable-que-se-mueva-esta-semana-2/\" rel=\"bookmark\">Bitcoin continúa lateralizado. Descubre aquí hacia donde es probable que se mueva esta semana</a></h3>,\n",
              " <h3 class=\"entry-title\"><a href=\"https://criptotendencia.com/2021/07/11/sothebys-vende-un-diamante-en-criptomonedas-2/\" rel=\"bookmark\">Sotheby’s vende un diamante en criptomonedas</a></h3>,\n",
              " <h3 class=\"entry-title\"><a href=\"https://criptotendencia.com/2021/07/11/cofundador-de-apple-ratifico-su-apoyo-a-bitcoin-y-expreso-que-es-mejor-que-el-oro-2/\" rel=\"bookmark\">Cofundador de Apple ratificó su apoyo a Bitcoin y expresó que es mejor que el oro</a></h3>,\n",
              " <h3 class=\"entry-title\"><a href=\"https://criptotendencia.com/2021/07/11/la-oportunidad-es-hoy-con-la-tecnologia-blockchain/\" rel=\"bookmark\">¡La oportunidad es hoy con la tecnología Blockchain!</a></h3>,\n",
              " <h3 class=\"entry-title\"><a href=\"https://criptotendencia.com/2021/07/10/microsoft-usara-bitcoin-para-proteccion-de-identidad-virtual-2/\" rel=\"bookmark\">Microsoft usará Bitcoin para protección de identidad virtual</a></h3>,\n",
              " <h3 class=\"entry-title\"><a href=\"https://criptotendencia.com/2021/07/10/axs-el-token-nativo-del-juego-blockchain-axie-infinity-no-para-de-subir-que-esta-pasando/\" rel=\"bookmark\">AXS, el token nativo del juego Blockchain Axie Infinity, no para de subir. ¿Qué está pasando?</a></h3>,\n",
              " <h3 class=\"entry-title\"><a href=\"https://criptotendencia.com/2021/07/10/jpmorgan-predice-que-bitcoin-se-hundira-hasta-los-25k-2/\" rel=\"bookmark\">JPMorgan predice que Bitcoin se hundirá hasta los 25K</a></h3>,\n",
              " <h3 class=\"entry-title\"><a href=\"https://criptotendencia.com/2021/07/10/cofundador-de-apple-aseguro-que-bitcoin-es-mejor-que-el-oro-2/\" rel=\"bookmark\">Cofundador de Apple aseguró que Bitcoin es mejor que el Oro</a></h3>,\n",
              " <h3 class=\"entry-title\"><a href=\"https://criptotendencia.com/2021/07/10/mineria-de-bitcoin-consume-60-menos-energia-que-en-mayo-2/\" rel=\"bookmark\">Minería de Bitcoin consume 60% menos energía que en mayo</a></h3>,\n",
              " <h3 class=\"entry-title\"><a href=\"https://criptotendencia.com/2021/07/10/el-exchange-binance-quedo-bloqueado-en-china/\" rel=\"bookmark\">El exchange Binance quedó bloqueado en China</a></h3>,\n",
              " <h3 class=\"entry-title\"><a href=\"https://criptotendencia.com/2021/07/09/utopia-p2p-ha-desarrollado-una-solucion-de-mineria-ecologica-no-necesita-disco-duro-cpu-ni-gpu-2/\" rel=\"bookmark\">Utopia P2P ha desarrollado una solución de minería ecológica: no necesita disco duro, CPU ni GPU</a></h3>,\n",
              " <h3 class=\"entry-title\"><a href=\"https://criptotendencia.com/2021/07/09/square-creara-wallet-de-bitcoin/\" rel=\"bookmark\">Square creará wallet de Bitcoin</a></h3>,\n",
              " <h3 class=\"entry-title\"><a href=\"https://criptotendencia.com/2021/07/09/polygon-matic-resiste-la-turbulencia-hacia-donde-se-dirige/\" rel=\"bookmark\">Polygon (MATIC) resiste la turbulencia. ¿Hacia dónde se dirige?</a></h3>,\n",
              " <h3 class=\"entry-title\"><a href=\"https://criptotendencia.com/2021/07/09/bank-of-america-boa-crea-un-cripto-equipo-2/\" rel=\"bookmark\">Bank of America (BoA) crea un cripto equipo</a></h3>,\n",
              " <h3 class=\"entry-title\"><a href=\"https://criptotendencia.com/2021/07/09/banco-sygnum-se-convirtio-en-el-primer-banco-a-nivel-mundial-en-ofrecer-staking-de-eth2-2/\" rel=\"bookmark\">Banco Sygnum se convirtió en el primer banco a nivel mundial en ofrecer staking de ETH2</a></h3>,\n",
              " <h3 class=\"entry-title\"><a href=\"https://criptotendencia.com/2021/07/11/bitcoin-continua-lateralizado-descubre-aqui-hacia-donde-es-probable-que-se-mueva-esta-semana-2/\">Bitcoin continúa lateralizado. Descubre aquí hacia donde es probable que se mueva esta semana</a></h3>,\n",
              " <h3 class=\"entry-title\"><a href=\"https://criptotendencia.com/2021/07/12/ballenas-bitcoin-movilizaron-22-174-btc-la-semana-pasada-hay-tendencia-bajista-este-mes/\" rel=\"bookmark\">Ballenas Bitcoin movilizaron 22.174 BTC la semana pasada ¿Hay tendencia bajista este mes?</a></h3>,\n",
              " <h3 class=\"entry-title\"><a href=\"https://criptotendencia.com/2021/07/11/mineria-bitcoin-semana-cargada-de-noticias-positivas-y-polemicas-2/\" rel=\"bookmark\">Minería Bitcoin: semana cargada de noticias positivas y polémicas</a></h3>,\n",
              " <h3 class=\"entry-title\"><a href=\"https://criptotendencia.com/2021/07/11/sothebys-vende-un-diamante-en-criptomonedas-2/\" rel=\"bookmark\">Sotheby’s vende un diamante en criptomonedas</a></h3>,\n",
              " <h3 class=\"entry-title\"><a href=\"https://criptotendencia.com/2021/07/12/paraguay-podria-adoptar-bitcoin-como-moneda-de-curso-legal-2/\" rel=\"bookmark\">Paraguay podría adoptar Bitcoin como moneda de curso legal</a></h3>]"
            ]
          },
          "metadata": {
            "tags": []
          },
          "execution_count": 10
        }
      ]
    },
    {
      "cell_type": "markdown",
      "metadata": {
        "id": "LwpsRz4eDjTG"
      },
      "source": [
        "Luego deseamos tener acceso unicamente al hipervinculo que en este caso es \"href\"."
      ]
    },
    {
      "cell_type": "code",
      "metadata": {
        "colab": {
          "base_uri": "https://localhost:8080/",
          "height": 35
        },
        "id": "Y1jjWZOs_Akb",
        "outputId": "a3aa4f31-e24c-4549-ff04-a6210366748b"
      },
      "source": [
        "pagina_sopa.find('h3', attrs={'class':'entry-title'}).a.get('href')"
      ],
      "execution_count": null,
      "outputs": [
        {
          "output_type": "execute_result",
          "data": {
            "application/vnd.google.colaboratory.intrinsic+json": {
              "type": "string"
            },
            "text/plain": [
              "'https://criptotendencia.com/2021/07/12/ayudamos-a-crear-bitcoin-la-nueva-revelacion-de-los-gemelos-bogdanov-2/'"
            ]
          },
          "metadata": {
            "tags": []
          },
          "execution_count": 11
        }
      ]
    },
    {
      "cell_type": "code",
      "metadata": {
        "id": "r51_3TpA3HBP",
        "colab": {
          "base_uri": "https://localhost:8080/"
        },
        "outputId": "a017b747-da19-4770-b1ad-9508ab4c5238"
      },
      "source": [
        "pagina_sopa.find_all('h3', attrs={'class':'entry-title'})"
      ],
      "execution_count": null,
      "outputs": [
        {
          "output_type": "execute_result",
          "data": {
            "text/plain": [
              "[<h3 class=\"entry-title\"><a href=\"https://criptotendencia.com/2021/07/12/ayudamos-a-crear-bitcoin-la-nueva-revelacion-de-los-gemelos-bogdanov-2/\" rel=\"bookmark\">Ayudamos a crear Bitcoin: la nueva «revelación» de los gemelos Bogdanov</a></h3>,\n",
              " <h3 class=\"entry-title\"><a href=\"https://criptotendencia.com/2021/07/12/la-tecnologia-blockchain-puede-empoderar-financieramente-a-las-mujeres-incluso-en-un-escenario-pandemico-2/\" rel=\"bookmark\">La tecnología Blockchain puede empoderar financieramente a las mujeres incluso en un escenario pandémico</a></h3>,\n",
              " <h3 class=\"entry-title\"><a href=\"https://criptotendencia.com/2021/07/12/paraguay-podria-adoptar-bitcoin-como-moneda-de-curso-legal-2/\" rel=\"bookmark\">Paraguay podría adoptar Bitcoin como moneda de curso legal</a></h3>,\n",
              " <h3 class=\"entry-title\"><a href=\"https://criptotendencia.com/2021/07/12/ballenas-bitcoin-movilizaron-22-174-btc-la-semana-pasada-hay-tendencia-bajista-este-mes/\" rel=\"bookmark\">Ballenas Bitcoin movilizaron 22.174 BTC la semana pasada ¿Hay tendencia bajista este mes?</a></h3>,\n",
              " <h3 class=\"entry-title\"><a href=\"https://criptotendencia.com/2021/07/11/mineria-bitcoin-semana-cargada-de-noticias-positivas-y-polemicas-2/\" rel=\"bookmark\">Minería Bitcoin: semana cargada de noticias positivas y polémicas</a></h3>,\n",
              " <h3 class=\"entry-title\"><a href=\"https://criptotendencia.com/2021/07/11/bitcoin-continua-lateralizado-descubre-aqui-hacia-donde-es-probable-que-se-mueva-esta-semana-2/\" rel=\"bookmark\">Bitcoin continúa lateralizado. Descubre aquí hacia donde es probable que se mueva esta semana</a></h3>,\n",
              " <h3 class=\"entry-title\"><a href=\"https://criptotendencia.com/2021/07/11/sothebys-vende-un-diamante-en-criptomonedas-2/\" rel=\"bookmark\">Sotheby’s vende un diamante en criptomonedas</a></h3>,\n",
              " <h3 class=\"entry-title\"><a href=\"https://criptotendencia.com/2021/07/11/cofundador-de-apple-ratifico-su-apoyo-a-bitcoin-y-expreso-que-es-mejor-que-el-oro-2/\" rel=\"bookmark\">Cofundador de Apple ratificó su apoyo a Bitcoin y expresó que es mejor que el oro</a></h3>,\n",
              " <h3 class=\"entry-title\"><a href=\"https://criptotendencia.com/2021/07/11/la-oportunidad-es-hoy-con-la-tecnologia-blockchain/\" rel=\"bookmark\">¡La oportunidad es hoy con la tecnología Blockchain!</a></h3>,\n",
              " <h3 class=\"entry-title\"><a href=\"https://criptotendencia.com/2021/07/10/microsoft-usara-bitcoin-para-proteccion-de-identidad-virtual-2/\" rel=\"bookmark\">Microsoft usará Bitcoin para protección de identidad virtual</a></h3>,\n",
              " <h3 class=\"entry-title\"><a href=\"https://criptotendencia.com/2021/07/10/axs-el-token-nativo-del-juego-blockchain-axie-infinity-no-para-de-subir-que-esta-pasando/\" rel=\"bookmark\">AXS, el token nativo del juego Blockchain Axie Infinity, no para de subir. ¿Qué está pasando?</a></h3>,\n",
              " <h3 class=\"entry-title\"><a href=\"https://criptotendencia.com/2021/07/10/jpmorgan-predice-que-bitcoin-se-hundira-hasta-los-25k-2/\" rel=\"bookmark\">JPMorgan predice que Bitcoin se hundirá hasta los 25K</a></h3>,\n",
              " <h3 class=\"entry-title\"><a href=\"https://criptotendencia.com/2021/07/10/cofundador-de-apple-aseguro-que-bitcoin-es-mejor-que-el-oro-2/\" rel=\"bookmark\">Cofundador de Apple aseguró que Bitcoin es mejor que el Oro</a></h3>,\n",
              " <h3 class=\"entry-title\"><a href=\"https://criptotendencia.com/2021/07/10/mineria-de-bitcoin-consume-60-menos-energia-que-en-mayo-2/\" rel=\"bookmark\">Minería de Bitcoin consume 60% menos energía que en mayo</a></h3>,\n",
              " <h3 class=\"entry-title\"><a href=\"https://criptotendencia.com/2021/07/10/el-exchange-binance-quedo-bloqueado-en-china/\" rel=\"bookmark\">El exchange Binance quedó bloqueado en China</a></h3>,\n",
              " <h3 class=\"entry-title\"><a href=\"https://criptotendencia.com/2021/07/09/utopia-p2p-ha-desarrollado-una-solucion-de-mineria-ecologica-no-necesita-disco-duro-cpu-ni-gpu-2/\" rel=\"bookmark\">Utopia P2P ha desarrollado una solución de minería ecológica: no necesita disco duro, CPU ni GPU</a></h3>,\n",
              " <h3 class=\"entry-title\"><a href=\"https://criptotendencia.com/2021/07/09/square-creara-wallet-de-bitcoin/\" rel=\"bookmark\">Square creará wallet de Bitcoin</a></h3>,\n",
              " <h3 class=\"entry-title\"><a href=\"https://criptotendencia.com/2021/07/09/polygon-matic-resiste-la-turbulencia-hacia-donde-se-dirige/\" rel=\"bookmark\">Polygon (MATIC) resiste la turbulencia. ¿Hacia dónde se dirige?</a></h3>,\n",
              " <h3 class=\"entry-title\"><a href=\"https://criptotendencia.com/2021/07/09/bank-of-america-boa-crea-un-cripto-equipo-2/\" rel=\"bookmark\">Bank of America (BoA) crea un cripto equipo</a></h3>,\n",
              " <h3 class=\"entry-title\"><a href=\"https://criptotendencia.com/2021/07/09/banco-sygnum-se-convirtio-en-el-primer-banco-a-nivel-mundial-en-ofrecer-staking-de-eth2-2/\" rel=\"bookmark\">Banco Sygnum se convirtió en el primer banco a nivel mundial en ofrecer staking de ETH2</a></h3>,\n",
              " <h3 class=\"entry-title\"><a href=\"https://criptotendencia.com/2021/07/11/bitcoin-continua-lateralizado-descubre-aqui-hacia-donde-es-probable-que-se-mueva-esta-semana-2/\">Bitcoin continúa lateralizado. Descubre aquí hacia donde es probable que se mueva esta semana</a></h3>,\n",
              " <h3 class=\"entry-title\"><a href=\"https://criptotendencia.com/2021/07/12/ballenas-bitcoin-movilizaron-22-174-btc-la-semana-pasada-hay-tendencia-bajista-este-mes/\" rel=\"bookmark\">Ballenas Bitcoin movilizaron 22.174 BTC la semana pasada ¿Hay tendencia bajista este mes?</a></h3>,\n",
              " <h3 class=\"entry-title\"><a href=\"https://criptotendencia.com/2021/07/11/mineria-bitcoin-semana-cargada-de-noticias-positivas-y-polemicas-2/\" rel=\"bookmark\">Minería Bitcoin: semana cargada de noticias positivas y polémicas</a></h3>,\n",
              " <h3 class=\"entry-title\"><a href=\"https://criptotendencia.com/2021/07/11/sothebys-vende-un-diamante-en-criptomonedas-2/\" rel=\"bookmark\">Sotheby’s vende un diamante en criptomonedas</a></h3>,\n",
              " <h3 class=\"entry-title\"><a href=\"https://criptotendencia.com/2021/07/12/paraguay-podria-adoptar-bitcoin-como-moneda-de-curso-legal-2/\" rel=\"bookmark\">Paraguay podría adoptar Bitcoin como moneda de curso legal</a></h3>]"
            ]
          },
          "metadata": {
            "tags": []
          },
          "execution_count": 12
        }
      ]
    },
    {
      "cell_type": "code",
      "metadata": {
        "id": "AWzjTBgCDOHH"
      },
      "source": [
        "noti_cripto = pagina_sopa.find_all('h3', attrs={'class':'entry-title'})"
      ],
      "execution_count": null,
      "outputs": []
    },
    {
      "cell_type": "markdown",
      "metadata": {
        "id": "J9sleCEMEWxR"
      },
      "source": [
        "Ya accedimos a la pagina principal, ahi encontramos las ultimas noticias luego ingresamos al hipervinculo de cada noticia, es decir nos adentramos a la pagina de la ultima noticia y ahi obtendremos la información que deseamos que este caso es el titulo y un breve resumen de la noticia. "
      ]
    },
    {
      "cell_type": "code",
      "metadata": {
        "id": "CjoAuV3s3kLs"
      },
      "source": [
        "import datetime\n",
        "datos = {'Titulo':[],'texto':[]}\n",
        "for articulo in noti_cripto:\n",
        "  pag_art = rq.get(articulo.a.get('href'))\n",
        "  pag_art_sopa = BeautifulSoup(pag_art.text, 'lxml') #sopa de la nueva página\n",
        "  datos['Titulo'].append(pag_art_sopa.find('h1', attrs={'class':'entry-title'}).text) \n",
        "  datos['texto'].append(pag_art_sopa.find('div', attrs={'class':'entry-excerpt'}).find_all('p')[0 ].text)\n",
        " "
      ],
      "execution_count": null,
      "outputs": []
    },
    {
      "cell_type": "code",
      "metadata": {
        "colab": {
          "base_uri": "https://localhost:8080/"
        },
        "id": "NBT6WY9MLChH",
        "outputId": "fbea37b1-3cb7-46b3-c096-74d75d967ad6"
      },
      "source": [
        "datos"
      ],
      "execution_count": null,
      "outputs": [
        {
          "output_type": "execute_result",
          "data": {
            "text/plain": [
              "{'Titulo': ['Ayudamos a crear Bitcoin: la nueva «revelación» de los gemelos Bogdanov',\n",
              "  'La tecnología Blockchain puede empoderar financieramente a las mujeres incluso en un escenario pandémico',\n",
              "  'Paraguay podría adoptar Bitcoin como moneda de curso legal',\n",
              "  'Ballenas Bitcoin movilizaron 22.174 BTC la semana pasada ¿Hay tendencia bajista este mes?',\n",
              "  'Minería Bitcoin: semana cargada de noticias positivas y polémicas',\n",
              "  'Bitcoin continúa lateralizado. Descubre aquí hacia donde es probable que se mueva esta semana',\n",
              "  'Sotheby’s vende un diamante en criptomonedas',\n",
              "  'Cofundador de Apple ratificó su apoyo a Bitcoin y expresó que es mejor que el oro',\n",
              "  '¡La oportunidad es hoy con la tecnología Blockchain!',\n",
              "  'Microsoft usará Bitcoin para protección de identidad virtual',\n",
              "  'AXS, el token nativo del juego Blockchain Axie Infinity, no para de subir. ¿Qué está pasando?',\n",
              "  'JPMorgan predice que Bitcoin se hundirá hasta los 25K',\n",
              "  'Cofundador de Apple aseguró que Bitcoin es mejor que el Oro',\n",
              "  'Minería de Bitcoin consume 60% menos energía que en mayo',\n",
              "  'El exchange Binance quedó bloqueado en China',\n",
              "  'Utopia P2P ha desarrollado una solución de minería ecológica: no necesita disco duro, CPU ni GPU',\n",
              "  'Square creará wallet de Bitcoin',\n",
              "  'Polygon (MATIC) resiste la turbulencia. ¿Hacia dónde se dirige?',\n",
              "  'Bank of America (BoA) crea un cripto equipo',\n",
              "  'Banco Sygnum se convirtió en el primer banco a nivel mundial en ofrecer staking de ETH2',\n",
              "  'Bitcoin continúa lateralizado. Descubre aquí hacia donde es probable que se mueva esta semana',\n",
              "  'Ballenas Bitcoin movilizaron 22.174 BTC la semana pasada ¿Hay tendencia bajista este mes?',\n",
              "  'Minería Bitcoin: semana cargada de noticias positivas y polémicas',\n",
              "  'Sotheby’s vende un diamante en criptomonedas',\n",
              "  'Paraguay podría adoptar Bitcoin como moneda de curso legal'],\n",
              " 'texto': ['Los gemelos Bogdanov, populares por un meme de manipulación de precio, aseguran que ayudaron a Satoshi Nakamoto a crear Bitcoin. ',\n",
              "  'En un mundo tan cambiante, ahora es posible que gracias a la tecnología Blockchain mujeres puedan lograr su libertad financiera.',\n",
              "  'Paraguay podría estar iniciando su camino a la adopción definitiva de criptomonedas en los próximos días. Entérate en el tweet del día.',\n",
              "  'Las Ballenas Bitcoin movilizaron 22.174 BTC la semana pasada, pero, ¿esto quiere decir de alguna forma que hay tendencia bajista este mes? Veamos.',\n",
              "  'En esta edición del resumen semanal, se presentan las noticias relacionadas con la minería de Bitcoin más destacadas y cargadas de polémica.',\n",
              "  'El precio del Bitcoin continúa lateralizado, envuelto en un comportamiento muy poco volátil. Acá un análisis de la situación actual. ',\n",
              "  'La casa de subasta Sotheby’s vende un diamante de más de 100 quilates por $ 12,3 millones en criptomonedas ¡Te contamos los detalles!',\n",
              "  'Steve Wozniak cofundador de Apple ha ratificado su respaldo a Bitcoin y ha dicho que la criptomoneda es mejor que el oro. ',\n",
              "  'La tecnología Blockchain tiene que ser una de las mayores innovaciones del siglo XXI, dado el efecto que está teniendo en varios sectores.',\n",
              "  'Microsoft, usará la red Blockchain de Bitcoin para crear un sistema de protección de identidad y privacidad de datos personales.',\n",
              "  'El token AXS, perteneciente al juego Axie Infinity, acaba de marcar nuevos máximos históricos. Descubre aquí hacia dónde se dirige. ',\n",
              "  'El gigante financiero JPMorgan, predice que el precio de Bitcoin caerá hasta los $25.000 tras los desbloqueos de Grayscale. ',\n",
              "  'Durante un importante evento tecnológico en México, Steve Wozniak, cofundador de Apple aseguró que Bitcoin es mejor que el oro. ',\n",
              "  'En un 60% ha disminuido la cantidad de energía que consume la minería de Bitcoin. Esto en comparación con su pico histórico del mes de mayo. ',\n",
              "  'Según Colin Wu, China bloqueó el acceso del exchange Binance, ¿cuál será el próximo paso? ¡Te contamos todos los detalles!',\n",
              "  'Utopia P2P ha anunciado el desarrollo de una opción de minería más ecológica: la minería de CRP. ¿De qué se trata? Entérate aquí.',\n",
              "  'La firma Square, radicada en San Francisco, anunció recientemente que creará un servicio de wallet sin custodia para almacenar Bitcoin.',\n",
              "  'La criptomoneda MATIC, nativa de la red Polygon, intenta no generar demasiada negatividad a pesar de la caída generalizada en el mercado.',\n",
              "  'Según Bloomberg, Bank of America (BoA) crea un equipo dedicado a investigar las criptomonedas ¡Te contamos algunos de los detalles!',\n",
              "  'A través de un comunicado, el banco suizo de activos digitales Sygnum anunció que ahora ofrece participación en ETH 2.0 en su plataforma.',\n",
              "  'El precio del Bitcoin continúa lateralizado, envuelto en un comportamiento muy poco volátil. Acá un análisis de la situación actual. ',\n",
              "  'Las Ballenas Bitcoin movilizaron 22.174 BTC la semana pasada, pero, ¿esto quiere decir de alguna forma que hay tendencia bajista este mes? Veamos.',\n",
              "  'En esta edición del resumen semanal, se presentan las noticias relacionadas con la minería de Bitcoin más destacadas y cargadas de polémica.',\n",
              "  'La casa de subasta Sotheby’s vende un diamante de más de 100 quilates por $ 12,3 millones en criptomonedas ¡Te contamos los detalles!',\n",
              "  'Paraguay podría estar iniciando su camino a la adopción definitiva de criptomonedas en los próximos días. Entérate en el tweet del día.']}"
            ]
          },
          "metadata": {
            "tags": []
          },
          "execution_count": 33
        }
      ]
    },
    {
      "cell_type": "markdown",
      "metadata": {
        "id": "z5dnrAXEE5Y9"
      },
      "source": [
        "Ya podemos ver que tenemos la información deseada de cada noticia, es decir su titulo y un breve resumen de la noticia, sin embargo importaremos la libreria de pandas para poder crear un dataframe con el cual podamos tener una mejor visualización de los datos. "
      ]
    },
    {
      "cell_type": "code",
      "metadata": {
        "id": "AgE89pft8PPT"
      },
      "source": [
        "import pandas as pd\n"
      ],
      "execution_count": null,
      "outputs": []
    },
    {
      "cell_type": "code",
      "metadata": {
        "colab": {
          "base_uri": "https://localhost:8080/",
          "height": 824
        },
        "id": "zFrFD3rJNMMu",
        "outputId": "11244703-b55c-4529-ce5f-8f1692fb9fed"
      },
      "source": [
        "data_texto=pd.DataFrame(datos)\n",
        "data_texto"
      ],
      "execution_count": null,
      "outputs": [
        {
          "output_type": "execute_result",
          "data": {
            "text/html": [
              "<div>\n",
              "<style scoped>\n",
              "    .dataframe tbody tr th:only-of-type {\n",
              "        vertical-align: middle;\n",
              "    }\n",
              "\n",
              "    .dataframe tbody tr th {\n",
              "        vertical-align: top;\n",
              "    }\n",
              "\n",
              "    .dataframe thead th {\n",
              "        text-align: right;\n",
              "    }\n",
              "</style>\n",
              "<table border=\"1\" class=\"dataframe\">\n",
              "  <thead>\n",
              "    <tr style=\"text-align: right;\">\n",
              "      <th></th>\n",
              "      <th>Titulo</th>\n",
              "      <th>texto</th>\n",
              "    </tr>\n",
              "  </thead>\n",
              "  <tbody>\n",
              "    <tr>\n",
              "      <th>0</th>\n",
              "      <td>Ayudamos a crear Bitcoin: la nueva «revelación...</td>\n",
              "      <td>Los gemelos Bogdanov, populares por un meme de...</td>\n",
              "    </tr>\n",
              "    <tr>\n",
              "      <th>1</th>\n",
              "      <td>La tecnología Blockchain puede empoderar finan...</td>\n",
              "      <td>En un mundo tan cambiante, ahora es posible qu...</td>\n",
              "    </tr>\n",
              "    <tr>\n",
              "      <th>2</th>\n",
              "      <td>Paraguay podría adoptar Bitcoin como moneda de...</td>\n",
              "      <td>Paraguay podría estar iniciando su camino a la...</td>\n",
              "    </tr>\n",
              "    <tr>\n",
              "      <th>3</th>\n",
              "      <td>Ballenas Bitcoin movilizaron 22.174 BTC la sem...</td>\n",
              "      <td>Las Ballenas Bitcoin movilizaron 22.174 BTC la...</td>\n",
              "    </tr>\n",
              "    <tr>\n",
              "      <th>4</th>\n",
              "      <td>Minería Bitcoin: semana cargada de noticias po...</td>\n",
              "      <td>En esta edición del resumen semanal, se presen...</td>\n",
              "    </tr>\n",
              "    <tr>\n",
              "      <th>5</th>\n",
              "      <td>Bitcoin continúa lateralizado. Descubre aquí h...</td>\n",
              "      <td>El precio del Bitcoin continúa lateralizado, e...</td>\n",
              "    </tr>\n",
              "    <tr>\n",
              "      <th>6</th>\n",
              "      <td>Sotheby’s vende un diamante en criptomonedas</td>\n",
              "      <td>La casa de subasta Sotheby’s vende un diamante...</td>\n",
              "    </tr>\n",
              "    <tr>\n",
              "      <th>7</th>\n",
              "      <td>Cofundador de Apple ratificó su apoyo a Bitcoi...</td>\n",
              "      <td>Steve Wozniak cofundador de Apple ha ratificad...</td>\n",
              "    </tr>\n",
              "    <tr>\n",
              "      <th>8</th>\n",
              "      <td>¡La oportunidad es hoy con la tecnología Block...</td>\n",
              "      <td>La tecnología Blockchain tiene que ser una de ...</td>\n",
              "    </tr>\n",
              "    <tr>\n",
              "      <th>9</th>\n",
              "      <td>Microsoft usará Bitcoin para protección de ide...</td>\n",
              "      <td>Microsoft, usará la red Blockchain de Bitcoin ...</td>\n",
              "    </tr>\n",
              "    <tr>\n",
              "      <th>10</th>\n",
              "      <td>AXS, el token nativo del juego Blockchain Axie...</td>\n",
              "      <td>El token AXS, perteneciente al juego Axie Infi...</td>\n",
              "    </tr>\n",
              "    <tr>\n",
              "      <th>11</th>\n",
              "      <td>JPMorgan predice que Bitcoin se hundirá hasta ...</td>\n",
              "      <td>El gigante financiero JPMorgan, predice que el...</td>\n",
              "    </tr>\n",
              "    <tr>\n",
              "      <th>12</th>\n",
              "      <td>Cofundador de Apple aseguró que Bitcoin es mej...</td>\n",
              "      <td>Durante un importante evento tecnológico en Mé...</td>\n",
              "    </tr>\n",
              "    <tr>\n",
              "      <th>13</th>\n",
              "      <td>Minería de Bitcoin consume 60% menos energía q...</td>\n",
              "      <td>En un 60% ha disminuido la cantidad de energía...</td>\n",
              "    </tr>\n",
              "    <tr>\n",
              "      <th>14</th>\n",
              "      <td>El exchange Binance quedó bloqueado en China</td>\n",
              "      <td>Según Colin Wu, China bloqueó el acceso del ex...</td>\n",
              "    </tr>\n",
              "    <tr>\n",
              "      <th>15</th>\n",
              "      <td>Utopia P2P ha desarrollado una solución de min...</td>\n",
              "      <td>Utopia P2P ha anunciado el desarrollo de una o...</td>\n",
              "    </tr>\n",
              "    <tr>\n",
              "      <th>16</th>\n",
              "      <td>Square creará wallet de Bitcoin</td>\n",
              "      <td>La firma Square, radicada en San Francisco, an...</td>\n",
              "    </tr>\n",
              "    <tr>\n",
              "      <th>17</th>\n",
              "      <td>Polygon (MATIC) resiste la turbulencia. ¿Hacia...</td>\n",
              "      <td>La criptomoneda MATIC, nativa de la red Polygo...</td>\n",
              "    </tr>\n",
              "    <tr>\n",
              "      <th>18</th>\n",
              "      <td>Bank of America (BoA) crea un cripto equipo</td>\n",
              "      <td>Según Bloomberg, Bank of America (BoA) crea un...</td>\n",
              "    </tr>\n",
              "    <tr>\n",
              "      <th>19</th>\n",
              "      <td>Banco Sygnum se convirtió en el primer banco a...</td>\n",
              "      <td>A través de un comunicado, el banco suizo de a...</td>\n",
              "    </tr>\n",
              "    <tr>\n",
              "      <th>20</th>\n",
              "      <td>Bitcoin continúa lateralizado. Descubre aquí h...</td>\n",
              "      <td>El precio del Bitcoin continúa lateralizado, e...</td>\n",
              "    </tr>\n",
              "    <tr>\n",
              "      <th>21</th>\n",
              "      <td>Ballenas Bitcoin movilizaron 22.174 BTC la sem...</td>\n",
              "      <td>Las Ballenas Bitcoin movilizaron 22.174 BTC la...</td>\n",
              "    </tr>\n",
              "    <tr>\n",
              "      <th>22</th>\n",
              "      <td>Minería Bitcoin: semana cargada de noticias po...</td>\n",
              "      <td>En esta edición del resumen semanal, se presen...</td>\n",
              "    </tr>\n",
              "    <tr>\n",
              "      <th>23</th>\n",
              "      <td>Sotheby’s vende un diamante en criptomonedas</td>\n",
              "      <td>La casa de subasta Sotheby’s vende un diamante...</td>\n",
              "    </tr>\n",
              "    <tr>\n",
              "      <th>24</th>\n",
              "      <td>Paraguay podría adoptar Bitcoin como moneda de...</td>\n",
              "      <td>Paraguay podría estar iniciando su camino a la...</td>\n",
              "    </tr>\n",
              "  </tbody>\n",
              "</table>\n",
              "</div>"
            ],
            "text/plain": [
              "                                               Titulo                                              texto\n",
              "0   Ayudamos a crear Bitcoin: la nueva «revelación...  Los gemelos Bogdanov, populares por un meme de...\n",
              "1   La tecnología Blockchain puede empoderar finan...  En un mundo tan cambiante, ahora es posible qu...\n",
              "2   Paraguay podría adoptar Bitcoin como moneda de...  Paraguay podría estar iniciando su camino a la...\n",
              "3   Ballenas Bitcoin movilizaron 22.174 BTC la sem...  Las Ballenas Bitcoin movilizaron 22.174 BTC la...\n",
              "4   Minería Bitcoin: semana cargada de noticias po...  En esta edición del resumen semanal, se presen...\n",
              "5   Bitcoin continúa lateralizado. Descubre aquí h...  El precio del Bitcoin continúa lateralizado, e...\n",
              "6        Sotheby’s vende un diamante en criptomonedas  La casa de subasta Sotheby’s vende un diamante...\n",
              "7   Cofundador de Apple ratificó su apoyo a Bitcoi...  Steve Wozniak cofundador de Apple ha ratificad...\n",
              "8   ¡La oportunidad es hoy con la tecnología Block...  La tecnología Blockchain tiene que ser una de ...\n",
              "9   Microsoft usará Bitcoin para protección de ide...  Microsoft, usará la red Blockchain de Bitcoin ...\n",
              "10  AXS, el token nativo del juego Blockchain Axie...  El token AXS, perteneciente al juego Axie Infi...\n",
              "11  JPMorgan predice que Bitcoin se hundirá hasta ...  El gigante financiero JPMorgan, predice que el...\n",
              "12  Cofundador de Apple aseguró que Bitcoin es mej...  Durante un importante evento tecnológico en Mé...\n",
              "13  Minería de Bitcoin consume 60% menos energía q...  En un 60% ha disminuido la cantidad de energía...\n",
              "14       El exchange Binance quedó bloqueado en China  Según Colin Wu, China bloqueó el acceso del ex...\n",
              "15  Utopia P2P ha desarrollado una solución de min...  Utopia P2P ha anunciado el desarrollo de una o...\n",
              "16                    Square creará wallet de Bitcoin  La firma Square, radicada en San Francisco, an...\n",
              "17  Polygon (MATIC) resiste la turbulencia. ¿Hacia...  La criptomoneda MATIC, nativa de la red Polygo...\n",
              "18        Bank of America (BoA) crea un cripto equipo  Según Bloomberg, Bank of America (BoA) crea un...\n",
              "19  Banco Sygnum se convirtió en el primer banco a...  A través de un comunicado, el banco suizo de a...\n",
              "20  Bitcoin continúa lateralizado. Descubre aquí h...  El precio del Bitcoin continúa lateralizado, e...\n",
              "21  Ballenas Bitcoin movilizaron 22.174 BTC la sem...  Las Ballenas Bitcoin movilizaron 22.174 BTC la...\n",
              "22  Minería Bitcoin: semana cargada de noticias po...  En esta edición del resumen semanal, se presen...\n",
              "23       Sotheby’s vende un diamante en criptomonedas  La casa de subasta Sotheby’s vende un diamante...\n",
              "24  Paraguay podría adoptar Bitcoin como moneda de...  Paraguay podría estar iniciando su camino a la..."
            ]
          },
          "metadata": {
            "tags": []
          },
          "execution_count": 34
        }
      ]
    },
    {
      "cell_type": "markdown",
      "metadata": {
        "id": "zmqD2hykGzrG"
      },
      "source": [
        "Luego de eso procederemos a guardar nuestro dataframe en un archivo csv para poder utilizarlos mas adelante y realizar el procesamiento de lenguaje natural con nuestros datos y el procesamiento de texto. "
      ]
    },
    {
      "cell_type": "markdown",
      "metadata": {
        "id": "s4EHw671qAPh"
      },
      "source": [
        "## Analisis texto."
      ]
    },
    {
      "cell_type": "code",
      "metadata": {
        "id": "SSe7wtxiNRsz"
      },
      "source": [
        "data_texto.to_csv('data_texto.csv')"
      ],
      "execution_count": null,
      "outputs": []
    },
    {
      "cell_type": "code",
      "metadata": {
        "id": "KuZY_Or7GkuH"
      },
      "source": [
        "df = pd.read_csv('/content/data_texto.csv')"
      ],
      "execution_count": null,
      "outputs": []
    },
    {
      "cell_type": "code",
      "metadata": {
        "colab": {
          "base_uri": "https://localhost:8080/"
        },
        "id": "yoBiURmIINWn",
        "outputId": "c55f8cdb-1724-4374-cd16-aef6a8e5fc9d"
      },
      "source": [
        "df.info()"
      ],
      "execution_count": null,
      "outputs": [
        {
          "output_type": "stream",
          "text": [
            "<class 'pandas.core.frame.DataFrame'>\n",
            "RangeIndex: 25 entries, 0 to 24\n",
            "Data columns (total 3 columns):\n",
            " #   Column      Non-Null Count  Dtype \n",
            "---  ------      --------------  ----- \n",
            " 0   Unnamed: 0  25 non-null     int64 \n",
            " 1   Titulo      25 non-null     object\n",
            " 2   texto       25 non-null     object\n",
            "dtypes: int64(1), object(2)\n",
            "memory usage: 728.0+ bytes\n"
          ],
          "name": "stdout"
        }
      ]
    },
    {
      "cell_type": "code",
      "metadata": {
        "colab": {
          "base_uri": "https://localhost:8080/",
          "height": 204
        },
        "id": "H2kVCLpnIPMP",
        "outputId": "c294e2db-e517-461e-9c41-6fdbbebedf1b"
      },
      "source": [
        "df.head()"
      ],
      "execution_count": null,
      "outputs": [
        {
          "output_type": "execute_result",
          "data": {
            "text/html": [
              "<div>\n",
              "<style scoped>\n",
              "    .dataframe tbody tr th:only-of-type {\n",
              "        vertical-align: middle;\n",
              "    }\n",
              "\n",
              "    .dataframe tbody tr th {\n",
              "        vertical-align: top;\n",
              "    }\n",
              "\n",
              "    .dataframe thead th {\n",
              "        text-align: right;\n",
              "    }\n",
              "</style>\n",
              "<table border=\"1\" class=\"dataframe\">\n",
              "  <thead>\n",
              "    <tr style=\"text-align: right;\">\n",
              "      <th></th>\n",
              "      <th>Unnamed: 0</th>\n",
              "      <th>Titulo</th>\n",
              "      <th>texto</th>\n",
              "    </tr>\n",
              "  </thead>\n",
              "  <tbody>\n",
              "    <tr>\n",
              "      <th>0</th>\n",
              "      <td>0</td>\n",
              "      <td>Ayudamos a crear Bitcoin: la nueva «revelación...</td>\n",
              "      <td>Los gemelos Bogdanov, populares por un meme de...</td>\n",
              "    </tr>\n",
              "    <tr>\n",
              "      <th>1</th>\n",
              "      <td>1</td>\n",
              "      <td>La tecnología Blockchain puede empoderar finan...</td>\n",
              "      <td>En un mundo tan cambiante, ahora es posible qu...</td>\n",
              "    </tr>\n",
              "    <tr>\n",
              "      <th>2</th>\n",
              "      <td>2</td>\n",
              "      <td>Paraguay podría adoptar Bitcoin como moneda de...</td>\n",
              "      <td>Paraguay podría estar iniciando su camino a la...</td>\n",
              "    </tr>\n",
              "    <tr>\n",
              "      <th>3</th>\n",
              "      <td>3</td>\n",
              "      <td>Ballenas Bitcoin movilizaron 22.174 BTC la sem...</td>\n",
              "      <td>Las Ballenas Bitcoin movilizaron 22.174 BTC la...</td>\n",
              "    </tr>\n",
              "    <tr>\n",
              "      <th>4</th>\n",
              "      <td>4</td>\n",
              "      <td>Minería Bitcoin: semana cargada de noticias po...</td>\n",
              "      <td>En esta edición del resumen semanal, se presen...</td>\n",
              "    </tr>\n",
              "  </tbody>\n",
              "</table>\n",
              "</div>"
            ],
            "text/plain": [
              "   Unnamed: 0  ...                                              texto\n",
              "0           0  ...  Los gemelos Bogdanov, populares por un meme de...\n",
              "1           1  ...  En un mundo tan cambiante, ahora es posible qu...\n",
              "2           2  ...  Paraguay podría estar iniciando su camino a la...\n",
              "3           3  ...  Las Ballenas Bitcoin movilizaron 22.174 BTC la...\n",
              "4           4  ...  En esta edición del resumen semanal, se presen...\n",
              "\n",
              "[5 rows x 3 columns]"
            ]
          },
          "metadata": {
            "tags": []
          },
          "execution_count": 39
        }
      ]
    },
    {
      "cell_type": "markdown",
      "metadata": {
        "id": "UJS4CIOrIqmg"
      },
      "source": [
        "Para el ejercicio que realizaremos nos enfocaremos unicamente en la variable texto el cual es un breve resumen de la noticia del momento. "
      ]
    },
    {
      "cell_type": "code",
      "metadata": {
        "colab": {
          "base_uri": "https://localhost:8080/"
        },
        "id": "BI7MvN2IIaej",
        "outputId": "f5872ae0-8549-43dc-9b43-a70709388e24"
      },
      "source": [
        "df['texto'].head()"
      ],
      "execution_count": null,
      "outputs": [
        {
          "output_type": "execute_result",
          "data": {
            "text/plain": [
              "0    Los gemelos Bogdanov, populares por un meme de...\n",
              "1    En un mundo tan cambiante, ahora es posible qu...\n",
              "2    Paraguay podría estar iniciando su camino a la...\n",
              "3    Las Ballenas Bitcoin movilizaron 22.174 BTC la...\n",
              "4    En esta edición del resumen semanal, se presen...\n",
              "Name: texto, dtype: object"
            ]
          },
          "metadata": {
            "tags": []
          },
          "execution_count": 40
        }
      ]
    },
    {
      "cell_type": "markdown",
      "metadata": {
        "id": "kZUmT9tQpLBQ"
      },
      "source": [
        "Escojeremos el breve resumen de una noticia aleatoria para poder realizar una breve explicación de los metodos utilizados "
      ]
    },
    {
      "cell_type": "code",
      "metadata": {
        "id": "Skv29yjpI1qE"
      },
      "source": [
        "noti_aleaotoria = df['texto'][7]"
      ],
      "execution_count": null,
      "outputs": []
    },
    {
      "cell_type": "code",
      "metadata": {
        "colab": {
          "base_uri": "https://localhost:8080/",
          "height": 52
        },
        "id": "TIIu9AQaJDAn",
        "outputId": "4694e302-4baf-4fe5-d033-70931f0e7f44"
      },
      "source": [
        "noti_aleaotoria"
      ],
      "execution_count": null,
      "outputs": [
        {
          "output_type": "execute_result",
          "data": {
            "application/vnd.google.colaboratory.intrinsic+json": {
              "type": "string"
            },
            "text/plain": [
              "'Steve Wozniak cofundador de Apple ha ratificado su respaldo a Bitcoin y ha dicho que la criptomoneda es mejor que el oro. '"
            ]
          },
          "metadata": {
            "tags": []
          },
          "execution_count": 46
        }
      ]
    },
    {
      "cell_type": "markdown",
      "metadata": {
        "id": "FO4_3zQ2Onl0"
      },
      "source": [
        "Empezaremos haciendo un lower de nuestra noticia aleatoria el cual es una breve introducción a la noticia en desarrollo, aqui eliminaremos las mayusculas y dejaremos mas limpio nuestro breve texto."
      ]
    },
    {
      "cell_type": "code",
      "metadata": {
        "colab": {
          "base_uri": "https://localhost:8080/",
          "height": 52
        },
        "id": "NJWSL2L9JEvX",
        "outputId": "ebb79ee7-ef09-4cab-ff7c-a512ed3b9e18"
      },
      "source": [
        "noti_lower = noti_aleaotoria.lower()\n",
        "noti_lower"
      ],
      "execution_count": null,
      "outputs": [
        {
          "output_type": "execute_result",
          "data": {
            "application/vnd.google.colaboratory.intrinsic+json": {
              "type": "string"
            },
            "text/plain": [
              "'steve wozniak cofundador de apple ha ratificado su respaldo a bitcoin y ha dicho que la criptomoneda es mejor que el oro. '"
            ]
          },
          "metadata": {
            "tags": []
          },
          "execution_count": 47
        }
      ]
    },
    {
      "cell_type": "markdown",
      "metadata": {
        "id": "Gkaz-EVxQCla"
      },
      "source": [
        "Luego del lower generaremos la tokenización del texto importanto la libreria de nltk la cual nos da recursos para generar dicha tokenización. "
      ]
    },
    {
      "cell_type": "code",
      "metadata": {
        "colab": {
          "base_uri": "https://localhost:8080/"
        },
        "id": "2tHNj_NxOg4u",
        "outputId": "93375011-7a38-4377-ddf7-c571894be4d0"
      },
      "source": [
        "import nltk\n",
        "from nltk.tokenize import word_tokenize\n",
        "nltk.download('punkt')\n",
        "noti_token = word_tokenize(noti_lower)\n",
        "noti_token"
      ],
      "execution_count": null,
      "outputs": [
        {
          "output_type": "stream",
          "text": [
            "[nltk_data] Downloading package punkt to /root/nltk_data...\n",
            "[nltk_data]   Package punkt is already up-to-date!\n"
          ],
          "name": "stdout"
        },
        {
          "output_type": "execute_result",
          "data": {
            "text/plain": [
              "['steve',\n",
              " 'wozniak',\n",
              " 'cofundador',\n",
              " 'de',\n",
              " 'apple',\n",
              " 'ha',\n",
              " 'ratificado',\n",
              " 'su',\n",
              " 'respaldo',\n",
              " 'a',\n",
              " 'bitcoin',\n",
              " 'y',\n",
              " 'ha',\n",
              " 'dicho',\n",
              " 'que',\n",
              " 'la',\n",
              " 'criptomoneda',\n",
              " 'es',\n",
              " 'mejor',\n",
              " 'que',\n",
              " 'el',\n",
              " 'oro',\n",
              " '.']"
            ]
          },
          "metadata": {
            "tags": []
          },
          "execution_count": 54
        }
      ]
    },
    {
      "cell_type": "markdown",
      "metadata": {
        "id": "MnrFiFGsQmi4"
      },
      "source": [
        "Luego de eso continuaremos el Stopwords, esto nos sirve para desasernos de las palabras que no nos ofrecen una información valiosa continuamos usando la libreria de nltk."
      ]
    },
    {
      "cell_type": "code",
      "metadata": {
        "colab": {
          "base_uri": "https://localhost:8080/"
        },
        "id": "OXb-j3aYPgoh",
        "outputId": "a559babd-315d-440d-9390-4abf639c1efa"
      },
      "source": [
        "from nltk.corpus import stopwords\n",
        "nltk.download ('stopwords')\n",
        "stoplist = stopwords.words ('spanish')"
      ],
      "execution_count": null,
      "outputs": [
        {
          "output_type": "stream",
          "text": [
            "[nltk_data] Downloading package stopwords to /root/nltk_data...\n",
            "[nltk_data]   Unzipping corpora/stopwords.zip.\n"
          ],
          "name": "stdout"
        }
      ]
    },
    {
      "cell_type": "code",
      "metadata": {
        "id": "t61HP2xbRKMZ"
      },
      "source": [
        "noti_stop = [palabra for palabra in noti_token if palabra not in stoplist]"
      ],
      "execution_count": null,
      "outputs": []
    },
    {
      "cell_type": "code",
      "metadata": {
        "colab": {
          "base_uri": "https://localhost:8080/"
        },
        "id": "CZZwKgfyR2-s",
        "outputId": "896b2bde-7085-484d-f751-36455938ce2a"
      },
      "source": [
        "noti_stop"
      ],
      "execution_count": null,
      "outputs": [
        {
          "output_type": "execute_result",
          "data": {
            "text/plain": [
              "['steve',\n",
              " 'wozniak',\n",
              " 'cofundador',\n",
              " 'apple',\n",
              " 'ratificado',\n",
              " 'respaldo',\n",
              " 'bitcoin',\n",
              " 'dicho',\n",
              " 'criptomoneda',\n",
              " 'mejor',\n",
              " 'oro',\n",
              " '.']"
            ]
          },
          "metadata": {
            "tags": []
          },
          "execution_count": 56
        }
      ]
    },
    {
      "cell_type": "markdown",
      "metadata": {
        "id": "qO0t6TCfpqaR"
      },
      "source": [
        "## Stanza"
      ]
    },
    {
      "cell_type": "markdown",
      "metadata": {
        "id": "gbF5BDaIpt4J"
      },
      "source": [
        "Ahora para la continuación de nuestro trabajo utilizaremos la libreria de Stanza y utilizaremos el lemmatizador que nos ofrece esta libreria."
      ]
    },
    {
      "cell_type": "code",
      "metadata": {
        "colab": {
          "base_uri": "https://localhost:8080/"
        },
        "id": "ekuBbeTTR5Aq",
        "outputId": "da2df559-b6fa-4547-e73e-d1dc25a7fa57"
      },
      "source": [
        "pip install stanza"
      ],
      "execution_count": null,
      "outputs": [
        {
          "output_type": "stream",
          "text": [
            "Collecting stanza\n",
            "\u001b[?25l  Downloading https://files.pythonhosted.org/packages/2d/f3/cd7eaacabcec195a1c6c07b08cf1587b9f3f8754feba5c87d28867d75671/stanza-1.2.1-py3-none-any.whl (334kB)\n",
            "\u001b[K     |████████████████████████████████| 337kB 3.9MB/s \n",
            "\u001b[?25hRequirement already satisfied: torch>=1.3.0 in /usr/local/lib/python3.7/dist-packages (from stanza) (1.9.0+cu102)\n",
            "Requirement already satisfied: tqdm in /usr/local/lib/python3.7/dist-packages (from stanza) (4.41.1)\n",
            "Requirement already satisfied: protobuf in /usr/local/lib/python3.7/dist-packages (from stanza) (3.17.3)\n",
            "Requirement already satisfied: numpy in /usr/local/lib/python3.7/dist-packages (from stanza) (1.19.5)\n",
            "Requirement already satisfied: requests in /usr/local/lib/python3.7/dist-packages (from stanza) (2.23.0)\n",
            "Requirement already satisfied: typing-extensions in /usr/local/lib/python3.7/dist-packages (from torch>=1.3.0->stanza) (3.7.4.3)\n",
            "Requirement already satisfied: six>=1.9 in /usr/local/lib/python3.7/dist-packages (from protobuf->stanza) (1.15.0)\n",
            "Requirement already satisfied: urllib3!=1.25.0,!=1.25.1,<1.26,>=1.21.1 in /usr/local/lib/python3.7/dist-packages (from requests->stanza) (1.24.3)\n",
            "Requirement already satisfied: certifi>=2017.4.17 in /usr/local/lib/python3.7/dist-packages (from requests->stanza) (2021.5.30)\n",
            "Requirement already satisfied: chardet<4,>=3.0.2 in /usr/local/lib/python3.7/dist-packages (from requests->stanza) (3.0.4)\n",
            "Requirement already satisfied: idna<3,>=2.5 in /usr/local/lib/python3.7/dist-packages (from requests->stanza) (2.10)\n",
            "Installing collected packages: stanza\n",
            "Successfully installed stanza-1.2.1\n"
          ],
          "name": "stdout"
        }
      ]
    },
    {
      "cell_type": "code",
      "metadata": {
        "colab": {
          "base_uri": "https://localhost:8080/",
          "height": 149,
          "referenced_widgets": [
            "62dbcdc841d24795873eeb091d30f951",
            "0a3cb7987b8a43d29e7f1143db09ba22",
            "dcdf5cc348de4362b067c95e4f5e7ee7",
            "924d22bd069d47e8a6afb8d89dfbafb0",
            "bc3a937154a044f280b8b6bde44ff335",
            "205f54b9f54b49158d7c53c7caa25b4d",
            "9171eb3e40734b79a1bad680e03bd749",
            "0dbfacab7c1e46c3b12851221d7cf291",
            "807cd8004a024899910f5d9585c4dd16",
            "3a31ac043a1742e9a7a7645e052a7b0a",
            "fa0fd5da90b4486fb09d82409a46254b",
            "4d228d009aa64f22a535164716e7483b",
            "b301e5db717c4f6f951d7dad1eebba5a",
            "6b13c6d5a526409399d08bce344d323d",
            "eeec7c54ae1f439d96a40c883f297866",
            "754e9b33643e4e8f8148546b5745436d"
          ]
        },
        "id": "ZaqExuiDTH3X",
        "outputId": "44aee272-6338-45dc-ecef-9ed00d7b65cd"
      },
      "source": [
        "import stanza\n",
        "stanza.download('es')"
      ],
      "execution_count": null,
      "outputs": [
        {
          "output_type": "display_data",
          "data": {
            "application/vnd.jupyter.widget-view+json": {
              "model_id": "62dbcdc841d24795873eeb091d30f951",
              "version_minor": 0,
              "version_major": 2
            },
            "text/plain": [
              "HBox(children=(FloatProgress(value=0.0, description='Downloading https://raw.githubusercontent.com/stanfordnlp…"
            ]
          },
          "metadata": {
            "tags": []
          }
        },
        {
          "output_type": "stream",
          "text": [
            "2021-07-12 19:59:01 INFO: Downloading default packages for language: es (Spanish)...\n"
          ],
          "name": "stderr"
        },
        {
          "output_type": "stream",
          "text": [
            "\n"
          ],
          "name": "stdout"
        },
        {
          "output_type": "display_data",
          "data": {
            "application/vnd.jupyter.widget-view+json": {
              "model_id": "807cd8004a024899910f5d9585c4dd16",
              "version_minor": 0,
              "version_major": 2
            },
            "text/plain": [
              "HBox(children=(FloatProgress(value=0.0, description='Downloading http://nlp.stanford.edu/software/stanza/1.2.1…"
            ]
          },
          "metadata": {
            "tags": []
          }
        },
        {
          "output_type": "stream",
          "text": [
            "\n"
          ],
          "name": "stdout"
        },
        {
          "output_type": "stream",
          "text": [
            "2021-07-12 20:01:01 INFO: Finished downloading models and saved to /root/stanza_resources.\n"
          ],
          "name": "stderr"
        }
      ]
    },
    {
      "cell_type": "code",
      "metadata": {
        "colab": {
          "base_uri": "https://localhost:8080/"
        },
        "id": "6HtCS-ycTRrC",
        "outputId": "12cb7f2f-449d-4696-b0d8-f72672bee6fd"
      },
      "source": [
        "esp = stanza.Pipeline('es', processors='tokenize,mwt,pos,lemma')"
      ],
      "execution_count": null,
      "outputs": [
        {
          "output_type": "stream",
          "text": [
            "2021-07-12 20:02:30 INFO: Loading these models for language: es (Spanish):\n",
            "=======================\n",
            "| Processor | Package |\n",
            "-----------------------\n",
            "| tokenize  | ancora  |\n",
            "| mwt       | ancora  |\n",
            "| pos       | ancora  |\n",
            "| lemma     | ancora  |\n",
            "=======================\n",
            "\n",
            "2021-07-12 20:02:30 INFO: Use device: cpu\n",
            "2021-07-12 20:02:30 INFO: Loading: tokenize\n",
            "2021-07-12 20:02:30 INFO: Loading: mwt\n",
            "2021-07-12 20:02:30 INFO: Loading: pos\n",
            "2021-07-12 20:02:30 INFO: Loading: lemma\n",
            "2021-07-12 20:02:30 INFO: Done loading processors!\n"
          ],
          "name": "stderr"
        }
      ]
    },
    {
      "cell_type": "code",
      "metadata": {
        "id": "pCUlL6SHUFmX"
      },
      "source": [
        "doc = esp(noti_aleaotoria)"
      ],
      "execution_count": null,
      "outputs": []
    },
    {
      "cell_type": "code",
      "metadata": {
        "colab": {
          "base_uri": "https://localhost:8080/"
        },
        "id": "ReH8sBWfUgRs",
        "outputId": "078b8fa1-1541-4bb3-87ce-ab94dbce572c"
      },
      "source": [
        "for sent in doc.sentences:\n",
        "  for word in sent.words:\n",
        "    print(word.lemma)"
      ],
      "execution_count": null,
      "outputs": [
        {
          "output_type": "stream",
          "text": [
            "Steve\n",
            "Wozniak\n",
            "cofundador\n",
            "de\n",
            "Apple\n",
            "haber\n",
            "ratificar\n",
            "su\n",
            "respaldo\n",
            "a\n",
            "Bitcoin\n",
            "y\n",
            "haber\n",
            "decir\n",
            "que\n",
            "el\n",
            "criptomoneda\n",
            "ser\n",
            "mejor\n",
            "que\n",
            "el\n",
            "oro\n",
            ".\n"
          ],
          "name": "stdout"
        }
      ]
    },
    {
      "cell_type": "markdown",
      "metadata": {
        "id": "O4-uw8jMqbeE"
      },
      "source": [
        "## Libreria Contexto."
      ]
    },
    {
      "cell_type": "markdown",
      "metadata": {
        "id": "JlzE7VP8oIgN"
      },
      "source": [
        "Ahora utilizaremos la libreria contexto para poder utilizar las herramientas de limpieza de texto, coherencia entre otras. "
      ]
    },
    {
      "cell_type": "code",
      "metadata": {
        "id": "jiNjMRSoUyFp"
      },
      "source": [
        " pip install contexto"
      ],
      "execution_count": null,
      "outputs": []
    },
    {
      "cell_type": "code",
      "metadata": {
        "id": "kCwOqq2ZWMa0"
      },
      "source": [
        "import contexto \n"
      ],
      "execution_count": null,
      "outputs": []
    },
    {
      "cell_type": "code",
      "metadata": {
        "id": "j4L-3mqWWpP1"
      },
      "source": [
        "from contexto.limpieza import limpieza_basica, limpieza_texto, lista_stopwords\n",
        "from contexto.lematizacion import lematizar_texto\n",
        "from contexto.stemming import stem_texto"
      ],
      "execution_count": null,
      "outputs": []
    },
    {
      "cell_type": "code",
      "metadata": {
        "colab": {
          "base_uri": "https://localhost:8080/",
          "height": 52
        },
        "id": "n59QusPBYjJ8",
        "outputId": "22f49183-a4b8-4bc0-819b-be45e19c2659"
      },
      "source": [
        "noti_aleaotoria"
      ],
      "execution_count": null,
      "outputs": [
        {
          "output_type": "execute_result",
          "data": {
            "application/vnd.google.colaboratory.intrinsic+json": {
              "type": "string"
            },
            "text/plain": [
              "'Steve Wozniak cofundador de Apple ha ratificado su respaldo a Bitcoin y ha dicho que la criptomoneda es mejor que el oro. '"
            ]
          },
          "metadata": {
            "tags": []
          },
          "execution_count": 67
        }
      ]
    },
    {
      "cell_type": "markdown",
      "metadata": {
        "id": "sqXIheomoWEw"
      },
      "source": [
        "Con la libreria contexto podremos utilizar la herramienta de limpieza de texto que nos ofrece similitudes a lower que utilizamos anteriormente."
      ]
    },
    {
      "cell_type": "code",
      "metadata": {
        "colab": {
          "base_uri": "https://localhost:8080/",
          "height": 52
        },
        "id": "B9kCDUMbYlLj",
        "outputId": "e35090a2-812c-45a4-8895-88ac192ef77d"
      },
      "source": [
        "limpieza_texto(noti_aleaotoria)"
      ],
      "execution_count": null,
      "outputs": [
        {
          "output_type": "execute_result",
          "data": {
            "application/vnd.google.colaboratory.intrinsic+json": {
              "type": "string"
            },
            "text/plain": [
              "'steve wozniak cofundador de apple ha ratificado su respaldo a bitcoin y ha dicho que la criptomoneda es mejor que el oro'"
            ]
          },
          "metadata": {
            "tags": []
          },
          "execution_count": 68
        }
      ]
    },
    {
      "cell_type": "code",
      "metadata": {
        "colab": {
          "base_uri": "https://localhost:8080/",
          "height": 35
        },
        "id": "8mpchjCJYoWQ",
        "outputId": "1be884db-c8f7-46be-c0fd-c302fff2e457"
      },
      "source": [
        "texto_limpio = limpieza_texto(noti_aleaotoria,lista_palabras=lista_stopwords())\n",
        "texto_limpio"
      ],
      "execution_count": null,
      "outputs": [
        {
          "output_type": "execute_result",
          "data": {
            "application/vnd.google.colaboratory.intrinsic+json": {
              "type": "string"
            },
            "text/plain": [
              "'steve wozniak cofundador apple ratificado respaldo bitcoin dicho criptomoneda mejor oro'"
            ]
          },
          "metadata": {
            "tags": []
          },
          "execution_count": 71
        }
      ]
    },
    {
      "cell_type": "code",
      "metadata": {
        "colab": {
          "base_uri": "https://localhost:8080/",
          "height": 35
        },
        "id": "smeRrzMja8kF",
        "outputId": "390b5c68-813c-4fdd-8543-c62e84264d84"
      },
      "source": [
        "text_stem = stem_texto(noti_aleaotoria)\n",
        "text_stem"
      ],
      "execution_count": null,
      "outputs": [
        {
          "output_type": "execute_result",
          "data": {
            "application/vnd.google.colaboratory.intrinsic+json": {
              "type": "string"
            },
            "text/plain": [
              "'stev wozniak cofund de apple ha ratific su respald a bitcoin y ha dich que la criptomoned es mejor que el oro.'"
            ]
          },
          "metadata": {
            "tags": []
          },
          "execution_count": 80
        }
      ]
    },
    {
      "cell_type": "markdown",
      "metadata": {
        "id": "kEMe-nSNaP-P"
      },
      "source": [
        "### Exploración y nube de palabras de una noticia."
      ]
    },
    {
      "cell_type": "markdown",
      "metadata": {
        "id": "nLtmSwv2sYvp"
      },
      "source": [
        "Con ayuda de la libreria de contexto generaremos una nube de palabras de mayor relevancia de nuestra breve noticia luego de haberla limpiado. "
      ]
    },
    {
      "cell_type": "code",
      "metadata": {
        "id": "D0MEVQCKaS1Y"
      },
      "source": [
        "from contexto.exploracion import frecuencia_ngramas, grafica_barchart_frecuencias, grafica_nube, par_nubes"
      ],
      "execution_count": null,
      "outputs": []
    },
    {
      "cell_type": "code",
      "metadata": {
        "id": "zRhZcvSSq7Iq"
      },
      "source": [
        "pip install matplotlib==3.1.3"
      ],
      "execution_count": null,
      "outputs": []
    },
    {
      "cell_type": "code",
      "metadata": {
        "colab": {
          "base_uri": "https://localhost:8080/",
          "height": 319
        },
        "id": "K1KmrMIxajo9",
        "outputId": "9ab1a542-c412-40c3-baa9-06762092de7c"
      },
      "source": [
        "nube_palabras(texto_limpio, dim_figura=(5,5), n_grama=1)"
      ],
      "execution_count": null,
      "outputs": [
        {
          "output_type": "display_data",
          "data": {
            "image/png": "[encoded data removed]",
            "text/plain": [
              "<Figure size 360x360 with 1 Axes>"
            ]
          },
          "metadata": {
            "tags": [],
            "needs_background": "light"
          }
        }
      ]
    },
    {
      "cell_type": "markdown",
      "metadata": {
        "id": "lGU0DRyscR1X"
      },
      "source": [
        "## Modelamiento con mas noticias. "
      ]
    },
    {
      "cell_type": "markdown",
      "metadata": {
        "id": "UMBPKXLKwKMw"
      },
      "source": [
        "Ahora nos concentraremos en 8 noticias para hacer la vectorización y el modelamiento de las mismas. "
      ]
    },
    {
      "cell_type": "markdown",
      "metadata": {
        "id": "r_TDPP4ockGL"
      },
      "source": [
        "Vectorización "
      ]
    },
    {
      "cell_type": "code",
      "metadata": {
        "colab": {
          "base_uri": "https://localhost:8080/"
        },
        "id": "Tp8LBGT-cTcC",
        "outputId": "a40a8e26-6158-4af7-f4ed-512f55a39b9e"
      },
      "source": [
        "primeras_noticias = df[:7]['texto']\n",
        "primeras_noticias"
      ],
      "execution_count": null,
      "outputs": [
        {
          "output_type": "execute_result",
          "data": {
            "text/plain": [
              "0    Los gemelos Bogdanov, populares por un meme de...\n",
              "1    En un mundo tan cambiante, ahora es posible qu...\n",
              "2    Paraguay podría estar iniciando su camino a la...\n",
              "3    Las Ballenas Bitcoin movilizaron 22.174 BTC la...\n",
              "4    En esta edición del resumen semanal, se presen...\n",
              "5    El precio del Bitcoin continúa lateralizado, e...\n",
              "6    La casa de subasta Sotheby’s vende un diamante...\n",
              "Name: texto, dtype: object"
            ]
          },
          "metadata": {
            "tags": []
          },
          "execution_count": 167
        }
      ]
    },
    {
      "cell_type": "markdown",
      "metadata": {
        "id": "Emf-dFvRwXL6"
      },
      "source": [
        "Primero limpiaremos las noticias para evitar asi ruido y asi poder tener la mayor cantidad de información. "
      ]
    },
    {
      "cell_type": "code",
      "metadata": {
        "colab": {
          "base_uri": "https://localhost:8080/"
        },
        "id": "cXwW5WRyeVh5",
        "outputId": "bbbbc6cf-220a-493a-d76f-e93de9339335"
      },
      "source": [
        "noticias_1 =list(primeras_noticias)\n",
        "noticias_1"
      ],
      "execution_count": null,
      "outputs": [
        {
          "output_type": "execute_result",
          "data": {
            "text/plain": [
              "['Los gemelos Bogdanov, populares por un meme de manipulación de precio, aseguran que ayudaron a Satoshi Nakamoto a crear Bitcoin. ',\n",
              " 'En un mundo tan cambiante, ahora es posible que gracias a la tecnología Blockchain mujeres puedan lograr su libertad financiera.',\n",
              " 'Paraguay podría estar iniciando su camino a la adopción definitiva de criptomonedas en los próximos días. Entérate en el tweet del día.',\n",
              " 'Las Ballenas Bitcoin movilizaron 22.174 BTC la semana pasada, pero, ¿esto quiere decir de alguna forma que hay tendencia bajista este mes? Veamos.',\n",
              " 'En esta edición del resumen semanal, se presentan las noticias relacionadas con la minería de Bitcoin más destacadas y cargadas de polémica.',\n",
              " 'El precio del Bitcoin continúa lateralizado, envuelto en un comportamiento muy poco volátil. Acá un análisis de la situación actual. ',\n",
              " 'La casa de subasta Sotheby’s vende un diamante de más de 100 quilates por $ 12,3 millones en criptomonedas ¡Te contamos los detalles!']"
            ]
          },
          "metadata": {
            "tags": []
          },
          "execution_count": 147
        }
      ]
    },
    {
      "cell_type": "code",
      "metadata": {
        "id": "psa6ynvkei-y"
      },
      "source": [
        "noticias_1_limpios= [limpieza_texto(texto, lista_palabras=lista_stopwords()) for texto in noticias_1]"
      ],
      "execution_count": null,
      "outputs": []
    },
    {
      "cell_type": "code",
      "metadata": {
        "colab": {
          "base_uri": "https://localhost:8080/"
        },
        "id": "9TcTqJuCfHoP",
        "outputId": "47bb298c-2cd6-43dd-f46a-984096f35ec7"
      },
      "source": [
        "noticias_1_limpios"
      ],
      "execution_count": null,
      "outputs": [
        {
          "output_type": "execute_result",
          "data": {
            "text/plain": [
              "['gemelos bogdanov populares meme manipulación precio aseguran ayudaron satoshi nakamoto crear bitcoin',\n",
              " 'mundo cambiante ahora posible gracias tecnología blockchain mujeres puedan lograr libertad financiera',\n",
              " 'paraguay podría iniciando camino adopción definitiva criptomonedas próximos días entérate tweet día',\n",
              " 'ballenas bitcoin movilizaron btc semana pasada quiere decir forma tendencia bajista mes veamos',\n",
              " 'edición resumen semanal presentan noticias relacionadas minería bitcoin destacadas cargadas polémica',\n",
              " 'precio bitcoin continúa lateralizado envuelto comportamiento volátil acá análisis situación actual',\n",
              " 'casa subasta sotheby s vende diamante quilates millones criptomonedas contamos detalles']"
            ]
          },
          "metadata": {
            "tags": []
          },
          "execution_count": 149
        }
      ]
    },
    {
      "cell_type": "markdown",
      "metadata": {
        "id": "OhfRNtaDfXVe"
      },
      "source": [
        "Ahora vectorizaremos con contexto.\n",
        "\n"
      ]
    },
    {
      "cell_type": "code",
      "metadata": {
        "id": "YtWCDGbbfJaL"
      },
      "source": [
        "from contexto.vectorizacion import VectorizadorFrecuencias"
      ],
      "execution_count": null,
      "outputs": []
    },
    {
      "cell_type": "code",
      "metadata": {
        "id": "sXsUDLZpfgnw"
      },
      "source": [
        "vec_bow= VectorizadorFrecuencias()\n",
        "vec_tfidf = VectorizadorFrecuencias(tipo='tfidf', idf=True)\n",
        "vec_bow.ajustar(noticias_1_limpios)\n",
        "vec_tfidf.ajustar(noticias_1_limpios)"
      ],
      "execution_count": null,
      "outputs": []
    },
    {
      "cell_type": "code",
      "metadata": {
        "id": "PBh_s7NYf-Mh"
      },
      "source": [
        "vb = vec_bow.vectorizar(noticias_1_limpios)\n",
        "vtfidf = vec_tfidf.vectorizar(noticias_1_limpios)"
      ],
      "execution_count": null,
      "outputs": []
    },
    {
      "cell_type": "markdown",
      "metadata": {
        "id": "Xy4bJgaagkln"
      },
      "source": [
        "En este caso lo que observaremos sera la cantidad de veces que una palabra se repite en el breve resumen de las noticias. "
      ]
    },
    {
      "cell_type": "code",
      "metadata": {
        "colab": {
          "base_uri": "https://localhost:8080/"
        },
        "id": "0YN2EufjgN8b",
        "outputId": "94e79631-1a2b-4e47-8ca1-6e5e2204a00c"
      },
      "source": [
        "vb"
      ],
      "execution_count": null,
      "outputs": [
        {
          "output_type": "execute_result",
          "data": {
            "text/plain": [
              "array([[0, 0, 0, 0, 0, 1, 1, 0, 0, 1, 0, 1, 0, 0, 0, 0, 0, 0, 0, 0, 1, 0,\n",
              "        0, 0, 0, 0, 0, 0, 0, 0, 0, 0, 0, 0, 1, 0, 0, 0, 0, 0, 1, 1, 0, 0,\n",
              "        0, 0, 0, 0, 1, 0, 0, 0, 0, 0, 1, 0, 1, 0, 0, 0, 0, 0, 0, 0, 1, 0,\n",
              "        0, 0, 0, 0, 0, 0, 0, 0, 0, 0],\n",
              "       [0, 0, 0, 1, 0, 0, 0, 0, 0, 0, 1, 0, 0, 1, 0, 0, 0, 0, 0, 0, 0, 0,\n",
              "        0, 0, 0, 0, 0, 0, 0, 0, 0, 0, 1, 0, 0, 1, 0, 0, 1, 1, 0, 0, 0, 0,\n",
              "        0, 0, 1, 1, 0, 0, 0, 0, 0, 0, 0, 1, 0, 0, 0, 1, 0, 0, 0, 0, 0, 0,\n",
              "        0, 0, 0, 0, 1, 0, 0, 0, 0, 0],\n",
              "       [0, 0, 1, 0, 0, 0, 0, 0, 0, 0, 0, 0, 0, 0, 1, 0, 0, 0, 0, 0, 0, 1,\n",
              "        0, 1, 0, 0, 0, 1, 1, 0, 1, 0, 0, 0, 0, 0, 1, 0, 0, 0, 0, 0, 0, 0,\n",
              "        0, 0, 0, 0, 0, 0, 1, 0, 1, 0, 0, 0, 0, 0, 1, 0, 0, 0, 0, 0, 0, 0,\n",
              "        0, 0, 0, 0, 0, 0, 1, 0, 0, 0],\n",
              "       [0, 0, 0, 0, 0, 0, 0, 1, 1, 1, 0, 0, 1, 0, 0, 0, 0, 0, 0, 0, 0, 0,\n",
              "        1, 0, 0, 0, 0, 0, 0, 0, 0, 0, 0, 1, 0, 0, 0, 0, 0, 0, 0, 0, 1, 0,\n",
              "        0, 1, 0, 0, 0, 0, 0, 1, 0, 0, 0, 0, 0, 0, 0, 0, 1, 0, 0, 0, 0, 1,\n",
              "        0, 0, 0, 0, 0, 1, 0, 1, 0, 0],\n",
              "       [0, 0, 0, 0, 0, 0, 0, 0, 0, 1, 0, 0, 0, 0, 0, 1, 0, 0, 0, 0, 0, 0,\n",
              "        0, 0, 1, 0, 0, 0, 0, 1, 0, 0, 0, 0, 0, 0, 0, 0, 0, 0, 0, 0, 0, 0,\n",
              "        1, 0, 0, 0, 0, 1, 0, 0, 0, 1, 0, 0, 0, 1, 0, 0, 0, 0, 1, 1, 0, 0,\n",
              "        1, 0, 0, 0, 0, 0, 0, 0, 0, 0],\n",
              "       [1, 1, 0, 0, 1, 0, 0, 0, 0, 1, 0, 0, 0, 0, 0, 0, 0, 1, 0, 1, 0, 0,\n",
              "        0, 0, 0, 0, 0, 0, 0, 0, 0, 1, 0, 0, 0, 0, 0, 1, 0, 0, 0, 0, 0, 0,\n",
              "        0, 0, 0, 0, 0, 0, 0, 0, 0, 0, 0, 0, 1, 0, 0, 0, 0, 0, 0, 0, 0, 0,\n",
              "        0, 1, 0, 0, 0, 0, 0, 0, 0, 1],\n",
              "       [0, 0, 0, 0, 0, 0, 0, 0, 0, 0, 0, 0, 0, 0, 0, 0, 1, 0, 1, 0, 0, 1,\n",
              "        0, 0, 0, 1, 1, 0, 0, 0, 0, 0, 0, 0, 0, 0, 0, 0, 0, 0, 0, 0, 0, 1,\n",
              "        0, 0, 0, 0, 0, 0, 0, 0, 0, 0, 0, 0, 0, 0, 0, 0, 0, 1, 0, 0, 0, 0,\n",
              "        0, 0, 1, 1, 0, 0, 0, 0, 1, 0]])"
            ]
          },
          "metadata": {
            "tags": []
          },
          "execution_count": 152
        }
      ]
    },
    {
      "cell_type": "markdown",
      "metadata": {
        "id": "3TVhby7qhUvi"
      },
      "source": [
        ""
      ]
    },
    {
      "cell_type": "code",
      "metadata": {
        "colab": {
          "base_uri": "https://localhost:8080/"
        },
        "id": "mJ2-4s2igObS",
        "outputId": "054b9a05-5529-4793-8d36-9c84b2db805b"
      },
      "source": [
        "vtfidf"
      ],
      "execution_count": null,
      "outputs": [
        {
          "output_type": "execute_result",
          "data": {
            "text/plain": [
              "array([[0.        , 0.        , 0.        , 0.        , 0.        ,\n",
              "        0.3005766 , 0.3005766 , 0.        , 0.        , 0.18516102,\n",
              "        0.        , 0.3005766 , 0.        , 0.        , 0.        ,\n",
              "        0.        , 0.        , 0.        , 0.        , 0.        ,\n",
              "        0.3005766 , 0.        , 0.        , 0.        , 0.        ,\n",
              "        0.        , 0.        , 0.        , 0.        , 0.        ,\n",
              "        0.        , 0.        , 0.        , 0.        , 0.3005766 ,\n",
              "        0.        , 0.        , 0.        , 0.        , 0.        ,\n",
              "        0.3005766 , 0.3005766 , 0.        , 0.        , 0.        ,\n",
              "        0.        , 0.        , 0.        , 0.3005766 , 0.        ,\n",
              "        0.        , 0.        , 0.        , 0.        , 0.3005766 ,\n",
              "        0.        , 0.2495044 , 0.        , 0.        , 0.        ,\n",
              "        0.        , 0.        , 0.        , 0.        , 0.3005766 ,\n",
              "        0.        , 0.        , 0.        , 0.        , 0.        ,\n",
              "        0.        , 0.        , 0.        , 0.        , 0.        ,\n",
              "        0.        ],\n",
              "       [0.        , 0.        , 0.        , 0.28867513, 0.        ,\n",
              "        0.        , 0.        , 0.        , 0.        , 0.        ,\n",
              "        0.28867513, 0.        , 0.        , 0.28867513, 0.        ,\n",
              "        0.        , 0.        , 0.        , 0.        , 0.        ,\n",
              "        0.        , 0.        , 0.        , 0.        , 0.        ,\n",
              "        0.        , 0.        , 0.        , 0.        , 0.        ,\n",
              "        0.        , 0.        , 0.28867513, 0.        , 0.        ,\n",
              "        0.28867513, 0.        , 0.        , 0.28867513, 0.28867513,\n",
              "        0.        , 0.        , 0.        , 0.        , 0.        ,\n",
              "        0.        , 0.28867513, 0.28867513, 0.        , 0.        ,\n",
              "        0.        , 0.        , 0.        , 0.        , 0.        ,\n",
              "        0.28867513, 0.        , 0.        , 0.        , 0.28867513,\n",
              "        0.        , 0.        , 0.        , 0.        , 0.        ,\n",
              "        0.        , 0.        , 0.        , 0.        , 0.        ,\n",
              "        0.28867513, 0.        , 0.        , 0.        , 0.        ,\n",
              "        0.        ],\n",
              "       [0.        , 0.        , 0.29248967, 0.        , 0.        ,\n",
              "        0.        , 0.        , 0.        , 0.        , 0.        ,\n",
              "        0.        , 0.        , 0.        , 0.        , 0.29248967,\n",
              "        0.        , 0.        , 0.        , 0.        , 0.        ,\n",
              "        0.        , 0.24279154, 0.        , 0.29248967, 0.        ,\n",
              "        0.        , 0.        , 0.29248967, 0.29248967, 0.        ,\n",
              "        0.29248967, 0.        , 0.        , 0.        , 0.        ,\n",
              "        0.        , 0.29248967, 0.        , 0.        , 0.        ,\n",
              "        0.        , 0.        , 0.        , 0.        , 0.        ,\n",
              "        0.        , 0.        , 0.        , 0.        , 0.        ,\n",
              "        0.29248967, 0.        , 0.29248967, 0.        , 0.        ,\n",
              "        0.        , 0.        , 0.        , 0.29248967, 0.        ,\n",
              "        0.        , 0.        , 0.        , 0.        , 0.        ,\n",
              "        0.        , 0.        , 0.        , 0.        , 0.        ,\n",
              "        0.        , 0.        , 0.29248967, 0.        , 0.        ,\n",
              "        0.        ],\n",
              "       [0.        , 0.        , 0.        , 0.        , 0.        ,\n",
              "        0.        , 0.        , 0.28421618, 0.28421618, 0.17508268,\n",
              "        0.        , 0.        , 0.28421618, 0.        , 0.        ,\n",
              "        0.        , 0.        , 0.        , 0.        , 0.        ,\n",
              "        0.        , 0.        , 0.28421618, 0.        , 0.        ,\n",
              "        0.        , 0.        , 0.        , 0.        , 0.        ,\n",
              "        0.        , 0.        , 0.        , 0.28421618, 0.        ,\n",
              "        0.        , 0.        , 0.        , 0.        , 0.        ,\n",
              "        0.        , 0.        , 0.28421618, 0.        , 0.        ,\n",
              "        0.28421618, 0.        , 0.        , 0.        , 0.        ,\n",
              "        0.        , 0.28421618, 0.        , 0.        , 0.        ,\n",
              "        0.        , 0.        , 0.        , 0.        , 0.        ,\n",
              "        0.28421618, 0.        , 0.        , 0.        , 0.        ,\n",
              "        0.28421618, 0.        , 0.        , 0.        , 0.        ,\n",
              "        0.        , 0.28421618, 0.        , 0.28421618, 0.        ,\n",
              "        0.        ],\n",
              "       [0.        , 0.        , 0.        , 0.        , 0.        ,\n",
              "        0.        , 0.        , 0.        , 0.        , 0.19120824,\n",
              "        0.        , 0.        , 0.        , 0.        , 0.        ,\n",
              "        0.3103932 , 0.        , 0.        , 0.        , 0.        ,\n",
              "        0.        , 0.        , 0.        , 0.        , 0.3103932 ,\n",
              "        0.        , 0.        , 0.        , 0.        , 0.3103932 ,\n",
              "        0.        , 0.        , 0.        , 0.        , 0.        ,\n",
              "        0.        , 0.        , 0.        , 0.        , 0.        ,\n",
              "        0.        , 0.        , 0.        , 0.        , 0.3103932 ,\n",
              "        0.        , 0.        , 0.        , 0.        , 0.3103932 ,\n",
              "        0.        , 0.        , 0.        , 0.3103932 , 0.        ,\n",
              "        0.        , 0.        , 0.3103932 , 0.        , 0.        ,\n",
              "        0.        , 0.        , 0.3103932 , 0.3103932 , 0.        ,\n",
              "        0.        , 0.3103932 , 0.        , 0.        , 0.        ,\n",
              "        0.        , 0.        , 0.        , 0.        , 0.        ,\n",
              "        0.        ],\n",
              "       [0.31514987, 0.31514987, 0.        , 0.        , 0.31514987,\n",
              "        0.        , 0.        , 0.        , 0.        , 0.19413843,\n",
              "        0.        , 0.        , 0.        , 0.        , 0.        ,\n",
              "        0.        , 0.        , 0.31514987, 0.        , 0.31514987,\n",
              "        0.        , 0.        , 0.        , 0.        , 0.        ,\n",
              "        0.        , 0.        , 0.        , 0.        , 0.        ,\n",
              "        0.        , 0.31514987, 0.        , 0.        , 0.        ,\n",
              "        0.        , 0.        , 0.31514987, 0.        , 0.        ,\n",
              "        0.        , 0.        , 0.        , 0.        , 0.        ,\n",
              "        0.        , 0.        , 0.        , 0.        , 0.        ,\n",
              "        0.        , 0.        , 0.        , 0.        , 0.        ,\n",
              "        0.        , 0.26160145, 0.        , 0.        , 0.        ,\n",
              "        0.        , 0.        , 0.        , 0.        , 0.        ,\n",
              "        0.        , 0.        , 0.31514987, 0.        , 0.        ,\n",
              "        0.        , 0.        , 0.        , 0.        , 0.        ,\n",
              "        0.31514987],\n",
              "       [0.        , 0.        , 0.        , 0.        , 0.        ,\n",
              "        0.        , 0.        , 0.        , 0.        , 0.        ,\n",
              "        0.        , 0.        , 0.        , 0.        , 0.        ,\n",
              "        0.        , 0.32126215, 0.        , 0.32126215, 0.        ,\n",
              "        0.        , 0.26667518, 0.        , 0.        , 0.        ,\n",
              "        0.32126215, 0.32126215, 0.        , 0.        , 0.        ,\n",
              "        0.        , 0.        , 0.        , 0.        , 0.        ,\n",
              "        0.        , 0.        , 0.        , 0.        , 0.        ,\n",
              "        0.        , 0.        , 0.        , 0.32126215, 0.        ,\n",
              "        0.        , 0.        , 0.        , 0.        , 0.        ,\n",
              "        0.        , 0.        , 0.        , 0.        , 0.        ,\n",
              "        0.        , 0.        , 0.        , 0.        , 0.        ,\n",
              "        0.        , 0.32126215, 0.        , 0.        , 0.        ,\n",
              "        0.        , 0.        , 0.        , 0.32126215, 0.32126215,\n",
              "        0.        , 0.        , 0.        , 0.        , 0.32126215,\n",
              "        0.        ]])"
            ]
          },
          "metadata": {
            "tags": []
          },
          "execution_count": 153
        }
      ]
    },
    {
      "cell_type": "markdown",
      "metadata": {
        "id": "yMWqu2UciHZE"
      },
      "source": [
        "## Modelar"
      ]
    },
    {
      "cell_type": "markdown",
      "metadata": {
        "id": "ezJbAZY1w3Q7"
      },
      "source": [
        "Para modelar nos apoyaremos de la libreria de gensim la cual nos permite de igual forma tokenizar los datos y a su vez limpiarlos y esto nos sirve para encontar temas en los textos que tenemos."
      ]
    },
    {
      "cell_type": "code",
      "metadata": {
        "id": "kbY5akHziSSY"
      },
      "source": [
        "import gensim"
      ],
      "execution_count": null,
      "outputs": []
    },
    {
      "cell_type": "code",
      "metadata": {
        "id": "fkcdOphQiUNB"
      },
      "source": [
        "noticias_1_limpios_token = [word_tokenize(texto) for texto in noticias_1_limpios]\n",
        "corpus = gensim.corpora.Dictionary(noticias_1_limpios_token)"
      ],
      "execution_count": null,
      "outputs": []
    },
    {
      "cell_type": "code",
      "metadata": {
        "colab": {
          "base_uri": "https://localhost:8080/"
        },
        "id": "vOzBMj6NxEaR",
        "outputId": "d07de393-844a-48d0-82ed-6ba701171b45"
      },
      "source": [
        "noticias_1_limpios_token"
      ],
      "execution_count": null,
      "outputs": [
        {
          "output_type": "execute_result",
          "data": {
            "text/plain": [
              "[['gemelos',\n",
              "  'bogdanov',\n",
              "  'populares',\n",
              "  'meme',\n",
              "  'manipulación',\n",
              "  'precio',\n",
              "  'aseguran',\n",
              "  'ayudaron',\n",
              "  'satoshi',\n",
              "  'nakamoto',\n",
              "  'crear',\n",
              "  'bitcoin'],\n",
              " ['mundo',\n",
              "  'cambiante',\n",
              "  'ahora',\n",
              "  'posible',\n",
              "  'gracias',\n",
              "  'tecnología',\n",
              "  'blockchain',\n",
              "  'mujeres',\n",
              "  'puedan',\n",
              "  'lograr',\n",
              "  'libertad',\n",
              "  'financiera'],\n",
              " ['paraguay',\n",
              "  'podría',\n",
              "  'iniciando',\n",
              "  'camino',\n",
              "  'adopción',\n",
              "  'definitiva',\n",
              "  'criptomonedas',\n",
              "  'próximos',\n",
              "  'días',\n",
              "  'entérate',\n",
              "  'tweet',\n",
              "  'día'],\n",
              " ['ballenas',\n",
              "  'bitcoin',\n",
              "  'movilizaron',\n",
              "  'btc',\n",
              "  'semana',\n",
              "  'pasada',\n",
              "  'quiere',\n",
              "  'decir',\n",
              "  'forma',\n",
              "  'tendencia',\n",
              "  'bajista',\n",
              "  'mes',\n",
              "  'veamos'],\n",
              " ['edición',\n",
              "  'resumen',\n",
              "  'semanal',\n",
              "  'presentan',\n",
              "  'noticias',\n",
              "  'relacionadas',\n",
              "  'minería',\n",
              "  'bitcoin',\n",
              "  'destacadas',\n",
              "  'cargadas',\n",
              "  'polémica'],\n",
              " ['precio',\n",
              "  'bitcoin',\n",
              "  'continúa',\n",
              "  'lateralizado',\n",
              "  'envuelto',\n",
              "  'comportamiento',\n",
              "  'volátil',\n",
              "  'acá',\n",
              "  'análisis',\n",
              "  'situación',\n",
              "  'actual'],\n",
              " ['casa',\n",
              "  'subasta',\n",
              "  'sotheby',\n",
              "  's',\n",
              "  'vende',\n",
              "  'diamante',\n",
              "  'quilates',\n",
              "  'millones',\n",
              "  'criptomonedas',\n",
              "  'contamos',\n",
              "  'detalles']]"
            ]
          },
          "metadata": {
            "tags": []
          },
          "execution_count": 168
        }
      ]
    },
    {
      "cell_type": "code",
      "metadata": {
        "id": "3SiddWaTik_W"
      },
      "source": [
        "bow_corpus = [corpus.doc2bow(texto) for texto in noticias_1_limpios_token]"
      ],
      "execution_count": null,
      "outputs": []
    },
    {
      "cell_type": "markdown",
      "metadata": {
        "id": "4n0SbYAplEIr"
      },
      "source": [
        "Hallaremos cuantos topicos o temas debemos utilizar en nuestro modelo para nustro hiperparametro \"num_topics\" todo esto utilizando la coherencia del texto, para eso utilizaremos CoherenceModel."
      ]
    },
    {
      "cell_type": "code",
      "metadata": {
        "id": "f5aEDkpsjtGs"
      },
      "source": [
        "from gensim.models import CoherenceModel\n",
        "\n",
        "coherencia = {}\n",
        "\n",
        "for i in range(2,20):\n",
        "  lda_model = gensim.models.LdaMulticore(bow_corpus, num_topics=i, id2word=corpus)\n",
        "  coherence_model_lda = CoherenceModel(model=lda_model, texts=noticias_1_limpios_token, dictionary=corpus, coherence='c_v')\n",
        "  coherencia[i] = coherence_model_lda.get_coherence()"
      ],
      "execution_count": null,
      "outputs": []
    },
    {
      "cell_type": "code",
      "metadata": {
        "colab": {
          "base_uri": "https://localhost:8080/"
        },
        "id": "OwnYUrwyka9I",
        "outputId": "6a42a937-0267-4cc1-f881-534880587bb5"
      },
      "source": [
        "coherencia"
      ],
      "execution_count": null,
      "outputs": [
        {
          "output_type": "execute_result",
          "data": {
            "text/plain": [
              "{2: 0.20834380324064852,\n",
              " 3: 0.26040761944637975,\n",
              " 4: 0.2762763533722795,\n",
              " 5: 0.299918934471627,\n",
              " 6: 0.20270392055687872,\n",
              " 7: 0.4431474006852459,\n",
              " 8: 0.439312548499026,\n",
              " 9: 0.41449156026434253,\n",
              " 10: 0.46643990859642176,\n",
              " 11: 0.45517359278666353,\n",
              " 12: 0.4741192711492765,\n",
              " 13: 0.48698457012155444,\n",
              " 14: 0.48530366730163677,\n",
              " 15: 0.48600983358963457,\n",
              " 16: 0.32497322247861155,\n",
              " 17: 0.279209352336224,\n",
              " 18: 0.2826057904627746,\n",
              " 19: 0.280126185388148}"
            ]
          },
          "metadata": {
            "tags": []
          },
          "execution_count": 159
        }
      ]
    },
    {
      "cell_type": "code",
      "metadata": {
        "colab": {
          "base_uri": "https://localhost:8080/",
          "height": 286
        },
        "id": "UFJzrGixu9Wh",
        "outputId": "3e9ddfb1-cb6a-42c7-afda-026b10c6746f"
      },
      "source": [
        "import matplotlib.pyplot as plt\n",
        "X = [i for i in coherencia.keys()]\n",
        "y= [i for i in coherencia.values()]\n",
        "plt.axvline(X[y.index(max(y))])\n",
        "plt.plot(X,y)"
      ],
      "execution_count": null,
      "outputs": [
        {
          "output_type": "execute_result",
          "data": {
            "text/plain": [
              "[<matplotlib.lines.Line2D at 0x7f02789b31d0>]"
            ]
          },
          "metadata": {
            "tags": []
          },
          "execution_count": 164
        },
        {
          "output_type": "display_data",
          "data": {
            "image/png": "[encoded data removed]",
            "text/plain": [
              "<Figure size 432x288 with 1 Axes>"
            ]
          },
          "metadata": {
            "tags": [],
            "needs_background": "light"
          }
        }
      ]
    },
    {
      "cell_type": "markdown",
      "metadata": {
        "id": "nrUQ2TZBlgNQ"
      },
      "source": [
        "En este caso nuestro modelo nos indica que en el nivel maximo de coherencia es cuando utilizamos 13 topicos. "
      ]
    },
    {
      "cell_type": "code",
      "metadata": {
        "id": "xbCrat1_lSp4"
      },
      "source": [
        "lda_model = gensim.models.LdaMulticore(bow_corpus, num_topics=13, id2word=corpus)"
      ],
      "execution_count": null,
      "outputs": []
    },
    {
      "cell_type": "code",
      "metadata": {
        "colab": {
          "base_uri": "https://localhost:8080/"
        },
        "id": "dF4y4_xPlx5y",
        "outputId": "5380b471-68a2-4841-9c19-f99560f16625"
      },
      "source": [
        "lda_model"
      ],
      "execution_count": null,
      "outputs": [
        {
          "output_type": "execute_result",
          "data": {
            "text/plain": [
              "<gensim.models.ldamulticore.LdaMulticore at 0x7f0280a813d0>"
            ]
          },
          "metadata": {
            "tags": []
          },
          "execution_count": 161
        }
      ]
    },
    {
      "cell_type": "code",
      "metadata": {
        "colab": {
          "base_uri": "https://localhost:8080/"
        },
        "id": "bhPKY6Uoly0f",
        "outputId": "5aa12df1-88e3-4b42-d1b5-669dee8f1342"
      },
      "source": [
        "for idx, topic in lda_model.print_topics(): \n",
        "  print('Topic:{}\\nWords:{}'.format(idx, topic))"
      ],
      "execution_count": null,
      "outputs": [
        {
          "output_type": "stream",
          "text": [
            "Topic:0\n",
            "Words:0.013*\"bitcoin\" + 0.013*\"diamante\" + 0.013*\"situación\" + 0.013*\"cargadas\" + 0.013*\"criptomonedas\" + 0.013*\"subasta\" + 0.013*\"actual\" + 0.013*\"precio\" + 0.013*\"ahora\" + 0.013*\"minería\"\n",
            "Topic:1\n",
            "Words:0.057*\"bitcoin\" + 0.057*\"bajista\" + 0.057*\"pasada\" + 0.057*\"tendencia\" + 0.057*\"mes\" + 0.057*\"forma\" + 0.057*\"quiere\" + 0.057*\"btc\" + 0.057*\"movilizaron\" + 0.057*\"decir\"\n",
            "Topic:2\n",
            "Words:0.013*\"bitcoin\" + 0.013*\"criptomonedas\" + 0.013*\"precio\" + 0.013*\"semana\" + 0.013*\"meme\" + 0.013*\"resumen\" + 0.013*\"millones\" + 0.013*\"ballenas\" + 0.013*\"diamante\" + 0.013*\"blockchain\"\n",
            "Topic:3\n",
            "Words:0.013*\"bitcoin\" + 0.013*\"precio\" + 0.013*\"vende\" + 0.013*\"actual\" + 0.013*\"criptomonedas\" + 0.013*\"iniciando\" + 0.013*\"próximos\" + 0.013*\"presentan\" + 0.013*\"gemelos\" + 0.013*\"polémica\"\n",
            "Topic:4\n",
            "Words:0.060*\"precio\" + 0.060*\"manipulación\" + 0.060*\"crear\" + 0.060*\"satoshi\" + 0.060*\"bogdanov\" + 0.060*\"ayudaron\" + 0.060*\"aseguran\" + 0.060*\"gemelos\" + 0.060*\"nakamoto\" + 0.060*\"bitcoin\"\n",
            "Topic:5\n",
            "Words:0.060*\"lograr\" + 0.060*\"mujeres\" + 0.060*\"libertad\" + 0.060*\"tecnología\" + 0.060*\"mundo\" + 0.060*\"posible\" + 0.060*\"financiera\" + 0.060*\"blockchain\" + 0.060*\"puedan\" + 0.060*\"cambiante\"\n",
            "Topic:6\n",
            "Words:0.060*\"paraguay\" + 0.060*\"podría\" + 0.060*\"días\" + 0.060*\"camino\" + 0.060*\"definitiva\" + 0.060*\"criptomonedas\" + 0.060*\"próximos\" + 0.060*\"entérate\" + 0.060*\"tweet\" + 0.060*\"día\"\n",
            "Topic:7\n",
            "Words:0.013*\"bitcoin\" + 0.013*\"precio\" + 0.013*\"criptomonedas\" + 0.013*\"diamante\" + 0.013*\"situación\" + 0.013*\"cargadas\" + 0.013*\"financiera\" + 0.013*\"cambiante\" + 0.013*\"adopción\" + 0.013*\"actual\"\n",
            "Topic:8\n",
            "Words:0.064*\"continúa\" + 0.064*\"lateralizado\" + 0.064*\"envuelto\" + 0.064*\"análisis\" + 0.064*\"acá\" + 0.064*\"volátil\" + 0.064*\"precio\" + 0.064*\"comportamiento\" + 0.064*\"situación\" + 0.064*\"actual\"\n",
            "Topic:9\n",
            "Words:0.013*\"bitcoin\" + 0.013*\"criptomonedas\" + 0.013*\"precio\" + 0.013*\"diamante\" + 0.013*\"vende\" + 0.013*\"movilizaron\" + 0.013*\"próximos\" + 0.013*\"cargadas\" + 0.013*\"tweet\" + 0.013*\"resumen\"\n",
            "Topic:10\n",
            "Words:0.064*\"relacionadas\" + 0.064*\"bitcoin\" + 0.064*\"semanal\" + 0.064*\"destacadas\" + 0.064*\"noticias\" + 0.064*\"minería\" + 0.064*\"edición\" + 0.064*\"presentan\" + 0.064*\"polémica\" + 0.064*\"cargadas\"\n",
            "Topic:11\n",
            "Words:0.064*\"sotheby\" + 0.064*\"contamos\" + 0.064*\"criptomonedas\" + 0.064*\"casa\" + 0.064*\"detalles\" + 0.064*\"s\" + 0.064*\"quilates\" + 0.064*\"subasta\" + 0.064*\"millones\" + 0.064*\"vende\"\n",
            "Topic:12\n",
            "Words:0.013*\"bitcoin\" + 0.013*\"precio\" + 0.013*\"adopción\" + 0.013*\"cargadas\" + 0.013*\"puedan\" + 0.013*\"polémica\" + 0.013*\"meme\" + 0.013*\"diamante\" + 0.013*\"minería\" + 0.013*\"veamos\"\n"
          ],
          "name": "stdout"
        }
      ]
    },
    {
      "cell_type": "markdown",
      "metadata": {
        "id": "U2aD6oEtrxVB"
      },
      "source": [
        "Para finalizar podemos ver que el mayor tema nace con Bitcoin y esto en gran parte se debe a que el portal de noticias abarca el tema de las criptomonedas y el Bitcoin es la principal, tenemos otros tenemos como precio, criptomonedas manipulacion entre otras palabras que estan relacionados en los textos. "
      ]
    }
  ]
}
